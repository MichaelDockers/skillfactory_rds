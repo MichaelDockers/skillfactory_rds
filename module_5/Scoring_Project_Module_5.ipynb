{
 "cells": [
  {
   "cell_type": "markdown",
   "id": "e88e66c1",
   "metadata": {},
   "source": [
    "## Import modules"
   ]
  },
  {
   "cell_type": "code",
   "execution_count": 1,
   "id": "14c09bfe",
   "metadata": {},
   "outputs": [],
   "source": [
    "import pandas as pd\n",
    "import numpy as np\n",
    "import seaborn as sns\n",
    "import matplotlib.pyplot as plt\n",
    "from sklearn.preprocessing import LabelEncoder\n"
   ]
  },
  {
   "cell_type": "markdown",
   "id": "37dfef0b",
   "metadata": {},
   "source": [
    "## Reading dataset"
   ]
  },
  {
   "cell_type": "code",
   "execution_count": 2,
   "id": "b16c2873",
   "metadata": {},
   "outputs": [],
   "source": [
    "df_train = pd.read_csv('train.csv')\n",
    "df_test = pd.read_csv('test.csv')\n",
    "sample_submission = pd.read_csv('sample_submission.csv')"
   ]
  },
  {
   "cell_type": "markdown",
   "id": "95b5be96",
   "metadata": {},
   "source": [
    "### Dataset description\n",
    "\n",
    "client_id - идентификатор клиента  \n",
    "education - уровень образования  \n",
    "sex - пол заемщика  \n",
    "age - возраст заемщика  \n",
    "car - флаг наличия автомобиля  \n",
    "car_type - флаг автомобиля иномарки  \n",
    "decline_app_cnt - количество отказанных прошлых заявок  \n",
    "good_work - флаг наличия “хорошей” работы  \n",
    "bki_request_cnt - количество запросов в БКИ  \n",
    "home_address - категоризатор домашнего адреса  \n",
    "work_address - категоризатор рабочего адреса  \n",
    "income - доход заемщика  \n",
    "foreign_passport - наличие загранпаспорта  \n",
    "sna - связь заемщика с клиентами банка  \n",
    "first_time - давность наличия информации о заемщике  \n",
    "score_bki - скоринговый балл по данным из БКИ  \n",
    "region_rating - рейтинг региона  \n",
    "app_date - дата подачи заявки  \n",
    "default - флаг дефолта по кредиту"
   ]
  },
  {
   "cell_type": "code",
   "execution_count": 3,
   "id": "1b90baef",
   "metadata": {},
   "outputs": [],
   "source": [
    "df_train['sample'] = 1\n",
    "df_test['sample'] = 0\n",
    "df_test['default'] = 0\n",
    "data = df_test.append(df_train, sort=False).reset_index(drop=True)"
   ]
  },
  {
   "cell_type": "code",
   "execution_count": 4,
   "id": "15025a4d",
   "metadata": {},
   "outputs": [
    {
     "name": "stdout",
     "output_type": "stream",
     "text": [
      "<class 'pandas.core.frame.DataFrame'>\n",
      "Int64Index: 73799 entries, 36349 to 110147\n",
      "Data columns (total 20 columns):\n",
      " #   Column            Non-Null Count  Dtype  \n",
      "---  ------            --------------  -----  \n",
      " 0   client_id         73799 non-null  int64  \n",
      " 1   app_date          73799 non-null  object \n",
      " 2   education         73492 non-null  object \n",
      " 3   sex               73799 non-null  object \n",
      " 4   age               73799 non-null  int64  \n",
      " 5   car               73799 non-null  object \n",
      " 6   car_type          73799 non-null  object \n",
      " 7   decline_app_cnt   73799 non-null  int64  \n",
      " 8   good_work         73799 non-null  int64  \n",
      " 9   score_bki         73799 non-null  float64\n",
      " 10  bki_request_cnt   73799 non-null  int64  \n",
      " 11  region_rating     73799 non-null  int64  \n",
      " 12  home_address      73799 non-null  int64  \n",
      " 13  work_address      73799 non-null  int64  \n",
      " 14  income            73799 non-null  int64  \n",
      " 15  sna               73799 non-null  int64  \n",
      " 16  first_time        73799 non-null  int64  \n",
      " 17  foreign_passport  73799 non-null  object \n",
      " 18  sample            73799 non-null  int64  \n",
      " 19  default           73799 non-null  int64  \n",
      "dtypes: float64(1), int64(13), object(6)\n",
      "memory usage: 11.8+ MB\n"
     ]
    }
   ],
   "source": [
    "data[data['sample'] == 1].info()"
   ]
  },
  {
   "cell_type": "code",
   "execution_count": 5,
   "id": "97338763",
   "metadata": {},
   "outputs": [
    {
     "data": {
      "text/plain": [
       "client_id           73799\n",
       "app_date              120\n",
       "education               5\n",
       "sex                     2\n",
       "age                    52\n",
       "car                     2\n",
       "car_type                2\n",
       "decline_app_cnt        21\n",
       "good_work               2\n",
       "score_bki           69096\n",
       "bki_request_cnt        38\n",
       "region_rating           7\n",
       "home_address            3\n",
       "work_address            3\n",
       "income                966\n",
       "sna                     4\n",
       "first_time              4\n",
       "foreign_passport        2\n",
       "sample                  1\n",
       "default                 2\n",
       "dtype: int64"
      ]
     },
     "execution_count": 5,
     "metadata": {},
     "output_type": "execute_result"
    }
   ],
   "source": [
    "# Unique data by columns\n",
    "\n",
    "data[data['sample'] == 1].nunique()"
   ]
  },
  {
   "cell_type": "code",
   "execution_count": 6,
   "id": "289888b3",
   "metadata": {},
   "outputs": [
    {
     "data": {
      "text/plain": [
       "client_id             0\n",
       "app_date              0\n",
       "education           307\n",
       "sex                   0\n",
       "age                   0\n",
       "car                   0\n",
       "car_type              0\n",
       "decline_app_cnt       0\n",
       "good_work             0\n",
       "score_bki             0\n",
       "bki_request_cnt       0\n",
       "region_rating         0\n",
       "home_address          0\n",
       "work_address          0\n",
       "income                0\n",
       "sna                   0\n",
       "first_time            0\n",
       "foreign_passport      0\n",
       "sample                0\n",
       "default               0\n",
       "dtype: int64"
      ]
     },
     "execution_count": 6,
     "metadata": {},
     "output_type": "execute_result"
    }
   ],
   "source": [
    "# Empty cells by columns\n",
    "\n",
    "data[data['sample'] == 1].isna().sum()"
   ]
  },
  {
   "cell_type": "code",
   "execution_count": 7,
   "id": "2f88fb69",
   "metadata": {},
   "outputs": [
    {
     "data": {
      "text/html": [
       "<div>\n",
       "<style scoped>\n",
       "    .dataframe tbody tr th:only-of-type {\n",
       "        vertical-align: middle;\n",
       "    }\n",
       "\n",
       "    .dataframe tbody tr th {\n",
       "        vertical-align: top;\n",
       "    }\n",
       "\n",
       "    .dataframe thead th {\n",
       "        text-align: right;\n",
       "    }\n",
       "</style>\n",
       "<table border=\"1\" class=\"dataframe\">\n",
       "  <thead>\n",
       "    <tr style=\"text-align: right;\">\n",
       "      <th></th>\n",
       "      <th>client_id</th>\n",
       "      <th>age</th>\n",
       "      <th>decline_app_cnt</th>\n",
       "      <th>good_work</th>\n",
       "      <th>score_bki</th>\n",
       "      <th>bki_request_cnt</th>\n",
       "      <th>region_rating</th>\n",
       "      <th>home_address</th>\n",
       "      <th>work_address</th>\n",
       "      <th>income</th>\n",
       "      <th>sna</th>\n",
       "      <th>first_time</th>\n",
       "      <th>sample</th>\n",
       "      <th>default</th>\n",
       "    </tr>\n",
       "  </thead>\n",
       "  <tbody>\n",
       "    <tr>\n",
       "      <th>count</th>\n",
       "      <td>73799.000000</td>\n",
       "      <td>73799.000000</td>\n",
       "      <td>73799.000000</td>\n",
       "      <td>73799.000000</td>\n",
       "      <td>73799.000000</td>\n",
       "      <td>73799.000000</td>\n",
       "      <td>73799.000000</td>\n",
       "      <td>73799.000000</td>\n",
       "      <td>73799.000000</td>\n",
       "      <td>73799.000000</td>\n",
       "      <td>73799.000000</td>\n",
       "      <td>73799.000000</td>\n",
       "      <td>73799.0</td>\n",
       "      <td>73799.000000</td>\n",
       "    </tr>\n",
       "    <tr>\n",
       "      <th>mean</th>\n",
       "      <td>55137.965094</td>\n",
       "      <td>39.280641</td>\n",
       "      <td>0.275749</td>\n",
       "      <td>0.164894</td>\n",
       "      <td>-1.904724</td>\n",
       "      <td>2.000339</td>\n",
       "      <td>56.725701</td>\n",
       "      <td>1.575509</td>\n",
       "      <td>2.496280</td>\n",
       "      <td>41099.775417</td>\n",
       "      <td>1.733330</td>\n",
       "      <td>2.765458</td>\n",
       "      <td>1.0</td>\n",
       "      <td>0.126994</td>\n",
       "    </tr>\n",
       "    <tr>\n",
       "      <th>std</th>\n",
       "      <td>31841.921168</td>\n",
       "      <td>11.520378</td>\n",
       "      <td>0.804272</td>\n",
       "      <td>0.371087</td>\n",
       "      <td>0.498231</td>\n",
       "      <td>2.252073</td>\n",
       "      <td>13.055717</td>\n",
       "      <td>0.527631</td>\n",
       "      <td>0.689818</td>\n",
       "      <td>46166.322400</td>\n",
       "      <td>1.123622</td>\n",
       "      <td>1.009463</td>\n",
       "      <td>0.0</td>\n",
       "      <td>0.332968</td>\n",
       "    </tr>\n",
       "    <tr>\n",
       "      <th>min</th>\n",
       "      <td>1.000000</td>\n",
       "      <td>21.000000</td>\n",
       "      <td>0.000000</td>\n",
       "      <td>0.000000</td>\n",
       "      <td>-3.624586</td>\n",
       "      <td>0.000000</td>\n",
       "      <td>20.000000</td>\n",
       "      <td>1.000000</td>\n",
       "      <td>1.000000</td>\n",
       "      <td>1000.000000</td>\n",
       "      <td>1.000000</td>\n",
       "      <td>1.000000</td>\n",
       "      <td>1.0</td>\n",
       "      <td>0.000000</td>\n",
       "    </tr>\n",
       "    <tr>\n",
       "      <th>25%</th>\n",
       "      <td>27440.500000</td>\n",
       "      <td>30.000000</td>\n",
       "      <td>0.000000</td>\n",
       "      <td>0.000000</td>\n",
       "      <td>-2.259534</td>\n",
       "      <td>0.000000</td>\n",
       "      <td>50.000000</td>\n",
       "      <td>1.000000</td>\n",
       "      <td>2.000000</td>\n",
       "      <td>20000.000000</td>\n",
       "      <td>1.000000</td>\n",
       "      <td>2.000000</td>\n",
       "      <td>1.0</td>\n",
       "      <td>0.000000</td>\n",
       "    </tr>\n",
       "    <tr>\n",
       "      <th>50%</th>\n",
       "      <td>55274.000000</td>\n",
       "      <td>37.000000</td>\n",
       "      <td>0.000000</td>\n",
       "      <td>0.000000</td>\n",
       "      <td>-1.920823</td>\n",
       "      <td>1.000000</td>\n",
       "      <td>50.000000</td>\n",
       "      <td>2.000000</td>\n",
       "      <td>3.000000</td>\n",
       "      <td>30000.000000</td>\n",
       "      <td>1.000000</td>\n",
       "      <td>3.000000</td>\n",
       "      <td>1.0</td>\n",
       "      <td>0.000000</td>\n",
       "    </tr>\n",
       "    <tr>\n",
       "      <th>75%</th>\n",
       "      <td>82758.500000</td>\n",
       "      <td>48.000000</td>\n",
       "      <td>0.000000</td>\n",
       "      <td>0.000000</td>\n",
       "      <td>-1.569831</td>\n",
       "      <td>3.000000</td>\n",
       "      <td>60.000000</td>\n",
       "      <td>2.000000</td>\n",
       "      <td>3.000000</td>\n",
       "      <td>48000.000000</td>\n",
       "      <td>2.000000</td>\n",
       "      <td>4.000000</td>\n",
       "      <td>1.0</td>\n",
       "      <td>0.000000</td>\n",
       "    </tr>\n",
       "    <tr>\n",
       "      <th>max</th>\n",
       "      <td>110147.000000</td>\n",
       "      <td>72.000000</td>\n",
       "      <td>33.000000</td>\n",
       "      <td>1.000000</td>\n",
       "      <td>0.199773</td>\n",
       "      <td>53.000000</td>\n",
       "      <td>80.000000</td>\n",
       "      <td>3.000000</td>\n",
       "      <td>3.000000</td>\n",
       "      <td>1000000.000000</td>\n",
       "      <td>4.000000</td>\n",
       "      <td>4.000000</td>\n",
       "      <td>1.0</td>\n",
       "      <td>1.000000</td>\n",
       "    </tr>\n",
       "  </tbody>\n",
       "</table>\n",
       "</div>"
      ],
      "text/plain": [
       "           client_id           age  decline_app_cnt     good_work  \\\n",
       "count   73799.000000  73799.000000     73799.000000  73799.000000   \n",
       "mean    55137.965094     39.280641         0.275749      0.164894   \n",
       "std     31841.921168     11.520378         0.804272      0.371087   \n",
       "min         1.000000     21.000000         0.000000      0.000000   \n",
       "25%     27440.500000     30.000000         0.000000      0.000000   \n",
       "50%     55274.000000     37.000000         0.000000      0.000000   \n",
       "75%     82758.500000     48.000000         0.000000      0.000000   \n",
       "max    110147.000000     72.000000        33.000000      1.000000   \n",
       "\n",
       "          score_bki  bki_request_cnt  region_rating  home_address  \\\n",
       "count  73799.000000     73799.000000   73799.000000  73799.000000   \n",
       "mean      -1.904724         2.000339      56.725701      1.575509   \n",
       "std        0.498231         2.252073      13.055717      0.527631   \n",
       "min       -3.624586         0.000000      20.000000      1.000000   \n",
       "25%       -2.259534         0.000000      50.000000      1.000000   \n",
       "50%       -1.920823         1.000000      50.000000      2.000000   \n",
       "75%       -1.569831         3.000000      60.000000      2.000000   \n",
       "max        0.199773        53.000000      80.000000      3.000000   \n",
       "\n",
       "       work_address          income           sna    first_time   sample  \\\n",
       "count  73799.000000    73799.000000  73799.000000  73799.000000  73799.0   \n",
       "mean       2.496280    41099.775417      1.733330      2.765458      1.0   \n",
       "std        0.689818    46166.322400      1.123622      1.009463      0.0   \n",
       "min        1.000000     1000.000000      1.000000      1.000000      1.0   \n",
       "25%        2.000000    20000.000000      1.000000      2.000000      1.0   \n",
       "50%        3.000000    30000.000000      1.000000      3.000000      1.0   \n",
       "75%        3.000000    48000.000000      2.000000      4.000000      1.0   \n",
       "max        3.000000  1000000.000000      4.000000      4.000000      1.0   \n",
       "\n",
       "            default  \n",
       "count  73799.000000  \n",
       "mean       0.126994  \n",
       "std        0.332968  \n",
       "min        0.000000  \n",
       "25%        0.000000  \n",
       "50%        0.000000  \n",
       "75%        0.000000  \n",
       "max        1.000000  "
      ]
     },
     "execution_count": 7,
     "metadata": {},
     "output_type": "execute_result"
    }
   ],
   "source": [
    "# Main metrics of dataset\n",
    "\n",
    "data[data['sample'] == 1].describe()"
   ]
  },
  {
   "cell_type": "code",
   "execution_count": 8,
   "id": "145fd5c0",
   "metadata": {},
   "outputs": [
    {
     "data": {
      "text/html": [
       "<div>\n",
       "<style scoped>\n",
       "    .dataframe tbody tr th:only-of-type {\n",
       "        vertical-align: middle;\n",
       "    }\n",
       "\n",
       "    .dataframe tbody tr th {\n",
       "        vertical-align: top;\n",
       "    }\n",
       "\n",
       "    .dataframe thead th {\n",
       "        text-align: right;\n",
       "    }\n",
       "</style>\n",
       "<table border=\"1\" class=\"dataframe\">\n",
       "  <thead>\n",
       "    <tr style=\"text-align: right;\">\n",
       "      <th></th>\n",
       "      <th>client_id</th>\n",
       "      <th>app_date</th>\n",
       "      <th>education</th>\n",
       "      <th>sex</th>\n",
       "      <th>age</th>\n",
       "      <th>car</th>\n",
       "      <th>car_type</th>\n",
       "      <th>decline_app_cnt</th>\n",
       "      <th>good_work</th>\n",
       "      <th>score_bki</th>\n",
       "      <th>bki_request_cnt</th>\n",
       "      <th>region_rating</th>\n",
       "      <th>home_address</th>\n",
       "      <th>work_address</th>\n",
       "      <th>income</th>\n",
       "      <th>sna</th>\n",
       "      <th>first_time</th>\n",
       "      <th>foreign_passport</th>\n",
       "      <th>sample</th>\n",
       "      <th>default</th>\n",
       "    </tr>\n",
       "  </thead>\n",
       "  <tbody>\n",
       "    <tr>\n",
       "      <th>468</th>\n",
       "      <td>21274</td>\n",
       "      <td>28JAN2014</td>\n",
       "      <td>SCH</td>\n",
       "      <td>F</td>\n",
       "      <td>62</td>\n",
       "      <td>N</td>\n",
       "      <td>N</td>\n",
       "      <td>0</td>\n",
       "      <td>0</td>\n",
       "      <td>-3.029282</td>\n",
       "      <td>0</td>\n",
       "      <td>40</td>\n",
       "      <td>2</td>\n",
       "      <td>3</td>\n",
       "      <td>7000</td>\n",
       "      <td>4</td>\n",
       "      <td>2</td>\n",
       "      <td>N</td>\n",
       "      <td>0</td>\n",
       "      <td>0</td>\n",
       "    </tr>\n",
       "    <tr>\n",
       "      <th>22361</th>\n",
       "      <td>6690</td>\n",
       "      <td>14JAN2014</td>\n",
       "      <td>UGR</td>\n",
       "      <td>F</td>\n",
       "      <td>41</td>\n",
       "      <td>Y</td>\n",
       "      <td>N</td>\n",
       "      <td>0</td>\n",
       "      <td>1</td>\n",
       "      <td>-0.870397</td>\n",
       "      <td>4</td>\n",
       "      <td>60</td>\n",
       "      <td>2</td>\n",
       "      <td>3</td>\n",
       "      <td>30000</td>\n",
       "      <td>1</td>\n",
       "      <td>3</td>\n",
       "      <td>N</td>\n",
       "      <td>0</td>\n",
       "      <td>0</td>\n",
       "    </tr>\n",
       "    <tr>\n",
       "      <th>62468</th>\n",
       "      <td>2419</td>\n",
       "      <td>08JAN2014</td>\n",
       "      <td>GRD</td>\n",
       "      <td>M</td>\n",
       "      <td>49</td>\n",
       "      <td>Y</td>\n",
       "      <td>Y</td>\n",
       "      <td>0</td>\n",
       "      <td>0</td>\n",
       "      <td>-1.955251</td>\n",
       "      <td>1</td>\n",
       "      <td>40</td>\n",
       "      <td>1</td>\n",
       "      <td>1</td>\n",
       "      <td>80000</td>\n",
       "      <td>1</td>\n",
       "      <td>3</td>\n",
       "      <td>Y</td>\n",
       "      <td>1</td>\n",
       "      <td>0</td>\n",
       "    </tr>\n",
       "    <tr>\n",
       "      <th>64088</th>\n",
       "      <td>53036</td>\n",
       "      <td>01MAR2014</td>\n",
       "      <td>SCH</td>\n",
       "      <td>F</td>\n",
       "      <td>51</td>\n",
       "      <td>N</td>\n",
       "      <td>N</td>\n",
       "      <td>0</td>\n",
       "      <td>0</td>\n",
       "      <td>-1.185729</td>\n",
       "      <td>2</td>\n",
       "      <td>60</td>\n",
       "      <td>2</td>\n",
       "      <td>3</td>\n",
       "      <td>20000</td>\n",
       "      <td>1</td>\n",
       "      <td>3</td>\n",
       "      <td>N</td>\n",
       "      <td>1</td>\n",
       "      <td>0</td>\n",
       "    </tr>\n",
       "    <tr>\n",
       "      <th>84983</th>\n",
       "      <td>98275</td>\n",
       "      <td>15APR2014</td>\n",
       "      <td>GRD</td>\n",
       "      <td>M</td>\n",
       "      <td>40</td>\n",
       "      <td>Y</td>\n",
       "      <td>Y</td>\n",
       "      <td>0</td>\n",
       "      <td>0</td>\n",
       "      <td>-0.931182</td>\n",
       "      <td>2</td>\n",
       "      <td>40</td>\n",
       "      <td>2</td>\n",
       "      <td>3</td>\n",
       "      <td>250000</td>\n",
       "      <td>4</td>\n",
       "      <td>2</td>\n",
       "      <td>N</td>\n",
       "      <td>1</td>\n",
       "      <td>1</td>\n",
       "    </tr>\n",
       "  </tbody>\n",
       "</table>\n",
       "</div>"
      ],
      "text/plain": [
       "       client_id   app_date education sex  age car car_type  decline_app_cnt  \\\n",
       "468        21274  28JAN2014       SCH   F   62   N        N                0   \n",
       "22361       6690  14JAN2014       UGR   F   41   Y        N                0   \n",
       "62468       2419  08JAN2014       GRD   M   49   Y        Y                0   \n",
       "64088      53036  01MAR2014       SCH   F   51   N        N                0   \n",
       "84983      98275  15APR2014       GRD   M   40   Y        Y                0   \n",
       "\n",
       "       good_work  score_bki  bki_request_cnt  region_rating  home_address  \\\n",
       "468            0  -3.029282                0             40             2   \n",
       "22361          1  -0.870397                4             60             2   \n",
       "62468          0  -1.955251                1             40             1   \n",
       "64088          0  -1.185729                2             60             2   \n",
       "84983          0  -0.931182                2             40             2   \n",
       "\n",
       "       work_address  income  sna  first_time foreign_passport  sample  default  \n",
       "468               3    7000    4           2                N       0        0  \n",
       "22361             3   30000    1           3                N       0        0  \n",
       "62468             1   80000    1           3                Y       1        0  \n",
       "64088             3   20000    1           3                N       1        0  \n",
       "84983             3  250000    4           2                N       1        1  "
      ]
     },
     "execution_count": 8,
     "metadata": {},
     "output_type": "execute_result"
    }
   ],
   "source": [
    "data.sample(5)"
   ]
  },
  {
   "cell_type": "markdown",
   "id": "06970a18",
   "metadata": {},
   "source": [
    "## Function list"
   ]
  },
  {
   "cell_type": "code",
   "execution_count": 9,
   "id": "ffab2a36",
   "metadata": {},
   "outputs": [],
   "source": [
    "def outliers(col, col_name):\n",
    "    Q1 = col.quantile(0.25)\n",
    "    Q3 = col.quantile(0.75)\n",
    "    IQR = Q3 - Q1\n",
    "    outliers_count = pd.DataFrame(col[((col < (Q1 - 1.5 * IQR)) | (col > (Q3 + 1.5 * IQR)))]).count()\n",
    "    print(f'In column {outliers_count.index[0]} {outliers_count[0]} ouliers')\n",
    "\n",
    "\n",
    "def percent_of_target(col1, col2):\n",
    "    display(pd.crosstab(col1, col2, normalize='index'))"
   ]
  },
  {
   "cell_type": "markdown",
   "id": "7fe07862",
   "metadata": {},
   "source": [
    "### Setup"
   ]
  },
  {
   "cell_type": "code",
   "execution_count": 40,
   "id": "50c0e931",
   "metadata": {},
   "outputs": [],
   "source": [
    "num_cols = ['age', 'score_bki', 'decline_app_cnt', 'bki_request_cnt', 'income']\n",
    "cat_cols = ['education', 'first_time', 'sna', 'work_address', 'home_address', 'region_rating']\n",
    "bin_cols = ['sex', 'car', 'car_type', 'good_work', 'foreign_passport']\n",
    "le = LabelEncoder()"
   ]
  },
  {
   "cell_type": "markdown",
   "id": "fae33a0a",
   "metadata": {},
   "source": [
    "### Numerical columns"
   ]
  },
  {
   "cell_type": "markdown",
   "id": "1ff18e47",
   "metadata": {},
   "source": [
    "#### Age"
   ]
  },
  {
   "cell_type": "markdown",
   "id": "132d8a32",
   "metadata": {},
   "source": [
    "This column doen't have NaN. So, let's look at outliers and distribution by Default."
   ]
  },
  {
   "cell_type": "code",
   "execution_count": 11,
   "id": "6b04f39e",
   "metadata": {},
   "outputs": [
    {
     "name": "stdout",
     "output_type": "stream",
     "text": [
      "In column age 0 ouliers\n"
     ]
    }
   ],
   "source": [
    "outliers(data[data['sample'] == 1]['age'], 'age')"
   ]
  },
  {
   "cell_type": "code",
   "execution_count": 12,
   "id": "7cb5934c",
   "metadata": {},
   "outputs": [
    {
     "data": {
      "image/png": "[encoded data removed]",
      "text/plain": [
       "<Figure size 864x144 with 2 Axes>"
      ]
     },
     "metadata": {
      "needs_background": "light"
     },
     "output_type": "display_data"
    }
   ],
   "source": [
    "fig, ax = plt.subplots(1, 2, figsize=(12, 2))\n",
    "sns.histplot(data=data[(data['sample'] == 1) & (data['default'] == 0)], \n",
    "             x='age', hue='sex', multiple='dodge', ax=ax[0]).set_title('Default 0')\n",
    "sns.histplot(data=data[(data['sample'] == 1) & (data['default'] == 1)], \n",
    "             x='age', hue='sex', multiple='dodge', ax=ax[1]).set_title('Default 1')\n",
    "plt.show()"
   ]
  },
  {
   "cell_type": "markdown",
   "id": "6c6da0f0",
   "metadata": {},
   "source": [
    "Intresting. Kredit for women more ofter had been approved. Denied the same."
   ]
  },
  {
   "cell_type": "code",
   "execution_count": 13,
   "id": "438bcc0e",
   "metadata": {},
   "outputs": [
    {
     "name": "stdout",
     "output_type": "stream",
     "text": [
      "Min Age is 21\n",
      "Max Age is 72\n"
     ]
    }
   ],
   "source": [
    "print(f'Min Age is {data[data[\"sample\"] == 1][\"age\"].min()}')\n",
    "print(f'Max Age is {data[data[\"sample\"] == 1][\"age\"].max()}')"
   ]
  },
  {
   "cell_type": "markdown",
   "id": "61f724f2",
   "metadata": {},
   "source": [
    "Split it on categories by 5 years"
   ]
  },
  {
   "cell_type": "code",
   "execution_count": 14,
   "id": "7dfa5b9f",
   "metadata": {},
   "outputs": [],
   "source": [
    "cut_bins = list([x for x in range(19, 80, 5)])\n",
    "cut_labels = list([x for x in range(len(cut_bins)-1)])\n",
    "data['cat_age'] = pd.cut(data['age'], bins=cut_bins, labels=cut_labels)"
   ]
  },
  {
   "cell_type": "code",
   "execution_count": 15,
   "id": "059998f8",
   "metadata": {},
   "outputs": [
    {
     "data": {
      "image/png": "[encoded data removed]",
      "text/plain": [
       "<Figure size 864x144 with 2 Axes>"
      ]
     },
     "metadata": {
      "needs_background": "light"
     },
     "output_type": "display_data"
    }
   ],
   "source": [
    "fig, ax = plt.subplots(1, 2, figsize=(12, 2))\n",
    "sns.countplot(data=data[(data['sample'] == 1) & (data['default'] == 0)], \n",
    "              x='cat_age', hue='sex', ax=ax[0]).set_title('Default 0')\n",
    "sns.countplot(data=data[(data['sample'] == 1) & (data['default'] == 1)], \n",
    "              x='cat_age', hue='sex', ax=ax[1]).set_title('Default 1')\n",
    "plt.show()"
   ]
  },
  {
   "cell_type": "code",
   "execution_count": 16,
   "id": "a1ef3363",
   "metadata": {},
   "outputs": [
    {
     "data": {
      "text/html": [
       "<div>\n",
       "<style scoped>\n",
       "    .dataframe tbody tr th:only-of-type {\n",
       "        vertical-align: middle;\n",
       "    }\n",
       "\n",
       "    .dataframe tbody tr th {\n",
       "        vertical-align: top;\n",
       "    }\n",
       "\n",
       "    .dataframe thead th {\n",
       "        text-align: right;\n",
       "    }\n",
       "</style>\n",
       "<table border=\"1\" class=\"dataframe\">\n",
       "  <thead>\n",
       "    <tr style=\"text-align: right;\">\n",
       "      <th>default</th>\n",
       "      <th>0</th>\n",
       "      <th>1</th>\n",
       "    </tr>\n",
       "    <tr>\n",
       "      <th>cat_age</th>\n",
       "      <th></th>\n",
       "      <th></th>\n",
       "    </tr>\n",
       "  </thead>\n",
       "  <tbody>\n",
       "    <tr>\n",
       "      <th>0</th>\n",
       "      <td>0.862229</td>\n",
       "      <td>0.137771</td>\n",
       "    </tr>\n",
       "    <tr>\n",
       "      <th>1</th>\n",
       "      <td>0.859879</td>\n",
       "      <td>0.140121</td>\n",
       "    </tr>\n",
       "    <tr>\n",
       "      <th>2</th>\n",
       "      <td>0.868963</td>\n",
       "      <td>0.131037</td>\n",
       "    </tr>\n",
       "    <tr>\n",
       "      <th>3</th>\n",
       "      <td>0.868765</td>\n",
       "      <td>0.131235</td>\n",
       "    </tr>\n",
       "    <tr>\n",
       "      <th>4</th>\n",
       "      <td>0.880069</td>\n",
       "      <td>0.119931</td>\n",
       "    </tr>\n",
       "    <tr>\n",
       "      <th>5</th>\n",
       "      <td>0.881624</td>\n",
       "      <td>0.118376</td>\n",
       "    </tr>\n",
       "    <tr>\n",
       "      <th>6</th>\n",
       "      <td>0.888581</td>\n",
       "      <td>0.111419</td>\n",
       "    </tr>\n",
       "    <tr>\n",
       "      <th>7</th>\n",
       "      <td>0.889210</td>\n",
       "      <td>0.110790</td>\n",
       "    </tr>\n",
       "    <tr>\n",
       "      <th>8</th>\n",
       "      <td>0.876908</td>\n",
       "      <td>0.123092</td>\n",
       "    </tr>\n",
       "    <tr>\n",
       "      <th>9</th>\n",
       "      <td>0.868571</td>\n",
       "      <td>0.131429</td>\n",
       "    </tr>\n",
       "    <tr>\n",
       "      <th>10</th>\n",
       "      <td>0.783784</td>\n",
       "      <td>0.216216</td>\n",
       "    </tr>\n",
       "  </tbody>\n",
       "</table>\n",
       "</div>"
      ],
      "text/plain": [
       "default         0         1\n",
       "cat_age                    \n",
       "0        0.862229  0.137771\n",
       "1        0.859879  0.140121\n",
       "2        0.868963  0.131037\n",
       "3        0.868765  0.131235\n",
       "4        0.880069  0.119931\n",
       "5        0.881624  0.118376\n",
       "6        0.888581  0.111419\n",
       "7        0.889210  0.110790\n",
       "8        0.876908  0.123092\n",
       "9        0.868571  0.131429\n",
       "10       0.783784  0.216216"
      ]
     },
     "metadata": {},
     "output_type": "display_data"
    }
   ],
   "source": [
    "percent_of_target(data[data['sample'] == 1]['cat_age'], data[data['sample'] == 1]['default'])"
   ]
  },
  {
   "cell_type": "markdown",
   "id": "d58cef8f",
   "metadata": {},
   "source": [
    "About equal distribution by categories over Default column."
   ]
  },
  {
   "cell_type": "markdown",
   "id": "7d93f256",
   "metadata": {},
   "source": [
    "#### score_bki"
   ]
  },
  {
   "cell_type": "code",
   "execution_count": 17,
   "id": "9961067b",
   "metadata": {},
   "outputs": [
    {
     "data": {
      "image/png": "[encoded data removed]",
      "text/plain": [
       "<Figure size 360x360 with 1 Axes>"
      ]
     },
     "metadata": {
      "needs_background": "light"
     },
     "output_type": "display_data"
    }
   ],
   "source": [
    "sns.displot(data[data['sample'] == 1]['score_bki'])\n",
    "plt.show()"
   ]
  },
  {
   "cell_type": "code",
   "execution_count": 18,
   "id": "327285ae",
   "metadata": {},
   "outputs": [
    {
     "data": {
      "image/png": "[encoded data removed]",
      "text/plain": [
       "<Figure size 864x144 with 2 Axes>"
      ]
     },
     "metadata": {
      "needs_background": "light"
     },
     "output_type": "display_data"
    }
   ],
   "source": [
    "fig, ax = plt.subplots(1, 2, figsize=(12, 2))\n",
    "sns.histplot(data=data[(data['sample'] == 1) & (data['default'] == 0)], \n",
    "             x='score_bki', hue='sex', multiple='dodge', ax=ax[0]).set_title('Default 0')\n",
    "sns.histplot(data=data[(data['sample'] == 1) & (data['default'] == 1)], \n",
    "             x='score_bki', hue='sex', multiple='dodge', ax=ax[1]).set_title('Default 1')\n",
    "plt.show()"
   ]
  },
  {
   "cell_type": "markdown",
   "id": "f457a8fa",
   "metadata": {},
   "source": [
    "This column doen't have NaN. So, let's look at outliers and distribution by Default"
   ]
  },
  {
   "cell_type": "code",
   "execution_count": 19,
   "id": "e63063f9",
   "metadata": {},
   "outputs": [
    {
     "name": "stdout",
     "output_type": "stream",
     "text": [
      "In column score_bki 351 ouliers\n"
     ]
    }
   ],
   "source": [
    "outliers(data[data['sample'] == 1]['score_bki'], 'score_bki')"
   ]
  },
  {
   "cell_type": "markdown",
   "id": "345237b4",
   "metadata": {},
   "source": [
    "Let's make column to mark outliers."
   ]
  },
  {
   "cell_type": "code",
   "execution_count": 20,
   "id": "bc2e3c50",
   "metadata": {},
   "outputs": [],
   "source": [
    "Q1 = data[data['sample'] == 1]['score_bki'].quantile(0.25)\n",
    "Q3 = data[data['sample'] == 1]['score_bki'].quantile(0.75)\n",
    "IQR = Q3 - Q1\n",
    "data['score_bki_outliers'] = ((data['sample'] == 1) & ((data['score_bki'] < (Q1 - 1.5 * IQR)) | (data['score_bki'] > (Q3 + 1.5 * IQR)))).astype('int32')"
   ]
  },
  {
   "cell_type": "markdown",
   "id": "1d8120dc",
   "metadata": {},
   "source": [
    "#### decline_app_cnt"
   ]
  },
  {
   "cell_type": "code",
   "execution_count": 21,
   "id": "b38afeea",
   "metadata": {},
   "outputs": [
    {
     "data": {
      "image/png": "[encoded data removed]",
      "text/plain": [
       "<Figure size 864x144 with 2 Axes>"
      ]
     },
     "metadata": {
      "needs_background": "light"
     },
     "output_type": "display_data"
    }
   ],
   "source": [
    "fig, ax = plt.subplots(1, 2, figsize=(12, 2))\n",
    "sns.countplot(data=data[(data['sample'] == 1) & (data['default'] == 0)], \n",
    "              x='decline_app_cnt', hue='sex', ax=ax[0]).set_title('Default 0')\n",
    "sns.countplot(data=data[(data['sample'] == 1) & (data['default'] == 1)], \n",
    "              x='decline_app_cnt', hue='sex', ax=ax[1]).set_title('Default 1')\n",
    "plt.show()"
   ]
  },
  {
   "cell_type": "markdown",
   "id": "6c0e2edd",
   "metadata": {},
   "source": [
    "Count sum of each group"
   ]
  },
  {
   "cell_type": "code",
   "execution_count": 22,
   "id": "d35727a3",
   "metadata": {},
   "outputs": [
    {
     "data": {
      "text/plain": [
       "0     61214\n",
       "1      8397\n",
       "2      2468\n",
       "3       903\n",
       "4       414\n",
       "5       165\n",
       "6       113\n",
       "7        48\n",
       "9        24\n",
       "8        19\n",
       "10       11\n",
       "11        9\n",
       "13        3\n",
       "12        2\n",
       "14        2\n",
       "16        2\n",
       "15        1\n",
       "19        1\n",
       "22        1\n",
       "24        1\n",
       "33        1\n",
       "Name: decline_app_cnt, dtype: int64"
      ]
     },
     "execution_count": 22,
     "metadata": {},
     "output_type": "execute_result"
    }
   ],
   "source": [
    "data[data['sample'] == 1]['decline_app_cnt'].value_counts()"
   ]
  },
  {
   "cell_type": "markdown",
   "id": "57531ceb",
   "metadata": {},
   "source": [
    "Let's group tails. Leave only 5 groups."
   ]
  },
  {
   "cell_type": "code",
   "execution_count": 23,
   "id": "df7616ca",
   "metadata": {},
   "outputs": [],
   "source": [
    "mask = (data['decline_app_cnt'] > 4)\n",
    "data.loc[mask, 'decline_app_cnt'] = 4"
   ]
  },
  {
   "cell_type": "code",
   "execution_count": 24,
   "id": "146865a3",
   "metadata": {},
   "outputs": [
    {
     "data": {
      "image/png": "[encoded data removed]",
      "text/plain": [
       "<Figure size 432x288 with 1 Axes>"
      ]
     },
     "metadata": {
      "needs_background": "light"
     },
     "output_type": "display_data"
    }
   ],
   "source": [
    "sns.countplot(x='decline_app_cnt', data=data[data['sample'] == 1])\n",
    "plt.show()"
   ]
  },
  {
   "cell_type": "code",
   "execution_count": 25,
   "id": "6f2316a1",
   "metadata": {},
   "outputs": [
    {
     "data": {
      "text/html": [
       "<div>\n",
       "<style scoped>\n",
       "    .dataframe tbody tr th:only-of-type {\n",
       "        vertical-align: middle;\n",
       "    }\n",
       "\n",
       "    .dataframe tbody tr th {\n",
       "        vertical-align: top;\n",
       "    }\n",
       "\n",
       "    .dataframe thead th {\n",
       "        text-align: right;\n",
       "    }\n",
       "</style>\n",
       "<table border=\"1\" class=\"dataframe\">\n",
       "  <thead>\n",
       "    <tr style=\"text-align: right;\">\n",
       "      <th>default</th>\n",
       "      <th>0</th>\n",
       "      <th>1</th>\n",
       "    </tr>\n",
       "    <tr>\n",
       "      <th>decline_app_cnt</th>\n",
       "      <th></th>\n",
       "      <th></th>\n",
       "    </tr>\n",
       "  </thead>\n",
       "  <tbody>\n",
       "    <tr>\n",
       "      <th>0</th>\n",
       "      <td>0.890466</td>\n",
       "      <td>0.109534</td>\n",
       "    </tr>\n",
       "    <tr>\n",
       "      <th>1</th>\n",
       "      <td>0.812195</td>\n",
       "      <td>0.187805</td>\n",
       "    </tr>\n",
       "    <tr>\n",
       "      <th>2</th>\n",
       "      <td>0.756483</td>\n",
       "      <td>0.243517</td>\n",
       "    </tr>\n",
       "    <tr>\n",
       "      <th>3</th>\n",
       "      <td>0.726467</td>\n",
       "      <td>0.273533</td>\n",
       "    </tr>\n",
       "    <tr>\n",
       "      <th>4</th>\n",
       "      <td>0.703794</td>\n",
       "      <td>0.296206</td>\n",
       "    </tr>\n",
       "  </tbody>\n",
       "</table>\n",
       "</div>"
      ],
      "text/plain": [
       "default                 0         1\n",
       "decline_app_cnt                    \n",
       "0                0.890466  0.109534\n",
       "1                0.812195  0.187805\n",
       "2                0.756483  0.243517\n",
       "3                0.726467  0.273533\n",
       "4                0.703794  0.296206"
      ]
     },
     "metadata": {},
     "output_type": "display_data"
    }
   ],
   "source": [
    "percent_of_target(data[data['sample'] == 1]['decline_app_cnt'], data[data['sample'] == 1]['default'])"
   ]
  },
  {
   "cell_type": "markdown",
   "id": "12c5b1af",
   "metadata": {},
   "source": [
    "#### bki_request_cnt"
   ]
  },
  {
   "cell_type": "code",
   "execution_count": 26,
   "id": "c06c343d",
   "metadata": {},
   "outputs": [
    {
     "data": {
      "image/png": "[encoded data removed]",
      "text/plain": [
       "<Figure size 864x360 with 1 Axes>"
      ]
     },
     "metadata": {
      "needs_background": "light"
     },
     "output_type": "display_data"
    }
   ],
   "source": [
    "pl = sns.displot(x='bki_request_cnt', data=data[data['sample'] == 1], hue='sex')\n",
    "pl.fig.set_figwidth(12)\n",
    "pl.fig.set_figheight(5)"
   ]
  },
  {
   "cell_type": "code",
   "execution_count": 27,
   "id": "6ac31c7c",
   "metadata": {},
   "outputs": [
    {
     "data": {
      "image/png": "[encoded data removed]",
      "text/plain": [
       "<Figure size 864x144 with 2 Axes>"
      ]
     },
     "metadata": {
      "needs_background": "light"
     },
     "output_type": "display_data"
    }
   ],
   "source": [
    "fig, ax = plt.subplots(1, 2, figsize=(12, 2))\n",
    "sns.countplot(data=data[(data['sample'] == 1) & (data['default'] == 0)], \n",
    "              x='bki_request_cnt', hue='sex', ax=ax[0]).set_title('Default 0')\n",
    "sns.countplot(data=data[(data['sample'] == 1) & (data['default'] == 1)], \n",
    "              x='bki_request_cnt', hue='sex', ax=ax[1]).set_title('Default 1')\n",
    "plt.show()"
   ]
  },
  {
   "cell_type": "code",
   "execution_count": 28,
   "id": "a6510468",
   "metadata": {},
   "outputs": [
    {
     "data": {
      "text/plain": [
       "0     19381\n",
       "1     18276\n",
       "2     13749\n",
       "3      9187\n",
       "4      5627\n",
       "5      3268\n",
       "6      1704\n",
       "7       852\n",
       "8       508\n",
       "9       299\n",
       "10      225\n",
       "11      188\n",
       "12      144\n",
       "13       94\n",
       "14       86\n",
       "15       54\n",
       "16       35\n",
       "18       22\n",
       "17       19\n",
       "19       18\n",
       "21       12\n",
       "24       11\n",
       "20        9\n",
       "23        7\n",
       "22        4\n",
       "28        4\n",
       "25        2\n",
       "26        2\n",
       "27        2\n",
       "32        2\n",
       "41        1\n",
       "46        1\n",
       "45        1\n",
       "29        1\n",
       "36        1\n",
       "34        1\n",
       "33        1\n",
       "53        1\n",
       "Name: bki_request_cnt, dtype: int64"
      ]
     },
     "execution_count": 28,
     "metadata": {},
     "output_type": "execute_result"
    }
   ],
   "source": [
    "data[data['sample'] == 1]['bki_request_cnt'].value_counts()"
   ]
  },
  {
   "cell_type": "code",
   "execution_count": 29,
   "id": "37313546",
   "metadata": {},
   "outputs": [],
   "source": [
    "mask1 = (data['bki_request_cnt'] > 18)\n",
    "mask2 = (data['bki_request_cnt'].between(15, 18, inclusive=True))\n",
    "mask3 = (data['bki_request_cnt'].between(12, 14, inclusive=True))\n",
    "mask4 = (data['bki_request_cnt'].between(9, 11, inclusive=True))\n",
    "mask5 = (data['bki_request_cnt'].between(6, 8, inclusive=True))\n",
    "mask6 = (data['bki_request_cnt'].between(4, 5, inclusive=True))\n",
    "\n",
    "data.loc[mask6, 'bki_request_cnt'] = 4\n",
    "data.loc[mask5, 'bki_request_cnt'] = 5\n",
    "data.loc[mask4, 'bki_request_cnt'] = 6\n",
    "data.loc[mask3, 'bki_request_cnt'] = 7\n",
    "data.loc[mask2, 'bki_request_cnt'] = 8\n",
    "data.loc[mask1, 'bki_request_cnt'] = 9"
   ]
  },
  {
   "cell_type": "code",
   "execution_count": 30,
   "id": "218e4f07",
   "metadata": {},
   "outputs": [
    {
     "data": {
      "image/png": "[encoded data removed]",
      "text/plain": [
       "<Figure size 864x144 with 2 Axes>"
      ]
     },
     "metadata": {
      "needs_background": "light"
     },
     "output_type": "display_data"
    }
   ],
   "source": [
    "fig, ax = plt.subplots(1, 2, figsize=(12, 2))\n",
    "sns.countplot(data=data[(data['sample'] == 1) & (data['default'] == 0)], \n",
    "              x='bki_request_cnt', hue='sex', ax=ax[0]).set_title('Default 0')\n",
    "sns.countplot(data=data[(data['sample'] == 1) & (data['default'] == 1)], \n",
    "              x='bki_request_cnt', hue='sex', ax=ax[1]).set_title('Default 1')\n",
    "plt.show()"
   ]
  },
  {
   "cell_type": "code",
   "execution_count": 31,
   "id": "485f2c2a",
   "metadata": {},
   "outputs": [
    {
     "data": {
      "image/png": "[encoded data removed]",
      "text/plain": [
       "<Figure size 864x360 with 1 Axes>"
      ]
     },
     "metadata": {
      "needs_background": "light"
     },
     "output_type": "display_data"
    }
   ],
   "source": [
    "pl = sns.displot(x='bki_request_cnt', data=data[data['sample'] == 1], hue='sex')\n",
    "pl.fig.set_figwidth(12)\n",
    "pl.fig.set_figheight(5)"
   ]
  },
  {
   "cell_type": "markdown",
   "id": "2e47cc52",
   "metadata": {},
   "source": [
    "#### Income"
   ]
  },
  {
   "cell_type": "code",
   "execution_count": 32,
   "id": "7b2f78ba",
   "metadata": {},
   "outputs": [
    {
     "data": {
      "image/png": "[encoded data removed]",
      "text/plain": [
       "<Figure size 864x360 with 2 Axes>"
      ]
     },
     "metadata": {
      "needs_background": "light"
     },
     "output_type": "display_data"
    }
   ],
   "source": [
    "pl = sns.displot(data = data[data['sample'] == 1], x='income', col='sex', kind='kde')\n",
    "pl.fig.set_figwidth(12)\n",
    "pl.fig.set_figheight(5)"
   ]
  },
  {
   "cell_type": "code",
   "execution_count": 33,
   "id": "f2aabc57",
   "metadata": {},
   "outputs": [
    {
     "name": "stdout",
     "output_type": "stream",
     "text": [
      "In column income 4695 ouliers\n"
     ]
    }
   ],
   "source": [
    "outliers(data[data['sample'] == 1]['income'], 'income')"
   ]
  },
  {
   "cell_type": "code",
   "execution_count": 34,
   "id": "9ee6e8b4",
   "metadata": {},
   "outputs": [],
   "source": [
    "Q1 = data[data['sample'] == 1]['income'].quantile(0.25)\n",
    "Q3 = data[data['sample'] == 1]['income'].quantile(0.75)\n",
    "IQR = Q3 - Q1\n",
    "data['income_outliers'] = ((data['sample'] == 1) & ((data['income'] < (Q1 - 1.5 * IQR)) | (data['income'] > (Q3 + 1.5 * IQR)))).astype('int32')"
   ]
  },
  {
   "cell_type": "code",
   "execution_count": 35,
   "id": "29445436",
   "metadata": {},
   "outputs": [],
   "source": [
    "data['income'] = np.log(data['income'] + 1)"
   ]
  },
  {
   "cell_type": "code",
   "execution_count": 36,
   "id": "96b14996",
   "metadata": {},
   "outputs": [
    {
     "data": {
      "image/png": "[encoded data removed]",
      "text/plain": [
       "<Figure size 864x360 with 2 Axes>"
      ]
     },
     "metadata": {
      "needs_background": "light"
     },
     "output_type": "display_data"
    }
   ],
   "source": [
    "pl = sns.displot(data = data[data['sample'] == 1], x='income', col='sex', kind='kde')\n",
    "pl.fig.set_figwidth(12)\n",
    "pl.fig.set_figheight(5)"
   ]
  },
  {
   "cell_type": "markdown",
   "id": "e25d5319",
   "metadata": {},
   "source": [
    "### Binar columns"
   ]
  },
  {
   "cell_type": "markdown",
   "id": "31ceb757",
   "metadata": {},
   "source": [
    "#### sex"
   ]
  },
  {
   "cell_type": "markdown",
   "id": "740861f0",
   "metadata": {},
   "source": [
    "Convert from literal to numeric."
   ]
  },
  {
   "cell_type": "code",
   "execution_count": 41,
   "id": "6d7d6c18",
   "metadata": {},
   "outputs": [],
   "source": [
    "data['sex'] = le.fit_transform(data['sex'])"
   ]
  },
  {
   "cell_type": "code",
   "execution_count": 52,
   "id": "42a9fc8e",
   "metadata": {},
   "outputs": [
    {
     "data": {
      "image/png": "[encoded data removed]",
      "text/plain": [
       "<Figure size 432x288 with 1 Axes>"
      ]
     },
     "metadata": {
      "needs_background": "light"
     },
     "output_type": "display_data"
    }
   ],
   "source": [
    "sns.countplot(data=data[(data['sample'] == 1)], x='sex', hue='default')\n",
    "plt.show()"
   ]
  },
  {
   "cell_type": "markdown",
   "id": "fd2c29f7",
   "metadata": {},
   "source": [
    "#### car"
   ]
  },
  {
   "cell_type": "markdown",
   "id": "89cff518",
   "metadata": {},
   "source": [
    "Convert from literal to numeric"
   ]
  },
  {
   "cell_type": "code",
   "execution_count": 53,
   "id": "ef7cf66b",
   "metadata": {},
   "outputs": [],
   "source": [
    "data['car'] = le.fit_transform(data['car'])"
   ]
  },
  {
   "cell_type": "code",
   "execution_count": 56,
   "id": "97b4fcb8",
   "metadata": {},
   "outputs": [
    {
     "data": {
      "image/png": "[encoded data removed]",
      "text/plain": [
       "<Figure size 432x288 with 1 Axes>"
      ]
     },
     "metadata": {
      "needs_background": "light"
     },
     "output_type": "display_data"
    }
   ],
   "source": [
    "sns.countplot(data=data[(data['sample'] == 1)], x='car')\n",
    "plt.show()"
   ]
  },
  {
   "cell_type": "code",
   "execution_count": null,
   "id": "f25a4c75",
   "metadata": {},
   "outputs": [],
   "source": [
    "sns.set(font_scale=1)\n",
    "plt.subplots(figsize=(12, 12))\n",
    "sns.heatmap(data[data['sample'] == 1].corr(), square=True,\n",
    "              annot=True, fmt=\".3f\", linewidths=0.1, cmap=\"RdBu\")\n",
    "plt.show()"
   ]
  }
 ],
 "metadata": {
  "kernelspec": {
   "display_name": "Python 3",
   "language": "python",
   "name": "python3"
  },
  "language_info": {
   "codemirror_mode": {
    "name": "ipython",
    "version": 3
   },
   "file_extension": ".py",
   "mimetype": "text/x-python",
   "name": "python",
   "nbconvert_exporter": "python",
   "pygments_lexer": "ipython3",
   "version": "3.8.8"
  }
 },
 "nbformat": 4,
 "nbformat_minor": 5
}
