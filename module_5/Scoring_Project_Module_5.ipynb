{
 "cells": [
  {
   "cell_type": "markdown",
   "metadata": {},
   "source": [
    "## Import modules"
   ]
  },
  {
   "cell_type": "code",
   "execution_count": 1,
   "metadata": {
    "execution": {
     "iopub.execute_input": "2022-02-21T12:16:02.261019Z",
     "iopub.status.busy": "2022-02-21T12:16:02.259621Z",
     "iopub.status.idle": "2022-02-21T12:16:02.267266Z",
     "shell.execute_reply": "2022-02-21T12:16:02.266747Z",
     "shell.execute_reply.started": "2022-02-21T12:16:02.260958Z"
    }
   },
   "outputs": [],
   "source": [
    "import pandas as pd\n",
    "import numpy as np\n",
    "import seaborn as sns\n",
    "import matplotlib.pyplot as plt\n",
    "from sklearn.preprocessing import LabelEncoder, RobustScaler, MinMaxScaler\n",
    "from sklearn.linear_model import LogisticRegression\n",
    "from sklearn.feature_selection import f_classif, mutual_info_classif, RFE\n",
    "from sklearn.model_selection import train_test_split, KFold, GridSearchCV, cross_val_score, cross_validate\n",
    "from sklearn.metrics import confusion_matrix, classification_report, roc_auc_score, roc_curve, f1_score\n",
    "from imblearn.over_sampling import RandomOverSampler, SMOTE, ADASYN, BorderlineSMOTE, KMeansSMOTE"
   ]
  },
  {
   "cell_type": "code",
   "execution_count": 2,
   "metadata": {
    "execution": {
     "iopub.execute_input": "2022-02-21T12:16:02.269291Z",
     "iopub.status.busy": "2022-02-21T12:16:02.268985Z",
     "iopub.status.idle": "2022-02-21T12:16:02.282992Z",
     "shell.execute_reply": "2022-02-21T12:16:02.281791Z",
     "shell.execute_reply.started": "2022-02-21T12:16:02.269262Z"
    }
   },
   "outputs": [],
   "source": [
    "pd.set_option('display.max_rows', 100)\n",
    "pd.set_option('display.max_columns', 100)\n",
    "le = LabelEncoder()\n",
    "SEED = 42"
   ]
  },
  {
   "cell_type": "markdown",
   "metadata": {},
   "source": [
    "## Reading dataset"
   ]
  },
  {
   "cell_type": "code",
   "execution_count": 3,
   "metadata": {
    "execution": {
     "iopub.execute_input": "2022-02-21T12:16:02.302210Z",
     "iopub.status.busy": "2022-02-21T12:16:02.301886Z",
     "iopub.status.idle": "2022-02-21T12:16:02.456285Z",
     "shell.execute_reply": "2022-02-21T12:16:02.455298Z",
     "shell.execute_reply.started": "2022-02-21T12:16:02.302170Z"
    }
   },
   "outputs": [],
   "source": [
    "df_train = pd.read_csv('train.csv')\n",
    "df_test = pd.read_csv('test.csv')\n",
    "sample_submission = pd.read_csv('sample_submission.csv')"
   ]
  },
  {
   "cell_type": "markdown",
   "metadata": {},
   "source": [
    "### Dataset description\n",
    "\n",
    "client_id - идентификатор клиента  \n",
    "education - уровень образования  \n",
    "sex - пол заемщика  \n",
    "age - возраст заемщика  \n",
    "car - флаг наличия автомобиля  \n",
    "car_type - флаг автомобиля иномарки  \n",
    "decline_app_cnt - количество отказанных прошлых заявок  \n",
    "good_work - флаг наличия “хорошей” работы  \n",
    "bki_request_cnt - количество запросов в БКИ  \n",
    "home_address - категоризатор домашнего адреса  \n",
    "work_address - категоризатор рабочего адреса  \n",
    "income - доход заемщика  \n",
    "foreign_passport - наличие загранпаспорта  \n",
    "sna - связь заемщика с клиентами банка  \n",
    "first_time - давность наличия информации о заемщике  \n",
    "score_bki - скоринговый балл по данным из БКИ  \n",
    "region_rating - рейтинг региона  \n",
    "app_date - дата подачи заявки  \n",
    "default - флаг дефолта по кредиту"
   ]
  },
  {
   "cell_type": "code",
   "execution_count": 4,
   "metadata": {
    "execution": {
     "iopub.execute_input": "2022-02-21T12:16:02.458865Z",
     "iopub.status.busy": "2022-02-21T12:16:02.458019Z",
     "iopub.status.idle": "2022-02-21T12:16:02.505130Z",
     "shell.execute_reply": "2022-02-21T12:16:02.503952Z",
     "shell.execute_reply.started": "2022-02-21T12:16:02.458791Z"
    }
   },
   "outputs": [],
   "source": [
    "df_train['sample'] = 1\n",
    "df_test['sample'] = 0\n",
    "df_test['default'] = 0\n",
    "data = df_test.append(df_train, sort=False).reset_index(drop=True)"
   ]
  },
  {
   "cell_type": "code",
   "execution_count": 5,
   "metadata": {
    "execution": {
     "iopub.execute_input": "2022-02-21T12:16:02.506767Z",
     "iopub.status.busy": "2022-02-21T12:16:02.506530Z",
     "iopub.status.idle": "2022-02-21T12:16:02.579996Z",
     "shell.execute_reply": "2022-02-21T12:16:02.578863Z",
     "shell.execute_reply.started": "2022-02-21T12:16:02.506738Z"
    }
   },
   "outputs": [
    {
     "name": "stdout",
     "output_type": "stream",
     "text": [
      "<class 'pandas.core.frame.DataFrame'>\n",
      "Int64Index: 73799 entries, 36349 to 110147\n",
      "Data columns (total 20 columns):\n",
      " #   Column            Non-Null Count  Dtype  \n",
      "---  ------            --------------  -----  \n",
      " 0   client_id         73799 non-null  int64  \n",
      " 1   app_date          73799 non-null  object \n",
      " 2   education         73492 non-null  object \n",
      " 3   sex               73799 non-null  object \n",
      " 4   age               73799 non-null  int64  \n",
      " 5   car               73799 non-null  object \n",
      " 6   car_type          73799 non-null  object \n",
      " 7   decline_app_cnt   73799 non-null  int64  \n",
      " 8   good_work         73799 non-null  int64  \n",
      " 9   score_bki         73799 non-null  float64\n",
      " 10  bki_request_cnt   73799 non-null  int64  \n",
      " 11  region_rating     73799 non-null  int64  \n",
      " 12  home_address      73799 non-null  int64  \n",
      " 13  work_address      73799 non-null  int64  \n",
      " 14  income            73799 non-null  int64  \n",
      " 15  sna               73799 non-null  int64  \n",
      " 16  first_time        73799 non-null  int64  \n",
      " 17  foreign_passport  73799 non-null  object \n",
      " 18  sample            73799 non-null  int64  \n",
      " 19  default           73799 non-null  int64  \n",
      "dtypes: float64(1), int64(13), object(6)\n",
      "memory usage: 11.8+ MB\n"
     ]
    }
   ],
   "source": [
    "data[data['sample'] == 1].info()"
   ]
  },
  {
   "cell_type": "code",
   "execution_count": 6,
   "metadata": {
    "execution": {
     "iopub.execute_input": "2022-02-21T12:16:02.581347Z",
     "iopub.status.busy": "2022-02-21T12:16:02.581124Z",
     "iopub.status.idle": "2022-02-21T12:16:02.641091Z",
     "shell.execute_reply": "2022-02-21T12:16:02.640018Z",
     "shell.execute_reply.started": "2022-02-21T12:16:02.581308Z"
    }
   },
   "outputs": [
    {
     "data": {
      "text/plain": [
       "client_id           73799\n",
       "app_date              120\n",
       "education               5\n",
       "sex                     2\n",
       "age                    52\n",
       "car                     2\n",
       "car_type                2\n",
       "decline_app_cnt        21\n",
       "good_work               2\n",
       "score_bki           69096\n",
       "bki_request_cnt        38\n",
       "region_rating           7\n",
       "home_address            3\n",
       "work_address            3\n",
       "income                966\n",
       "sna                     4\n",
       "first_time              4\n",
       "foreign_passport        2\n",
       "sample                  1\n",
       "default                 2\n",
       "dtype: int64"
      ]
     },
     "execution_count": 6,
     "metadata": {},
     "output_type": "execute_result"
    }
   ],
   "source": [
    "# Unique data by columns\n",
    "\n",
    "data[data['sample'] == 1].nunique()"
   ]
  },
  {
   "cell_type": "code",
   "execution_count": 7,
   "metadata": {
    "execution": {
     "iopub.execute_input": "2022-02-21T12:16:02.642647Z",
     "iopub.status.busy": "2022-02-21T12:16:02.642410Z",
     "iopub.status.idle": "2022-02-21T12:16:02.709355Z",
     "shell.execute_reply": "2022-02-21T12:16:02.708192Z",
     "shell.execute_reply.started": "2022-02-21T12:16:02.642619Z"
    }
   },
   "outputs": [
    {
     "data": {
      "text/plain": [
       "client_id             0\n",
       "app_date              0\n",
       "education           307\n",
       "sex                   0\n",
       "age                   0\n",
       "car                   0\n",
       "car_type              0\n",
       "decline_app_cnt       0\n",
       "good_work             0\n",
       "score_bki             0\n",
       "bki_request_cnt       0\n",
       "region_rating         0\n",
       "home_address          0\n",
       "work_address          0\n",
       "income                0\n",
       "sna                   0\n",
       "first_time            0\n",
       "foreign_passport      0\n",
       "sample                0\n",
       "default               0\n",
       "dtype: int64"
      ]
     },
     "execution_count": 7,
     "metadata": {},
     "output_type": "execute_result"
    }
   ],
   "source": [
    "# Empty cells by columns\n",
    "\n",
    "data[data['sample'] == 1].isna().sum()"
   ]
  },
  {
   "cell_type": "code",
   "execution_count": 8,
   "metadata": {
    "execution": {
     "iopub.execute_input": "2022-02-21T12:16:02.710796Z",
     "iopub.status.busy": "2022-02-21T12:16:02.710581Z",
     "iopub.status.idle": "2022-02-21T12:16:02.780786Z",
     "shell.execute_reply": "2022-02-21T12:16:02.779787Z",
     "shell.execute_reply.started": "2022-02-21T12:16:02.710767Z"
    }
   },
   "outputs": [
    {
     "data": {
      "text/html": [
       "<div>\n",
       "<style scoped>\n",
       "    .dataframe tbody tr th:only-of-type {\n",
       "        vertical-align: middle;\n",
       "    }\n",
       "\n",
       "    .dataframe tbody tr th {\n",
       "        vertical-align: top;\n",
       "    }\n",
       "\n",
       "    .dataframe thead th {\n",
       "        text-align: right;\n",
       "    }\n",
       "</style>\n",
       "<table border=\"1\" class=\"dataframe\">\n",
       "  <thead>\n",
       "    <tr style=\"text-align: right;\">\n",
       "      <th></th>\n",
       "      <th>client_id</th>\n",
       "      <th>age</th>\n",
       "      <th>decline_app_cnt</th>\n",
       "      <th>good_work</th>\n",
       "      <th>score_bki</th>\n",
       "      <th>bki_request_cnt</th>\n",
       "      <th>region_rating</th>\n",
       "      <th>home_address</th>\n",
       "      <th>work_address</th>\n",
       "      <th>income</th>\n",
       "      <th>sna</th>\n",
       "      <th>first_time</th>\n",
       "      <th>sample</th>\n",
       "      <th>default</th>\n",
       "    </tr>\n",
       "  </thead>\n",
       "  <tbody>\n",
       "    <tr>\n",
       "      <th>count</th>\n",
       "      <td>73799.000000</td>\n",
       "      <td>73799.000000</td>\n",
       "      <td>73799.000000</td>\n",
       "      <td>73799.000000</td>\n",
       "      <td>73799.000000</td>\n",
       "      <td>73799.000000</td>\n",
       "      <td>73799.000000</td>\n",
       "      <td>73799.000000</td>\n",
       "      <td>73799.000000</td>\n",
       "      <td>73799.000000</td>\n",
       "      <td>73799.000000</td>\n",
       "      <td>73799.000000</td>\n",
       "      <td>73799.0</td>\n",
       "      <td>73799.000000</td>\n",
       "    </tr>\n",
       "    <tr>\n",
       "      <th>mean</th>\n",
       "      <td>55137.965094</td>\n",
       "      <td>39.280641</td>\n",
       "      <td>0.275749</td>\n",
       "      <td>0.164894</td>\n",
       "      <td>-1.904724</td>\n",
       "      <td>2.000339</td>\n",
       "      <td>56.725701</td>\n",
       "      <td>1.575509</td>\n",
       "      <td>2.496280</td>\n",
       "      <td>41099.775417</td>\n",
       "      <td>1.733330</td>\n",
       "      <td>2.765458</td>\n",
       "      <td>1.0</td>\n",
       "      <td>0.126994</td>\n",
       "    </tr>\n",
       "    <tr>\n",
       "      <th>std</th>\n",
       "      <td>31841.921168</td>\n",
       "      <td>11.520378</td>\n",
       "      <td>0.804272</td>\n",
       "      <td>0.371087</td>\n",
       "      <td>0.498231</td>\n",
       "      <td>2.252073</td>\n",
       "      <td>13.055717</td>\n",
       "      <td>0.527631</td>\n",
       "      <td>0.689818</td>\n",
       "      <td>46166.322400</td>\n",
       "      <td>1.123622</td>\n",
       "      <td>1.009463</td>\n",
       "      <td>0.0</td>\n",
       "      <td>0.332968</td>\n",
       "    </tr>\n",
       "    <tr>\n",
       "      <th>min</th>\n",
       "      <td>1.000000</td>\n",
       "      <td>21.000000</td>\n",
       "      <td>0.000000</td>\n",
       "      <td>0.000000</td>\n",
       "      <td>-3.624586</td>\n",
       "      <td>0.000000</td>\n",
       "      <td>20.000000</td>\n",
       "      <td>1.000000</td>\n",
       "      <td>1.000000</td>\n",
       "      <td>1000.000000</td>\n",
       "      <td>1.000000</td>\n",
       "      <td>1.000000</td>\n",
       "      <td>1.0</td>\n",
       "      <td>0.000000</td>\n",
       "    </tr>\n",
       "    <tr>\n",
       "      <th>25%</th>\n",
       "      <td>27440.500000</td>\n",
       "      <td>30.000000</td>\n",
       "      <td>0.000000</td>\n",
       "      <td>0.000000</td>\n",
       "      <td>-2.259534</td>\n",
       "      <td>0.000000</td>\n",
       "      <td>50.000000</td>\n",
       "      <td>1.000000</td>\n",
       "      <td>2.000000</td>\n",
       "      <td>20000.000000</td>\n",
       "      <td>1.000000</td>\n",
       "      <td>2.000000</td>\n",
       "      <td>1.0</td>\n",
       "      <td>0.000000</td>\n",
       "    </tr>\n",
       "    <tr>\n",
       "      <th>50%</th>\n",
       "      <td>55274.000000</td>\n",
       "      <td>37.000000</td>\n",
       "      <td>0.000000</td>\n",
       "      <td>0.000000</td>\n",
       "      <td>-1.920823</td>\n",
       "      <td>1.000000</td>\n",
       "      <td>50.000000</td>\n",
       "      <td>2.000000</td>\n",
       "      <td>3.000000</td>\n",
       "      <td>30000.000000</td>\n",
       "      <td>1.000000</td>\n",
       "      <td>3.000000</td>\n",
       "      <td>1.0</td>\n",
       "      <td>0.000000</td>\n",
       "    </tr>\n",
       "    <tr>\n",
       "      <th>75%</th>\n",
       "      <td>82758.500000</td>\n",
       "      <td>48.000000</td>\n",
       "      <td>0.000000</td>\n",
       "      <td>0.000000</td>\n",
       "      <td>-1.569831</td>\n",
       "      <td>3.000000</td>\n",
       "      <td>60.000000</td>\n",
       "      <td>2.000000</td>\n",
       "      <td>3.000000</td>\n",
       "      <td>48000.000000</td>\n",
       "      <td>2.000000</td>\n",
       "      <td>4.000000</td>\n",
       "      <td>1.0</td>\n",
       "      <td>0.000000</td>\n",
       "    </tr>\n",
       "    <tr>\n",
       "      <th>max</th>\n",
       "      <td>110147.000000</td>\n",
       "      <td>72.000000</td>\n",
       "      <td>33.000000</td>\n",
       "      <td>1.000000</td>\n",
       "      <td>0.199773</td>\n",
       "      <td>53.000000</td>\n",
       "      <td>80.000000</td>\n",
       "      <td>3.000000</td>\n",
       "      <td>3.000000</td>\n",
       "      <td>1000000.000000</td>\n",
       "      <td>4.000000</td>\n",
       "      <td>4.000000</td>\n",
       "      <td>1.0</td>\n",
       "      <td>1.000000</td>\n",
       "    </tr>\n",
       "  </tbody>\n",
       "</table>\n",
       "</div>"
      ],
      "text/plain": [
       "           client_id           age  decline_app_cnt     good_work  \\\n",
       "count   73799.000000  73799.000000     73799.000000  73799.000000   \n",
       "mean    55137.965094     39.280641         0.275749      0.164894   \n",
       "std     31841.921168     11.520378         0.804272      0.371087   \n",
       "min         1.000000     21.000000         0.000000      0.000000   \n",
       "25%     27440.500000     30.000000         0.000000      0.000000   \n",
       "50%     55274.000000     37.000000         0.000000      0.000000   \n",
       "75%     82758.500000     48.000000         0.000000      0.000000   \n",
       "max    110147.000000     72.000000        33.000000      1.000000   \n",
       "\n",
       "          score_bki  bki_request_cnt  region_rating  home_address  \\\n",
       "count  73799.000000     73799.000000   73799.000000  73799.000000   \n",
       "mean      -1.904724         2.000339      56.725701      1.575509   \n",
       "std        0.498231         2.252073      13.055717      0.527631   \n",
       "min       -3.624586         0.000000      20.000000      1.000000   \n",
       "25%       -2.259534         0.000000      50.000000      1.000000   \n",
       "50%       -1.920823         1.000000      50.000000      2.000000   \n",
       "75%       -1.569831         3.000000      60.000000      2.000000   \n",
       "max        0.199773        53.000000      80.000000      3.000000   \n",
       "\n",
       "       work_address          income           sna    first_time   sample  \\\n",
       "count  73799.000000    73799.000000  73799.000000  73799.000000  73799.0   \n",
       "mean       2.496280    41099.775417      1.733330      2.765458      1.0   \n",
       "std        0.689818    46166.322400      1.123622      1.009463      0.0   \n",
       "min        1.000000     1000.000000      1.000000      1.000000      1.0   \n",
       "25%        2.000000    20000.000000      1.000000      2.000000      1.0   \n",
       "50%        3.000000    30000.000000      1.000000      3.000000      1.0   \n",
       "75%        3.000000    48000.000000      2.000000      4.000000      1.0   \n",
       "max        3.000000  1000000.000000      4.000000      4.000000      1.0   \n",
       "\n",
       "            default  \n",
       "count  73799.000000  \n",
       "mean       0.126994  \n",
       "std        0.332968  \n",
       "min        0.000000  \n",
       "25%        0.000000  \n",
       "50%        0.000000  \n",
       "75%        0.000000  \n",
       "max        1.000000  "
      ]
     },
     "execution_count": 8,
     "metadata": {},
     "output_type": "execute_result"
    }
   ],
   "source": [
    "# Main metrics of dataset\n",
    "\n",
    "data[data['sample'] == 1].describe()"
   ]
  },
  {
   "cell_type": "code",
   "execution_count": 9,
   "metadata": {
    "execution": {
     "iopub.execute_input": "2022-02-21T12:16:02.783259Z",
     "iopub.status.busy": "2022-02-21T12:16:02.782989Z",
     "iopub.status.idle": "2022-02-21T12:16:02.809337Z",
     "shell.execute_reply": "2022-02-21T12:16:02.807767Z",
     "shell.execute_reply.started": "2022-02-21T12:16:02.783231Z"
    }
   },
   "outputs": [
    {
     "data": {
      "text/html": [
       "<div>\n",
       "<style scoped>\n",
       "    .dataframe tbody tr th:only-of-type {\n",
       "        vertical-align: middle;\n",
       "    }\n",
       "\n",
       "    .dataframe tbody tr th {\n",
       "        vertical-align: top;\n",
       "    }\n",
       "\n",
       "    .dataframe thead th {\n",
       "        text-align: right;\n",
       "    }\n",
       "</style>\n",
       "<table border=\"1\" class=\"dataframe\">\n",
       "  <thead>\n",
       "    <tr style=\"text-align: right;\">\n",
       "      <th></th>\n",
       "      <th>client_id</th>\n",
       "      <th>app_date</th>\n",
       "      <th>education</th>\n",
       "      <th>sex</th>\n",
       "      <th>age</th>\n",
       "      <th>car</th>\n",
       "      <th>car_type</th>\n",
       "      <th>decline_app_cnt</th>\n",
       "      <th>good_work</th>\n",
       "      <th>score_bki</th>\n",
       "      <th>bki_request_cnt</th>\n",
       "      <th>region_rating</th>\n",
       "      <th>home_address</th>\n",
       "      <th>work_address</th>\n",
       "      <th>income</th>\n",
       "      <th>sna</th>\n",
       "      <th>first_time</th>\n",
       "      <th>foreign_passport</th>\n",
       "      <th>sample</th>\n",
       "      <th>default</th>\n",
       "    </tr>\n",
       "  </thead>\n",
       "  <tbody>\n",
       "    <tr>\n",
       "      <th>41142</th>\n",
       "      <td>72285</td>\n",
       "      <td>20MAR2014</td>\n",
       "      <td>GRD</td>\n",
       "      <td>F</td>\n",
       "      <td>54</td>\n",
       "      <td>Y</td>\n",
       "      <td>N</td>\n",
       "      <td>0</td>\n",
       "      <td>0</td>\n",
       "      <td>-2.096063</td>\n",
       "      <td>2</td>\n",
       "      <td>50</td>\n",
       "      <td>1</td>\n",
       "      <td>2</td>\n",
       "      <td>25000</td>\n",
       "      <td>1</td>\n",
       "      <td>3</td>\n",
       "      <td>N</td>\n",
       "      <td>1</td>\n",
       "      <td>0</td>\n",
       "    </tr>\n",
       "    <tr>\n",
       "      <th>22079</th>\n",
       "      <td>90019</td>\n",
       "      <td>06APR2014</td>\n",
       "      <td>UGR</td>\n",
       "      <td>F</td>\n",
       "      <td>49</td>\n",
       "      <td>N</td>\n",
       "      <td>N</td>\n",
       "      <td>0</td>\n",
       "      <td>0</td>\n",
       "      <td>-3.011824</td>\n",
       "      <td>4</td>\n",
       "      <td>70</td>\n",
       "      <td>2</td>\n",
       "      <td>3</td>\n",
       "      <td>30000</td>\n",
       "      <td>4</td>\n",
       "      <td>1</td>\n",
       "      <td>N</td>\n",
       "      <td>0</td>\n",
       "      <td>0</td>\n",
       "    </tr>\n",
       "    <tr>\n",
       "      <th>25843</th>\n",
       "      <td>31788</td>\n",
       "      <td>07FEB2014</td>\n",
       "      <td>SCH</td>\n",
       "      <td>F</td>\n",
       "      <td>45</td>\n",
       "      <td>N</td>\n",
       "      <td>N</td>\n",
       "      <td>0</td>\n",
       "      <td>0</td>\n",
       "      <td>-1.376807</td>\n",
       "      <td>0</td>\n",
       "      <td>60</td>\n",
       "      <td>2</td>\n",
       "      <td>3</td>\n",
       "      <td>20000</td>\n",
       "      <td>1</td>\n",
       "      <td>3</td>\n",
       "      <td>N</td>\n",
       "      <td>0</td>\n",
       "      <td>0</td>\n",
       "    </tr>\n",
       "    <tr>\n",
       "      <th>65549</th>\n",
       "      <td>19068</td>\n",
       "      <td>26JAN2014</td>\n",
       "      <td>SCH</td>\n",
       "      <td>M</td>\n",
       "      <td>47</td>\n",
       "      <td>Y</td>\n",
       "      <td>Y</td>\n",
       "      <td>0</td>\n",
       "      <td>0</td>\n",
       "      <td>-1.820205</td>\n",
       "      <td>3</td>\n",
       "      <td>50</td>\n",
       "      <td>1</td>\n",
       "      <td>2</td>\n",
       "      <td>30000</td>\n",
       "      <td>2</td>\n",
       "      <td>3</td>\n",
       "      <td>Y</td>\n",
       "      <td>1</td>\n",
       "      <td>0</td>\n",
       "    </tr>\n",
       "    <tr>\n",
       "      <th>76654</th>\n",
       "      <td>18981</td>\n",
       "      <td>26JAN2014</td>\n",
       "      <td>SCH</td>\n",
       "      <td>F</td>\n",
       "      <td>62</td>\n",
       "      <td>N</td>\n",
       "      <td>N</td>\n",
       "      <td>0</td>\n",
       "      <td>0</td>\n",
       "      <td>-2.498967</td>\n",
       "      <td>0</td>\n",
       "      <td>80</td>\n",
       "      <td>2</td>\n",
       "      <td>3</td>\n",
       "      <td>40000</td>\n",
       "      <td>1</td>\n",
       "      <td>4</td>\n",
       "      <td>N</td>\n",
       "      <td>1</td>\n",
       "      <td>0</td>\n",
       "    </tr>\n",
       "  </tbody>\n",
       "</table>\n",
       "</div>"
      ],
      "text/plain": [
       "       client_id   app_date education sex  age car car_type  decline_app_cnt  \\\n",
       "41142      72285  20MAR2014       GRD   F   54   Y        N                0   \n",
       "22079      90019  06APR2014       UGR   F   49   N        N                0   \n",
       "25843      31788  07FEB2014       SCH   F   45   N        N                0   \n",
       "65549      19068  26JAN2014       SCH   M   47   Y        Y                0   \n",
       "76654      18981  26JAN2014       SCH   F   62   N        N                0   \n",
       "\n",
       "       good_work  score_bki  bki_request_cnt  region_rating  home_address  \\\n",
       "41142          0  -2.096063                2             50             1   \n",
       "22079          0  -3.011824                4             70             2   \n",
       "25843          0  -1.376807                0             60             2   \n",
       "65549          0  -1.820205                3             50             1   \n",
       "76654          0  -2.498967                0             80             2   \n",
       "\n",
       "       work_address  income  sna  first_time foreign_passport  sample  default  \n",
       "41142             2   25000    1           3                N       1        0  \n",
       "22079             3   30000    4           1                N       0        0  \n",
       "25843             3   20000    1           3                N       0        0  \n",
       "65549             2   30000    2           3                Y       1        0  \n",
       "76654             3   40000    1           4                N       1        0  "
      ]
     },
     "execution_count": 9,
     "metadata": {},
     "output_type": "execute_result"
    }
   ],
   "source": [
    "data.sample(5)"
   ]
  },
  {
   "cell_type": "markdown",
   "metadata": {},
   "source": [
    "## Function list"
   ]
  },
  {
   "cell_type": "code",
   "execution_count": 10,
   "metadata": {
    "execution": {
     "iopub.execute_input": "2022-02-21T12:24:20.784496Z",
     "iopub.status.busy": "2022-02-21T12:24:20.784238Z",
     "iopub.status.idle": "2022-02-21T12:24:20.832052Z",
     "shell.execute_reply": "2022-02-21T12:24:20.830981Z",
     "shell.execute_reply.started": "2022-02-21T12:24:20.784468Z"
    }
   },
   "outputs": [],
   "source": [
    "def outliers(col, col_name):\n",
    "    '''Function to count outliers'''\n",
    "    \n",
    "    Q1 = col.quantile(0.25)\n",
    "    Q3 = col.quantile(0.75)\n",
    "    IQR = Q3 - Q1\n",
    "    outliers_count = pd.DataFrame(col[((col < (Q1 - 1.5 * IQR)) \n",
    "                                       | (col > (Q3 + 1.5 * IQR)))]).count()\n",
    "    print(f'In column {outliers_count.index[0]} {outliers_count[0]} ouliers')\n",
    "\n",
    "\n",
    "def percent_of_target(col1, col2):\n",
    "    '''Little func to display dictrib'''\n",
    "    \n",
    "    display(pd.crosstab(col1, col2, normalize='index'))\n",
    "    \n",
    "\n",
    "def main_dataframe_processing(data):\n",
    "    '''Function for processing dataframe'''\n",
    "    \n",
    "    # Ident minmax scaler\n",
    "    minmax_scaler = MinMaxScaler()\n",
    "    \n",
    "    # Columns lists\n",
    "    bin_list = ['sex', 'car', 'car_type', 'good_work', 'foreign_passport']\n",
    "    cat_list = ['region_rating', 'home_address', 'work_address', 'sna', 'first_time', 'education', \n",
    "                'car_sex', 'car_and_type', 'week_num', 'week_day']\n",
    "    num_list_for_log = ['age', 'income', 'score_bki', 'client_id']\n",
    "    \n",
    "    # Scaling score_bki\n",
    "    data['score_bki'] = minmax_scaler.fit_transform(data['score_bki'].values.reshape(-1, 1))\n",
    "           \n",
    "    # For Education adding NaNs column and filling NaNs by 'NOED'\n",
    "    data['education_NaN'] = (data['education'].isna()).astype('int32')\n",
    "    data['education'].fillna('NOED', inplace=True)\n",
    "    data['cat_education'] = le.fit_transform(data['education'])\n",
    "    \n",
    "    # Columns for mark outliers\n",
    "    for col in ['score_bki', 'income', 'bki_request_cnt']:\n",
    "        Q1 = data[col].quantile(0.25)\n",
    "        Q3 = data[col].quantile(0.75)\n",
    "        IQR = Q3 - Q1\n",
    "        data[col+'_outliers'] = ((data[col] < (Q1 - 1.5 * IQR)) \n",
    "                                 | (data[col] > (Q3 + 1.5 * IQR))).astype('int32')\n",
    "    \n",
    "    # Split age column to categories\n",
    "    cut_bins = list([x for x in range(19, 80, 5)])\n",
    "    cut_labels = list([x for x in range(len(cut_bins)-1)])\n",
    "    data['cat_age'] = pd.cut(data['age'], bins=cut_bins, labels=cut_labels).astype('int32')\n",
    "    \n",
    "    # Reduce categories\n",
    "    mask1 = (data['bki_request_cnt'] > 18)\n",
    "    mask2 = (data['bki_request_cnt'].between(15, 18, inclusive='both'))\n",
    "    mask3 = (data['bki_request_cnt'].between(12, 14, inclusive='both'))\n",
    "    mask4 = (data['bki_request_cnt'].between(9, 11, inclusive='both'))\n",
    "    mask5 = (data['bki_request_cnt'].between(6, 8, inclusive='both'))\n",
    "    mask6 = (data['bki_request_cnt'].between(4, 5, inclusive='both'))\n",
    "\n",
    "    data.loc[mask6, 'bki_request_cnt'] = 4\n",
    "    data.loc[mask5, 'bki_request_cnt'] = 5\n",
    "    data.loc[mask4, 'bki_request_cnt'] = 6\n",
    "    data.loc[mask3, 'bki_request_cnt'] = 7\n",
    "    data.loc[mask2, 'bki_request_cnt'] = 8\n",
    "    data.loc[mask1, 'bki_request_cnt'] = 9\n",
    "    \n",
    "    mask = (data['decline_app_cnt'] > 3)\n",
    "    data.loc[mask, 'decline_app_cnt'] = 3\n",
    "    \n",
    "    # Combine 2 columns\n",
    "    data['car_sex'] = data['sex'] + data['car']\n",
    "    data['car_and_type'] = data['car'] + data['car_type']\n",
    "    \n",
    "    # Date processing\n",
    "    data['app_date'] = pd.to_datetime(data['app_date'])\n",
    "    data['week_num'] = data['app_date'].dt.isocalendar().week\n",
    "    data['week_day'] = data['app_date'].dt.day_of_week\n",
    "    data['month_day'] = data['app_date'].dt.day\n",
    "    data['year_day'] = data['app_date'].dt.day_of_year\n",
    "    data['month_num'] = data['app_date'].dt.month\n",
    "    \n",
    "    # Logarithm columns\n",
    "    for col in ['age', 'income', 'score_bki', 'client_id']:\n",
    "        data[col+'_log'] = np.log(data[col] + 1)\n",
    "    \n",
    "    # Dummies\n",
    "    dummies_columns = cat_list + bin_list\n",
    "    dummies_data = pd.get_dummies(data[dummies_columns], columns=dummies_columns)\n",
    "    data = pd.concat([data, dummies_data], axis=1)\n",
    "    \n",
    "    # Deleting non-usefull columns\n",
    "    drop_lst = cat_list + bin_list + num_list_for_log\n",
    "    \n",
    "    data = data.drop(drop_lst, axis=1)\n",
    "    \n",
    "    return data\n",
    "\n",
    "\n",
    "def normalize(train_data, valid_data, test_data):\n",
    "    '''Normalization of DataSet'''\n",
    "    \n",
    "    robust_scaler = RobustScaler()\n",
    "    \n",
    "    y_train = train_data['default'].values\n",
    "    X_train = robust_scaler.fit_transform(train_data.drop(columns='default', axis=1))\n",
    "    y_valid = valid_data['default'].values\n",
    "    X_valid = robust_scaler.transform(valid_data.drop(columns='default', axis=1))\n",
    "    X_test = robust_scaler.transform(test_data.drop(columns='default', axis=1))\n",
    "    return X_train, X_valid, y_train, y_valid, X_test\n",
    "\n",
    "\n",
    "def model(X_train, X_valid, y_train, y_valid, class_w=None):\n",
    "    '''Func fot testing model'''\n",
    "    \n",
    "    lr = LogisticRegression(solver='liblinear', max_iter=150, class_weight=class_w, \n",
    "                            random_state=SEED)\n",
    "    lr.fit(X_train, y_train)\n",
    "    y_pred = lr.predict(X_valid)\n",
    "    y_pred_proba = lr.predict_proba(X_valid)\n",
    "    \n",
    "    print(f1_score(y_valid, y_pred))\n",
    "    print(classification_report(y_valid, y_pred))\n",
    "    print(cross_val_score(lr, X_train, y_train, scoring='f1', cv=10))\n",
    "    \n",
    "    roc_auc = roc_auc_score(y_valid, y_pred_proba[:,1])\n",
    "    plt.figure()\n",
    "    plt.plot([0, 1], label='Baseline', linestyle='--')\n",
    "    fpr, tpr, thresholds = roc_curve(y_valid, y_pred_proba[:,1])\n",
    "    plt.plot(fpr, tpr, label = 'Regression')\n",
    "    plt.title('Logistic Regression ROC AUC = %0.3f' % roc_auc)\n",
    "    plt.ylabel('True Positive Rate')\n",
    "    plt.xlabel('False Positive Rate')\n",
    "    plt.legend(loc = 'lower right')\n",
    "    plt.show()\n",
    "    \n",
    "    \n",
    "def display_countplot_sep_by_def_and_sex(data, col):\n",
    "    '''Ploting countplot separated by default and by sex'''\n",
    "    \n",
    "    fig, ax = plt.subplots(1, 2, figsize=(12, 2))\n",
    "    sns.countplot(data=data[(data['sample'] == 1) & (data['default'] == 0)], \n",
    "                  x=col, hue='sex', ax=ax[0]).set_title('Default 0')\n",
    "    sns.countplot(data=data[(data['sample'] == 1) & (data['default'] == 1)], \n",
    "                  x=col, hue='sex', ax=ax[1]).set_title('Default 1')\n",
    "    plt.show()\n",
    "    \n",
    "    \n",
    "def display_countplot_sep_by_def(data, col):\n",
    "    '''Ploting countpot separated by default'''\n",
    "    fig, ax = plt.subplots(1, 2, figsize=(12, 2))\n",
    "    sns.countplot(data=data[(data['sample'] == 1)], x=col, hue='default', ax=ax[0]).set_title('Distrib by Default')\n",
    "    sns.countplot(data=data[(data['sample'] == 1)], x=col, ax=ax[1]).set_title(f'Distrib by {col}')\n",
    "    plt.show()\n",
    "    \n",
    "    \n",
    "def display_histplot_sep_by_def_and_sex(data, col):\n",
    "    '''Ploting histplt separated by default and by sex'''\n",
    "    \n",
    "    fig, ax = plt.subplots(1, 2, figsize=(12, 2))\n",
    "    sns.histplot(data=data[(data['sample'] == 1) & (data['default'] == 0)], \n",
    "                 x=col, hue='sex', multiple='dodge', ax=ax[0]).set_title('Default 0')\n",
    "    sns.histplot(data=data[(data['sample'] == 1) & (data['default'] == 1)], \n",
    "                 x=col, hue='sex', multiple='dodge', ax=ax[1]).set_title('Default 1')\n",
    "    plt.show()\n",
    "    \n",
    "    \n",
    "def correlation_plot(data, cols):\n",
    "    '''Ploting correlation matrix'''\n",
    "    \n",
    "    sns.set(font_scale=1)\n",
    "    plt.subplots(figsize=(12, 12))\n",
    "    sns.heatmap(data[data['sample'] == 1][cols].corr(), square=True, \n",
    "                annot=True, fmt=\".3f\", linewidths=0.1, cmap=\"RdBu\")\n",
    "    plt.show()"
   ]
  },
  {
   "cell_type": "markdown",
   "metadata": {},
   "source": [
    "### Setup"
   ]
  },
  {
   "cell_type": "code",
   "execution_count": 11,
   "metadata": {
    "execution": {
     "iopub.execute_input": "2022-02-21T12:16:02.864349Z",
     "iopub.status.busy": "2022-02-21T12:16:02.863627Z",
     "iopub.status.idle": "2022-02-21T12:16:02.875676Z",
     "shell.execute_reply": "2022-02-21T12:16:02.875088Z",
     "shell.execute_reply.started": "2022-02-21T12:16:02.864320Z"
    }
   },
   "outputs": [],
   "source": [
    "bin_list = ['sex', 'car', 'car_type', 'good_work', 'foreign_passport']\n",
    "cat_list = ['region_rating', 'home_address', 'work_address', 'sna', 'first_time', 'education', \n",
    "            'week_num', 'week_day']\n",
    "num_list_for_log = ['age', 'income', 'score_bki', 'client_id']"
   ]
  },
  {
   "cell_type": "markdown",
   "metadata": {},
   "source": [
    "## EDA"
   ]
  },
  {
   "cell_type": "markdown",
   "metadata": {
    "execution": {
     "iopub.execute_input": "2022-02-21T13:09:18.015290Z",
     "iopub.status.busy": "2022-02-21T13:09:18.013912Z",
     "iopub.status.idle": "2022-02-21T13:09:18.022150Z",
     "shell.execute_reply": "2022-02-21T13:09:18.020625Z",
     "shell.execute_reply.started": "2022-02-21T13:09:18.015228Z"
    }
   },
   "source": [
    "### Target column - 'default'"
   ]
  },
  {
   "cell_type": "code",
   "execution_count": 12,
   "metadata": {
    "execution": {
     "iopub.execute_input": "2022-02-21T13:11:19.471070Z",
     "iopub.status.busy": "2022-02-21T13:11:19.470812Z",
     "iopub.status.idle": "2022-02-21T13:11:19.498200Z",
     "shell.execute_reply": "2022-02-21T13:11:19.497191Z",
     "shell.execute_reply.started": "2022-02-21T13:11:19.471043Z"
    }
   },
   "outputs": [
    {
     "data": {
      "text/plain": [
       "0    0.873006\n",
       "1    0.126994\n",
       "Name: default, dtype: float64"
      ]
     },
     "execution_count": 12,
     "metadata": {},
     "output_type": "execute_result"
    }
   ],
   "source": [
    "data[data['sample'] == 1]['default'].value_counts(normalize=True)"
   ]
  },
  {
   "cell_type": "markdown",
   "metadata": {},
   "source": [
    "So, there is imbalance in target. Later I'll try to fix it"
   ]
  },
  {
   "cell_type": "markdown",
   "metadata": {},
   "source": [
    "### Numerical columns"
   ]
  },
  {
   "cell_type": "markdown",
   "metadata": {},
   "source": [
    "#### Age"
   ]
  },
  {
   "cell_type": "markdown",
   "metadata": {},
   "source": [
    "This column doen't have NaN. So, let's look at outliers and distribution by Default."
   ]
  },
  {
   "cell_type": "code",
   "execution_count": 13,
   "metadata": {
    "execution": {
     "iopub.execute_input": "2022-02-21T12:16:02.877039Z",
     "iopub.status.busy": "2022-02-21T12:16:02.876689Z",
     "iopub.status.idle": "2022-02-21T12:16:02.907874Z",
     "shell.execute_reply": "2022-02-21T12:16:02.907201Z",
     "shell.execute_reply.started": "2022-02-21T12:16:02.877011Z"
    }
   },
   "outputs": [
    {
     "name": "stdout",
     "output_type": "stream",
     "text": [
      "In column age 0 ouliers\n"
     ]
    }
   ],
   "source": [
    "outliers(data[data['sample'] == 1]['age'], 'age')"
   ]
  },
  {
   "cell_type": "code",
   "execution_count": 14,
   "metadata": {
    "execution": {
     "iopub.execute_input": "2022-02-21T12:16:02.911891Z",
     "iopub.status.busy": "2022-02-21T12:16:02.911536Z",
     "iopub.status.idle": "2022-02-21T12:16:04.113829Z",
     "shell.execute_reply": "2022-02-21T12:16:04.113274Z",
     "shell.execute_reply.started": "2022-02-21T12:16:02.911863Z"
    }
   },
   "outputs": [
    {
     "data": {
      "image/png": "[encoded data removed]",
      "text/plain": [
       "<Figure size 864x144 with 2 Axes>"
      ]
     },
     "metadata": {
      "needs_background": "light"
     },
     "output_type": "display_data"
    }
   ],
   "source": [
    "display_histplot_sep_by_def_and_sex(data, 'age')"
   ]
  },
  {
   "cell_type": "markdown",
   "metadata": {},
   "source": [
    "Intresting. Kredit for women more ofter had been approved. Denied the same."
   ]
  },
  {
   "cell_type": "code",
   "execution_count": 15,
   "metadata": {
    "execution": {
     "iopub.execute_input": "2022-02-21T12:16:04.115118Z",
     "iopub.status.busy": "2022-02-21T12:16:04.114832Z",
     "iopub.status.idle": "2022-02-21T12:16:04.144461Z",
     "shell.execute_reply": "2022-02-21T12:16:04.143386Z",
     "shell.execute_reply.started": "2022-02-21T12:16:04.115072Z"
    }
   },
   "outputs": [
    {
     "name": "stdout",
     "output_type": "stream",
     "text": [
      "Min Age is 21\n",
      "Max Age is 72\n"
     ]
    }
   ],
   "source": [
    "print(f'Min Age is {data[data[\"sample\"] == 1][\"age\"].min()}')\n",
    "print(f'Max Age is {data[data[\"sample\"] == 1][\"age\"].max()}')"
   ]
  },
  {
   "cell_type": "markdown",
   "metadata": {},
   "source": [
    "Split it on categories by 5 years"
   ]
  },
  {
   "cell_type": "code",
   "execution_count": 16,
   "metadata": {
    "execution": {
     "iopub.execute_input": "2022-02-21T12:16:04.146163Z",
     "iopub.status.busy": "2022-02-21T12:16:04.145899Z",
     "iopub.status.idle": "2022-02-21T12:16:04.158036Z",
     "shell.execute_reply": "2022-02-21T12:16:04.156949Z",
     "shell.execute_reply.started": "2022-02-21T12:16:04.146126Z"
    }
   },
   "outputs": [],
   "source": [
    "cut_bins = list([x for x in range(19, 80, 5)])\n",
    "cut_labels = list([x for x in range(len(cut_bins)-1)])\n",
    "data['cat_age'] = pd.cut(data['age'], bins=cut_bins, labels=cut_labels).astype('int32')"
   ]
  },
  {
   "cell_type": "code",
   "execution_count": 17,
   "metadata": {
    "execution": {
     "iopub.execute_input": "2022-02-21T12:16:04.160803Z",
     "iopub.status.busy": "2022-02-21T12:16:04.159744Z",
     "iopub.status.idle": "2022-02-21T12:16:04.725290Z",
     "shell.execute_reply": "2022-02-21T12:16:04.724293Z",
     "shell.execute_reply.started": "2022-02-21T12:16:04.160702Z"
    }
   },
   "outputs": [
    {
     "data": {
      "image/png": "[encoded data removed]",
      "text/plain": [
       "<Figure size 864x144 with 2 Axes>"
      ]
     },
     "metadata": {
      "needs_background": "light"
     },
     "output_type": "display_data"
    }
   ],
   "source": [
    "display_countplot_sep_by_def_and_sex(data, 'cat_age')"
   ]
  },
  {
   "cell_type": "code",
   "execution_count": 18,
   "metadata": {
    "execution": {
     "iopub.execute_input": "2022-02-21T12:16:04.726948Z",
     "iopub.status.busy": "2022-02-21T12:16:04.726667Z",
     "iopub.status.idle": "2022-02-21T12:16:04.778809Z",
     "shell.execute_reply": "2022-02-21T12:16:04.777891Z",
     "shell.execute_reply.started": "2022-02-21T12:16:04.726910Z"
    }
   },
   "outputs": [
    {
     "data": {
      "text/html": [
       "<div>\n",
       "<style scoped>\n",
       "    .dataframe tbody tr th:only-of-type {\n",
       "        vertical-align: middle;\n",
       "    }\n",
       "\n",
       "    .dataframe tbody tr th {\n",
       "        vertical-align: top;\n",
       "    }\n",
       "\n",
       "    .dataframe thead th {\n",
       "        text-align: right;\n",
       "    }\n",
       "</style>\n",
       "<table border=\"1\" class=\"dataframe\">\n",
       "  <thead>\n",
       "    <tr style=\"text-align: right;\">\n",
       "      <th>default</th>\n",
       "      <th>0</th>\n",
       "      <th>1</th>\n",
       "    </tr>\n",
       "    <tr>\n",
       "      <th>cat_age</th>\n",
       "      <th></th>\n",
       "      <th></th>\n",
       "    </tr>\n",
       "  </thead>\n",
       "  <tbody>\n",
       "    <tr>\n",
       "      <th>0</th>\n",
       "      <td>0.862229</td>\n",
       "      <td>0.137771</td>\n",
       "    </tr>\n",
       "    <tr>\n",
       "      <th>1</th>\n",
       "      <td>0.859879</td>\n",
       "      <td>0.140121</td>\n",
       "    </tr>\n",
       "    <tr>\n",
       "      <th>2</th>\n",
       "      <td>0.868963</td>\n",
       "      <td>0.131037</td>\n",
       "    </tr>\n",
       "    <tr>\n",
       "      <th>3</th>\n",
       "      <td>0.868765</td>\n",
       "      <td>0.131235</td>\n",
       "    </tr>\n",
       "    <tr>\n",
       "      <th>4</th>\n",
       "      <td>0.880069</td>\n",
       "      <td>0.119931</td>\n",
       "    </tr>\n",
       "    <tr>\n",
       "      <th>5</th>\n",
       "      <td>0.881624</td>\n",
       "      <td>0.118376</td>\n",
       "    </tr>\n",
       "    <tr>\n",
       "      <th>6</th>\n",
       "      <td>0.888581</td>\n",
       "      <td>0.111419</td>\n",
       "    </tr>\n",
       "    <tr>\n",
       "      <th>7</th>\n",
       "      <td>0.889210</td>\n",
       "      <td>0.110790</td>\n",
       "    </tr>\n",
       "    <tr>\n",
       "      <th>8</th>\n",
       "      <td>0.876908</td>\n",
       "      <td>0.123092</td>\n",
       "    </tr>\n",
       "    <tr>\n",
       "      <th>9</th>\n",
       "      <td>0.868571</td>\n",
       "      <td>0.131429</td>\n",
       "    </tr>\n",
       "    <tr>\n",
       "      <th>10</th>\n",
       "      <td>0.783784</td>\n",
       "      <td>0.216216</td>\n",
       "    </tr>\n",
       "  </tbody>\n",
       "</table>\n",
       "</div>"
      ],
      "text/plain": [
       "default         0         1\n",
       "cat_age                    \n",
       "0        0.862229  0.137771\n",
       "1        0.859879  0.140121\n",
       "2        0.868963  0.131037\n",
       "3        0.868765  0.131235\n",
       "4        0.880069  0.119931\n",
       "5        0.881624  0.118376\n",
       "6        0.888581  0.111419\n",
       "7        0.889210  0.110790\n",
       "8        0.876908  0.123092\n",
       "9        0.868571  0.131429\n",
       "10       0.783784  0.216216"
      ]
     },
     "metadata": {},
     "output_type": "display_data"
    }
   ],
   "source": [
    "percent_of_target(data[data['sample'] == 1]['cat_age'], data[data['sample'] == 1]['default'])"
   ]
  },
  {
   "cell_type": "code",
   "execution_count": 19,
   "metadata": {
    "execution": {
     "iopub.execute_input": "2022-02-21T12:16:04.780483Z",
     "iopub.status.busy": "2022-02-21T12:16:04.780156Z",
     "iopub.status.idle": "2022-02-21T12:16:04.795323Z",
     "shell.execute_reply": "2022-02-21T12:16:04.794317Z",
     "shell.execute_reply.started": "2022-02-21T12:16:04.780443Z"
    }
   },
   "outputs": [],
   "source": [
    "data['age'] = np.log(data['age'] + 1)"
   ]
  },
  {
   "cell_type": "markdown",
   "metadata": {},
   "source": [
    "About equal distribution by categories over Default column."
   ]
  },
  {
   "cell_type": "markdown",
   "metadata": {},
   "source": [
    "#### score_bki"
   ]
  },
  {
   "cell_type": "code",
   "execution_count": 20,
   "metadata": {
    "execution": {
     "iopub.execute_input": "2022-02-21T12:16:04.796854Z",
     "iopub.status.busy": "2022-02-21T12:16:04.796629Z",
     "iopub.status.idle": "2022-02-21T12:16:05.326664Z",
     "shell.execute_reply": "2022-02-21T12:16:05.325627Z",
     "shell.execute_reply.started": "2022-02-21T12:16:04.796823Z"
    }
   },
   "outputs": [
    {
     "data": {
      "image/png": "[encoded data removed]",
      "text/plain": [
       "<Figure size 360x360 with 1 Axes>"
      ]
     },
     "metadata": {
      "needs_background": "light"
     },
     "output_type": "display_data"
    }
   ],
   "source": [
    "sns.displot(data[data['sample'] == 1]['score_bki'])\n",
    "plt.show()"
   ]
  },
  {
   "cell_type": "code",
   "execution_count": 21,
   "metadata": {
    "execution": {
     "iopub.execute_input": "2022-02-21T12:16:05.328507Z",
     "iopub.status.busy": "2022-02-21T12:16:05.328175Z",
     "iopub.status.idle": "2022-02-21T12:16:06.807702Z",
     "shell.execute_reply": "2022-02-21T12:16:06.806315Z",
     "shell.execute_reply.started": "2022-02-21T12:16:05.328472Z"
    }
   },
   "outputs": [
    {
     "data": {
      "image/png": "[encoded data removed]",
      "text/plain": [
       "<Figure size 864x144 with 2 Axes>"
      ]
     },
     "metadata": {
      "needs_background": "light"
     },
     "output_type": "display_data"
    }
   ],
   "source": [
    "display_histplot_sep_by_def_and_sex(data, 'score_bki')"
   ]
  },
  {
   "cell_type": "markdown",
   "metadata": {},
   "source": [
    "This column doen't have NaN. So, let's look at outliers and distribution by Default"
   ]
  },
  {
   "cell_type": "code",
   "execution_count": 22,
   "metadata": {
    "execution": {
     "iopub.execute_input": "2022-02-21T12:16:06.809676Z",
     "iopub.status.busy": "2022-02-21T12:16:06.809366Z",
     "iopub.status.idle": "2022-02-21T12:16:06.830710Z",
     "shell.execute_reply": "2022-02-21T12:16:06.829230Z",
     "shell.execute_reply.started": "2022-02-21T12:16:06.809645Z"
    }
   },
   "outputs": [
    {
     "name": "stdout",
     "output_type": "stream",
     "text": [
      "In column score_bki 351 ouliers\n"
     ]
    }
   ],
   "source": [
    "outliers(data[data['sample'] == 1]['score_bki'], 'score_bki')"
   ]
  },
  {
   "cell_type": "markdown",
   "metadata": {},
   "source": [
    "Let's make column to mark outliers."
   ]
  },
  {
   "cell_type": "code",
   "execution_count": 23,
   "metadata": {
    "execution": {
     "iopub.execute_input": "2022-02-21T12:16:06.832547Z",
     "iopub.status.busy": "2022-02-21T12:16:06.832126Z",
     "iopub.status.idle": "2022-02-21T12:16:06.864831Z",
     "shell.execute_reply": "2022-02-21T12:16:06.863732Z",
     "shell.execute_reply.started": "2022-02-21T12:16:06.832511Z"
    }
   },
   "outputs": [],
   "source": [
    "Q1 = data[data['sample'] == 1]['score_bki'].quantile(0.25)\n",
    "Q3 = data[data['sample'] == 1]['score_bki'].quantile(0.75)\n",
    "IQR = Q3 - Q1\n",
    "data['score_bki_outliers'] = ((data['sample'] == 1) & ((data['score_bki'] < (Q1 - 1.5 * IQR)) | (data['score_bki'] > (Q3 + 1.5 * IQR)))).astype('int32')"
   ]
  },
  {
   "cell_type": "markdown",
   "metadata": {},
   "source": [
    "#### decline_app_cnt"
   ]
  },
  {
   "cell_type": "code",
   "execution_count": 24,
   "metadata": {
    "execution": {
     "iopub.execute_input": "2022-02-21T12:16:06.866047Z",
     "iopub.status.busy": "2022-02-21T12:16:06.865885Z",
     "iopub.status.idle": "2022-02-21T12:16:07.539022Z",
     "shell.execute_reply": "2022-02-21T12:16:07.538261Z",
     "shell.execute_reply.started": "2022-02-21T12:16:06.866027Z"
    }
   },
   "outputs": [
    {
     "data": {
      "image/png": "[encoded data removed]",
      "text/plain": [
       "<Figure size 864x144 with 2 Axes>"
      ]
     },
     "metadata": {
      "needs_background": "light"
     },
     "output_type": "display_data"
    }
   ],
   "source": [
    "display_countplot_sep_by_def_and_sex(data, 'decline_app_cnt')"
   ]
  },
  {
   "cell_type": "markdown",
   "metadata": {},
   "source": [
    "Count sum of each group"
   ]
  },
  {
   "cell_type": "code",
   "execution_count": 25,
   "metadata": {
    "execution": {
     "iopub.execute_input": "2022-02-21T12:16:07.540030Z",
     "iopub.status.busy": "2022-02-21T12:16:07.539886Z",
     "iopub.status.idle": "2022-02-21T12:16:07.560005Z",
     "shell.execute_reply": "2022-02-21T12:16:07.559132Z",
     "shell.execute_reply.started": "2022-02-21T12:16:07.540010Z"
    }
   },
   "outputs": [
    {
     "data": {
      "text/plain": [
       "0     61214\n",
       "1      8397\n",
       "2      2468\n",
       "3       903\n",
       "4       414\n",
       "5       165\n",
       "6       113\n",
       "7        48\n",
       "9        24\n",
       "8        19\n",
       "10       11\n",
       "11        9\n",
       "13        3\n",
       "12        2\n",
       "14        2\n",
       "16        2\n",
       "15        1\n",
       "19        1\n",
       "22        1\n",
       "24        1\n",
       "33        1\n",
       "Name: decline_app_cnt, dtype: int64"
      ]
     },
     "execution_count": 25,
     "metadata": {},
     "output_type": "execute_result"
    }
   ],
   "source": [
    "data[data['sample'] == 1]['decline_app_cnt'].value_counts()"
   ]
  },
  {
   "cell_type": "markdown",
   "metadata": {},
   "source": [
    "Let's group tails. Leave only 5 groups."
   ]
  },
  {
   "cell_type": "code",
   "execution_count": 26,
   "metadata": {
    "execution": {
     "iopub.execute_input": "2022-02-21T12:16:07.561377Z",
     "iopub.status.busy": "2022-02-21T12:16:07.561117Z",
     "iopub.status.idle": "2022-02-21T12:16:07.568175Z",
     "shell.execute_reply": "2022-02-21T12:16:07.567028Z",
     "shell.execute_reply.started": "2022-02-21T12:16:07.561343Z"
    }
   },
   "outputs": [],
   "source": [
    "mask = (data['decline_app_cnt'] > 4)\n",
    "data.loc[mask, 'decline_app_cnt'] = 4"
   ]
  },
  {
   "cell_type": "code",
   "execution_count": 27,
   "metadata": {
    "execution": {
     "iopub.execute_input": "2022-02-21T12:16:07.569621Z",
     "iopub.status.busy": "2022-02-21T12:16:07.569377Z",
     "iopub.status.idle": "2022-02-21T12:16:07.724968Z",
     "shell.execute_reply": "2022-02-21T12:16:07.724214Z",
     "shell.execute_reply.started": "2022-02-21T12:16:07.569589Z"
    }
   },
   "outputs": [
    {
     "data": {
      "image/png": "[encoded data removed]",
      "text/plain": [
       "<Figure size 432x288 with 1 Axes>"
      ]
     },
     "metadata": {
      "needs_background": "light"
     },
     "output_type": "display_data"
    }
   ],
   "source": [
    "sns.countplot(x='decline_app_cnt', data=data[data['sample'] == 1])\n",
    "plt.show()"
   ]
  },
  {
   "cell_type": "code",
   "execution_count": 28,
   "metadata": {
    "execution": {
     "iopub.execute_input": "2022-02-21T12:16:07.727543Z",
     "iopub.status.busy": "2022-02-21T12:16:07.726414Z",
     "iopub.status.idle": "2022-02-21T12:16:07.768777Z",
     "shell.execute_reply": "2022-02-21T12:16:07.767953Z",
     "shell.execute_reply.started": "2022-02-21T12:16:07.727508Z"
    }
   },
   "outputs": [
    {
     "data": {
      "text/html": [
       "<div>\n",
       "<style scoped>\n",
       "    .dataframe tbody tr th:only-of-type {\n",
       "        vertical-align: middle;\n",
       "    }\n",
       "\n",
       "    .dataframe tbody tr th {\n",
       "        vertical-align: top;\n",
       "    }\n",
       "\n",
       "    .dataframe thead th {\n",
       "        text-align: right;\n",
       "    }\n",
       "</style>\n",
       "<table border=\"1\" class=\"dataframe\">\n",
       "  <thead>\n",
       "    <tr style=\"text-align: right;\">\n",
       "      <th>default</th>\n",
       "      <th>0</th>\n",
       "      <th>1</th>\n",
       "    </tr>\n",
       "    <tr>\n",
       "      <th>decline_app_cnt</th>\n",
       "      <th></th>\n",
       "      <th></th>\n",
       "    </tr>\n",
       "  </thead>\n",
       "  <tbody>\n",
       "    <tr>\n",
       "      <th>0</th>\n",
       "      <td>0.890466</td>\n",
       "      <td>0.109534</td>\n",
       "    </tr>\n",
       "    <tr>\n",
       "      <th>1</th>\n",
       "      <td>0.812195</td>\n",
       "      <td>0.187805</td>\n",
       "    </tr>\n",
       "    <tr>\n",
       "      <th>2</th>\n",
       "      <td>0.756483</td>\n",
       "      <td>0.243517</td>\n",
       "    </tr>\n",
       "    <tr>\n",
       "      <th>3</th>\n",
       "      <td>0.726467</td>\n",
       "      <td>0.273533</td>\n",
       "    </tr>\n",
       "    <tr>\n",
       "      <th>4</th>\n",
       "      <td>0.703794</td>\n",
       "      <td>0.296206</td>\n",
       "    </tr>\n",
       "  </tbody>\n",
       "</table>\n",
       "</div>"
      ],
      "text/plain": [
       "default                 0         1\n",
       "decline_app_cnt                    \n",
       "0                0.890466  0.109534\n",
       "1                0.812195  0.187805\n",
       "2                0.756483  0.243517\n",
       "3                0.726467  0.273533\n",
       "4                0.703794  0.296206"
      ]
     },
     "metadata": {},
     "output_type": "display_data"
    }
   ],
   "source": [
    "percent_of_target(data[data['sample'] == 1]['decline_app_cnt'], data[data['sample'] == 1]['default'])"
   ]
  },
  {
   "cell_type": "markdown",
   "metadata": {},
   "source": [
    "#### bki_request_cnt"
   ]
  },
  {
   "cell_type": "code",
   "execution_count": 29,
   "metadata": {
    "execution": {
     "iopub.execute_input": "2022-02-21T12:16:07.770267Z",
     "iopub.status.busy": "2022-02-21T12:16:07.769907Z",
     "iopub.status.idle": "2022-02-21T12:16:10.092312Z",
     "shell.execute_reply": "2022-02-21T12:16:10.091460Z",
     "shell.execute_reply.started": "2022-02-21T12:16:07.770239Z"
    }
   },
   "outputs": [
    {
     "data": {
      "image/png": "[encoded data removed]",
      "text/plain": [
       "<Figure size 864x360 with 1 Axes>"
      ]
     },
     "metadata": {
      "needs_background": "light"
     },
     "output_type": "display_data"
    }
   ],
   "source": [
    "pl = sns.displot(x='bki_request_cnt', data=data[data['sample'] == 1], hue='sex')\n",
    "pl.fig.set_figwidth(12)\n",
    "pl.fig.set_figheight(5)"
   ]
  },
  {
   "cell_type": "code",
   "execution_count": 30,
   "metadata": {
    "execution": {
     "iopub.execute_input": "2022-02-21T12:16:10.095613Z",
     "iopub.status.busy": "2022-02-21T12:16:10.094594Z",
     "iopub.status.idle": "2022-02-21T12:16:11.397891Z",
     "shell.execute_reply": "2022-02-21T12:16:11.397093Z",
     "shell.execute_reply.started": "2022-02-21T12:16:10.095568Z"
    }
   },
   "outputs": [
    {
     "data": {
      "image/png": "[encoded data removed]",
      "text/plain": [
       "<Figure size 864x144 with 2 Axes>"
      ]
     },
     "metadata": {
      "needs_background": "light"
     },
     "output_type": "display_data"
    }
   ],
   "source": [
    "display_countplot_sep_by_def_and_sex(data, 'bki_request_cnt')"
   ]
  },
  {
   "cell_type": "code",
   "execution_count": 31,
   "metadata": {
    "execution": {
     "iopub.execute_input": "2022-02-21T12:16:11.399096Z",
     "iopub.status.busy": "2022-02-21T12:16:11.398912Z",
     "iopub.status.idle": "2022-02-21T12:16:11.419612Z",
     "shell.execute_reply": "2022-02-21T12:16:11.418626Z",
     "shell.execute_reply.started": "2022-02-21T12:16:11.399073Z"
    }
   },
   "outputs": [
    {
     "data": {
      "text/plain": [
       "0     19381\n",
       "1     18276\n",
       "2     13749\n",
       "3      9187\n",
       "4      5627\n",
       "5      3268\n",
       "6      1704\n",
       "7       852\n",
       "8       508\n",
       "9       299\n",
       "10      225\n",
       "11      188\n",
       "12      144\n",
       "13       94\n",
       "14       86\n",
       "15       54\n",
       "16       35\n",
       "18       22\n",
       "17       19\n",
       "19       18\n",
       "21       12\n",
       "24       11\n",
       "20        9\n",
       "23        7\n",
       "22        4\n",
       "28        4\n",
       "25        2\n",
       "26        2\n",
       "27        2\n",
       "32        2\n",
       "41        1\n",
       "46        1\n",
       "45        1\n",
       "29        1\n",
       "36        1\n",
       "34        1\n",
       "33        1\n",
       "53        1\n",
       "Name: bki_request_cnt, dtype: int64"
      ]
     },
     "execution_count": 31,
     "metadata": {},
     "output_type": "execute_result"
    }
   ],
   "source": [
    "data[data['sample'] == 1]['bki_request_cnt'].value_counts()"
   ]
  },
  {
   "cell_type": "code",
   "execution_count": 32,
   "metadata": {
    "execution": {
     "iopub.execute_input": "2022-02-21T12:16:11.421150Z",
     "iopub.status.busy": "2022-02-21T12:16:11.420871Z",
     "iopub.status.idle": "2022-02-21T12:16:11.436969Z",
     "shell.execute_reply": "2022-02-21T12:16:11.436239Z",
     "shell.execute_reply.started": "2022-02-21T12:16:11.421114Z"
    }
   },
   "outputs": [],
   "source": [
    "mask1 = (data['bki_request_cnt'] > 18)\n",
    "mask2 = (data['bki_request_cnt'].between(15, 18, inclusive='both'))\n",
    "mask3 = (data['bki_request_cnt'].between(12, 14, inclusive='both'))\n",
    "mask4 = (data['bki_request_cnt'].between(9, 11, inclusive='both'))\n",
    "mask5 = (data['bki_request_cnt'].between(6, 8, inclusive='both'))\n",
    "mask6 = (data['bki_request_cnt'].between(4, 5, inclusive='both'))\n",
    "\n",
    "data.loc[mask6, 'bki_request_cnt'] = 4\n",
    "data.loc[mask5, 'bki_request_cnt'] = 5\n",
    "data.loc[mask4, 'bki_request_cnt'] = 6\n",
    "data.loc[mask3, 'bki_request_cnt'] = 7\n",
    "data.loc[mask2, 'bki_request_cnt'] = 8\n",
    "data.loc[mask1, 'bki_request_cnt'] = 9"
   ]
  },
  {
   "cell_type": "code",
   "execution_count": 33,
   "metadata": {
    "execution": {
     "iopub.execute_input": "2022-02-21T12:16:11.438658Z",
     "iopub.status.busy": "2022-02-21T12:16:11.438135Z",
     "iopub.status.idle": "2022-02-21T12:16:11.939103Z",
     "shell.execute_reply": "2022-02-21T12:16:11.937886Z",
     "shell.execute_reply.started": "2022-02-21T12:16:11.438629Z"
    }
   },
   "outputs": [
    {
     "data": {
      "image/png": "[encoded data removed]",
      "text/plain": [
       "<Figure size 864x144 with 2 Axes>"
      ]
     },
     "metadata": {
      "needs_background": "light"
     },
     "output_type": "display_data"
    }
   ],
   "source": [
    "display_countplot_sep_by_def_and_sex(data, 'bki_request_cnt')"
   ]
  },
  {
   "cell_type": "code",
   "execution_count": 34,
   "metadata": {
    "execution": {
     "iopub.execute_input": "2022-02-21T12:16:11.940666Z",
     "iopub.status.busy": "2022-02-21T12:16:11.940395Z",
     "iopub.status.idle": "2022-02-21T12:16:12.931105Z",
     "shell.execute_reply": "2022-02-21T12:16:12.930081Z",
     "shell.execute_reply.started": "2022-02-21T12:16:11.940634Z"
    }
   },
   "outputs": [
    {
     "data": {
      "image/png": "[encoded data removed]",
      "text/plain": [
       "<Figure size 864x360 with 1 Axes>"
      ]
     },
     "metadata": {
      "needs_background": "light"
     },
     "output_type": "display_data"
    }
   ],
   "source": [
    "pl = sns.displot(x='bki_request_cnt', data=data[data['sample'] == 1], hue='sex')\n",
    "pl.fig.set_figwidth(12)\n",
    "pl.fig.set_figheight(5)"
   ]
  },
  {
   "cell_type": "markdown",
   "metadata": {},
   "source": [
    "#### Income"
   ]
  },
  {
   "cell_type": "code",
   "execution_count": 35,
   "metadata": {
    "execution": {
     "iopub.execute_input": "2022-02-21T12:16:12.933270Z",
     "iopub.status.busy": "2022-02-21T12:16:12.933035Z",
     "iopub.status.idle": "2022-02-21T12:16:14.390084Z",
     "shell.execute_reply": "2022-02-21T12:16:14.389282Z",
     "shell.execute_reply.started": "2022-02-21T12:16:12.933238Z"
    }
   },
   "outputs": [
    {
     "data": {
      "image/png": "[encoded data removed]",
      "text/plain": [
       "<Figure size 864x360 with 2 Axes>"
      ]
     },
     "metadata": {
      "needs_background": "light"
     },
     "output_type": "display_data"
    }
   ],
   "source": [
    "pl = sns.displot(data = data[data['sample'] == 1], x='income', col='sex', kind='kde')\n",
    "pl.fig.set_figwidth(12)\n",
    "pl.fig.set_figheight(5)"
   ]
  },
  {
   "cell_type": "code",
   "execution_count": 36,
   "metadata": {
    "execution": {
     "iopub.execute_input": "2022-02-21T12:16:14.391449Z",
     "iopub.status.busy": "2022-02-21T12:16:14.391226Z",
     "iopub.status.idle": "2022-02-21T12:16:14.412860Z",
     "shell.execute_reply": "2022-02-21T12:16:14.412353Z",
     "shell.execute_reply.started": "2022-02-21T12:16:14.391400Z"
    }
   },
   "outputs": [
    {
     "name": "stdout",
     "output_type": "stream",
     "text": [
      "In column income 4695 ouliers\n"
     ]
    }
   ],
   "source": [
    "outliers(data[data['sample'] == 1]['income'], 'income')"
   ]
  },
  {
   "cell_type": "code",
   "execution_count": 37,
   "metadata": {
    "execution": {
     "iopub.execute_input": "2022-02-21T12:16:14.414300Z",
     "iopub.status.busy": "2022-02-21T12:16:14.413844Z",
     "iopub.status.idle": "2022-02-21T12:16:14.444991Z",
     "shell.execute_reply": "2022-02-21T12:16:14.444410Z",
     "shell.execute_reply.started": "2022-02-21T12:16:14.414272Z"
    }
   },
   "outputs": [],
   "source": [
    "Q1 = data[data['sample'] == 1]['income'].quantile(0.25)\n",
    "Q3 = data[data['sample'] == 1]['income'].quantile(0.75)\n",
    "IQR = Q3 - Q1\n",
    "data['income_outliers'] = ((data['sample'] == 1) & ((data['income'] < (Q1 - 1.5 * IQR)) | (data['income'] > (Q3 + 1.5 * IQR)))).astype('int32')"
   ]
  },
  {
   "cell_type": "markdown",
   "metadata": {},
   "source": [
    "25 quatile = 20000, 75 - 48000. Make cat column from income with step 5000. < 20000 - 0, > 48000 max cat"
   ]
  },
  {
   "cell_type": "code",
   "execution_count": 38,
   "metadata": {
    "execution": {
     "iopub.execute_input": "2022-02-21T12:16:14.446487Z",
     "iopub.status.busy": "2022-02-21T12:16:14.446147Z",
     "iopub.status.idle": "2022-02-21T12:16:14.457666Z",
     "shell.execute_reply": "2022-02-21T12:16:14.456514Z",
     "shell.execute_reply.started": "2022-02-21T12:16:14.446459Z"
    }
   },
   "outputs": [],
   "source": [
    "cut_income_bins = [0, 20000, 25000, 30000, 35000, 40000, 45000, 48000, 1000001]\n",
    "cut_income_labels = [0, 1, 2, 3, 4, 5, 6, 7]\n",
    "\n",
    "data['cat_income'] = pd.cut(data['income'], cut_income_bins, labels=cut_income_labels, right=False).astype('int32')"
   ]
  },
  {
   "cell_type": "code",
   "execution_count": 39,
   "metadata": {
    "execution": {
     "iopub.execute_input": "2022-02-21T12:16:14.459461Z",
     "iopub.status.busy": "2022-02-21T12:16:14.458685Z",
     "iopub.status.idle": "2022-02-21T12:16:14.805011Z",
     "shell.execute_reply": "2022-02-21T12:16:14.804583Z",
     "shell.execute_reply.started": "2022-02-21T12:16:14.459408Z"
    }
   },
   "outputs": [
    {
     "data": {
      "image/png": "[encoded data removed]",
      "text/plain": [
       "<Figure size 864x144 with 2 Axes>"
      ]
     },
     "metadata": {
      "needs_background": "light"
     },
     "output_type": "display_data"
    }
   ],
   "source": [
    "display_countplot_sep_by_def(data, 'cat_income')"
   ]
  },
  {
   "cell_type": "code",
   "execution_count": 40,
   "metadata": {
    "execution": {
     "iopub.execute_input": "2022-02-21T12:16:14.806202Z",
     "iopub.status.busy": "2022-02-21T12:16:14.806043Z",
     "iopub.status.idle": "2022-02-21T12:16:14.853616Z",
     "shell.execute_reply": "2022-02-21T12:16:14.852445Z",
     "shell.execute_reply.started": "2022-02-21T12:16:14.806180Z"
    }
   },
   "outputs": [
    {
     "data": {
      "text/html": [
       "<div>\n",
       "<style scoped>\n",
       "    .dataframe tbody tr th:only-of-type {\n",
       "        vertical-align: middle;\n",
       "    }\n",
       "\n",
       "    .dataframe tbody tr th {\n",
       "        vertical-align: top;\n",
       "    }\n",
       "\n",
       "    .dataframe thead th {\n",
       "        text-align: right;\n",
       "    }\n",
       "</style>\n",
       "<table border=\"1\" class=\"dataframe\">\n",
       "  <thead>\n",
       "    <tr style=\"text-align: right;\">\n",
       "      <th>default</th>\n",
       "      <th>0</th>\n",
       "      <th>1</th>\n",
       "    </tr>\n",
       "    <tr>\n",
       "      <th>cat_income</th>\n",
       "      <th></th>\n",
       "      <th></th>\n",
       "    </tr>\n",
       "  </thead>\n",
       "  <tbody>\n",
       "    <tr>\n",
       "      <th>0</th>\n",
       "      <td>0.853437</td>\n",
       "      <td>0.146563</td>\n",
       "    </tr>\n",
       "    <tr>\n",
       "      <th>1</th>\n",
       "      <td>0.849900</td>\n",
       "      <td>0.150100</td>\n",
       "    </tr>\n",
       "    <tr>\n",
       "      <th>2</th>\n",
       "      <td>0.858661</td>\n",
       "      <td>0.141339</td>\n",
       "    </tr>\n",
       "    <tr>\n",
       "      <th>3</th>\n",
       "      <td>0.873969</td>\n",
       "      <td>0.126031</td>\n",
       "    </tr>\n",
       "    <tr>\n",
       "      <th>4</th>\n",
       "      <td>0.859730</td>\n",
       "      <td>0.140270</td>\n",
       "    </tr>\n",
       "    <tr>\n",
       "      <th>5</th>\n",
       "      <td>0.883493</td>\n",
       "      <td>0.116507</td>\n",
       "    </tr>\n",
       "    <tr>\n",
       "      <th>6</th>\n",
       "      <td>0.875133</td>\n",
       "      <td>0.124867</td>\n",
       "    </tr>\n",
       "    <tr>\n",
       "      <th>7</th>\n",
       "      <td>0.907273</td>\n",
       "      <td>0.092727</td>\n",
       "    </tr>\n",
       "  </tbody>\n",
       "</table>\n",
       "</div>"
      ],
      "text/plain": [
       "default            0         1\n",
       "cat_income                    \n",
       "0           0.853437  0.146563\n",
       "1           0.849900  0.150100\n",
       "2           0.858661  0.141339\n",
       "3           0.873969  0.126031\n",
       "4           0.859730  0.140270\n",
       "5           0.883493  0.116507\n",
       "6           0.875133  0.124867\n",
       "7           0.907273  0.092727"
      ]
     },
     "metadata": {},
     "output_type": "display_data"
    }
   ],
   "source": [
    "percent_of_target(data[data['sample'] == 1]['cat_income'], data[data['sample'] == 1]['default'])"
   ]
  },
  {
   "cell_type": "code",
   "execution_count": 41,
   "metadata": {
    "execution": {
     "iopub.execute_input": "2022-02-21T12:16:14.860378Z",
     "iopub.status.busy": "2022-02-21T12:16:14.860146Z",
     "iopub.status.idle": "2022-02-21T12:16:14.870414Z",
     "shell.execute_reply": "2022-02-21T12:16:14.869562Z",
     "shell.execute_reply.started": "2022-02-21T12:16:14.860356Z"
    }
   },
   "outputs": [],
   "source": [
    "data['income'] = np.log(data['income'] + 1)"
   ]
  },
  {
   "cell_type": "code",
   "execution_count": 42,
   "metadata": {
    "execution": {
     "iopub.execute_input": "2022-02-21T12:16:14.872603Z",
     "iopub.status.busy": "2022-02-21T12:16:14.872302Z",
     "iopub.status.idle": "2022-02-21T12:16:16.377354Z",
     "shell.execute_reply": "2022-02-21T12:16:16.376456Z",
     "shell.execute_reply.started": "2022-02-21T12:16:14.872562Z"
    }
   },
   "outputs": [
    {
     "data": {
      "image/png": "[encoded data removed]",
      "text/plain": [
       "<Figure size 864x360 with 2 Axes>"
      ]
     },
     "metadata": {
      "needs_background": "light"
     },
     "output_type": "display_data"
    }
   ],
   "source": [
    "pl = sns.displot(data = data[data['sample'] == 1], x='income', col='sex', kind='kde')\n",
    "pl.fig.set_figwidth(12)\n",
    "pl.fig.set_figheight(5)"
   ]
  },
  {
   "cell_type": "markdown",
   "metadata": {},
   "source": [
    "### Binary columns"
   ]
  },
  {
   "cell_type": "markdown",
   "metadata": {},
   "source": [
    "#### sex"
   ]
  },
  {
   "cell_type": "code",
   "execution_count": 43,
   "metadata": {
    "execution": {
     "iopub.execute_input": "2022-02-21T12:16:16.378512Z",
     "iopub.status.busy": "2022-02-21T12:16:16.378304Z",
     "iopub.status.idle": "2022-02-21T12:16:16.670732Z",
     "shell.execute_reply": "2022-02-21T12:16:16.670117Z",
     "shell.execute_reply.started": "2022-02-21T12:16:16.378488Z"
    }
   },
   "outputs": [
    {
     "data": {
      "image/png": "[encoded data removed]",
      "text/plain": [
       "<Figure size 864x144 with 2 Axes>"
      ]
     },
     "metadata": {
      "needs_background": "light"
     },
     "output_type": "display_data"
    }
   ],
   "source": [
    "display_countplot_sep_by_def(data, 'sex')"
   ]
  },
  {
   "cell_type": "markdown",
   "metadata": {},
   "source": [
    "#### car"
   ]
  },
  {
   "cell_type": "code",
   "execution_count": 44,
   "metadata": {
    "execution": {
     "iopub.execute_input": "2022-02-21T12:16:16.671882Z",
     "iopub.status.busy": "2022-02-21T12:16:16.671697Z",
     "iopub.status.idle": "2022-02-21T12:16:16.959131Z",
     "shell.execute_reply": "2022-02-21T12:16:16.958304Z",
     "shell.execute_reply.started": "2022-02-21T12:16:16.671847Z"
    }
   },
   "outputs": [
    {
     "data": {
      "image/png": "[encoded data removed]",
      "text/plain": [
       "<Figure size 864x144 with 2 Axes>"
      ]
     },
     "metadata": {
      "needs_background": "light"
     },
     "output_type": "display_data"
    }
   ],
   "source": [
    "display_countplot_sep_by_def(data, 'car')"
   ]
  },
  {
   "cell_type": "markdown",
   "metadata": {},
   "source": [
    "#### car_type"
   ]
  },
  {
   "cell_type": "code",
   "execution_count": 45,
   "metadata": {
    "execution": {
     "iopub.execute_input": "2022-02-21T12:16:16.960673Z",
     "iopub.status.busy": "2022-02-21T12:16:16.960178Z",
     "iopub.status.idle": "2022-02-21T12:16:17.395759Z",
     "shell.execute_reply": "2022-02-21T12:16:17.394961Z",
     "shell.execute_reply.started": "2022-02-21T12:16:16.960639Z"
    }
   },
   "outputs": [
    {
     "data": {
      "image/png": "[encoded data removed]",
      "text/plain": [
       "<Figure size 864x144 with 2 Axes>"
      ]
     },
     "metadata": {
      "needs_background": "light"
     },
     "output_type": "display_data"
    }
   ],
   "source": [
    "display_countplot_sep_by_def(data, 'car_type')"
   ]
  },
  {
   "cell_type": "markdown",
   "metadata": {},
   "source": [
    "#### good_work"
   ]
  },
  {
   "cell_type": "code",
   "execution_count": 46,
   "metadata": {
    "execution": {
     "iopub.execute_input": "2022-02-21T12:16:17.397110Z",
     "iopub.status.busy": "2022-02-21T12:16:17.396864Z",
     "iopub.status.idle": "2022-02-21T12:16:17.852599Z",
     "shell.execute_reply": "2022-02-21T12:16:17.851665Z",
     "shell.execute_reply.started": "2022-02-21T12:16:17.397077Z"
    }
   },
   "outputs": [
    {
     "data": {
      "image/png": "[encoded data removed]",
      "text/plain": [
       "<Figure size 864x144 with 2 Axes>"
      ]
     },
     "metadata": {
      "needs_background": "light"
     },
     "output_type": "display_data"
    }
   ],
   "source": [
    "display_countplot_sep_by_def(data, 'good_work')"
   ]
  },
  {
   "cell_type": "markdown",
   "metadata": {},
   "source": [
    "#### foreign_passport"
   ]
  },
  {
   "cell_type": "code",
   "execution_count": 47,
   "metadata": {
    "execution": {
     "iopub.execute_input": "2022-02-21T12:16:17.855604Z",
     "iopub.status.busy": "2022-02-21T12:16:17.855352Z",
     "iopub.status.idle": "2022-02-21T12:16:18.293549Z",
     "shell.execute_reply": "2022-02-21T12:16:18.292787Z",
     "shell.execute_reply.started": "2022-02-21T12:16:17.855575Z"
    }
   },
   "outputs": [
    {
     "data": {
      "image/png": "[encoded data removed]",
      "text/plain": [
       "<Figure size 864x144 with 2 Axes>"
      ]
     },
     "metadata": {
      "needs_background": "light"
     },
     "output_type": "display_data"
    }
   ],
   "source": [
    "display_countplot_sep_by_def(data, 'foreign_passport')"
   ]
  },
  {
   "cell_type": "markdown",
   "metadata": {},
   "source": [
    "### Categorical columns"
   ]
  },
  {
   "cell_type": "markdown",
   "metadata": {},
   "source": [
    "#### Education"
   ]
  },
  {
   "cell_type": "code",
   "execution_count": 48,
   "metadata": {
    "execution": {
     "iopub.execute_input": "2022-02-21T12:16:18.296532Z",
     "iopub.status.busy": "2022-02-21T12:16:18.294771Z",
     "iopub.status.idle": "2022-02-21T12:16:18.326885Z",
     "shell.execute_reply": "2022-02-21T12:16:18.325763Z",
     "shell.execute_reply.started": "2022-02-21T12:16:18.296499Z"
    }
   },
   "outputs": [
    {
     "data": {
      "text/plain": [
       "SCH    38860\n",
       "GRD    23365\n",
       "UGR     9816\n",
       "PGR     1257\n",
       "NaN      307\n",
       "ACD      194\n",
       "Name: education, dtype: int64"
      ]
     },
     "execution_count": 48,
     "metadata": {},
     "output_type": "execute_result"
    }
   ],
   "source": [
    "data[(data['sample'] == 1)]['education'].value_counts(dropna=False)"
   ]
  },
  {
   "cell_type": "markdown",
   "metadata": {},
   "source": [
    "This column has empty cells. Count them and fill by mode. There is only 307 in train. But first I make new column with marks of empty cells (like for outliers)"
   ]
  },
  {
   "cell_type": "code",
   "execution_count": 49,
   "metadata": {
    "execution": {
     "iopub.execute_input": "2022-02-21T12:16:18.328813Z",
     "iopub.status.busy": "2022-02-21T12:16:18.328519Z",
     "iopub.status.idle": "2022-02-21T12:16:18.346374Z",
     "shell.execute_reply": "2022-02-21T12:16:18.345634Z",
     "shell.execute_reply.started": "2022-02-21T12:16:18.328772Z"
    }
   },
   "outputs": [],
   "source": [
    "data['education_NaN'] = (data['education'].isna()).astype('int32')"
   ]
  },
  {
   "cell_type": "code",
   "execution_count": 50,
   "metadata": {
    "execution": {
     "iopub.execute_input": "2022-02-21T12:16:18.348099Z",
     "iopub.status.busy": "2022-02-21T12:16:18.347764Z",
     "iopub.status.idle": "2022-02-21T12:16:18.371673Z",
     "shell.execute_reply": "2022-02-21T12:16:18.370562Z",
     "shell.execute_reply.started": "2022-02-21T12:16:18.348071Z"
    }
   },
   "outputs": [],
   "source": [
    "data['education'].fillna('NOED', inplace=True)"
   ]
  },
  {
   "cell_type": "code",
   "execution_count": 51,
   "metadata": {
    "execution": {
     "iopub.execute_input": "2022-02-21T12:16:18.372887Z",
     "iopub.status.busy": "2022-02-21T12:16:18.372657Z",
     "iopub.status.idle": "2022-02-21T12:16:18.756232Z",
     "shell.execute_reply": "2022-02-21T12:16:18.755111Z",
     "shell.execute_reply.started": "2022-02-21T12:16:18.372854Z"
    }
   },
   "outputs": [
    {
     "data": {
      "image/png": "[encoded data removed]",
      "text/plain": [
       "<Figure size 864x144 with 2 Axes>"
      ]
     },
     "metadata": {
      "needs_background": "light"
     },
     "output_type": "display_data"
    }
   ],
   "source": [
    "display_countplot_sep_by_def(data, 'education')"
   ]
  },
  {
   "cell_type": "code",
   "execution_count": 52,
   "metadata": {
    "execution": {
     "iopub.execute_input": "2022-02-21T12:16:18.758209Z",
     "iopub.status.busy": "2022-02-21T12:16:18.757959Z",
     "iopub.status.idle": "2022-02-21T12:16:18.806589Z",
     "shell.execute_reply": "2022-02-21T12:16:18.805729Z",
     "shell.execute_reply.started": "2022-02-21T12:16:18.758175Z"
    }
   },
   "outputs": [
    {
     "data": {
      "text/html": [
       "<div>\n",
       "<style scoped>\n",
       "    .dataframe tbody tr th:only-of-type {\n",
       "        vertical-align: middle;\n",
       "    }\n",
       "\n",
       "    .dataframe tbody tr th {\n",
       "        vertical-align: top;\n",
       "    }\n",
       "\n",
       "    .dataframe thead th {\n",
       "        text-align: right;\n",
       "    }\n",
       "</style>\n",
       "<table border=\"1\" class=\"dataframe\">\n",
       "  <thead>\n",
       "    <tr style=\"text-align: right;\">\n",
       "      <th>default</th>\n",
       "      <th>0</th>\n",
       "      <th>1</th>\n",
       "    </tr>\n",
       "    <tr>\n",
       "      <th>education</th>\n",
       "      <th></th>\n",
       "      <th></th>\n",
       "    </tr>\n",
       "  </thead>\n",
       "  <tbody>\n",
       "    <tr>\n",
       "      <th>ACD</th>\n",
       "      <td>0.958763</td>\n",
       "      <td>0.041237</td>\n",
       "    </tr>\n",
       "    <tr>\n",
       "      <th>GRD</th>\n",
       "      <td>0.909908</td>\n",
       "      <td>0.090092</td>\n",
       "    </tr>\n",
       "    <tr>\n",
       "      <th>NOED</th>\n",
       "      <td>0.885993</td>\n",
       "      <td>0.114007</td>\n",
       "    </tr>\n",
       "    <tr>\n",
       "      <th>PGR</th>\n",
       "      <td>0.935561</td>\n",
       "      <td>0.064439</td>\n",
       "    </tr>\n",
       "    <tr>\n",
       "      <th>SCH</th>\n",
       "      <td>0.849408</td>\n",
       "      <td>0.150592</td>\n",
       "    </tr>\n",
       "    <tr>\n",
       "      <th>UGR</th>\n",
       "      <td>0.868480</td>\n",
       "      <td>0.131520</td>\n",
       "    </tr>\n",
       "  </tbody>\n",
       "</table>\n",
       "</div>"
      ],
      "text/plain": [
       "default           0         1\n",
       "education                    \n",
       "ACD        0.958763  0.041237\n",
       "GRD        0.909908  0.090092\n",
       "NOED       0.885993  0.114007\n",
       "PGR        0.935561  0.064439\n",
       "SCH        0.849408  0.150592\n",
       "UGR        0.868480  0.131520"
      ]
     },
     "metadata": {},
     "output_type": "display_data"
    }
   ],
   "source": [
    "percent_of_target(data[(data['sample'] == 1)]['education'], data[(data['sample'] == 1)]['default'])"
   ]
  },
  {
   "cell_type": "code",
   "execution_count": 53,
   "metadata": {
    "execution": {
     "iopub.execute_input": "2022-02-21T12:16:18.808059Z",
     "iopub.status.busy": "2022-02-21T12:16:18.807810Z",
     "iopub.status.idle": "2022-02-21T12:16:18.855700Z",
     "shell.execute_reply": "2022-02-21T12:16:18.854384Z",
     "shell.execute_reply.started": "2022-02-21T12:16:18.808028Z"
    }
   },
   "outputs": [],
   "source": [
    "data['education'] = le.fit_transform(data['education'])"
   ]
  },
  {
   "cell_type": "markdown",
   "metadata": {},
   "source": [
    "Further I'll decide to do dummies or change cal names to numeric"
   ]
  },
  {
   "cell_type": "markdown",
   "metadata": {},
   "source": [
    "#### first_time"
   ]
  },
  {
   "cell_type": "code",
   "execution_count": 54,
   "metadata": {
    "execution": {
     "iopub.execute_input": "2022-02-21T12:16:18.857608Z",
     "iopub.status.busy": "2022-02-21T12:16:18.857302Z",
     "iopub.status.idle": "2022-02-21T12:16:19.158902Z",
     "shell.execute_reply": "2022-02-21T12:16:19.158172Z",
     "shell.execute_reply.started": "2022-02-21T12:16:18.857568Z"
    }
   },
   "outputs": [
    {
     "data": {
      "image/png": "[encoded data removed]",
      "text/plain": [
       "<Figure size 864x144 with 2 Axes>"
      ]
     },
     "metadata": {
      "needs_background": "light"
     },
     "output_type": "display_data"
    }
   ],
   "source": [
    "display_countplot_sep_by_def(data, 'first_time')"
   ]
  },
  {
   "cell_type": "code",
   "execution_count": 55,
   "metadata": {
    "execution": {
     "iopub.execute_input": "2022-02-21T12:16:19.160456Z",
     "iopub.status.busy": "2022-02-21T12:16:19.160173Z",
     "iopub.status.idle": "2022-02-21T12:16:19.209541Z",
     "shell.execute_reply": "2022-02-21T12:16:19.208120Z",
     "shell.execute_reply.started": "2022-02-21T12:16:19.160398Z"
    }
   },
   "outputs": [
    {
     "data": {
      "text/html": [
       "<div>\n",
       "<style scoped>\n",
       "    .dataframe tbody tr th:only-of-type {\n",
       "        vertical-align: middle;\n",
       "    }\n",
       "\n",
       "    .dataframe tbody tr th {\n",
       "        vertical-align: top;\n",
       "    }\n",
       "\n",
       "    .dataframe thead th {\n",
       "        text-align: right;\n",
       "    }\n",
       "</style>\n",
       "<table border=\"1\" class=\"dataframe\">\n",
       "  <thead>\n",
       "    <tr style=\"text-align: right;\">\n",
       "      <th>default</th>\n",
       "      <th>0</th>\n",
       "      <th>1</th>\n",
       "    </tr>\n",
       "    <tr>\n",
       "      <th>first_time</th>\n",
       "      <th></th>\n",
       "      <th></th>\n",
       "    </tr>\n",
       "  </thead>\n",
       "  <tbody>\n",
       "    <tr>\n",
       "      <th>1</th>\n",
       "      <td>0.813874</td>\n",
       "      <td>0.186126</td>\n",
       "    </tr>\n",
       "    <tr>\n",
       "      <th>2</th>\n",
       "      <td>0.844571</td>\n",
       "      <td>0.155429</td>\n",
       "    </tr>\n",
       "    <tr>\n",
       "      <th>3</th>\n",
       "      <td>0.879731</td>\n",
       "      <td>0.120269</td>\n",
       "    </tr>\n",
       "    <tr>\n",
       "      <th>4</th>\n",
       "      <td>0.917970</td>\n",
       "      <td>0.082030</td>\n",
       "    </tr>\n",
       "  </tbody>\n",
       "</table>\n",
       "</div>"
      ],
      "text/plain": [
       "default            0         1\n",
       "first_time                    \n",
       "1           0.813874  0.186126\n",
       "2           0.844571  0.155429\n",
       "3           0.879731  0.120269\n",
       "4           0.917970  0.082030"
      ]
     },
     "metadata": {},
     "output_type": "display_data"
    }
   ],
   "source": [
    "percent_of_target(data[(data['sample'] == 1)]['first_time'], data[(data['sample'] == 1)]['default'])"
   ]
  },
  {
   "cell_type": "markdown",
   "metadata": {},
   "source": [
    "#### sna"
   ]
  },
  {
   "cell_type": "code",
   "execution_count": 56,
   "metadata": {
    "execution": {
     "iopub.execute_input": "2022-02-21T12:16:19.211552Z",
     "iopub.status.busy": "2022-02-21T12:16:19.211194Z",
     "iopub.status.idle": "2022-02-21T12:16:19.506876Z",
     "shell.execute_reply": "2022-02-21T12:16:19.505838Z",
     "shell.execute_reply.started": "2022-02-21T12:16:19.211477Z"
    }
   },
   "outputs": [
    {
     "data": {
      "image/png": "[encoded data removed]",
      "text/plain": [
       "<Figure size 864x144 with 2 Axes>"
      ]
     },
     "metadata": {
      "needs_background": "light"
     },
     "output_type": "display_data"
    }
   ],
   "source": [
    "display_countplot_sep_by_def(data, 'sna')"
   ]
  },
  {
   "cell_type": "code",
   "execution_count": 57,
   "metadata": {
    "execution": {
     "iopub.execute_input": "2022-02-21T12:16:19.508587Z",
     "iopub.status.busy": "2022-02-21T12:16:19.508340Z",
     "iopub.status.idle": "2022-02-21T12:16:19.556357Z",
     "shell.execute_reply": "2022-02-21T12:16:19.555639Z",
     "shell.execute_reply.started": "2022-02-21T12:16:19.508558Z"
    },
    "scrolled": true
   },
   "outputs": [
    {
     "data": {
      "text/html": [
       "<div>\n",
       "<style scoped>\n",
       "    .dataframe tbody tr th:only-of-type {\n",
       "        vertical-align: middle;\n",
       "    }\n",
       "\n",
       "    .dataframe tbody tr th {\n",
       "        vertical-align: top;\n",
       "    }\n",
       "\n",
       "    .dataframe thead th {\n",
       "        text-align: right;\n",
       "    }\n",
       "</style>\n",
       "<table border=\"1\" class=\"dataframe\">\n",
       "  <thead>\n",
       "    <tr style=\"text-align: right;\">\n",
       "      <th>default</th>\n",
       "      <th>0</th>\n",
       "      <th>1</th>\n",
       "    </tr>\n",
       "    <tr>\n",
       "      <th>sna</th>\n",
       "      <th></th>\n",
       "      <th></th>\n",
       "    </tr>\n",
       "  </thead>\n",
       "  <tbody>\n",
       "    <tr>\n",
       "      <th>1</th>\n",
       "      <td>0.901799</td>\n",
       "      <td>0.098201</td>\n",
       "    </tr>\n",
       "    <tr>\n",
       "      <th>2</th>\n",
       "      <td>0.850179</td>\n",
       "      <td>0.149821</td>\n",
       "    </tr>\n",
       "    <tr>\n",
       "      <th>3</th>\n",
       "      <td>0.842348</td>\n",
       "      <td>0.157652</td>\n",
       "    </tr>\n",
       "    <tr>\n",
       "      <th>4</th>\n",
       "      <td>0.788493</td>\n",
       "      <td>0.211507</td>\n",
       "    </tr>\n",
       "  </tbody>\n",
       "</table>\n",
       "</div>"
      ],
      "text/plain": [
       "default         0         1\n",
       "sna                        \n",
       "1        0.901799  0.098201\n",
       "2        0.850179  0.149821\n",
       "3        0.842348  0.157652\n",
       "4        0.788493  0.211507"
      ]
     },
     "metadata": {},
     "output_type": "display_data"
    }
   ],
   "source": [
    "percent_of_target(data[(data['sample'] == 1)]['sna'], data[(data['sample'] == 1)]['default'])"
   ]
  },
  {
   "cell_type": "markdown",
   "metadata": {},
   "source": [
    "#### work_address"
   ]
  },
  {
   "cell_type": "code",
   "execution_count": 58,
   "metadata": {
    "execution": {
     "iopub.execute_input": "2022-02-21T12:16:19.557650Z",
     "iopub.status.busy": "2022-02-21T12:16:19.557491Z",
     "iopub.status.idle": "2022-02-21T12:16:19.809312Z",
     "shell.execute_reply": "2022-02-21T12:16:19.807305Z",
     "shell.execute_reply.started": "2022-02-21T12:16:19.557629Z"
    }
   },
   "outputs": [
    {
     "data": {
      "image/png": "[encoded data removed]",
      "text/plain": [
       "<Figure size 864x144 with 2 Axes>"
      ]
     },
     "metadata": {
      "needs_background": "light"
     },
     "output_type": "display_data"
    }
   ],
   "source": [
    "display_countplot_sep_by_def(data, 'work_address')"
   ]
  },
  {
   "cell_type": "code",
   "execution_count": 59,
   "metadata": {
    "execution": {
     "iopub.execute_input": "2022-02-21T12:16:19.811100Z",
     "iopub.status.busy": "2022-02-21T12:16:19.810814Z",
     "iopub.status.idle": "2022-02-21T12:16:19.857931Z",
     "shell.execute_reply": "2022-02-21T12:16:19.856914Z",
     "shell.execute_reply.started": "2022-02-21T12:16:19.811070Z"
    },
    "scrolled": true
   },
   "outputs": [
    {
     "data": {
      "text/html": [
       "<div>\n",
       "<style scoped>\n",
       "    .dataframe tbody tr th:only-of-type {\n",
       "        vertical-align: middle;\n",
       "    }\n",
       "\n",
       "    .dataframe tbody tr th {\n",
       "        vertical-align: top;\n",
       "    }\n",
       "\n",
       "    .dataframe thead th {\n",
       "        text-align: right;\n",
       "    }\n",
       "</style>\n",
       "<table border=\"1\" class=\"dataframe\">\n",
       "  <thead>\n",
       "    <tr style=\"text-align: right;\">\n",
       "      <th>default</th>\n",
       "      <th>0</th>\n",
       "      <th>1</th>\n",
       "    </tr>\n",
       "    <tr>\n",
       "      <th>work_address</th>\n",
       "      <th></th>\n",
       "      <th></th>\n",
       "    </tr>\n",
       "  </thead>\n",
       "  <tbody>\n",
       "    <tr>\n",
       "      <th>1</th>\n",
       "      <td>0.925846</td>\n",
       "      <td>0.074154</td>\n",
       "    </tr>\n",
       "    <tr>\n",
       "      <th>2</th>\n",
       "      <td>0.897493</td>\n",
       "      <td>0.102507</td>\n",
       "    </tr>\n",
       "    <tr>\n",
       "      <th>3</th>\n",
       "      <td>0.852043</td>\n",
       "      <td>0.147957</td>\n",
       "    </tr>\n",
       "  </tbody>\n",
       "</table>\n",
       "</div>"
      ],
      "text/plain": [
       "default              0         1\n",
       "work_address                    \n",
       "1             0.925846  0.074154\n",
       "2             0.897493  0.102507\n",
       "3             0.852043  0.147957"
      ]
     },
     "metadata": {},
     "output_type": "display_data"
    }
   ],
   "source": [
    "percent_of_target(data[(data['sample'] == 1)]['work_address'], data[(data['sample'] == 1)]['default'])"
   ]
  },
  {
   "cell_type": "markdown",
   "metadata": {},
   "source": [
    "#### home_address"
   ]
  },
  {
   "cell_type": "code",
   "execution_count": 60,
   "metadata": {
    "execution": {
     "iopub.execute_input": "2022-02-21T12:16:19.860112Z",
     "iopub.status.busy": "2022-02-21T12:16:19.859810Z",
     "iopub.status.idle": "2022-02-21T12:16:20.169104Z",
     "shell.execute_reply": "2022-02-21T12:16:20.168171Z",
     "shell.execute_reply.started": "2022-02-21T12:16:19.860074Z"
    }
   },
   "outputs": [
    {
     "data": {
      "image/png": "[encoded data removed]",
      "text/plain": [
       "<Figure size 864x144 with 2 Axes>"
      ]
     },
     "metadata": {
      "needs_background": "light"
     },
     "output_type": "display_data"
    }
   ],
   "source": [
    "display_countplot_sep_by_def(data, 'home_address')"
   ]
  },
  {
   "cell_type": "code",
   "execution_count": 61,
   "metadata": {
    "execution": {
     "iopub.execute_input": "2022-02-21T12:16:20.170372Z",
     "iopub.status.busy": "2022-02-21T12:16:20.170178Z",
     "iopub.status.idle": "2022-02-21T12:16:20.216009Z",
     "shell.execute_reply": "2022-02-21T12:16:20.215102Z",
     "shell.execute_reply.started": "2022-02-21T12:16:20.170345Z"
    }
   },
   "outputs": [
    {
     "data": {
      "text/html": [
       "<div>\n",
       "<style scoped>\n",
       "    .dataframe tbody tr th:only-of-type {\n",
       "        vertical-align: middle;\n",
       "    }\n",
       "\n",
       "    .dataframe tbody tr th {\n",
       "        vertical-align: top;\n",
       "    }\n",
       "\n",
       "    .dataframe thead th {\n",
       "        text-align: right;\n",
       "    }\n",
       "</style>\n",
       "<table border=\"1\" class=\"dataframe\">\n",
       "  <thead>\n",
       "    <tr style=\"text-align: right;\">\n",
       "      <th>default</th>\n",
       "      <th>0</th>\n",
       "      <th>1</th>\n",
       "    </tr>\n",
       "    <tr>\n",
       "      <th>home_address</th>\n",
       "      <th></th>\n",
       "      <th></th>\n",
       "    </tr>\n",
       "  </thead>\n",
       "  <tbody>\n",
       "    <tr>\n",
       "      <th>1</th>\n",
       "      <td>0.907104</td>\n",
       "      <td>0.092896</td>\n",
       "    </tr>\n",
       "    <tr>\n",
       "      <th>2</th>\n",
       "      <td>0.844854</td>\n",
       "      <td>0.155146</td>\n",
       "    </tr>\n",
       "    <tr>\n",
       "      <th>3</th>\n",
       "      <td>0.883943</td>\n",
       "      <td>0.116057</td>\n",
       "    </tr>\n",
       "  </tbody>\n",
       "</table>\n",
       "</div>"
      ],
      "text/plain": [
       "default              0         1\n",
       "home_address                    \n",
       "1             0.907104  0.092896\n",
       "2             0.844854  0.155146\n",
       "3             0.883943  0.116057"
      ]
     },
     "metadata": {},
     "output_type": "display_data"
    }
   ],
   "source": [
    "percent_of_target(data[(data['sample'] == 1)]['home_address'], data[(data['sample'] == 1)]['default'])"
   ]
  },
  {
   "cell_type": "markdown",
   "metadata": {},
   "source": [
    "#### region_rating"
   ]
  },
  {
   "cell_type": "code",
   "execution_count": 62,
   "metadata": {
    "execution": {
     "iopub.execute_input": "2022-02-21T12:16:20.217648Z",
     "iopub.status.busy": "2022-02-21T12:16:20.217383Z",
     "iopub.status.idle": "2022-02-21T12:16:20.564766Z",
     "shell.execute_reply": "2022-02-21T12:16:20.563886Z",
     "shell.execute_reply.started": "2022-02-21T12:16:20.217619Z"
    }
   },
   "outputs": [
    {
     "data": {
      "image/png": "[encoded data removed]",
      "text/plain": [
       "<Figure size 864x144 with 2 Axes>"
      ]
     },
     "metadata": {
      "needs_background": "light"
     },
     "output_type": "display_data"
    }
   ],
   "source": [
    "display_countplot_sep_by_def(data, 'region_rating')"
   ]
  },
  {
   "cell_type": "code",
   "execution_count": 63,
   "metadata": {
    "execution": {
     "iopub.execute_input": "2022-02-21T12:16:20.566329Z",
     "iopub.status.busy": "2022-02-21T12:16:20.565819Z",
     "iopub.status.idle": "2022-02-21T12:16:20.613310Z",
     "shell.execute_reply": "2022-02-21T12:16:20.612577Z",
     "shell.execute_reply.started": "2022-02-21T12:16:20.566285Z"
    }
   },
   "outputs": [
    {
     "data": {
      "text/html": [
       "<div>\n",
       "<style scoped>\n",
       "    .dataframe tbody tr th:only-of-type {\n",
       "        vertical-align: middle;\n",
       "    }\n",
       "\n",
       "    .dataframe tbody tr th {\n",
       "        vertical-align: top;\n",
       "    }\n",
       "\n",
       "    .dataframe thead th {\n",
       "        text-align: right;\n",
       "    }\n",
       "</style>\n",
       "<table border=\"1\" class=\"dataframe\">\n",
       "  <thead>\n",
       "    <tr style=\"text-align: right;\">\n",
       "      <th>default</th>\n",
       "      <th>0</th>\n",
       "      <th>1</th>\n",
       "    </tr>\n",
       "    <tr>\n",
       "      <th>region_rating</th>\n",
       "      <th></th>\n",
       "      <th></th>\n",
       "    </tr>\n",
       "  </thead>\n",
       "  <tbody>\n",
       "    <tr>\n",
       "      <th>20</th>\n",
       "      <td>0.786408</td>\n",
       "      <td>0.213592</td>\n",
       "    </tr>\n",
       "    <tr>\n",
       "      <th>30</th>\n",
       "      <td>0.810000</td>\n",
       "      <td>0.190000</td>\n",
       "    </tr>\n",
       "    <tr>\n",
       "      <th>40</th>\n",
       "      <td>0.830298</td>\n",
       "      <td>0.169702</td>\n",
       "    </tr>\n",
       "    <tr>\n",
       "      <th>50</th>\n",
       "      <td>0.863859</td>\n",
       "      <td>0.136141</td>\n",
       "    </tr>\n",
       "    <tr>\n",
       "      <th>60</th>\n",
       "      <td>0.871166</td>\n",
       "      <td>0.128834</td>\n",
       "    </tr>\n",
       "    <tr>\n",
       "      <th>70</th>\n",
       "      <td>0.907566</td>\n",
       "      <td>0.092434</td>\n",
       "    </tr>\n",
       "    <tr>\n",
       "      <th>80</th>\n",
       "      <td>0.926846</td>\n",
       "      <td>0.073154</td>\n",
       "    </tr>\n",
       "  </tbody>\n",
       "</table>\n",
       "</div>"
      ],
      "text/plain": [
       "default               0         1\n",
       "region_rating                    \n",
       "20             0.786408  0.213592\n",
       "30             0.810000  0.190000\n",
       "40             0.830298  0.169702\n",
       "50             0.863859  0.136141\n",
       "60             0.871166  0.128834\n",
       "70             0.907566  0.092434\n",
       "80             0.926846  0.073154"
      ]
     },
     "metadata": {},
     "output_type": "display_data"
    }
   ],
   "source": [
    "percent_of_target(data[(data['sample'] == 1)]['region_rating'], data[(data['sample'] == 1)]['default'])"
   ]
  },
  {
   "cell_type": "markdown",
   "metadata": {},
   "source": [
    "### Date column"
   ]
  },
  {
   "cell_type": "code",
   "execution_count": 64,
   "metadata": {
    "execution": {
     "iopub.execute_input": "2022-02-21T12:16:20.614838Z",
     "iopub.status.busy": "2022-02-21T12:16:20.614263Z",
     "iopub.status.idle": "2022-02-21T12:16:20.651456Z",
     "shell.execute_reply": "2022-02-21T12:16:20.650587Z",
     "shell.execute_reply.started": "2022-02-21T12:16:20.614808Z"
    }
   },
   "outputs": [],
   "source": [
    "data['app_date'] = pd.to_datetime(data['app_date'])"
   ]
  },
  {
   "cell_type": "code",
   "execution_count": 65,
   "metadata": {
    "execution": {
     "iopub.execute_input": "2022-02-21T12:16:20.652971Z",
     "iopub.status.busy": "2022-02-21T12:16:20.652746Z",
     "iopub.status.idle": "2022-02-21T12:16:20.871712Z",
     "shell.execute_reply": "2022-02-21T12:16:20.870693Z",
     "shell.execute_reply.started": "2022-02-21T12:16:20.652940Z"
    }
   },
   "outputs": [],
   "source": [
    "data['week_num'] = data['app_date'].dt.isocalendar().week\n",
    "data['week_day'] = data['app_date'].dt.day_of_week\n",
    "data['month_day'] = data['app_date'].dt.day\n",
    "data['year_day'] = data['app_date'].dt.day_of_year\n",
    "data['month_num'] = data['app_date'].dt.month\n",
    "data['bday'] = data['week_day'].apply(lambda x: 1 if x not in [5, 6] else 0)"
   ]
  },
  {
   "cell_type": "markdown",
   "metadata": {},
   "source": [
    "### Correlation"
   ]
  },
  {
   "cell_type": "markdown",
   "metadata": {},
   "source": [
    "#### Num columns"
   ]
  },
  {
   "cell_type": "code",
   "execution_count": 66,
   "metadata": {
    "execution": {
     "iopub.execute_input": "2022-02-21T12:16:20.873188Z",
     "iopub.status.busy": "2022-02-21T12:16:20.873010Z",
     "iopub.status.idle": "2022-02-21T12:16:21.133162Z",
     "shell.execute_reply": "2022-02-21T12:16:21.132385Z",
     "shell.execute_reply.started": "2022-02-21T12:16:20.873164Z"
    }
   },
   "outputs": [
    {
     "data": {
      "image/png": "[encoded data removed]",
      "text/plain": [
       "<Figure size 864x864 with 2 Axes>"
      ]
     },
     "metadata": {},
     "output_type": "display_data"
    }
   ],
   "source": [
    "correlation_plot(data, num_list_for_log)"
   ]
  },
  {
   "cell_type": "markdown",
   "metadata": {
    "execution": {
     "iopub.execute_input": "2022-02-21T11:03:57.491922Z",
     "iopub.status.busy": "2022-02-21T11:03:57.491659Z",
     "iopub.status.idle": "2022-02-21T11:03:57.495743Z",
     "shell.execute_reply": "2022-02-21T11:03:57.494969Z",
     "shell.execute_reply.started": "2022-02-21T11:03:57.491893Z"
    }
   },
   "source": [
    "#### Cat columns"
   ]
  },
  {
   "cell_type": "code",
   "execution_count": 67,
   "metadata": {
    "execution": {
     "iopub.execute_input": "2022-02-21T12:16:21.135090Z",
     "iopub.status.busy": "2022-02-21T12:16:21.134806Z",
     "iopub.status.idle": "2022-02-21T12:16:21.649324Z",
     "shell.execute_reply": "2022-02-21T12:16:21.648287Z",
     "shell.execute_reply.started": "2022-02-21T12:16:21.135060Z"
    }
   },
   "outputs": [
    {
     "data": {
      "image/png": "[encoded data removed]",
      "text/plain": [
       "<Figure size 864x864 with 2 Axes>"
      ]
     },
     "metadata": {},
     "output_type": "display_data"
    }
   ],
   "source": [
    "correlation_plot(data, cat_list)"
   ]
  },
  {
   "cell_type": "markdown",
   "metadata": {},
   "source": [
    "Normal correlation over all columns. But Home and Work address have over 0.7 It's understandeble. But I leave all of them (tried to delete one but metric fall)"
   ]
  },
  {
   "cell_type": "code",
   "execution_count": 68,
   "metadata": {
    "execution": {
     "iopub.execute_input": "2022-02-21T12:16:21.650857Z",
     "iopub.status.busy": "2022-02-21T12:16:21.650648Z",
     "iopub.status.idle": "2022-02-21T12:16:21.866865Z",
     "shell.execute_reply": "2022-02-21T12:16:21.866339Z",
     "shell.execute_reply.started": "2022-02-21T12:16:21.650829Z"
    }
   },
   "outputs": [
    {
     "data": {
      "image/png": "[encoded data removed]",
      "text/plain": [
       "<Figure size 432x288 with 1 Axes>"
      ]
     },
     "metadata": {},
     "output_type": "display_data"
    }
   ],
   "source": [
    "num_df = pd.DataFrame()\n",
    "num_df['name']= np.array(num_list_for_log)\n",
    "num_df['feature_importance']= f_classif(data[num_list_for_log], data['default'])[0]\n",
    "num_df.plot(x=\"name\", y=\"feature_importance\", kind=\"barh\")\n",
    "plt.show()"
   ]
  },
  {
   "cell_type": "code",
   "execution_count": 69,
   "metadata": {
    "execution": {
     "iopub.execute_input": "2022-02-21T12:16:21.868581Z",
     "iopub.status.busy": "2022-02-21T12:16:21.867781Z",
     "iopub.status.idle": "2022-02-21T12:16:22.260763Z",
     "shell.execute_reply": "2022-02-21T12:16:22.259758Z",
     "shell.execute_reply.started": "2022-02-21T12:16:21.868552Z"
    }
   },
   "outputs": [
    {
     "data": {
      "text/plain": [
       "<AxesSubplot:>"
      ]
     },
     "execution_count": 69,
     "metadata": {},
     "output_type": "execute_result"
    },
    {
     "data": {
      "image/png": "[encoded data removed]",
      "text/plain": [
       "<Figure size 432x288 with 1 Axes>"
      ]
     },
     "metadata": {},
     "output_type": "display_data"
    }
   ],
   "source": [
    "imp_cat = pd.Series(mutual_info_classif(data[cat_list], data['default'],\n",
    "                                     discrete_features =True), index = cat_list)\n",
    "imp_cat.sort_values(inplace = True)\n",
    "imp_cat.plot(kind = 'barh')"
   ]
  },
  {
   "cell_type": "markdown",
   "metadata": {},
   "source": [
    "## Modeling"
   ]
  },
  {
   "cell_type": "markdown",
   "metadata": {},
   "source": [
    "### read data and apply processing function"
   ]
  },
  {
   "cell_type": "code",
   "execution_count": 70,
   "metadata": {
    "execution": {
     "iopub.execute_input": "2022-02-21T12:16:22.262370Z",
     "iopub.status.busy": "2022-02-21T12:16:22.262143Z",
     "iopub.status.idle": "2022-02-21T12:16:22.830313Z",
     "shell.execute_reply": "2022-02-21T12:16:22.829441Z",
     "shell.execute_reply.started": "2022-02-21T12:16:22.262341Z"
    }
   },
   "outputs": [],
   "source": [
    "new_train_data = main_dataframe_processing(df_train)\n",
    "new_test_data = main_dataframe_processing(df_test)"
   ]
  },
  {
   "cell_type": "code",
   "execution_count": 71,
   "metadata": {
    "execution": {
     "iopub.execute_input": "2022-02-21T12:16:22.831745Z",
     "iopub.status.busy": "2022-02-21T12:16:22.831491Z",
     "iopub.status.idle": "2022-02-21T12:16:22.838921Z",
     "shell.execute_reply": "2022-02-21T12:16:22.837971Z",
     "shell.execute_reply.started": "2022-02-21T12:16:22.831708Z"
    }
   },
   "outputs": [
    {
     "data": {
      "text/plain": [
       "(36349, 87)"
      ]
     },
     "execution_count": 71,
     "metadata": {},
     "output_type": "execute_result"
    }
   ],
   "source": [
    "new_test_data.shape"
   ]
  },
  {
   "cell_type": "markdown",
   "metadata": {},
   "source": [
    "### normalization and balansing"
   ]
  },
  {
   "cell_type": "markdown",
   "metadata": {},
   "source": [
    "Deleting all non_numeric columns and split to train and test"
   ]
  },
  {
   "cell_type": "code",
   "execution_count": 72,
   "metadata": {
    "execution": {
     "iopub.execute_input": "2022-02-21T12:16:22.840316Z",
     "iopub.status.busy": "2022-02-21T12:16:22.840090Z",
     "iopub.status.idle": "2022-02-21T12:16:22.854801Z",
     "shell.execute_reply": "2022-02-21T12:16:22.853583Z",
     "shell.execute_reply.started": "2022-02-21T12:16:22.840289Z"
    }
   },
   "outputs": [],
   "source": [
    "new_train_data = new_train_data._get_numeric_data()\n",
    "new_test_data = new_test_data._get_numeric_data()\n",
    "new_train_data = new_train_data.drop(columns=['sample'], axis=1)\n",
    "new_test_data = new_test_data.drop(columns=['sample'], axis=1)"
   ]
  },
  {
   "cell_type": "code",
   "execution_count": 73,
   "metadata": {
    "execution": {
     "iopub.execute_input": "2022-02-21T12:16:22.856319Z",
     "iopub.status.busy": "2022-02-21T12:16:22.856125Z",
     "iopub.status.idle": "2022-02-21T12:16:22.910797Z",
     "shell.execute_reply": "2022-02-21T12:16:22.909976Z",
     "shell.execute_reply.started": "2022-02-21T12:16:22.856295Z"
    }
   },
   "outputs": [
    {
     "data": {
      "text/html": [
       "<div>\n",
       "<style scoped>\n",
       "    .dataframe tbody tr th:only-of-type {\n",
       "        vertical-align: middle;\n",
       "    }\n",
       "\n",
       "    .dataframe tbody tr th {\n",
       "        vertical-align: top;\n",
       "    }\n",
       "\n",
       "    .dataframe thead th {\n",
       "        text-align: right;\n",
       "    }\n",
       "</style>\n",
       "<table border=\"1\" class=\"dataframe\">\n",
       "  <thead>\n",
       "    <tr style=\"text-align: right;\">\n",
       "      <th></th>\n",
       "      <th>decline_app_cnt</th>\n",
       "      <th>bki_request_cnt</th>\n",
       "      <th>default</th>\n",
       "      <th>education_NaN</th>\n",
       "      <th>cat_education</th>\n",
       "      <th>score_bki_outliers</th>\n",
       "      <th>income_outliers</th>\n",
       "      <th>bki_request_cnt_outliers</th>\n",
       "      <th>cat_age</th>\n",
       "      <th>month_day</th>\n",
       "      <th>year_day</th>\n",
       "      <th>month_num</th>\n",
       "      <th>age_log</th>\n",
       "      <th>income_log</th>\n",
       "      <th>score_bki_log</th>\n",
       "      <th>client_id_log</th>\n",
       "      <th>region_rating_20</th>\n",
       "      <th>region_rating_30</th>\n",
       "      <th>region_rating_40</th>\n",
       "      <th>region_rating_50</th>\n",
       "      <th>region_rating_60</th>\n",
       "      <th>region_rating_70</th>\n",
       "      <th>region_rating_80</th>\n",
       "      <th>home_address_1</th>\n",
       "      <th>home_address_2</th>\n",
       "      <th>home_address_3</th>\n",
       "      <th>work_address_1</th>\n",
       "      <th>work_address_2</th>\n",
       "      <th>work_address_3</th>\n",
       "      <th>sna_1</th>\n",
       "      <th>sna_2</th>\n",
       "      <th>sna_3</th>\n",
       "      <th>sna_4</th>\n",
       "      <th>first_time_1</th>\n",
       "      <th>first_time_2</th>\n",
       "      <th>first_time_3</th>\n",
       "      <th>first_time_4</th>\n",
       "      <th>education_ACD</th>\n",
       "      <th>education_GRD</th>\n",
       "      <th>education_NOED</th>\n",
       "      <th>education_PGR</th>\n",
       "      <th>education_SCH</th>\n",
       "      <th>education_UGR</th>\n",
       "      <th>car_sex_FN</th>\n",
       "      <th>car_sex_FY</th>\n",
       "      <th>car_sex_MN</th>\n",
       "      <th>car_sex_MY</th>\n",
       "      <th>car_and_type_NN</th>\n",
       "      <th>car_and_type_YN</th>\n",
       "      <th>car_and_type_YY</th>\n",
       "      <th>week_num_1</th>\n",
       "      <th>week_num_2</th>\n",
       "      <th>week_num_3</th>\n",
       "      <th>week_num_4</th>\n",
       "      <th>week_num_5</th>\n",
       "      <th>week_num_6</th>\n",
       "      <th>week_num_7</th>\n",
       "      <th>week_num_8</th>\n",
       "      <th>week_num_9</th>\n",
       "      <th>week_num_10</th>\n",
       "      <th>week_num_11</th>\n",
       "      <th>week_num_12</th>\n",
       "      <th>week_num_13</th>\n",
       "      <th>week_num_14</th>\n",
       "      <th>week_num_15</th>\n",
       "      <th>week_num_16</th>\n",
       "      <th>week_num_17</th>\n",
       "      <th>week_num_18</th>\n",
       "      <th>week_day_0</th>\n",
       "      <th>week_day_1</th>\n",
       "      <th>week_day_2</th>\n",
       "      <th>week_day_3</th>\n",
       "      <th>week_day_4</th>\n",
       "      <th>week_day_5</th>\n",
       "      <th>week_day_6</th>\n",
       "      <th>sex_F</th>\n",
       "      <th>sex_M</th>\n",
       "      <th>car_N</th>\n",
       "      <th>car_Y</th>\n",
       "      <th>car_type_N</th>\n",
       "      <th>car_type_Y</th>\n",
       "      <th>good_work_0</th>\n",
       "      <th>good_work_1</th>\n",
       "      <th>foreign_passport_N</th>\n",
       "      <th>foreign_passport_Y</th>\n",
       "    </tr>\n",
       "  </thead>\n",
       "  <tbody>\n",
       "    <tr>\n",
       "      <th>64209</th>\n",
       "      <td>1</td>\n",
       "      <td>0</td>\n",
       "      <td>1</td>\n",
       "      <td>0</td>\n",
       "      <td>4</td>\n",
       "      <td>0</td>\n",
       "      <td>0</td>\n",
       "      <td>0</td>\n",
       "      <td>3</td>\n",
       "      <td>4</td>\n",
       "      <td>35</td>\n",
       "      <td>2</td>\n",
       "      <td>3.637586</td>\n",
       "      <td>10.463132</td>\n",
       "      <td>0.294440</td>\n",
       "      <td>10.259867</td>\n",
       "      <td>0</td>\n",
       "      <td>0</td>\n",
       "      <td>1</td>\n",
       "      <td>0</td>\n",
       "      <td>0</td>\n",
       "      <td>0</td>\n",
       "      <td>0</td>\n",
       "      <td>0</td>\n",
       "      <td>0</td>\n",
       "      <td>1</td>\n",
       "      <td>0</td>\n",
       "      <td>0</td>\n",
       "      <td>1</td>\n",
       "      <td>0</td>\n",
       "      <td>0</td>\n",
       "      <td>0</td>\n",
       "      <td>1</td>\n",
       "      <td>1</td>\n",
       "      <td>0</td>\n",
       "      <td>0</td>\n",
       "      <td>0</td>\n",
       "      <td>0</td>\n",
       "      <td>0</td>\n",
       "      <td>0</td>\n",
       "      <td>0</td>\n",
       "      <td>1</td>\n",
       "      <td>0</td>\n",
       "      <td>1</td>\n",
       "      <td>0</td>\n",
       "      <td>0</td>\n",
       "      <td>0</td>\n",
       "      <td>1</td>\n",
       "      <td>0</td>\n",
       "      <td>0</td>\n",
       "      <td>0</td>\n",
       "      <td>0</td>\n",
       "      <td>0</td>\n",
       "      <td>0</td>\n",
       "      <td>0</td>\n",
       "      <td>1</td>\n",
       "      <td>0</td>\n",
       "      <td>0</td>\n",
       "      <td>0</td>\n",
       "      <td>0</td>\n",
       "      <td>0</td>\n",
       "      <td>0</td>\n",
       "      <td>0</td>\n",
       "      <td>0</td>\n",
       "      <td>0</td>\n",
       "      <td>0</td>\n",
       "      <td>0</td>\n",
       "      <td>0</td>\n",
       "      <td>0</td>\n",
       "      <td>1</td>\n",
       "      <td>0</td>\n",
       "      <td>0</td>\n",
       "      <td>0</td>\n",
       "      <td>0</td>\n",
       "      <td>0</td>\n",
       "      <td>1</td>\n",
       "      <td>0</td>\n",
       "      <td>1</td>\n",
       "      <td>0</td>\n",
       "      <td>1</td>\n",
       "      <td>0</td>\n",
       "      <td>1</td>\n",
       "      <td>0</td>\n",
       "      <td>1</td>\n",
       "      <td>0</td>\n",
       "    </tr>\n",
       "    <tr>\n",
       "      <th>57726</th>\n",
       "      <td>0</td>\n",
       "      <td>0</td>\n",
       "      <td>1</td>\n",
       "      <td>0</td>\n",
       "      <td>4</td>\n",
       "      <td>0</td>\n",
       "      <td>0</td>\n",
       "      <td>0</td>\n",
       "      <td>2</td>\n",
       "      <td>6</td>\n",
       "      <td>65</td>\n",
       "      <td>3</td>\n",
       "      <td>3.433987</td>\n",
       "      <td>9.680406</td>\n",
       "      <td>0.435435</td>\n",
       "      <td>10.974934</td>\n",
       "      <td>0</td>\n",
       "      <td>0</td>\n",
       "      <td>1</td>\n",
       "      <td>0</td>\n",
       "      <td>0</td>\n",
       "      <td>0</td>\n",
       "      <td>0</td>\n",
       "      <td>0</td>\n",
       "      <td>1</td>\n",
       "      <td>0</td>\n",
       "      <td>0</td>\n",
       "      <td>0</td>\n",
       "      <td>1</td>\n",
       "      <td>0</td>\n",
       "      <td>0</td>\n",
       "      <td>0</td>\n",
       "      <td>1</td>\n",
       "      <td>1</td>\n",
       "      <td>0</td>\n",
       "      <td>0</td>\n",
       "      <td>0</td>\n",
       "      <td>0</td>\n",
       "      <td>0</td>\n",
       "      <td>0</td>\n",
       "      <td>0</td>\n",
       "      <td>1</td>\n",
       "      <td>0</td>\n",
       "      <td>0</td>\n",
       "      <td>0</td>\n",
       "      <td>0</td>\n",
       "      <td>1</td>\n",
       "      <td>0</td>\n",
       "      <td>0</td>\n",
       "      <td>1</td>\n",
       "      <td>0</td>\n",
       "      <td>0</td>\n",
       "      <td>0</td>\n",
       "      <td>0</td>\n",
       "      <td>0</td>\n",
       "      <td>0</td>\n",
       "      <td>0</td>\n",
       "      <td>0</td>\n",
       "      <td>0</td>\n",
       "      <td>1</td>\n",
       "      <td>0</td>\n",
       "      <td>0</td>\n",
       "      <td>0</td>\n",
       "      <td>0</td>\n",
       "      <td>0</td>\n",
       "      <td>0</td>\n",
       "      <td>0</td>\n",
       "      <td>0</td>\n",
       "      <td>0</td>\n",
       "      <td>0</td>\n",
       "      <td>0</td>\n",
       "      <td>1</td>\n",
       "      <td>0</td>\n",
       "      <td>0</td>\n",
       "      <td>0</td>\n",
       "      <td>0</td>\n",
       "      <td>1</td>\n",
       "      <td>0</td>\n",
       "      <td>1</td>\n",
       "      <td>0</td>\n",
       "      <td>1</td>\n",
       "      <td>1</td>\n",
       "      <td>0</td>\n",
       "      <td>1</td>\n",
       "      <td>0</td>\n",
       "    </tr>\n",
       "    <tr>\n",
       "      <th>73715</th>\n",
       "      <td>3</td>\n",
       "      <td>4</td>\n",
       "      <td>1</td>\n",
       "      <td>0</td>\n",
       "      <td>1</td>\n",
       "      <td>0</td>\n",
       "      <td>0</td>\n",
       "      <td>0</td>\n",
       "      <td>6</td>\n",
       "      <td>8</td>\n",
       "      <td>39</td>\n",
       "      <td>2</td>\n",
       "      <td>3.951244</td>\n",
       "      <td>10.308986</td>\n",
       "      <td>0.449370</td>\n",
       "      <td>10.392313</td>\n",
       "      <td>0</td>\n",
       "      <td>0</td>\n",
       "      <td>0</td>\n",
       "      <td>1</td>\n",
       "      <td>0</td>\n",
       "      <td>0</td>\n",
       "      <td>0</td>\n",
       "      <td>1</td>\n",
       "      <td>0</td>\n",
       "      <td>0</td>\n",
       "      <td>0</td>\n",
       "      <td>1</td>\n",
       "      <td>0</td>\n",
       "      <td>1</td>\n",
       "      <td>0</td>\n",
       "      <td>0</td>\n",
       "      <td>0</td>\n",
       "      <td>0</td>\n",
       "      <td>1</td>\n",
       "      <td>0</td>\n",
       "      <td>0</td>\n",
       "      <td>0</td>\n",
       "      <td>1</td>\n",
       "      <td>0</td>\n",
       "      <td>0</td>\n",
       "      <td>0</td>\n",
       "      <td>0</td>\n",
       "      <td>1</td>\n",
       "      <td>0</td>\n",
       "      <td>0</td>\n",
       "      <td>0</td>\n",
       "      <td>1</td>\n",
       "      <td>0</td>\n",
       "      <td>0</td>\n",
       "      <td>0</td>\n",
       "      <td>0</td>\n",
       "      <td>0</td>\n",
       "      <td>0</td>\n",
       "      <td>0</td>\n",
       "      <td>1</td>\n",
       "      <td>0</td>\n",
       "      <td>0</td>\n",
       "      <td>0</td>\n",
       "      <td>0</td>\n",
       "      <td>0</td>\n",
       "      <td>0</td>\n",
       "      <td>0</td>\n",
       "      <td>0</td>\n",
       "      <td>0</td>\n",
       "      <td>0</td>\n",
       "      <td>0</td>\n",
       "      <td>0</td>\n",
       "      <td>0</td>\n",
       "      <td>0</td>\n",
       "      <td>0</td>\n",
       "      <td>0</td>\n",
       "      <td>0</td>\n",
       "      <td>1</td>\n",
       "      <td>0</td>\n",
       "      <td>1</td>\n",
       "      <td>0</td>\n",
       "      <td>1</td>\n",
       "      <td>0</td>\n",
       "      <td>1</td>\n",
       "      <td>0</td>\n",
       "      <td>1</td>\n",
       "      <td>0</td>\n",
       "      <td>1</td>\n",
       "      <td>0</td>\n",
       "    </tr>\n",
       "    <tr>\n",
       "      <th>37032</th>\n",
       "      <td>0</td>\n",
       "      <td>0</td>\n",
       "      <td>1</td>\n",
       "      <td>0</td>\n",
       "      <td>4</td>\n",
       "      <td>0</td>\n",
       "      <td>0</td>\n",
       "      <td>0</td>\n",
       "      <td>5</td>\n",
       "      <td>31</td>\n",
       "      <td>31</td>\n",
       "      <td>1</td>\n",
       "      <td>3.850148</td>\n",
       "      <td>9.615872</td>\n",
       "      <td>0.378608</td>\n",
       "      <td>10.099548</td>\n",
       "      <td>0</td>\n",
       "      <td>0</td>\n",
       "      <td>0</td>\n",
       "      <td>0</td>\n",
       "      <td>1</td>\n",
       "      <td>0</td>\n",
       "      <td>0</td>\n",
       "      <td>0</td>\n",
       "      <td>1</td>\n",
       "      <td>0</td>\n",
       "      <td>0</td>\n",
       "      <td>0</td>\n",
       "      <td>1</td>\n",
       "      <td>0</td>\n",
       "      <td>0</td>\n",
       "      <td>0</td>\n",
       "      <td>1</td>\n",
       "      <td>0</td>\n",
       "      <td>1</td>\n",
       "      <td>0</td>\n",
       "      <td>0</td>\n",
       "      <td>0</td>\n",
       "      <td>0</td>\n",
       "      <td>0</td>\n",
       "      <td>0</td>\n",
       "      <td>1</td>\n",
       "      <td>0</td>\n",
       "      <td>1</td>\n",
       "      <td>0</td>\n",
       "      <td>0</td>\n",
       "      <td>0</td>\n",
       "      <td>1</td>\n",
       "      <td>0</td>\n",
       "      <td>0</td>\n",
       "      <td>0</td>\n",
       "      <td>0</td>\n",
       "      <td>0</td>\n",
       "      <td>0</td>\n",
       "      <td>1</td>\n",
       "      <td>0</td>\n",
       "      <td>0</td>\n",
       "      <td>0</td>\n",
       "      <td>0</td>\n",
       "      <td>0</td>\n",
       "      <td>0</td>\n",
       "      <td>0</td>\n",
       "      <td>0</td>\n",
       "      <td>0</td>\n",
       "      <td>0</td>\n",
       "      <td>0</td>\n",
       "      <td>0</td>\n",
       "      <td>0</td>\n",
       "      <td>0</td>\n",
       "      <td>0</td>\n",
       "      <td>0</td>\n",
       "      <td>0</td>\n",
       "      <td>1</td>\n",
       "      <td>0</td>\n",
       "      <td>0</td>\n",
       "      <td>1</td>\n",
       "      <td>0</td>\n",
       "      <td>1</td>\n",
       "      <td>0</td>\n",
       "      <td>1</td>\n",
       "      <td>0</td>\n",
       "      <td>1</td>\n",
       "      <td>0</td>\n",
       "      <td>1</td>\n",
       "      <td>0</td>\n",
       "    </tr>\n",
       "    <tr>\n",
       "      <th>12897</th>\n",
       "      <td>0</td>\n",
       "      <td>0</td>\n",
       "      <td>1</td>\n",
       "      <td>0</td>\n",
       "      <td>4</td>\n",
       "      <td>0</td>\n",
       "      <td>0</td>\n",
       "      <td>0</td>\n",
       "      <td>7</td>\n",
       "      <td>18</td>\n",
       "      <td>108</td>\n",
       "      <td>4</td>\n",
       "      <td>4.043051</td>\n",
       "      <td>9.692828</td>\n",
       "      <td>0.474341</td>\n",
       "      <td>11.525190</td>\n",
       "      <td>0</td>\n",
       "      <td>0</td>\n",
       "      <td>0</td>\n",
       "      <td>0</td>\n",
       "      <td>1</td>\n",
       "      <td>0</td>\n",
       "      <td>0</td>\n",
       "      <td>1</td>\n",
       "      <td>0</td>\n",
       "      <td>0</td>\n",
       "      <td>0</td>\n",
       "      <td>1</td>\n",
       "      <td>0</td>\n",
       "      <td>1</td>\n",
       "      <td>0</td>\n",
       "      <td>0</td>\n",
       "      <td>0</td>\n",
       "      <td>0</td>\n",
       "      <td>0</td>\n",
       "      <td>1</td>\n",
       "      <td>0</td>\n",
       "      <td>0</td>\n",
       "      <td>0</td>\n",
       "      <td>0</td>\n",
       "      <td>0</td>\n",
       "      <td>1</td>\n",
       "      <td>0</td>\n",
       "      <td>1</td>\n",
       "      <td>0</td>\n",
       "      <td>0</td>\n",
       "      <td>0</td>\n",
       "      <td>1</td>\n",
       "      <td>0</td>\n",
       "      <td>0</td>\n",
       "      <td>0</td>\n",
       "      <td>0</td>\n",
       "      <td>0</td>\n",
       "      <td>0</td>\n",
       "      <td>0</td>\n",
       "      <td>0</td>\n",
       "      <td>0</td>\n",
       "      <td>0</td>\n",
       "      <td>0</td>\n",
       "      <td>0</td>\n",
       "      <td>0</td>\n",
       "      <td>0</td>\n",
       "      <td>0</td>\n",
       "      <td>0</td>\n",
       "      <td>0</td>\n",
       "      <td>1</td>\n",
       "      <td>0</td>\n",
       "      <td>0</td>\n",
       "      <td>0</td>\n",
       "      <td>0</td>\n",
       "      <td>0</td>\n",
       "      <td>0</td>\n",
       "      <td>1</td>\n",
       "      <td>0</td>\n",
       "      <td>0</td>\n",
       "      <td>1</td>\n",
       "      <td>0</td>\n",
       "      <td>1</td>\n",
       "      <td>0</td>\n",
       "      <td>1</td>\n",
       "      <td>0</td>\n",
       "      <td>1</td>\n",
       "      <td>0</td>\n",
       "      <td>1</td>\n",
       "      <td>0</td>\n",
       "    </tr>\n",
       "  </tbody>\n",
       "</table>\n",
       "</div>"
      ],
      "text/plain": [
       "       decline_app_cnt  bki_request_cnt  default  education_NaN  \\\n",
       "64209                1                0        1              0   \n",
       "57726                0                0        1              0   \n",
       "73715                3                4        1              0   \n",
       "37032                0                0        1              0   \n",
       "12897                0                0        1              0   \n",
       "\n",
       "       cat_education  score_bki_outliers  income_outliers  \\\n",
       "64209              4                   0                0   \n",
       "57726              4                   0                0   \n",
       "73715              1                   0                0   \n",
       "37032              4                   0                0   \n",
       "12897              4                   0                0   \n",
       "\n",
       "       bki_request_cnt_outliers  cat_age  month_day  year_day  month_num  \\\n",
       "64209                         0        3          4        35          2   \n",
       "57726                         0        2          6        65          3   \n",
       "73715                         0        6          8        39          2   \n",
       "37032                         0        5         31        31          1   \n",
       "12897                         0        7         18       108          4   \n",
       "\n",
       "        age_log  income_log  score_bki_log  client_id_log  region_rating_20  \\\n",
       "64209  3.637586   10.463132       0.294440      10.259867                 0   \n",
       "57726  3.433987    9.680406       0.435435      10.974934                 0   \n",
       "73715  3.951244   10.308986       0.449370      10.392313                 0   \n",
       "37032  3.850148    9.615872       0.378608      10.099548                 0   \n",
       "12897  4.043051    9.692828       0.474341      11.525190                 0   \n",
       "\n",
       "       region_rating_30  region_rating_40  region_rating_50  region_rating_60  \\\n",
       "64209                 0                 1                 0                 0   \n",
       "57726                 0                 1                 0                 0   \n",
       "73715                 0                 0                 1                 0   \n",
       "37032                 0                 0                 0                 1   \n",
       "12897                 0                 0                 0                 1   \n",
       "\n",
       "       region_rating_70  region_rating_80  home_address_1  home_address_2  \\\n",
       "64209                 0                 0               0               0   \n",
       "57726                 0                 0               0               1   \n",
       "73715                 0                 0               1               0   \n",
       "37032                 0                 0               0               1   \n",
       "12897                 0                 0               1               0   \n",
       "\n",
       "       home_address_3  work_address_1  work_address_2  work_address_3  sna_1  \\\n",
       "64209               1               0               0               1      0   \n",
       "57726               0               0               0               1      0   \n",
       "73715               0               0               1               0      1   \n",
       "37032               0               0               0               1      0   \n",
       "12897               0               0               1               0      1   \n",
       "\n",
       "       sna_2  sna_3  sna_4  first_time_1  first_time_2  first_time_3  \\\n",
       "64209      0      0      1             1             0             0   \n",
       "57726      0      0      1             1             0             0   \n",
       "73715      0      0      0             0             1             0   \n",
       "37032      0      0      1             0             1             0   \n",
       "12897      0      0      0             0             0             1   \n",
       "\n",
       "       first_time_4  education_ACD  education_GRD  education_NOED  \\\n",
       "64209             0              0              0               0   \n",
       "57726             0              0              0               0   \n",
       "73715             0              0              1               0   \n",
       "37032             0              0              0               0   \n",
       "12897             0              0              0               0   \n",
       "\n",
       "       education_PGR  education_SCH  education_UGR  car_sex_FN  car_sex_FY  \\\n",
       "64209              0              1              0           1           0   \n",
       "57726              0              1              0           0           0   \n",
       "73715              0              0              0           1           0   \n",
       "37032              0              1              0           1           0   \n",
       "12897              0              1              0           1           0   \n",
       "\n",
       "       car_sex_MN  car_sex_MY  car_and_type_NN  car_and_type_YN  \\\n",
       "64209           0           0                1                0   \n",
       "57726           0           1                0                0   \n",
       "73715           0           0                1                0   \n",
       "37032           0           0                1                0   \n",
       "12897           0           0                1                0   \n",
       "\n",
       "       car_and_type_YY  week_num_1  week_num_2  week_num_3  week_num_4  \\\n",
       "64209                0           0           0           0           0   \n",
       "57726                1           0           0           0           0   \n",
       "73715                0           0           0           0           0   \n",
       "37032                0           0           0           0           0   \n",
       "12897                0           0           0           0           0   \n",
       "\n",
       "       week_num_5  week_num_6  week_num_7  week_num_8  week_num_9  \\\n",
       "64209           0           1           0           0           0   \n",
       "57726           0           0           0           0           0   \n",
       "73715           0           1           0           0           0   \n",
       "37032           1           0           0           0           0   \n",
       "12897           0           0           0           0           0   \n",
       "\n",
       "       week_num_10  week_num_11  week_num_12  week_num_13  week_num_14  \\\n",
       "64209            0            0            0            0            0   \n",
       "57726            1            0            0            0            0   \n",
       "73715            0            0            0            0            0   \n",
       "37032            0            0            0            0            0   \n",
       "12897            0            0            0            0            0   \n",
       "\n",
       "       week_num_15  week_num_16  week_num_17  week_num_18  week_day_0  \\\n",
       "64209            0            0            0            0           0   \n",
       "57726            0            0            0            0           0   \n",
       "73715            0            0            0            0           0   \n",
       "37032            0            0            0            0           0   \n",
       "12897            0            1            0            0           0   \n",
       "\n",
       "       week_day_1  week_day_2  week_day_3  week_day_4  week_day_5  week_day_6  \\\n",
       "64209           1           0           0           0           0           0   \n",
       "57726           0           0           1           0           0           0   \n",
       "73715           0           0           0           0           1           0   \n",
       "37032           0           0           0           1           0           0   \n",
       "12897           0           0           0           1           0           0   \n",
       "\n",
       "       sex_F  sex_M  car_N  car_Y  car_type_N  car_type_Y  good_work_0  \\\n",
       "64209      1      0      1      0           1           0            1   \n",
       "57726      0      1      0      1           0           1            1   \n",
       "73715      1      0      1      0           1           0            1   \n",
       "37032      1      0      1      0           1           0            1   \n",
       "12897      1      0      1      0           1           0            1   \n",
       "\n",
       "       good_work_1  foreign_passport_N  foreign_passport_Y  \n",
       "64209            0                   1                   0  \n",
       "57726            0                   1                   0  \n",
       "73715            0                   1                   0  \n",
       "37032            0                   1                   0  \n",
       "12897            0                   1                   0  "
      ]
     },
     "execution_count": 73,
     "metadata": {},
     "output_type": "execute_result"
    }
   ],
   "source": [
    "new_train_data[new_train_data['default'] == 1].sample(5)"
   ]
  },
  {
   "cell_type": "markdown",
   "metadata": {},
   "source": [
    "Split"
   ]
  },
  {
   "cell_type": "code",
   "execution_count": 74,
   "metadata": {
    "execution": {
     "iopub.execute_input": "2022-02-21T12:16:22.912241Z",
     "iopub.status.busy": "2022-02-21T12:16:22.911924Z",
     "iopub.status.idle": "2022-02-21T12:16:22.940176Z",
     "shell.execute_reply": "2022-02-21T12:16:22.939136Z",
     "shell.execute_reply.started": "2022-02-21T12:16:22.912213Z"
    }
   },
   "outputs": [],
   "source": [
    "train, valid = train_test_split(new_train_data, test_size=0.20, random_state=SEED)"
   ]
  },
  {
   "cell_type": "markdown",
   "metadata": {},
   "source": [
    "Normalize train and test"
   ]
  },
  {
   "cell_type": "code",
   "execution_count": 75,
   "metadata": {
    "execution": {
     "iopub.execute_input": "2022-02-21T12:16:22.941637Z",
     "iopub.status.busy": "2022-02-21T12:16:22.941362Z",
     "iopub.status.idle": "2022-02-21T12:16:23.115789Z",
     "shell.execute_reply": "2022-02-21T12:16:23.114727Z",
     "shell.execute_reply.started": "2022-02-21T12:16:22.941608Z"
    }
   },
   "outputs": [],
   "source": [
    "X_train, X_valid, y_train, y_valid, X_test = normalize(train, valid, new_test_data)"
   ]
  },
  {
   "cell_type": "markdown",
   "metadata": {},
   "source": [
    "SMOTE"
   ]
  },
  {
   "cell_type": "code",
   "execution_count": 76,
   "metadata": {
    "execution": {
     "iopub.execute_input": "2022-02-21T12:16:23.118196Z",
     "iopub.status.busy": "2022-02-21T12:16:23.117817Z",
     "iopub.status.idle": "2022-02-21T12:16:31.293679Z",
     "shell.execute_reply": "2022-02-21T12:16:31.292463Z",
     "shell.execute_reply.started": "2022-02-21T12:16:23.118154Z"
    }
   },
   "outputs": [],
   "source": [
    "sm = SMOTE(sampling_strategy='minority', random_state=SEED)\n",
    "X_train_oversampled, y_train_oversampled = sm.fit_resample(X_train, y_train)"
   ]
  },
  {
   "cell_type": "markdown",
   "metadata": {},
   "source": [
    "RandomOverSampler"
   ]
  },
  {
   "cell_type": "code",
   "execution_count": 77,
   "metadata": {
    "execution": {
     "iopub.execute_input": "2022-02-21T12:16:31.297182Z",
     "iopub.status.busy": "2022-02-21T12:16:31.294939Z",
     "iopub.status.idle": "2022-02-21T12:16:31.368752Z",
     "shell.execute_reply": "2022-02-21T12:16:31.367602Z",
     "shell.execute_reply.started": "2022-02-21T12:16:31.297156Z"
    }
   },
   "outputs": [],
   "source": [
    "ros = RandomOverSampler(sampling_strategy='minority', random_state=SEED)\n",
    "X_train_ros, y_train_ros = ros.fit_resample(X_train, y_train)"
   ]
  },
  {
   "cell_type": "markdown",
   "metadata": {},
   "source": [
    "BorderlineSMOTE"
   ]
  },
  {
   "cell_type": "code",
   "execution_count": 78,
   "metadata": {
    "execution": {
     "iopub.execute_input": "2022-02-21T12:16:31.370057Z",
     "iopub.status.busy": "2022-02-21T12:16:31.369859Z",
     "iopub.status.idle": "2022-02-21T12:17:57.736877Z",
     "shell.execute_reply": "2022-02-21T12:17:57.736190Z",
     "shell.execute_reply.started": "2022-02-21T12:16:31.370030Z"
    }
   },
   "outputs": [],
   "source": [
    "smBL = BorderlineSMOTE(sampling_strategy='minority', random_state=SEED)\n",
    "X_train_smBL, y_train_smBL = smBL.fit_resample(X_train, y_train)"
   ]
  },
  {
   "cell_type": "markdown",
   "metadata": {},
   "source": [
    "### Models"
   ]
  },
  {
   "cell_type": "markdown",
   "metadata": {},
   "source": [
    "#### LR (basic - no balance)"
   ]
  },
  {
   "cell_type": "code",
   "execution_count": 79,
   "metadata": {
    "execution": {
     "iopub.execute_input": "2022-02-21T12:17:57.738676Z",
     "iopub.status.busy": "2022-02-21T12:17:57.738027Z",
     "iopub.status.idle": "2022-02-21T12:18:09.100076Z",
     "shell.execute_reply": "2022-02-21T12:18:09.099482Z",
     "shell.execute_reply.started": "2022-02-21T12:17:57.738646Z"
    }
   },
   "outputs": [
    {
     "name": "stdout",
     "output_type": "stream",
     "text": [
      "0.046583850931677016\n",
      "              precision    recall  f1-score   support\n",
      "\n",
      "           0       0.88      1.00      0.93     12933\n",
      "           1       0.43      0.02      0.05      1827\n",
      "\n",
      "    accuracy                           0.88     14760\n",
      "   macro avg       0.65      0.51      0.49     14760\n",
      "weighted avg       0.82      0.88      0.82     14760\n",
      "\n",
      "[0.04950495 0.06516291 0.05025126 0.06508135 0.06724782 0.06007509\n",
      " 0.03802281 0.0425     0.03544304 0.04755945]\n"
     ]
    },
    {
     "data": {
      "image/png": "[encoded data removed]",
      "text/plain": [
       "<Figure size 432x288 with 1 Axes>"
      ]
     },
     "metadata": {},
     "output_type": "display_data"
    }
   ],
   "source": [
    "model(X_train, X_valid, y_train, y_valid)"
   ]
  },
  {
   "cell_type": "markdown",
   "metadata": {},
   "source": [
    "#### LR with SMOTE"
   ]
  },
  {
   "cell_type": "code",
   "execution_count": 80,
   "metadata": {
    "execution": {
     "iopub.execute_input": "2022-02-21T12:18:09.101758Z",
     "iopub.status.busy": "2022-02-21T12:18:09.101290Z",
     "iopub.status.idle": "2022-02-21T12:18:30.536953Z",
     "shell.execute_reply": "2022-02-21T12:18:30.536463Z",
     "shell.execute_reply.started": "2022-02-21T12:18:09.101726Z"
    }
   },
   "outputs": [
    {
     "name": "stdout",
     "output_type": "stream",
     "text": [
      "0.33725061492210984\n",
      "              precision    recall  f1-score   support\n",
      "\n",
      "           0       0.94      0.67      0.78     12933\n",
      "           1       0.22      0.68      0.34      1827\n",
      "\n",
      "    accuracy                           0.67     14760\n",
      "   macro avg       0.58      0.67      0.56     14760\n",
      "weighted avg       0.85      0.67      0.73     14760\n",
      "\n",
      "[0.66536318 0.68433782 0.69919622 0.68826066 0.70258869 0.69096099\n",
      " 0.69023666 0.68189233 0.69788606 0.70211132]\n"
     ]
    },
    {
     "data": {
      "image/png": "[encoded data removed]",
      "text/plain": [
       "<Figure size 432x288 with 1 Axes>"
      ]
     },
     "metadata": {},
     "output_type": "display_data"
    }
   ],
   "source": [
    "model(X_train_oversampled, X_valid, y_train_oversampled, y_valid)"
   ]
  },
  {
   "cell_type": "markdown",
   "metadata": {},
   "source": [
    "#### LR with RandomOverSampler"
   ]
  },
  {
   "cell_type": "code",
   "execution_count": 81,
   "metadata": {
    "execution": {
     "iopub.execute_input": "2022-02-21T12:18:30.538478Z",
     "iopub.status.busy": "2022-02-21T12:18:30.538138Z",
     "iopub.status.idle": "2022-02-21T12:18:51.590586Z",
     "shell.execute_reply": "2022-02-21T12:18:51.589797Z",
     "shell.execute_reply.started": "2022-02-21T12:18:30.538440Z"
    }
   },
   "outputs": [
    {
     "name": "stdout",
     "output_type": "stream",
     "text": [
      "0.33651904697805896\n",
      "              precision    recall  f1-score   support\n",
      "\n",
      "           0       0.94      0.66      0.78     12933\n",
      "           1       0.22      0.68      0.34      1827\n",
      "\n",
      "    accuracy                           0.67     14760\n",
      "   macro avg       0.58      0.67      0.56     14760\n",
      "weighted avg       0.85      0.67      0.72     14760\n",
      "\n",
      "[0.66873485 0.66744799 0.66077498 0.66776539 0.66908378 0.67013287\n",
      " 0.66898955 0.66640829 0.66505137 0.6742846 ]\n"
     ]
    },
    {
     "data": {
      "image/png": "[encoded data removed]",
      "text/plain": [
       "<Figure size 432x288 with 1 Axes>"
      ]
     },
     "metadata": {},
     "output_type": "display_data"
    }
   ],
   "source": [
    "model(X_train_ros, X_valid, y_train_ros, y_valid)"
   ]
  },
  {
   "cell_type": "markdown",
   "metadata": {},
   "source": [
    "#### LR with BorderlineSMOTE"
   ]
  },
  {
   "cell_type": "code",
   "execution_count": 82,
   "metadata": {
    "execution": {
     "iopub.execute_input": "2022-02-21T12:18:51.591856Z",
     "iopub.status.busy": "2022-02-21T12:18:51.591638Z",
     "iopub.status.idle": "2022-02-21T12:19:12.567105Z",
     "shell.execute_reply": "2022-02-21T12:19:12.565945Z",
     "shell.execute_reply.started": "2022-02-21T12:18:51.591832Z"
    }
   },
   "outputs": [
    {
     "name": "stdout",
     "output_type": "stream",
     "text": [
      "0.3430374300874803\n",
      "              precision    recall  f1-score   support\n",
      "\n",
      "           0       0.93      0.69      0.80     12933\n",
      "           1       0.23      0.65      0.34      1827\n",
      "\n",
      "    accuracy                           0.69     14760\n",
      "   macro avg       0.58      0.67      0.57     14760\n",
      "weighted avg       0.85      0.69      0.74     14760\n",
      "\n",
      "[0.65562249 0.69017682 0.72443772 0.71822679 0.73408311 0.71877671\n",
      " 0.72044957 0.71693097 0.71981043 0.72500719]\n"
     ]
    },
    {
     "data": {
      "image/png": "[encoded data removed]",
      "text/plain": [
       "<Figure size 432x288 with 1 Axes>"
      ]
     },
     "metadata": {},
     "output_type": "display_data"
    }
   ],
   "source": [
    "model(X_train_smBL, X_valid, y_train_smBL, y_valid)"
   ]
  },
  {
   "cell_type": "markdown",
   "metadata": {},
   "source": [
    "#### LR with class_weight param = 'balanced'"
   ]
  },
  {
   "cell_type": "code",
   "execution_count": 83,
   "metadata": {
    "execution": {
     "iopub.execute_input": "2022-02-21T12:19:12.568644Z",
     "iopub.status.busy": "2022-02-21T12:19:12.568417Z",
     "iopub.status.idle": "2022-02-21T12:19:25.163401Z",
     "shell.execute_reply": "2022-02-21T12:19:25.162486Z",
     "shell.execute_reply.started": "2022-02-21T12:19:12.568618Z"
    }
   },
   "outputs": [
    {
     "name": "stdout",
     "output_type": "stream",
     "text": [
      "0.33761319097175296\n",
      "              precision    recall  f1-score   support\n",
      "\n",
      "           0       0.94      0.67      0.78     12933\n",
      "           1       0.22      0.68      0.34      1827\n",
      "\n",
      "    accuracy                           0.67     14760\n",
      "   macro avg       0.58      0.67      0.56     14760\n",
      "weighted avg       0.85      0.67      0.72     14760\n",
      "\n",
      "[0.34412955 0.33855586 0.31879195 0.34926959 0.34905336 0.33444593\n",
      " 0.33288319 0.33513149 0.34416446 0.34175026]\n"
     ]
    },
    {
     "data": {
      "image/png": "[encoded data removed]",
      "text/plain": [
       "<Figure size 432x288 with 1 Axes>"
      ]
     },
     "metadata": {},
     "output_type": "display_data"
    }
   ],
   "source": [
    "model(X_train, X_valid, y_train, y_valid, 'balanced')"
   ]
  },
  {
   "cell_type": "code",
   "execution_count": 84,
   "metadata": {
    "execution": {
     "iopub.execute_input": "2022-02-21T12:19:25.165699Z",
     "iopub.status.busy": "2022-02-21T12:19:25.165449Z",
     "iopub.status.idle": "2022-02-21T12:19:25.169194Z",
     "shell.execute_reply": "2022-02-21T12:19:25.168658Z",
     "shell.execute_reply.started": "2022-02-21T12:19:25.165667Z"
    }
   },
   "outputs": [],
   "source": [
    "# kf = KFold(n_splits=5, shuffle=True, random_state=SEED)\n",
    "# model_1 = LogisticRegression(solver='liblinear', max_iter=150, class_weight='balanced')\n",
    "# for fold, (train_index, test_index) in enumerate(kf.split(X), 1):\n",
    "#     X_train = X[train_index]\n",
    "#     y_train = y[train_index]\n",
    "#     X_test = X[test_index]\n",
    "#     y_test = y[test_index]\n",
    "#     sm = SMOTE(sampling_strategy='minority', random_state=SEED)\n",
    "#     # sm = RandomOverSampler(sampling_strategy='minority', random_state=SEED)\n",
    "#     # sm = BorderlineSMOTE(sampling_strategy='minority', random_state=SEED)\n",
    "#     X_train_oversampled, y_train_oversampled = sm.fit_resample(X_train, y_train)\n",
    "#     # model_1.fit(X_train, y_train)  \n",
    "#     model_1.fit(X_train_oversampled, y_train_oversampled)  \n",
    "#     y_pred = model_1.predict(X_test)\n",
    "#     print(f'For fold {fold}:')\n",
    "#     print(f'Accuracy: {model_1.score(X_test, y_test)}')\n",
    "#     print(f'f-score: {f1_score(y_test, y_pred)}')"
   ]
  },
  {
   "cell_type": "markdown",
   "metadata": {},
   "source": [
    "### Find hyperparameters"
   ]
  },
  {
   "cell_type": "code",
   "execution_count": 85,
   "metadata": {
    "execution": {
     "iopub.execute_input": "2022-02-21T12:19:25.170747Z",
     "iopub.status.busy": "2022-02-21T12:19:25.170135Z",
     "iopub.status.idle": "2022-02-21T12:19:25.188295Z",
     "shell.execute_reply": "2022-02-21T12:19:25.187202Z",
     "shell.execute_reply.started": "2022-02-21T12:19:25.170683Z"
    },
    "scrolled": true
   },
   "outputs": [],
   "source": [
    "# param_grid = [\n",
    "#         {'penalty': ['l1'],\n",
    "#          'C': [0.001, 0.01, 0.1, 1, 10, 100, 1000],\n",
    "#          'solver': ['liblinear'],\n",
    "#          'class_weight': [None, 'balanced'],\n",
    "#          'multi_class': ['auto', 'ovr'],\n",
    "#          'max_iter': [500],\n",
    "#          'tol': [1e-3]},\n",
    "#         {'penalty': ['l2'],\n",
    "#          'C': [0.001, 0.01, 0.1, 1, 10, 100, 1000],\n",
    "#          'solver': ['newton-cg', 'lbfgs', 'liblinear', 'sag', 'saga'],\n",
    "#          'class_weight': [None, 'balanced'],\n",
    "#          'multi_class': ['auto', 'ovr'],\n",
    "#          'max_iter': [500],\n",
    "#          'tol': [1e-3]},\n",
    "#         {'penalty': ['none'],\n",
    "#          'solver': ['newton-cg', 'lbfgs', 'sag', 'saga'],\n",
    "#          'class_weight': [None, 'balanced'],\n",
    "#          'multi_class': ['auto', 'ovr'],\n",
    "#          'max_iter': [500],\n",
    "#          'tol': [1e-3]},\n",
    "#     ]"
   ]
  },
  {
   "cell_type": "code",
   "execution_count": 86,
   "metadata": {
    "execution": {
     "iopub.execute_input": "2022-02-21T12:19:25.189849Z",
     "iopub.status.busy": "2022-02-21T12:19:25.189658Z",
     "iopub.status.idle": "2022-02-21T12:19:25.201283Z",
     "shell.execute_reply": "2022-02-21T12:19:25.200646Z",
     "shell.execute_reply.started": "2022-02-21T12:19:25.189819Z"
    }
   },
   "outputs": [],
   "source": [
    "# mod = LogisticRegression(solver='liblinear')\n",
    "# mod.fit(X_train_smBL, y_train_smBL)"
   ]
  },
  {
   "cell_type": "code",
   "execution_count": 87,
   "metadata": {
    "execution": {
     "iopub.execute_input": "2022-02-21T12:19:25.203543Z",
     "iopub.status.busy": "2022-02-21T12:19:25.203080Z",
     "iopub.status.idle": "2022-02-21T12:19:25.215590Z",
     "shell.execute_reply": "2022-02-21T12:19:25.214067Z",
     "shell.execute_reply.started": "2022-02-21T12:19:25.203510Z"
    }
   },
   "outputs": [],
   "source": [
    "# grid_search = GridSearchCV(mod, param_grid, scoring='f1', n_jobs=-1, cv=5)\n",
    "# grid_search.fit(X_train_smBL, y_train_smBL)\n",
    "# mod = grid_search.best_estimator_\n",
    "\n",
    "\n",
    "# best_parameters = mod.get_params()\n",
    "# for param_name in sorted(best_parameters.keys()):\n",
    "#     print('\\t%s: %r' % (param_name, best_parameters[param_name]))"
   ]
  },
  {
   "cell_type": "code",
   "execution_count": 88,
   "metadata": {
    "execution": {
     "iopub.execute_input": "2022-02-21T12:19:25.219333Z",
     "iopub.status.busy": "2022-02-21T12:19:25.218549Z",
     "iopub.status.idle": "2022-02-21T12:19:25.231645Z",
     "shell.execute_reply": "2022-02-21T12:19:25.230840Z",
     "shell.execute_reply.started": "2022-02-21T12:19:25.219254Z"
    }
   },
   "outputs": [],
   "source": [
    "# mod.fit(X_train_smBL, y_train_smBL)"
   ]
  },
  {
   "cell_type": "code",
   "execution_count": 89,
   "metadata": {
    "execution": {
     "iopub.execute_input": "2022-02-21T12:19:25.233329Z",
     "iopub.status.busy": "2022-02-21T12:19:25.232893Z",
     "iopub.status.idle": "2022-02-21T12:19:25.244277Z",
     "shell.execute_reply": "2022-02-21T12:19:25.243808Z",
     "shell.execute_reply.started": "2022-02-21T12:19:25.233296Z"
    }
   },
   "outputs": [],
   "source": [
    "# LogReg = LogisticRegression(C=100, class_weight='balanced', max_iter=500, multi_class='ovr', \n",
    "#                             penalty='l2', random_state=42, solver='sag', tol=0.001, intercept_scaling=1)\n",
    "# LogReg.fit(X_train_smBL, y_train_smBL)\n",
    "\n",
    "# y_pred = LogReg.predict(X_valid)\n",
    "# y_pred_proba = LogReg.predict_proba(X_valid)\n",
    "\n",
    "# Y_pred = LogReg.predict(X_valid)\n",
    "# cnf_matrix = confusion_matrix(y_valid, y_pred)\n",
    "# f1_score_basic = f1_score(y_valid, y_pred)\n",
    "# classification_report_basic = classification_report(y_valid, y_pred)\n",
    "# print(f1_score_basic)\n",
    "# print(classification_report_basic)\n",
    "    \n",
    "# roc_auc = roc_auc_score(y_valid, y_pred_proba[:,1])\n",
    "# plt.figure()\n",
    "# plt.plot([0, 1], label='Baseline', linestyle='--')\n",
    "# fpr, tpr, thresholds = roc_curve(y_valid, y_pred_proba[:,1])\n",
    "# plt.plot(fpr, tpr, label = 'Regression')\n",
    "# plt.title('Logistic Regression ROC AUC = %0.3f' % roc_auc)\n",
    "# plt.ylabel('True Positive Rate')\n",
    "# plt.xlabel('False Positive Rate')\n",
    "# plt.legend(loc = 'lower right')\n",
    "# plt.show()\n",
    "\n",
    "# print(cross_val_score(LogReg, X_train_smBL, y_train_smBL, scoring='f1', cv=10))"
   ]
  },
  {
   "cell_type": "code",
   "execution_count": 90,
   "metadata": {
    "execution": {
     "iopub.execute_input": "2022-02-21T12:19:25.290870Z",
     "iopub.status.busy": "2022-02-21T12:19:25.290499Z",
     "iopub.status.idle": "2022-02-21T12:19:59.537218Z",
     "shell.execute_reply": "2022-02-21T12:19:59.536549Z",
     "shell.execute_reply.started": "2022-02-21T12:19:25.290840Z"
    }
   },
   "outputs": [
    {
     "data": {
      "text/plain": [
       "LogisticRegression(C=100, class_weight='balanced', max_iter=500,\n",
       "                   multi_class='ovr', solver='sag', tol=0.001)"
      ]
     },
     "execution_count": 90,
     "metadata": {},
     "output_type": "execute_result"
    }
   ],
   "source": [
    "model = LogisticRegression(C=100, class_weight='balanced', max_iter=500, multi_class='ovr', \n",
    "                           solver='sag', tol=0.001)\n",
    "model.fit(X_train_smBL, y_train_smBL)"
   ]
  },
  {
   "cell_type": "code",
   "execution_count": 91,
   "metadata": {
    "execution": {
     "iopub.execute_input": "2022-02-21T12:19:59.538495Z",
     "iopub.status.busy": "2022-02-21T12:19:59.538273Z",
     "iopub.status.idle": "2022-02-21T12:22:35.013467Z",
     "shell.execute_reply": "2022-02-21T12:22:35.012095Z",
     "shell.execute_reply.started": "2022-02-21T12:19:59.538467Z"
    }
   },
   "outputs": [
    {
     "name": "stdout",
     "output_type": "stream",
     "text": [
      "[train] F1-score = 0.71 +/- 0.00\n",
      "[valid] F1-score = 0.71 +/- 0.01\n"
     ]
    },
    {
     "data": {
      "image/png": "[encoded data removed]",
      "text/plain": [
       "<Figure size 1080x360 with 1 Axes>"
      ]
     },
     "metadata": {},
     "output_type": "display_data"
    }
   ],
   "source": [
    "cv_metrics = cross_validate(model, X_train_smBL, y_train_smBL, cv=5, scoring='f1_micro', return_train_score=True)\n",
    "\n",
    "def plot_cv_metrics(cv_metrics):\n",
    "    avg_f1_train, std_f1_train = cv_metrics['train_score'].mean(), cv_metrics['train_score'].std()\n",
    "    avg_f1_valid, std_f1_valid = cv_metrics['test_score'].mean(), cv_metrics['test_score'].std()\n",
    "    print('[train] F1-score = {:.2f} +/- {:.2f}'.format(avg_f1_train, std_f1_train))\n",
    "    print('[valid] F1-score = {:.2f} +/- {:.2f}'.format(avg_f1_valid, std_f1_valid))\n",
    "    \n",
    "    plt.figure(figsize=(15, 5))\n",
    "\n",
    "    plt.plot(cv_metrics['train_score'], label='train', marker='.')\n",
    "    plt.plot(cv_metrics['test_score'], label='valid', marker='.')\n",
    "\n",
    "    plt.ylim([0., 1.]);\n",
    "    plt.xlabel('CV iteration', fontsize=15)\n",
    "    plt.ylabel('F1-score', fontsize=15)\n",
    "    plt.legend(fontsize=15)\n",
    "    \n",
    "plot_cv_metrics(cv_metrics)"
   ]
  },
  {
   "cell_type": "code",
   "execution_count": 92,
   "metadata": {
    "execution": {
     "iopub.execute_input": "2022-02-21T12:22:35.015033Z",
     "iopub.status.busy": "2022-02-21T12:22:35.014548Z",
     "iopub.status.idle": "2022-02-21T12:22:35.569062Z",
     "shell.execute_reply": "2022-02-21T12:22:35.567849Z",
     "shell.execute_reply.started": "2022-02-21T12:22:35.015003Z"
    }
   },
   "outputs": [
    {
     "name": "stdout",
     "output_type": "stream",
     "text": [
      "Max F1 score is 0.3565512048192771 with 0.6 threshold\n"
     ]
    }
   ],
   "source": [
    "f1_max = 0\n",
    "th = 0\n",
    "pred_proba_df = pd.DataFrame(model.predict_proba(X_valid))\n",
    "threshold_list = [x/100 for x in range(5, 100, 5)]\n",
    "for i in threshold_list:\n",
    "    y_pred = pred_proba_df.applymap(lambda x: 1 if x>i else 0).values[:, 1]\n",
    "    test_f1_score = f1_score(y_valid, y_pred)\n",
    "    if test_f1_score > f1_max:\n",
    "        f1_max = test_f1_score\n",
    "        th = i\n",
    "print(f'Max F1 score is {f1_max} with {th} threshold')"
   ]
  },
  {
   "cell_type": "code",
   "execution_count": 93,
   "metadata": {
    "execution": {
     "iopub.execute_input": "2022-02-21T12:22:35.570334Z",
     "iopub.status.busy": "2022-02-21T12:22:35.570146Z",
     "iopub.status.idle": "2022-02-21T12:22:36.148263Z",
     "shell.execute_reply": "2022-02-21T12:22:36.147642Z",
     "shell.execute_reply.started": "2022-02-21T12:22:35.570308Z"
    }
   },
   "outputs": [
    {
     "name": "stdout",
     "output_type": "stream",
     "text": [
      "Max F1 score is 0.3565512048192771 with 0.6 threshold\n"
     ]
    }
   ],
   "source": [
    "f1_max_fine = 0\n",
    "th_fine = 0\n",
    "pred_proba_df = pd.DataFrame(model.predict_proba(X_valid))\n",
    "threshold_list = [x/100 for x in range(int(th*100 - 10), int(th*100 + 10))]\n",
    "for i in threshold_list:\n",
    "    y_pred = pred_proba_df.applymap(lambda x: 1 if x>i else 0).values[:, 1]\n",
    "    test_f1_score = f1_score(y_valid, y_pred)\n",
    "    if test_f1_score > f1_max_fine:\n",
    "        f1_max_fine = test_f1_score\n",
    "        th_fine = i\n",
    "print(f'Max F1 score is {f1_max_fine} with {th_fine} threshold')"
   ]
  },
  {
   "cell_type": "code",
   "execution_count": 94,
   "metadata": {
    "execution": {
     "iopub.execute_input": "2022-02-21T12:22:36.149761Z",
     "iopub.status.busy": "2022-02-21T12:22:36.149412Z",
     "iopub.status.idle": "2022-02-21T12:22:36.199923Z",
     "shell.execute_reply": "2022-02-21T12:22:36.199344Z",
     "shell.execute_reply.started": "2022-02-21T12:22:36.149728Z"
    }
   },
   "outputs": [],
   "source": [
    "pred_proba_df = pd.DataFrame(model.predict_proba(X_test))\n",
    "y_submit = pred_proba_df.applymap(lambda x: 1 if x > th_fine else 0).values[:, 1]"
   ]
  },
  {
   "cell_type": "code",
   "execution_count": 95,
   "metadata": {
    "execution": {
     "iopub.execute_input": "2022-02-21T12:22:36.201397Z",
     "iopub.status.busy": "2022-02-21T12:22:36.201045Z",
     "iopub.status.idle": "2022-02-21T12:22:36.207260Z",
     "shell.execute_reply": "2022-02-21T12:22:36.206245Z",
     "shell.execute_reply.started": "2022-02-21T12:22:36.201365Z"
    }
   },
   "outputs": [
    {
     "data": {
      "text/plain": [
       "(36349,)"
      ]
     },
     "execution_count": 95,
     "metadata": {},
     "output_type": "execute_result"
    }
   ],
   "source": [
    "y_submit.shape"
   ]
  },
  {
   "cell_type": "code",
   "execution_count": 96,
   "metadata": {
    "execution": {
     "iopub.execute_input": "2022-02-21T12:22:36.209009Z",
     "iopub.status.busy": "2022-02-21T12:22:36.208661Z",
     "iopub.status.idle": "2022-02-21T12:22:36.317249Z",
     "shell.execute_reply": "2022-02-21T12:22:36.316467Z",
     "shell.execute_reply.started": "2022-02-21T12:22:36.208975Z"
    }
   },
   "outputs": [
    {
     "ename": "FileNotFoundError",
     "evalue": "[Errno 2] No such file or directory: '/kaggle/input/sf-scoring/sample_submission.csv'",
     "output_type": "error",
     "traceback": [
      "\u001b[1;31m---------------------------------------------------------------------------\u001b[0m",
      "\u001b[1;31mFileNotFoundError\u001b[0m                         Traceback (most recent call last)",
      "\u001b[1;32m<ipython-input-96-919be37cad63>\u001b[0m in \u001b[0;36m<module>\u001b[1;34m\u001b[0m\n\u001b[1;32m----> 1\u001b[1;33m \u001b[0msample_submission\u001b[0m \u001b[1;33m=\u001b[0m \u001b[0mpd\u001b[0m\u001b[1;33m.\u001b[0m\u001b[0mread_csv\u001b[0m\u001b[1;33m(\u001b[0m\u001b[1;34m'/kaggle/input/sf-scoring/sample_submission.csv'\u001b[0m\u001b[1;33m)\u001b[0m\u001b[1;33m\u001b[0m\u001b[1;33m\u001b[0m\u001b[0m\n\u001b[0m\u001b[0;32m      2\u001b[0m \u001b[0msample_submission\u001b[0m\u001b[1;33m[\u001b[0m\u001b[1;34m'default'\u001b[0m\u001b[1;33m]\u001b[0m \u001b[1;33m=\u001b[0m \u001b[0my_submit\u001b[0m\u001b[1;33m\u001b[0m\u001b[1;33m\u001b[0m\u001b[0m\n\u001b[0;32m      3\u001b[0m \u001b[0msample_submission\u001b[0m\u001b[1;33m.\u001b[0m\u001b[0mto_csv\u001b[0m\u001b[1;33m(\u001b[0m\u001b[1;34m'submission.csv'\u001b[0m\u001b[1;33m,\u001b[0m \u001b[0mindex\u001b[0m\u001b[1;33m=\u001b[0m\u001b[1;32mFalse\u001b[0m\u001b[1;33m)\u001b[0m\u001b[1;33m\u001b[0m\u001b[1;33m\u001b[0m\u001b[0m\n\u001b[0;32m      4\u001b[0m \u001b[0msample_submission\u001b[0m\u001b[1;33m.\u001b[0m\u001b[0mhead\u001b[0m\u001b[1;33m(\u001b[0m\u001b[1;36m10\u001b[0m\u001b[1;33m)\u001b[0m\u001b[1;33m\u001b[0m\u001b[1;33m\u001b[0m\u001b[0m\n",
      "\u001b[1;32mC:\\ProgramData\\Anaconda3\\lib\\site-packages\\pandas\\io\\parsers.py\u001b[0m in \u001b[0;36mread_csv\u001b[1;34m(filepath_or_buffer, sep, delimiter, header, names, index_col, usecols, squeeze, prefix, mangle_dupe_cols, dtype, engine, converters, true_values, false_values, skipinitialspace, skiprows, skipfooter, nrows, na_values, keep_default_na, na_filter, verbose, skip_blank_lines, parse_dates, infer_datetime_format, keep_date_col, date_parser, dayfirst, cache_dates, iterator, chunksize, compression, thousands, decimal, lineterminator, quotechar, quoting, doublequote, escapechar, comment, encoding, dialect, error_bad_lines, warn_bad_lines, delim_whitespace, low_memory, memory_map, float_precision, storage_options)\u001b[0m\n\u001b[0;32m    608\u001b[0m     \u001b[0mkwds\u001b[0m\u001b[1;33m.\u001b[0m\u001b[0mupdate\u001b[0m\u001b[1;33m(\u001b[0m\u001b[0mkwds_defaults\u001b[0m\u001b[1;33m)\u001b[0m\u001b[1;33m\u001b[0m\u001b[1;33m\u001b[0m\u001b[0m\n\u001b[0;32m    609\u001b[0m \u001b[1;33m\u001b[0m\u001b[0m\n\u001b[1;32m--> 610\u001b[1;33m     \u001b[1;32mreturn\u001b[0m \u001b[0m_read\u001b[0m\u001b[1;33m(\u001b[0m\u001b[0mfilepath_or_buffer\u001b[0m\u001b[1;33m,\u001b[0m \u001b[0mkwds\u001b[0m\u001b[1;33m)\u001b[0m\u001b[1;33m\u001b[0m\u001b[1;33m\u001b[0m\u001b[0m\n\u001b[0m\u001b[0;32m    611\u001b[0m \u001b[1;33m\u001b[0m\u001b[0m\n\u001b[0;32m    612\u001b[0m \u001b[1;33m\u001b[0m\u001b[0m\n",
      "\u001b[1;32mC:\\ProgramData\\Anaconda3\\lib\\site-packages\\pandas\\io\\parsers.py\u001b[0m in \u001b[0;36m_read\u001b[1;34m(filepath_or_buffer, kwds)\u001b[0m\n\u001b[0;32m    460\u001b[0m \u001b[1;33m\u001b[0m\u001b[0m\n\u001b[0;32m    461\u001b[0m     \u001b[1;31m# Create the parser.\u001b[0m\u001b[1;33m\u001b[0m\u001b[1;33m\u001b[0m\u001b[1;33m\u001b[0m\u001b[0m\n\u001b[1;32m--> 462\u001b[1;33m     \u001b[0mparser\u001b[0m \u001b[1;33m=\u001b[0m \u001b[0mTextFileReader\u001b[0m\u001b[1;33m(\u001b[0m\u001b[0mfilepath_or_buffer\u001b[0m\u001b[1;33m,\u001b[0m \u001b[1;33m**\u001b[0m\u001b[0mkwds\u001b[0m\u001b[1;33m)\u001b[0m\u001b[1;33m\u001b[0m\u001b[1;33m\u001b[0m\u001b[0m\n\u001b[0m\u001b[0;32m    463\u001b[0m \u001b[1;33m\u001b[0m\u001b[0m\n\u001b[0;32m    464\u001b[0m     \u001b[1;32mif\u001b[0m \u001b[0mchunksize\u001b[0m \u001b[1;32mor\u001b[0m \u001b[0miterator\u001b[0m\u001b[1;33m:\u001b[0m\u001b[1;33m\u001b[0m\u001b[1;33m\u001b[0m\u001b[0m\n",
      "\u001b[1;32mC:\\ProgramData\\Anaconda3\\lib\\site-packages\\pandas\\io\\parsers.py\u001b[0m in \u001b[0;36m__init__\u001b[1;34m(self, f, engine, **kwds)\u001b[0m\n\u001b[0;32m    817\u001b[0m             \u001b[0mself\u001b[0m\u001b[1;33m.\u001b[0m\u001b[0moptions\u001b[0m\u001b[1;33m[\u001b[0m\u001b[1;34m\"has_index_names\"\u001b[0m\u001b[1;33m]\u001b[0m \u001b[1;33m=\u001b[0m \u001b[0mkwds\u001b[0m\u001b[1;33m[\u001b[0m\u001b[1;34m\"has_index_names\"\u001b[0m\u001b[1;33m]\u001b[0m\u001b[1;33m\u001b[0m\u001b[1;33m\u001b[0m\u001b[0m\n\u001b[0;32m    818\u001b[0m \u001b[1;33m\u001b[0m\u001b[0m\n\u001b[1;32m--> 819\u001b[1;33m         \u001b[0mself\u001b[0m\u001b[1;33m.\u001b[0m\u001b[0m_engine\u001b[0m \u001b[1;33m=\u001b[0m \u001b[0mself\u001b[0m\u001b[1;33m.\u001b[0m\u001b[0m_make_engine\u001b[0m\u001b[1;33m(\u001b[0m\u001b[0mself\u001b[0m\u001b[1;33m.\u001b[0m\u001b[0mengine\u001b[0m\u001b[1;33m)\u001b[0m\u001b[1;33m\u001b[0m\u001b[1;33m\u001b[0m\u001b[0m\n\u001b[0m\u001b[0;32m    820\u001b[0m \u001b[1;33m\u001b[0m\u001b[0m\n\u001b[0;32m    821\u001b[0m     \u001b[1;32mdef\u001b[0m \u001b[0mclose\u001b[0m\u001b[1;33m(\u001b[0m\u001b[0mself\u001b[0m\u001b[1;33m)\u001b[0m\u001b[1;33m:\u001b[0m\u001b[1;33m\u001b[0m\u001b[1;33m\u001b[0m\u001b[0m\n",
      "\u001b[1;32mC:\\ProgramData\\Anaconda3\\lib\\site-packages\\pandas\\io\\parsers.py\u001b[0m in \u001b[0;36m_make_engine\u001b[1;34m(self, engine)\u001b[0m\n\u001b[0;32m   1048\u001b[0m             )\n\u001b[0;32m   1049\u001b[0m         \u001b[1;31m# error: Too many arguments for \"ParserBase\"\u001b[0m\u001b[1;33m\u001b[0m\u001b[1;33m\u001b[0m\u001b[1;33m\u001b[0m\u001b[0m\n\u001b[1;32m-> 1050\u001b[1;33m         \u001b[1;32mreturn\u001b[0m \u001b[0mmapping\u001b[0m\u001b[1;33m[\u001b[0m\u001b[0mengine\u001b[0m\u001b[1;33m]\u001b[0m\u001b[1;33m(\u001b[0m\u001b[0mself\u001b[0m\u001b[1;33m.\u001b[0m\u001b[0mf\u001b[0m\u001b[1;33m,\u001b[0m \u001b[1;33m**\u001b[0m\u001b[0mself\u001b[0m\u001b[1;33m.\u001b[0m\u001b[0moptions\u001b[0m\u001b[1;33m)\u001b[0m  \u001b[1;31m# type: ignore[call-arg]\u001b[0m\u001b[1;33m\u001b[0m\u001b[1;33m\u001b[0m\u001b[0m\n\u001b[0m\u001b[0;32m   1051\u001b[0m \u001b[1;33m\u001b[0m\u001b[0m\n\u001b[0;32m   1052\u001b[0m     \u001b[1;32mdef\u001b[0m \u001b[0m_failover_to_python\u001b[0m\u001b[1;33m(\u001b[0m\u001b[0mself\u001b[0m\u001b[1;33m)\u001b[0m\u001b[1;33m:\u001b[0m\u001b[1;33m\u001b[0m\u001b[1;33m\u001b[0m\u001b[0m\n",
      "\u001b[1;32mC:\\ProgramData\\Anaconda3\\lib\\site-packages\\pandas\\io\\parsers.py\u001b[0m in \u001b[0;36m__init__\u001b[1;34m(self, src, **kwds)\u001b[0m\n\u001b[0;32m   1865\u001b[0m \u001b[1;33m\u001b[0m\u001b[0m\n\u001b[0;32m   1866\u001b[0m         \u001b[1;31m# open handles\u001b[0m\u001b[1;33m\u001b[0m\u001b[1;33m\u001b[0m\u001b[1;33m\u001b[0m\u001b[0m\n\u001b[1;32m-> 1867\u001b[1;33m         \u001b[0mself\u001b[0m\u001b[1;33m.\u001b[0m\u001b[0m_open_handles\u001b[0m\u001b[1;33m(\u001b[0m\u001b[0msrc\u001b[0m\u001b[1;33m,\u001b[0m \u001b[0mkwds\u001b[0m\u001b[1;33m)\u001b[0m\u001b[1;33m\u001b[0m\u001b[1;33m\u001b[0m\u001b[0m\n\u001b[0m\u001b[0;32m   1868\u001b[0m         \u001b[1;32massert\u001b[0m \u001b[0mself\u001b[0m\u001b[1;33m.\u001b[0m\u001b[0mhandles\u001b[0m \u001b[1;32mis\u001b[0m \u001b[1;32mnot\u001b[0m \u001b[1;32mNone\u001b[0m\u001b[1;33m\u001b[0m\u001b[1;33m\u001b[0m\u001b[0m\n\u001b[0;32m   1869\u001b[0m         \u001b[1;32mfor\u001b[0m \u001b[0mkey\u001b[0m \u001b[1;32min\u001b[0m \u001b[1;33m(\u001b[0m\u001b[1;34m\"storage_options\"\u001b[0m\u001b[1;33m,\u001b[0m \u001b[1;34m\"encoding\"\u001b[0m\u001b[1;33m,\u001b[0m \u001b[1;34m\"memory_map\"\u001b[0m\u001b[1;33m,\u001b[0m \u001b[1;34m\"compression\"\u001b[0m\u001b[1;33m)\u001b[0m\u001b[1;33m:\u001b[0m\u001b[1;33m\u001b[0m\u001b[1;33m\u001b[0m\u001b[0m\n",
      "\u001b[1;32mC:\\ProgramData\\Anaconda3\\lib\\site-packages\\pandas\\io\\parsers.py\u001b[0m in \u001b[0;36m_open_handles\u001b[1;34m(self, src, kwds)\u001b[0m\n\u001b[0;32m   1360\u001b[0m         \u001b[0mLet\u001b[0m \u001b[0mthe\u001b[0m \u001b[0mreaders\u001b[0m \u001b[0mopen\u001b[0m \u001b[0mIOHanldes\u001b[0m \u001b[0mafter\u001b[0m \u001b[0mthey\u001b[0m \u001b[0mare\u001b[0m \u001b[0mdone\u001b[0m \u001b[1;32mwith\u001b[0m \u001b[0mtheir\u001b[0m \u001b[0mpotential\u001b[0m \u001b[0mraises\u001b[0m\u001b[1;33m.\u001b[0m\u001b[1;33m\u001b[0m\u001b[1;33m\u001b[0m\u001b[0m\n\u001b[0;32m   1361\u001b[0m         \"\"\"\n\u001b[1;32m-> 1362\u001b[1;33m         self.handles = get_handle(\n\u001b[0m\u001b[0;32m   1363\u001b[0m             \u001b[0msrc\u001b[0m\u001b[1;33m,\u001b[0m\u001b[1;33m\u001b[0m\u001b[1;33m\u001b[0m\u001b[0m\n\u001b[0;32m   1364\u001b[0m             \u001b[1;34m\"r\"\u001b[0m\u001b[1;33m,\u001b[0m\u001b[1;33m\u001b[0m\u001b[1;33m\u001b[0m\u001b[0m\n",
      "\u001b[1;32mC:\\ProgramData\\Anaconda3\\lib\\site-packages\\pandas\\io\\common.py\u001b[0m in \u001b[0;36mget_handle\u001b[1;34m(path_or_buf, mode, encoding, compression, memory_map, is_text, errors, storage_options)\u001b[0m\n\u001b[0;32m    640\u001b[0m                 \u001b[0merrors\u001b[0m \u001b[1;33m=\u001b[0m \u001b[1;34m\"replace\"\u001b[0m\u001b[1;33m\u001b[0m\u001b[1;33m\u001b[0m\u001b[0m\n\u001b[0;32m    641\u001b[0m             \u001b[1;31m# Encoding\u001b[0m\u001b[1;33m\u001b[0m\u001b[1;33m\u001b[0m\u001b[1;33m\u001b[0m\u001b[0m\n\u001b[1;32m--> 642\u001b[1;33m             handle = open(\n\u001b[0m\u001b[0;32m    643\u001b[0m                 \u001b[0mhandle\u001b[0m\u001b[1;33m,\u001b[0m\u001b[1;33m\u001b[0m\u001b[1;33m\u001b[0m\u001b[0m\n\u001b[0;32m    644\u001b[0m                 \u001b[0mioargs\u001b[0m\u001b[1;33m.\u001b[0m\u001b[0mmode\u001b[0m\u001b[1;33m,\u001b[0m\u001b[1;33m\u001b[0m\u001b[1;33m\u001b[0m\u001b[0m\n",
      "\u001b[1;31mFileNotFoundError\u001b[0m: [Errno 2] No such file or directory: '/kaggle/input/sf-scoring/sample_submission.csv'"
     ]
    }
   ],
   "source": [
    "sample_submission = pd.read_csv('/kaggle/input/sf-scoring/sample_submission.csv')\n",
    "sample_submission['default'] = y_submit\n",
    "sample_submission.to_csv('submission.csv', index=False)\n",
    "sample_submission.head(10)"
   ]
  },
  {
   "cell_type": "markdown",
   "metadata": {},
   "source": [
    "## Conclusions"
   ]
  },
  {
   "cell_type": "markdown",
   "metadata": {},
   "source": [
    "1. Данные на вход были достаточно чистыми. И числовые и категориальные признаки были в рамках валидных значений. Только один признак (education) содержал NaNы. Заменил на новый вид и сделал признак NaNов. Замена на наоболее частое значение или наиболее близкое ничего не дала.\n",
    "2. В некоторых числовых признаках содержались выбросы. Также пометил их в отдельных признаках. Что то делать с ними не стал, так как предполагаю, что это нормальные данные. Также из числовые признаков дополнительно создал категории.\n",
    "3. Некоторые категориальные признаки подрезал по количеству категорий (так как основная масса категорий была очень малочисленной).\n",
    "4. По дате сделал несколько новых принзаков.\n",
    "5. Создание полиноменальных признаков ничего не дало.\n",
    "6. Для устранения дисбаланса пробовал несколько способов. Наиболее действенный - BorderlineSMOTE. Его и использовал на модели.\n",
    "7. Некоторое улучшение дал подбор гиперпараметров.\n",
    "8. Очень хорошо сработал подбор уровня срабатывания дефолта по вероятности."
   ]
  }
 ],
 "metadata": {
  "kernelspec": {
   "display_name": "Python 3",
   "language": "python",
   "name": "python3"
  },
  "language_info": {
   "codemirror_mode": {
    "name": "ipython",
    "version": 3
   },
   "file_extension": ".py",
   "mimetype": "text/x-python",
   "name": "python",
   "nbconvert_exporter": "python",
   "pygments_lexer": "ipython3",
   "version": "3.8.8"
  }
 },
 "nbformat": 4,
 "nbformat_minor": 4
}
