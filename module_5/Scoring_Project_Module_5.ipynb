{
 "cells": [
  {
   "cell_type": "markdown",
   "id": "e88e66c1",
   "metadata": {},
   "source": [
    "## Import modules"
   ]
  },
  {
   "cell_type": "code",
   "execution_count": 1,
   "id": "14c09bfe",
   "metadata": {},
   "outputs": [],
   "source": [
    "import pandas as pd\n",
    "import numpy as np\n",
    "import seaborn as sns\n",
    "import matplotlib.pyplot as plt\n",
    "from sklearn.preprocessing import LabelEncoder, RobustScaler\n",
    "from sklearn.linear_model import LogisticRegression\n",
    "from sklearn.feature_selection import f_classif, mutual_info_classif\n",
    "from sklearn.model_selection import train_test_split\n",
    "from sklearn.metrics import confusion_matrix, classification_report, roc_auc_score, roc_curve, f1_score\n",
    "from imblearn.over_sampling import RandomOverSampler, SMOTE"
   ]
  },
  {
   "cell_type": "code",
   "execution_count": 2,
   "id": "87dcfb3d",
   "metadata": {},
   "outputs": [],
   "source": [
    "pd.set_option('display.max_rows', 100)\n",
    "pd.set_option('display.max_columns', 100)"
   ]
  },
  {
   "cell_type": "markdown",
   "id": "37dfef0b",
   "metadata": {},
   "source": [
    "## Reading dataset"
   ]
  },
  {
   "cell_type": "code",
   "execution_count": 3,
   "id": "b16c2873",
   "metadata": {},
   "outputs": [],
   "source": [
    "df_train = pd.read_csv('train.csv')\n",
    "df_test = pd.read_csv('test.csv')\n",
    "sample_submission = pd.read_csv('sample_submission.csv')"
   ]
  },
  {
   "cell_type": "markdown",
   "id": "95b5be96",
   "metadata": {},
   "source": [
    "### Dataset description\n",
    "\n",
    "client_id - идентификатор клиента  \n",
    "education - уровень образования  \n",
    "sex - пол заемщика  \n",
    "age - возраст заемщика  \n",
    "car - флаг наличия автомобиля  \n",
    "car_type - флаг автомобиля иномарки  \n",
    "decline_app_cnt - количество отказанных прошлых заявок  \n",
    "good_work - флаг наличия “хорошей” работы  \n",
    "bki_request_cnt - количество запросов в БКИ  \n",
    "home_address - категоризатор домашнего адреса  \n",
    "work_address - категоризатор рабочего адреса  \n",
    "income - доход заемщика  \n",
    "foreign_passport - наличие загранпаспорта  \n",
    "sna - связь заемщика с клиентами банка  \n",
    "first_time - давность наличия информации о заемщике  \n",
    "score_bki - скоринговый балл по данным из БКИ  \n",
    "region_rating - рейтинг региона  \n",
    "app_date - дата подачи заявки  \n",
    "default - флаг дефолта по кредиту"
   ]
  },
  {
   "cell_type": "code",
   "execution_count": 4,
   "id": "1b90baef",
   "metadata": {},
   "outputs": [],
   "source": [
    "df_train['sample'] = 1\n",
    "df_test['sample'] = 0\n",
    "df_test['default'] = 0\n",
    "data = df_test.append(df_train, sort=False).reset_index(drop=True)"
   ]
  },
  {
   "cell_type": "code",
   "execution_count": 5,
   "id": "15025a4d",
   "metadata": {},
   "outputs": [
    {
     "name": "stdout",
     "output_type": "stream",
     "text": [
      "<class 'pandas.core.frame.DataFrame'>\n",
      "Int64Index: 73799 entries, 36349 to 110147\n",
      "Data columns (total 20 columns):\n",
      " #   Column            Non-Null Count  Dtype  \n",
      "---  ------            --------------  -----  \n",
      " 0   client_id         73799 non-null  int64  \n",
      " 1   app_date          73799 non-null  object \n",
      " 2   education         73492 non-null  object \n",
      " 3   sex               73799 non-null  object \n",
      " 4   age               73799 non-null  int64  \n",
      " 5   car               73799 non-null  object \n",
      " 6   car_type          73799 non-null  object \n",
      " 7   decline_app_cnt   73799 non-null  int64  \n",
      " 8   good_work         73799 non-null  int64  \n",
      " 9   score_bki         73799 non-null  float64\n",
      " 10  bki_request_cnt   73799 non-null  int64  \n",
      " 11  region_rating     73799 non-null  int64  \n",
      " 12  home_address      73799 non-null  int64  \n",
      " 13  work_address      73799 non-null  int64  \n",
      " 14  income            73799 non-null  int64  \n",
      " 15  sna               73799 non-null  int64  \n",
      " 16  first_time        73799 non-null  int64  \n",
      " 17  foreign_passport  73799 non-null  object \n",
      " 18  sample            73799 non-null  int64  \n",
      " 19  default           73799 non-null  int64  \n",
      "dtypes: float64(1), int64(13), object(6)\n",
      "memory usage: 11.8+ MB\n"
     ]
    }
   ],
   "source": [
    "data[data['sample'] == 1].info()"
   ]
  },
  {
   "cell_type": "code",
   "execution_count": 6,
   "id": "97338763",
   "metadata": {},
   "outputs": [
    {
     "data": {
      "text/plain": [
       "client_id           73799\n",
       "app_date              120\n",
       "education               5\n",
       "sex                     2\n",
       "age                    52\n",
       "car                     2\n",
       "car_type                2\n",
       "decline_app_cnt        21\n",
       "good_work               2\n",
       "score_bki           69096\n",
       "bki_request_cnt        38\n",
       "region_rating           7\n",
       "home_address            3\n",
       "work_address            3\n",
       "income                966\n",
       "sna                     4\n",
       "first_time              4\n",
       "foreign_passport        2\n",
       "sample                  1\n",
       "default                 2\n",
       "dtype: int64"
      ]
     },
     "execution_count": 6,
     "metadata": {},
     "output_type": "execute_result"
    }
   ],
   "source": [
    "# Unique data by columns\n",
    "\n",
    "data[data['sample'] == 1].nunique()"
   ]
  },
  {
   "cell_type": "code",
   "execution_count": 7,
   "id": "289888b3",
   "metadata": {},
   "outputs": [
    {
     "data": {
      "text/plain": [
       "client_id             0\n",
       "app_date              0\n",
       "education           307\n",
       "sex                   0\n",
       "age                   0\n",
       "car                   0\n",
       "car_type              0\n",
       "decline_app_cnt       0\n",
       "good_work             0\n",
       "score_bki             0\n",
       "bki_request_cnt       0\n",
       "region_rating         0\n",
       "home_address          0\n",
       "work_address          0\n",
       "income                0\n",
       "sna                   0\n",
       "first_time            0\n",
       "foreign_passport      0\n",
       "sample                0\n",
       "default               0\n",
       "dtype: int64"
      ]
     },
     "execution_count": 7,
     "metadata": {},
     "output_type": "execute_result"
    }
   ],
   "source": [
    "# Empty cells by columns\n",
    "\n",
    "data[data['sample'] == 1].isna().sum()"
   ]
  },
  {
   "cell_type": "code",
   "execution_count": 8,
   "id": "2f88fb69",
   "metadata": {},
   "outputs": [
    {
     "data": {
      "text/html": [
       "<div>\n",
       "<style scoped>\n",
       "    .dataframe tbody tr th:only-of-type {\n",
       "        vertical-align: middle;\n",
       "    }\n",
       "\n",
       "    .dataframe tbody tr th {\n",
       "        vertical-align: top;\n",
       "    }\n",
       "\n",
       "    .dataframe thead th {\n",
       "        text-align: right;\n",
       "    }\n",
       "</style>\n",
       "<table border=\"1\" class=\"dataframe\">\n",
       "  <thead>\n",
       "    <tr style=\"text-align: right;\">\n",
       "      <th></th>\n",
       "      <th>client_id</th>\n",
       "      <th>age</th>\n",
       "      <th>decline_app_cnt</th>\n",
       "      <th>good_work</th>\n",
       "      <th>score_bki</th>\n",
       "      <th>bki_request_cnt</th>\n",
       "      <th>region_rating</th>\n",
       "      <th>home_address</th>\n",
       "      <th>work_address</th>\n",
       "      <th>income</th>\n",
       "      <th>sna</th>\n",
       "      <th>first_time</th>\n",
       "      <th>sample</th>\n",
       "      <th>default</th>\n",
       "    </tr>\n",
       "  </thead>\n",
       "  <tbody>\n",
       "    <tr>\n",
       "      <th>count</th>\n",
       "      <td>73799.000000</td>\n",
       "      <td>73799.000000</td>\n",
       "      <td>73799.000000</td>\n",
       "      <td>73799.000000</td>\n",
       "      <td>73799.000000</td>\n",
       "      <td>73799.000000</td>\n",
       "      <td>73799.000000</td>\n",
       "      <td>73799.000000</td>\n",
       "      <td>73799.000000</td>\n",
       "      <td>73799.000000</td>\n",
       "      <td>73799.000000</td>\n",
       "      <td>73799.000000</td>\n",
       "      <td>73799.0</td>\n",
       "      <td>73799.000000</td>\n",
       "    </tr>\n",
       "    <tr>\n",
       "      <th>mean</th>\n",
       "      <td>55137.965094</td>\n",
       "      <td>39.280641</td>\n",
       "      <td>0.275749</td>\n",
       "      <td>0.164894</td>\n",
       "      <td>-1.904724</td>\n",
       "      <td>2.000339</td>\n",
       "      <td>56.725701</td>\n",
       "      <td>1.575509</td>\n",
       "      <td>2.496280</td>\n",
       "      <td>41099.775417</td>\n",
       "      <td>1.733330</td>\n",
       "      <td>2.765458</td>\n",
       "      <td>1.0</td>\n",
       "      <td>0.126994</td>\n",
       "    </tr>\n",
       "    <tr>\n",
       "      <th>std</th>\n",
       "      <td>31841.921168</td>\n",
       "      <td>11.520378</td>\n",
       "      <td>0.804272</td>\n",
       "      <td>0.371087</td>\n",
       "      <td>0.498231</td>\n",
       "      <td>2.252073</td>\n",
       "      <td>13.055717</td>\n",
       "      <td>0.527631</td>\n",
       "      <td>0.689818</td>\n",
       "      <td>46166.322400</td>\n",
       "      <td>1.123622</td>\n",
       "      <td>1.009463</td>\n",
       "      <td>0.0</td>\n",
       "      <td>0.332968</td>\n",
       "    </tr>\n",
       "    <tr>\n",
       "      <th>min</th>\n",
       "      <td>1.000000</td>\n",
       "      <td>21.000000</td>\n",
       "      <td>0.000000</td>\n",
       "      <td>0.000000</td>\n",
       "      <td>-3.624586</td>\n",
       "      <td>0.000000</td>\n",
       "      <td>20.000000</td>\n",
       "      <td>1.000000</td>\n",
       "      <td>1.000000</td>\n",
       "      <td>1000.000000</td>\n",
       "      <td>1.000000</td>\n",
       "      <td>1.000000</td>\n",
       "      <td>1.0</td>\n",
       "      <td>0.000000</td>\n",
       "    </tr>\n",
       "    <tr>\n",
       "      <th>25%</th>\n",
       "      <td>27440.500000</td>\n",
       "      <td>30.000000</td>\n",
       "      <td>0.000000</td>\n",
       "      <td>0.000000</td>\n",
       "      <td>-2.259534</td>\n",
       "      <td>0.000000</td>\n",
       "      <td>50.000000</td>\n",
       "      <td>1.000000</td>\n",
       "      <td>2.000000</td>\n",
       "      <td>20000.000000</td>\n",
       "      <td>1.000000</td>\n",
       "      <td>2.000000</td>\n",
       "      <td>1.0</td>\n",
       "      <td>0.000000</td>\n",
       "    </tr>\n",
       "    <tr>\n",
       "      <th>50%</th>\n",
       "      <td>55274.000000</td>\n",
       "      <td>37.000000</td>\n",
       "      <td>0.000000</td>\n",
       "      <td>0.000000</td>\n",
       "      <td>-1.920823</td>\n",
       "      <td>1.000000</td>\n",
       "      <td>50.000000</td>\n",
       "      <td>2.000000</td>\n",
       "      <td>3.000000</td>\n",
       "      <td>30000.000000</td>\n",
       "      <td>1.000000</td>\n",
       "      <td>3.000000</td>\n",
       "      <td>1.0</td>\n",
       "      <td>0.000000</td>\n",
       "    </tr>\n",
       "    <tr>\n",
       "      <th>75%</th>\n",
       "      <td>82758.500000</td>\n",
       "      <td>48.000000</td>\n",
       "      <td>0.000000</td>\n",
       "      <td>0.000000</td>\n",
       "      <td>-1.569831</td>\n",
       "      <td>3.000000</td>\n",
       "      <td>60.000000</td>\n",
       "      <td>2.000000</td>\n",
       "      <td>3.000000</td>\n",
       "      <td>48000.000000</td>\n",
       "      <td>2.000000</td>\n",
       "      <td>4.000000</td>\n",
       "      <td>1.0</td>\n",
       "      <td>0.000000</td>\n",
       "    </tr>\n",
       "    <tr>\n",
       "      <th>max</th>\n",
       "      <td>110147.000000</td>\n",
       "      <td>72.000000</td>\n",
       "      <td>33.000000</td>\n",
       "      <td>1.000000</td>\n",
       "      <td>0.199773</td>\n",
       "      <td>53.000000</td>\n",
       "      <td>80.000000</td>\n",
       "      <td>3.000000</td>\n",
       "      <td>3.000000</td>\n",
       "      <td>1000000.000000</td>\n",
       "      <td>4.000000</td>\n",
       "      <td>4.000000</td>\n",
       "      <td>1.0</td>\n",
       "      <td>1.000000</td>\n",
       "    </tr>\n",
       "  </tbody>\n",
       "</table>\n",
       "</div>"
      ],
      "text/plain": [
       "           client_id           age  decline_app_cnt     good_work  \\\n",
       "count   73799.000000  73799.000000     73799.000000  73799.000000   \n",
       "mean    55137.965094     39.280641         0.275749      0.164894   \n",
       "std     31841.921168     11.520378         0.804272      0.371087   \n",
       "min         1.000000     21.000000         0.000000      0.000000   \n",
       "25%     27440.500000     30.000000         0.000000      0.000000   \n",
       "50%     55274.000000     37.000000         0.000000      0.000000   \n",
       "75%     82758.500000     48.000000         0.000000      0.000000   \n",
       "max    110147.000000     72.000000        33.000000      1.000000   \n",
       "\n",
       "          score_bki  bki_request_cnt  region_rating  home_address  \\\n",
       "count  73799.000000     73799.000000   73799.000000  73799.000000   \n",
       "mean      -1.904724         2.000339      56.725701      1.575509   \n",
       "std        0.498231         2.252073      13.055717      0.527631   \n",
       "min       -3.624586         0.000000      20.000000      1.000000   \n",
       "25%       -2.259534         0.000000      50.000000      1.000000   \n",
       "50%       -1.920823         1.000000      50.000000      2.000000   \n",
       "75%       -1.569831         3.000000      60.000000      2.000000   \n",
       "max        0.199773        53.000000      80.000000      3.000000   \n",
       "\n",
       "       work_address          income           sna    first_time   sample  \\\n",
       "count  73799.000000    73799.000000  73799.000000  73799.000000  73799.0   \n",
       "mean       2.496280    41099.775417      1.733330      2.765458      1.0   \n",
       "std        0.689818    46166.322400      1.123622      1.009463      0.0   \n",
       "min        1.000000     1000.000000      1.000000      1.000000      1.0   \n",
       "25%        2.000000    20000.000000      1.000000      2.000000      1.0   \n",
       "50%        3.000000    30000.000000      1.000000      3.000000      1.0   \n",
       "75%        3.000000    48000.000000      2.000000      4.000000      1.0   \n",
       "max        3.000000  1000000.000000      4.000000      4.000000      1.0   \n",
       "\n",
       "            default  \n",
       "count  73799.000000  \n",
       "mean       0.126994  \n",
       "std        0.332968  \n",
       "min        0.000000  \n",
       "25%        0.000000  \n",
       "50%        0.000000  \n",
       "75%        0.000000  \n",
       "max        1.000000  "
      ]
     },
     "execution_count": 8,
     "metadata": {},
     "output_type": "execute_result"
    }
   ],
   "source": [
    "# Main metrics of dataset\n",
    "\n",
    "data[data['sample'] == 1].describe()"
   ]
  },
  {
   "cell_type": "code",
   "execution_count": 9,
   "id": "145fd5c0",
   "metadata": {},
   "outputs": [
    {
     "data": {
      "text/html": [
       "<div>\n",
       "<style scoped>\n",
       "    .dataframe tbody tr th:only-of-type {\n",
       "        vertical-align: middle;\n",
       "    }\n",
       "\n",
       "    .dataframe tbody tr th {\n",
       "        vertical-align: top;\n",
       "    }\n",
       "\n",
       "    .dataframe thead th {\n",
       "        text-align: right;\n",
       "    }\n",
       "</style>\n",
       "<table border=\"1\" class=\"dataframe\">\n",
       "  <thead>\n",
       "    <tr style=\"text-align: right;\">\n",
       "      <th></th>\n",
       "      <th>client_id</th>\n",
       "      <th>app_date</th>\n",
       "      <th>education</th>\n",
       "      <th>sex</th>\n",
       "      <th>age</th>\n",
       "      <th>car</th>\n",
       "      <th>car_type</th>\n",
       "      <th>decline_app_cnt</th>\n",
       "      <th>good_work</th>\n",
       "      <th>score_bki</th>\n",
       "      <th>bki_request_cnt</th>\n",
       "      <th>region_rating</th>\n",
       "      <th>home_address</th>\n",
       "      <th>work_address</th>\n",
       "      <th>income</th>\n",
       "      <th>sna</th>\n",
       "      <th>first_time</th>\n",
       "      <th>foreign_passport</th>\n",
       "      <th>sample</th>\n",
       "      <th>default</th>\n",
       "    </tr>\n",
       "  </thead>\n",
       "  <tbody>\n",
       "    <tr>\n",
       "      <th>59387</th>\n",
       "      <td>48011</td>\n",
       "      <td>25FEB2014</td>\n",
       "      <td>SCH</td>\n",
       "      <td>F</td>\n",
       "      <td>48</td>\n",
       "      <td>N</td>\n",
       "      <td>N</td>\n",
       "      <td>0</td>\n",
       "      <td>0</td>\n",
       "      <td>-2.353052</td>\n",
       "      <td>0</td>\n",
       "      <td>50</td>\n",
       "      <td>1</td>\n",
       "      <td>1</td>\n",
       "      <td>10000</td>\n",
       "      <td>2</td>\n",
       "      <td>3</td>\n",
       "      <td>N</td>\n",
       "      <td>1</td>\n",
       "      <td>0</td>\n",
       "    </tr>\n",
       "    <tr>\n",
       "      <th>18087</th>\n",
       "      <td>65059</td>\n",
       "      <td>14MAR2014</td>\n",
       "      <td>SCH</td>\n",
       "      <td>M</td>\n",
       "      <td>35</td>\n",
       "      <td>Y</td>\n",
       "      <td>N</td>\n",
       "      <td>0</td>\n",
       "      <td>0</td>\n",
       "      <td>-1.602110</td>\n",
       "      <td>3</td>\n",
       "      <td>80</td>\n",
       "      <td>2</td>\n",
       "      <td>3</td>\n",
       "      <td>35000</td>\n",
       "      <td>1</td>\n",
       "      <td>3</td>\n",
       "      <td>Y</td>\n",
       "      <td>0</td>\n",
       "      <td>0</td>\n",
       "    </tr>\n",
       "    <tr>\n",
       "      <th>84737</th>\n",
       "      <td>30737</td>\n",
       "      <td>06FEB2014</td>\n",
       "      <td>SCH</td>\n",
       "      <td>F</td>\n",
       "      <td>61</td>\n",
       "      <td>N</td>\n",
       "      <td>N</td>\n",
       "      <td>0</td>\n",
       "      <td>0</td>\n",
       "      <td>-1.747485</td>\n",
       "      <td>2</td>\n",
       "      <td>50</td>\n",
       "      <td>2</td>\n",
       "      <td>3</td>\n",
       "      <td>16000</td>\n",
       "      <td>3</td>\n",
       "      <td>2</td>\n",
       "      <td>N</td>\n",
       "      <td>1</td>\n",
       "      <td>0</td>\n",
       "    </tr>\n",
       "    <tr>\n",
       "      <th>10059</th>\n",
       "      <td>25137</td>\n",
       "      <td>31JAN2014</td>\n",
       "      <td>SCH</td>\n",
       "      <td>F</td>\n",
       "      <td>26</td>\n",
       "      <td>N</td>\n",
       "      <td>N</td>\n",
       "      <td>0</td>\n",
       "      <td>0</td>\n",
       "      <td>-2.406045</td>\n",
       "      <td>0</td>\n",
       "      <td>50</td>\n",
       "      <td>1</td>\n",
       "      <td>2</td>\n",
       "      <td>15000</td>\n",
       "      <td>2</td>\n",
       "      <td>2</td>\n",
       "      <td>N</td>\n",
       "      <td>0</td>\n",
       "      <td>0</td>\n",
       "    </tr>\n",
       "    <tr>\n",
       "      <th>104814</th>\n",
       "      <td>12208</td>\n",
       "      <td>20JAN2014</td>\n",
       "      <td>UGR</td>\n",
       "      <td>F</td>\n",
       "      <td>30</td>\n",
       "      <td>N</td>\n",
       "      <td>N</td>\n",
       "      <td>0</td>\n",
       "      <td>0</td>\n",
       "      <td>-2.080058</td>\n",
       "      <td>0</td>\n",
       "      <td>50</td>\n",
       "      <td>3</td>\n",
       "      <td>3</td>\n",
       "      <td>32000</td>\n",
       "      <td>1</td>\n",
       "      <td>3</td>\n",
       "      <td>N</td>\n",
       "      <td>1</td>\n",
       "      <td>0</td>\n",
       "    </tr>\n",
       "  </tbody>\n",
       "</table>\n",
       "</div>"
      ],
      "text/plain": [
       "        client_id   app_date education sex  age car car_type  decline_app_cnt  \\\n",
       "59387       48011  25FEB2014       SCH   F   48   N        N                0   \n",
       "18087       65059  14MAR2014       SCH   M   35   Y        N                0   \n",
       "84737       30737  06FEB2014       SCH   F   61   N        N                0   \n",
       "10059       25137  31JAN2014       SCH   F   26   N        N                0   \n",
       "104814      12208  20JAN2014       UGR   F   30   N        N                0   \n",
       "\n",
       "        good_work  score_bki  bki_request_cnt  region_rating  home_address  \\\n",
       "59387           0  -2.353052                0             50             1   \n",
       "18087           0  -1.602110                3             80             2   \n",
       "84737           0  -1.747485                2             50             2   \n",
       "10059           0  -2.406045                0             50             1   \n",
       "104814          0  -2.080058                0             50             3   \n",
       "\n",
       "        work_address  income  sna  first_time foreign_passport  sample  \\\n",
       "59387              1   10000    2           3                N       1   \n",
       "18087              3   35000    1           3                Y       0   \n",
       "84737              3   16000    3           2                N       1   \n",
       "10059              2   15000    2           2                N       0   \n",
       "104814             3   32000    1           3                N       1   \n",
       "\n",
       "        default  \n",
       "59387         0  \n",
       "18087         0  \n",
       "84737         0  \n",
       "10059         0  \n",
       "104814        0  "
      ]
     },
     "execution_count": 9,
     "metadata": {},
     "output_type": "execute_result"
    }
   ],
   "source": [
    "data.sample(5)"
   ]
  },
  {
   "cell_type": "markdown",
   "id": "06970a18",
   "metadata": {},
   "source": [
    "## Function list"
   ]
  },
  {
   "cell_type": "code",
   "execution_count": 10,
   "id": "ffab2a36",
   "metadata": {},
   "outputs": [],
   "source": [
    "def outliers(col, col_name):\n",
    "    Q1 = col.quantile(0.25)\n",
    "    Q3 = col.quantile(0.75)\n",
    "    IQR = Q3 - Q1\n",
    "    outliers_count = pd.DataFrame(col[((col < (Q1 - 1.5 * IQR)) | (col > (Q3 + 1.5 * IQR)))]).count()\n",
    "    print(f'In column {outliers_count.index[0]} {outliers_count[0]} ouliers')\n",
    "\n",
    "\n",
    "def percent_of_target(col1, col2):\n",
    "    display(pd.crosstab(col1, col2, normalize='index'))"
   ]
  },
  {
   "cell_type": "markdown",
   "id": "7fe07862",
   "metadata": {},
   "source": [
    "### Setup"
   ]
  },
  {
   "cell_type": "code",
   "execution_count": 11,
   "id": "50c0e931",
   "metadata": {},
   "outputs": [],
   "source": [
    "num_cols = ['age', 'score_bki', 'decline_app_cnt', 'bki_request_cnt', 'income']\n",
    "cat_cols = ['education', 'first_time', 'sna', 'work_address', 'home_address', 'region_rating']\n",
    "bin_cols = ['sex', 'car', 'car_type', 'good_work', 'foreign_passport']\n",
    "le = LabelEncoder()\n",
    "SEED = 42"
   ]
  },
  {
   "cell_type": "markdown",
   "id": "fae33a0a",
   "metadata": {},
   "source": [
    "### Numerical columns"
   ]
  },
  {
   "cell_type": "markdown",
   "id": "1ff18e47",
   "metadata": {},
   "source": [
    "#### Age"
   ]
  },
  {
   "cell_type": "markdown",
   "id": "132d8a32",
   "metadata": {},
   "source": [
    "This column doen't have NaN. So, let's look at outliers and distribution by Default."
   ]
  },
  {
   "cell_type": "code",
   "execution_count": 12,
   "id": "6b04f39e",
   "metadata": {},
   "outputs": [
    {
     "name": "stdout",
     "output_type": "stream",
     "text": [
      "In column age 0 ouliers\n"
     ]
    }
   ],
   "source": [
    "outliers(data[data['sample'] == 1]['age'], 'age')"
   ]
  },
  {
   "cell_type": "code",
   "execution_count": 13,
   "id": "7cb5934c",
   "metadata": {},
   "outputs": [
    {
     "data": {
      "image/png": "[encoded data removed]",
      "text/plain": [
       "<Figure size 864x144 with 2 Axes>"
      ]
     },
     "metadata": {
      "needs_background": "light"
     },
     "output_type": "display_data"
    }
   ],
   "source": [
    "fig, ax = plt.subplots(1, 2, figsize=(12, 2))\n",
    "sns.histplot(data=data[(data['sample'] == 1) & (data['default'] == 0)], \n",
    "             x='age', hue='sex', multiple='dodge', ax=ax[0]).set_title('Default 0')\n",
    "sns.histplot(data=data[(data['sample'] == 1) & (data['default'] == 1)], \n",
    "             x='age', hue='sex', multiple='dodge', ax=ax[1]).set_title('Default 1')\n",
    "plt.show()"
   ]
  },
  {
   "cell_type": "markdown",
   "id": "6c6da0f0",
   "metadata": {},
   "source": [
    "Intresting. Kredit for women more ofter had been approved. Denied the same."
   ]
  },
  {
   "cell_type": "code",
   "execution_count": 14,
   "id": "438bcc0e",
   "metadata": {},
   "outputs": [
    {
     "name": "stdout",
     "output_type": "stream",
     "text": [
      "Min Age is 21\n",
      "Max Age is 72\n"
     ]
    }
   ],
   "source": [
    "print(f'Min Age is {data[data[\"sample\"] == 1][\"age\"].min()}')\n",
    "print(f'Max Age is {data[data[\"sample\"] == 1][\"age\"].max()}')"
   ]
  },
  {
   "cell_type": "markdown",
   "id": "61f724f2",
   "metadata": {},
   "source": [
    "Split it on categories by 5 years"
   ]
  },
  {
   "cell_type": "code",
   "execution_count": 15,
   "id": "7dfa5b9f",
   "metadata": {},
   "outputs": [],
   "source": [
    "cut_bins = list([x for x in range(19, 80, 5)])\n",
    "cut_labels = list([x for x in range(len(cut_bins)-1)])\n",
    "data['cat_age'] = pd.cut(data['age'], bins=cut_bins, labels=cut_labels).astype('int32')"
   ]
  },
  {
   "cell_type": "code",
   "execution_count": 16,
   "id": "059998f8",
   "metadata": {},
   "outputs": [
    {
     "data": {
      "image/png": "[encoded data removed]",
      "text/plain": [
       "<Figure size 864x144 with 2 Axes>"
      ]
     },
     "metadata": {
      "needs_background": "light"
     },
     "output_type": "display_data"
    }
   ],
   "source": [
    "fig, ax = plt.subplots(1, 2, figsize=(12, 2))\n",
    "sns.countplot(data=data[(data['sample'] == 1) & (data['default'] == 0)], \n",
    "              x='cat_age', hue='sex', ax=ax[0]).set_title('Default 0')\n",
    "sns.countplot(data=data[(data['sample'] == 1) & (data['default'] == 1)], \n",
    "              x='cat_age', hue='sex', ax=ax[1]).set_title('Default 1')\n",
    "plt.show()"
   ]
  },
  {
   "cell_type": "code",
   "execution_count": 17,
   "id": "a1ef3363",
   "metadata": {},
   "outputs": [
    {
     "data": {
      "text/html": [
       "<div>\n",
       "<style scoped>\n",
       "    .dataframe tbody tr th:only-of-type {\n",
       "        vertical-align: middle;\n",
       "    }\n",
       "\n",
       "    .dataframe tbody tr th {\n",
       "        vertical-align: top;\n",
       "    }\n",
       "\n",
       "    .dataframe thead th {\n",
       "        text-align: right;\n",
       "    }\n",
       "</style>\n",
       "<table border=\"1\" class=\"dataframe\">\n",
       "  <thead>\n",
       "    <tr style=\"text-align: right;\">\n",
       "      <th>default</th>\n",
       "      <th>0</th>\n",
       "      <th>1</th>\n",
       "    </tr>\n",
       "    <tr>\n",
       "      <th>cat_age</th>\n",
       "      <th></th>\n",
       "      <th></th>\n",
       "    </tr>\n",
       "  </thead>\n",
       "  <tbody>\n",
       "    <tr>\n",
       "      <th>0</th>\n",
       "      <td>0.862229</td>\n",
       "      <td>0.137771</td>\n",
       "    </tr>\n",
       "    <tr>\n",
       "      <th>1</th>\n",
       "      <td>0.859879</td>\n",
       "      <td>0.140121</td>\n",
       "    </tr>\n",
       "    <tr>\n",
       "      <th>2</th>\n",
       "      <td>0.868963</td>\n",
       "      <td>0.131037</td>\n",
       "    </tr>\n",
       "    <tr>\n",
       "      <th>3</th>\n",
       "      <td>0.868765</td>\n",
       "      <td>0.131235</td>\n",
       "    </tr>\n",
       "    <tr>\n",
       "      <th>4</th>\n",
       "      <td>0.880069</td>\n",
       "      <td>0.119931</td>\n",
       "    </tr>\n",
       "    <tr>\n",
       "      <th>5</th>\n",
       "      <td>0.881624</td>\n",
       "      <td>0.118376</td>\n",
       "    </tr>\n",
       "    <tr>\n",
       "      <th>6</th>\n",
       "      <td>0.888581</td>\n",
       "      <td>0.111419</td>\n",
       "    </tr>\n",
       "    <tr>\n",
       "      <th>7</th>\n",
       "      <td>0.889210</td>\n",
       "      <td>0.110790</td>\n",
       "    </tr>\n",
       "    <tr>\n",
       "      <th>8</th>\n",
       "      <td>0.876908</td>\n",
       "      <td>0.123092</td>\n",
       "    </tr>\n",
       "    <tr>\n",
       "      <th>9</th>\n",
       "      <td>0.868571</td>\n",
       "      <td>0.131429</td>\n",
       "    </tr>\n",
       "    <tr>\n",
       "      <th>10</th>\n",
       "      <td>0.783784</td>\n",
       "      <td>0.216216</td>\n",
       "    </tr>\n",
       "  </tbody>\n",
       "</table>\n",
       "</div>"
      ],
      "text/plain": [
       "default         0         1\n",
       "cat_age                    \n",
       "0        0.862229  0.137771\n",
       "1        0.859879  0.140121\n",
       "2        0.868963  0.131037\n",
       "3        0.868765  0.131235\n",
       "4        0.880069  0.119931\n",
       "5        0.881624  0.118376\n",
       "6        0.888581  0.111419\n",
       "7        0.889210  0.110790\n",
       "8        0.876908  0.123092\n",
       "9        0.868571  0.131429\n",
       "10       0.783784  0.216216"
      ]
     },
     "metadata": {},
     "output_type": "display_data"
    }
   ],
   "source": [
    "percent_of_target(data[data['sample'] == 1]['cat_age'], data[data['sample'] == 1]['default'])"
   ]
  },
  {
   "cell_type": "code",
   "execution_count": 18,
   "id": "34038d34",
   "metadata": {},
   "outputs": [],
   "source": [
    "data['age'] = np.log(data['age'] + 1)"
   ]
  },
  {
   "cell_type": "markdown",
   "id": "d58cef8f",
   "metadata": {},
   "source": [
    "About equal distribution by categories over Default column."
   ]
  },
  {
   "cell_type": "markdown",
   "id": "7d93f256",
   "metadata": {},
   "source": [
    "#### score_bki"
   ]
  },
  {
   "cell_type": "code",
   "execution_count": 19,
   "id": "9961067b",
   "metadata": {},
   "outputs": [
    {
     "data": {
      "image/png": "[encoded data removed]",
      "text/plain": [
       "<Figure size 360x360 with 1 Axes>"
      ]
     },
     "metadata": {
      "needs_background": "light"
     },
     "output_type": "display_data"
    }
   ],
   "source": [
    "sns.displot(data[data['sample'] == 1]['score_bki'])\n",
    "plt.show()"
   ]
  },
  {
   "cell_type": "code",
   "execution_count": 20,
   "id": "327285ae",
   "metadata": {},
   "outputs": [
    {
     "data": {
      "image/png": "[encoded data removed]",
      "text/plain": [
       "<Figure size 864x144 with 2 Axes>"
      ]
     },
     "metadata": {
      "needs_background": "light"
     },
     "output_type": "display_data"
    }
   ],
   "source": [
    "fig, ax = plt.subplots(1, 2, figsize=(12, 2))\n",
    "sns.histplot(data=data[(data['sample'] == 1) & (data['default'] == 0)], \n",
    "             x='score_bki', hue='sex', multiple='dodge', ax=ax[0]).set_title('Default 0')\n",
    "sns.histplot(data=data[(data['sample'] == 1) & (data['default'] == 1)], \n",
    "             x='score_bki', hue='sex', multiple='dodge', ax=ax[1]).set_title('Default 1')\n",
    "plt.show()"
   ]
  },
  {
   "cell_type": "markdown",
   "id": "f457a8fa",
   "metadata": {},
   "source": [
    "This column doen't have NaN. So, let's look at outliers and distribution by Default"
   ]
  },
  {
   "cell_type": "code",
   "execution_count": 21,
   "id": "e63063f9",
   "metadata": {},
   "outputs": [
    {
     "name": "stdout",
     "output_type": "stream",
     "text": [
      "In column score_bki 351 ouliers\n"
     ]
    }
   ],
   "source": [
    "outliers(data[data['sample'] == 1]['score_bki'], 'score_bki')"
   ]
  },
  {
   "cell_type": "markdown",
   "id": "345237b4",
   "metadata": {},
   "source": [
    "Let's make column to mark outliers."
   ]
  },
  {
   "cell_type": "code",
   "execution_count": 22,
   "id": "bc2e3c50",
   "metadata": {},
   "outputs": [],
   "source": [
    "Q1 = data[data['sample'] == 1]['score_bki'].quantile(0.25)\n",
    "Q3 = data[data['sample'] == 1]['score_bki'].quantile(0.75)\n",
    "IQR = Q3 - Q1\n",
    "data['score_bki_outliers'] = ((data['sample'] == 1) & ((data['score_bki'] < (Q1 - 1.5 * IQR)) | (data['score_bki'] > (Q3 + 1.5 * IQR)))).astype('int32')"
   ]
  },
  {
   "cell_type": "markdown",
   "id": "1d8120dc",
   "metadata": {},
   "source": [
    "#### decline_app_cnt"
   ]
  },
  {
   "cell_type": "code",
   "execution_count": 23,
   "id": "b38afeea",
   "metadata": {},
   "outputs": [
    {
     "data": {
      "image/png": "[encoded data removed]",
      "text/plain": [
       "<Figure size 864x144 with 2 Axes>"
      ]
     },
     "metadata": {
      "needs_background": "light"
     },
     "output_type": "display_data"
    }
   ],
   "source": [
    "fig, ax = plt.subplots(1, 2, figsize=(12, 2))\n",
    "sns.countplot(data=data[(data['sample'] == 1) & (data['default'] == 0)], \n",
    "              x='decline_app_cnt', hue='sex', ax=ax[0]).set_title('Default 0')\n",
    "sns.countplot(data=data[(data['sample'] == 1) & (data['default'] == 1)], \n",
    "              x='decline_app_cnt', hue='sex', ax=ax[1]).set_title('Default 1')\n",
    "plt.show()"
   ]
  },
  {
   "cell_type": "markdown",
   "id": "6c0e2edd",
   "metadata": {},
   "source": [
    "Count sum of each group"
   ]
  },
  {
   "cell_type": "code",
   "execution_count": 24,
   "id": "d35727a3",
   "metadata": {},
   "outputs": [
    {
     "data": {
      "text/plain": [
       "0     61214\n",
       "1      8397\n",
       "2      2468\n",
       "3       903\n",
       "4       414\n",
       "5       165\n",
       "6       113\n",
       "7        48\n",
       "9        24\n",
       "8        19\n",
       "10       11\n",
       "11        9\n",
       "13        3\n",
       "12        2\n",
       "14        2\n",
       "16        2\n",
       "15        1\n",
       "19        1\n",
       "22        1\n",
       "24        1\n",
       "33        1\n",
       "Name: decline_app_cnt, dtype: int64"
      ]
     },
     "execution_count": 24,
     "metadata": {},
     "output_type": "execute_result"
    }
   ],
   "source": [
    "data[data['sample'] == 1]['decline_app_cnt'].value_counts()"
   ]
  },
  {
   "cell_type": "markdown",
   "id": "57531ceb",
   "metadata": {},
   "source": [
    "Let's group tails. Leave only 5 groups."
   ]
  },
  {
   "cell_type": "code",
   "execution_count": 25,
   "id": "df7616ca",
   "metadata": {},
   "outputs": [],
   "source": [
    "mask = (data['decline_app_cnt'] > 4)\n",
    "data.loc[mask, 'decline_app_cnt'] = 4"
   ]
  },
  {
   "cell_type": "code",
   "execution_count": 26,
   "id": "146865a3",
   "metadata": {},
   "outputs": [
    {
     "data": {
      "image/png": "[encoded data removed]",
      "text/plain": [
       "<Figure size 432x288 with 1 Axes>"
      ]
     },
     "metadata": {
      "needs_background": "light"
     },
     "output_type": "display_data"
    }
   ],
   "source": [
    "sns.countplot(x='decline_app_cnt', data=data[data['sample'] == 1])\n",
    "plt.show()"
   ]
  },
  {
   "cell_type": "code",
   "execution_count": 27,
   "id": "6f2316a1",
   "metadata": {},
   "outputs": [
    {
     "data": {
      "text/html": [
       "<div>\n",
       "<style scoped>\n",
       "    .dataframe tbody tr th:only-of-type {\n",
       "        vertical-align: middle;\n",
       "    }\n",
       "\n",
       "    .dataframe tbody tr th {\n",
       "        vertical-align: top;\n",
       "    }\n",
       "\n",
       "    .dataframe thead th {\n",
       "        text-align: right;\n",
       "    }\n",
       "</style>\n",
       "<table border=\"1\" class=\"dataframe\">\n",
       "  <thead>\n",
       "    <tr style=\"text-align: right;\">\n",
       "      <th>default</th>\n",
       "      <th>0</th>\n",
       "      <th>1</th>\n",
       "    </tr>\n",
       "    <tr>\n",
       "      <th>decline_app_cnt</th>\n",
       "      <th></th>\n",
       "      <th></th>\n",
       "    </tr>\n",
       "  </thead>\n",
       "  <tbody>\n",
       "    <tr>\n",
       "      <th>0</th>\n",
       "      <td>0.890466</td>\n",
       "      <td>0.109534</td>\n",
       "    </tr>\n",
       "    <tr>\n",
       "      <th>1</th>\n",
       "      <td>0.812195</td>\n",
       "      <td>0.187805</td>\n",
       "    </tr>\n",
       "    <tr>\n",
       "      <th>2</th>\n",
       "      <td>0.756483</td>\n",
       "      <td>0.243517</td>\n",
       "    </tr>\n",
       "    <tr>\n",
       "      <th>3</th>\n",
       "      <td>0.726467</td>\n",
       "      <td>0.273533</td>\n",
       "    </tr>\n",
       "    <tr>\n",
       "      <th>4</th>\n",
       "      <td>0.703794</td>\n",
       "      <td>0.296206</td>\n",
       "    </tr>\n",
       "  </tbody>\n",
       "</table>\n",
       "</div>"
      ],
      "text/plain": [
       "default                 0         1\n",
       "decline_app_cnt                    \n",
       "0                0.890466  0.109534\n",
       "1                0.812195  0.187805\n",
       "2                0.756483  0.243517\n",
       "3                0.726467  0.273533\n",
       "4                0.703794  0.296206"
      ]
     },
     "metadata": {},
     "output_type": "display_data"
    }
   ],
   "source": [
    "percent_of_target(data[data['sample'] == 1]['decline_app_cnt'], data[data['sample'] == 1]['default'])"
   ]
  },
  {
   "cell_type": "markdown",
   "id": "12c5b1af",
   "metadata": {},
   "source": [
    "#### bki_request_cnt"
   ]
  },
  {
   "cell_type": "code",
   "execution_count": 28,
   "id": "c06c343d",
   "metadata": {},
   "outputs": [
    {
     "data": {
      "image/png": "[encoded data removed]",
      "text/plain": [
       "<Figure size 864x360 with 1 Axes>"
      ]
     },
     "metadata": {
      "needs_background": "light"
     },
     "output_type": "display_data"
    }
   ],
   "source": [
    "pl = sns.displot(x='bki_request_cnt', data=data[data['sample'] == 1], hue='sex')\n",
    "pl.fig.set_figwidth(12)\n",
    "pl.fig.set_figheight(5)"
   ]
  },
  {
   "cell_type": "code",
   "execution_count": 29,
   "id": "6ac31c7c",
   "metadata": {},
   "outputs": [
    {
     "data": {
      "image/png": "[encoded data removed]",
      "text/plain": [
       "<Figure size 864x144 with 2 Axes>"
      ]
     },
     "metadata": {
      "needs_background": "light"
     },
     "output_type": "display_data"
    }
   ],
   "source": [
    "fig, ax = plt.subplots(1, 2, figsize=(12, 2))\n",
    "sns.countplot(data=data[(data['sample'] == 1) & (data['default'] == 0)], \n",
    "              x='bki_request_cnt', hue='sex', ax=ax[0]).set_title('Default 0')\n",
    "sns.countplot(data=data[(data['sample'] == 1) & (data['default'] == 1)], \n",
    "              x='bki_request_cnt', hue='sex', ax=ax[1]).set_title('Default 1')\n",
    "plt.show()"
   ]
  },
  {
   "cell_type": "code",
   "execution_count": 30,
   "id": "a6510468",
   "metadata": {},
   "outputs": [
    {
     "data": {
      "text/plain": [
       "0     19381\n",
       "1     18276\n",
       "2     13749\n",
       "3      9187\n",
       "4      5627\n",
       "5      3268\n",
       "6      1704\n",
       "7       852\n",
       "8       508\n",
       "9       299\n",
       "10      225\n",
       "11      188\n",
       "12      144\n",
       "13       94\n",
       "14       86\n",
       "15       54\n",
       "16       35\n",
       "18       22\n",
       "17       19\n",
       "19       18\n",
       "21       12\n",
       "24       11\n",
       "20        9\n",
       "23        7\n",
       "22        4\n",
       "28        4\n",
       "25        2\n",
       "26        2\n",
       "27        2\n",
       "32        2\n",
       "41        1\n",
       "46        1\n",
       "45        1\n",
       "29        1\n",
       "36        1\n",
       "34        1\n",
       "33        1\n",
       "53        1\n",
       "Name: bki_request_cnt, dtype: int64"
      ]
     },
     "execution_count": 30,
     "metadata": {},
     "output_type": "execute_result"
    }
   ],
   "source": [
    "data[data['sample'] == 1]['bki_request_cnt'].value_counts()"
   ]
  },
  {
   "cell_type": "code",
   "execution_count": 31,
   "id": "37313546",
   "metadata": {},
   "outputs": [],
   "source": [
    "mask1 = (data['bki_request_cnt'] > 18)\n",
    "mask2 = (data['bki_request_cnt'].between(15, 18, inclusive=True))\n",
    "mask3 = (data['bki_request_cnt'].between(12, 14, inclusive=True))\n",
    "mask4 = (data['bki_request_cnt'].between(9, 11, inclusive=True))\n",
    "mask5 = (data['bki_request_cnt'].between(6, 8, inclusive=True))\n",
    "mask6 = (data['bki_request_cnt'].between(4, 5, inclusive=True))\n",
    "\n",
    "data.loc[mask6, 'bki_request_cnt'] = 4\n",
    "data.loc[mask5, 'bki_request_cnt'] = 5\n",
    "data.loc[mask4, 'bki_request_cnt'] = 6\n",
    "data.loc[mask3, 'bki_request_cnt'] = 7\n",
    "data.loc[mask2, 'bki_request_cnt'] = 8\n",
    "data.loc[mask1, 'bki_request_cnt'] = 9"
   ]
  },
  {
   "cell_type": "code",
   "execution_count": 32,
   "id": "218e4f07",
   "metadata": {},
   "outputs": [
    {
     "data": {
      "image/png": "[encoded data removed]",
      "text/plain": [
       "<Figure size 864x144 with 2 Axes>"
      ]
     },
     "metadata": {
      "needs_background": "light"
     },
     "output_type": "display_data"
    }
   ],
   "source": [
    "fig, ax = plt.subplots(1, 2, figsize=(12, 2))\n",
    "sns.countplot(data=data[(data['sample'] == 1) & (data['default'] == 0)], \n",
    "              x='bki_request_cnt', hue='sex', ax=ax[0]).set_title('Default 0')\n",
    "sns.countplot(data=data[(data['sample'] == 1) & (data['default'] == 1)], \n",
    "              x='bki_request_cnt', hue='sex', ax=ax[1]).set_title('Default 1')\n",
    "plt.show()"
   ]
  },
  {
   "cell_type": "code",
   "execution_count": 33,
   "id": "485f2c2a",
   "metadata": {},
   "outputs": [
    {
     "data": {
      "image/png": "[encoded data removed]",
      "text/plain": [
       "<Figure size 864x360 with 1 Axes>"
      ]
     },
     "metadata": {
      "needs_background": "light"
     },
     "output_type": "display_data"
    }
   ],
   "source": [
    "pl = sns.displot(x='bki_request_cnt', data=data[data['sample'] == 1], hue='sex')\n",
    "pl.fig.set_figwidth(12)\n",
    "pl.fig.set_figheight(5)"
   ]
  },
  {
   "cell_type": "markdown",
   "id": "2e47cc52",
   "metadata": {},
   "source": [
    "#### Income"
   ]
  },
  {
   "cell_type": "code",
   "execution_count": 34,
   "id": "7b2f78ba",
   "metadata": {},
   "outputs": [
    {
     "data": {
      "image/png": "[encoded data removed]",
      "text/plain": [
       "<Figure size 864x360 with 2 Axes>"
      ]
     },
     "metadata": {
      "needs_background": "light"
     },
     "output_type": "display_data"
    }
   ],
   "source": [
    "pl = sns.displot(data = data[data['sample'] == 1], x='income', col='sex', kind='kde')\n",
    "pl.fig.set_figwidth(12)\n",
    "pl.fig.set_figheight(5)"
   ]
  },
  {
   "cell_type": "code",
   "execution_count": 35,
   "id": "f2aabc57",
   "metadata": {},
   "outputs": [
    {
     "name": "stdout",
     "output_type": "stream",
     "text": [
      "In column income 4695 ouliers\n"
     ]
    }
   ],
   "source": [
    "outliers(data[data['sample'] == 1]['income'], 'income')"
   ]
  },
  {
   "cell_type": "code",
   "execution_count": 36,
   "id": "9ee6e8b4",
   "metadata": {},
   "outputs": [],
   "source": [
    "Q1 = data[data['sample'] == 1]['income'].quantile(0.25)\n",
    "Q3 = data[data['sample'] == 1]['income'].quantile(0.75)\n",
    "IQR = Q3 - Q1\n",
    "data['income_outliers'] = ((data['sample'] == 1) & ((data['income'] < (Q1 - 1.5 * IQR)) | (data['income'] > (Q3 + 1.5 * IQR)))).astype('int32')"
   ]
  },
  {
   "cell_type": "markdown",
   "id": "2fb62578",
   "metadata": {},
   "source": [
    "25 quatile = 20000, 75 - 48000. Make cat column from income with step 5000. < 20000 - 0, > 48000 max cat"
   ]
  },
  {
   "cell_type": "code",
   "execution_count": 37,
   "id": "99dc07e8",
   "metadata": {},
   "outputs": [],
   "source": [
    "cut_income_bins = [0, 20000, 25000, 30000, 35000, 40000, 45000, 48000, 1000001]\n",
    "cut_income_labels = [0, 1, 2, 3, 4, 5, 6, 7]\n",
    "\n",
    "data['cat_income'] = pd.cut(data['income'], cut_income_bins, labels=cut_income_labels, right=False).astype('int32')"
   ]
  },
  {
   "cell_type": "code",
   "execution_count": 38,
   "id": "4734e8f6",
   "metadata": {},
   "outputs": [
    {
     "data": {
      "image/png": "[encoded data removed]",
      "text/plain": [
       "<Figure size 864x144 with 2 Axes>"
      ]
     },
     "metadata": {
      "needs_background": "light"
     },
     "output_type": "display_data"
    }
   ],
   "source": [
    "fig, ax = plt.subplots(1, 2, figsize=(12, 2))\n",
    "sns.countplot(data=data[(data['sample'] == 1)], x='cat_income', hue='default', ax=ax[0]).set_title('Distrib by Default')\n",
    "sns.countplot(data=data[(data['sample'] == 1)], x='cat_income', ax=ax[1]).set_title('Distrib by cat_income')\n",
    "plt.show()"
   ]
  },
  {
   "cell_type": "code",
   "execution_count": 39,
   "id": "93e1ab57",
   "metadata": {},
   "outputs": [
    {
     "data": {
      "text/html": [
       "<div>\n",
       "<style scoped>\n",
       "    .dataframe tbody tr th:only-of-type {\n",
       "        vertical-align: middle;\n",
       "    }\n",
       "\n",
       "    .dataframe tbody tr th {\n",
       "        vertical-align: top;\n",
       "    }\n",
       "\n",
       "    .dataframe thead th {\n",
       "        text-align: right;\n",
       "    }\n",
       "</style>\n",
       "<table border=\"1\" class=\"dataframe\">\n",
       "  <thead>\n",
       "    <tr style=\"text-align: right;\">\n",
       "      <th>default</th>\n",
       "      <th>0</th>\n",
       "      <th>1</th>\n",
       "    </tr>\n",
       "    <tr>\n",
       "      <th>cat_income</th>\n",
       "      <th></th>\n",
       "      <th></th>\n",
       "    </tr>\n",
       "  </thead>\n",
       "  <tbody>\n",
       "    <tr>\n",
       "      <th>0</th>\n",
       "      <td>0.853437</td>\n",
       "      <td>0.146563</td>\n",
       "    </tr>\n",
       "    <tr>\n",
       "      <th>1</th>\n",
       "      <td>0.849900</td>\n",
       "      <td>0.150100</td>\n",
       "    </tr>\n",
       "    <tr>\n",
       "      <th>2</th>\n",
       "      <td>0.858661</td>\n",
       "      <td>0.141339</td>\n",
       "    </tr>\n",
       "    <tr>\n",
       "      <th>3</th>\n",
       "      <td>0.873969</td>\n",
       "      <td>0.126031</td>\n",
       "    </tr>\n",
       "    <tr>\n",
       "      <th>4</th>\n",
       "      <td>0.859730</td>\n",
       "      <td>0.140270</td>\n",
       "    </tr>\n",
       "    <tr>\n",
       "      <th>5</th>\n",
       "      <td>0.883493</td>\n",
       "      <td>0.116507</td>\n",
       "    </tr>\n",
       "    <tr>\n",
       "      <th>6</th>\n",
       "      <td>0.875133</td>\n",
       "      <td>0.124867</td>\n",
       "    </tr>\n",
       "    <tr>\n",
       "      <th>7</th>\n",
       "      <td>0.907273</td>\n",
       "      <td>0.092727</td>\n",
       "    </tr>\n",
       "  </tbody>\n",
       "</table>\n",
       "</div>"
      ],
      "text/plain": [
       "default            0         1\n",
       "cat_income                    \n",
       "0           0.853437  0.146563\n",
       "1           0.849900  0.150100\n",
       "2           0.858661  0.141339\n",
       "3           0.873969  0.126031\n",
       "4           0.859730  0.140270\n",
       "5           0.883493  0.116507\n",
       "6           0.875133  0.124867\n",
       "7           0.907273  0.092727"
      ]
     },
     "metadata": {},
     "output_type": "display_data"
    }
   ],
   "source": [
    "percent_of_target(data[data['sample'] == 1]['cat_income'], data[data['sample'] == 1]['default'])"
   ]
  },
  {
   "cell_type": "code",
   "execution_count": 40,
   "id": "29445436",
   "metadata": {},
   "outputs": [],
   "source": [
    "data['income'] = np.log(data['income'] + 1)"
   ]
  },
  {
   "cell_type": "code",
   "execution_count": 41,
   "id": "96b14996",
   "metadata": {},
   "outputs": [
    {
     "data": {
      "image/png": "[encoded data removed]",
      "text/plain": [
       "<Figure size 864x360 with 2 Axes>"
      ]
     },
     "metadata": {
      "needs_background": "light"
     },
     "output_type": "display_data"
    }
   ],
   "source": [
    "pl = sns.displot(data = data[data['sample'] == 1], x='income', col='sex', kind='kde')\n",
    "pl.fig.set_figwidth(12)\n",
    "pl.fig.set_figheight(5)"
   ]
  },
  {
   "cell_type": "markdown",
   "id": "e25d5319",
   "metadata": {},
   "source": [
    "### Binary columns"
   ]
  },
  {
   "cell_type": "markdown",
   "id": "de3b19fa",
   "metadata": {},
   "source": [
    "#### sex"
   ]
  },
  {
   "cell_type": "markdown",
   "id": "9a15e2eb",
   "metadata": {},
   "source": [
    "Convert from literal to numeric."
   ]
  },
  {
   "cell_type": "code",
   "execution_count": 42,
   "id": "900b1142",
   "metadata": {},
   "outputs": [],
   "source": [
    "data['sex'] = (data['sex'] == 'M').astype('int32')"
   ]
  },
  {
   "cell_type": "code",
   "execution_count": 43,
   "id": "8e42c19f",
   "metadata": {},
   "outputs": [
    {
     "data": {
      "image/png": "[encoded data removed]",
      "text/plain": [
       "<Figure size 864x144 with 2 Axes>"
      ]
     },
     "metadata": {
      "needs_background": "light"
     },
     "output_type": "display_data"
    }
   ],
   "source": [
    "fig, ax = plt.subplots(1, 2, figsize=(12, 2))\n",
    "sns.countplot(data=data[(data['sample'] == 1)], x='sex', hue='default', ax=ax[0]).set_title('Distrib by Default')\n",
    "sns.countplot(data=data[(data['sample'] == 1)], x='sex', ax=ax[1]).set_title('Distrib by sexc')\n",
    "plt.show()"
   ]
  },
  {
   "cell_type": "markdown",
   "id": "75acd838",
   "metadata": {},
   "source": [
    "#### car"
   ]
  },
  {
   "cell_type": "markdown",
   "id": "695a457b",
   "metadata": {},
   "source": [
    "Convert from literal to numeric"
   ]
  },
  {
   "cell_type": "code",
   "execution_count": 44,
   "id": "c3c5bef2",
   "metadata": {},
   "outputs": [],
   "source": [
    "data['car'] = (data['car'] == 'Y').astype('int32')"
   ]
  },
  {
   "cell_type": "code",
   "execution_count": 45,
   "id": "95df0785",
   "metadata": {},
   "outputs": [
    {
     "data": {
      "image/png": "[encoded data removed]",
      "text/plain": [
       "<Figure size 864x144 with 2 Axes>"
      ]
     },
     "metadata": {
      "needs_background": "light"
     },
     "output_type": "display_data"
    }
   ],
   "source": [
    "fig, ax = plt.subplots(1, 2, figsize=(12, 2))\n",
    "sns.countplot(data=data[(data['sample'] == 1)], x='car', hue='default', ax=ax[0]).set_title('Distrib by Default')\n",
    "sns.countplot(data=data[(data['sample'] == 1)], x='car', ax=ax[1]).set_title('Distrib by car')\n",
    "plt.show()"
   ]
  },
  {
   "cell_type": "markdown",
   "id": "5d451639",
   "metadata": {},
   "source": [
    "#### car_type"
   ]
  },
  {
   "cell_type": "markdown",
   "id": "658286b3",
   "metadata": {},
   "source": [
    "Convert from literal to numeric"
   ]
  },
  {
   "cell_type": "code",
   "execution_count": 46,
   "id": "aca79e85",
   "metadata": {},
   "outputs": [],
   "source": [
    "data['car_type'] = (data['car_type'] == 'Y').astype('int32')"
   ]
  },
  {
   "cell_type": "code",
   "execution_count": 47,
   "id": "1bd4601d",
   "metadata": {},
   "outputs": [
    {
     "data": {
      "image/png": "[encoded data removed]",
      "text/plain": [
       "<Figure size 864x144 with 2 Axes>"
      ]
     },
     "metadata": {
      "needs_background": "light"
     },
     "output_type": "display_data"
    }
   ],
   "source": [
    "fig, ax = plt.subplots(1, 2, figsize=(12, 2))\n",
    "sns.countplot(data=data[(data['sample'] == 1)], x='car_type', hue='default', ax=ax[0]).set_title('Distrib by Default')\n",
    "sns.countplot(data=data[(data['sample'] == 1)], x='car_type', ax=ax[1]).set_title('Distrib by car_type')\n",
    "plt.show()"
   ]
  },
  {
   "cell_type": "markdown",
   "id": "1154dc81",
   "metadata": {},
   "source": [
    "#### good_work"
   ]
  },
  {
   "cell_type": "code",
   "execution_count": 48,
   "id": "d5573b7b",
   "metadata": {},
   "outputs": [
    {
     "data": {
      "image/png": "[encoded data removed]",
      "text/plain": [
       "<Figure size 864x144 with 2 Axes>"
      ]
     },
     "metadata": {
      "needs_background": "light"
     },
     "output_type": "display_data"
    }
   ],
   "source": [
    "fig, ax = plt.subplots(1, 2, figsize=(12, 2))\n",
    "sns.countplot(data=data[(data['sample'] == 1)], x='good_work', hue='default', ax=ax[0]).set_title('Distrib by Default')\n",
    "sns.countplot(data=data[(data['sample'] == 1)], x='good_work', ax=ax[1]).set_title('Distrib by good_work')\n",
    "plt.show()"
   ]
  },
  {
   "cell_type": "markdown",
   "id": "47f1ae73",
   "metadata": {},
   "source": [
    "#### foreign_passport"
   ]
  },
  {
   "cell_type": "markdown",
   "id": "0ba69c42",
   "metadata": {},
   "source": [
    "Convert from literal to numeric"
   ]
  },
  {
   "cell_type": "code",
   "execution_count": 49,
   "id": "692ff878",
   "metadata": {},
   "outputs": [],
   "source": [
    "data['foreign_passport'] = (data['foreign_passport'] == 'Y').astype('int32')"
   ]
  },
  {
   "cell_type": "code",
   "execution_count": 50,
   "id": "43a73a5d",
   "metadata": {},
   "outputs": [
    {
     "data": {
      "image/png": "[encoded data removed]",
      "text/plain": [
       "<Figure size 864x144 with 2 Axes>"
      ]
     },
     "metadata": {
      "needs_background": "light"
     },
     "output_type": "display_data"
    }
   ],
   "source": [
    "fig, ax = plt.subplots(1, 2, figsize=(12, 2))\n",
    "sns.countplot(data=data[(data['sample'] == 1)], x='foreign_passport', hue='default', ax=ax[0]).set_title('Distrib by Default')\n",
    "sns.countplot(data=data[(data['sample'] == 1)], x='foreign_passport', ax=ax[1]).set_title('Distrib by foreign_passport')\n",
    "plt.show()"
   ]
  },
  {
   "cell_type": "markdown",
   "id": "285bf708",
   "metadata": {},
   "source": [
    "### Categorical columns"
   ]
  },
  {
   "cell_type": "markdown",
   "id": "5cd044ac",
   "metadata": {},
   "source": [
    "#### Education"
   ]
  },
  {
   "cell_type": "code",
   "execution_count": 51,
   "id": "303bd8f5",
   "metadata": {},
   "outputs": [
    {
     "data": {
      "text/plain": [
       "SCH    38860\n",
       "GRD    23365\n",
       "UGR     9816\n",
       "PGR     1257\n",
       "NaN      307\n",
       "ACD      194\n",
       "Name: education, dtype: int64"
      ]
     },
     "execution_count": 51,
     "metadata": {},
     "output_type": "execute_result"
    }
   ],
   "source": [
    "data[(data['sample'] == 1)]['education'].value_counts(dropna=False)"
   ]
  },
  {
   "cell_type": "markdown",
   "id": "70b37f81",
   "metadata": {},
   "source": [
    "This column has empty cells. Count them and fill by mode. There is only 307 in train. But first I make new column with marks of empty cells (like for outliers)"
   ]
  },
  {
   "cell_type": "code",
   "execution_count": 52,
   "id": "0e258b56",
   "metadata": {},
   "outputs": [],
   "source": [
    "data['education_NaN'] = (data['education'].isna()).astype('int32')"
   ]
  },
  {
   "cell_type": "code",
   "execution_count": 53,
   "id": "3929cdd0",
   "metadata": {},
   "outputs": [],
   "source": [
    "data['education'].fillna('NOED', inplace=True)"
   ]
  },
  {
   "cell_type": "code",
   "execution_count": 54,
   "id": "f1d9f8ba",
   "metadata": {},
   "outputs": [
    {
     "data": {
      "image/png": "[encoded data removed]",
      "text/plain": [
       "<Figure size 864x144 with 2 Axes>"
      ]
     },
     "metadata": {
      "needs_background": "light"
     },
     "output_type": "display_data"
    }
   ],
   "source": [
    "fig, ax = plt.subplots(1, 2, figsize=(12, 2))\n",
    "sns.countplot(data=data[(data['sample'] == 1)], x='education', hue='default', ax=ax[0]).set_title('Distrib by Default')\n",
    "sns.countplot(data=data[(data['sample'] == 1)], x='education', ax=ax[1]).set_title('Distrib by education')\n",
    "plt.show()"
   ]
  },
  {
   "cell_type": "code",
   "execution_count": 55,
   "id": "4b24523f",
   "metadata": {},
   "outputs": [
    {
     "data": {
      "text/html": [
       "<div>\n",
       "<style scoped>\n",
       "    .dataframe tbody tr th:only-of-type {\n",
       "        vertical-align: middle;\n",
       "    }\n",
       "\n",
       "    .dataframe tbody tr th {\n",
       "        vertical-align: top;\n",
       "    }\n",
       "\n",
       "    .dataframe thead th {\n",
       "        text-align: right;\n",
       "    }\n",
       "</style>\n",
       "<table border=\"1\" class=\"dataframe\">\n",
       "  <thead>\n",
       "    <tr style=\"text-align: right;\">\n",
       "      <th>default</th>\n",
       "      <th>0</th>\n",
       "      <th>1</th>\n",
       "    </tr>\n",
       "    <tr>\n",
       "      <th>education</th>\n",
       "      <th></th>\n",
       "      <th></th>\n",
       "    </tr>\n",
       "  </thead>\n",
       "  <tbody>\n",
       "    <tr>\n",
       "      <th>ACD</th>\n",
       "      <td>0.958763</td>\n",
       "      <td>0.041237</td>\n",
       "    </tr>\n",
       "    <tr>\n",
       "      <th>GRD</th>\n",
       "      <td>0.909908</td>\n",
       "      <td>0.090092</td>\n",
       "    </tr>\n",
       "    <tr>\n",
       "      <th>NOED</th>\n",
       "      <td>0.885993</td>\n",
       "      <td>0.114007</td>\n",
       "    </tr>\n",
       "    <tr>\n",
       "      <th>PGR</th>\n",
       "      <td>0.935561</td>\n",
       "      <td>0.064439</td>\n",
       "    </tr>\n",
       "    <tr>\n",
       "      <th>SCH</th>\n",
       "      <td>0.849408</td>\n",
       "      <td>0.150592</td>\n",
       "    </tr>\n",
       "    <tr>\n",
       "      <th>UGR</th>\n",
       "      <td>0.868480</td>\n",
       "      <td>0.131520</td>\n",
       "    </tr>\n",
       "  </tbody>\n",
       "</table>\n",
       "</div>"
      ],
      "text/plain": [
       "default           0         1\n",
       "education                    \n",
       "ACD        0.958763  0.041237\n",
       "GRD        0.909908  0.090092\n",
       "NOED       0.885993  0.114007\n",
       "PGR        0.935561  0.064439\n",
       "SCH        0.849408  0.150592\n",
       "UGR        0.868480  0.131520"
      ]
     },
     "metadata": {},
     "output_type": "display_data"
    }
   ],
   "source": [
    "percent_of_target(data[(data['sample'] == 1)]['education'], data[(data['sample'] == 1)]['default'])"
   ]
  },
  {
   "cell_type": "markdown",
   "id": "a275a1c8",
   "metadata": {},
   "source": [
    "Further I'll decide to do dummies or change cal names to numeric"
   ]
  },
  {
   "cell_type": "markdown",
   "id": "427bb593",
   "metadata": {},
   "source": [
    "#### first_time"
   ]
  },
  {
   "cell_type": "code",
   "execution_count": 56,
   "id": "8d637c8b",
   "metadata": {},
   "outputs": [
    {
     "data": {
      "image/png": "[encoded data removed]",
      "text/plain": [
       "<Figure size 864x144 with 2 Axes>"
      ]
     },
     "metadata": {
      "needs_background": "light"
     },
     "output_type": "display_data"
    }
   ],
   "source": [
    "fig, ax = plt.subplots(1, 2, figsize=(12, 2))\n",
    "sns.countplot(data=data[(data['sample'] == 1)], x='first_time', hue='default', ax=ax[0]).set_title('Distrib by Default')\n",
    "sns.countplot(data=data[(data['sample'] == 1)], x='first_time', ax=ax[1]).set_title('Distrib by first_time')\n",
    "plt.show()"
   ]
  },
  {
   "cell_type": "code",
   "execution_count": 57,
   "id": "d3bd7127",
   "metadata": {},
   "outputs": [
    {
     "data": {
      "text/html": [
       "<div>\n",
       "<style scoped>\n",
       "    .dataframe tbody tr th:only-of-type {\n",
       "        vertical-align: middle;\n",
       "    }\n",
       "\n",
       "    .dataframe tbody tr th {\n",
       "        vertical-align: top;\n",
       "    }\n",
       "\n",
       "    .dataframe thead th {\n",
       "        text-align: right;\n",
       "    }\n",
       "</style>\n",
       "<table border=\"1\" class=\"dataframe\">\n",
       "  <thead>\n",
       "    <tr style=\"text-align: right;\">\n",
       "      <th>default</th>\n",
       "      <th>0</th>\n",
       "      <th>1</th>\n",
       "    </tr>\n",
       "    <tr>\n",
       "      <th>first_time</th>\n",
       "      <th></th>\n",
       "      <th></th>\n",
       "    </tr>\n",
       "  </thead>\n",
       "  <tbody>\n",
       "    <tr>\n",
       "      <th>1</th>\n",
       "      <td>0.813874</td>\n",
       "      <td>0.186126</td>\n",
       "    </tr>\n",
       "    <tr>\n",
       "      <th>2</th>\n",
       "      <td>0.844571</td>\n",
       "      <td>0.155429</td>\n",
       "    </tr>\n",
       "    <tr>\n",
       "      <th>3</th>\n",
       "      <td>0.879731</td>\n",
       "      <td>0.120269</td>\n",
       "    </tr>\n",
       "    <tr>\n",
       "      <th>4</th>\n",
       "      <td>0.917970</td>\n",
       "      <td>0.082030</td>\n",
       "    </tr>\n",
       "  </tbody>\n",
       "</table>\n",
       "</div>"
      ],
      "text/plain": [
       "default            0         1\n",
       "first_time                    \n",
       "1           0.813874  0.186126\n",
       "2           0.844571  0.155429\n",
       "3           0.879731  0.120269\n",
       "4           0.917970  0.082030"
      ]
     },
     "metadata": {},
     "output_type": "display_data"
    }
   ],
   "source": [
    "percent_of_target(data[(data['sample'] == 1)]['first_time'], data[(data['sample'] == 1)]['default'])"
   ]
  },
  {
   "cell_type": "markdown",
   "id": "c3805e7a",
   "metadata": {},
   "source": [
    "#### sna"
   ]
  },
  {
   "cell_type": "code",
   "execution_count": 58,
   "id": "e052c16c",
   "metadata": {},
   "outputs": [
    {
     "data": {
      "image/png": "[encoded data removed]",
      "text/plain": [
       "<Figure size 864x144 with 2 Axes>"
      ]
     },
     "metadata": {
      "needs_background": "light"
     },
     "output_type": "display_data"
    }
   ],
   "source": [
    "fig, ax = plt.subplots(1, 2, figsize=(12, 2))\n",
    "sns.countplot(data=data[(data['sample'] == 1)], x='sna', hue='default', ax=ax[0]).set_title('Distrib by Default')\n",
    "sns.countplot(data=data[(data['sample'] == 1)], x='sna', ax=ax[1]).set_title('Distrib by sna')\n",
    "plt.show()"
   ]
  },
  {
   "cell_type": "code",
   "execution_count": 59,
   "id": "03cd6834",
   "metadata": {
    "scrolled": true
   },
   "outputs": [
    {
     "data": {
      "text/html": [
       "<div>\n",
       "<style scoped>\n",
       "    .dataframe tbody tr th:only-of-type {\n",
       "        vertical-align: middle;\n",
       "    }\n",
       "\n",
       "    .dataframe tbody tr th {\n",
       "        vertical-align: top;\n",
       "    }\n",
       "\n",
       "    .dataframe thead th {\n",
       "        text-align: right;\n",
       "    }\n",
       "</style>\n",
       "<table border=\"1\" class=\"dataframe\">\n",
       "  <thead>\n",
       "    <tr style=\"text-align: right;\">\n",
       "      <th>default</th>\n",
       "      <th>0</th>\n",
       "      <th>1</th>\n",
       "    </tr>\n",
       "    <tr>\n",
       "      <th>sna</th>\n",
       "      <th></th>\n",
       "      <th></th>\n",
       "    </tr>\n",
       "  </thead>\n",
       "  <tbody>\n",
       "    <tr>\n",
       "      <th>1</th>\n",
       "      <td>0.901799</td>\n",
       "      <td>0.098201</td>\n",
       "    </tr>\n",
       "    <tr>\n",
       "      <th>2</th>\n",
       "      <td>0.850179</td>\n",
       "      <td>0.149821</td>\n",
       "    </tr>\n",
       "    <tr>\n",
       "      <th>3</th>\n",
       "      <td>0.842348</td>\n",
       "      <td>0.157652</td>\n",
       "    </tr>\n",
       "    <tr>\n",
       "      <th>4</th>\n",
       "      <td>0.788493</td>\n",
       "      <td>0.211507</td>\n",
       "    </tr>\n",
       "  </tbody>\n",
       "</table>\n",
       "</div>"
      ],
      "text/plain": [
       "default         0         1\n",
       "sna                        \n",
       "1        0.901799  0.098201\n",
       "2        0.850179  0.149821\n",
       "3        0.842348  0.157652\n",
       "4        0.788493  0.211507"
      ]
     },
     "metadata": {},
     "output_type": "display_data"
    }
   ],
   "source": [
    "percent_of_target(data[(data['sample'] == 1)]['sna'], data[(data['sample'] == 1)]['default'])"
   ]
  },
  {
   "cell_type": "markdown",
   "id": "a548f08a",
   "metadata": {},
   "source": [
    "#### work_address"
   ]
  },
  {
   "cell_type": "code",
   "execution_count": 60,
   "id": "52e06dd6",
   "metadata": {},
   "outputs": [
    {
     "data": {
      "image/png": "[encoded data removed]",
      "text/plain": [
       "<Figure size 864x144 with 2 Axes>"
      ]
     },
     "metadata": {
      "needs_background": "light"
     },
     "output_type": "display_data"
    }
   ],
   "source": [
    "fig, ax = plt.subplots(1, 2, figsize=(12, 2))\n",
    "sns.countplot(data=data[(data['sample'] == 1)], x='work_address', hue='default', ax=ax[0]).set_title('Distrib by Default')\n",
    "sns.countplot(data=data[(data['sample'] == 1)], x='work_address', ax=ax[1]).set_title('Distrib by work_address')\n",
    "plt.show()"
   ]
  },
  {
   "cell_type": "code",
   "execution_count": 61,
   "id": "e56df7b2",
   "metadata": {
    "scrolled": true
   },
   "outputs": [
    {
     "data": {
      "text/html": [
       "<div>\n",
       "<style scoped>\n",
       "    .dataframe tbody tr th:only-of-type {\n",
       "        vertical-align: middle;\n",
       "    }\n",
       "\n",
       "    .dataframe tbody tr th {\n",
       "        vertical-align: top;\n",
       "    }\n",
       "\n",
       "    .dataframe thead th {\n",
       "        text-align: right;\n",
       "    }\n",
       "</style>\n",
       "<table border=\"1\" class=\"dataframe\">\n",
       "  <thead>\n",
       "    <tr style=\"text-align: right;\">\n",
       "      <th>default</th>\n",
       "      <th>0</th>\n",
       "      <th>1</th>\n",
       "    </tr>\n",
       "    <tr>\n",
       "      <th>work_address</th>\n",
       "      <th></th>\n",
       "      <th></th>\n",
       "    </tr>\n",
       "  </thead>\n",
       "  <tbody>\n",
       "    <tr>\n",
       "      <th>1</th>\n",
       "      <td>0.925846</td>\n",
       "      <td>0.074154</td>\n",
       "    </tr>\n",
       "    <tr>\n",
       "      <th>2</th>\n",
       "      <td>0.897493</td>\n",
       "      <td>0.102507</td>\n",
       "    </tr>\n",
       "    <tr>\n",
       "      <th>3</th>\n",
       "      <td>0.852043</td>\n",
       "      <td>0.147957</td>\n",
       "    </tr>\n",
       "  </tbody>\n",
       "</table>\n",
       "</div>"
      ],
      "text/plain": [
       "default              0         1\n",
       "work_address                    \n",
       "1             0.925846  0.074154\n",
       "2             0.897493  0.102507\n",
       "3             0.852043  0.147957"
      ]
     },
     "metadata": {},
     "output_type": "display_data"
    }
   ],
   "source": [
    "percent_of_target(data[(data['sample'] == 1)]['work_address'], data[(data['sample'] == 1)]['default'])"
   ]
  },
  {
   "cell_type": "markdown",
   "id": "66ced403",
   "metadata": {},
   "source": [
    "#### home_address"
   ]
  },
  {
   "cell_type": "code",
   "execution_count": 62,
   "id": "982ac095",
   "metadata": {},
   "outputs": [
    {
     "data": {
      "image/png": "[encoded data removed]",
      "text/plain": [
       "<Figure size 864x144 with 2 Axes>"
      ]
     },
     "metadata": {
      "needs_background": "light"
     },
     "output_type": "display_data"
    }
   ],
   "source": [
    "fig, ax = plt.subplots(1, 2, figsize=(12, 2))\n",
    "sns.countplot(data=data[(data['sample'] == 1)], x='home_address', hue='default', ax=ax[0]).set_title('Distrib by Default')\n",
    "sns.countplot(data=data[(data['sample'] == 1)], x='home_address', ax=ax[1]).set_title('Distrib by home_address')\n",
    "plt.show()"
   ]
  },
  {
   "cell_type": "code",
   "execution_count": 63,
   "id": "a38b52f7",
   "metadata": {},
   "outputs": [
    {
     "data": {
      "text/html": [
       "<div>\n",
       "<style scoped>\n",
       "    .dataframe tbody tr th:only-of-type {\n",
       "        vertical-align: middle;\n",
       "    }\n",
       "\n",
       "    .dataframe tbody tr th {\n",
       "        vertical-align: top;\n",
       "    }\n",
       "\n",
       "    .dataframe thead th {\n",
       "        text-align: right;\n",
       "    }\n",
       "</style>\n",
       "<table border=\"1\" class=\"dataframe\">\n",
       "  <thead>\n",
       "    <tr style=\"text-align: right;\">\n",
       "      <th>default</th>\n",
       "      <th>0</th>\n",
       "      <th>1</th>\n",
       "    </tr>\n",
       "    <tr>\n",
       "      <th>home_address</th>\n",
       "      <th></th>\n",
       "      <th></th>\n",
       "    </tr>\n",
       "  </thead>\n",
       "  <tbody>\n",
       "    <tr>\n",
       "      <th>1</th>\n",
       "      <td>0.907104</td>\n",
       "      <td>0.092896</td>\n",
       "    </tr>\n",
       "    <tr>\n",
       "      <th>2</th>\n",
       "      <td>0.844854</td>\n",
       "      <td>0.155146</td>\n",
       "    </tr>\n",
       "    <tr>\n",
       "      <th>3</th>\n",
       "      <td>0.883943</td>\n",
       "      <td>0.116057</td>\n",
       "    </tr>\n",
       "  </tbody>\n",
       "</table>\n",
       "</div>"
      ],
      "text/plain": [
       "default              0         1\n",
       "home_address                    \n",
       "1             0.907104  0.092896\n",
       "2             0.844854  0.155146\n",
       "3             0.883943  0.116057"
      ]
     },
     "metadata": {},
     "output_type": "display_data"
    }
   ],
   "source": [
    "percent_of_target(data[(data['sample'] == 1)]['home_address'], data[(data['sample'] == 1)]['default'])"
   ]
  },
  {
   "cell_type": "markdown",
   "id": "90dbb74a",
   "metadata": {},
   "source": [
    "#### region_rating"
   ]
  },
  {
   "cell_type": "code",
   "execution_count": 64,
   "id": "b9b79567",
   "metadata": {},
   "outputs": [
    {
     "data": {
      "image/png": "[encoded data removed]",
      "text/plain": [
       "<Figure size 864x144 with 2 Axes>"
      ]
     },
     "metadata": {
      "needs_background": "light"
     },
     "output_type": "display_data"
    }
   ],
   "source": [
    "fig, ax = plt.subplots(1, 2, figsize=(12, 2))\n",
    "sns.countplot(data=data[(data['sample'] == 1)], x='region_rating', hue='default', ax=ax[0]).set_title('Distrib by Default')\n",
    "sns.countplot(data=data[(data['sample'] == 1)], x='region_rating', ax=ax[1]).set_title('Distrib by region_rating')\n",
    "plt.show()"
   ]
  },
  {
   "cell_type": "code",
   "execution_count": 65,
   "id": "7eb3eed3",
   "metadata": {},
   "outputs": [
    {
     "data": {
      "text/html": [
       "<div>\n",
       "<style scoped>\n",
       "    .dataframe tbody tr th:only-of-type {\n",
       "        vertical-align: middle;\n",
       "    }\n",
       "\n",
       "    .dataframe tbody tr th {\n",
       "        vertical-align: top;\n",
       "    }\n",
       "\n",
       "    .dataframe thead th {\n",
       "        text-align: right;\n",
       "    }\n",
       "</style>\n",
       "<table border=\"1\" class=\"dataframe\">\n",
       "  <thead>\n",
       "    <tr style=\"text-align: right;\">\n",
       "      <th>default</th>\n",
       "      <th>0</th>\n",
       "      <th>1</th>\n",
       "    </tr>\n",
       "    <tr>\n",
       "      <th>region_rating</th>\n",
       "      <th></th>\n",
       "      <th></th>\n",
       "    </tr>\n",
       "  </thead>\n",
       "  <tbody>\n",
       "    <tr>\n",
       "      <th>20</th>\n",
       "      <td>0.786408</td>\n",
       "      <td>0.213592</td>\n",
       "    </tr>\n",
       "    <tr>\n",
       "      <th>30</th>\n",
       "      <td>0.810000</td>\n",
       "      <td>0.190000</td>\n",
       "    </tr>\n",
       "    <tr>\n",
       "      <th>40</th>\n",
       "      <td>0.830298</td>\n",
       "      <td>0.169702</td>\n",
       "    </tr>\n",
       "    <tr>\n",
       "      <th>50</th>\n",
       "      <td>0.863859</td>\n",
       "      <td>0.136141</td>\n",
       "    </tr>\n",
       "    <tr>\n",
       "      <th>60</th>\n",
       "      <td>0.871166</td>\n",
       "      <td>0.128834</td>\n",
       "    </tr>\n",
       "    <tr>\n",
       "      <th>70</th>\n",
       "      <td>0.907566</td>\n",
       "      <td>0.092434</td>\n",
       "    </tr>\n",
       "    <tr>\n",
       "      <th>80</th>\n",
       "      <td>0.926846</td>\n",
       "      <td>0.073154</td>\n",
       "    </tr>\n",
       "  </tbody>\n",
       "</table>\n",
       "</div>"
      ],
      "text/plain": [
       "default               0         1\n",
       "region_rating                    \n",
       "20             0.786408  0.213592\n",
       "30             0.810000  0.190000\n",
       "40             0.830298  0.169702\n",
       "50             0.863859  0.136141\n",
       "60             0.871166  0.128834\n",
       "70             0.907566  0.092434\n",
       "80             0.926846  0.073154"
      ]
     },
     "metadata": {},
     "output_type": "display_data"
    }
   ],
   "source": [
    "percent_of_target(data[(data['sample'] == 1)]['region_rating'], data[(data['sample'] == 1)]['default'])"
   ]
  },
  {
   "cell_type": "markdown",
   "id": "cc2606c0",
   "metadata": {},
   "source": [
    "### Date column"
   ]
  },
  {
   "cell_type": "code",
   "execution_count": 66,
   "id": "8830cb66",
   "metadata": {},
   "outputs": [],
   "source": [
    "data['app_date'] = pd.to_datetime(data['app_date'])"
   ]
  },
  {
   "cell_type": "code",
   "execution_count": 67,
   "id": "c9b2922f",
   "metadata": {},
   "outputs": [],
   "source": [
    "data['clients_count_by_day'] = data.groupby('app_date')['client_id'].transform('count')"
   ]
  },
  {
   "cell_type": "markdown",
   "id": "e0e6c1c3",
   "metadata": {},
   "source": [
    "### Dummies"
   ]
  },
  {
   "cell_type": "code",
   "execution_count": 73,
   "id": "d7f7b880",
   "metadata": {},
   "outputs": [],
   "source": [
    "dummies_lst = ['education', 'sex', 'car', 'car_type', 'good_work', 'region_rating', 'home_address', \n",
    "              'work_address', 'sna', 'first_time', 'foreign_passport']\n",
    "dummies_data = pd.get_dummies(data[dummies_lst], columns=dummies_lst)\n",
    "data = pd.concat([data, dummies_data], axis=1)"
   ]
  },
  {
   "cell_type": "markdown",
   "id": "5734d96a",
   "metadata": {},
   "source": [
    "### Correcation check"
   ]
  },
  {
   "cell_type": "code",
   "execution_count": null,
   "id": "f25a4c75",
   "metadata": {},
   "outputs": [],
   "source": [
    "sns.set(font_scale=1)\n",
    "plt.subplots(figsize=(12, 12))\n",
    "sns.heatmap(data[data['sample'] == 1].corr(), square=True,\n",
    "              annot=True, fmt=\".3f\", linewidths=0.1, cmap=\"RdBu\")\n",
    "plt.show()"
   ]
  },
  {
   "cell_type": "code",
   "execution_count": null,
   "id": "44c9febb",
   "metadata": {},
   "outputs": [],
   "source": [
    "cat_cols_new = ['sex', 'car', 'car_type', 'good_work', 'foreign_passport', 'cat_age', 'sna', 'work_address', \n",
    "               'home_address', 'region_rating', 'score_bki_outliers', 'income_outliers', \n",
    "               'cat_income', 'education_NaN', 'education_num_cat', 'carsex_num_cat']\n",
    "num_cols_new = ['age', 'decline_app_cnt', 'score_bki', 'bki_request_cnt', 'income', 'clients_count_by_day']\n",
    "# cat_cols_new = ['car_type', 'good_work', 'foreign_passport', 'cat_age', 'sna', \n",
    "#                'home_address', 'region_rating', 'score_bki_outliers', 'income_outliers', \n",
    "#                'cat_income', 'education_NaN', 'education_num_cat', 'carsex_num_cat']\n",
    "# num_cols_new = ['decline_app_cnt', 'score_bki', 'bki_request_cnt', 'income', 'clients_count_by_day']\n",
    "\n",
    "exp_cols = ['client_id', 'sex', 'car', 'work_address', 'app_date']"
   ]
  },
  {
   "cell_type": "code",
   "execution_count": 74,
   "id": "7856454f",
   "metadata": {},
   "outputs": [
    {
     "data": {
      "text/plain": [
       "Index(['client_id', 'app_date', 'education', 'sex', 'age', 'car', 'car_type',\n",
       "       'decline_app_cnt', 'good_work', 'score_bki', 'bki_request_cnt',\n",
       "       'region_rating', 'home_address', 'work_address', 'income', 'sna',\n",
       "       'first_time', 'foreign_passport', 'sample', 'default', 'cat_age',\n",
       "       'score_bki_outliers', 'income_outliers', 'cat_income', 'education_NaN',\n",
       "       'clients_count_by_day', 'education_ACD', 'education_GRD',\n",
       "       'education_NOED', 'education_PGR', 'education_SCH', 'education_UGR',\n",
       "       'sex_0', 'sex_1', 'car_0', 'car_1', 'car_type_0', 'car_type_1',\n",
       "       'good_work_0', 'good_work_1', 'region_rating_20', 'region_rating_30',\n",
       "       'region_rating_40', 'region_rating_50', 'region_rating_60',\n",
       "       'region_rating_70', 'region_rating_80', 'home_address_1',\n",
       "       'home_address_2', 'home_address_3', 'work_address_1', 'work_address_2',\n",
       "       'work_address_3', 'sna_1', 'sna_2', 'sna_3', 'sna_4', 'first_time_1',\n",
       "       'first_time_2', 'first_time_3', 'first_time_4', 'foreign_passport_0',\n",
       "       'foreign_passport_1'],\n",
       "      dtype='object')"
      ]
     },
     "execution_count": 74,
     "metadata": {},
     "output_type": "execute_result"
    }
   ],
   "source": [
    "data.columns"
   ]
  },
  {
   "cell_type": "code",
   "execution_count": null,
   "id": "ee50cd63",
   "metadata": {},
   "outputs": [],
   "source": [
    "imp_num = pd.Series(f_classif(data[data['sample'] == 1][num_cols_new], data[data['sample'] == 1]['default'])[0], index = num_cols_new)\n",
    "imp_num.sort_values()"
   ]
  },
  {
   "cell_type": "code",
   "execution_count": 75,
   "id": "5d4479c3",
   "metadata": {},
   "outputs": [],
   "source": [
    "data['education_num_cat'] = le.fit_transform(data['education'])"
   ]
  },
  {
   "cell_type": "code",
   "execution_count": 76,
   "id": "832c4661",
   "metadata": {},
   "outputs": [],
   "source": [
    "data['carsex'] = data.apply(lambda x: 'YY' if (x['sex'] == 1 and x['car'] == 1) \n",
    "                            else 'YN' if (x['sex'] == 1 and x['car'] == 0) \n",
    "                            else 'NY' if (x['sex'] == 0 and x['car'] == 1) \n",
    "                            else 'NN', axis=1)"
   ]
  },
  {
   "cell_type": "code",
   "execution_count": 77,
   "id": "f2eb328b",
   "metadata": {},
   "outputs": [],
   "source": [
    "data['carsex_num_cat'] = le.fit_transform(data['carsex'])"
   ]
  },
  {
   "cell_type": "code",
   "execution_count": null,
   "id": "09483892",
   "metadata": {},
   "outputs": [],
   "source": [
    "imp_cat = pd.Series(mutual_info_classif(data[data['sample'] == 1][cat_cols_new], data[data['sample'] == 1]['default'],\n",
    "                                     discrete_features =True), index = cat_cols_new)\n",
    "imp_cat.sort_values(inplace = True)\n",
    "imp_cat.plot(kind = 'barh')"
   ]
  },
  {
   "cell_type": "code",
   "execution_count": null,
   "id": "04679dad",
   "metadata": {},
   "outputs": [],
   "source": [
    "imp_cat = pd.Series(mutual_info_classif(data[data['sample'] == 1][cat_cols_new+num_cols_new], data[data['sample'] == 1]['default'],\n",
    "                                     discrete_features='auto'), index=[cat_cols_new+num_cols_new])\n",
    "imp_cat.sort_values(inplace = True)\n",
    "imp_cat.plot(kind = 'barh')"
   ]
  },
  {
   "cell_type": "markdown",
   "id": "441ce269",
   "metadata": {},
   "source": [
    "### normalizetion and balansing"
   ]
  },
  {
   "cell_type": "code",
   "execution_count": 78,
   "id": "3f3e14dd",
   "metadata": {},
   "outputs": [],
   "source": [
    "object_columns = [s for s in data if (data[s].dtypes in ['object', 'datetime64[ns]'])]\n",
    "data.drop(object_columns, axis = 1, inplace=True)"
   ]
  },
  {
   "cell_type": "code",
   "execution_count": 83,
   "id": "332e0fb0",
   "metadata": {},
   "outputs": [],
   "source": [
    "cols = data.drop(columns=['sample'], axis=1).columns.to_list()"
   ]
  },
  {
   "cell_type": "code",
   "execution_count": 84,
   "id": "a4613cf7",
   "metadata": {},
   "outputs": [],
   "source": [
    "train_data = data.query('sample == 1')[cols]\n",
    "test_data = data.query('sample == 0')[cols].drop(['default'], axis=1)"
   ]
  },
  {
   "cell_type": "code",
   "execution_count": 85,
   "id": "2e0887b6",
   "metadata": {},
   "outputs": [
    {
     "data": {
      "text/html": [
       "<div>\n",
       "<style scoped>\n",
       "    .dataframe tbody tr th:only-of-type {\n",
       "        vertical-align: middle;\n",
       "    }\n",
       "\n",
       "    .dataframe tbody tr th {\n",
       "        vertical-align: top;\n",
       "    }\n",
       "\n",
       "    .dataframe thead th {\n",
       "        text-align: right;\n",
       "    }\n",
       "</style>\n",
       "<table border=\"1\" class=\"dataframe\">\n",
       "  <thead>\n",
       "    <tr style=\"text-align: right;\">\n",
       "      <th></th>\n",
       "      <th>client_id</th>\n",
       "      <th>sex</th>\n",
       "      <th>age</th>\n",
       "      <th>car</th>\n",
       "      <th>car_type</th>\n",
       "      <th>decline_app_cnt</th>\n",
       "      <th>good_work</th>\n",
       "      <th>score_bki</th>\n",
       "      <th>bki_request_cnt</th>\n",
       "      <th>region_rating</th>\n",
       "      <th>home_address</th>\n",
       "      <th>work_address</th>\n",
       "      <th>income</th>\n",
       "      <th>sna</th>\n",
       "      <th>first_time</th>\n",
       "      <th>foreign_passport</th>\n",
       "      <th>default</th>\n",
       "      <th>cat_age</th>\n",
       "      <th>score_bki_outliers</th>\n",
       "      <th>income_outliers</th>\n",
       "      <th>cat_income</th>\n",
       "      <th>education_NaN</th>\n",
       "      <th>clients_count_by_day</th>\n",
       "      <th>education_ACD</th>\n",
       "      <th>education_GRD</th>\n",
       "      <th>education_NOED</th>\n",
       "      <th>education_PGR</th>\n",
       "      <th>education_SCH</th>\n",
       "      <th>education_UGR</th>\n",
       "      <th>sex_0</th>\n",
       "      <th>sex_1</th>\n",
       "      <th>car_0</th>\n",
       "      <th>car_1</th>\n",
       "      <th>car_type_0</th>\n",
       "      <th>car_type_1</th>\n",
       "      <th>good_work_0</th>\n",
       "      <th>good_work_1</th>\n",
       "      <th>region_rating_20</th>\n",
       "      <th>region_rating_30</th>\n",
       "      <th>region_rating_40</th>\n",
       "      <th>region_rating_50</th>\n",
       "      <th>region_rating_60</th>\n",
       "      <th>region_rating_70</th>\n",
       "      <th>region_rating_80</th>\n",
       "      <th>home_address_1</th>\n",
       "      <th>home_address_2</th>\n",
       "      <th>home_address_3</th>\n",
       "      <th>work_address_1</th>\n",
       "      <th>work_address_2</th>\n",
       "      <th>work_address_3</th>\n",
       "      <th>sna_1</th>\n",
       "      <th>sna_2</th>\n",
       "      <th>sna_3</th>\n",
       "      <th>sna_4</th>\n",
       "      <th>first_time_1</th>\n",
       "      <th>first_time_2</th>\n",
       "      <th>first_time_3</th>\n",
       "      <th>first_time_4</th>\n",
       "      <th>foreign_passport_0</th>\n",
       "      <th>foreign_passport_1</th>\n",
       "      <th>education_num_cat</th>\n",
       "      <th>carsex_num_cat</th>\n",
       "    </tr>\n",
       "  </thead>\n",
       "  <tbody>\n",
       "    <tr>\n",
       "      <th>36349</th>\n",
       "      <td>25905</td>\n",
       "      <td>1</td>\n",
       "      <td>4.143135</td>\n",
       "      <td>1</td>\n",
       "      <td>1</td>\n",
       "      <td>0</td>\n",
       "      <td>0</td>\n",
       "      <td>-2.008753</td>\n",
       "      <td>1</td>\n",
       "      <td>50</td>\n",
       "      <td>1</td>\n",
       "      <td>2</td>\n",
       "      <td>9.798183</td>\n",
       "      <td>4</td>\n",
       "      <td>1</td>\n",
       "      <td>0</td>\n",
       "      <td>0</td>\n",
       "      <td>8</td>\n",
       "      <td>0</td>\n",
       "      <td>0</td>\n",
       "      <td>0</td>\n",
       "      <td>0</td>\n",
       "      <td>794</td>\n",
       "      <td>0</td>\n",
       "      <td>0</td>\n",
       "      <td>0</td>\n",
       "      <td>0</td>\n",
       "      <td>1</td>\n",
       "      <td>0</td>\n",
       "      <td>0</td>\n",
       "      <td>1</td>\n",
       "      <td>0</td>\n",
       "      <td>1</td>\n",
       "      <td>0</td>\n",
       "      <td>1</td>\n",
       "      <td>1</td>\n",
       "      <td>0</td>\n",
       "      <td>0</td>\n",
       "      <td>0</td>\n",
       "      <td>0</td>\n",
       "      <td>1</td>\n",
       "      <td>0</td>\n",
       "      <td>0</td>\n",
       "      <td>0</td>\n",
       "      <td>1</td>\n",
       "      <td>0</td>\n",
       "      <td>0</td>\n",
       "      <td>0</td>\n",
       "      <td>1</td>\n",
       "      <td>0</td>\n",
       "      <td>0</td>\n",
       "      <td>0</td>\n",
       "      <td>0</td>\n",
       "      <td>1</td>\n",
       "      <td>1</td>\n",
       "      <td>0</td>\n",
       "      <td>0</td>\n",
       "      <td>0</td>\n",
       "      <td>1</td>\n",
       "      <td>0</td>\n",
       "      <td>4</td>\n",
       "      <td>3</td>\n",
       "    </tr>\n",
       "    <tr>\n",
       "      <th>36350</th>\n",
       "      <td>63161</td>\n",
       "      <td>0</td>\n",
       "      <td>4.094345</td>\n",
       "      <td>0</td>\n",
       "      <td>0</td>\n",
       "      <td>0</td>\n",
       "      <td>0</td>\n",
       "      <td>-1.532276</td>\n",
       "      <td>3</td>\n",
       "      <td>50</td>\n",
       "      <td>2</td>\n",
       "      <td>3</td>\n",
       "      <td>9.852247</td>\n",
       "      <td>4</td>\n",
       "      <td>1</td>\n",
       "      <td>0</td>\n",
       "      <td>0</td>\n",
       "      <td>7</td>\n",
       "      <td>0</td>\n",
       "      <td>0</td>\n",
       "      <td>0</td>\n",
       "      <td>0</td>\n",
       "      <td>1110</td>\n",
       "      <td>0</td>\n",
       "      <td>0</td>\n",
       "      <td>0</td>\n",
       "      <td>0</td>\n",
       "      <td>1</td>\n",
       "      <td>0</td>\n",
       "      <td>1</td>\n",
       "      <td>0</td>\n",
       "      <td>1</td>\n",
       "      <td>0</td>\n",
       "      <td>1</td>\n",
       "      <td>0</td>\n",
       "      <td>1</td>\n",
       "      <td>0</td>\n",
       "      <td>0</td>\n",
       "      <td>0</td>\n",
       "      <td>0</td>\n",
       "      <td>1</td>\n",
       "      <td>0</td>\n",
       "      <td>0</td>\n",
       "      <td>0</td>\n",
       "      <td>0</td>\n",
       "      <td>1</td>\n",
       "      <td>0</td>\n",
       "      <td>0</td>\n",
       "      <td>0</td>\n",
       "      <td>1</td>\n",
       "      <td>0</td>\n",
       "      <td>0</td>\n",
       "      <td>0</td>\n",
       "      <td>1</td>\n",
       "      <td>1</td>\n",
       "      <td>0</td>\n",
       "      <td>0</td>\n",
       "      <td>0</td>\n",
       "      <td>1</td>\n",
       "      <td>0</td>\n",
       "      <td>4</td>\n",
       "      <td>0</td>\n",
       "    </tr>\n",
       "    <tr>\n",
       "      <th>36351</th>\n",
       "      <td>25887</td>\n",
       "      <td>1</td>\n",
       "      <td>3.258097</td>\n",
       "      <td>1</td>\n",
       "      <td>0</td>\n",
       "      <td>2</td>\n",
       "      <td>0</td>\n",
       "      <td>-1.408142</td>\n",
       "      <td>1</td>\n",
       "      <td>80</td>\n",
       "      <td>1</td>\n",
       "      <td>2</td>\n",
       "      <td>10.308986</td>\n",
       "      <td>1</td>\n",
       "      <td>4</td>\n",
       "      <td>1</td>\n",
       "      <td>0</td>\n",
       "      <td>1</td>\n",
       "      <td>0</td>\n",
       "      <td>0</td>\n",
       "      <td>3</td>\n",
       "      <td>0</td>\n",
       "      <td>794</td>\n",
       "      <td>0</td>\n",
       "      <td>0</td>\n",
       "      <td>0</td>\n",
       "      <td>0</td>\n",
       "      <td>1</td>\n",
       "      <td>0</td>\n",
       "      <td>0</td>\n",
       "      <td>1</td>\n",
       "      <td>0</td>\n",
       "      <td>1</td>\n",
       "      <td>1</td>\n",
       "      <td>0</td>\n",
       "      <td>1</td>\n",
       "      <td>0</td>\n",
       "      <td>0</td>\n",
       "      <td>0</td>\n",
       "      <td>0</td>\n",
       "      <td>0</td>\n",
       "      <td>0</td>\n",
       "      <td>0</td>\n",
       "      <td>1</td>\n",
       "      <td>1</td>\n",
       "      <td>0</td>\n",
       "      <td>0</td>\n",
       "      <td>0</td>\n",
       "      <td>1</td>\n",
       "      <td>0</td>\n",
       "      <td>1</td>\n",
       "      <td>0</td>\n",
       "      <td>0</td>\n",
       "      <td>0</td>\n",
       "      <td>0</td>\n",
       "      <td>0</td>\n",
       "      <td>0</td>\n",
       "      <td>1</td>\n",
       "      <td>0</td>\n",
       "      <td>1</td>\n",
       "      <td>4</td>\n",
       "      <td>3</td>\n",
       "    </tr>\n",
       "    <tr>\n",
       "      <th>36352</th>\n",
       "      <td>16222</td>\n",
       "      <td>0</td>\n",
       "      <td>3.988984</td>\n",
       "      <td>0</td>\n",
       "      <td>0</td>\n",
       "      <td>0</td>\n",
       "      <td>0</td>\n",
       "      <td>-2.057471</td>\n",
       "      <td>2</td>\n",
       "      <td>50</td>\n",
       "      <td>2</td>\n",
       "      <td>3</td>\n",
       "      <td>9.210440</td>\n",
       "      <td>1</td>\n",
       "      <td>3</td>\n",
       "      <td>0</td>\n",
       "      <td>0</td>\n",
       "      <td>6</td>\n",
       "      <td>0</td>\n",
       "      <td>0</td>\n",
       "      <td>0</td>\n",
       "      <td>0</td>\n",
       "      <td>1060</td>\n",
       "      <td>0</td>\n",
       "      <td>0</td>\n",
       "      <td>0</td>\n",
       "      <td>0</td>\n",
       "      <td>1</td>\n",
       "      <td>0</td>\n",
       "      <td>1</td>\n",
       "      <td>0</td>\n",
       "      <td>1</td>\n",
       "      <td>0</td>\n",
       "      <td>1</td>\n",
       "      <td>0</td>\n",
       "      <td>1</td>\n",
       "      <td>0</td>\n",
       "      <td>0</td>\n",
       "      <td>0</td>\n",
       "      <td>0</td>\n",
       "      <td>1</td>\n",
       "      <td>0</td>\n",
       "      <td>0</td>\n",
       "      <td>0</td>\n",
       "      <td>0</td>\n",
       "      <td>1</td>\n",
       "      <td>0</td>\n",
       "      <td>0</td>\n",
       "      <td>0</td>\n",
       "      <td>1</td>\n",
       "      <td>1</td>\n",
       "      <td>0</td>\n",
       "      <td>0</td>\n",
       "      <td>0</td>\n",
       "      <td>0</td>\n",
       "      <td>0</td>\n",
       "      <td>1</td>\n",
       "      <td>0</td>\n",
       "      <td>1</td>\n",
       "      <td>0</td>\n",
       "      <td>4</td>\n",
       "      <td>0</td>\n",
       "    </tr>\n",
       "    <tr>\n",
       "      <th>36353</th>\n",
       "      <td>101655</td>\n",
       "      <td>1</td>\n",
       "      <td>3.891820</td>\n",
       "      <td>0</td>\n",
       "      <td>0</td>\n",
       "      <td>0</td>\n",
       "      <td>1</td>\n",
       "      <td>-1.244723</td>\n",
       "      <td>1</td>\n",
       "      <td>60</td>\n",
       "      <td>2</td>\n",
       "      <td>3</td>\n",
       "      <td>10.308986</td>\n",
       "      <td>1</td>\n",
       "      <td>4</td>\n",
       "      <td>1</td>\n",
       "      <td>0</td>\n",
       "      <td>5</td>\n",
       "      <td>0</td>\n",
       "      <td>0</td>\n",
       "      <td>3</td>\n",
       "      <td>0</td>\n",
       "      <td>981</td>\n",
       "      <td>0</td>\n",
       "      <td>1</td>\n",
       "      <td>0</td>\n",
       "      <td>0</td>\n",
       "      <td>0</td>\n",
       "      <td>0</td>\n",
       "      <td>0</td>\n",
       "      <td>1</td>\n",
       "      <td>1</td>\n",
       "      <td>0</td>\n",
       "      <td>1</td>\n",
       "      <td>0</td>\n",
       "      <td>0</td>\n",
       "      <td>1</td>\n",
       "      <td>0</td>\n",
       "      <td>0</td>\n",
       "      <td>0</td>\n",
       "      <td>0</td>\n",
       "      <td>1</td>\n",
       "      <td>0</td>\n",
       "      <td>0</td>\n",
       "      <td>0</td>\n",
       "      <td>1</td>\n",
       "      <td>0</td>\n",
       "      <td>0</td>\n",
       "      <td>0</td>\n",
       "      <td>1</td>\n",
       "      <td>1</td>\n",
       "      <td>0</td>\n",
       "      <td>0</td>\n",
       "      <td>0</td>\n",
       "      <td>0</td>\n",
       "      <td>0</td>\n",
       "      <td>0</td>\n",
       "      <td>1</td>\n",
       "      <td>0</td>\n",
       "      <td>1</td>\n",
       "      <td>1</td>\n",
       "      <td>2</td>\n",
       "    </tr>\n",
       "    <tr>\n",
       "      <th>...</th>\n",
       "      <td>...</td>\n",
       "      <td>...</td>\n",
       "      <td>...</td>\n",
       "      <td>...</td>\n",
       "      <td>...</td>\n",
       "      <td>...</td>\n",
       "      <td>...</td>\n",
       "      <td>...</td>\n",
       "      <td>...</td>\n",
       "      <td>...</td>\n",
       "      <td>...</td>\n",
       "      <td>...</td>\n",
       "      <td>...</td>\n",
       "      <td>...</td>\n",
       "      <td>...</td>\n",
       "      <td>...</td>\n",
       "      <td>...</td>\n",
       "      <td>...</td>\n",
       "      <td>...</td>\n",
       "      <td>...</td>\n",
       "      <td>...</td>\n",
       "      <td>...</td>\n",
       "      <td>...</td>\n",
       "      <td>...</td>\n",
       "      <td>...</td>\n",
       "      <td>...</td>\n",
       "      <td>...</td>\n",
       "      <td>...</td>\n",
       "      <td>...</td>\n",
       "      <td>...</td>\n",
       "      <td>...</td>\n",
       "      <td>...</td>\n",
       "      <td>...</td>\n",
       "      <td>...</td>\n",
       "      <td>...</td>\n",
       "      <td>...</td>\n",
       "      <td>...</td>\n",
       "      <td>...</td>\n",
       "      <td>...</td>\n",
       "      <td>...</td>\n",
       "      <td>...</td>\n",
       "      <td>...</td>\n",
       "      <td>...</td>\n",
       "      <td>...</td>\n",
       "      <td>...</td>\n",
       "      <td>...</td>\n",
       "      <td>...</td>\n",
       "      <td>...</td>\n",
       "      <td>...</td>\n",
       "      <td>...</td>\n",
       "      <td>...</td>\n",
       "      <td>...</td>\n",
       "      <td>...</td>\n",
       "      <td>...</td>\n",
       "      <td>...</td>\n",
       "      <td>...</td>\n",
       "      <td>...</td>\n",
       "      <td>...</td>\n",
       "      <td>...</td>\n",
       "      <td>...</td>\n",
       "      <td>...</td>\n",
       "      <td>...</td>\n",
       "    </tr>\n",
       "    <tr>\n",
       "      <th>110143</th>\n",
       "      <td>54887</td>\n",
       "      <td>0</td>\n",
       "      <td>3.828641</td>\n",
       "      <td>0</td>\n",
       "      <td>0</td>\n",
       "      <td>0</td>\n",
       "      <td>0</td>\n",
       "      <td>-1.792064</td>\n",
       "      <td>3</td>\n",
       "      <td>50</td>\n",
       "      <td>1</td>\n",
       "      <td>2</td>\n",
       "      <td>9.741027</td>\n",
       "      <td>4</td>\n",
       "      <td>4</td>\n",
       "      <td>0</td>\n",
       "      <td>0</td>\n",
       "      <td>5</td>\n",
       "      <td>0</td>\n",
       "      <td>0</td>\n",
       "      <td>0</td>\n",
       "      <td>0</td>\n",
       "      <td>1242</td>\n",
       "      <td>0</td>\n",
       "      <td>1</td>\n",
       "      <td>0</td>\n",
       "      <td>0</td>\n",
       "      <td>0</td>\n",
       "      <td>0</td>\n",
       "      <td>1</td>\n",
       "      <td>0</td>\n",
       "      <td>1</td>\n",
       "      <td>0</td>\n",
       "      <td>1</td>\n",
       "      <td>0</td>\n",
       "      <td>1</td>\n",
       "      <td>0</td>\n",
       "      <td>0</td>\n",
       "      <td>0</td>\n",
       "      <td>0</td>\n",
       "      <td>1</td>\n",
       "      <td>0</td>\n",
       "      <td>0</td>\n",
       "      <td>0</td>\n",
       "      <td>1</td>\n",
       "      <td>0</td>\n",
       "      <td>0</td>\n",
       "      <td>0</td>\n",
       "      <td>1</td>\n",
       "      <td>0</td>\n",
       "      <td>0</td>\n",
       "      <td>0</td>\n",
       "      <td>0</td>\n",
       "      <td>1</td>\n",
       "      <td>0</td>\n",
       "      <td>0</td>\n",
       "      <td>0</td>\n",
       "      <td>1</td>\n",
       "      <td>1</td>\n",
       "      <td>0</td>\n",
       "      <td>1</td>\n",
       "      <td>0</td>\n",
       "    </tr>\n",
       "    <tr>\n",
       "      <th>110144</th>\n",
       "      <td>76821</td>\n",
       "      <td>1</td>\n",
       "      <td>3.737670</td>\n",
       "      <td>1</td>\n",
       "      <td>1</td>\n",
       "      <td>0</td>\n",
       "      <td>0</td>\n",
       "      <td>-2.058029</td>\n",
       "      <td>1</td>\n",
       "      <td>50</td>\n",
       "      <td>2</td>\n",
       "      <td>2</td>\n",
       "      <td>11.156265</td>\n",
       "      <td>1</td>\n",
       "      <td>4</td>\n",
       "      <td>0</td>\n",
       "      <td>0</td>\n",
       "      <td>4</td>\n",
       "      <td>0</td>\n",
       "      <td>0</td>\n",
       "      <td>7</td>\n",
       "      <td>0</td>\n",
       "      <td>1173</td>\n",
       "      <td>0</td>\n",
       "      <td>0</td>\n",
       "      <td>0</td>\n",
       "      <td>0</td>\n",
       "      <td>1</td>\n",
       "      <td>0</td>\n",
       "      <td>0</td>\n",
       "      <td>1</td>\n",
       "      <td>0</td>\n",
       "      <td>1</td>\n",
       "      <td>0</td>\n",
       "      <td>1</td>\n",
       "      <td>1</td>\n",
       "      <td>0</td>\n",
       "      <td>0</td>\n",
       "      <td>0</td>\n",
       "      <td>0</td>\n",
       "      <td>1</td>\n",
       "      <td>0</td>\n",
       "      <td>0</td>\n",
       "      <td>0</td>\n",
       "      <td>0</td>\n",
       "      <td>1</td>\n",
       "      <td>0</td>\n",
       "      <td>0</td>\n",
       "      <td>1</td>\n",
       "      <td>0</td>\n",
       "      <td>1</td>\n",
       "      <td>0</td>\n",
       "      <td>0</td>\n",
       "      <td>0</td>\n",
       "      <td>0</td>\n",
       "      <td>0</td>\n",
       "      <td>0</td>\n",
       "      <td>1</td>\n",
       "      <td>1</td>\n",
       "      <td>0</td>\n",
       "      <td>4</td>\n",
       "      <td>3</td>\n",
       "    </tr>\n",
       "    <tr>\n",
       "      <th>110145</th>\n",
       "      <td>103695</td>\n",
       "      <td>1</td>\n",
       "      <td>3.465736</td>\n",
       "      <td>0</td>\n",
       "      <td>0</td>\n",
       "      <td>0</td>\n",
       "      <td>0</td>\n",
       "      <td>-1.512635</td>\n",
       "      <td>4</td>\n",
       "      <td>80</td>\n",
       "      <td>2</td>\n",
       "      <td>3</td>\n",
       "      <td>10.714440</td>\n",
       "      <td>2</td>\n",
       "      <td>2</td>\n",
       "      <td>0</td>\n",
       "      <td>0</td>\n",
       "      <td>2</td>\n",
       "      <td>0</td>\n",
       "      <td>0</td>\n",
       "      <td>6</td>\n",
       "      <td>0</td>\n",
       "      <td>994</td>\n",
       "      <td>0</td>\n",
       "      <td>0</td>\n",
       "      <td>0</td>\n",
       "      <td>0</td>\n",
       "      <td>1</td>\n",
       "      <td>0</td>\n",
       "      <td>0</td>\n",
       "      <td>1</td>\n",
       "      <td>1</td>\n",
       "      <td>0</td>\n",
       "      <td>1</td>\n",
       "      <td>0</td>\n",
       "      <td>1</td>\n",
       "      <td>0</td>\n",
       "      <td>0</td>\n",
       "      <td>0</td>\n",
       "      <td>0</td>\n",
       "      <td>0</td>\n",
       "      <td>0</td>\n",
       "      <td>0</td>\n",
       "      <td>1</td>\n",
       "      <td>0</td>\n",
       "      <td>1</td>\n",
       "      <td>0</td>\n",
       "      <td>0</td>\n",
       "      <td>0</td>\n",
       "      <td>1</td>\n",
       "      <td>0</td>\n",
       "      <td>1</td>\n",
       "      <td>0</td>\n",
       "      <td>0</td>\n",
       "      <td>0</td>\n",
       "      <td>1</td>\n",
       "      <td>0</td>\n",
       "      <td>0</td>\n",
       "      <td>1</td>\n",
       "      <td>0</td>\n",
       "      <td>4</td>\n",
       "      <td>2</td>\n",
       "    </tr>\n",
       "    <tr>\n",
       "      <th>110146</th>\n",
       "      <td>861</td>\n",
       "      <td>0</td>\n",
       "      <td>3.401197</td>\n",
       "      <td>0</td>\n",
       "      <td>0</td>\n",
       "      <td>0</td>\n",
       "      <td>1</td>\n",
       "      <td>-1.479334</td>\n",
       "      <td>3</td>\n",
       "      <td>50</td>\n",
       "      <td>1</td>\n",
       "      <td>3</td>\n",
       "      <td>9.472782</td>\n",
       "      <td>2</td>\n",
       "      <td>3</td>\n",
       "      <td>0</td>\n",
       "      <td>1</td>\n",
       "      <td>1</td>\n",
       "      <td>0</td>\n",
       "      <td>0</td>\n",
       "      <td>0</td>\n",
       "      <td>0</td>\n",
       "      <td>447</td>\n",
       "      <td>0</td>\n",
       "      <td>0</td>\n",
       "      <td>0</td>\n",
       "      <td>0</td>\n",
       "      <td>1</td>\n",
       "      <td>0</td>\n",
       "      <td>1</td>\n",
       "      <td>0</td>\n",
       "      <td>1</td>\n",
       "      <td>0</td>\n",
       "      <td>1</td>\n",
       "      <td>0</td>\n",
       "      <td>0</td>\n",
       "      <td>1</td>\n",
       "      <td>0</td>\n",
       "      <td>0</td>\n",
       "      <td>0</td>\n",
       "      <td>1</td>\n",
       "      <td>0</td>\n",
       "      <td>0</td>\n",
       "      <td>0</td>\n",
       "      <td>1</td>\n",
       "      <td>0</td>\n",
       "      <td>0</td>\n",
       "      <td>0</td>\n",
       "      <td>0</td>\n",
       "      <td>1</td>\n",
       "      <td>0</td>\n",
       "      <td>1</td>\n",
       "      <td>0</td>\n",
       "      <td>0</td>\n",
       "      <td>0</td>\n",
       "      <td>0</td>\n",
       "      <td>1</td>\n",
       "      <td>0</td>\n",
       "      <td>1</td>\n",
       "      <td>0</td>\n",
       "      <td>4</td>\n",
       "      <td>0</td>\n",
       "    </tr>\n",
       "    <tr>\n",
       "      <th>110147</th>\n",
       "      <td>15796</td>\n",
       "      <td>1</td>\n",
       "      <td>3.555348</td>\n",
       "      <td>0</td>\n",
       "      <td>0</td>\n",
       "      <td>0</td>\n",
       "      <td>0</td>\n",
       "      <td>-1.764711</td>\n",
       "      <td>2</td>\n",
       "      <td>50</td>\n",
       "      <td>2</td>\n",
       "      <td>3</td>\n",
       "      <td>10.126671</td>\n",
       "      <td>1</td>\n",
       "      <td>3</td>\n",
       "      <td>0</td>\n",
       "      <td>0</td>\n",
       "      <td>2</td>\n",
       "      <td>0</td>\n",
       "      <td>0</td>\n",
       "      <td>2</td>\n",
       "      <td>0</td>\n",
       "      <td>1060</td>\n",
       "      <td>0</td>\n",
       "      <td>1</td>\n",
       "      <td>0</td>\n",
       "      <td>0</td>\n",
       "      <td>0</td>\n",
       "      <td>0</td>\n",
       "      <td>0</td>\n",
       "      <td>1</td>\n",
       "      <td>1</td>\n",
       "      <td>0</td>\n",
       "      <td>1</td>\n",
       "      <td>0</td>\n",
       "      <td>1</td>\n",
       "      <td>0</td>\n",
       "      <td>0</td>\n",
       "      <td>0</td>\n",
       "      <td>0</td>\n",
       "      <td>1</td>\n",
       "      <td>0</td>\n",
       "      <td>0</td>\n",
       "      <td>0</td>\n",
       "      <td>0</td>\n",
       "      <td>1</td>\n",
       "      <td>0</td>\n",
       "      <td>0</td>\n",
       "      <td>0</td>\n",
       "      <td>1</td>\n",
       "      <td>1</td>\n",
       "      <td>0</td>\n",
       "      <td>0</td>\n",
       "      <td>0</td>\n",
       "      <td>0</td>\n",
       "      <td>0</td>\n",
       "      <td>1</td>\n",
       "      <td>0</td>\n",
       "      <td>1</td>\n",
       "      <td>0</td>\n",
       "      <td>1</td>\n",
       "      <td>2</td>\n",
       "    </tr>\n",
       "  </tbody>\n",
       "</table>\n",
       "<p>73799 rows × 62 columns</p>\n",
       "</div>"
      ],
      "text/plain": [
       "        client_id  sex       age  car  car_type  decline_app_cnt  good_work  \\\n",
       "36349       25905    1  4.143135    1         1                0          0   \n",
       "36350       63161    0  4.094345    0         0                0          0   \n",
       "36351       25887    1  3.258097    1         0                2          0   \n",
       "36352       16222    0  3.988984    0         0                0          0   \n",
       "36353      101655    1  3.891820    0         0                0          1   \n",
       "...           ...  ...       ...  ...       ...              ...        ...   \n",
       "110143      54887    0  3.828641    0         0                0          0   \n",
       "110144      76821    1  3.737670    1         1                0          0   \n",
       "110145     103695    1  3.465736    0         0                0          0   \n",
       "110146        861    0  3.401197    0         0                0          1   \n",
       "110147      15796    1  3.555348    0         0                0          0   \n",
       "\n",
       "        score_bki  bki_request_cnt  region_rating  home_address  work_address  \\\n",
       "36349   -2.008753                1             50             1             2   \n",
       "36350   -1.532276                3             50             2             3   \n",
       "36351   -1.408142                1             80             1             2   \n",
       "36352   -2.057471                2             50             2             3   \n",
       "36353   -1.244723                1             60             2             3   \n",
       "...           ...              ...            ...           ...           ...   \n",
       "110143  -1.792064                3             50             1             2   \n",
       "110144  -2.058029                1             50             2             2   \n",
       "110145  -1.512635                4             80             2             3   \n",
       "110146  -1.479334                3             50             1             3   \n",
       "110147  -1.764711                2             50             2             3   \n",
       "\n",
       "           income  sna  first_time  foreign_passport  default  cat_age  \\\n",
       "36349    9.798183    4           1                 0        0        8   \n",
       "36350    9.852247    4           1                 0        0        7   \n",
       "36351   10.308986    1           4                 1        0        1   \n",
       "36352    9.210440    1           3                 0        0        6   \n",
       "36353   10.308986    1           4                 1        0        5   \n",
       "...           ...  ...         ...               ...      ...      ...   \n",
       "110143   9.741027    4           4                 0        0        5   \n",
       "110144  11.156265    1           4                 0        0        4   \n",
       "110145  10.714440    2           2                 0        0        2   \n",
       "110146   9.472782    2           3                 0        1        1   \n",
       "110147  10.126671    1           3                 0        0        2   \n",
       "\n",
       "        score_bki_outliers  income_outliers  cat_income  education_NaN  \\\n",
       "36349                    0                0           0              0   \n",
       "36350                    0                0           0              0   \n",
       "36351                    0                0           3              0   \n",
       "36352                    0                0           0              0   \n",
       "36353                    0                0           3              0   \n",
       "...                    ...              ...         ...            ...   \n",
       "110143                   0                0           0              0   \n",
       "110144                   0                0           7              0   \n",
       "110145                   0                0           6              0   \n",
       "110146                   0                0           0              0   \n",
       "110147                   0                0           2              0   \n",
       "\n",
       "        clients_count_by_day  education_ACD  education_GRD  education_NOED  \\\n",
       "36349                    794              0              0               0   \n",
       "36350                   1110              0              0               0   \n",
       "36351                    794              0              0               0   \n",
       "36352                   1060              0              0               0   \n",
       "36353                    981              0              1               0   \n",
       "...                      ...            ...            ...             ...   \n",
       "110143                  1242              0              1               0   \n",
       "110144                  1173              0              0               0   \n",
       "110145                   994              0              0               0   \n",
       "110146                   447              0              0               0   \n",
       "110147                  1060              0              1               0   \n",
       "\n",
       "        education_PGR  education_SCH  education_UGR  sex_0  sex_1  car_0  \\\n",
       "36349               0              1              0      0      1      0   \n",
       "36350               0              1              0      1      0      1   \n",
       "36351               0              1              0      0      1      0   \n",
       "36352               0              1              0      1      0      1   \n",
       "36353               0              0              0      0      1      1   \n",
       "...               ...            ...            ...    ...    ...    ...   \n",
       "110143              0              0              0      1      0      1   \n",
       "110144              0              1              0      0      1      0   \n",
       "110145              0              1              0      0      1      1   \n",
       "110146              0              1              0      1      0      1   \n",
       "110147              0              0              0      0      1      1   \n",
       "\n",
       "        car_1  car_type_0  car_type_1  good_work_0  good_work_1  \\\n",
       "36349       1           0           1            1            0   \n",
       "36350       0           1           0            1            0   \n",
       "36351       1           1           0            1            0   \n",
       "36352       0           1           0            1            0   \n",
       "36353       0           1           0            0            1   \n",
       "...       ...         ...         ...          ...          ...   \n",
       "110143      0           1           0            1            0   \n",
       "110144      1           0           1            1            0   \n",
       "110145      0           1           0            1            0   \n",
       "110146      0           1           0            0            1   \n",
       "110147      0           1           0            1            0   \n",
       "\n",
       "        region_rating_20  region_rating_30  region_rating_40  \\\n",
       "36349                  0                 0                 0   \n",
       "36350                  0                 0                 0   \n",
       "36351                  0                 0                 0   \n",
       "36352                  0                 0                 0   \n",
       "36353                  0                 0                 0   \n",
       "...                  ...               ...               ...   \n",
       "110143                 0                 0                 0   \n",
       "110144                 0                 0                 0   \n",
       "110145                 0                 0                 0   \n",
       "110146                 0                 0                 0   \n",
       "110147                 0                 0                 0   \n",
       "\n",
       "        region_rating_50  region_rating_60  region_rating_70  \\\n",
       "36349                  1                 0                 0   \n",
       "36350                  1                 0                 0   \n",
       "36351                  0                 0                 0   \n",
       "36352                  1                 0                 0   \n",
       "36353                  0                 1                 0   \n",
       "...                  ...               ...               ...   \n",
       "110143                 1                 0                 0   \n",
       "110144                 1                 0                 0   \n",
       "110145                 0                 0                 0   \n",
       "110146                 1                 0                 0   \n",
       "110147                 1                 0                 0   \n",
       "\n",
       "        region_rating_80  home_address_1  home_address_2  home_address_3  \\\n",
       "36349                  0               1               0               0   \n",
       "36350                  0               0               1               0   \n",
       "36351                  1               1               0               0   \n",
       "36352                  0               0               1               0   \n",
       "36353                  0               0               1               0   \n",
       "...                  ...             ...             ...             ...   \n",
       "110143                 0               1               0               0   \n",
       "110144                 0               0               1               0   \n",
       "110145                 1               0               1               0   \n",
       "110146                 0               1               0               0   \n",
       "110147                 0               0               1               0   \n",
       "\n",
       "        work_address_1  work_address_2  work_address_3  sna_1  sna_2  sna_3  \\\n",
       "36349                0               1               0      0      0      0   \n",
       "36350                0               0               1      0      0      0   \n",
       "36351                0               1               0      1      0      0   \n",
       "36352                0               0               1      1      0      0   \n",
       "36353                0               0               1      1      0      0   \n",
       "...                ...             ...             ...    ...    ...    ...   \n",
       "110143               0               1               0      0      0      0   \n",
       "110144               0               1               0      1      0      0   \n",
       "110145               0               0               1      0      1      0   \n",
       "110146               0               0               1      0      1      0   \n",
       "110147               0               0               1      1      0      0   \n",
       "\n",
       "        sna_4  first_time_1  first_time_2  first_time_3  first_time_4  \\\n",
       "36349       1             1             0             0             0   \n",
       "36350       1             1             0             0             0   \n",
       "36351       0             0             0             0             1   \n",
       "36352       0             0             0             1             0   \n",
       "36353       0             0             0             0             1   \n",
       "...       ...           ...           ...           ...           ...   \n",
       "110143      1             0             0             0             1   \n",
       "110144      0             0             0             0             1   \n",
       "110145      0             0             1             0             0   \n",
       "110146      0             0             0             1             0   \n",
       "110147      0             0             0             1             0   \n",
       "\n",
       "        foreign_passport_0  foreign_passport_1  education_num_cat  \\\n",
       "36349                    1                   0                  4   \n",
       "36350                    1                   0                  4   \n",
       "36351                    0                   1                  4   \n",
       "36352                    1                   0                  4   \n",
       "36353                    0                   1                  1   \n",
       "...                    ...                 ...                ...   \n",
       "110143                   1                   0                  1   \n",
       "110144                   1                   0                  4   \n",
       "110145                   1                   0                  4   \n",
       "110146                   1                   0                  4   \n",
       "110147                   1                   0                  1   \n",
       "\n",
       "        carsex_num_cat  \n",
       "36349                3  \n",
       "36350                0  \n",
       "36351                3  \n",
       "36352                0  \n",
       "36353                2  \n",
       "...                ...  \n",
       "110143               0  \n",
       "110144               3  \n",
       "110145               2  \n",
       "110146               0  \n",
       "110147               2  \n",
       "\n",
       "[73799 rows x 62 columns]"
      ]
     },
     "execution_count": 85,
     "metadata": {},
     "output_type": "execute_result"
    }
   ],
   "source": [
    "train_data"
   ]
  },
  {
   "cell_type": "code",
   "execution_count": 86,
   "id": "5098547d",
   "metadata": {},
   "outputs": [],
   "source": [
    "y = train_data['default'].values"
   ]
  },
  {
   "cell_type": "code",
   "execution_count": 87,
   "id": "c1cd8d6a",
   "metadata": {},
   "outputs": [],
   "source": [
    "scaler=RobustScaler()"
   ]
  },
  {
   "cell_type": "code",
   "execution_count": 88,
   "id": "27b6f025",
   "metadata": {},
   "outputs": [],
   "source": [
    "X = scaler.fit_transform(train_data.drop(columns='default', axis=1))"
   ]
  },
  {
   "cell_type": "code",
   "execution_count": 89,
   "id": "d92ce46c",
   "metadata": {},
   "outputs": [],
   "source": [
    "test_data = scaler.fit(test_data.values)"
   ]
  },
  {
   "cell_type": "code",
   "execution_count": null,
   "id": "cc45ada8",
   "metadata": {},
   "outputs": [],
   "source": []
  },
  {
   "cell_type": "code",
   "execution_count": 90,
   "id": "396a80ab",
   "metadata": {},
   "outputs": [],
   "source": [
    "X_train, X_valid, y_train, y_valid = train_test_split(X, y, test_size=0.20, random_state=SEED)"
   ]
  },
  {
   "cell_type": "code",
   "execution_count": 91,
   "id": "603c4684",
   "metadata": {},
   "outputs": [],
   "source": [
    "sm = SMOTE(sampling_strategy='minority', random_state=SEED)"
   ]
  },
  {
   "cell_type": "code",
   "execution_count": 92,
   "id": "769c8c93",
   "metadata": {},
   "outputs": [],
   "source": [
    "X_train_oversampled, y_train_oversampled = sm.fit_resample(X_train, y_train)"
   ]
  },
  {
   "cell_type": "code",
   "execution_count": 93,
   "id": "1da2a50e",
   "metadata": {},
   "outputs": [
    {
     "data": {
      "text/plain": [
       "((59039, 61), (102988, 61))"
      ]
     },
     "execution_count": 93,
     "metadata": {},
     "output_type": "execute_result"
    }
   ],
   "source": [
    "X_train.shape, X_train_oversampled.shape"
   ]
  },
  {
   "cell_type": "code",
   "execution_count": 94,
   "id": "3ea1929b",
   "metadata": {},
   "outputs": [],
   "source": [
    "ros =  RandomOverSampler(sampling_strategy='minority', random_state=SEED)"
   ]
  },
  {
   "cell_type": "code",
   "execution_count": 95,
   "id": "4ad230ac",
   "metadata": {},
   "outputs": [],
   "source": [
    "X_train_ros, y_train_ros = ros.fit_resample(X_train, y_train)"
   ]
  },
  {
   "cell_type": "code",
   "execution_count": null,
   "id": "1039ef0a",
   "metadata": {},
   "outputs": [],
   "source": []
  },
  {
   "cell_type": "code",
   "execution_count": 107,
   "id": "c403f2b4",
   "metadata": {},
   "outputs": [],
   "source": [
    "lr = LogisticRegression(solver='liblinear', max_iter=1000)"
   ]
  },
  {
   "cell_type": "code",
   "execution_count": 108,
   "id": "55a7ecbe",
   "metadata": {},
   "outputs": [],
   "source": [
    "lr.fit(X_train, y_train)\n",
    "y_pred = lr.predict(X_valid)\n",
    "f1_score_basic = f1_score(y_valid, y_pred)\n",
    "classification_report_basic = classification_report(y_valid, y_pred)"
   ]
  },
  {
   "cell_type": "code",
   "execution_count": 98,
   "id": "7b8cea3c",
   "metadata": {},
   "outputs": [
    {
     "data": {
      "text/plain": [
       "0.045501551189245086"
      ]
     },
     "execution_count": 98,
     "metadata": {},
     "output_type": "execute_result"
    }
   ],
   "source": [
    "f1_score_basic"
   ]
  },
  {
   "cell_type": "code",
   "execution_count": 118,
   "id": "f0a301fc",
   "metadata": {},
   "outputs": [
    {
     "name": "stdout",
     "output_type": "stream",
     "text": [
      "              precision    recall  f1-score   support\n",
      "\n",
      "           0       0.88      1.00      0.93     12933\n",
      "           1       0.41      0.02      0.05      1827\n",
      "\n",
      "    accuracy                           0.87     14760\n",
      "   macro avg       0.64      0.51      0.49     14760\n",
      "weighted avg       0.82      0.87      0.82     14760\n",
      "\n"
     ]
    }
   ],
   "source": [
    "print(classification_report_basic)"
   ]
  },
  {
   "cell_type": "code",
   "execution_count": 121,
   "id": "922d9f0d",
   "metadata": {},
   "outputs": [],
   "source": [
    "lr.fit(X_train_oversampled, y_train_oversampled)\n",
    "y_pred_bal = lr.predict(X_valid)\n",
    "f1_score_bal = f1_score(y_valid, y_pred_bal)\n",
    "classification_report_bal = classification_report(y_valid, y_pred_bal)"
   ]
  },
  {
   "cell_type": "code",
   "execution_count": 112,
   "id": "eb273f4d",
   "metadata": {},
   "outputs": [
    {
     "data": {
      "text/plain": [
       "0.33813536287034524"
      ]
     },
     "execution_count": 112,
     "metadata": {},
     "output_type": "execute_result"
    }
   ],
   "source": [
    "f1_score_bal"
   ]
  },
  {
   "cell_type": "code",
   "execution_count": 122,
   "id": "fb8fa7c1",
   "metadata": {},
   "outputs": [
    {
     "name": "stdout",
     "output_type": "stream",
     "text": [
      "              precision    recall  f1-score   support\n",
      "\n",
      "           0       0.94      0.67      0.78     12933\n",
      "           1       0.22      0.68      0.34      1827\n",
      "\n",
      "    accuracy                           0.67     14760\n",
      "   macro avg       0.58      0.67      0.56     14760\n",
      "weighted avg       0.85      0.67      0.73     14760\n",
      "\n"
     ]
    }
   ],
   "source": [
    "print(classification_report_bal)"
   ]
  },
  {
   "cell_type": "code",
   "execution_count": 124,
   "id": "a45e8336",
   "metadata": {},
   "outputs": [],
   "source": [
    "lr.fit(X_train_ros, y_train_ros)\n",
    "y_pred_bal_ros = lr.predict(X_valid)\n",
    "f1_score_bal_ros = f1_score(y_valid, y_pred_bal_ros)\n",
    "classification_report_bal_ros = classification_report(y_valid, y_pred_bal_ros)"
   ]
  },
  {
   "cell_type": "code",
   "execution_count": 114,
   "id": "dfd9378e",
   "metadata": {},
   "outputs": [
    {
     "data": {
      "text/plain": [
       "0.34121941327565225"
      ]
     },
     "execution_count": 114,
     "metadata": {},
     "output_type": "execute_result"
    }
   ],
   "source": [
    "f1_score_bal_ros"
   ]
  },
  {
   "cell_type": "code",
   "execution_count": 125,
   "id": "dddde3ab",
   "metadata": {},
   "outputs": [
    {
     "name": "stdout",
     "output_type": "stream",
     "text": [
      "              precision    recall  f1-score   support\n",
      "\n",
      "           0       0.94      0.67      0.78     12933\n",
      "           1       0.23      0.69      0.34      1827\n",
      "\n",
      "    accuracy                           0.67     14760\n",
      "   macro avg       0.58      0.68      0.56     14760\n",
      "weighted avg       0.85      0.67      0.73     14760\n",
      "\n"
     ]
    }
   ],
   "source": [
    "print(classification_report_bal_ros)"
   ]
  },
  {
   "cell_type": "code",
   "execution_count": 115,
   "id": "f3fe2dc0",
   "metadata": {},
   "outputs": [],
   "source": [
    "lr_we = LogisticRegression(solver='liblinear', class_weight='balanced', max_iter=1000)"
   ]
  },
  {
   "cell_type": "code",
   "execution_count": 126,
   "id": "49cd30a5",
   "metadata": {},
   "outputs": [],
   "source": [
    "lr_we.fit(X_train, y_train)\n",
    "y_pred_we = lr.predict(X_valid)\n",
    "f1_score_we = f1_score(y_valid, y_pred_we)\n",
    "classification_report_we = classification_report(y_valid, y_pred_we)"
   ]
  },
  {
   "cell_type": "code",
   "execution_count": 127,
   "id": "d6831cc8",
   "metadata": {},
   "outputs": [
    {
     "data": {
      "text/plain": [
       "0.34121941327565225"
      ]
     },
     "execution_count": 127,
     "metadata": {},
     "output_type": "execute_result"
    }
   ],
   "source": [
    "f1_score_we"
   ]
  },
  {
   "cell_type": "code",
   "execution_count": 128,
   "id": "38b6999b",
   "metadata": {},
   "outputs": [
    {
     "name": "stdout",
     "output_type": "stream",
     "text": [
      "              precision    recall  f1-score   support\n",
      "\n",
      "           0       0.94      0.67      0.78     12933\n",
      "           1       0.23      0.69      0.34      1827\n",
      "\n",
      "    accuracy                           0.67     14760\n",
      "   macro avg       0.58      0.68      0.56     14760\n",
      "weighted avg       0.85      0.67      0.73     14760\n",
      "\n"
     ]
    }
   ],
   "source": [
    "print(classification_report_we)"
   ]
  }
 ],
 "metadata": {
  "kernelspec": {
   "display_name": "Python 3",
   "language": "python",
   "name": "python3"
  },
  "language_info": {
   "codemirror_mode": {
    "name": "ipython",
    "version": 3
   },
   "file_extension": ".py",
   "mimetype": "text/x-python",
   "name": "python",
   "nbconvert_exporter": "python",
   "pygments_lexer": "ipython3",
   "version": "3.8.8"
  }
 },
 "nbformat": 4,
 "nbformat_minor": 5
}
