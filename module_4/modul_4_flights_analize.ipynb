{
 "cells": [
  {
   "cell_type": "markdown",
   "id": "571f63b3",
   "metadata": {},
   "source": [
    "## Расчет издержек на авиарейсы из аэропорта Анапы"
   ]
  },
  {
   "cell_type": "code",
   "execution_count": 30,
   "id": "466e87c7",
   "metadata": {},
   "outputs": [],
   "source": [
    "import pandas as pd\n",
    "import matplotlib.pyplot as plt\n",
    "import seaborn as sns"
   ]
  },
  {
   "cell_type": "code",
   "execution_count": 31,
   "id": "a49ed8b4",
   "metadata": {},
   "outputs": [],
   "source": [
    "df = pd.read_csv('result_project_query_all_flights.csv')"
   ]
  },
  {
   "cell_type": "markdown",
   "id": "c13863b9",
   "metadata": {},
   "source": [
    "Как я помню, из базы получилось, что авиакомпания зимой обслуживает 3 рейса, но только 2 пассажирских. Возмем для анализа только их. Это полеты в SVO и EGO."
   ]
  },
  {
   "cell_type": "code",
   "execution_count": 32,
   "id": "c682097e",
   "metadata": {},
   "outputs": [],
   "source": [
    "data = df.copy()\n",
    "data = data[data['arrival_airport'].isin(['SVO', 'EGO'])]"
   ]
  },
  {
   "cell_type": "code",
   "execution_count": 33,
   "id": "11afbf48",
   "metadata": {},
   "outputs": [],
   "source": [
    "data['actual_arrival'] = pd.to_datetime(data['actual_arrival'], format=\"%Y/%m/%d %H:%M:%S\")\n",
    "data['actual_departure'] = pd.to_datetime(data['actual_departure'], format=\"%Y/%m/%d %H:%M:%S\")"
   ]
  },
  {
   "cell_type": "code",
   "execution_count": 34,
   "id": "6941f672",
   "metadata": {
    "scrolled": false
   },
   "outputs": [
    {
     "name": "stdout",
     "output_type": "stream",
     "text": [
      "<class 'pandas.core.frame.DataFrame'>\n",
      "Int64Index: 180 entries, 0 to 192\n",
      "Data columns (total 14 columns):\n",
      " #   Column               Non-Null Count  Dtype              \n",
      "---  ------               --------------  -----              \n",
      " 0   flight_id            180 non-null    int64              \n",
      " 1   arrival_airport      180 non-null    object             \n",
      " 2   actual_departure     180 non-null    datetime64[ns, UTC]\n",
      " 3   actual_arrival       180 non-null    datetime64[ns, UTC]\n",
      " 4   aircraft_model       180 non-null    object             \n",
      " 5   seats_per_craft      180 non-null    int64              \n",
      " 6   fuel_consumption     180 non-null    float64            \n",
      " 7   fuel_price_by_month  180 non-null    int64              \n",
      " 8   flight_income        180 non-null    float64            \n",
      " 9   sold_tickets         180 non-null    int64              \n",
      " 10  flight_cost          180 non-null    int64              \n",
      " 11  pnl                  180 non-null    float64            \n",
      " 12  rn                   180 non-null    int64              \n",
      " 13  flight_occupancy     180 non-null    int64              \n",
      "dtypes: datetime64[ns, UTC](2), float64(3), int64(7), object(2)\n",
      "memory usage: 21.1+ KB\n"
     ]
    }
   ],
   "source": [
    "data.info()"
   ]
  },
  {
   "cell_type": "markdown",
   "id": "a15e2a2d",
   "metadata": {},
   "source": [
    "### График заполненности рейса в EGO (аэропорте Белгород)"
   ]
  },
  {
   "cell_type": "code",
   "execution_count": 43,
   "id": "bb76b489",
   "metadata": {},
   "outputs": [
    {
     "data": {
      "image/png": "[encoded data removed]",
      "text/plain": [
       "<Figure size 1080x360 with 1 Axes>"
      ]
     },
     "metadata": {
      "needs_background": "light"
     },
     "output_type": "display_data"
    }
   ],
   "source": [
    "plt.rcParams['figure.figsize'] = (15,5)\n",
    "plt.xticks(rotation=90)\n",
    "sns.barplot(x='flight_id', y='sold_tickets', data=data[data['arrival_airport'].isin(['EGO'])])\n",
    "plt.show()"
   ]
  },
  {
   "cell_type": "markdown",
   "id": "a5254e40",
   "metadata": {},
   "source": [
    "### График заполненности рейса в SVO (Шереметьево)"
   ]
  },
  {
   "cell_type": "code",
   "execution_count": 44,
   "id": "7c1426dc",
   "metadata": {},
   "outputs": [
    {
     "data": {
      "image/png": "[encoded data removed]",
      "text/plain": [
       "<Figure size 1080x360 with 1 Axes>"
      ]
     },
     "metadata": {
      "needs_background": "light"
     },
     "output_type": "display_data"
    }
   ],
   "source": [
    "plt.rcParams['figure.figsize'] = (15,5)\n",
    "plt.xticks(rotation=90)\n",
    "sns.barplot(x='flight_id', y='sold_tickets', data=data[data['arrival_airport'].isin(['SVO'])])\n",
    "plt.show()"
   ]
  },
  {
   "cell_type": "code",
   "execution_count": 46,
   "id": "93e00e8e",
   "metadata": {},
   "outputs": [
    {
     "data": {
      "text/plain": [
       "array(['Sukhoi Superjet-100', 'Boeing 737-300'], dtype=object)"
      ]
     },
     "execution_count": 46,
     "metadata": {},
     "output_type": "execute_result"
    }
   ],
   "source": [
    "data['aircraft_model'].unique()"
   ]
  },
  {
   "cell_type": "markdown",
   "id": "3fce8908",
   "metadata": {},
   "source": [
    "Итак, из базы я получил данные по рейсам за декабрь 2016 года и январь-февраль 2017 года (зима 2017). И сразу в запросе я учел затраты на топливо. Но это только малая часть затрат из которых складывается общая сумма.\n",
    "Что ещё можно включить в затраты каждого полета:\n",
    "- сбор аэропорта за взлет-посадку - 412 рублей за тонну (включая 3 часа стоянки)\n",
    "- сбор за обеспечение авиационной безопасности - 317 рублей за тонну\n",
    "- сбор за предоставление аэровокзального комплекса - 66 рублей за пассажира\n",
    "- тариф за обслуживание пассажиров - 165 рублей за пассажира\n",
    "- питание на борту - допустим его не включают в билет (рейс короткий)\n",
    "- различные сборы и тарифы (использоватени ВИП зала, вывоз мусора с самолета, сан узлов и т.д.) - 60000"
   ]
  },
  {
   "cell_type": "code",
   "execution_count": 47,
   "id": "c100ba63",
   "metadata": {},
   "outputs": [],
   "source": [
    "aircrafts_mass_dict = {'Sukhoi Superjet-100': 25.83, 'Boeing 737-300': 45.36}"
   ]
  },
  {
   "cell_type": "code",
   "execution_count": 48,
   "id": "37889182",
   "metadata": {},
   "outputs": [],
   "source": [
    "data['aircraft_mass'] = data['aircraft_model'].map(aircrafts_mass_dict)"
   ]
  },
  {
   "cell_type": "code",
   "execution_count": 49,
   "id": "25ad3b01",
   "metadata": {},
   "outputs": [],
   "source": [
    "data['airport_costs'] = data['flight_cost'] + data['sold_tickets'] * (66 + 165) + data['aircraft_mass'] * (412 + 317) + 60000"
   ]
  },
  {
   "cell_type": "code",
   "execution_count": 50,
   "id": "71e0b4cb",
   "metadata": {},
   "outputs": [
    {
     "data": {
      "text/html": [
       "<div>\n",
       "<style scoped>\n",
       "    .dataframe tbody tr th:only-of-type {\n",
       "        vertical-align: middle;\n",
       "    }\n",
       "\n",
       "    .dataframe tbody tr th {\n",
       "        vertical-align: top;\n",
       "    }\n",
       "\n",
       "    .dataframe thead th {\n",
       "        text-align: right;\n",
       "    }\n",
       "</style>\n",
       "<table border=\"1\" class=\"dataframe\">\n",
       "  <thead>\n",
       "    <tr style=\"text-align: right;\">\n",
       "      <th></th>\n",
       "      <th>flight_id</th>\n",
       "      <th>arrival_airport</th>\n",
       "      <th>actual_departure</th>\n",
       "      <th>actual_arrival</th>\n",
       "      <th>aircraft_model</th>\n",
       "      <th>seats_per_craft</th>\n",
       "      <th>fuel_consumption</th>\n",
       "      <th>fuel_price_by_month</th>\n",
       "      <th>flight_income</th>\n",
       "      <th>sold_tickets</th>\n",
       "      <th>flight_cost</th>\n",
       "      <th>pnl</th>\n",
       "      <th>rn</th>\n",
       "      <th>flight_occupancy</th>\n",
       "      <th>aircraft_mass</th>\n",
       "      <th>airport_costs</th>\n",
       "    </tr>\n",
       "  </thead>\n",
       "  <tbody>\n",
       "    <tr>\n",
       "      <th>1</th>\n",
       "      <td>136807</td>\n",
       "      <td>EGO</td>\n",
       "      <td>2017-02-23 09:28:00+00:00</td>\n",
       "      <td>2017-02-23 10:18:00+00:00</td>\n",
       "      <td>Sukhoi Superjet-100</td>\n",
       "      <td>97</td>\n",
       "      <td>1.7</td>\n",
       "      <td>39553</td>\n",
       "      <td>531000.0</td>\n",
       "      <td>68</td>\n",
       "      <td>56033</td>\n",
       "      <td>474967.0</td>\n",
       "      <td>2</td>\n",
       "      <td>70</td>\n",
       "      <td>25.83</td>\n",
       "      <td>150571.07</td>\n",
       "    </tr>\n",
       "    <tr>\n",
       "      <th>0</th>\n",
       "      <td>136642</td>\n",
       "      <td>EGO</td>\n",
       "      <td>2017-01-30 09:28:00+00:00</td>\n",
       "      <td>2017-01-30 10:17:00+00:00</td>\n",
       "      <td>Sukhoi Superjet-100</td>\n",
       "      <td>97</td>\n",
       "      <td>1.7</td>\n",
       "      <td>41435</td>\n",
       "      <td>531000.0</td>\n",
       "      <td>64</td>\n",
       "      <td>57526</td>\n",
       "      <td>473474.0</td>\n",
       "      <td>1</td>\n",
       "      <td>65</td>\n",
       "      <td>25.83</td>\n",
       "      <td>151140.07</td>\n",
       "    </tr>\n",
       "    <tr>\n",
       "      <th>17</th>\n",
       "      <td>136771</td>\n",
       "      <td>EGO</td>\n",
       "      <td>2016-12-17 09:26:00+00:00</td>\n",
       "      <td>2016-12-17 10:15:00+00:00</td>\n",
       "      <td>Sukhoi Superjet-100</td>\n",
       "      <td>97</td>\n",
       "      <td>1.7</td>\n",
       "      <td>38867</td>\n",
       "      <td>657000.0</td>\n",
       "      <td>82</td>\n",
       "      <td>53960</td>\n",
       "      <td>603040.0</td>\n",
       "      <td>18</td>\n",
       "      <td>84</td>\n",
       "      <td>25.83</td>\n",
       "      <td>151732.07</td>\n",
       "    </tr>\n",
       "    <tr>\n",
       "      <th>13</th>\n",
       "      <td>136843</td>\n",
       "      <td>EGO</td>\n",
       "      <td>2016-12-04 09:30:00+00:00</td>\n",
       "      <td>2016-12-04 10:20:00+00:00</td>\n",
       "      <td>Sukhoi Superjet-100</td>\n",
       "      <td>97</td>\n",
       "      <td>1.7</td>\n",
       "      <td>38867</td>\n",
       "      <td>632400.0</td>\n",
       "      <td>78</td>\n",
       "      <td>55062</td>\n",
       "      <td>577338.0</td>\n",
       "      <td>14</td>\n",
       "      <td>80</td>\n",
       "      <td>25.83</td>\n",
       "      <td>151910.07</td>\n",
       "    </tr>\n",
       "    <tr>\n",
       "      <th>5</th>\n",
       "      <td>136620</td>\n",
       "      <td>EGO</td>\n",
       "      <td>2017-02-17 09:30:00+00:00</td>\n",
       "      <td>2017-02-17 10:19:00+00:00</td>\n",
       "      <td>Sukhoi Superjet-100</td>\n",
       "      <td>97</td>\n",
       "      <td>1.7</td>\n",
       "      <td>39553</td>\n",
       "      <td>613500.0</td>\n",
       "      <td>79</td>\n",
       "      <td>54913</td>\n",
       "      <td>558587.0</td>\n",
       "      <td>6</td>\n",
       "      <td>81</td>\n",
       "      <td>25.83</td>\n",
       "      <td>151992.07</td>\n",
       "    </tr>\n",
       "    <tr>\n",
       "      <th>...</th>\n",
       "      <td>...</td>\n",
       "      <td>...</td>\n",
       "      <td>...</td>\n",
       "      <td>...</td>\n",
       "      <td>...</td>\n",
       "      <td>...</td>\n",
       "      <td>...</td>\n",
       "      <td>...</td>\n",
       "      <td>...</td>\n",
       "      <td>...</td>\n",
       "      <td>...</td>\n",
       "      <td>...</td>\n",
       "      <td>...</td>\n",
       "      <td>...</td>\n",
       "      <td>...</td>\n",
       "      <td>...</td>\n",
       "    </tr>\n",
       "    <tr>\n",
       "      <th>183</th>\n",
       "      <td>136316</td>\n",
       "      <td>SVO</td>\n",
       "      <td>2017-01-12 10:07:00+00:00</td>\n",
       "      <td>2017-01-12 11:47:00+00:00</td>\n",
       "      <td>Boeing 737-300</td>\n",
       "      <td>130</td>\n",
       "      <td>7.8</td>\n",
       "      <td>41435</td>\n",
       "      <td>1886000.0</td>\n",
       "      <td>130</td>\n",
       "      <td>538655</td>\n",
       "      <td>1347345.0</td>\n",
       "      <td>81</td>\n",
       "      <td>100</td>\n",
       "      <td>45.36</td>\n",
       "      <td>661752.44</td>\n",
       "    </tr>\n",
       "    <tr>\n",
       "      <th>146</th>\n",
       "      <td>136119</td>\n",
       "      <td>SVO</td>\n",
       "      <td>2017-01-03 10:08:00+00:00</td>\n",
       "      <td>2017-01-03 11:49:00+00:00</td>\n",
       "      <td>Boeing 737-300</td>\n",
       "      <td>130</td>\n",
       "      <td>7.8</td>\n",
       "      <td>41435</td>\n",
       "      <td>1653000.0</td>\n",
       "      <td>113</td>\n",
       "      <td>544042</td>\n",
       "      <td>1108958.0</td>\n",
       "      <td>44</td>\n",
       "      <td>86</td>\n",
       "      <td>45.36</td>\n",
       "      <td>663212.44</td>\n",
       "    </tr>\n",
       "    <tr>\n",
       "      <th>115</th>\n",
       "      <td>136202</td>\n",
       "      <td>SVO</td>\n",
       "      <td>2017-01-05 10:07:00+00:00</td>\n",
       "      <td>2017-01-05 11:49:00+00:00</td>\n",
       "      <td>Boeing 737-300</td>\n",
       "      <td>130</td>\n",
       "      <td>7.8</td>\n",
       "      <td>41435</td>\n",
       "      <td>1495600.0</td>\n",
       "      <td>100</td>\n",
       "      <td>549428</td>\n",
       "      <td>946172.0</td>\n",
       "      <td>13</td>\n",
       "      <td>76</td>\n",
       "      <td>45.36</td>\n",
       "      <td>665595.44</td>\n",
       "    </tr>\n",
       "    <tr>\n",
       "      <th>114</th>\n",
       "      <td>136383</td>\n",
       "      <td>SVO</td>\n",
       "      <td>2017-01-25 10:09:00+00:00</td>\n",
       "      <td>2017-01-25 11:51:00+00:00</td>\n",
       "      <td>Boeing 737-300</td>\n",
       "      <td>130</td>\n",
       "      <td>7.8</td>\n",
       "      <td>41435</td>\n",
       "      <td>1493200.0</td>\n",
       "      <td>106</td>\n",
       "      <td>549428</td>\n",
       "      <td>943772.0</td>\n",
       "      <td>12</td>\n",
       "      <td>81</td>\n",
       "      <td>45.36</td>\n",
       "      <td>666981.44</td>\n",
       "    </tr>\n",
       "    <tr>\n",
       "      <th>116</th>\n",
       "      <td>136185</td>\n",
       "      <td>SVO</td>\n",
       "      <td>2017-01-14 10:06:00+00:00</td>\n",
       "      <td>2017-01-14 11:49:00+00:00</td>\n",
       "      <td>Boeing 737-300</td>\n",
       "      <td>130</td>\n",
       "      <td>7.8</td>\n",
       "      <td>41435</td>\n",
       "      <td>1520000.0</td>\n",
       "      <td>104</td>\n",
       "      <td>554815</td>\n",
       "      <td>965185.0</td>\n",
       "      <td>14</td>\n",
       "      <td>80</td>\n",
       "      <td>45.36</td>\n",
       "      <td>671906.44</td>\n",
       "    </tr>\n",
       "  </tbody>\n",
       "</table>\n",
       "<p>180 rows × 16 columns</p>\n",
       "</div>"
      ],
      "text/plain": [
       "     flight_id arrival_airport          actual_departure  \\\n",
       "1       136807             EGO 2017-02-23 09:28:00+00:00   \n",
       "0       136642             EGO 2017-01-30 09:28:00+00:00   \n",
       "17      136771             EGO 2016-12-17 09:26:00+00:00   \n",
       "13      136843             EGO 2016-12-04 09:30:00+00:00   \n",
       "5       136620             EGO 2017-02-17 09:30:00+00:00   \n",
       "..         ...             ...                       ...   \n",
       "183     136316             SVO 2017-01-12 10:07:00+00:00   \n",
       "146     136119             SVO 2017-01-03 10:08:00+00:00   \n",
       "115     136202             SVO 2017-01-05 10:07:00+00:00   \n",
       "114     136383             SVO 2017-01-25 10:09:00+00:00   \n",
       "116     136185             SVO 2017-01-14 10:06:00+00:00   \n",
       "\n",
       "               actual_arrival       aircraft_model  seats_per_craft  \\\n",
       "1   2017-02-23 10:18:00+00:00  Sukhoi Superjet-100               97   \n",
       "0   2017-01-30 10:17:00+00:00  Sukhoi Superjet-100               97   \n",
       "17  2016-12-17 10:15:00+00:00  Sukhoi Superjet-100               97   \n",
       "13  2016-12-04 10:20:00+00:00  Sukhoi Superjet-100               97   \n",
       "5   2017-02-17 10:19:00+00:00  Sukhoi Superjet-100               97   \n",
       "..                        ...                  ...              ...   \n",
       "183 2017-01-12 11:47:00+00:00       Boeing 737-300              130   \n",
       "146 2017-01-03 11:49:00+00:00       Boeing 737-300              130   \n",
       "115 2017-01-05 11:49:00+00:00       Boeing 737-300              130   \n",
       "114 2017-01-25 11:51:00+00:00       Boeing 737-300              130   \n",
       "116 2017-01-14 11:49:00+00:00       Boeing 737-300              130   \n",
       "\n",
       "     fuel_consumption  fuel_price_by_month  flight_income  sold_tickets  \\\n",
       "1                 1.7                39553       531000.0            68   \n",
       "0                 1.7                41435       531000.0            64   \n",
       "17                1.7                38867       657000.0            82   \n",
       "13                1.7                38867       632400.0            78   \n",
       "5                 1.7                39553       613500.0            79   \n",
       "..                ...                  ...            ...           ...   \n",
       "183               7.8                41435      1886000.0           130   \n",
       "146               7.8                41435      1653000.0           113   \n",
       "115               7.8                41435      1495600.0           100   \n",
       "114               7.8                41435      1493200.0           106   \n",
       "116               7.8                41435      1520000.0           104   \n",
       "\n",
       "     flight_cost        pnl  rn  flight_occupancy  aircraft_mass  \\\n",
       "1          56033   474967.0   2                70          25.83   \n",
       "0          57526   473474.0   1                65          25.83   \n",
       "17         53960   603040.0  18                84          25.83   \n",
       "13         55062   577338.0  14                80          25.83   \n",
       "5          54913   558587.0   6                81          25.83   \n",
       "..           ...        ...  ..               ...            ...   \n",
       "183       538655  1347345.0  81               100          45.36   \n",
       "146       544042  1108958.0  44                86          45.36   \n",
       "115       549428   946172.0  13                76          45.36   \n",
       "114       549428   943772.0  12                81          45.36   \n",
       "116       554815   965185.0  14                80          45.36   \n",
       "\n",
       "     airport_costs  \n",
       "1        150571.07  \n",
       "0        151140.07  \n",
       "17       151732.07  \n",
       "13       151910.07  \n",
       "5        151992.07  \n",
       "..             ...  \n",
       "183      661752.44  \n",
       "146      663212.44  \n",
       "115      665595.44  \n",
       "114      666981.44  \n",
       "116      671906.44  \n",
       "\n",
       "[180 rows x 16 columns]"
      ]
     },
     "execution_count": 50,
     "metadata": {},
     "output_type": "execute_result"
    }
   ],
   "source": [
    "data.sort_values(by=['arrival_airport', 'airport_costs'])"
   ]
  },
  {
   "cell_type": "markdown",
   "id": "a83c8e29",
   "metadata": {},
   "source": [
    "Посмотрим, какие у нас самолеты на линиях и сколько полетов они совершили"
   ]
  },
  {
   "cell_type": "code",
   "execution_count": 51,
   "id": "770a3398",
   "metadata": {
    "scrolled": true
   },
   "outputs": [
    {
     "data": {
      "text/plain": [
       "Boeing 737-300         90\n",
       "Sukhoi Superjet-100    90\n",
       "Name: aircraft_model, dtype: int64"
      ]
     },
     "execution_count": 51,
     "metadata": {},
     "output_type": "execute_result"
    }
   ],
   "source": [
    "data['aircraft_model'].value_counts()"
   ]
  },
  {
   "cell_type": "markdown",
   "id": "4170c1e5",
   "metadata": {},
   "source": [
    "Сделаю разбивку по месяцам"
   ]
  },
  {
   "cell_type": "code",
   "execution_count": 52,
   "id": "48ff81b3",
   "metadata": {},
   "outputs": [],
   "source": [
    "flights_count_dict = data.groupby([data['actual_departure'].dt.month, 'aircraft_model'])['aircraft_model'].count().to_dict()"
   ]
  },
  {
   "cell_type": "code",
   "execution_count": 53,
   "id": "7eed7bbe",
   "metadata": {},
   "outputs": [
    {
     "data": {
      "text/plain": [
       "{(1, 'Boeing 737-300'): 31,\n",
       " (1, 'Sukhoi Superjet-100'): 31,\n",
       " (2, 'Boeing 737-300'): 28,\n",
       " (2, 'Sukhoi Superjet-100'): 28,\n",
       " (12, 'Boeing 737-300'): 31,\n",
       " (12, 'Sukhoi Superjet-100'): 31}"
      ]
     },
     "execution_count": 53,
     "metadata": {},
     "output_type": "execute_result"
    }
   ],
   "source": [
    "flights_count_dict"
   ]
  },
  {
   "cell_type": "markdown",
   "id": "913d0287",
   "metadata": {},
   "source": [
    "Далее, предположу, что самолеты в лизинге.\n",
    "Буду считать очень упрощенно, у меня нет точных данных.\n",
    "Лизинг Sukhoi Superjet-100 стоит 8000000 рублей в месяц. Boeing 737-300 - предположим, что столько же.\n",
    "Ещё к лизингу сразу приплюсую ТОиР. 3000000 в месяц за самолет"
   ]
  },
  {
   "cell_type": "code",
   "execution_count": 54,
   "id": "d5316add",
   "metadata": {},
   "outputs": [],
   "source": [
    "lising_payment_by_month = 11000000"
   ]
  },
  {
   "cell_type": "markdown",
   "id": "e2a85b65",
   "metadata": {},
   "source": [
    "Отнесем лизинг на каждый полет. Сделаем предположение, что полеты были туда-обратно. Поэтому ежемесячную плату за лизинг я буду делить на удвоенное количество рейсов."
   ]
  },
  {
   "cell_type": "code",
   "execution_count": 55,
   "id": "1f9c9a10",
   "metadata": {},
   "outputs": [],
   "source": [
    "data['lising_by_month'] = data[['actual_departure', 'aircraft_model']].apply(lambda x: lising_payment_by_month / \n",
    "                                                                             (2 * flights_count_dict[(x[0].month, x[1])]), \n",
    "                                                                             axis=1)"
   ]
  },
  {
   "cell_type": "markdown",
   "id": "ffb0c979",
   "metadata": {},
   "source": [
    "Теперь нужно учесть хотя бы примерно расход на летный персонал.\n",
    "Первый и второй пилоты пусть получают равные ЗП - 300000 руб/месяц\n",
    "Бортпроводники - 75000 - на борту их у нас - 5 человек\n",
    "Итого в месяц оплата за персонал одного самолета - 957000"
   ]
  },
  {
   "cell_type": "code",
   "execution_count": 56,
   "id": "e040f35f",
   "metadata": {},
   "outputs": [],
   "source": [
    "crew_earning_by_month = 975000"
   ]
  },
  {
   "cell_type": "code",
   "execution_count": 57,
   "id": "b4e291e3",
   "metadata": {},
   "outputs": [],
   "source": [
    "data['crew_earning'] = data[['actual_departure', 'aircraft_model']].apply(lambda x: crew_earning_by_month / \n",
    "                                                                          (2 * flights_count_dict[(x[0].month, x[1])]), \n",
    "                                                                          axis=1)"
   ]
  },
  {
   "cell_type": "code",
   "execution_count": 58,
   "id": "2dc5f17a",
   "metadata": {},
   "outputs": [],
   "source": [
    "data['pnl2'] = data['flight_income'] - (data['airport_costs'].astype(int) + data['lising_by_month'].astype(int) + data['crew_earning'].astype(int))"
   ]
  },
  {
   "cell_type": "markdown",
   "id": "724d6d6a",
   "metadata": {},
   "source": [
    "### График прибыли с рейса в SVO (Шереметьево)"
   ]
  },
  {
   "cell_type": "code",
   "execution_count": 60,
   "id": "9cdeb32e",
   "metadata": {},
   "outputs": [
    {
     "data": {
      "image/png": "[encoded data removed]",
      "text/plain": [
       "<Figure size 1080x360 with 1 Axes>"
      ]
     },
     "metadata": {
      "needs_background": "light"
     },
     "output_type": "display_data"
    }
   ],
   "source": [
    "plt.rcParams['figure.figsize'] = (15,5)\n",
    "plt.xticks(rotation=90)\n",
    "sns.barplot(x='flight_id', y='pnl2', data=data[data['arrival_airport'].isin(['SVO'])])\n",
    "plt.show()"
   ]
  },
  {
   "cell_type": "code",
   "execution_count": 62,
   "id": "b1a0f161",
   "metadata": {},
   "outputs": [
    {
     "data": {
      "text/html": [
       "<div>\n",
       "<style scoped>\n",
       "    .dataframe tbody tr th:only-of-type {\n",
       "        vertical-align: middle;\n",
       "    }\n",
       "\n",
       "    .dataframe tbody tr th {\n",
       "        vertical-align: top;\n",
       "    }\n",
       "\n",
       "    .dataframe thead th {\n",
       "        text-align: right;\n",
       "    }\n",
       "</style>\n",
       "<table border=\"1\" class=\"dataframe\">\n",
       "  <thead>\n",
       "    <tr style=\"text-align: right;\">\n",
       "      <th></th>\n",
       "      <th>arrival_airport</th>\n",
       "      <th>aircraft_model</th>\n",
       "      <th>flight_income</th>\n",
       "      <th>pnl2</th>\n",
       "    </tr>\n",
       "  </thead>\n",
       "  <tbody>\n",
       "    <tr>\n",
       "      <th>103</th>\n",
       "      <td>SVO</td>\n",
       "      <td>Boeing 737-300</td>\n",
       "      <td>1398000.0</td>\n",
       "      <td>550034.0</td>\n",
       "    </tr>\n",
       "    <tr>\n",
       "      <th>105</th>\n",
       "      <td>SVO</td>\n",
       "      <td>Boeing 737-300</td>\n",
       "      <td>1407800.0</td>\n",
       "      <td>558695.0</td>\n",
       "    </tr>\n",
       "    <tr>\n",
       "      <th>104</th>\n",
       "      <td>SVO</td>\n",
       "      <td>Boeing 737-300</td>\n",
       "      <td>1372400.0</td>\n",
       "      <td>559666.0</td>\n",
       "    </tr>\n",
       "    <tr>\n",
       "      <th>106</th>\n",
       "      <td>SVO</td>\n",
       "      <td>Boeing 737-300</td>\n",
       "      <td>1431000.0</td>\n",
       "      <td>583727.0</td>\n",
       "    </tr>\n",
       "    <tr>\n",
       "      <th>107</th>\n",
       "      <td>SVO</td>\n",
       "      <td>Boeing 737-300</td>\n",
       "      <td>1434600.0</td>\n",
       "      <td>592252.0</td>\n",
       "    </tr>\n",
       "  </tbody>\n",
       "</table>\n",
       "</div>"
      ],
      "text/plain": [
       "    arrival_airport  aircraft_model  flight_income      pnl2\n",
       "103             SVO  Boeing 737-300      1398000.0  550034.0\n",
       "105             SVO  Boeing 737-300      1407800.0  558695.0\n",
       "104             SVO  Boeing 737-300      1372400.0  559666.0\n",
       "106             SVO  Boeing 737-300      1431000.0  583727.0\n",
       "107             SVO  Boeing 737-300      1434600.0  592252.0"
      ]
     },
     "execution_count": 62,
     "metadata": {},
     "output_type": "execute_result"
    }
   ],
   "source": [
    "data[data['arrival_airport'].isin(['SVO'])][['arrival_airport', 'aircraft_model', 'flight_income', 'pnl2']].sort_values(by=['pnl2']).head(5)"
   ]
  },
  {
   "cell_type": "markdown",
   "id": "820f8bb5",
   "metadata": {},
   "source": [
    "### График прибыли с рейса в EGO (аэропорте Белгород)"
   ]
  },
  {
   "cell_type": "code",
   "execution_count": 63,
   "id": "5b59344d",
   "metadata": {},
   "outputs": [
    {
     "data": {
      "image/png": "[encoded data removed]",
      "text/plain": [
       "<Figure size 1080x360 with 1 Axes>"
      ]
     },
     "metadata": {
      "needs_background": "light"
     },
     "output_type": "display_data"
    }
   ],
   "source": [
    "plt.rcParams['figure.figsize'] = (15,5)\n",
    "plt.xticks(rotation=90)\n",
    "sns.barplot(x='flight_id', y='pnl2', data=data[data['arrival_airport'].isin(['EGO'])])\n",
    "plt.show()"
   ]
  },
  {
   "cell_type": "code",
   "execution_count": 64,
   "id": "dc0e8e1e",
   "metadata": {},
   "outputs": [
    {
     "data": {
      "text/html": [
       "<div>\n",
       "<style scoped>\n",
       "    .dataframe tbody tr th:only-of-type {\n",
       "        vertical-align: middle;\n",
       "    }\n",
       "\n",
       "    .dataframe tbody tr th {\n",
       "        vertical-align: top;\n",
       "    }\n",
       "\n",
       "    .dataframe thead th {\n",
       "        text-align: right;\n",
       "    }\n",
       "</style>\n",
       "<table border=\"1\" class=\"dataframe\">\n",
       "  <thead>\n",
       "    <tr style=\"text-align: right;\">\n",
       "      <th></th>\n",
       "      <th>arrival_airport</th>\n",
       "      <th>aircraft_model</th>\n",
       "      <th>flight_income</th>\n",
       "      <th>pnl2</th>\n",
       "    </tr>\n",
       "  </thead>\n",
       "  <tbody>\n",
       "    <tr>\n",
       "      <th>1</th>\n",
       "      <td>EGO</td>\n",
       "      <td>Sukhoi Superjet-100</td>\n",
       "      <td>531000.0</td>\n",
       "      <td>166591.0</td>\n",
       "    </tr>\n",
       "    <tr>\n",
       "      <th>0</th>\n",
       "      <td>EGO</td>\n",
       "      <td>Sukhoi Superjet-100</td>\n",
       "      <td>531000.0</td>\n",
       "      <td>186716.0</td>\n",
       "    </tr>\n",
       "    <tr>\n",
       "      <th>2</th>\n",
       "      <td>EGO</td>\n",
       "      <td>Sukhoi Superjet-100</td>\n",
       "      <td>575100.0</td>\n",
       "      <td>208150.0</td>\n",
       "    </tr>\n",
       "    <tr>\n",
       "      <th>4</th>\n",
       "      <td>EGO</td>\n",
       "      <td>Sukhoi Superjet-100</td>\n",
       "      <td>607800.0</td>\n",
       "      <td>241543.0</td>\n",
       "    </tr>\n",
       "    <tr>\n",
       "      <th>5</th>\n",
       "      <td>EGO</td>\n",
       "      <td>Sukhoi Superjet-100</td>\n",
       "      <td>613500.0</td>\n",
       "      <td>247670.0</td>\n",
       "    </tr>\n",
       "  </tbody>\n",
       "</table>\n",
       "</div>"
      ],
      "text/plain": [
       "  arrival_airport       aircraft_model  flight_income      pnl2\n",
       "1             EGO  Sukhoi Superjet-100       531000.0  166591.0\n",
       "0             EGO  Sukhoi Superjet-100       531000.0  186716.0\n",
       "2             EGO  Sukhoi Superjet-100       575100.0  208150.0\n",
       "4             EGO  Sukhoi Superjet-100       607800.0  241543.0\n",
       "5             EGO  Sukhoi Superjet-100       613500.0  247670.0"
      ]
     },
     "execution_count": 64,
     "metadata": {},
     "output_type": "execute_result"
    }
   ],
   "source": [
    "data[data['arrival_airport'].isin(['EGO'])][['arrival_airport', 'aircraft_model', 'flight_income', 'pnl2']].sort_values(by=['pnl2']).head(5)"
   ]
  },
  {
   "cell_type": "markdown",
   "id": "eaef43ad",
   "metadata": {},
   "source": [
    "## Выводы по этому небольшому анализу.\n",
    "\n",
    "1. Я, конечно, учел не все затраты авиакомпании. Конечно, есть ещё штат сотрудников офиса. Есть сам офис, затраты которого распределяются по всем рейсам.\n",
    "2. Я взял только те тарифы и сборы, которые смог найти.\n",
    "3. Стоимость лизинга я взял на основании данных из интернета. Всё зависит от лизинговой компании и некоторых других факторов.\n",
    "4. Также я не учёл страховку как самолета, так и экипажа и т.д.\n",
    "5. Есть ещё маркетинговые затраты и много другого прочего\n",
    "\n",
    "#### Для полного анализа прибыльности рейса нужно намного больше времени и входных данных.\n",
    "Но даже по тем цифрам, которые получились, можно сделать вывод, что даже в низкий сезон рейсы приносят хоть небольшую, но прибыль. Если отменять рейсы с самой низкой доходностью, нужно учесть затраты на хранение самолета.\n",
    "То есть если самолет летает - то приносит хотя бы небольшую прибыль. Если стоит на земле - генерирует только убытки."
   ]
  }
 ],
 "metadata": {
  "kernelspec": {
   "display_name": "Python 3",
   "language": "python",
   "name": "python3"
  },
  "language_info": {
   "codemirror_mode": {
    "name": "ipython",
    "version": 3
   },
   "file_extension": ".py",
   "mimetype": "text/x-python",
   "name": "python",
   "nbconvert_exporter": "python",
   "pygments_lexer": "ipython3",
   "version": "3.8.8"
  }
 },
 "nbformat": 4,
 "nbformat_minor": 5
}
