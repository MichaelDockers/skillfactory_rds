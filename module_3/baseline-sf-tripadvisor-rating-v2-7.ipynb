{
 "cells": [
  {
   "cell_type": "markdown",
   "metadata": {},
   "source": [
    "![](https://www.pata.org/wp-content/uploads/2014/09/TripAdvisor_Logo-300x119.png)\n",
    "# Predict TripAdvisor Rating\n",
    "## В этом соревновании нам предстоит предсказать рейтинг ресторана в TripAdvisor\n",
    "**По ходу задачи:**\n",
    "* Прокачаем работу с pandas\n",
    "* Научимся работать с Kaggle Notebooks\n",
    "* Поймем как делать предобработку различных данных\n",
    "* Научимся работать с пропущенными данными (Nan)\n",
    "* Познакомимся с различными видами кодирования признаков\n",
    "* Немного попробуем [Feature Engineering](https://ru.wikipedia.org/wiki/Конструирование_признаков) (генерировать новые признаки)\n",
    "* И совсем немного затронем ML\n",
    "* И многое другое...   \n",
    "\n",
    "\n",
    "\n",
    "### И самое важное, все это вы сможете сделать самостоятельно!\n",
    "\n",
    "*Этот Ноутбук являетсся Примером/Шаблоном к этому соревнованию (Baseline) и не служит готовым решением!*   \n",
    "Вы можете использовать его как основу для построения своего решения.\n",
    "\n",
    "> что такое baseline решение, зачем оно нужно и почему предоставлять baseline к соревнованию стало важным стандартом на kaggle и других площадках.   \n",
    "**baseline** создается больше как шаблон, где можно посмотреть как происходит обращение с входящими данными и что нужно получить на выходе. При этом МЛ начинка может быть достаточно простой, просто для примера. Это помогает быстрее приступить к самому МЛ, а не тратить ценное время на чисто инженерные задачи. \n",
    "Также baseline являеться хорошей опорной точкой по метрике. Если твое решение хуже baseline - ты явно делаешь что-то не то и стоит попробовать другой путь) \n",
    "\n",
    "В контексте нашего соревнования baseline идет с небольшими примерами того, что можно делать с данными, и с инструкцией, что делать дальше, чтобы улучшить результат.  Вообще готовым решением это сложно назвать, так как используются всего 2 самых простых признака (а остальные исключаются)."
   ]
  },
  {
   "cell_type": "markdown",
   "metadata": {},
   "source": [
    "# import"
   ]
  },
  {
   "cell_type": "code",
   "execution_count": 1459,
   "metadata": {
    "_cell_guid": "b1076dfc-b9ad-4769-8c92-a6c4dae69d19",
    "_uuid": "8f2839f25d086af736a60e9eeb907d3b93b6e0e5",
    "execution": {
     "iopub.execute_input": "2021-12-01T15:41:06.967646Z",
     "iopub.status.busy": "2021-12-01T15:41:06.967168Z",
     "iopub.status.idle": "2021-12-01T15:41:06.996379Z",
     "shell.execute_reply": "2021-12-01T15:41:06.995257Z",
     "shell.execute_reply.started": "2021-12-01T15:41:06.967604Z"
    }
   },
   "outputs": [],
   "source": [
    "# This Python 3 environment comes with many helpful analytics libraries installed\n",
    "# It is defined by the kaggle/python docker image: https://github.com/kaggle/docker-python\n",
    "# For example, here's several helpful packages to load in \n",
    "\n",
    "import numpy as np # linear algebra\n",
    "import pandas as pd # data processing, CSV file I/O (e.g. pd.read_csv)\n",
    "import datetime\n",
    "import re\n",
    "import math\n",
    "\n",
    "import matplotlib.pyplot as plt\n",
    "import seaborn as sns \n",
    "%matplotlib inline\n",
    "\n",
    "# Загружаем специальный удобный инструмент для разделения датасета:\n",
    "from sklearn.model_selection import train_test_split\n",
    "\n",
    "import os\n",
    "for dirname, _, filenames in os.walk('/kaggle/input'):\n",
    "    for filename in filenames:\n",
    "        print(os.path.join(dirname, filename))"
   ]
  },
  {
   "cell_type": "code",
   "execution_count": 1460,
   "metadata": {
    "execution": {
     "iopub.execute_input": "2021-12-01T15:41:06.999261Z",
     "iopub.status.busy": "2021-12-01T15:41:06.998754Z",
     "iopub.status.idle": "2021-12-01T15:41:09.474421Z",
     "shell.execute_reply": "2021-12-01T15:41:09.472930Z",
     "shell.execute_reply.started": "2021-12-01T15:41:06.999109Z"
    }
   },
   "outputs": [],
   "source": [
    "# зафиксируем версию пакетов, чтобы эксперименты были воспроизводимы:\n",
    "!pip freeze > requirements.txt"
   ]
  },
  {
   "cell_type": "code",
   "execution_count": 1461,
   "metadata": {
    "execution": {
     "iopub.execute_input": "2021-12-01T15:41:09.479213Z",
     "iopub.status.busy": "2021-12-01T15:41:09.478870Z",
     "iopub.status.idle": "2021-12-01T15:41:09.482930Z",
     "shell.execute_reply": "2021-12-01T15:41:09.482225Z",
     "shell.execute_reply.started": "2021-12-01T15:41:09.479163Z"
    }
   },
   "outputs": [],
   "source": [
    "# всегда фиксируйте RANDOM_SEED, чтобы ваши эксперименты были воспроизводимы!\n",
    "RANDOM_SEED = 42"
   ]
  },
  {
   "cell_type": "markdown",
   "metadata": {},
   "source": [
    "# DATA"
   ]
  },
  {
   "cell_type": "code",
   "execution_count": 1462,
   "metadata": {
    "_cell_guid": "79c7e3d0-c299-4dcb-8224-4455121ee9b0",
    "_uuid": "d629ff2d2480ee46fbb7e2d37f6b5fab8052498a",
    "execution": {
     "iopub.execute_input": "2021-12-01T15:41:09.484769Z",
     "iopub.status.busy": "2021-12-01T15:41:09.484262Z",
     "iopub.status.idle": "2021-12-01T15:41:09.500648Z",
     "shell.execute_reply": "2021-12-01T15:41:09.499746Z",
     "shell.execute_reply.started": "2021-12-01T15:41:09.484727Z"
    }
   },
   "outputs": [],
   "source": [
    "pd.set_option('display.max_rows', 100)\n",
    "pd.set_option('display.max_columns', 100)"
   ]
  },
  {
   "cell_type": "code",
   "execution_count": 1463,
   "metadata": {
    "execution": {
     "iopub.execute_input": "2021-12-01T15:41:09.506287Z",
     "iopub.status.busy": "2021-12-01T15:41:09.505736Z",
     "iopub.status.idle": "2021-12-01T15:41:09.766260Z",
     "shell.execute_reply": "2021-12-01T15:41:09.765506Z",
     "shell.execute_reply.started": "2021-12-01T15:41:09.506220Z"
    }
   },
   "outputs": [],
   "source": [
    "DATA_DIR = '/kaggle/input/sf-dst-restaurant-rating/'\n",
    "df_train = pd.read_csv(DATA_DIR+'/main_task.csv')\n",
    "df_test = pd.read_csv(DATA_DIR+'kaggle_task.csv')\n",
    "sample_submission = pd.read_csv(DATA_DIR+'/sample_submission.csv')"
   ]
  },
  {
   "cell_type": "code",
   "execution_count": 1464,
   "metadata": {
    "execution": {
     "iopub.execute_input": "2021-12-01T15:41:09.769354Z",
     "iopub.status.busy": "2021-12-01T15:41:09.768829Z",
     "iopub.status.idle": "2021-12-01T15:41:09.884227Z",
     "shell.execute_reply": "2021-12-01T15:41:09.883242Z",
     "shell.execute_reply.started": "2021-12-01T15:41:09.769309Z"
    }
   },
   "outputs": [],
   "source": [
    "CITY_DIR = '/kaggle/input/world-cities/'\n",
    "db_c = pd.read_csv(CITY_DIR+'worldcities.csv')"
   ]
  },
  {
   "cell_type": "code",
   "execution_count": 1465,
   "metadata": {
    "execution": {
     "iopub.execute_input": "2021-12-01T15:41:09.886640Z",
     "iopub.status.busy": "2021-12-01T15:41:09.886282Z",
     "iopub.status.idle": "2021-12-01T15:41:09.897123Z",
     "shell.execute_reply": "2021-12-01T15:41:09.896323Z",
     "shell.execute_reply.started": "2021-12-01T15:41:09.886587Z"
    }
   },
   "outputs": [],
   "source": [
    "POP_DIR = '/kaggle/input/cities-population/'\n",
    "db_pop_cities = pd.read_csv(POP_DIR+'csvData.csv')"
   ]
  },
  {
   "cell_type": "markdown",
   "metadata": {},
   "source": [
    "## Lists and Dicts"
   ]
  },
  {
   "cell_type": "code",
   "execution_count": 1466,
   "metadata": {
    "execution": {
     "iopub.execute_input": "2021-12-01T15:41:09.898754Z",
     "iopub.status.busy": "2021-12-01T15:41:09.898395Z",
     "iopub.status.idle": "2021-12-01T15:41:09.922646Z",
     "shell.execute_reply": "2021-12-01T15:41:09.921391Z",
     "shell.execute_reply.started": "2021-12-01T15:41:09.898715Z"
    }
   },
   "outputs": [],
   "source": [
    "country_list = ['Austria', 'Belgium', 'Czechia', 'Denmark', 'Finland', 'France', 'Germany', 'Greece',\n",
    "                'Hungary', 'Ireland', 'Italy', 'Luxembourg', 'Netherlands', 'Poland', 'Portugal', \n",
    "                'Slovakia', 'Slovenia', 'Spain', 'Sweden', 'United Kingdom', 'Norway', 'Switzerland']\n",
    "\n",
    "# info from www.numbeo.com\n",
    "country_index_dict = {'Austria': 176.36, 'Belgium': 148.18, 'Czechia': 157.49, 'Denmark': 186.25, \n",
    "                      'Finland': 178.95, 'France': 153.60, 'Germany': 175.24, 'Greece': 127.96, \n",
    "                      'Hungary': 134.54, 'Ireland': 150.54, 'Italy': 137.77, 'Luxembourg': 171.81,\n",
    "                      'Netherlands': 180.27, 'Poland': 127.79, 'Portugal': 159.83, 'Slovakia': 147.09, \n",
    "                      'Slovenia': 165.74, 'Spain': 163.48, 'Sweden': 170.19, 'United Kingdom': 156.94, \n",
    "                      'Norway': 171.72, 'Switzerland': 188.36}\n",
    "\n",
    "# info from www.numbeo.com\n",
    "city_index_dict = {'Paris': 119.85, 'Helsinki': 173.28, 'Edinburgh': 175.31, 'London': 130.64, \n",
    "                   'Bratislava': 144.38, 'Lisbon': 147.90, 'Budapest': 123.59, 'Stockholm': 155.92, \n",
    "                   'Rome': 106.95, 'Milan': 117.35, 'Munich': 177.14, 'Hamburg': 164.86, 'Prague': 155.43,\n",
    "                   'Vienna': 180.52, 'Dublin': 137.34, 'Barcelona': 133.91, 'Brussels': 139.01,\n",
    "                   'Madrid': 148.59, 'Oslo': 162.11, 'Amsterdam': 166.83, 'Berlin': 157.91, 'Lyon': 148.10, \n",
    "                   'Athens': 119.44, 'Warsaw': 124.30, 'Porto': 153.46, 'Krakow': 114.99, 'Copenhagen': 177.54,\n",
    "                   'Luxembourg': 178.62, 'Zurich': 194.41, 'Geneva': 180.97, 'Ljubljana': 162.95}\n",
    "\n",
    "# info from www.numbeo.com\n",
    "crime_index_dict = {'Paris': 54.96, 'Helsinki': 26.03, 'Edinburgh': 30.05, 'London': 53.13, \n",
    "                   'Bratislava': 30.41, 'Lisbon': 28.21, 'Budapest': 35.68, 'Stockholm': 45.30, \n",
    "                   'Rome': 52.51, 'Milan': 44.20, 'Munich': 17.39, 'Hamburg': 42.84, 'Prague': 24.20,\n",
    "                   'Vienna': 25.83, 'Dublin': 50.84, 'Barcelona': 46.10, 'Brussels': 50.85,\n",
    "                   'Madrid': 29.76, 'Oslo': 34.97, 'Amsterdam': 33.38, 'Berlin': 41.97, 'Lyon': 47.55, \n",
    "                   'Athens': 54.20, 'Warsaw': 26.60, 'Porto': 36.00, 'Krakow': 28.32, 'Copenhagen': 27.07,\n",
    "                   'Luxembourg': 28.15, 'Zurich': 16.33, 'Geneva': 27.23, 'Ljubljana': 21.63}\n",
    "\n",
    "# info from www.numbeo.com\n",
    "rest_price_city_index_dict = {'Paris': 85.63, 'Helsinki': 90.47, 'Edinburgh': 89.20, 'London': 90.97, \n",
    "                   'Bratislava': 44.94, 'Lisbon': 50.49, 'Budapest': 37.35, 'Stockholm': 87.36, \n",
    "                   'Rome': 76.23, 'Milan': 82.88, 'Munich': 79.43, 'Hamburg': 71.31, 'Prague': 40.34,\n",
    "                   'Vienna': 68.04, 'Dublin': 87.39, 'Barcelona': 64.99, 'Brussels': 81.08,\n",
    "                   'Madrid': 65.56, 'Oslo': 108.53, 'Amsterdam': 90.25, 'Berlin': 63.83, 'Lyon': 73.05, \n",
    "                   'Athens': 57.51, 'Warsaw': 43.90, 'Porto': 45.67, 'Krakow': 38.61, 'Copenhagen': 108.85,\n",
    "                   'Luxembourg': 95.81, 'Zurich': 130.84, 'Geneva': 133.10, 'Ljubljana': 54.51}"
   ]
  },
  {
   "cell_type": "code",
   "execution_count": 1467,
   "metadata": {
    "execution": {
     "iopub.execute_input": "2021-12-01T15:41:09.924343Z",
     "iopub.status.busy": "2021-12-01T15:41:09.923925Z",
     "iopub.status.idle": "2021-12-01T15:41:09.939222Z",
     "shell.execute_reply": "2021-12-01T15:41:09.938395Z",
     "shell.execute_reply.started": "2021-12-01T15:41:09.924303Z"
    }
   },
   "outputs": [],
   "source": [
    "# Current date\n",
    "cur_date = datetime.datetime.now().date()\n",
    "\n",
    "# Foundation date (from 'About' from tripadvisor site)\n",
    "foundation_date = datetime.datetime.strptime('02-2000', '%m-%Y').date()"
   ]
  },
  {
   "cell_type": "markdown",
   "metadata": {},
   "source": [
    "## Functions"
   ]
  },
  {
   "cell_type": "code",
   "execution_count": 1468,
   "metadata": {
    "execution": {
     "iopub.execute_input": "2021-12-01T15:41:09.940958Z",
     "iopub.status.busy": "2021-12-01T15:41:09.940510Z",
     "iopub.status.idle": "2021-12-01T15:41:09.971532Z",
     "shell.execute_reply": "2021-12-01T15:41:09.970637Z",
     "shell.execute_reply.started": "2021-12-01T15:41:09.940918Z"
    }
   },
   "outputs": [],
   "source": [
    "def parse_cuisine(x):\n",
    "    '''Parsing cuisine column. Drop first and last char, split and strip (there are \n",
    "    spaces around cuisins)'''\n",
    "    if not pd.isna(x):\n",
    "        if isinstance(x, str):\n",
    "            if '[' in x:\n",
    "                x = [i.strip().strip(\"'\") for i in x[1: len(x) - 1].split(', ')]\n",
    "            else:\n",
    "                x = [i.strip() for i in x.split(', ')]\n",
    "    return x\n",
    "\n",
    "\n",
    "def perscent_nans(x):\n",
    "    '''Returning perscentage of NaNs'''\n",
    "    per_nans = 1 - x.count() / x.shape[0]\n",
    "    print('Perscent of missed values =', round(per_nans, 2), '%')\n",
    "\n",
    "\n",
    "def parse_nan_rev(x):\n",
    "    '''Return number depending on number of reviews from reviews colunm'''\n",
    "    if x == '[[], []]':\n",
    "        return 0\n",
    "    elif x.count(\"', '\") == 2:\n",
    "        return 1\n",
    "    else:\n",
    "        return 2\n",
    "        \n",
    "\n",
    "def parse_reviews(x):\n",
    "    '''Func for simple parsing Review column. Returing comment string and 2 date strings'''\n",
    "    if x == '[[], []]':\n",
    "        return ('NO_COMMENT', 'NO_DATE', 'NO_DATE')\n",
    "    else:\n",
    "        txt, dates = x.split('], [')\n",
    "        parse_dates = re.findall(r\"\\'([^\\'\\']+)\\'\", dates)\n",
    "        if len(parse_dates) == 2:\n",
    "            return (txt, parse_dates[0], parse_dates[1])\n",
    "        else:\n",
    "            return (txt, 'NO_DATE', parse_dates[0])\n",
    "        \n",
    "        \n",
    "def calc_days(row):\n",
    "    '''Func for calculating difference between first and second comment and last comment and present time'''\n",
    "    if row[0] == 'NO_DATE' and row[1] == 'NO_DATE':\n",
    "        return (0, 0)\n",
    "    elif row[0] == 'NO_DATE' or row[1] == 'NO_DATE':\n",
    "        if row[0] == 'NO_DATE':\n",
    "            return (0, (cur_date - datetime.datetime.strptime(row[1], \"%m/%d/%Y\").date()).days)\n",
    "        else:\n",
    "            return (0, (cur_date - datetime.datetime.strptime(row[0], \"%m/%d/%Y\").date()).days)\n",
    "    first_date = datetime.datetime.strptime(row[0], \"%m/%d/%Y\").date()\n",
    "    second_date = datetime.datetime.strptime(row[1], \"%m/%d/%Y\").date()\n",
    "    if first_date < foundation_date:\n",
    "        first_date = foundation_date\n",
    "    if second_date < foundation_date:\n",
    "        second_date = foundation_date\n",
    "    max_date = max(first_date, second_date)\n",
    "    return (abs((second_date - first_date).days), (cur_date - max_date).days)\n",
    "\n",
    "\n",
    "def season(x):\n",
    "    '''Func to know season of last review'''\n",
    "    if x == 'NO_DATE':\n",
    "        return 'NO_SEASON'\n",
    "    elif 1 <= datetime.datetime.strptime(x, \"%m/%d/%Y\").month <= 2 or datetime.datetime.strptime(x, \"%m/%d/%Y\").month == 12:\n",
    "        return 'WINTER'\n",
    "    elif 3 <= datetime.datetime.strptime(x, \"%m/%d/%Y\").month <= 5:\n",
    "        return 'SPRING'\n",
    "    elif 6 <= datetime.datetime.strptime(x, \"%m/%d/%Y\").month <= 8:\n",
    "        return 'SUMMER'\n",
    "    else:\n",
    "        return 'AUTUMN'\n",
    "\n",
    "    \n",
    "def perc_iqr(col):\n",
    "    '''Function to calculate IQR and 25, 75 quantile'''\n",
    "    perc25 = col.quantile(0.25)\n",
    "    perc75 = col.quantile(0.75)\n",
    "    perc50 = col.quantile(0.50)\n",
    "    iqr = perc75 - perc25\n",
    "    print(\n",
    "        'First quantile: {},'.format(perc25),\n",
    "        'Third quantile: {},'.format(perc75),\n",
    "        \"IQR: {}, \".format(iqr),\n",
    "        \"Outliers: [{f}, {l}].\".format(f=perc25 - 1.5*iqr, l=perc75 + 1.5*iqr))\n",
    "    return (perc25 - 1.5*iqr, perc75 + 1.5*iqr, perc25, perc75, perc50)\n",
    "\n",
    "\n",
    "def distplot_for_onecolumn(col):\n",
    "    '''Histogram plot func'''\n",
    "    plt.rcParams['figure.figsize'] = (15,5)\n",
    "    plt.xticks(rotation=90)\n",
    "    sns.distplot(col)\n",
    "    plt.show()"
   ]
  },
  {
   "cell_type": "code",
   "execution_count": 1469,
   "metadata": {
    "execution": {
     "iopub.execute_input": "2021-12-01T15:41:09.973122Z",
     "iopub.status.busy": "2021-12-01T15:41:09.972716Z",
     "iopub.status.idle": "2021-12-01T15:41:10.025215Z",
     "shell.execute_reply": "2021-12-01T15:41:10.024119Z",
     "shell.execute_reply.started": "2021-12-01T15:41:09.973081Z"
    }
   },
   "outputs": [],
   "source": [
    "df_train.info()"
   ]
  },
  {
   "cell_type": "code",
   "execution_count": 1470,
   "metadata": {
    "execution": {
     "iopub.execute_input": "2021-12-01T15:41:10.027387Z",
     "iopub.status.busy": "2021-12-01T15:41:10.026986Z",
     "iopub.status.idle": "2021-12-01T15:41:10.046496Z",
     "shell.execute_reply": "2021-12-01T15:41:10.045697Z",
     "shell.execute_reply.started": "2021-12-01T15:41:10.027323Z"
    }
   },
   "outputs": [],
   "source": [
    "df_train.head(5)"
   ]
  },
  {
   "cell_type": "code",
   "execution_count": 1471,
   "metadata": {
    "execution": {
     "iopub.execute_input": "2021-12-01T15:41:10.048339Z",
     "iopub.status.busy": "2021-12-01T15:41:10.048041Z",
     "iopub.status.idle": "2021-12-01T15:41:10.070111Z",
     "shell.execute_reply": "2021-12-01T15:41:10.068869Z",
     "shell.execute_reply.started": "2021-12-01T15:41:10.048288Z"
    }
   },
   "outputs": [],
   "source": [
    "df_test.info()"
   ]
  },
  {
   "cell_type": "code",
   "execution_count": 1472,
   "metadata": {
    "execution": {
     "iopub.execute_input": "2021-12-01T15:41:10.071992Z",
     "iopub.status.busy": "2021-12-01T15:41:10.071611Z",
     "iopub.status.idle": "2021-12-01T15:41:10.089952Z",
     "shell.execute_reply": "2021-12-01T15:41:10.088956Z",
     "shell.execute_reply.started": "2021-12-01T15:41:10.071938Z"
    }
   },
   "outputs": [],
   "source": [
    "df_test.head(5)"
   ]
  },
  {
   "cell_type": "code",
   "execution_count": 1473,
   "metadata": {
    "execution": {
     "iopub.execute_input": "2021-12-01T15:41:10.091619Z",
     "iopub.status.busy": "2021-12-01T15:41:10.091328Z",
     "iopub.status.idle": "2021-12-01T15:41:10.107436Z",
     "shell.execute_reply": "2021-12-01T15:41:10.106319Z",
     "shell.execute_reply.started": "2021-12-01T15:41:10.091580Z"
    }
   },
   "outputs": [],
   "source": [
    "sample_submission.head(5)"
   ]
  },
  {
   "cell_type": "code",
   "execution_count": 1474,
   "metadata": {
    "execution": {
     "iopub.execute_input": "2021-12-01T15:41:10.109251Z",
     "iopub.status.busy": "2021-12-01T15:41:10.108795Z",
     "iopub.status.idle": "2021-12-01T15:41:10.122496Z",
     "shell.execute_reply": "2021-12-01T15:41:10.121602Z",
     "shell.execute_reply.started": "2021-12-01T15:41:10.109208Z"
    }
   },
   "outputs": [],
   "source": [
    "sample_submission.info()"
   ]
  },
  {
   "cell_type": "markdown",
   "metadata": {
    "execution": {
     "iopub.execute_input": "2021-11-17T08:06:59.769887Z",
     "iopub.status.busy": "2021-11-17T08:06:59.769362Z",
     "iopub.status.idle": "2021-11-17T08:06:59.814027Z",
     "shell.execute_reply": "2021-11-17T08:06:59.813124Z",
     "shell.execute_reply.started": "2021-11-17T08:06:59.769837Z"
    }
   },
   "source": [
    "db_ta.head()"
   ]
  },
  {
   "cell_type": "code",
   "execution_count": 1475,
   "metadata": {
    "execution": {
     "iopub.execute_input": "2021-12-01T15:41:10.124357Z",
     "iopub.status.busy": "2021-12-01T15:41:10.123916Z",
     "iopub.status.idle": "2021-12-01T15:41:10.194013Z",
     "shell.execute_reply": "2021-12-01T15:41:10.193227Z",
     "shell.execute_reply.started": "2021-12-01T15:41:10.124317Z"
    }
   },
   "outputs": [],
   "source": [
    "# ВАЖНО! дря корректной обработки признаков объединяем трейн и тест в один датасет\n",
    "df_train['sample'] = 1 # помечаем где у нас трейн\n",
    "df_test['sample'] = 0 # помечаем где у нас тест\n",
    "df_test['Rating'] = 0 # в тесте у нас нет значения Rating, мы его должны предсказать, по этому пока просто заполняем нулями\n",
    "\n",
    "db = df_test.append(df_train, sort=False).reset_index(drop=True) # объединяем"
   ]
  },
  {
   "cell_type": "code",
   "execution_count": 1476,
   "metadata": {
    "execution": {
     "iopub.execute_input": "2021-12-01T15:41:10.195475Z",
     "iopub.status.busy": "2021-12-01T15:41:10.195103Z",
     "iopub.status.idle": "2021-12-01T15:41:10.240226Z",
     "shell.execute_reply": "2021-12-01T15:41:10.239410Z",
     "shell.execute_reply.started": "2021-12-01T15:41:10.195426Z"
    }
   },
   "outputs": [],
   "source": [
    "db.info()"
   ]
  },
  {
   "cell_type": "markdown",
   "metadata": {},
   "source": [
    "Подробнее по признакам:\n",
    "* City: Город \n",
    "* Cuisine Style: Кухня\n",
    "* Ranking: Ранг ресторана относительно других ресторанов в этом городе\n",
    "* Price Range: Цены в ресторане в 3 категориях\n",
    "* Number of Reviews: Количество отзывов\n",
    "* Reviews: 2 последних отзыва и даты этих отзывов\n",
    "* URL_TA: страница ресторана на 'www.tripadvisor.com' \n",
    "* ID_TA: ID ресторана в TripAdvisor\n",
    "* Rating: Рейтинг ресторана"
   ]
  },
  {
   "cell_type": "code",
   "execution_count": 1477,
   "metadata": {
    "execution": {
     "iopub.execute_input": "2021-12-01T15:41:10.241933Z",
     "iopub.status.busy": "2021-12-01T15:41:10.241490Z",
     "iopub.status.idle": "2021-12-01T15:41:10.264273Z",
     "shell.execute_reply": "2021-12-01T15:41:10.263271Z",
     "shell.execute_reply.started": "2021-12-01T15:41:10.241882Z"
    }
   },
   "outputs": [],
   "source": [
    "db.sample(5)"
   ]
  },
  {
   "cell_type": "markdown",
   "metadata": {},
   "source": [
    "# Cleaning and Prepping Data\n",
    "Обычно данные содержат в себе кучу мусора, который необходимо почистить, для того чтобы привести их в приемлемый формат. Чистка данных — это необходимый этап решения почти любой реальной задачи.   \n",
    "![](https://analyticsindiamag.com/wp-content/uploads/2018/01/data-cleaning.png)"
   ]
  },
  {
   "cell_type": "markdown",
   "metadata": {},
   "source": [
    "## 1. Prep dataframes"
   ]
  },
  {
   "cell_type": "markdown",
   "metadata": {},
   "source": [
    "### Column names work"
   ]
  },
  {
   "cell_type": "markdown",
   "metadata": {},
   "source": [
    "#### DB"
   ]
  },
  {
   "cell_type": "code",
   "execution_count": 1478,
   "metadata": {
    "execution": {
     "iopub.execute_input": "2021-12-01T15:41:10.266736Z",
     "iopub.status.busy": "2021-12-01T15:41:10.266048Z",
     "iopub.status.idle": "2021-12-01T15:41:10.275662Z",
     "shell.execute_reply": "2021-12-01T15:41:10.274961Z",
     "shell.execute_reply.started": "2021-12-01T15:41:10.266382Z"
    }
   },
   "outputs": [],
   "source": [
    "db_columns = list(db.columns)\n",
    "db_columns = [i.strip().lower() for i in db_columns] # lower all\n",
    "db_columns = ['_'.join(i.split(' ')) for i in db_columns] # change ' ' to '_'\n",
    "db.set_axis(db_columns, axis='columns', inplace=True)"
   ]
  },
  {
   "cell_type": "markdown",
   "metadata": {},
   "source": [
    "#### DB Country"
   ]
  },
  {
   "cell_type": "code",
   "execution_count": 1479,
   "metadata": {
    "execution": {
     "iopub.execute_input": "2021-12-01T15:41:10.277881Z",
     "iopub.status.busy": "2021-12-01T15:41:10.277243Z",
     "iopub.status.idle": "2021-12-01T15:41:10.301778Z",
     "shell.execute_reply": "2021-12-01T15:41:10.300739Z",
     "shell.execute_reply.started": "2021-12-01T15:41:10.277823Z"
    }
   },
   "outputs": [],
   "source": [
    "db_c = db_c[db_c['country'].isin(country_list)] # I need only country from my DB.\n",
    "db_c.drop(['city', 'iso2', 'iso3', 'id', 'admin_name'], axis=1, inplace=True)\n",
    "db_c.rename(columns={'city_ascii': 'city', 'lat': 'lat_city', 'lng': 'lng_city'}, inplace=True)"
   ]
  },
  {
   "cell_type": "markdown",
   "metadata": {},
   "source": [
    "#### DB Cities Population"
   ]
  },
  {
   "cell_type": "code",
   "execution_count": 1480,
   "metadata": {
    "execution": {
     "iopub.execute_input": "2021-12-01T15:41:10.303973Z",
     "iopub.status.busy": "2021-12-01T15:41:10.303587Z",
     "iopub.status.idle": "2021-12-01T15:41:10.318999Z",
     "shell.execute_reply": "2021-12-01T15:41:10.318034Z",
     "shell.execute_reply.started": "2021-12-01T15:41:10.303905Z"
    }
   },
   "outputs": [],
   "source": [
    "db_pop_cities.drop(['country'], axis=1, inplace=True)\n",
    "db_pop_cities.rename(columns={'name': 'city'}, inplace=True)\n",
    "db_pop_cities = db_pop_cities.append({'city': 'Luxembourg', 'pop': 613961}, ignore_index=True)\n",
    "db_pop_cities = db_pop_cities.append({'city': 'Geneva', 'pop': 196173}, ignore_index=True)"
   ]
  },
  {
   "cell_type": "markdown",
   "metadata": {},
   "source": [
    "#### City Column treat"
   ]
  },
  {
   "cell_type": "code",
   "execution_count": 1481,
   "metadata": {
    "execution": {
     "iopub.execute_input": "2021-12-01T15:41:10.321312Z",
     "iopub.status.busy": "2021-12-01T15:41:10.320700Z",
     "iopub.status.idle": "2021-12-01T15:41:10.348895Z",
     "shell.execute_reply": "2021-12-01T15:41:10.348050Z",
     "shell.execute_reply.started": "2021-12-01T15:41:10.321253Z"
    }
   },
   "outputs": [],
   "source": [
    "db['city'].value_counts()"
   ]
  },
  {
   "cell_type": "markdown",
   "metadata": {},
   "source": [
    "Changing name for Oporto to Porto"
   ]
  },
  {
   "cell_type": "code",
   "execution_count": 1482,
   "metadata": {
    "execution": {
     "iopub.execute_input": "2021-12-01T15:41:10.350694Z",
     "iopub.status.busy": "2021-12-01T15:41:10.350417Z",
     "iopub.status.idle": "2021-12-01T15:41:10.359482Z",
     "shell.execute_reply": "2021-12-01T15:41:10.358484Z",
     "shell.execute_reply.started": "2021-12-01T15:41:10.350648Z"
    }
   },
   "outputs": [],
   "source": [
    "db['city'] = db['city'].replace('Oporto', 'Porto')"
   ]
  },
  {
   "cell_type": "markdown",
   "metadata": {},
   "source": [
    "#### Let's see cities distribution"
   ]
  },
  {
   "cell_type": "code",
   "execution_count": 1483,
   "metadata": {
    "execution": {
     "iopub.execute_input": "2021-12-01T15:41:10.361184Z",
     "iopub.status.busy": "2021-12-01T15:41:10.360712Z",
     "iopub.status.idle": "2021-12-01T15:41:10.877565Z",
     "shell.execute_reply": "2021-12-01T15:41:10.876845Z",
     "shell.execute_reply.started": "2021-12-01T15:41:10.361085Z"
    }
   },
   "outputs": [],
   "source": [
    "plt.rcParams['figure.figsize'] = (15,5)\n",
    "plt.xticks(rotation=90)\n",
    "sns.countplot(x=db[db['sample'] == 1]['city'])\n",
    "plt.show()"
   ]
  },
  {
   "cell_type": "markdown",
   "metadata": {},
   "source": [
    "#### Nice. Looks normal. London and Paris are standing out. But it's understandable becouse of they are largest cities in Europe."
   ]
  },
  {
   "cell_type": "markdown",
   "metadata": {},
   "source": [
    "#### Let's merge 3 tables to 1"
   ]
  },
  {
   "cell_type": "code",
   "execution_count": 1484,
   "metadata": {
    "execution": {
     "iopub.execute_input": "2021-12-01T15:41:10.879001Z",
     "iopub.status.busy": "2021-12-01T15:41:10.878649Z",
     "iopub.status.idle": "2021-12-01T15:41:10.934465Z",
     "shell.execute_reply": "2021-12-01T15:41:10.933666Z",
     "shell.execute_reply.started": "2021-12-01T15:41:10.878963Z"
    }
   },
   "outputs": [],
   "source": [
    "db = pd.merge(db, db_c, on='city', how='left')"
   ]
  },
  {
   "cell_type": "code",
   "execution_count": 1485,
   "metadata": {
    "execution": {
     "iopub.execute_input": "2021-12-01T15:41:10.935911Z",
     "iopub.status.busy": "2021-12-01T15:41:10.935521Z",
     "iopub.status.idle": "2021-12-01T15:41:10.966460Z",
     "shell.execute_reply": "2021-12-01T15:41:10.965661Z",
     "shell.execute_reply.started": "2021-12-01T15:41:10.935873Z"
    }
   },
   "outputs": [],
   "source": [
    "db = pd.merge(db, db_pop_cities, on='city', how='left')"
   ]
  },
  {
   "cell_type": "markdown",
   "metadata": {},
   "source": [
    "### Let's see NaN's around DF."
   ]
  },
  {
   "cell_type": "code",
   "execution_count": 1486,
   "metadata": {
    "execution": {
     "iopub.execute_input": "2021-12-01T15:41:10.967931Z",
     "iopub.status.busy": "2021-12-01T15:41:10.967538Z",
     "iopub.status.idle": "2021-12-01T15:41:11.035990Z",
     "shell.execute_reply": "2021-12-01T15:41:11.035063Z",
     "shell.execute_reply.started": "2021-12-01T15:41:10.967891Z"
    }
   },
   "outputs": [],
   "source": [
    "db[db['sample'] == 1].isna().sum()"
   ]
  },
  {
   "cell_type": "markdown",
   "metadata": {
    "execution": {
     "iopub.execute_input": "2021-11-29T14:06:18.167110Z",
     "iopub.status.busy": "2021-11-29T14:06:18.166710Z",
     "iopub.status.idle": "2021-11-29T14:06:18.171298Z",
     "shell.execute_reply": "2021-11-29T14:06:18.170409Z",
     "shell.execute_reply.started": "2021-11-29T14:06:18.167044Z"
    }
   },
   "source": [
    "### Heatmap of NaNs"
   ]
  },
  {
   "cell_type": "code",
   "execution_count": 1487,
   "metadata": {
    "execution": {
     "iopub.execute_input": "2021-12-01T15:41:11.037682Z",
     "iopub.status.busy": "2021-12-01T15:41:11.037400Z",
     "iopub.status.idle": "2021-12-01T15:41:12.071257Z",
     "shell.execute_reply": "2021-12-01T15:41:12.070166Z",
     "shell.execute_reply.started": "2021-12-01T15:41:11.037629Z"
    }
   },
   "outputs": [],
   "source": [
    "plt.figure(figsize=(10, 7))\n",
    "sns.heatmap(db[['cuisine_style', 'price_range', 'number_of_reviews', 'reviews']].isnull());"
   ]
  },
  {
   "cell_type": "markdown",
   "metadata": {
    "execution": {
     "iopub.execute_input": "2021-11-29T14:08:16.412696Z",
     "iopub.status.busy": "2021-11-29T14:08:16.412294Z",
     "iopub.status.idle": "2021-11-29T14:08:16.420525Z",
     "shell.execute_reply": "2021-11-29T14:08:16.418849Z",
     "shell.execute_reply.started": "2021-11-29T14:08:16.412653Z"
    }
   },
   "source": [
    "I have NaNs distributing smoothly over dataframe. No groupping.\n",
    "#### So, I need treat NaNs in 3 columns."
   ]
  },
  {
   "cell_type": "code",
   "execution_count": 1488,
   "metadata": {
    "execution": {
     "iopub.execute_input": "2021-12-01T15:41:12.074061Z",
     "iopub.status.busy": "2021-12-01T15:41:12.073335Z",
     "iopub.status.idle": "2021-12-01T15:41:12.156204Z",
     "shell.execute_reply": "2021-12-01T15:41:12.155288Z",
     "shell.execute_reply.started": "2021-12-01T15:41:12.073996Z"
    }
   },
   "outputs": [],
   "source": [
    "db.info()"
   ]
  },
  {
   "cell_type": "markdown",
   "metadata": {},
   "source": [
    "## 2. NAN Treatment"
   ]
  },
  {
   "cell_type": "markdown",
   "metadata": {},
   "source": [
    "#### 'Cuisine Style' column"
   ]
  },
  {
   "cell_type": "markdown",
   "metadata": {},
   "source": [
    "#### First I fill NA in 'cuisine_style' by values from 'cuisines'"
   ]
  },
  {
   "cell_type": "code",
   "execution_count": 1489,
   "metadata": {
    "execution": {
     "iopub.execute_input": "2021-12-01T15:41:12.158674Z",
     "iopub.status.busy": "2021-12-01T15:41:12.158024Z",
     "iopub.status.idle": "2021-12-01T15:41:12.169766Z",
     "shell.execute_reply": "2021-12-01T15:41:12.168863Z",
     "shell.execute_reply.started": "2021-12-01T15:41:12.158596Z"
    }
   },
   "outputs": [],
   "source": [
    "db['cuisine_style_NAN'] = pd.isna(db['cuisine_style']).astype('uint8')"
   ]
  },
  {
   "cell_type": "code",
   "execution_count": 1490,
   "metadata": {
    "execution": {
     "iopub.execute_input": "2021-12-01T15:41:12.181211Z",
     "iopub.status.busy": "2021-12-01T15:41:12.180905Z",
     "iopub.status.idle": "2021-12-01T15:41:12.345227Z",
     "shell.execute_reply": "2021-12-01T15:41:12.344421Z",
     "shell.execute_reply.started": "2021-12-01T15:41:12.181163Z"
    }
   },
   "outputs": [],
   "source": [
    "db['cuisine_style'] = db['cuisine_style'].apply(parse_cuisine)"
   ]
  },
  {
   "cell_type": "code",
   "execution_count": 1491,
   "metadata": {
    "execution": {
     "iopub.execute_input": "2021-12-01T15:41:12.348045Z",
     "iopub.status.busy": "2021-12-01T15:41:12.347610Z",
     "iopub.status.idle": "2021-12-01T15:41:12.360799Z",
     "shell.execute_reply": "2021-12-01T15:41:12.359972Z",
     "shell.execute_reply.started": "2021-12-01T15:41:12.347974Z"
    }
   },
   "outputs": [],
   "source": [
    "db['cuisine_style'] = db['cuisine_style'].fillna('unknown')"
   ]
  },
  {
   "cell_type": "code",
   "execution_count": 1492,
   "metadata": {
    "execution": {
     "iopub.execute_input": "2021-12-01T15:41:12.363782Z",
     "iopub.status.busy": "2021-12-01T15:41:12.363024Z",
     "iopub.status.idle": "2021-12-01T15:41:15.247903Z",
     "shell.execute_reply": "2021-12-01T15:41:15.246950Z",
     "shell.execute_reply.started": "2021-12-01T15:41:12.363719Z"
    }
   },
   "outputs": [],
   "source": [
    "plt.rcParams['figure.figsize'] = (15,5)\n",
    "plt.xticks(rotation=90)\n",
    "sns.countplot(db['cuisine_style'].explode())\n",
    "plt.show()"
   ]
  },
  {
   "cell_type": "markdown",
   "metadata": {},
   "source": [
    "#### 'Price Range' column"
   ]
  },
  {
   "cell_type": "code",
   "execution_count": 1493,
   "metadata": {
    "execution": {
     "iopub.execute_input": "2021-12-01T15:41:15.249599Z",
     "iopub.status.busy": "2021-12-01T15:41:15.249159Z",
     "iopub.status.idle": "2021-12-01T15:41:15.267936Z",
     "shell.execute_reply": "2021-12-01T15:41:15.266917Z",
     "shell.execute_reply.started": "2021-12-01T15:41:15.249556Z"
    }
   },
   "outputs": [],
   "source": [
    "db['price_range'].value_counts(dropna=False)"
   ]
  },
  {
   "cell_type": "code",
   "execution_count": 1494,
   "metadata": {
    "execution": {
     "iopub.execute_input": "2021-12-01T15:41:15.270038Z",
     "iopub.status.busy": "2021-12-01T15:41:15.269717Z",
     "iopub.status.idle": "2021-12-01T15:41:15.291727Z",
     "shell.execute_reply": "2021-12-01T15:41:15.290870Z",
     "shell.execute_reply.started": "2021-12-01T15:41:15.269981Z"
    }
   },
   "outputs": [],
   "source": [
    "perscent_nans(db[db['sample'] == 1]['price_range'])"
   ]
  },
  {
   "cell_type": "markdown",
   "metadata": {},
   "source": [
    "Frame has a lot of missed values. I have treat them. But first I make column of NaN cells. Let's see on distribution."
   ]
  },
  {
   "cell_type": "code",
   "execution_count": 1495,
   "metadata": {
    "execution": {
     "iopub.execute_input": "2021-12-01T15:41:15.293335Z",
     "iopub.status.busy": "2021-12-01T15:41:15.293037Z",
     "iopub.status.idle": "2021-12-01T15:41:15.309121Z",
     "shell.execute_reply": "2021-12-01T15:41:15.308351Z",
     "shell.execute_reply.started": "2021-12-01T15:41:15.293279Z"
    }
   },
   "outputs": [],
   "source": [
    "db['price_range'].replace({'$': 'chip', '$$ - $$$': 'average', '$$$$': 'expensive'}, inplace=True)"
   ]
  },
  {
   "cell_type": "code",
   "execution_count": 1496,
   "metadata": {
    "execution": {
     "iopub.execute_input": "2021-12-01T15:41:15.310999Z",
     "iopub.status.busy": "2021-12-01T15:41:15.310469Z",
     "iopub.status.idle": "2021-12-01T15:41:16.054983Z",
     "shell.execute_reply": "2021-12-01T15:41:16.054214Z",
     "shell.execute_reply.started": "2021-12-01T15:41:15.310952Z"
    }
   },
   "outputs": [],
   "source": [
    "plt.rcParams['figure.figsize'] = (15,5)\n",
    "plt.xticks(rotation=90)\n",
    "sns.countplot(x='city', hue='price_range', data=db[db['sample'] == 1])\n",
    "plt.show()"
   ]
  },
  {
   "cell_type": "code",
   "execution_count": 1497,
   "metadata": {
    "execution": {
     "iopub.execute_input": "2021-12-01T15:41:16.056604Z",
     "iopub.status.busy": "2021-12-01T15:41:16.056201Z",
     "iopub.status.idle": "2021-12-01T15:41:16.377242Z",
     "shell.execute_reply": "2021-12-01T15:41:16.376158Z",
     "shell.execute_reply.started": "2021-12-01T15:41:16.056565Z"
    }
   },
   "outputs": [],
   "source": [
    "plt.rcParams['figure.figsize'] = (15,5)\n",
    "sns.boxplot(x='price_range', y='rating', data=db[db['sample'] == 1])\n",
    "plt.show()"
   ]
  },
  {
   "cell_type": "markdown",
   "metadata": {},
   "source": [
    "Average priced rests are most common in every city and in DF. Most rests have 3.5 - 4.5 marks. There are few outliers, but they are OK."
   ]
  },
  {
   "cell_type": "markdown",
   "metadata": {},
   "source": [
    "Before filling NaNs I'm making Nans column"
   ]
  },
  {
   "cell_type": "code",
   "execution_count": 1498,
   "metadata": {
    "execution": {
     "iopub.execute_input": "2021-12-01T15:41:16.379936Z",
     "iopub.status.busy": "2021-12-01T15:41:16.379178Z",
     "iopub.status.idle": "2021-12-01T15:41:16.396033Z",
     "shell.execute_reply": "2021-12-01T15:41:16.394555Z",
     "shell.execute_reply.started": "2021-12-01T15:41:16.379868Z"
    }
   },
   "outputs": [],
   "source": [
    "db['price_range_NAN'] = pd.isna(db['price_range']).astype('uint8')"
   ]
  },
  {
   "cell_type": "markdown",
   "metadata": {},
   "source": [
    "Everyvere average price restaurans are more frequent. Fill NaNs by modes by cities."
   ]
  },
  {
   "cell_type": "code",
   "execution_count": 1499,
   "metadata": {
    "execution": {
     "iopub.execute_input": "2021-12-01T15:41:16.398513Z",
     "iopub.status.busy": "2021-12-01T15:41:16.398093Z",
     "iopub.status.idle": "2021-12-01T15:41:16.476710Z",
     "shell.execute_reply": "2021-12-01T15:41:16.475893Z",
     "shell.execute_reply.started": "2021-12-01T15:41:16.398449Z"
    }
   },
   "outputs": [],
   "source": [
    "db['price_range'] = db.groupby('city')['price_range'].transform(lambda x: x.fillna(x.mode()[0]))"
   ]
  },
  {
   "cell_type": "code",
   "execution_count": 1500,
   "metadata": {
    "execution": {
     "iopub.execute_input": "2021-12-01T15:41:16.478565Z",
     "iopub.status.busy": "2021-12-01T15:41:16.478159Z",
     "iopub.status.idle": "2021-12-01T15:41:16.509846Z",
     "shell.execute_reply": "2021-12-01T15:41:16.508835Z",
     "shell.execute_reply.started": "2021-12-01T15:41:16.478417Z"
    }
   },
   "outputs": [],
   "source": [
    "db.sample(5)"
   ]
  },
  {
   "cell_type": "markdown",
   "metadata": {},
   "source": [
    "#### 'Reviews' column"
   ]
  },
  {
   "cell_type": "code",
   "execution_count": 1501,
   "metadata": {
    "execution": {
     "iopub.execute_input": "2021-12-01T15:41:16.511697Z",
     "iopub.status.busy": "2021-12-01T15:41:16.511170Z",
     "iopub.status.idle": "2021-12-01T15:41:16.565303Z",
     "shell.execute_reply": "2021-12-01T15:41:16.564517Z",
     "shell.execute_reply.started": "2021-12-01T15:41:16.511447Z"
    }
   },
   "outputs": [],
   "source": [
    "db[db['sample'] == 1]['reviews'].value_counts()"
   ]
  },
  {
   "cell_type": "markdown",
   "metadata": {},
   "source": [
    "Hoh, there is 8112 emplty (not by type, but by scence).\n",
    "Let's check duplicated strings."
   ]
  },
  {
   "cell_type": "code",
   "execution_count": 1502,
   "metadata": {
    "execution": {
     "iopub.execute_input": "2021-12-01T15:41:16.567176Z",
     "iopub.status.busy": "2021-12-01T15:41:16.566878Z",
     "iopub.status.idle": "2021-12-01T15:41:16.592787Z",
     "shell.execute_reply": "2021-12-01T15:41:16.591877Z",
     "shell.execute_reply.started": "2021-12-01T15:41:16.567125Z"
    }
   },
   "outputs": [],
   "source": [
    "db[(db['sample'] == 1) & (db['reviews'].duplicated()) & (db['reviews'] != '[[], []]')]['reviews'].count()"
   ]
  },
  {
   "cell_type": "markdown",
   "metadata": {},
   "source": [
    "Intresting. There are 30 duplicated reviews. Guess it's site bug end I leave it."
   ]
  },
  {
   "cell_type": "code",
   "execution_count": 1503,
   "metadata": {
    "execution": {
     "iopub.execute_input": "2021-12-01T15:41:16.594664Z",
     "iopub.status.busy": "2021-12-01T15:41:16.594132Z",
     "iopub.status.idle": "2021-12-01T15:41:16.624899Z",
     "shell.execute_reply": "2021-12-01T15:41:16.623970Z",
     "shell.execute_reply.started": "2021-12-01T15:41:16.594606Z"
    }
   },
   "outputs": [],
   "source": [
    "db[pd.isna(db['reviews'])]"
   ]
  },
  {
   "cell_type": "markdown",
   "metadata": {},
   "source": [
    "Have only 2. Fill it by '[[], []]'"
   ]
  },
  {
   "cell_type": "code",
   "execution_count": 1504,
   "metadata": {
    "execution": {
     "iopub.execute_input": "2021-12-01T15:41:16.626786Z",
     "iopub.status.busy": "2021-12-01T15:41:16.626272Z",
     "iopub.status.idle": "2021-12-01T15:41:16.641370Z",
     "shell.execute_reply": "2021-12-01T15:41:16.640405Z",
     "shell.execute_reply.started": "2021-12-01T15:41:16.626731Z"
    }
   },
   "outputs": [],
   "source": [
    "db['reviews'] = db['reviews'].fillna('[[], []]')"
   ]
  },
  {
   "cell_type": "code",
   "execution_count": 1505,
   "metadata": {
    "execution": {
     "iopub.execute_input": "2021-12-01T15:41:16.643641Z",
     "iopub.status.busy": "2021-12-01T15:41:16.643194Z",
     "iopub.status.idle": "2021-12-01T15:41:16.649436Z",
     "shell.execute_reply": "2021-12-01T15:41:16.648543Z",
     "shell.execute_reply.started": "2021-12-01T15:41:16.643574Z"
    }
   },
   "outputs": [],
   "source": [
    "# db['reviews_NAN'] = db['reviews'].apply(lambda x: 1 if x == '[[], []]' else 0)"
   ]
  },
  {
   "cell_type": "code",
   "execution_count": 1506,
   "metadata": {
    "execution": {
     "iopub.execute_input": "2021-12-01T15:41:16.651995Z",
     "iopub.status.busy": "2021-12-01T15:41:16.651349Z",
     "iopub.status.idle": "2021-12-01T15:41:28.761472Z",
     "shell.execute_reply": "2021-12-01T15:41:28.760369Z",
     "shell.execute_reply.started": "2021-12-01T15:41:16.651935Z"
    }
   },
   "outputs": [],
   "source": [
    "db[['comment', 'f_date', 's_date']] = db.apply(lambda x: parse_reviews(x['reviews']), axis=1, result_type='expand')"
   ]
  },
  {
   "cell_type": "code",
   "execution_count": 1507,
   "metadata": {
    "execution": {
     "iopub.execute_input": "2021-12-01T15:41:28.763203Z",
     "iopub.status.busy": "2021-12-01T15:41:28.762899Z",
     "iopub.status.idle": "2021-12-01T15:42:17.104902Z",
     "shell.execute_reply": "2021-12-01T15:42:17.104036Z",
     "shell.execute_reply.started": "2021-12-01T15:41:28.763149Z"
    }
   },
   "outputs": [],
   "source": [
    "db[['dif_days', 'days_from_last']] = db.apply(lambda x: calc_days(x[['f_date', 's_date']]), axis=1, result_type='expand')"
   ]
  },
  {
   "cell_type": "code",
   "execution_count": 1508,
   "metadata": {
    "execution": {
     "iopub.execute_input": "2021-12-01T15:42:17.106638Z",
     "iopub.status.busy": "2021-12-01T15:42:17.106380Z",
     "iopub.status.idle": "2021-12-01T15:42:17.525356Z",
     "shell.execute_reply": "2021-12-01T15:42:17.524251Z",
     "shell.execute_reply.started": "2021-12-01T15:42:17.106595Z"
    }
   },
   "outputs": [],
   "source": [
    "distplot_for_onecolumn(db[db['sample'] == 1]['dif_days'])"
   ]
  },
  {
   "cell_type": "code",
   "execution_count": 1509,
   "metadata": {
    "execution": {
     "iopub.execute_input": "2021-12-01T15:42:17.528138Z",
     "iopub.status.busy": "2021-12-01T15:42:17.527552Z",
     "iopub.status.idle": "2021-12-01T15:42:17.981559Z",
     "shell.execute_reply": "2021-12-01T15:42:17.980085Z",
     "shell.execute_reply.started": "2021-12-01T15:42:17.527894Z"
    }
   },
   "outputs": [],
   "source": [
    "distplot_for_onecolumn(db[db['sample'] == 1]['days_from_last'])"
   ]
  },
  {
   "cell_type": "code",
   "execution_count": 1510,
   "metadata": {
    "execution": {
     "iopub.execute_input": "2021-12-01T15:42:17.984244Z",
     "iopub.status.busy": "2021-12-01T15:42:17.983565Z",
     "iopub.status.idle": "2021-12-01T15:42:18.024444Z",
     "shell.execute_reply": "2021-12-01T15:42:18.023364Z",
     "shell.execute_reply.started": "2021-12-01T15:42:17.983915Z"
    }
   },
   "outputs": [],
   "source": [
    "perc_iqr(db[db['sample'] == 1]['days_from_last'])"
   ]
  },
  {
   "cell_type": "markdown",
   "metadata": {},
   "source": [
    "So, there are 2 normal distributions. In Days from Last I'll replace 0 to median."
   ]
  },
  {
   "cell_type": "code",
   "execution_count": 1511,
   "metadata": {
    "execution": {
     "iopub.execute_input": "2021-12-01T15:42:18.027346Z",
     "iopub.status.busy": "2021-12-01T15:42:18.027001Z",
     "iopub.status.idle": "2021-12-01T15:42:18.080617Z",
     "shell.execute_reply": "2021-12-01T15:42:18.079781Z",
     "shell.execute_reply.started": "2021-12-01T15:42:18.027298Z"
    }
   },
   "outputs": [],
   "source": [
    "median_days_from_last = db[db['sample'] == 1]['days_from_last'].median()\n",
    "db['days_from_last'] = db['days_from_last'].apply(lambda x: median_days_from_last if x == 0 else x)"
   ]
  },
  {
   "cell_type": "code",
   "execution_count": 1512,
   "metadata": {
    "execution": {
     "iopub.execute_input": "2021-12-01T15:42:18.083100Z",
     "iopub.status.busy": "2021-12-01T15:42:18.082477Z",
     "iopub.status.idle": "2021-12-01T15:42:18.504018Z",
     "shell.execute_reply": "2021-12-01T15:42:18.502994Z",
     "shell.execute_reply.started": "2021-12-01T15:42:18.082835Z"
    }
   },
   "outputs": [],
   "source": [
    "distplot_for_onecolumn(db[db['sample'] == 1]['days_from_last'])"
   ]
  },
  {
   "cell_type": "markdown",
   "metadata": {},
   "source": [
    "#### 'Number of Reviews' column"
   ]
  },
  {
   "cell_type": "code",
   "execution_count": 1513,
   "metadata": {
    "execution": {
     "iopub.execute_input": "2021-12-01T15:42:18.506462Z",
     "iopub.status.busy": "2021-12-01T15:42:18.505781Z",
     "iopub.status.idle": "2021-12-01T15:42:18.539476Z",
     "shell.execute_reply": "2021-12-01T15:42:18.538459Z",
     "shell.execute_reply.started": "2021-12-01T15:42:18.506387Z"
    }
   },
   "outputs": [],
   "source": [
    "db[db['sample'] == 1]['number_of_reviews'].isna().sum()"
   ]
  },
  {
   "cell_type": "code",
   "execution_count": 1514,
   "metadata": {
    "execution": {
     "iopub.execute_input": "2021-12-01T15:42:18.542015Z",
     "iopub.status.busy": "2021-12-01T15:42:18.541313Z",
     "iopub.status.idle": "2021-12-01T15:42:18.563590Z",
     "shell.execute_reply": "2021-12-01T15:42:18.562721Z",
     "shell.execute_reply.started": "2021-12-01T15:42:18.541947Z"
    }
   },
   "outputs": [],
   "source": [
    "perscent_nans(db[db['sample'] == 1]['number_of_reviews'])"
   ]
  },
  {
   "cell_type": "markdown",
   "metadata": {},
   "source": [
    "Number of missed cells in 'number_of_reviews' column is miserable. But I fix it by func."
   ]
  },
  {
   "cell_type": "code",
   "execution_count": 1515,
   "metadata": {
    "execution": {
     "iopub.execute_input": "2021-12-01T15:42:18.565347Z",
     "iopub.status.busy": "2021-12-01T15:42:18.565057Z",
     "iopub.status.idle": "2021-12-01T15:42:18.834693Z",
     "shell.execute_reply": "2021-12-01T15:42:18.833642Z",
     "shell.execute_reply.started": "2021-12-01T15:42:18.565300Z"
    }
   },
   "outputs": [],
   "source": [
    "sns.boxplot(db[db['sample'] == 1]['number_of_reviews'])\n",
    "plt.show()"
   ]
  },
  {
   "cell_type": "code",
   "execution_count": 1516,
   "metadata": {
    "execution": {
     "iopub.execute_input": "2021-12-01T15:42:18.837377Z",
     "iopub.status.busy": "2021-12-01T15:42:18.836658Z",
     "iopub.status.idle": "2021-12-01T15:42:18.880786Z",
     "shell.execute_reply": "2021-12-01T15:42:18.879610Z",
     "shell.execute_reply.started": "2021-12-01T15:42:18.837308Z"
    }
   },
   "outputs": [],
   "source": [
    "iqr_rev = perc_iqr(db[db['sample'] == 1]['number_of_reviews'])"
   ]
  },
  {
   "cell_type": "code",
   "execution_count": 1517,
   "metadata": {
    "execution": {
     "iopub.execute_input": "2021-12-01T15:42:18.883127Z",
     "iopub.status.busy": "2021-12-01T15:42:18.882387Z",
     "iopub.status.idle": "2021-12-01T15:42:19.840046Z",
     "shell.execute_reply": "2021-12-01T15:42:19.839103Z",
     "shell.execute_reply.started": "2021-12-01T15:42:18.882714Z"
    }
   },
   "outputs": [],
   "source": [
    "plt.rcParams['figure.figsize'] = (15,10)\n",
    "plt.xticks(rotation=90)\n",
    "sns.boxplot(x='city', y='number_of_reviews', data=db[db['sample'] == 1])\n",
    "plt.show()"
   ]
  },
  {
   "cell_type": "code",
   "execution_count": 1518,
   "metadata": {
    "execution": {
     "iopub.execute_input": "2021-12-01T15:42:19.841428Z",
     "iopub.status.busy": "2021-12-01T15:42:19.841162Z",
     "iopub.status.idle": "2021-12-01T15:42:20.261112Z",
     "shell.execute_reply": "2021-12-01T15:42:20.259892Z",
     "shell.execute_reply.started": "2021-12-01T15:42:19.841384Z"
    }
   },
   "outputs": [],
   "source": [
    "distplot_for_onecolumn(db[db['sample'] == 1]['number_of_reviews'].dropna())"
   ]
  },
  {
   "cell_type": "markdown",
   "metadata": {},
   "source": [
    "There are so many outliers. But I wouldn't fix it because of some rests have a lot of comments in real, others - a few. It is not bad. But found out outliers by price range. Intresting..."
   ]
  },
  {
   "cell_type": "code",
   "execution_count": 1519,
   "metadata": {
    "execution": {
     "iopub.execute_input": "2021-12-01T15:42:20.264139Z",
     "iopub.status.busy": "2021-12-01T15:42:20.263432Z",
     "iopub.status.idle": "2021-12-01T15:42:24.738738Z",
     "shell.execute_reply": "2021-12-01T15:42:24.737509Z",
     "shell.execute_reply.started": "2021-12-01T15:42:20.264056Z"
    }
   },
   "outputs": [],
   "source": [
    "db[db['number_of_reviews'] > 2000].groupby(['city', 'price_range'])['number_of_reviews'].count()\n",
    "plt.rcParams['figure.figsize'] = (15,7)\n",
    "plt.xticks(rotation=90)\n",
    "sns.barplot(x='city', y='number_of_reviews', hue='price_range', data=db[(db['number_of_reviews'] > 300) & (db['sample'] == 1)])\n",
    "plt.show()"
   ]
  },
  {
   "cell_type": "markdown",
   "metadata": {},
   "source": [
    "Good distribution among outliers values. Let it be. just fill empty cells.\n",
    "First make NaNs column"
   ]
  },
  {
   "cell_type": "code",
   "execution_count": 1520,
   "metadata": {
    "execution": {
     "iopub.execute_input": "2021-12-01T15:42:24.741020Z",
     "iopub.status.busy": "2021-12-01T15:42:24.740609Z",
     "iopub.status.idle": "2021-12-01T15:42:24.750057Z",
     "shell.execute_reply": "2021-12-01T15:42:24.748850Z",
     "shell.execute_reply.started": "2021-12-01T15:42:24.740936Z"
    }
   },
   "outputs": [],
   "source": [
    "db['number_of_reviews_NAN'] = pd.isna(db['number_of_reviews']).astype('uint8')"
   ]
  },
  {
   "cell_type": "code",
   "execution_count": 1521,
   "metadata": {
    "execution": {
     "iopub.execute_input": "2021-12-01T15:42:24.752551Z",
     "iopub.status.busy": "2021-12-01T15:42:24.752032Z",
     "iopub.status.idle": "2021-12-01T15:42:26.532853Z",
     "shell.execute_reply": "2021-12-01T15:42:26.532028Z",
     "shell.execute_reply.started": "2021-12-01T15:42:24.752470Z"
    }
   },
   "outputs": [],
   "source": [
    "db['number_of_reviews'] = db.apply(lambda x: parse_nan_rev(str(x['reviews'])) \n",
    "                                  if pd.isna(x['number_of_reviews']) else x['number_of_reviews'], axis=1)"
   ]
  },
  {
   "cell_type": "code",
   "execution_count": 1522,
   "metadata": {
    "execution": {
     "iopub.execute_input": "2021-12-01T15:42:26.534705Z",
     "iopub.status.busy": "2021-12-01T15:42:26.534430Z",
     "iopub.status.idle": "2021-12-01T15:42:26.861141Z",
     "shell.execute_reply": "2021-12-01T15:42:26.859956Z",
     "shell.execute_reply.started": "2021-12-01T15:42:26.534654Z"
    }
   },
   "outputs": [],
   "source": [
    "distplot_for_onecolumn(db[db['sample'] == 1]['number_of_reviews'])"
   ]
  },
  {
   "cell_type": "code",
   "execution_count": 1523,
   "metadata": {
    "execution": {
     "iopub.execute_input": "2021-12-01T15:42:26.863160Z",
     "iopub.status.busy": "2021-12-01T15:42:26.862777Z",
     "iopub.status.idle": "2021-12-01T15:42:26.943320Z",
     "shell.execute_reply": "2021-12-01T15:42:26.942099Z",
     "shell.execute_reply.started": "2021-12-01T15:42:26.863101Z"
    }
   },
   "outputs": [],
   "source": [
    "db.info()"
   ]
  },
  {
   "cell_type": "markdown",
   "metadata": {},
   "source": [
    "## 3. Treatment of numeric columns"
   ]
  },
  {
   "cell_type": "markdown",
   "metadata": {
    "execution": {
     "iopub.execute_input": "2021-11-30T13:35:21.019685Z",
     "iopub.status.busy": "2021-11-30T13:35:21.019334Z",
     "iopub.status.idle": "2021-11-30T13:35:21.024547Z",
     "shell.execute_reply": "2021-11-30T13:35:21.023560Z",
     "shell.execute_reply.started": "2021-11-30T13:35:21.019638Z"
    }
   },
   "source": [
    "#### Ranking column"
   ]
  },
  {
   "cell_type": "code",
   "execution_count": 1524,
   "metadata": {
    "execution": {
     "iopub.execute_input": "2021-12-01T15:42:26.945590Z",
     "iopub.status.busy": "2021-12-01T15:42:26.945030Z",
     "iopub.status.idle": "2021-12-01T15:42:29.988246Z",
     "shell.execute_reply": "2021-12-01T15:42:29.987271Z",
     "shell.execute_reply.started": "2021-12-01T15:42:26.945369Z"
    }
   },
   "outputs": [],
   "source": [
    "for i in (db['city'].value_counts())[0:10].index:\n",
    "    plt.rcParams['figure.figsize'] = (15,7)\n",
    "    plt.xticks(rotation=90)\n",
    "    sns.distplot(db['ranking'][db['city'] == i], bins=100)\n",
    "plt.show()"
   ]
  },
  {
   "cell_type": "markdown",
   "metadata": {},
   "source": [
    "The distribution for each city is normal. So, let's normalize min-max all ranking column by city to new column."
   ]
  },
  {
   "cell_type": "code",
   "execution_count": 1525,
   "metadata": {
    "execution": {
     "iopub.execute_input": "2021-12-01T15:42:29.990395Z",
     "iopub.status.busy": "2021-12-01T15:42:29.989841Z",
     "iopub.status.idle": "2021-12-01T15:42:32.980735Z",
     "shell.execute_reply": "2021-12-01T15:42:32.980009Z",
     "shell.execute_reply.started": "2021-12-01T15:42:29.990325Z"
    }
   },
   "outputs": [],
   "source": [
    "rank_minmax = db.groupby('city')['ranking'].agg(['min', 'max']).to_dict()\n",
    "db['weight_rank'] = db.apply(lambda x: 1 - (x['ranking'] - rank_minmax['min'][x['city']])/(rank_minmax['max'][x['city']] \n",
    "                                                                                           - rank_minmax['min'][x['city']]), axis=1)"
   ]
  },
  {
   "cell_type": "code",
   "execution_count": 1526,
   "metadata": {
    "execution": {
     "iopub.execute_input": "2021-12-01T15:42:32.982741Z",
     "iopub.status.busy": "2021-12-01T15:42:32.982199Z",
     "iopub.status.idle": "2021-12-01T15:42:35.994086Z",
     "shell.execute_reply": "2021-12-01T15:42:35.993347Z",
     "shell.execute_reply.started": "2021-12-01T15:42:32.982673Z"
    }
   },
   "outputs": [],
   "source": [
    "for i in (db['city'].value_counts())[0:10].index:\n",
    "    plt.rcParams['figure.figsize'] = (15,7)\n",
    "    plt.xticks(rotation=90)\n",
    "    sns.distplot(db['weight_rank'][db['city'] == i], bins=100)\n",
    "plt.show()"
   ]
  },
  {
   "cell_type": "markdown",
   "metadata": {},
   "source": [
    "Wonderful!"
   ]
  },
  {
   "cell_type": "markdown",
   "metadata": {},
   "source": [
    "#### ID_TA column"
   ]
  },
  {
   "cell_type": "markdown",
   "metadata": {},
   "source": [
    "Let's try convert this column to numeric."
   ]
  },
  {
   "cell_type": "code",
   "execution_count": 1527,
   "metadata": {
    "execution": {
     "iopub.execute_input": "2021-12-01T15:42:35.995533Z",
     "iopub.status.busy": "2021-12-01T15:42:35.995161Z",
     "iopub.status.idle": "2021-12-01T15:42:36.038437Z",
     "shell.execute_reply": "2021-12-01T15:42:36.037467Z",
     "shell.execute_reply.started": "2021-12-01T15:42:35.995495Z"
    }
   },
   "outputs": [],
   "source": [
    "db['id_ta'] = db['id_ta'].apply(lambda x: x[1:]).astype(int)"
   ]
  },
  {
   "cell_type": "code",
   "execution_count": 1528,
   "metadata": {
    "execution": {
     "iopub.execute_input": "2021-12-01T15:42:36.042373Z",
     "iopub.status.busy": "2021-12-01T15:42:36.042062Z",
     "iopub.status.idle": "2021-12-01T15:42:36.438913Z",
     "shell.execute_reply": "2021-12-01T15:42:36.437456Z",
     "shell.execute_reply.started": "2021-12-01T15:42:36.042326Z"
    }
   },
   "outputs": [],
   "source": [
    "plt.rcParams['figure.figsize'] = (15,5)\n",
    "plt.xticks(rotation=90)\n",
    "sns.distplot(db['id_ta'])\n",
    "plt.show()"
   ]
  },
  {
   "cell_type": "markdown",
   "metadata": {},
   "source": [
    "#### Price Range column to numeric"
   ]
  },
  {
   "cell_type": "code",
   "execution_count": 1529,
   "metadata": {
    "execution": {
     "iopub.execute_input": "2021-12-01T15:42:36.441899Z",
     "iopub.status.busy": "2021-12-01T15:42:36.441094Z",
     "iopub.status.idle": "2021-12-01T15:42:36.489755Z",
     "shell.execute_reply": "2021-12-01T15:42:36.488754Z",
     "shell.execute_reply.started": "2021-12-01T15:42:36.441472Z"
    }
   },
   "outputs": [],
   "source": [
    "db['price_range_num'] = db['price_range'].replace({'chip': 1, 'average': 2, 'expensive': 3})"
   ]
  },
  {
   "cell_type": "code",
   "execution_count": 1530,
   "metadata": {
    "execution": {
     "iopub.execute_input": "2021-12-01T15:42:36.491221Z",
     "iopub.status.busy": "2021-12-01T15:42:36.490964Z",
     "iopub.status.idle": "2021-12-01T15:42:36.508974Z",
     "shell.execute_reply": "2021-12-01T15:42:36.507989Z",
     "shell.execute_reply.started": "2021-12-01T15:42:36.491178Z"
    }
   },
   "outputs": [],
   "source": [
    "# Column with mean price range by city\n",
    "db['price_range_mean'] = db.groupby('city')['price_range_num'].transform('mean')"
   ]
  },
  {
   "cell_type": "markdown",
   "metadata": {},
   "source": [
    "#### Cuisine style to numeric"
   ]
  },
  {
   "cell_type": "code",
   "execution_count": 1531,
   "metadata": {
    "execution": {
     "iopub.execute_input": "2021-12-01T15:42:36.510874Z",
     "iopub.status.busy": "2021-12-01T15:42:36.510536Z",
     "iopub.status.idle": "2021-12-01T15:42:36.549965Z",
     "shell.execute_reply": "2021-12-01T15:42:36.548998Z",
     "shell.execute_reply.started": "2021-12-01T15:42:36.510792Z"
    }
   },
   "outputs": [],
   "source": [
    "# number of cuisines in restaurant\n",
    "db['number_of_cuisine'] = db['cuisine_style'].apply(lambda x: len(x))"
   ]
  },
  {
   "cell_type": "code",
   "execution_count": 1532,
   "metadata": {
    "execution": {
     "iopub.execute_input": "2021-12-01T15:42:36.551643Z",
     "iopub.status.busy": "2021-12-01T15:42:36.551143Z",
     "iopub.status.idle": "2021-12-01T15:42:36.570505Z",
     "shell.execute_reply": "2021-12-01T15:42:36.569574Z",
     "shell.execute_reply.started": "2021-12-01T15:42:36.551598Z"
    }
   },
   "outputs": [],
   "source": [
    "# Mean of cuicines by city\n",
    "db['cuisine_mean_by_city'] = db.groupby('city')['number_of_cuisine'].transform('mean')"
   ]
  },
  {
   "cell_type": "markdown",
   "metadata": {},
   "source": [
    "### Index column block"
   ]
  },
  {
   "cell_type": "code",
   "execution_count": 1533,
   "metadata": {
    "execution": {
     "iopub.execute_input": "2021-12-01T15:42:36.572362Z",
     "iopub.status.busy": "2021-12-01T15:42:36.571915Z",
     "iopub.status.idle": "2021-12-01T15:42:36.587439Z",
     "shell.execute_reply": "2021-12-01T15:42:36.586689Z",
     "shell.execute_reply.started": "2021-12-01T15:42:36.572300Z"
    }
   },
   "outputs": [],
   "source": [
    "# Adding country index column\n",
    "db['country_idx'] = db['country'].map(country_index_dict)"
   ]
  },
  {
   "cell_type": "code",
   "execution_count": 1534,
   "metadata": {
    "execution": {
     "iopub.execute_input": "2021-12-01T15:42:36.589184Z",
     "iopub.status.busy": "2021-12-01T15:42:36.588676Z",
     "iopub.status.idle": "2021-12-01T15:42:36.608013Z",
     "shell.execute_reply": "2021-12-01T15:42:36.607255Z",
     "shell.execute_reply.started": "2021-12-01T15:42:36.589137Z"
    }
   },
   "outputs": [],
   "source": [
    "# Adding city index column\n",
    "db['city_idx'] = db['city'].map(city_index_dict)"
   ]
  },
  {
   "cell_type": "code",
   "execution_count": 1535,
   "metadata": {
    "execution": {
     "iopub.execute_input": "2021-12-01T15:42:36.609728Z",
     "iopub.status.busy": "2021-12-01T15:42:36.609282Z",
     "iopub.status.idle": "2021-12-01T15:42:36.627471Z",
     "shell.execute_reply": "2021-12-01T15:42:36.626321Z",
     "shell.execute_reply.started": "2021-12-01T15:42:36.609687Z"
    }
   },
   "outputs": [],
   "source": [
    "# Adding Crime index column by city\n",
    "db['crime_city_idx'] = db['city'].map(crime_index_dict)"
   ]
  },
  {
   "cell_type": "code",
   "execution_count": 1536,
   "metadata": {
    "execution": {
     "iopub.execute_input": "2021-12-01T15:42:36.629492Z",
     "iopub.status.busy": "2021-12-01T15:42:36.628987Z",
     "iopub.status.idle": "2021-12-01T15:42:36.646410Z",
     "shell.execute_reply": "2021-12-01T15:42:36.645461Z",
     "shell.execute_reply.started": "2021-12-01T15:42:36.629245Z"
    }
   },
   "outputs": [],
   "source": [
    "# Adding restaurants price index column by city\n",
    "db['price_city_idx'] = db['city'].map(rest_price_city_index_dict)"
   ]
  },
  {
   "cell_type": "markdown",
   "metadata": {},
   "source": [
    "### Dummies block"
   ]
  },
  {
   "cell_type": "markdown",
   "metadata": {},
   "source": [
    "#### Mono cuisine or multi (depends on more or less then mean by city)"
   ]
  },
  {
   "cell_type": "code",
   "execution_count": 1537,
   "metadata": {
    "execution": {
     "iopub.execute_input": "2021-12-01T15:42:36.648243Z",
     "iopub.status.busy": "2021-12-01T15:42:36.647911Z",
     "iopub.status.idle": "2021-12-01T15:42:38.419169Z",
     "shell.execute_reply": "2021-12-01T15:42:38.418350Z",
     "shell.execute_reply.started": "2021-12-01T15:42:36.648188Z"
    }
   },
   "outputs": [],
   "source": [
    "db['ismono_cuisine'] = db.apply(lambda x: 'mono' if x['number_of_cuisine'] < x['cuisine_mean_by_city'] \n",
    "                               else 'multi', axis=1)\n",
    "dumm_ismono_cuisine = pd.get_dummies(db['ismono_cuisine'], prefix='cuisine')\n",
    "db = pd.concat([db, dumm_ismono_cuisine], axis=1, join='outer')"
   ]
  },
  {
   "cell_type": "markdown",
   "metadata": {
    "execution": {
     "iopub.execute_input": "2021-12-01T11:34:04.645868Z",
     "iopub.status.busy": "2021-12-01T11:34:04.645395Z",
     "iopub.status.idle": "2021-12-01T11:34:04.650794Z",
     "shell.execute_reply": "2021-12-01T11:34:04.649943Z",
     "shell.execute_reply.started": "2021-12-01T11:34:04.645828Z"
    }
   },
   "source": [
    "#### Price range dummies"
   ]
  },
  {
   "cell_type": "code",
   "execution_count": 1538,
   "metadata": {
    "execution": {
     "iopub.execute_input": "2021-12-01T15:42:38.421168Z",
     "iopub.status.busy": "2021-12-01T15:42:38.420709Z",
     "iopub.status.idle": "2021-12-01T15:42:38.424976Z",
     "shell.execute_reply": "2021-12-01T15:42:38.424085Z",
     "shell.execute_reply.started": "2021-12-01T15:42:38.421018Z"
    }
   },
   "outputs": [],
   "source": [
    "# dumm_price_range = pd.get_dummies(db['price_range'])\n",
    "# db = pd.concat([db, dumm_price_range], axis=1, join='outer')"
   ]
  },
  {
   "cell_type": "markdown",
   "metadata": {},
   "source": [
    "#### City dummies"
   ]
  },
  {
   "cell_type": "code",
   "execution_count": 1539,
   "metadata": {
    "execution": {
     "iopub.execute_input": "2021-12-01T15:42:38.426928Z",
     "iopub.status.busy": "2021-12-01T15:42:38.426558Z",
     "iopub.status.idle": "2021-12-01T15:42:38.501909Z",
     "shell.execute_reply": "2021-12-01T15:42:38.500794Z",
     "shell.execute_reply.started": "2021-12-01T15:42:38.426849Z"
    }
   },
   "outputs": [],
   "source": [
    "dumm_city = pd.get_dummies(db['city'], prefix='city')\n",
    "db = pd.concat([db, dumm_city], axis=1, join='outer')"
   ]
  },
  {
   "cell_type": "markdown",
   "metadata": {
    "execution": {
     "iopub.execute_input": "2021-12-01T10:26:31.957469Z",
     "iopub.status.busy": "2021-12-01T10:26:31.957138Z",
     "iopub.status.idle": "2021-12-01T10:26:32.021637Z",
     "shell.execute_reply": "2021-12-01T10:26:32.020767Z",
     "shell.execute_reply.started": "2021-12-01T10:26:31.957419Z"
    }
   },
   "source": [
    "#### Cuisine dummies"
   ]
  },
  {
   "cell_type": "code",
   "execution_count": 1540,
   "metadata": {
    "execution": {
     "iopub.execute_input": "2021-12-01T15:42:38.503821Z",
     "iopub.status.busy": "2021-12-01T15:42:38.503447Z",
     "iopub.status.idle": "2021-12-01T15:42:39.300082Z",
     "shell.execute_reply": "2021-12-01T15:42:39.299098Z",
     "shell.execute_reply.started": "2021-12-01T15:42:38.503752Z"
    }
   },
   "outputs": [],
   "source": [
    "dumm_cuisine_style = pd.get_dummies(db['cuisine_style'].explode()).groupby(level=0).sum()\n",
    "db = pd.concat([db, dumm_cuisine_style], axis=1, join='outer')"
   ]
  },
  {
   "cell_type": "code",
   "execution_count": 1541,
   "metadata": {
    "execution": {
     "iopub.execute_input": "2021-12-01T15:42:39.302183Z",
     "iopub.status.busy": "2021-12-01T15:42:39.301786Z",
     "iopub.status.idle": "2021-12-01T15:42:39.421655Z",
     "shell.execute_reply": "2021-12-01T15:42:39.420699Z",
     "shell.execute_reply.started": "2021-12-01T15:42:39.302115Z"
    }
   },
   "outputs": [],
   "source": [
    "city_counts_list = db.groupby('city')['ranking'].count().sort_values(ascending=False).head(10).index.to_list()\n",
    "db['top10_cities'] = db['city'].apply(lambda x: x if x in city_counts_list else 'other')\n",
    "dumm_top10_city = pd.get_dummies(db['top10_cities'], prefix='topcity')\n",
    "db = pd.concat([db, dumm_top10_city], axis=1, join='outer')"
   ]
  },
  {
   "cell_type": "markdown",
   "metadata": {},
   "source": [
    "### New features"
   ]
  },
  {
   "cell_type": "code",
   "execution_count": 1542,
   "metadata": {
    "execution": {
     "iopub.execute_input": "2021-12-01T15:42:39.423671Z",
     "iopub.status.busy": "2021-12-01T15:42:39.423314Z",
     "iopub.status.idle": "2021-12-01T15:42:39.480232Z",
     "shell.execute_reply": "2021-12-01T15:42:39.479215Z",
     "shell.execute_reply.started": "2021-12-01T15:42:39.423604Z"
    }
   },
   "outputs": [],
   "source": [
    "# Restaurant ID - tranform to number (quantity of net)\n",
    "db['rest_id_num'] = db.groupby('restaurant_id')['ranking'].transform('count')"
   ]
  },
  {
   "cell_type": "code",
   "execution_count": 1543,
   "metadata": {
    "execution": {
     "iopub.execute_input": "2021-12-01T15:42:39.481683Z",
     "iopub.status.busy": "2021-12-01T15:42:39.481447Z",
     "iopub.status.idle": "2021-12-01T15:42:41.950174Z",
     "shell.execute_reply": "2021-12-01T15:42:41.949389Z",
     "shell.execute_reply.started": "2021-12-01T15:42:39.481643Z"
    }
   },
   "outputs": [],
   "source": [
    "# Column of depend ranking of quantity rests in city\n",
    "db['rests_in_city'] = db.groupby('city')['ranking'].transform('count')\n",
    "db['rank_by_citycount'] = db.apply(lambda x: x['ranking'] / x['rests_in_city'], axis=1)"
   ]
  },
  {
   "cell_type": "code",
   "execution_count": 1544,
   "metadata": {
    "execution": {
     "iopub.execute_input": "2021-12-01T15:42:41.951880Z",
     "iopub.status.busy": "2021-12-01T15:42:41.951604Z",
     "iopub.status.idle": "2021-12-01T15:42:41.960431Z",
     "shell.execute_reply": "2021-12-01T15:42:41.959457Z",
     "shell.execute_reply.started": "2021-12-01T15:42:41.951831Z"
    }
   },
   "outputs": [],
   "source": [
    "# Column of depend number of rests in city to population of city\n",
    "db['rests_per_pop'] = round((db['rests_in_city'] / db['pop']) * 1000, 4)"
   ]
  },
  {
   "cell_type": "code",
   "execution_count": 1545,
   "metadata": {
    "execution": {
     "iopub.execute_input": "2021-12-01T15:42:41.961990Z",
     "iopub.status.busy": "2021-12-01T15:42:41.961684Z",
     "iopub.status.idle": "2021-12-01T15:42:41.970922Z",
     "shell.execute_reply": "2021-12-01T15:42:41.970110Z",
     "shell.execute_reply.started": "2021-12-01T15:42:41.961949Z"
    }
   },
   "outputs": [],
   "source": [
    "# Ranking of quantity rests in city to population\n",
    "db['wrank_by_pop'] = db['rank_by_citycount'] / db['pop']"
   ]
  },
  {
   "cell_type": "code",
   "execution_count": 1546,
   "metadata": {
    "execution": {
     "iopub.execute_input": "2021-12-01T15:42:41.972998Z",
     "iopub.status.busy": "2021-12-01T15:42:41.972694Z",
     "iopub.status.idle": "2021-12-01T15:42:41.986893Z",
     "shell.execute_reply": "2021-12-01T15:42:41.985745Z",
     "shell.execute_reply.started": "2021-12-01T15:42:41.972945Z"
    }
   },
   "outputs": [],
   "source": [
    "db['review_to_pop'] = db['number_of_reviews'] / db['pop']\n",
    "db['rank_with_review_to_pop'] = db['rank_by_citycount'] * db['review_to_pop']"
   ]
  },
  {
   "cell_type": "code",
   "execution_count": 1547,
   "metadata": {
    "execution": {
     "iopub.execute_input": "2021-12-01T15:42:41.988460Z",
     "iopub.status.busy": "2021-12-01T15:42:41.988116Z",
     "iopub.status.idle": "2021-12-01T15:42:42.009103Z",
     "shell.execute_reply": "2021-12-01T15:42:42.008242Z",
     "shell.execute_reply.started": "2021-12-01T15:42:41.988408Z"
    }
   },
   "outputs": [],
   "source": [
    "db['rewies_per_city'] = db.groupby('city')['number_of_reviews'].transform('sum')\n",
    "db['rank_to_reviews_per_city'] = db['ranking'] / db['rewies_per_city']"
   ]
  },
  {
   "cell_type": "code",
   "execution_count": 1548,
   "metadata": {
    "execution": {
     "iopub.execute_input": "2021-12-01T15:42:42.010658Z",
     "iopub.status.busy": "2021-12-01T15:42:42.010409Z",
     "iopub.status.idle": "2021-12-01T15:42:42.018199Z",
     "shell.execute_reply": "2021-12-01T15:42:42.017211Z",
     "shell.execute_reply.started": "2021-12-01T15:42:42.010615Z"
    }
   },
   "outputs": [],
   "source": [
    "db['rank_to_review_to_rest_id'] = db['number_of_reviews'] * db['rest_id_num'] * db['ranking']"
   ]
  },
  {
   "cell_type": "code",
   "execution_count": 1549,
   "metadata": {
    "execution": {
     "iopub.execute_input": "2021-12-01T15:42:42.019801Z",
     "iopub.status.busy": "2021-12-01T15:42:42.019526Z",
     "iopub.status.idle": "2021-12-01T15:42:42.144280Z",
     "shell.execute_reply": "2021-12-01T15:42:42.143319Z",
     "shell.execute_reply.started": "2021-12-01T15:42:42.019756Z"
    }
   },
   "outputs": [],
   "source": [
    "db['rank_city'] = db['city'].rank()"
   ]
  },
  {
   "cell_type": "code",
   "execution_count": 1550,
   "metadata": {
    "execution": {
     "iopub.execute_input": "2021-12-01T15:42:42.146570Z",
     "iopub.status.busy": "2021-12-01T15:42:42.145976Z",
     "iopub.status.idle": "2021-12-01T15:42:42.178040Z",
     "shell.execute_reply": "2021-12-01T15:42:42.176755Z",
     "shell.execute_reply.started": "2021-12-01T15:42:42.146309Z"
    }
   },
   "outputs": [],
   "source": [
    "# How lengh of comment affects to rating\n",
    "db['comment_len'] = db['comment'].apply(len)"
   ]
  },
  {
   "cell_type": "markdown",
   "metadata": {},
   "source": [
    "### Yes-No columns"
   ]
  },
  {
   "cell_type": "code",
   "execution_count": 1555,
   "metadata": {
    "execution": {
     "iopub.execute_input": "2021-12-01T15:42:44.854672Z",
     "iopub.status.busy": "2021-12-01T15:42:44.852036Z",
     "iopub.status.idle": "2021-12-01T15:42:44.892724Z",
     "shell.execute_reply": "2021-12-01T15:42:44.891995Z",
     "shell.execute_reply.started": "2021-12-01T15:42:44.854621Z"
    }
   },
   "outputs": [],
   "source": [
    "db['rest_id_isnet'] = db['rest_id_num'].apply(lambda x: 1 if x == 1 else 0)"
   ]
  },
  {
   "cell_type": "code",
   "execution_count": 1556,
   "metadata": {
    "execution": {
     "iopub.execute_input": "2021-12-01T15:42:44.894896Z",
     "iopub.status.busy": "2021-12-01T15:42:44.894180Z",
     "iopub.status.idle": "2021-12-01T15:42:44.935582Z",
     "shell.execute_reply": "2021-12-01T15:42:44.934523Z",
     "shell.execute_reply.started": "2021-12-01T15:42:44.894820Z"
    }
   },
   "outputs": [],
   "source": [
    "db['is_capital'] = db['capital'].apply(lambda x: 1 if x == 'primary' else 0)"
   ]
  },
  {
   "cell_type": "code",
   "execution_count": 1557,
   "metadata": {
    "execution": {
     "iopub.execute_input": "2021-12-01T15:42:44.937553Z",
     "iopub.status.busy": "2021-12-01T15:42:44.937187Z",
     "iopub.status.idle": "2021-12-01T15:42:45.032314Z",
     "shell.execute_reply": "2021-12-01T15:42:45.031127Z",
     "shell.execute_reply.started": "2021-12-01T15:42:44.937488Z"
    }
   },
   "outputs": [],
   "source": [
    "db.sample(3)"
   ]
  },
  {
   "cell_type": "code",
   "execution_count": 1558,
   "metadata": {
    "execution": {
     "iopub.execute_input": "2021-12-01T15:42:45.034620Z",
     "iopub.status.busy": "2021-12-01T15:42:45.034252Z",
     "iopub.status.idle": "2021-12-01T15:42:45.418332Z",
     "shell.execute_reply": "2021-12-01T15:42:45.417163Z",
     "shell.execute_reply.started": "2021-12-01T15:42:45.034552Z"
    }
   },
   "outputs": [],
   "source": [
    "heatmap = sns.heatmap(db[['rating', 'ranking', 'number_of_reviews']].corr(), vmin=-1, vmax=1, annot=True, cmap='BrBG')\n",
    "heatmap.set_title('Start column correlation', fontdict={'fontsize': 18}, pad=12)\n",
    "plt.show()"
   ]
  },
  {
   "cell_type": "markdown",
   "metadata": {},
   "source": [
    "So, not much. Adding columns"
   ]
  },
  {
   "cell_type": "code",
   "execution_count": 1559,
   "metadata": {
    "execution": {
     "iopub.execute_input": "2021-12-01T15:42:45.420589Z",
     "iopub.status.busy": "2021-12-01T15:42:45.419933Z",
     "iopub.status.idle": "2021-12-01T15:42:48.367897Z",
     "shell.execute_reply": "2021-12-01T15:42:48.366974Z",
     "shell.execute_reply.started": "2021-12-01T15:42:45.420530Z"
    }
   },
   "outputs": [],
   "source": [
    "db_list = ['rating', 'ranking', 'number_of_reviews', 'dif_days', 'days_from_last', 'weight_rank', 'price_range_num', \n",
    "        'price_range_mean', 'number_of_cuisine', 'cuisine_mean_by_city', 'rest_id_num', 'rests_in_city', 'rank_by_citycount',  \n",
    "        'rests_per_pop', 'wrank_by_pop', 'review_to_pop', 'rank_with_review_to_pop', 'rewies_per_city', 'rank_to_reviews_per_city', \n",
    "        'rank_to_review_to_rest_id', 'rank_city', 'comment_len']\n",
    "plt.figure(figsize=(15, 15))\n",
    "heatmap = sns.heatmap(db[db_list].corr(), vmin=-1, vmax=1, annot=True, cmap='BrBG')\n",
    "heatmap.set_title('Correlation table', fontdict={'fontsize': 18}, pad=12)\n",
    "plt.show()"
   ]
  },
  {
   "cell_type": "markdown",
   "metadata": {},
   "source": [
    "# Data Preprocessing"
   ]
  },
  {
   "cell_type": "markdown",
   "metadata": {},
   "source": [
    "#### Запускаем и проверяем что получилось"
   ]
  },
  {
   "cell_type": "code",
   "execution_count": 1560,
   "metadata": {
    "execution": {
     "iopub.execute_input": "2021-12-01T15:42:48.370246Z",
     "iopub.status.busy": "2021-12-01T15:42:48.369593Z",
     "iopub.status.idle": "2021-12-01T15:42:48.471163Z",
     "shell.execute_reply": "2021-12-01T15:42:48.470202Z",
     "shell.execute_reply.started": "2021-12-01T15:42:48.370179Z"
    }
   },
   "outputs": [],
   "source": [
    "df_preproc = db.copy()\n",
    "df_preproc.sample(3)"
   ]
  },
  {
   "cell_type": "code",
   "execution_count": 1561,
   "metadata": {
    "execution": {
     "iopub.execute_input": "2021-12-01T15:42:48.473475Z",
     "iopub.status.busy": "2021-12-01T15:42:48.472850Z",
     "iopub.status.idle": "2021-12-01T15:42:48.504451Z",
     "shell.execute_reply": "2021-12-01T15:42:48.503498Z",
     "shell.execute_reply.started": "2021-12-01T15:42:48.473415Z"
    }
   },
   "outputs": [],
   "source": [
    "object_columns = [s for s in df_preproc if df_preproc[s].dtypes == 'object']\n",
    "df_preproc.drop(object_columns, axis = 1, inplace=True)"
   ]
  },
  {
   "cell_type": "code",
   "execution_count": 1562,
   "metadata": {
    "execution": {
     "iopub.execute_input": "2021-12-01T15:42:48.506394Z",
     "iopub.status.busy": "2021-12-01T15:42:48.506116Z",
     "iopub.status.idle": "2021-12-01T15:42:48.520007Z",
     "shell.execute_reply": "2021-12-01T15:42:48.518702Z",
     "shell.execute_reply.started": "2021-12-01T15:42:48.506344Z"
    }
   },
   "outputs": [],
   "source": [
    "df_preproc.drop(['lat_city', 'lng_city', 'population', 'pop'], axis = 1, inplace=True)"
   ]
  },
  {
   "cell_type": "code",
   "execution_count": 1563,
   "metadata": {
    "execution": {
     "iopub.execute_input": "2021-12-01T15:42:48.522047Z",
     "iopub.status.busy": "2021-12-01T15:42:48.521748Z",
     "iopub.status.idle": "2021-12-01T15:42:48.548673Z",
     "shell.execute_reply": "2021-12-01T15:42:48.547874Z",
     "shell.execute_reply.started": "2021-12-01T15:42:48.522002Z"
    }
   },
   "outputs": [],
   "source": [
    "df_preproc.info()"
   ]
  },
  {
   "cell_type": "code",
   "execution_count": 1564,
   "metadata": {
    "execution": {
     "iopub.execute_input": "2021-12-01T15:42:48.550711Z",
     "iopub.status.busy": "2021-12-01T15:42:48.550143Z",
     "iopub.status.idle": "2021-12-01T15:42:48.614492Z",
     "shell.execute_reply": "2021-12-01T15:42:48.613509Z",
     "shell.execute_reply.started": "2021-12-01T15:42:48.550651Z"
    }
   },
   "outputs": [],
   "source": [
    "# Теперь выделим тестовую часть\n",
    "train_data = df_preproc.query('sample == 1').drop(['sample'], axis=1)\n",
    "test_data = df_preproc.query('sample == 0').drop(['sample'], axis=1)\n",
    "\n",
    "y = train_data.rating.values            # наш таргет\n",
    "X = train_data.drop(['rating'], axis=1)"
   ]
  },
  {
   "cell_type": "markdown",
   "metadata": {},
   "source": [
    "**Перед тем как отправлять наши данные на обучение, разделим данные на еще один тест и трейн, для валидации. \n",
    "Это поможет нам проверить, как хорошо наша модель работает, до отправки submissiona на kaggle.**"
   ]
  },
  {
   "cell_type": "code",
   "execution_count": 1565,
   "metadata": {
    "execution": {
     "iopub.execute_input": "2021-12-01T15:42:48.616214Z",
     "iopub.status.busy": "2021-12-01T15:42:48.615751Z",
     "iopub.status.idle": "2021-12-01T15:42:48.654313Z",
     "shell.execute_reply": "2021-12-01T15:42:48.653475Z",
     "shell.execute_reply.started": "2021-12-01T15:42:48.616173Z"
    }
   },
   "outputs": [],
   "source": [
    "# Воспользуемся специальной функцие train_test_split для разбивки тестовых данных\n",
    "# выделим 20% данных на валидацию (параметр test_size)\n",
    "X_train, X_test, y_train, y_test = train_test_split(X, y, test_size=0.2, random_state=RANDOM_SEED)"
   ]
  },
  {
   "cell_type": "code",
   "execution_count": 1566,
   "metadata": {
    "execution": {
     "iopub.execute_input": "2021-12-01T15:42:48.656537Z",
     "iopub.status.busy": "2021-12-01T15:42:48.655872Z",
     "iopub.status.idle": "2021-12-01T15:42:48.665130Z",
     "shell.execute_reply": "2021-12-01T15:42:48.664038Z",
     "shell.execute_reply.started": "2021-12-01T15:42:48.656474Z"
    }
   },
   "outputs": [],
   "source": [
    "# проверяем\n",
    "test_data.shape, train_data.shape, X.shape, X_train.shape, X_test.shape"
   ]
  },
  {
   "cell_type": "markdown",
   "metadata": {},
   "source": [
    "# Model \n",
    "Сам ML"
   ]
  },
  {
   "cell_type": "code",
   "execution_count": 1567,
   "metadata": {
    "execution": {
     "iopub.execute_input": "2021-12-01T15:42:48.666900Z",
     "iopub.status.busy": "2021-12-01T15:42:48.666447Z",
     "iopub.status.idle": "2021-12-01T15:42:48.675577Z",
     "shell.execute_reply": "2021-12-01T15:42:48.674561Z",
     "shell.execute_reply.started": "2021-12-01T15:42:48.666856Z"
    }
   },
   "outputs": [],
   "source": [
    "# Импортируем необходимые библиотеки:\n",
    "from sklearn.ensemble import RandomForestRegressor # инструмент для создания и обучения модели\n",
    "from sklearn import metrics # инструменты для оценки точности модели"
   ]
  },
  {
   "cell_type": "code",
   "execution_count": 1568,
   "metadata": {
    "execution": {
     "iopub.execute_input": "2021-12-01T15:42:48.677200Z",
     "iopub.status.busy": "2021-12-01T15:42:48.676895Z",
     "iopub.status.idle": "2021-12-01T15:42:48.690547Z",
     "shell.execute_reply": "2021-12-01T15:42:48.689594Z",
     "shell.execute_reply.started": "2021-12-01T15:42:48.677148Z"
    }
   },
   "outputs": [],
   "source": [
    "# Создаём модель (НАСТРОЙКИ НЕ ТРОГАЕМ)\n",
    "model = RandomForestRegressor(n_estimators=100, verbose=1, n_jobs=-1, random_state=RANDOM_SEED)"
   ]
  },
  {
   "cell_type": "code",
   "execution_count": 1569,
   "metadata": {
    "execution": {
     "iopub.execute_input": "2021-12-01T15:42:48.692354Z",
     "iopub.status.busy": "2021-12-01T15:42:48.691938Z",
     "iopub.status.idle": "2021-12-01T15:43:20.690176Z",
     "shell.execute_reply": "2021-12-01T15:43:20.688187Z",
     "shell.execute_reply.started": "2021-12-01T15:42:48.692294Z"
    }
   },
   "outputs": [],
   "source": [
    "# Обучаем модель на тестовом наборе данных\n",
    "model.fit(X_train, y_train)\n",
    "\n",
    "# Используем обученную модель для предсказания рейтинга ресторанов в тестовой выборке.\n",
    "# Предсказанные значения записываем в переменную y_pred\n",
    "y_pred = model.predict(X_test)"
   ]
  },
  {
   "cell_type": "code",
   "execution_count": 1570,
   "metadata": {
    "execution": {
     "iopub.execute_input": "2021-12-01T15:43:20.691715Z",
     "iopub.status.busy": "2021-12-01T15:43:20.691401Z",
     "iopub.status.idle": "2021-12-01T15:43:20.699260Z",
     "shell.execute_reply": "2021-12-01T15:43:20.698229Z",
     "shell.execute_reply.started": "2021-12-01T15:43:20.691624Z"
    }
   },
   "outputs": [],
   "source": [
    "# Сравниваем предсказанные значения (y_pred) с реальными (y_test), и смотрим насколько они в среднем отличаются\n",
    "# Метрика называется Mean Absolute Error (MAE) и показывает среднее отклонение предсказанных значений от фактических.\n",
    "print('MAE:', metrics.mean_absolute_error(y_test, y_pred))"
   ]
  },
  {
   "cell_type": "code",
   "execution_count": 1571,
   "metadata": {
    "execution": {
     "iopub.execute_input": "2021-12-01T15:43:20.701044Z",
     "iopub.status.busy": "2021-12-01T15:43:20.700658Z",
     "iopub.status.idle": "2021-12-01T15:43:21.307037Z",
     "shell.execute_reply": "2021-12-01T15:43:21.306053Z",
     "shell.execute_reply.started": "2021-12-01T15:43:20.700957Z"
    }
   },
   "outputs": [],
   "source": [
    "# в RandomForestRegressor есть возможность вывести самые важные признаки для модели\n",
    "plt.rcParams['figure.figsize'] = (10,10)\n",
    "feat_importances = pd.Series(model.feature_importances_, index=X.columns)\n",
    "feat_importances.nlargest(30).plot(kind='barh')"
   ]
  },
  {
   "cell_type": "markdown",
   "metadata": {},
   "source": [
    "# Submission\n",
    "Если все устраевает - готовим Submission на кагл"
   ]
  },
  {
   "cell_type": "code",
   "execution_count": 1572,
   "metadata": {
    "execution": {
     "iopub.execute_input": "2021-12-01T15:43:21.309333Z",
     "iopub.status.busy": "2021-12-01T15:43:21.308750Z",
     "iopub.status.idle": "2021-12-01T15:43:21.413602Z",
     "shell.execute_reply": "2021-12-01T15:43:21.412523Z",
     "shell.execute_reply.started": "2021-12-01T15:43:21.309100Z"
    }
   },
   "outputs": [],
   "source": [
    "test_data.sample(10)"
   ]
  },
  {
   "cell_type": "code",
   "execution_count": 1573,
   "metadata": {
    "execution": {
     "iopub.execute_input": "2021-12-01T15:43:21.415683Z",
     "iopub.status.busy": "2021-12-01T15:43:21.415325Z",
     "iopub.status.idle": "2021-12-01T15:43:21.424844Z",
     "shell.execute_reply": "2021-12-01T15:43:21.423891Z",
     "shell.execute_reply.started": "2021-12-01T15:43:21.415617Z"
    }
   },
   "outputs": [],
   "source": [
    "test_data = test_data.drop(['rating'], axis=1)"
   ]
  },
  {
   "cell_type": "code",
   "execution_count": 1574,
   "metadata": {
    "execution": {
     "iopub.execute_input": "2021-12-01T15:43:21.426633Z",
     "iopub.status.busy": "2021-12-01T15:43:21.426231Z",
     "iopub.status.idle": "2021-12-01T15:43:21.444641Z",
     "shell.execute_reply": "2021-12-01T15:43:21.443899Z",
     "shell.execute_reply.started": "2021-12-01T15:43:21.426577Z"
    }
   },
   "outputs": [],
   "source": [
    "sample_submission"
   ]
  },
  {
   "cell_type": "code",
   "execution_count": 1575,
   "metadata": {
    "execution": {
     "iopub.execute_input": "2021-12-01T15:43:21.446127Z",
     "iopub.status.busy": "2021-12-01T15:43:21.445866Z",
     "iopub.status.idle": "2021-12-01T15:43:21.563006Z",
     "shell.execute_reply": "2021-12-01T15:43:21.562262Z",
     "shell.execute_reply.started": "2021-12-01T15:43:21.446071Z"
    }
   },
   "outputs": [],
   "source": [
    "predict_submission = model.predict(test_data)"
   ]
  },
  {
   "cell_type": "code",
   "execution_count": 1576,
   "metadata": {
    "execution": {
     "iopub.execute_input": "2021-12-01T15:43:21.564679Z",
     "iopub.status.busy": "2021-12-01T15:43:21.564322Z",
     "iopub.status.idle": "2021-12-01T15:43:21.570966Z",
     "shell.execute_reply": "2021-12-01T15:43:21.570199Z",
     "shell.execute_reply.started": "2021-12-01T15:43:21.564614Z"
    }
   },
   "outputs": [],
   "source": [
    "predict_submission"
   ]
  },
  {
   "cell_type": "code",
   "execution_count": 1577,
   "metadata": {
    "execution": {
     "iopub.execute_input": "2021-12-01T15:43:21.572560Z",
     "iopub.status.busy": "2021-12-01T15:43:21.572316Z",
     "iopub.status.idle": "2021-12-01T15:43:21.622902Z",
     "shell.execute_reply": "2021-12-01T15:43:21.622050Z",
     "shell.execute_reply.started": "2021-12-01T15:43:21.572520Z"
    }
   },
   "outputs": [],
   "source": [
    "sample_submission['Rating'] = predict_submission\n",
    "sample_submission.to_csv('submission.csv', index=False)\n",
    "sample_submission.head(10)"
   ]
  },
  {
   "cell_type": "markdown",
   "metadata": {},
   "source": [
    "# What's next?\n",
    "Или что делать, чтоб улучшить результат:\n",
    "* Обработать оставшиеся признаки в понятный для машины формат\n",
    "* Посмотреть, что еще можно извлечь из признаков\n",
    "* Сгенерировать новые признаки\n",
    "* Подгрузить дополнительные данные, например: по населению или благосостоянию городов\n",
    "* Подобрать состав признаков\n",
    "\n",
    "В общем, процесс творческий и весьма увлекательный! Удачи в соревновании!\n"
   ]
  },
  {
   "cell_type": "markdown",
   "metadata": {},
   "source": [
    "## "
   ]
  }
 ],
 "metadata": {
  "kernelspec": {
   "display_name": "Python 3",
   "language": "python",
   "name": "python3"
  },
  "language_info": {
   "codemirror_mode": {
    "name": "ipython",
    "version": 3
   },
   "file_extension": ".py",
   "mimetype": "text/x-python",
   "name": "python",
   "nbconvert_exporter": "python",
   "pygments_lexer": "ipython3",
   "version": "3.8.8"
  }
 },
 "nbformat": 4,
 "nbformat_minor": 4
}
