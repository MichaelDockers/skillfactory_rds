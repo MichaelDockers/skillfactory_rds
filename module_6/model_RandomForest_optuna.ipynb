{
 "cells": [
  {
   "cell_type": "markdown",
   "metadata": {},
   "source": [
    "- [previous file - EDA](2022-03-31_train-test_EDA.ipynb)\n",
    "- [next tile - models with pre-tuned parameters and ensembles](2022-04-15_ensemble.ipynb)\n",
    "\n",
    "## imports"
   ]
  },
  {
   "cell_type": "code",
   "execution_count": 4,
   "metadata": {},
   "outputs": [],
   "source": [
    "from warnings import filterwarnings\n",
    "\n",
    "import pandas as pd\n",
    "import numpy as np\n",
    "import seaborn as sns\n",
    "import matplotlib.pyplot as plt\n",
    "from sklearn.preprocessing import RobustScaler, LabelEncoder\n",
    "from sklearn.ensemble import RandomForestRegressor, ExtraTreesRegressor, StackingRegressor\n",
    "from catboost import CatBoostRegressor\n",
    "from lightgbm import LGBMRegressor\n",
    "import xgboost as xgb\n",
    "from sklearn.linear_model import LinearRegression\n",
    "from sklearn.neighbors import KNeighborsRegressor\n",
    "import optuna\n",
    "from sklearn.model_selection import train_test_split, cross_val_score\n",
    "from sklearn.metrics import mean_absolute_percentage_error\n",
    "\n",
    "from lib.model_related import *\n",
    "\n",
    "sns.set()\n",
    "filterwarnings(\"ignore\")"
   ]
  },
  {
   "cell_type": "markdown",
   "metadata": {},
   "source": [
    "## reading data"
   ]
  },
  {
   "cell_type": "code",
   "execution_count": 5,
   "metadata": {},
   "outputs": [
    {
     "data": {
      "text/plain": [
       "((115367, 30), (34686, 28))"
      ]
     },
     "execution_count": 5,
     "metadata": {},
     "output_type": "execute_result"
    }
   ],
   "source": [
    "train_raw = pd.read_parquet(\"data/2022-04-08_train_pre-model.parquet\")\n",
    "test_raw = pd.read_parquet(\"data/2022-04-08_test_pre-model.parquet\")\n",
    "\n",
    "train_raw.shape, test_raw.shape"
   ]
  },
  {
   "cell_type": "code",
   "execution_count": 6,
   "metadata": {},
   "outputs": [],
   "source": [
    "def submit(hold_out: pd.DataFrame, model, name=\"submission\"):\n",
    "    preds = model.predict(hold_out)\n",
    "    submission = pd.read_csv(\"data/sample_submission.csv\")\n",
    "    submission[\"price\"] = preds\n",
    "    submission.to_csv(f\"{name}.csv\", index=False)\n",
    "    \n",
    "    \n",
    "def submit_log(hold_out: pd.DataFrame, model, name=\"submission\"):\n",
    "    preds = model.predict(hold_out)\n",
    "    submission = pd.read_csv(\"data/sample_submission.csv\")\n",
    "    submission[\"price\"] = np.exp(preds)\n",
    "    submission.to_csv(f\"{name}.csv\", index=False)"
   ]
  },
  {
   "cell_type": "code",
   "execution_count": 7,
   "metadata": {},
   "outputs": [
    {
     "data": {
      "text/plain": [
       "158409758714.0"
      ]
     },
     "execution_count": 7,
     "metadata": {},
     "output_type": "execute_result"
    }
   ],
   "source": [
    "train_raw[\"price\"].sum()"
   ]
  },
  {
   "cell_type": "markdown",
   "metadata": {},
   "source": [
    "## encoding"
   ]
  },
  {
   "cell_type": "code",
   "execution_count": 7,
   "metadata": {},
   "outputs": [],
   "source": [
    "train_raw[\"train/test\"] = \"train\"\n",
    "test_raw[\"train/test\"] = \"test\"\n",
    "\n",
    "data = train_raw.append(test_raw)\n",
    "data[\"ptc\"].fillna(\"Оригинал\", inplace=True)\n",
    "\n",
    "data[data.select_dtypes(\"object\").columns.tolist()] = data[\n",
    "    data.select_dtypes(\"object\").columns.tolist()\n",
    "].astype(str)\n",
    "\n",
    "for col in set(data.select_dtypes(exclude=(\"object\")).columns) - {\"price\"}:\n",
    "    data[col] = (\n",
    "        RobustScaler().fit_transform(data[col].values.reshape(-1, 1)).reshape(-1, 1)\n",
    "    )\n",
    "\n",
    "for col in [\"model_name\"]:\n",
    "    data[col] = LabelEncoder().fit_transform(data[col].astype(\"str\"))\n",
    "\n",
    "data = pd.get_dummies(\n",
    "    data,\n",
    "    columns=[\n",
    "        \"vehicle_transmission\",\n",
    "        \"vendor\",\n",
    "        \"brand\",\n",
    "        \"fuel_type\",\n",
    "        \"body_type\",\n",
    "        \"color\",\n",
    "        \"ptc\",\n",
    "        \"drive\",\n",
    "        \"wheel\",\n",
    "        \"age_cat\",\n",
    "    ],\n",
    ")\n",
    "\n",
    "train = data.loc[data[\"train/test\"] == \"train\"]\n",
    "\n",
    "train_jane = train.loc[train[\"sample\"] == \"jane\"]\n",
    "train_sokolov = train.loc[train[\"sample\"] == \"sokolov\"]\n",
    "train_jane[\"price\"] = train_jane[\"price\"] * 0.86\n",
    "train = train_jane.append(train_sokolov)\n",
    "\n",
    "train.drop(columns=[\"sample\", \"description\", \"train/test\"], inplace=True)\n",
    "test = data.loc[data[\"train/test\"] == \"test\"].drop(\n",
    "    columns=[\"sample\", \"description\", \"train/test\", \"price\"]\n",
    ")\n"
   ]
  },
  {
   "cell_type": "markdown",
   "metadata": {},
   "source": [
    "## modelling"
   ]
  },
  {
   "cell_type": "code",
   "execution_count": 8,
   "metadata": {},
   "outputs": [
    {
     "data": {
      "text/plain": [
       "((86525, 112), (86525,), (28842, 112), (28842,))"
      ]
     },
     "execution_count": 8,
     "metadata": {},
     "output_type": "execute_result"
    }
   ],
   "source": [
    "X_train, X_valid, y_train, y_valid = train_test_split(train.drop(columns=\"price\"), train[\"price\"], random_state = 42, shuffle=True)\n",
    "X_train.shape, y_train.shape, X_valid.shape, y_valid.shape"
   ]
  },
  {
   "cell_type": "markdown",
   "metadata": {},
   "source": [
    "## model tuning"
   ]
  },
  {
   "cell_type": "markdown",
   "metadata": {},
   "source": [
    "### RandomForest"
   ]
  },
  {
   "cell_type": "code",
   "execution_count": 12,
   "metadata": {
    "scrolled": true,
    "tags": []
   },
   "outputs": [
    {
     "name": "stderr",
     "output_type": "stream",
     "text": [
      "\u001b[32m[I 2022-04-13 18:46:09,425]\u001b[0m Using an existing study with name 'RFRRegressor' instead of creating a new one.\u001b[0m\n",
      "\u001b[32m[I 2022-04-13 18:46:22,263]\u001b[0m Trial 7 finished with value: -0.2503358825689884 and parameters: {'n_estimators': 209, 'min_samples_split': 12, 'min_samples_leaf': 7, 'max_samples': 0.6170731668968928, 'max_features': 'log2'}. Best is trial 3 with value: -0.15965928060336795.\u001b[0m\n",
      "\u001b[32m[I 2022-04-13 18:46:41,167]\u001b[0m Trial 8 finished with value: -0.20956902989733972 and parameters: {'n_estimators': 239, 'min_samples_split': 8, 'min_samples_leaf': 11, 'max_samples': 0.6960737412613612, 'max_features': 'sqrt'}. Best is trial 3 with value: -0.15965928060336795.\u001b[0m\n",
      "\u001b[32m[I 2022-04-13 18:47:20,333]\u001b[0m Trial 9 finished with value: -0.18754078091628576 and parameters: {'n_estimators': 472, 'min_samples_split': 3, 'min_samples_leaf': 2, 'max_samples': 0.9109759310947507, 'max_features': 'log2'}. Best is trial 3 with value: -0.15965928060336795.\u001b[0m\n",
      "\u001b[32m[I 2022-04-13 18:47:39,851]\u001b[0m Trial 10 finished with value: -0.20136877770336822 and parameters: {'n_estimators': 226, 'min_samples_split': 9, 'min_samples_leaf': 10, 'max_samples': 0.8806474785871083, 'max_features': 'sqrt'}. Best is trial 3 with value: -0.15965928060336795.\u001b[0m\n",
      "\u001b[32m[I 2022-04-13 18:56:23,055]\u001b[0m Trial 11 finished with value: -0.16355082560180084 and parameters: {'n_estimators': 987, 'min_samples_split': 14, 'min_samples_leaf': 14, 'max_samples': 0.7603532357035218, 'max_features': 'auto'}. Best is trial 3 with value: -0.15965928060336795.\u001b[0m\n",
      "\u001b[32m[I 2022-04-13 19:05:16,052]\u001b[0m Trial 12 finished with value: -0.1628825363455456 and parameters: {'n_estimators': 988, 'min_samples_split': 13, 'min_samples_leaf': 14, 'max_samples': 0.7936618083778616, 'max_features': 'auto'}. Best is trial 3 with value: -0.15965928060336795.\u001b[0m\n",
      "\u001b[32m[I 2022-04-13 19:15:18,799]\u001b[0m Trial 13 finished with value: -0.1602406888919706 and parameters: {'n_estimators': 983, 'min_samples_split': 11, 'min_samples_leaf': 14, 'max_samples': 0.9884259741216819, 'max_features': 'auto'}. Best is trial 3 with value: -0.15965928060336795.\u001b[0m\n",
      "\u001b[32m[I 2022-04-13 19:16:29,762]\u001b[0m Trial 14 finished with value: -0.1790478718000179 and parameters: {'n_estimators': 714, 'min_samples_split': 11, 'min_samples_leaf': 5, 'max_samples': 0.9859947029834827, 'max_features': 'sqrt'}. Best is trial 3 with value: -0.15965928060336795.\u001b[0m\n",
      "\u001b[32m[I 2022-04-13 19:17:54,549]\u001b[0m Trial 15 finished with value: -0.14400910857193058 and parameters: {'n_estimators': 112, 'min_samples_split': 10, 'min_samples_leaf': 1, 'max_samples': 0.9774108530820138, 'max_features': 'auto'}. Best is trial 15 with value: -0.14400910857193058.\u001b[0m\n",
      "\u001b[32m[I 2022-04-13 19:18:08,649]\u001b[0m Trial 16 finished with value: -0.1586807833700705 and parameters: {'n_estimators': 123, 'min_samples_split': 9, 'min_samples_leaf': 1, 'max_samples': 0.8795852316921478, 'max_features': 'sqrt'}. Best is trial 15 with value: -0.14400910857193058.\u001b[0m\n",
      "\u001b[32m[I 2022-04-13 19:19:31,366]\u001b[0m Trial 17 finished with value: -0.14532961092998245 and parameters: {'n_estimators': 124, 'min_samples_split': 9, 'min_samples_leaf': 4, 'max_samples': 0.8869510822604814, 'max_features': 'auto'}. Best is trial 15 with value: -0.14400910857193058.\u001b[0m\n",
      "\u001b[32m[I 2022-04-13 19:23:47,777]\u001b[0m Trial 18 finished with value: -0.1442234424594606 and parameters: {'n_estimators': 376, 'min_samples_split': 8, 'min_samples_leaf': 4, 'max_samples': 0.9218749028699338, 'max_features': 'auto'}. Best is trial 15 with value: -0.14400910857193058.\u001b[0m\n",
      "\u001b[32m[I 2022-04-13 19:27:57,671]\u001b[0m Trial 19 finished with value: -0.1433348024972155 and parameters: {'n_estimators': 340, 'min_samples_split': 8, 'min_samples_leaf': 1, 'max_samples': 0.936275651931744, 'max_features': 'auto'}. Best is trial 19 with value: -0.1433348024972155.\u001b[0m\n",
      "\u001b[32m[I 2022-04-13 19:32:15,358]\u001b[0m Trial 20 finished with value: -0.14363286396260969 and parameters: {'n_estimators': 348, 'min_samples_split': 10, 'min_samples_leaf': 1, 'max_samples': 0.9802834796499733, 'max_features': 'auto'}. Best is trial 19 with value: -0.1433348024972155.\u001b[0m\n",
      "\u001b[32m[I 2022-04-13 19:37:45,633]\u001b[0m Trial 21 finished with value: -0.14335911910444052 and parameters: {'n_estimators': 503, 'min_samples_split': 7, 'min_samples_leaf': 3, 'max_samples': 0.8393853644426321, 'max_features': 'auto'}. Best is trial 19 with value: -0.1433348024972155.\u001b[0m\n",
      "\u001b[32m[I 2022-04-13 19:43:49,016]\u001b[0m Trial 22 finished with value: -0.14336906218297837 and parameters: {'n_estimators': 523, 'min_samples_split': 7, 'min_samples_leaf': 1, 'max_samples': 0.840174594094817, 'max_features': 'auto'}. Best is trial 19 with value: -0.1433348024972155.\u001b[0m\n",
      "\u001b[32m[I 2022-04-13 19:49:42,812]\u001b[0m Trial 23 finished with value: -0.14350819487632158 and parameters: {'n_estimators': 546, 'min_samples_split': 7, 'min_samples_leaf': 3, 'max_samples': 0.8250176727474341, 'max_features': 'auto'}. Best is trial 19 with value: -0.1433348024972155.\u001b[0m\n",
      "\u001b[32m[I 2022-04-13 19:55:57,810]\u001b[0m Trial 24 finished with value: -0.14342187044111632 and parameters: {'n_estimators': 575, 'min_samples_split': 7, 'min_samples_leaf': 3, 'max_samples': 0.8308882475335574, 'max_features': 'auto'}. Best is trial 19 with value: -0.1433348024972155.\u001b[0m\n",
      "\u001b[32m[I 2022-04-13 20:03:44,095]\u001b[0m Trial 25 finished with value: -0.14227984246456496 and parameters: {'n_estimators': 684, 'min_samples_split': 5, 'min_samples_leaf': 2, 'max_samples': 0.8306183770680438, 'max_features': 'auto'}. Best is trial 25 with value: -0.14227984246456496.\u001b[0m\n",
      "\u001b[32m[I 2022-04-13 20:10:17,980]\u001b[0m Trial 26 finished with value: -0.14696170084699942 and parameters: {'n_estimators': 666, 'min_samples_split': 2, 'min_samples_leaf': 5, 'max_samples': 0.7695882068057132, 'max_features': 'auto'}. Best is trial 25 with value: -0.14227984246456496.\u001b[0m\n",
      "\u001b[32m[I 2022-04-13 20:18:53,573]\u001b[0m Trial 27 finished with value: -0.14297176220984228 and parameters: {'n_estimators': 832, 'min_samples_split': 5, 'min_samples_leaf': 2, 'max_samples': 0.7264088455239804, 'max_features': 'auto'}. Best is trial 25 with value: -0.14227984246456496.\u001b[0m\n",
      "\u001b[32m[I 2022-04-13 20:27:47,978]\u001b[0m Trial 28 finished with value: -0.14281277772193948 and parameters: {'n_estimators': 864, 'min_samples_split': 4, 'min_samples_leaf': 2, 'max_samples': 0.7063923806861253, 'max_features': 'auto'}. Best is trial 25 with value: -0.14227984246456496.\u001b[0m\n",
      "\u001b[32m[I 2022-04-13 20:35:50,293]\u001b[0m Trial 29 finished with value: -0.14750794727624164 and parameters: {'n_estimators': 847, 'min_samples_split': 4, 'min_samples_leaf': 5, 'max_samples': 0.7187424780351068, 'max_features': 'auto'}. Best is trial 25 with value: -0.14227984246456496.\u001b[0m\n",
      "\u001b[32m[I 2022-04-13 20:44:27,354]\u001b[0m Trial 30 finished with value: -0.1433818791058923 and parameters: {'n_estimators': 884, 'min_samples_split': 5, 'min_samples_leaf': 2, 'max_samples': 0.665969593609868, 'max_features': 'auto'}. Best is trial 25 with value: -0.14227984246456496.\u001b[0m\n",
      "\u001b[32m[I 2022-04-13 20:52:17,439]\u001b[0m Trial 31 finished with value: -0.14570008531731934 and parameters: {'n_estimators': 827, 'min_samples_split': 2, 'min_samples_leaf': 4, 'max_samples': 0.7077076356545261, 'max_features': 'auto'}. Best is trial 25 with value: -0.14227984246456496.\u001b[0m\n",
      "\u001b[32m[I 2022-04-13 20:59:11,304]\u001b[0m Trial 32 finished with value: -0.1428588987567412 and parameters: {'n_estimators': 653, 'min_samples_split': 5, 'min_samples_leaf': 2, 'max_samples': 0.7479983344050557, 'max_features': 'auto'}. Best is trial 25 with value: -0.14227984246456496.\u001b[0m\n",
      "\u001b[32m[I 2022-04-13 21:06:23,754]\u001b[0m Trial 33 finished with value: -0.1427567590029871 and parameters: {'n_estimators': 681, 'min_samples_split': 5, 'min_samples_leaf': 2, 'max_samples': 0.754416691455369, 'max_features': 'auto'}. Best is trial 25 with value: -0.14227984246456496.\u001b[0m\n",
      "\u001b[32m[I 2022-04-13 21:13:35,023]\u001b[0m Trial 34 finished with value: -0.14366350550379656 and parameters: {'n_estimators': 701, 'min_samples_split': 4, 'min_samples_leaf': 3, 'max_samples': 0.7518931015196489, 'max_features': 'auto'}. Best is trial 25 with value: -0.14227984246456496.\u001b[0m\n",
      "\u001b[32m[I 2022-04-13 21:19:50,520]\u001b[0m Trial 35 finished with value: -0.14325151213602202 and parameters: {'n_estimators': 635, 'min_samples_split': 3, 'min_samples_leaf': 2, 'max_samples': 0.6642498067715383, 'max_features': 'auto'}. Best is trial 25 with value: -0.14227984246456496.\u001b[0m\n",
      "\u001b[32m[I 2022-04-13 21:27:21,920]\u001b[0m Trial 36 finished with value: -0.1487326893300287 and parameters: {'n_estimators': 768, 'min_samples_split': 5, 'min_samples_leaf': 6, 'max_samples': 0.7861671132699019, 'max_features': 'auto'}. Best is trial 25 with value: -0.14227984246456496.\u001b[0m\n",
      "\u001b[32m[I 2022-04-13 21:32:45,395]\u001b[0m Trial 37 finished with value: -0.14667230435764558 and parameters: {'n_estimators': 617, 'min_samples_split': 6, 'min_samples_leaf': 4, 'max_samples': 0.6297397443388217, 'max_features': 'auto'}. Best is trial 25 with value: -0.14227984246456496.\u001b[0m\n",
      "\u001b[32m[I 2022-04-13 21:33:28,913]\u001b[0m Trial 38 finished with value: -0.27267380355982523 and parameters: {'n_estimators': 918, 'min_samples_split': 4, 'min_samples_leaf': 12, 'max_samples': 0.7484074237228762, 'max_features': 'log2'}. Best is trial 25 with value: -0.14227984246456496.\u001b[0m\n",
      "\u001b[32m[I 2022-04-13 21:34:26,109]\u001b[0m Trial 39 finished with value: -0.1991664186770147 and parameters: {'n_estimators': 767, 'min_samples_split': 3, 'min_samples_leaf': 8, 'max_samples': 0.6806442251048944, 'max_features': 'sqrt'}. Best is trial 25 with value: -0.14227984246456496.\u001b[0m\n",
      "\u001b[32m[I 2022-04-13 21:34:59,785]\u001b[0m Trial 40 finished with value: -0.24254023900891866 and parameters: {'n_estimators': 695, 'min_samples_split': 6, 'min_samples_leaf': 6, 'max_samples': 0.6301224083041871, 'max_features': 'log2'}. Best is trial 25 with value: -0.14227984246456496.\u001b[0m\n",
      "\u001b[32m[I 2022-04-13 21:39:44,001]\u001b[0m Trial 41 finished with value: -0.14237925025302225 and parameters: {'n_estimators': 425, 'min_samples_split': 5, 'min_samples_leaf': 2, 'max_samples': 0.8080061410623618, 'max_features': 'auto'}. Best is trial 25 with value: -0.14227984246456496.\u001b[0m\n",
      "\u001b[32m[I 2022-04-13 21:44:22,389]\u001b[0m Trial 42 finished with value: -0.14244270998994918 and parameters: {'n_estimators': 419, 'min_samples_split': 5, 'min_samples_leaf': 2, 'max_samples': 0.8006092169406176, 'max_features': 'auto'}. Best is trial 25 with value: -0.14227984246456496.\u001b[0m\n",
      "\u001b[32m[I 2022-04-13 21:47:27,091]\u001b[0m Trial 43 finished with value: -0.14352876153734428 and parameters: {'n_estimators': 286, 'min_samples_split': 6, 'min_samples_leaf': 3, 'max_samples': 0.8111513805712054, 'max_features': 'auto'}. Best is trial 25 with value: -0.14227984246456496.\u001b[0m\n",
      "\u001b[32m[I 2022-04-13 21:52:24,330]\u001b[0m Trial 44 finished with value: -0.14198234673865193 and parameters: {'n_estimators': 421, 'min_samples_split': 4, 'min_samples_leaf': 2, 'max_samples': 0.8608943169357898, 'max_features': 'auto'}. Best is trial 44 with value: -0.14198234673865193.\u001b[0m\n",
      "\u001b[32m[I 2022-04-13 21:57:11,929]\u001b[0m Trial 45 finished with value: -0.14293872634249596 and parameters: {'n_estimators': 423, 'min_samples_split': 3, 'min_samples_leaf': 3, 'max_samples': 0.8715046161702009, 'max_features': 'auto'}. Best is trial 44 with value: -0.14198234673865193.\u001b[0m\n",
      "\u001b[32m[I 2022-04-13 21:57:48,766]\u001b[0m Trial 46 finished with value: -0.18878056142225907 and parameters: {'n_estimators': 467, 'min_samples_split': 4, 'min_samples_leaf': 2, 'max_samples': 0.8519273280265911, 'max_features': 'log2'}. Best is trial 44 with value: -0.14198234673865193.\u001b[0m\n",
      "\u001b[32m[I 2022-04-13 21:58:38,969]\u001b[0m Trial 47 finished with value: -0.15482647199483446 and parameters: {'n_estimators': 430, 'min_samples_split': 5, 'min_samples_leaf': 1, 'max_samples': 0.8030178248773527, 'max_features': 'sqrt'}. Best is trial 44 with value: -0.14198234673865193.\u001b[0m\n",
      "\u001b[32m[I 2022-04-13 22:05:04,703]\u001b[0m Trial 48 finished with value: -0.14520860068773792 and parameters: {'n_estimators': 590, 'min_samples_split': 2, 'min_samples_leaf': 4, 'max_samples': 0.7708956014943632, 'max_features': 'auto'}. Best is trial 44 with value: -0.14198234673865193.\u001b[0m\n",
      "\u001b[32m[I 2022-04-13 22:10:26,060]\u001b[0m Trial 49 finished with value: -0.1423812810397943 and parameters: {'n_estimators': 400, 'min_samples_split': 6, 'min_samples_leaf': 2, 'max_samples': 0.8611551195025478, 'max_features': 'auto'}. Best is trial 44 with value: -0.14198234673865193.\u001b[0m\n",
      "\u001b[32m[I 2022-04-13 22:15:02,580]\u001b[0m Trial 50 finished with value: -0.14990204540420157 and parameters: {'n_estimators': 381, 'min_samples_split': 6, 'min_samples_leaf': 7, 'max_samples': 0.8633090290492047, 'max_features': 'auto'}. Best is trial 44 with value: -0.14198234673865193.\u001b[0m\n",
      "\u001b[32m[I 2022-04-13 22:15:23,050]\u001b[0m Trial 51 finished with value: -0.25754609018914637 and parameters: {'n_estimators': 290, 'min_samples_split': 3, 'min_samples_leaf': 10, 'max_samples': 0.9017403840953135, 'max_features': 'log2'}. Best is trial 44 with value: -0.14198234673865193.\u001b[0m\n",
      "\u001b[32m[I 2022-04-13 22:20:41,668]\u001b[0m Trial 52 finished with value: -0.14298643410646084 and parameters: {'n_estimators': 393, 'min_samples_split': 5, 'min_samples_leaf': 1, 'max_samples': 0.817283466019901, 'max_features': 'auto'}. Best is trial 44 with value: -0.14198234673865193.\u001b[0m\n",
      "\u001b[32m[I 2022-04-13 22:26:47,332]\u001b[0m Trial 53 finished with value: -0.14233021099170365 and parameters: {'n_estimators': 474, 'min_samples_split': 4, 'min_samples_leaf': 2, 'max_samples': 0.7840819400372749, 'max_features': 'auto'}. Best is trial 44 with value: -0.14198234673865193.\u001b[0m\n",
      "\u001b[32m[I 2022-04-13 22:32:46,766]\u001b[0m Trial 54 finished with value: -0.14339201560780304 and parameters: {'n_estimators': 483, 'min_samples_split': 4, 'min_samples_leaf': 3, 'max_samples': 0.7961903013651813, 'max_features': 'auto'}. Best is trial 44 with value: -0.14198234673865193.\u001b[0m\n",
      "\u001b[32m[I 2022-04-13 22:35:10,135]\u001b[0m Trial 55 finished with value: -0.14324652573074495 and parameters: {'n_estimators': 173, 'min_samples_split': 6, 'min_samples_leaf': 1, 'max_samples': 0.8573046145226103, 'max_features': 'auto'}. Best is trial 44 with value: -0.14198234673865193.\u001b[0m\n",
      "\u001b[32m[I 2022-04-13 22:36:05,396]\u001b[0m Trial 56 finished with value: -0.16835462332688336 and parameters: {'n_estimators': 440, 'min_samples_split': 4, 'min_samples_leaf': 3, 'max_samples': 0.8934850173094004, 'max_features': 'sqrt'}. Best is trial 44 with value: -0.14198234673865193.\u001b[0m\n",
      "\u001b[32m[I 2022-04-13 22:42:50,606]\u001b[0m Trial 57 finished with value: -0.14314503013163163 and parameters: {'n_estimators': 540, 'min_samples_split': 7, 'min_samples_leaf': 2, 'max_samples': 0.7880604224538488, 'max_features': 'auto'}. Best is trial 44 with value: -0.14198234673865193.\u001b[0m\n",
      "\u001b[32m[I 2022-04-13 22:46:58,663]\u001b[0m Trial 58 finished with value: -0.14413731164905894 and parameters: {'n_estimators': 307, 'min_samples_split': 3, 'min_samples_leaf': 4, 'max_samples': 0.9494676761097813, 'max_features': 'auto'}. Best is trial 44 with value: -0.14198234673865193.\u001b[0m\n",
      "\u001b[32m[I 2022-04-13 22:51:55,187]\u001b[0m Trial 59 finished with value: -0.14646969285678485 and parameters: {'n_estimators': 401, 'min_samples_split': 5, 'min_samples_leaf': 5, 'max_samples': 0.8426273685009767, 'max_features': 'auto'}. Best is trial 44 with value: -0.14198234673865193.\u001b[0m\n",
      "\u001b[32m[I 2022-04-13 22:56:19,698]\u001b[0m Trial 60 finished with value: -0.14324643239012713 and parameters: {'n_estimators': 344, 'min_samples_split': 6, 'min_samples_leaf': 1, 'max_samples': 0.8223069267281473, 'max_features': 'auto'}. Best is trial 44 with value: -0.14198234673865193.\u001b[0m\n",
      "\u001b[32m[I 2022-04-13 23:02:06,436]\u001b[0m Trial 61 finished with value: -0.14301496443747072 and parameters: {'n_estimators': 508, 'min_samples_split': 4, 'min_samples_leaf': 3, 'max_samples': 0.8803854729634083, 'max_features': 'auto'}. Best is trial 44 with value: -0.14198234673865193.\u001b[0m\n",
      "\u001b[32m[I 2022-04-13 23:07:09,267]\u001b[0m Trial 62 finished with value: -0.14261433731948656 and parameters: {'n_estimators': 465, 'min_samples_split': 5, 'min_samples_leaf': 2, 'max_samples': 0.7755006302549512, 'max_features': 'auto'}. Best is trial 44 with value: -0.14198234673865193.\u001b[0m\n",
      "\u001b[32m[I 2022-04-13 23:12:17,621]\u001b[0m Trial 63 finished with value: -0.14258899136914813 and parameters: {'n_estimators': 473, 'min_samples_split': 5, 'min_samples_leaf': 2, 'max_samples': 0.7773245339916254, 'max_features': 'auto'}. Best is trial 44 with value: -0.14198234673865193.\u001b[0m\n",
      "\u001b[32m[I 2022-04-13 23:16:33,141]\u001b[0m Trial 64 finished with value: -0.14291053065528747 and parameters: {'n_estimators': 362, 'min_samples_split': 4, 'min_samples_leaf': 1, 'max_samples': 0.8084566779451579, 'max_features': 'auto'}. Best is trial 44 with value: -0.14198234673865193.\u001b[0m\n",
      "\u001b[32m[I 2022-04-13 23:23:04,153]\u001b[0m Trial 65 finished with value: -0.1424466686558461 and parameters: {'n_estimators': 576, 'min_samples_split': 6, 'min_samples_leaf': 2, 'max_samples': 0.8367694340939236, 'max_features': 'auto'}. Best is trial 44 with value: -0.14198234673865193.\u001b[0m\n",
      "\u001b[32m[I 2022-04-13 23:29:20,036]\u001b[0m Trial 66 finished with value: -0.14335563896724332 and parameters: {'n_estimators': 568, 'min_samples_split': 7, 'min_samples_leaf': 3, 'max_samples': 0.8399137413927104, 'max_features': 'auto'}. Best is trial 44 with value: -0.14198234673865193.\u001b[0m\n",
      "\u001b[32m[I 2022-04-13 23:34:19,400]\u001b[0m Trial 67 finished with value: -0.153195592589864 and parameters: {'n_estimators': 405, 'min_samples_split': 8, 'min_samples_leaf': 9, 'max_samples': 0.9175575936547063, 'max_features': 'auto'}. Best is trial 44 with value: -0.14198234673865193.\u001b[0m\n",
      "\u001b[32m[I 2022-04-13 23:34:53,967]\u001b[0m Trial 68 finished with value: -0.1625947630950784 and parameters: {'n_estimators': 264, 'min_samples_split': 6, 'min_samples_leaf': 2, 'max_samples': 0.8325122308833236, 'max_features': 'sqrt'}. Best is trial 44 with value: -0.14198234673865193.\u001b[0m\n",
      "\u001b[32m[I 2022-04-13 23:43:09,612]\u001b[0m Trial 69 finished with value: -0.16036167491717898 and parameters: {'n_estimators': 736, 'min_samples_split': 14, 'min_samples_leaf': 13, 'max_samples': 0.8505795147888395, 'max_features': 'auto'}. Best is trial 44 with value: -0.14198234673865193.\u001b[0m\n",
      "\u001b[32m[I 2022-04-13 23:50:21,458]\u001b[0m Trial 70 finished with value: -0.14312691507825284 and parameters: {'n_estimators': 524, 'min_samples_split': 7, 'min_samples_leaf': 1, 'max_samples': 0.8679008778525445, 'max_features': 'auto'}. Best is trial 44 with value: -0.14198234673865193.\u001b[0m\n",
      "\u001b[32m[I 2022-04-13 23:56:27,512]\u001b[0m Trial 71 finished with value: -0.14482759713875934 and parameters: {'n_estimators': 493, 'min_samples_split': 6, 'min_samples_leaf': 4, 'max_samples': 0.8222922834764339, 'max_features': 'auto'}. Best is trial 44 with value: -0.14198234673865193.\u001b[0m\n",
      "\u001b[32m[I 2022-04-14 00:01:31,914]\u001b[0m Trial 72 finished with value: -0.14260646111313582 and parameters: {'n_estimators': 455, 'min_samples_split': 5, 'min_samples_leaf': 2, 'max_samples': 0.7797606876134385, 'max_features': 'auto'}. Best is trial 44 with value: -0.14198234673865193.\u001b[0m\n",
      "\u001b[32m[I 2022-04-14 00:06:07,585]\u001b[0m Trial 73 finished with value: -0.14243509429688558 and parameters: {'n_estimators': 415, 'min_samples_split': 5, 'min_samples_leaf': 2, 'max_samples': 0.8026037412721869, 'max_features': 'auto'}. Best is trial 44 with value: -0.14198234673865193.\u001b[0m\n",
      "\u001b[32m[I 2022-04-14 00:09:34,742]\u001b[0m Trial 74 finished with value: -0.14342906091664778 and parameters: {'n_estimators': 320, 'min_samples_split': 4, 'min_samples_leaf': 3, 'max_samples': 0.8013432233737078, 'max_features': 'auto'}. Best is trial 44 with value: -0.14198234673865193.\u001b[0m\n",
      "\u001b[32m[I 2022-04-14 00:14:22,054]\u001b[0m Trial 75 finished with value: -0.14259243692296858 and parameters: {'n_estimators': 427, 'min_samples_split': 6, 'min_samples_leaf': 2, 'max_samples': 0.8305224419702503, 'max_features': 'auto'}. Best is trial 44 with value: -0.14198234673865193.\u001b[0m\n",
      "\u001b[32m[I 2022-04-14 00:18:41,828]\u001b[0m Trial 76 finished with value: -0.14280380698607276 and parameters: {'n_estimators': 364, 'min_samples_split': 3, 'min_samples_leaf': 1, 'max_samples': 0.7932701378596474, 'max_features': 'auto'}. Best is trial 44 with value: -0.14198234673865193.\u001b[0m\n",
      "\u001b[32m[I 2022-04-14 00:25:36,532]\u001b[0m Trial 77 finished with value: -0.1421181913052534 and parameters: {'n_estimators': 603, 'min_samples_split': 5, 'min_samples_leaf': 2, 'max_samples': 0.8476042882238116, 'max_features': 'auto'}. Best is trial 44 with value: -0.14198234673865193.\u001b[0m\n",
      "\u001b[32m[I 2022-04-14 00:26:03,388]\u001b[0m Trial 78 finished with value: -0.20823255933303753 and parameters: {'n_estimators': 410, 'min_samples_split': 5, 'min_samples_leaf': 3, 'max_samples': 0.7619692838403611, 'max_features': 'log2'}. Best is trial 44 with value: -0.14198234673865193.\u001b[0m\n",
      "\u001b[32m[I 2022-04-14 00:32:38,081]\u001b[0m Trial 79 finished with value: -0.14484246220100458 and parameters: {'n_estimators': 626, 'min_samples_split': 4, 'min_samples_leaf': 4, 'max_samples': 0.8122850205264568, 'max_features': 'auto'}. Best is trial 44 with value: -0.14198234673865193.\u001b[0m\n",
      "\u001b[32m[I 2022-04-14 00:37:59,736]\u001b[0m Trial 80 finished with value: -0.14262223851443975 and parameters: {'n_estimators': 440, 'min_samples_split': 5, 'min_samples_leaf': 1, 'max_samples': 0.8743363305569687, 'max_features': 'auto'}. Best is trial 44 with value: -0.14198234673865193.\u001b[0m\n",
      "\u001b[32m[I 2022-04-14 00:43:58,822]\u001b[0m Trial 81 finished with value: -0.14199129386554143 and parameters: {'n_estimators': 514, 'min_samples_split': 3, 'min_samples_leaf': 2, 'max_samples': 0.8481151939728814, 'max_features': 'auto'}. Best is trial 44 with value: -0.14198234673865193.\u001b[0m\n",
      "\u001b[32m[I 2022-04-14 00:50:58,469]\u001b[0m Trial 82 finished with value: -0.1420397072778098 and parameters: {'n_estimators': 600, 'min_samples_split': 3, 'min_samples_leaf': 2, 'max_samples': 0.8500638365373744, 'max_features': 'auto'}. Best is trial 44 with value: -0.14198234673865193.\u001b[0m\n",
      "\u001b[32m[I 2022-04-14 00:58:00,874]\u001b[0m Trial 83 finished with value: -0.14204632817846796 and parameters: {'n_estimators': 603, 'min_samples_split': 2, 'min_samples_leaf': 2, 'max_samples': 0.8513917243328244, 'max_features': 'auto'}. Best is trial 44 with value: -0.14198234673865193.\u001b[0m\n",
      "\u001b[32m[I 2022-04-14 01:06:35,592]\u001b[0m Trial 84 finished with value: -0.14232495705550466 and parameters: {'n_estimators': 647, 'min_samples_split': 2, 'min_samples_leaf': 1, 'max_samples': 0.8891497022369208, 'max_features': 'auto'}. Best is trial 44 with value: -0.14198234673865193.\u001b[0m\n",
      "\u001b[32m[I 2022-04-14 01:15:09,221]\u001b[0m Trial 85 finished with value: -0.14232517417337723 and parameters: {'n_estimators': 645, 'min_samples_split': 2, 'min_samples_leaf': 1, 'max_samples': 0.8904256413880984, 'max_features': 'auto'}. Best is trial 44 with value: -0.14198234673865193.\u001b[0m\n",
      "\u001b[32m[I 2022-04-14 01:24:02,472]\u001b[0m Trial 86 finished with value: -0.1422816237291403 and parameters: {'n_estimators': 667, 'min_samples_split': 2, 'min_samples_leaf': 1, 'max_samples': 0.8940495475297777, 'max_features': 'auto'}. Best is trial 44 with value: -0.14198234673865193.\u001b[0m\n",
      "\u001b[32m[I 2022-04-14 01:32:42,214]\u001b[0m Trial 87 finished with value: -0.142258592729248 and parameters: {'n_estimators': 651, 'min_samples_split': 2, 'min_samples_leaf': 1, 'max_samples': 0.8937167810862128, 'max_features': 'auto'}. Best is trial 44 with value: -0.14198234673865193.\u001b[0m\n",
      "\u001b[32m[I 2022-04-14 01:34:20,362]\u001b[0m Trial 88 finished with value: -0.1496668476058276 and parameters: {'n_estimators': 596, 'min_samples_split': 2, 'min_samples_leaf': 1, 'max_samples': 0.9321244658002877, 'max_features': 'sqrt'}. Best is trial 44 with value: -0.14198234673865193.\u001b[0m\n",
      "\u001b[32m[I 2022-04-14 01:44:06,708]\u001b[0m Trial 89 finished with value: -0.14225477596758965 and parameters: {'n_estimators': 724, 'min_samples_split': 2, 'min_samples_leaf': 1, 'max_samples': 0.9045735547556426, 'max_features': 'auto'}. Best is trial 44 with value: -0.14198234673865193.\u001b[0m\n",
      "\u001b[32m[I 2022-04-14 01:45:57,651]\u001b[0m Trial 90 finished with value: -0.15898880001293633 and parameters: {'n_estimators': 738, 'min_samples_split': 2, 'min_samples_leaf': 1, 'max_samples': 0.9052889022000041, 'max_features': 'log2'}. Best is trial 44 with value: -0.14198234673865193.\u001b[0m\n",
      "\u001b[32m[I 2022-04-14 01:56:00,095]\u001b[0m Trial 91 finished with value: -0.14252202611642628 and parameters: {'n_estimators': 803, 'min_samples_split': 3, 'min_samples_leaf': 1, 'max_samples': 0.847710738277748, 'max_features': 'auto'}. Best is trial 44 with value: -0.14198234673865193.\u001b[0m\n",
      "\u001b[32m[I 2022-04-14 02:04:53,728]\u001b[0m Trial 92 finished with value: -0.14227845530716562 and parameters: {'n_estimators': 672, 'min_samples_split': 2, 'min_samples_leaf': 1, 'max_samples': 0.8883419037340344, 'max_features': 'auto'}. Best is trial 44 with value: -0.14198234673865193.\u001b[0m\n",
      "\u001b[32m[I 2022-04-14 02:13:51,473]\u001b[0m Trial 93 finished with value: -0.1423243084666849 and parameters: {'n_estimators': 669, 'min_samples_split': 2, 'min_samples_leaf': 1, 'max_samples': 0.9036607684670567, 'max_features': 'auto'}. Best is trial 44 with value: -0.14198234673865193.\u001b[0m\n",
      "\u001b[32m[I 2022-04-14 02:22:26,886]\u001b[0m Trial 94 finished with value: -0.14193519221295833 and parameters: {'n_estimators': 721, 'min_samples_split': 2, 'min_samples_leaf': 2, 'max_samples': 0.8806170123644423, 'max_features': 'auto'}. Best is trial 94 with value: -0.14193519221295833.\u001b[0m\n",
      "\u001b[32m[I 2022-04-14 02:30:39,559]\u001b[0m Trial 95 finished with value: -0.14292599797802938 and parameters: {'n_estimators': 722, 'min_samples_split': 3, 'min_samples_leaf': 3, 'max_samples': 0.8785754510706704, 'max_features': 'auto'}. Best is trial 94 with value: -0.14193519221295833.\u001b[0m\n",
      "\u001b[32m[I 2022-04-14 02:38:15,986]\u001b[0m Trial 96 finished with value: -0.14169850495010367 and parameters: {'n_estimators': 608, 'min_samples_split': 3, 'min_samples_leaf': 2, 'max_samples': 0.9541238803916914, 'max_features': 'auto'}. Best is trial 96 with value: -0.14169850495010367.\u001b[0m\n",
      "\u001b[32m[I 2022-04-14 02:45:57,429]\u001b[0m Trial 97 finished with value: -0.141669746115071 and parameters: {'n_estimators': 609, 'min_samples_split': 3, 'min_samples_leaf': 2, 'max_samples': 0.9666974082524769, 'max_features': 'auto'}. Best is trial 97 with value: -0.141669746115071.\u001b[0m\n",
      "\u001b[32m[I 2022-04-14 02:53:41,965]\u001b[0m Trial 98 finished with value: -0.14175456970954667 and parameters: {'n_estimators': 610, 'min_samples_split': 3, 'min_samples_leaf': 2, 'max_samples': 0.9758778505510312, 'max_features': 'auto'}. Best is trial 97 with value: -0.141669746115071.\u001b[0m\n",
      "\u001b[32m[I 2022-04-14 03:01:01,517]\u001b[0m Trial 99 finished with value: -0.14248655483776043 and parameters: {'n_estimators': 607, 'min_samples_split': 3, 'min_samples_leaf': 3, 'max_samples': 0.9662012581514429, 'max_features': 'auto'}. Best is trial 97 with value: -0.141669746115071.\u001b[0m\n",
      "\u001b[32m[I 2022-04-14 03:08:02,191]\u001b[0m Trial 100 finished with value: -0.14165031532376057 and parameters: {'n_estimators': 553, 'min_samples_split': 3, 'min_samples_leaf': 2, 'max_samples': 0.966794120489192, 'max_features': 'auto'}. Best is trial 100 with value: -0.14165031532376057.\u001b[0m\n",
      "\u001b[32m[I 2022-04-14 03:15:07,800]\u001b[0m Trial 101 finished with value: -0.1417034714300828 and parameters: {'n_estimators': 564, 'min_samples_split': 3, 'min_samples_leaf': 2, 'max_samples': 0.959437724131129, 'max_features': 'auto'}. Best is trial 100 with value: -0.14165031532376057.\u001b[0m\n",
      "\u001b[32m[I 2022-04-14 03:21:56,742]\u001b[0m Trial 102 finished with value: -0.14165176170373076 and parameters: {'n_estimators': 540, 'min_samples_split': 3, 'min_samples_leaf': 2, 'max_samples': 0.9673081000655903, 'max_features': 'auto'}. Best is trial 100 with value: -0.14165031532376057.\u001b[0m\n",
      "\u001b[32m[I 2022-04-14 03:28:37,502]\u001b[0m Trial 103 finished with value: -0.14256581153293532 and parameters: {'n_estimators': 556, 'min_samples_split': 3, 'min_samples_leaf': 3, 'max_samples': 0.9590870311557459, 'max_features': 'auto'}. Best is trial 100 with value: -0.14165031532376057.\u001b[0m\n",
      "\u001b[32m[I 2022-04-14 03:35:24,841]\u001b[0m Trial 104 finished with value: -0.1416841630105468 and parameters: {'n_estimators': 533, 'min_samples_split': 3, 'min_samples_leaf': 2, 'max_samples': 0.9843981299776607, 'max_features': 'auto'}. Best is trial 100 with value: -0.14165031532376057.\u001b[0m\n",
      "\u001b[32m[I 2022-04-14 03:42:06,075]\u001b[0m Trial 105 finished with value: -0.14163630368316252 and parameters: {'n_estimators': 522, 'min_samples_split': 3, 'min_samples_leaf': 2, 'max_samples': 0.9884684511042103, 'max_features': 'auto'}. Best is trial 105 with value: -0.14163630368316252.\u001b[0m\n",
      "\u001b[32m[I 2022-04-14 03:48:34,568]\u001b[0m Trial 106 finished with value: -0.1424659601063116 and parameters: {'n_estimators': 530, 'min_samples_split': 3, 'min_samples_leaf': 3, 'max_samples': 0.9879389412823442, 'max_features': 'auto'}. Best is trial 105 with value: -0.14163630368316252.\u001b[0m\n",
      "\u001b[32m[I 2022-04-14 03:55:04,153]\u001b[0m Trial 107 finished with value: -0.14176049399545307 and parameters: {'n_estimators': 509, 'min_samples_split': 3, 'min_samples_leaf': 2, 'max_samples': 0.9760503862963731, 'max_features': 'auto'}. Best is trial 105 with value: -0.14163630368316252.\u001b[0m\n",
      "\u001b[32m[I 2022-04-14 03:56:12,035]\u001b[0m Trial 108 finished with value: -0.15943582620011462 and parameters: {'n_estimators': 555, 'min_samples_split': 3, 'min_samples_leaf': 2, 'max_samples': 0.9764834328286891, 'max_features': 'sqrt'}. Best is trial 105 with value: -0.14163630368316252.\u001b[0m\n",
      "\u001b[32m[I 2022-04-14 04:02:40,473]\u001b[0m Trial 109 finished with value: -0.14259874089837501 and parameters: {'n_estimators': 541, 'min_samples_split': 3, 'min_samples_leaf': 3, 'max_samples': 0.9471488798496518, 'max_features': 'auto'}. Best is trial 105 with value: -0.14163630368316252.\u001b[0m\n",
      "\u001b[32m[I 2022-04-14 04:09:16,364]\u001b[0m Trial 110 finished with value: -0.14469814783494792 and parameters: {'n_estimators': 568, 'min_samples_split': 13, 'min_samples_leaf': 3, 'max_samples': 0.9731855789698072, 'max_features': 'auto'}. Best is trial 105 with value: -0.14163630368316252.\u001b[0m\n",
      "\u001b[32m[I 2022-04-14 04:10:04,920]\u001b[0m Trial 111 finished with value: -0.18672964748282106 and parameters: {'n_estimators': 576, 'min_samples_split': 3, 'min_samples_leaf': 2, 'max_samples': 0.9585718424133444, 'max_features': 'log2'}. Best is trial 105 with value: -0.14163630368316252.\u001b[0m\n",
      "\u001b[32m[I 2022-04-14 04:16:21,487]\u001b[0m Trial 112 finished with value: -0.14174737328453382 and parameters: {'n_estimators': 505, 'min_samples_split': 3, 'min_samples_leaf': 2, 'max_samples': 0.9356226946669909, 'max_features': 'auto'}. Best is trial 105 with value: -0.14163630368316252.\u001b[0m\n",
      "\u001b[32m[I 2022-04-14 04:22:25,324]\u001b[0m Trial 113 finished with value: -0.14172586762416764 and parameters: {'n_estimators': 490, 'min_samples_split': 3, 'min_samples_leaf': 2, 'max_samples': 0.9389604208058719, 'max_features': 'auto'}. Best is trial 105 with value: -0.14163630368316252.\u001b[0m\n",
      "\u001b[32m[I 2022-04-14 04:28:37,275]\u001b[0m Trial 114 finished with value: -0.1417488546895178 and parameters: {'n_estimators': 500, 'min_samples_split': 3, 'min_samples_leaf': 2, 'max_samples': 0.9372214106364657, 'max_features': 'auto'}. Best is trial 105 with value: -0.14163630368316252.\u001b[0m\n",
      "\u001b[32m[I 2022-04-14 04:34:45,753]\u001b[0m Trial 115 finished with value: -0.1417606309190054 and parameters: {'n_estimators': 495, 'min_samples_split': 3, 'min_samples_leaf': 2, 'max_samples': 0.9375229333454642, 'max_features': 'auto'}. Best is trial 105 with value: -0.14163630368316252.\u001b[0m\n",
      "\u001b[32m[I 2022-04-14 04:41:13,432]\u001b[0m Trial 116 finished with value: -0.14167410102903008 and parameters: {'n_estimators': 507, 'min_samples_split': 4, 'min_samples_leaf': 2, 'max_samples': 0.9812937098952945, 'max_features': 'auto'}. Best is trial 105 with value: -0.14163630368316252.\u001b[0m\n",
      "\u001b[32m[I 2022-04-14 04:47:39,136]\u001b[0m Trial 117 finished with value: -0.14252952028432134 and parameters: {'n_estimators': 533, 'min_samples_split': 4, 'min_samples_leaf': 3, 'max_samples': 0.9661111350254388, 'max_features': 'auto'}. Best is trial 105 with value: -0.14163630368316252.\u001b[0m\n",
      "\u001b[32m[I 2022-04-14 04:55:27,209]\u001b[0m Trial 118 finished with value: -0.14171821778529556 and parameters: {'n_estimators': 625, 'min_samples_split': 3, 'min_samples_leaf': 2, 'max_samples': 0.9478091058068833, 'max_features': 'auto'}. Best is trial 105 with value: -0.14163630368316252.\u001b[0m\n",
      "\u001b[32m[I 2022-04-14 05:01:52,516]\u001b[0m Trial 119 finished with value: -0.144057668535434 and parameters: {'n_estimators': 555, 'min_samples_split': 4, 'min_samples_leaf': 4, 'max_samples': 0.948641648430227, 'max_features': 'auto'}. Best is trial 105 with value: -0.14163630368316252.\u001b[0m\n",
      "\u001b[32m[I 2022-04-14 05:07:38,508]\u001b[0m Trial 120 finished with value: -0.14277651125435897 and parameters: {'n_estimators': 491, 'min_samples_split': 4, 'min_samples_leaf': 3, 'max_samples': 0.9280216784561317, 'max_features': 'auto'}. Best is trial 105 with value: -0.14163630368316252.\u001b[0m\n",
      "\u001b[32m[I 2022-04-14 05:13:09,880]\u001b[0m Trial 121 finished with value: -0.14249346256932124 and parameters: {'n_estimators': 452, 'min_samples_split': 3, 'min_samples_leaf': 3, 'max_samples': 0.9841238243902727, 'max_features': 'auto'}. Best is trial 105 with value: -0.14163630368316252.\u001b[0m\n",
      "\u001b[32m[I 2022-04-14 05:20:52,754]\u001b[0m Trial 122 finished with value: -0.1417347480778269 and parameters: {'n_estimators': 622, 'min_samples_split': 3, 'min_samples_leaf': 2, 'max_samples': 0.9401191811608535, 'max_features': 'auto'}. Best is trial 105 with value: -0.14163630368316252.\u001b[0m\n",
      "\u001b[32m[I 2022-04-14 05:28:36,505]\u001b[0m Trial 123 finished with value: -0.14174761478391137 and parameters: {'n_estimators': 623, 'min_samples_split': 3, 'min_samples_leaf': 2, 'max_samples': 0.9387734496700212, 'max_features': 'auto'}. Best is trial 105 with value: -0.14163630368316252.\u001b[0m\n",
      "\u001b[32m[I 2022-04-14 05:36:26,728]\u001b[0m Trial 124 finished with value: -0.14168535512991734 and parameters: {'n_estimators': 626, 'min_samples_split': 3, 'min_samples_leaf': 2, 'max_samples': 0.9545909276137674, 'max_features': 'auto'}. Best is trial 105 with value: -0.14163630368316252.\u001b[0m\n",
      "\u001b[32m[I 2022-04-14 05:43:40,120]\u001b[0m Trial 125 finished with value: -0.14165249129495697 and parameters: {'n_estimators': 574, 'min_samples_split': 3, 'min_samples_leaf': 2, 'max_samples': 0.9572697544910886, 'max_features': 'auto'}. Best is trial 105 with value: -0.14163630368316252.\u001b[0m\n",
      "\u001b[32m[I 2022-04-14 05:50:59,799]\u001b[0m Trial 126 finished with value: -0.14176107066972374 and parameters: {'n_estimators': 582, 'min_samples_split': 4, 'min_samples_leaf': 2, 'max_samples': 0.9592057671043959, 'max_features': 'auto'}. Best is trial 105 with value: -0.14163630368316252.\u001b[0m\n",
      "\u001b[32m[I 2022-04-14 05:59:04,496]\u001b[0m Trial 127 finished with value: -0.14165040998852696 and parameters: {'n_estimators': 637, 'min_samples_split': 3, 'min_samples_leaf': 2, 'max_samples': 0.9695964794670611, 'max_features': 'auto'}. Best is trial 105 with value: -0.14163630368316252.\u001b[0m\n",
      "\u001b[32m[I 2022-04-14 06:07:30,555]\u001b[0m Trial 128 finished with value: -0.14247203386327756 and parameters: {'n_estimators': 696, 'min_samples_split': 4, 'min_samples_leaf': 3, 'max_samples': 0.9687812547570405, 'max_features': 'auto'}. Best is trial 105 with value: -0.14163630368316252.\u001b[0m\n",
      "\u001b[32m[I 2022-04-14 06:14:29,902]\u001b[0m Trial 129 finished with value: -0.14901210034441403 and parameters: {'n_estimators': 636, 'min_samples_split': 2, 'min_samples_leaf': 7, 'max_samples': 0.9544916255013309, 'max_features': 'auto'}. Best is trial 105 with value: -0.14163630368316252.\u001b[0m\n",
      "\u001b[32m[I 2022-04-14 06:21:35,760]\u001b[0m Trial 130 finished with value: -0.14320009576600565 and parameters: {'n_estimators': 585, 'min_samples_split': 10, 'min_samples_leaf': 2, 'max_samples': 0.9867973870493968, 'max_features': 'auto'}. Best is trial 105 with value: -0.14163630368316252.\u001b[0m\n",
      "\u001b[32m[I 2022-04-14 06:22:35,329]\u001b[0m Trial 131 finished with value: -0.16749532367110276 and parameters: {'n_estimators': 546, 'min_samples_split': 3, 'min_samples_leaf': 3, 'max_samples': 0.9681268742324508, 'max_features': 'sqrt'}. Best is trial 105 with value: -0.14163630368316252.\u001b[0m\n",
      "\u001b[32m[I 2022-04-14 06:30:28,275]\u001b[0m Trial 132 finished with value: -0.14173209681973611 and parameters: {'n_estimators': 629, 'min_samples_split': 3, 'min_samples_leaf': 2, 'max_samples': 0.9458601612741094, 'max_features': 'auto'}. Best is trial 105 with value: -0.14163630368316252.\u001b[0m\n",
      "\u001b[32m[I 2022-04-14 06:36:54,039]\u001b[0m Trial 133 finished with value: -0.14173071693886466 and parameters: {'n_estimators': 523, 'min_samples_split': 3, 'min_samples_leaf': 2, 'max_samples': 0.9239085738467319, 'max_features': 'auto'}. Best is trial 105 with value: -0.14163630368316252.\u001b[0m\n",
      "\u001b[32m[I 2022-04-14 06:43:59,865]\u001b[0m Trial 134 finished with value: -0.14169230190482404 and parameters: {'n_estimators': 565, 'min_samples_split': 3, 'min_samples_leaf': 2, 'max_samples': 0.9541621885269228, 'max_features': 'auto'}. Best is trial 105 with value: -0.14163630368316252.\u001b[0m\n",
      "\u001b[32m[I 2022-04-14 06:49:53,058]\u001b[0m Trial 135 finished with value: -0.15626442514816233 and parameters: {'n_estimators': 560, 'min_samples_split': 4, 'min_samples_leaf': 11, 'max_samples': 0.9606942296875457, 'max_features': 'auto'}. Best is trial 105 with value: -0.14163630368316252.\u001b[0m\n",
      "\u001b[32m[I 2022-04-14 06:58:03,562]\u001b[0m Trial 136 finished with value: -0.14212684427375244 and parameters: {'n_estimators': 577, 'min_samples_split': 2, 'min_samples_leaf': 1, 'max_samples': 0.9826867905640717, 'max_features': 'auto'}. Best is trial 105 with value: -0.14163630368316252.\u001b[0m\n",
      "\u001b[32m[I 2022-04-14 07:04:57,482]\u001b[0m Trial 137 finished with value: -0.14164326153936777 and parameters: {'n_estimators': 537, 'min_samples_split': 3, 'min_samples_leaf': 2, 'max_samples': 0.9899530770473479, 'max_features': 'auto'}. Best is trial 105 with value: -0.14163630368316252.\u001b[0m\n",
      "\u001b[32m[I 2022-04-14 07:12:41,375]\u001b[0m Trial 138 finished with value: -0.14222066171274347 and parameters: {'n_estimators': 591, 'min_samples_split': 4, 'min_samples_leaf': 1, 'max_samples': 0.9532698840909345, 'max_features': 'auto'}. Best is trial 105 with value: -0.14163630368316252.\u001b[0m\n",
      "\u001b[32m[I 2022-04-14 07:19:00,479]\u001b[0m Trial 139 finished with value: -0.14246785563608175 and parameters: {'n_estimators': 521, 'min_samples_split': 3, 'min_samples_leaf': 3, 'max_samples': 0.971365404361217, 'max_features': 'auto'}. Best is trial 105 with value: -0.14163630368316252.\u001b[0m\n",
      "\u001b[32m[I 2022-04-14 07:19:46,767]\u001b[0m Trial 140 finished with value: -0.18662641108889053 and parameters: {'n_estimators': 538, 'min_samples_split': 2, 'min_samples_leaf': 2, 'max_samples': 0.989615882639037, 'max_features': 'log2'}. Best is trial 105 with value: -0.14163630368316252.\u001b[0m\n",
      "\u001b[32m[I 2022-04-14 07:26:54,081]\u001b[0m Trial 141 finished with value: -0.14169707398946776 and parameters: {'n_estimators': 556, 'min_samples_split': 4, 'min_samples_leaf': 2, 'max_samples': 0.9797538170059943, 'max_features': 'auto'}. Best is trial 105 with value: -0.14163630368316252.\u001b[0m\n",
      "\u001b[32m[I 2022-04-14 07:34:08,579]\u001b[0m Trial 142 finished with value: -0.14170313636387835 and parameters: {'n_estimators': 569, 'min_samples_split': 4, 'min_samples_leaf': 2, 'max_samples': 0.9790654696108883, 'max_features': 'auto'}. Best is trial 105 with value: -0.14163630368316252.\u001b[0m\n",
      "\u001b[32m[I 2022-04-14 07:41:23,542]\u001b[0m Trial 143 finished with value: -0.14167711214235093 and parameters: {'n_estimators': 568, 'min_samples_split': 4, 'min_samples_leaf': 2, 'max_samples': 0.9794199038656313, 'max_features': 'auto'}. Best is trial 105 with value: -0.14163630368316252.\u001b[0m\n",
      "\u001b[32m[I 2022-04-14 07:48:19,379]\u001b[0m Trial 144 finished with value: -0.14169731467531396 and parameters: {'n_estimators': 543, 'min_samples_split': 4, 'min_samples_leaf': 2, 'max_samples': 0.981109009313894, 'max_features': 'auto'}. Best is trial 105 with value: -0.14163630368316252.\u001b[0m\n",
      "\u001b[32m[I 2022-04-14 07:55:33,481]\u001b[0m Trial 145 finished with value: -0.14222246156439358 and parameters: {'n_estimators': 544, 'min_samples_split': 4, 'min_samples_leaf': 1, 'max_samples': 0.9807495200838204, 'max_features': 'auto'}. Best is trial 105 with value: -0.14163630368316252.\u001b[0m\n",
      "\u001b[32m[I 2022-04-14 08:02:16,379]\u001b[0m Trial 146 finished with value: -0.1472151601894405 and parameters: {'n_estimators': 597, 'min_samples_split': 4, 'min_samples_leaf': 6, 'max_samples': 0.9664482450368536, 'max_features': 'auto'}. Best is trial 105 with value: -0.14163630368316252.\u001b[0m\n",
      "\u001b[32m[I 2022-04-14 08:09:14,110]\u001b[0m Trial 147 finished with value: -0.14173643818983006 and parameters: {'n_estimators': 549, 'min_samples_split': 4, 'min_samples_leaf': 2, 'max_samples': 0.9782558928315178, 'max_features': 'auto'}. Best is trial 105 with value: -0.14163630368316252.\u001b[0m\n",
      "\u001b[32m[I 2022-04-14 08:15:35,077]\u001b[0m Trial 148 finished with value: -0.1424618041874114 and parameters: {'n_estimators': 519, 'min_samples_split': 3, 'min_samples_leaf': 3, 'max_samples': 0.987886154982144, 'max_features': 'auto'}. Best is trial 105 with value: -0.14163630368316252.\u001b[0m\n",
      "\u001b[32m[I 2022-04-14 08:23:17,848]\u001b[0m Trial 149 finished with value: -0.14222780804645682 and parameters: {'n_estimators': 587, 'min_samples_split': 4, 'min_samples_leaf': 1, 'max_samples': 0.9645194348643683, 'max_features': 'auto'}. Best is trial 105 with value: -0.14163630368316252.\u001b[0m\n",
      "\u001b[32m[I 2022-04-14 08:29:56,030]\u001b[0m Trial 150 finished with value: -0.15262288349960698 and parameters: {'n_estimators': 613, 'min_samples_split': 3, 'min_samples_leaf': 9, 'max_samples': 0.9747634726447897, 'max_features': 'auto'}. Best is trial 105 with value: -0.14163630368316252.\u001b[0m\n",
      "\u001b[32m[I 2022-04-14 08:35:57,252]\u001b[0m Trial 151 finished with value: -0.14163350184246656 and parameters: {'n_estimators': 476, 'min_samples_split': 4, 'min_samples_leaf': 2, 'max_samples': 0.9719688258345855, 'max_features': 'auto'}. Best is trial 151 with value: -0.14163350184246656.\u001b[0m\n",
      "\u001b[32m[I 2022-04-14 08:42:04,350]\u001b[0m Trial 152 finished with value: -0.14166156112331432 and parameters: {'n_estimators': 481, 'min_samples_split': 4, 'min_samples_leaf': 2, 'max_samples': 0.9725157509887584, 'max_features': 'auto'}. Best is trial 151 with value: -0.14163350184246656.\u001b[0m\n",
      "\u001b[32m[I 2022-04-14 08:47:58,163]\u001b[0m Trial 153 finished with value: -0.1416838533500451 and parameters: {'n_estimators': 464, 'min_samples_split': 4, 'min_samples_leaf': 2, 'max_samples': 0.9711999428836863, 'max_features': 'auto'}. Best is trial 151 with value: -0.14163350184246656.\u001b[0m\n",
      "\u001b[32m[I 2022-04-14 08:54:09,208]\u001b[0m Trial 154 finished with value: -0.1416881873928863 and parameters: {'n_estimators': 487, 'min_samples_split': 4, 'min_samples_leaf': 2, 'max_samples': 0.9712561533918681, 'max_features': 'auto'}. Best is trial 151 with value: -0.14163350184246656.\u001b[0m\n",
      "\u001b[32m[I 2022-04-14 09:00:44,887]\u001b[0m Trial 155 finished with value: -0.14162287528733683 and parameters: {'n_estimators': 476, 'min_samples_split': 4, 'min_samples_leaf': 2, 'max_samples': 0.9703783201286861, 'max_features': 'auto'}. Best is trial 155 with value: -0.14162287528733683.\u001b[0m\n",
      "\u001b[32m[I 2022-04-14 09:07:34,370]\u001b[0m Trial 156 finished with value: -0.14220067642324072 and parameters: {'n_estimators': 475, 'min_samples_split': 4, 'min_samples_leaf': 1, 'max_samples': 0.9683749529799266, 'max_features': 'auto'}. Best is trial 155 with value: -0.14162287528733683.\u001b[0m\n",
      "\u001b[32m[I 2022-04-14 09:14:52,257]\u001b[0m Trial 157 finished with value: -0.14165642417666577 and parameters: {'n_estimators': 504, 'min_samples_split': 4, 'min_samples_leaf': 2, 'max_samples': 0.9723759909025098, 'max_features': 'auto'}. Best is trial 155 with value: -0.14162287528733683.\u001b[0m\n",
      "\u001b[32m[I 2022-04-14 09:21:11,426]\u001b[0m Trial 158 finished with value: -0.14241530241403574 and parameters: {'n_estimators': 449, 'min_samples_split': 4, 'min_samples_leaf': 3, 'max_samples': 0.989692055077145, 'max_features': 'auto'}. Best is trial 155 with value: -0.14162287528733683.\u001b[0m\n",
      "\u001b[32m[I 2022-04-14 09:27:57,617]\u001b[0m Trial 159 finished with value: -0.14161603960503066 and parameters: {'n_estimators': 470, 'min_samples_split': 4, 'min_samples_leaf': 2, 'max_samples': 0.9607961144981437, 'max_features': 'auto'}. Best is trial 159 with value: -0.14161603960503066.\u001b[0m\n",
      "\u001b[32m[I 2022-04-14 09:29:02,387]\u001b[0m Trial 160 finished with value: -0.16039532386704689 and parameters: {'n_estimators': 466, 'min_samples_split': 5, 'min_samples_leaf': 2, 'max_samples': 0.9741121272276977, 'max_features': 'sqrt'}. Best is trial 159 with value: -0.14161603960503066.\u001b[0m\n",
      "\u001b[32m[I 2022-04-14 09:35:02,026]\u001b[0m Trial 161 finished with value: -0.14257008176294314 and parameters: {'n_estimators': 461, 'min_samples_split': 4, 'min_samples_leaf': 3, 'max_samples': 0.9622980983096043, 'max_features': 'auto'}. Best is trial 159 with value: -0.14161603960503066.\u001b[0m\n",
      "\u001b[32m[I 2022-04-14 09:41:32,462]\u001b[0m Trial 162 finished with value: -0.14163161199865565 and parameters: {'n_estimators': 505, 'min_samples_split': 4, 'min_samples_leaf': 2, 'max_samples': 0.9899020056232878, 'max_features': 'auto'}. Best is trial 159 with value: -0.14161603960503066.\u001b[0m\n",
      "\u001b[32m[I 2022-04-14 09:48:05,078]\u001b[0m Trial 163 finished with value: -0.14163637831269724 and parameters: {'n_estimators': 508, 'min_samples_split': 4, 'min_samples_leaf': 2, 'max_samples': 0.9891905762641445, 'max_features': 'auto'}. Best is trial 159 with value: -0.14161603960503066.\u001b[0m\n",
      "\u001b[32m[I 2022-04-14 09:54:12,074]\u001b[0m Trial 164 finished with value: -0.14165618567972973 and parameters: {'n_estimators': 480, 'min_samples_split': 4, 'min_samples_leaf': 2, 'max_samples': 0.9718541466991927, 'max_features': 'auto'}. Best is trial 159 with value: -0.14161603960503066.\u001b[0m\n",
      "\u001b[32m[I 2022-04-14 10:01:01,602]\u001b[0m Trial 165 finished with value: -0.14214767819237006 and parameters: {'n_estimators': 510, 'min_samples_split': 4, 'min_samples_leaf': 1, 'max_samples': 0.9895958955769872, 'max_features': 'auto'}. Best is trial 159 with value: -0.14161603960503066.\u001b[0m\n",
      "\u001b[32m[I 2022-04-14 10:06:23,700]\u001b[0m Trial 166 finished with value: -0.1424676328690914 and parameters: {'n_estimators': 439, 'min_samples_split': 5, 'min_samples_leaf': 3, 'max_samples': 0.9800094376216634, 'max_features': 'auto'}. Best is trial 159 with value: -0.14161603960503066.\u001b[0m\n",
      "\u001b[32m[I 2022-04-14 10:12:31,542]\u001b[0m Trial 167 finished with value: -0.14163796069135653 and parameters: {'n_estimators': 484, 'min_samples_split': 4, 'min_samples_leaf': 2, 'max_samples': 0.9653793439159263, 'max_features': 'auto'}. Best is trial 159 with value: -0.14161603960503066.\u001b[0m\n",
      "\u001b[32m[I 2022-04-14 10:18:51,998]\u001b[0m Trial 168 finished with value: -0.14219804582655857 and parameters: {'n_estimators': 481, 'min_samples_split': 4, 'min_samples_leaf': 1, 'max_samples': 0.9635488142938433, 'max_features': 'auto'}. Best is trial 159 with value: -0.14161603960503066.\u001b[0m\n",
      "\u001b[32m[I 2022-04-14 10:23:23,425]\u001b[0m Trial 169 finished with value: -0.14402087537357278 and parameters: {'n_estimators': 497, 'min_samples_split': 5, 'min_samples_leaf': 2, 'max_samples': 0.6017672288349223, 'max_features': 'auto'}. Best is trial 159 with value: -0.14161603960503066.\u001b[0m\n",
      "\u001b[32m[I 2022-04-14 10:24:05,635]\u001b[0m Trial 170 finished with value: -0.18677388140144027 and parameters: {'n_estimators': 477, 'min_samples_split': 4, 'min_samples_leaf': 2, 'max_samples': 0.971304947276305, 'max_features': 'log2'}. Best is trial 159 with value: -0.14161603960503066.\u001b[0m\n",
      "\u001b[32m[I 2022-04-14 10:30:11,494]\u001b[0m Trial 171 finished with value: -0.14260726243070718 and parameters: {'n_estimators': 511, 'min_samples_split': 5, 'min_samples_leaf': 3, 'max_samples': 0.945012385103686, 'max_features': 'auto'}. Best is trial 159 with value: -0.14161603960503066.\u001b[0m\n",
      "\u001b[32m[I 2022-04-14 10:36:52,647]\u001b[0m Trial 172 finished with value: -0.14168159483627843 and parameters: {'n_estimators': 522, 'min_samples_split': 4, 'min_samples_leaf': 2, 'max_samples': 0.9811213922896667, 'max_features': 'auto'}. Best is trial 159 with value: -0.14161603960503066.\u001b[0m\n",
      "\u001b[32m[I 2022-04-14 10:43:11,073]\u001b[0m Trial 173 finished with value: -0.1417262497641453 and parameters: {'n_estimators': 500, 'min_samples_split': 4, 'min_samples_leaf': 2, 'max_samples': 0.9622369951691006, 'max_features': 'auto'}. Best is trial 159 with value: -0.14161603960503066.\u001b[0m\n",
      "\u001b[32m[I 2022-04-14 10:48:58,603]\u001b[0m Trial 174 finished with value: -0.14161501874695262 and parameters: {'n_estimators': 450, 'min_samples_split': 4, 'min_samples_leaf': 2, 'max_samples': 0.9899165552020569, 'max_features': 'auto'}. Best is trial 174 with value: -0.14161501874695262.\u001b[0m\n",
      "\u001b[32m[I 2022-04-14 10:54:40,533]\u001b[0m Trial 175 finished with value: -0.14165920550658603 and parameters: {'n_estimators': 442, 'min_samples_split': 4, 'min_samples_leaf': 2, 'max_samples': 0.9893348275063549, 'max_features': 'auto'}. Best is trial 174 with value: -0.14161501874695262.\u001b[0m\n",
      "\u001b[32m[I 2022-04-14 11:00:15,651]\u001b[0m Trial 176 finished with value: -0.14168846294587978 and parameters: {'n_estimators': 439, 'min_samples_split': 4, 'min_samples_leaf': 2, 'max_samples': 0.9720054523028953, 'max_features': 'auto'}. Best is trial 174 with value: -0.14161501874695262.\u001b[0m\n",
      "\u001b[32m[I 2022-04-14 11:06:07,661]\u001b[0m Trial 177 finished with value: -0.14226725563947795 and parameters: {'n_estimators': 452, 'min_samples_split': 5, 'min_samples_leaf': 1, 'max_samples': 0.9607153536593326, 'max_features': 'auto'}. Best is trial 174 with value: -0.14161501874695262.\u001b[0m\n",
      "\u001b[32m[I 2022-04-14 11:12:19,247]\u001b[0m Trial 178 finished with value: -0.14165465329655003 and parameters: {'n_estimators': 480, 'min_samples_split': 4, 'min_samples_leaf': 2, 'max_samples': 0.9881045676218047, 'max_features': 'auto'}. Best is trial 174 with value: -0.14161501874695262.\u001b[0m\n",
      "\u001b[32m[I 2022-04-14 11:16:27,796]\u001b[0m Trial 179 finished with value: -0.14278238642602178 and parameters: {'n_estimators': 387, 'min_samples_split': 4, 'min_samples_leaf': 2, 'max_samples': 0.7375991394703298, 'max_features': 'auto'}. Best is trial 174 with value: -0.14161501874695262.\u001b[0m\n",
      "\u001b[32m[I 2022-04-14 11:22:14,484]\u001b[0m Trial 180 finished with value: -0.14223191718468123 and parameters: {'n_estimators': 428, 'min_samples_split': 4, 'min_samples_leaf': 1, 'max_samples': 0.9884067544852312, 'max_features': 'auto'}. Best is trial 174 with value: -0.14161501874695262.\u001b[0m\n",
      "\u001b[32m[I 2022-04-14 11:28:20,142]\u001b[0m Trial 181 finished with value: -0.14176292755260064 and parameters: {'n_estimators': 478, 'min_samples_split': 5, 'min_samples_leaf': 2, 'max_samples': 0.9898002090495155, 'max_features': 'auto'}. Best is trial 174 with value: -0.14161501874695262.\u001b[0m\n",
      "\u001b[32m[I 2022-04-14 11:34:33,077]\u001b[0m Trial 182 finished with value: -0.1417098242018212 and parameters: {'n_estimators': 487, 'min_samples_split': 4, 'min_samples_leaf': 2, 'max_samples': 0.9728666410105247, 'max_features': 'auto'}. Best is trial 174 with value: -0.14161501874695262.\u001b[0m\n",
      "\u001b[32m[I 2022-04-14 11:40:24,839]\u001b[0m Trial 183 finished with value: -0.14172759800823423 and parameters: {'n_estimators': 459, 'min_samples_split': 3, 'min_samples_leaf': 2, 'max_samples': 0.9751599763041525, 'max_features': 'auto'}. Best is trial 174 with value: -0.14161501874695262.\u001b[0m\n",
      "\u001b[32m[I 2022-04-14 11:46:25,853]\u001b[0m Trial 184 finished with value: -0.14166385277434654 and parameters: {'n_estimators': 469, 'min_samples_split': 4, 'min_samples_leaf': 2, 'max_samples': 0.9827016783857896, 'max_features': 'auto'}. Best is trial 174 with value: -0.14161501874695262.\u001b[0m\n",
      "\u001b[32m[I 2022-04-14 11:52:10,987]\u001b[0m Trial 185 finished with value: -0.1425067276057129 and parameters: {'n_estimators': 469, 'min_samples_split': 4, 'min_samples_leaf': 3, 'max_samples': 0.982579355223338, 'max_features': 'auto'}. Best is trial 174 with value: -0.14161501874695262.\u001b[0m\n",
      "\u001b[32m[I 2022-04-14 11:57:45,773]\u001b[0m Trial 186 finished with value: -0.14168499533957576 and parameters: {'n_estimators': 446, 'min_samples_split': 4, 'min_samples_leaf': 2, 'max_samples': 0.9837670255159822, 'max_features': 'auto'}. Best is trial 174 with value: -0.14161501874695262.\u001b[0m\n",
      "\u001b[32m[I 2022-04-14 12:03:54,846]\u001b[0m Trial 187 finished with value: -0.14171962639366184 and parameters: {'n_estimators': 489, 'min_samples_split': 4, 'min_samples_leaf': 2, 'max_samples': 0.9550788879709217, 'max_features': 'auto'}. Best is trial 174 with value: -0.14161501874695262.\u001b[0m\n",
      "\u001b[32m[I 2022-04-14 12:09:16,848]\u001b[0m Trial 188 finished with value: -0.14165373462114514 and parameters: {'n_estimators': 416, 'min_samples_split': 4, 'min_samples_leaf': 2, 'max_samples': 0.989866955055038, 'max_features': 'auto'}. Best is trial 174 with value: -0.14161501874695262.\u001b[0m\n",
      "\u001b[32m[I 2022-04-14 12:14:14,062]\u001b[0m Trial 189 finished with value: -0.14261321333155483 and parameters: {'n_estimators': 408, 'min_samples_split': 4, 'min_samples_leaf': 3, 'max_samples': 0.9664146719053297, 'max_features': 'auto'}. Best is trial 174 with value: -0.14161501874695262.\u001b[0m\n",
      "\u001b[32m[I 2022-04-14 12:19:33,193]\u001b[0m Trial 190 finished with value: -0.14327169490493039 and parameters: {'n_estimators': 419, 'min_samples_split': 9, 'min_samples_leaf': 1, 'max_samples': 0.989637840762211, 'max_features': 'auto'}. Best is trial 174 with value: -0.14161501874695262.\u001b[0m\n",
      "\u001b[32m[I 2022-04-14 12:25:56,456]\u001b[0m Trial 191 finished with value: -0.14175088090147955 and parameters: {'n_estimators': 510, 'min_samples_split': 4, 'min_samples_leaf': 2, 'max_samples': 0.9760308287392997, 'max_features': 'auto'}. Best is trial 174 with value: -0.14161501874695262.\u001b[0m\n",
      "\u001b[32m[I 2022-04-14 12:31:15,368]\u001b[0m Trial 192 finished with value: -0.14170851122552694 and parameters: {'n_estimators': 433, 'min_samples_split': 4, 'min_samples_leaf': 2, 'max_samples': 0.9814482097743649, 'max_features': 'auto'}. Best is trial 174 with value: -0.14161501874695262.\u001b[0m\n",
      "\u001b[32m[I 2022-04-14 12:37:15,247]\u001b[0m Trial 193 finished with value: -0.14168319900799367 and parameters: {'n_estimators': 470, 'min_samples_split': 4, 'min_samples_leaf': 2, 'max_samples': 0.974304611506502, 'max_features': 'auto'}. Best is trial 174 with value: -0.14161501874695262.\u001b[0m\n",
      "\u001b[32m[I 2022-04-14 12:44:00,384]\u001b[0m Trial 194 finished with value: -0.14165272115220026 and parameters: {'n_estimators': 527, 'min_samples_split': 4, 'min_samples_leaf': 2, 'max_samples': 0.9888630472440937, 'max_features': 'auto'}. Best is trial 174 with value: -0.14161501874695262.\u001b[0m\n",
      "\u001b[32m[I 2022-04-14 12:50:45,315]\u001b[0m Trial 195 finished with value: -0.1417558087391719 and parameters: {'n_estimators': 531, 'min_samples_split': 5, 'min_samples_leaf': 2, 'max_samples': 0.9893725759402038, 'max_features': 'auto'}. Best is trial 174 with value: -0.14161501874695262.\u001b[0m\n",
      "\u001b[32m[I 2022-04-14 12:56:57,322]\u001b[0m Trial 196 finished with value: -0.1416594764364996 and parameters: {'n_estimators': 499, 'min_samples_split': 3, 'min_samples_leaf': 2, 'max_samples': 0.9662275409859303, 'max_features': 'auto'}. Best is trial 174 with value: -0.14161501874695262.\u001b[0m\n",
      "\u001b[32m[I 2022-04-14 12:58:00,562]\u001b[0m Trial 197 finished with value: -0.1597609605965369 and parameters: {'n_estimators': 523, 'min_samples_split': 3, 'min_samples_leaf': 2, 'max_samples': 0.9640689483221283, 'max_features': 'sqrt'}. Best is trial 174 with value: -0.14161501874695262.\u001b[0m\n",
      "\u001b[32m[I 2022-04-14 13:04:24,383]\u001b[0m Trial 198 finished with value: -0.14167068681890393 and parameters: {'n_estimators': 508, 'min_samples_split': 3, 'min_samples_leaf': 2, 'max_samples': 0.9581187729533194, 'max_features': 'auto'}. Best is trial 174 with value: -0.14161501874695262.\u001b[0m\n",
      "\u001b[32m[I 2022-04-14 13:15:55,943]\u001b[0m Trial 199 finished with value: -0.1424186295499257 and parameters: {'n_estimators': 954, 'min_samples_split': 3, 'min_samples_leaf': 3, 'max_samples': 0.9803803009190637, 'max_features': 'auto'}. Best is trial 174 with value: -0.14161501874695262.\u001b[0m\n",
      "\u001b[32m[I 2022-04-14 13:23:10,547]\u001b[0m Trial 200 finished with value: -0.1420631964884688 and parameters: {'n_estimators': 527, 'min_samples_split': 3, 'min_samples_leaf': 1, 'max_samples': 0.9897234616600222, 'max_features': 'auto'}. Best is trial 174 with value: -0.14161501874695262.\u001b[0m\n",
      "\u001b[32m[I 2022-04-14 13:28:16,147]\u001b[0m Trial 201 finished with value: -0.15934231511369865 and parameters: {'n_estimators': 489, 'min_samples_split': 3, 'min_samples_leaf': 13, 'max_samples': 0.9511781882314526, 'max_features': 'auto'}. Best is trial 174 with value: -0.14161501874695262.\u001b[0m\n",
      "\u001b[32m[I 2022-04-14 13:34:00,588]\u001b[0m Trial 202 finished with value: -0.14161655124262196 and parameters: {'n_estimators': 449, 'min_samples_split': 4, 'min_samples_leaf': 2, 'max_samples': 0.9704037703331334, 'max_features': 'auto'}. Best is trial 174 with value: -0.14161501874695262.\u001b[0m\n",
      "\u001b[32m[I 2022-04-14 13:39:48,774]\u001b[0m Trial 203 finished with value: -0.14164764195098997 and parameters: {'n_estimators': 450, 'min_samples_split': 4, 'min_samples_leaf': 2, 'max_samples': 0.9662194278089341, 'max_features': 'auto'}. Best is trial 174 with value: -0.14161501874695262.\u001b[0m\n",
      "\u001b[32m[I 2022-04-14 13:45:45,036]\u001b[0m Trial 204 finished with value: -0.141743208491012 and parameters: {'n_estimators': 448, 'min_samples_split': 4, 'min_samples_leaf': 2, 'max_samples': 0.9759808225672395, 'max_features': 'auto'}. Best is trial 174 with value: -0.14161501874695262.\u001b[0m\n",
      "\u001b[32m[I 2022-04-14 13:51:05,070]\u001b[0m Trial 205 finished with value: -0.14354325747730098 and parameters: {'n_estimators': 428, 'min_samples_split': 11, 'min_samples_leaf': 2, 'max_samples': 0.9691793875614755, 'max_features': 'auto'}. Best is trial 174 with value: -0.14161501874695262.\u001b[0m\n",
      "\u001b[32m[I 2022-04-14 13:57:06,339]\u001b[0m Trial 206 finished with value: -0.1416767865694534 and parameters: {'n_estimators': 454, 'min_samples_split': 4, 'min_samples_leaf': 2, 'max_samples': 0.9814529397159901, 'max_features': 'auto'}. Best is trial 174 with value: -0.14161501874695262.\u001b[0m\n"
     ]
    }
   ],
   "source": [
    "def objective(trial):\n",
    "    param = {\n",
    "        'n_estimators': trial.suggest_int('n_estimators', 100, 1000),\n",
    "        'min_samples_split': trial.suggest_int('min_samples_split', 2, 14),\n",
    "        'min_samples_leaf': trial.suggest_int('min_samples_leaf', 1, 14),\n",
    "        'max_samples': trial.suggest_uniform('max_samples', 0.6, 0.99),\n",
    "        'max_features': trial.suggest_categorical(\"max_features\", [\"auto\", \"sqrt\", 'log2']),\n",
    "        'max_depth': None,\n",
    "        'bootstrap': True,\n",
    "        'random_state': 42\n",
    "    }\n",
    "\n",
    "    rfr_o = RandomForestRegressor(**param)\n",
    "    cv_roc_auc = cross_val_score(rfr_o, X_train, y_train, cv=3, scoring=\"neg_mean_absolute_percentage_error\", n_jobs=-1)\n",
    "\n",
    "    return np.mean(cv_roc_auc)\n",
    "\n",
    "\n",
    "study = optuna.create_study(\n",
    "    direction=\"maximize\",\n",
    "    storage=\"sqlite:///RFRRegressor.db\",\n",
    "    study_name=\"RFRRegressor\",\n",
    "    load_if_exists=True,\n",
    ")\n",
    "study.optimize(objective, n_trials=200)"
   ]
  },
  {
   "cell_type": "markdown",
   "metadata": {},
   "source": [
    "#### Version 1 (tuned by hand)"
   ]
  },
  {
   "cell_type": "code",
   "execution_count": 25,
   "metadata": {},
   "outputs": [],
   "source": [
    "rf_tuned = RandomForestRegressor(\n",
    "    random_state=42,\n",
    "    n_estimators=800,\n",
    "    min_samples_split=2,\n",
    "    min_samples_leaf=1,\n",
    "    max_features='log2',\n",
    "    max_depth=None,\n",
    "    bootstrap=True\n",
    ").fit(X_train, np.log(y_train))\n",
    "\n",
    "print(\"rf_tuned_log\", mean_absolute_percentage_error(y_valid, np.exp(rf_tuned.predict(X_valid))))\n",
    "submit_log(test, rf_tuned, \"rf_tuned_log\")\n",
    "# rf_tuned_log 0.1315354887566232"
   ]
  },
  {
   "cell_type": "markdown",
   "metadata": {},
   "source": [
    "#### Version 2"
   ]
  },
  {
   "cell_type": "code",
   "execution_count": 28,
   "metadata": {},
   "outputs": [
    {
     "name": "stdout",
     "output_type": "stream",
     "text": [
      "rf_optuned_174_log 0.12683767196612786\n"
     ]
    }
   ],
   "source": [
    "rf_optuned_174 = RandomForestRegressor(\n",
    "    **{\n",
    "        'n_estimators': 450, \n",
    "        'min_samples_split': 4, \n",
    "        'min_samples_leaf': 2, \n",
    "        'max_samples': 0.9899165552020569, \n",
    "        'max_features': 'auto',\n",
    "        'random_state': 42,\n",
    "        'max_depth': None,\n",
    "        'bootstrap': True\n",
    "    }\n",
    ").fit(X_train, np.log(y_train))\n",
    "\n",
    "print(\"rf_optuned_174_log\", mean_absolute_percentage_error(y_valid, np.exp(rf_optuned_174.predict(X_valid))))\n",
    "submit_log(test, rf_optuned_174, \"rf_optuned_log_174\")"
   ]
  }
 ],
 "metadata": {
  "interpreter": {
   "hash": "326a131e1315163df5847284d7bac20ddee532ca1eaccb72a712d33a5c79e104"
  },
  "kernelspec": {
   "display_name": "Python 3 (ipykernel)",
   "language": "python",
   "name": "python3"
  },
  "language_info": {
   "codemirror_mode": {
    "name": "ipython",
    "version": 3
   },
   "file_extension": ".py",
   "mimetype": "text/x-python",
   "name": "python",
   "nbconvert_exporter": "python",
   "pygments_lexer": "ipython3",
   "version": "3.9.1"
  }
 },
 "nbformat": 4,
 "nbformat_minor": 4
}
