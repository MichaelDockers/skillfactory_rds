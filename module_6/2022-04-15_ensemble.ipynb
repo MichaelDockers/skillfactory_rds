{
 "cells": [
  {
   "cell_type": "markdown",
   "metadata": {},
   "source": [
    "- [previous file - EDA](2022-03-31_train-test_EDA.ipynb)\n",
    "- [previous file - sklearn experiments](2022-04-12_experiments-sklearn.ipynb)\n",
    "\n",
    "## imports"
   ]
  },
  {
   "cell_type": "code",
   "execution_count": 1,
   "metadata": {},
   "outputs": [],
   "source": [
    "# !pip install catboost lightgbm xgboost optuna"
   ]
  },
  {
   "cell_type": "code",
   "execution_count": 2,
   "metadata": {},
   "outputs": [
    {
     "name": "stderr",
     "output_type": "stream",
     "text": [
      "/home/user/Documents/sf_project_6/venv/lib64/python3.10/site-packages/xgboost/compat.py:36: FutureWarning: pandas.Int64Index is deprecated and will be removed from pandas in a future version. Use pandas.Index with the appropriate dtype instead.\n",
      "  from pandas import MultiIndex, Int64Index\n"
     ]
    }
   ],
   "source": [
    "from warnings import filterwarnings\n",
    "import os\n",
    "import pickle\n",
    "\n",
    "import joblib\n",
    "import pandas as pd\n",
    "import numpy as np\n",
    "import seaborn as sns\n",
    "import matplotlib.pyplot as plt\n",
    "from sklearn.preprocessing import RobustScaler, LabelEncoder\n",
    "from sklearn.ensemble import (\n",
    "    RandomForestRegressor,\n",
    "    ExtraTreesRegressor,\n",
    "    StackingRegressor,\n",
    ")\n",
    "from catboost import CatBoostRegressor\n",
    "from lightgbm import LGBMRegressor\n",
    "import xgboost as xgb\n",
    "from sklearn.linear_model import LinearRegression\n",
    "from sklearn.neighbors import KNeighborsRegressor\n",
    "import optuna\n",
    "from sklearn.model_selection import train_test_split, cross_val_score\n",
    "from sklearn.metrics import mean_absolute_percentage_error\n",
    "\n",
    "sns.set()\n",
    "filterwarnings(\"ignore\")"
   ]
  },
  {
   "cell_type": "markdown",
   "metadata": {},
   "source": [
    "## reading data"
   ]
  },
  {
   "cell_type": "code",
   "execution_count": 3,
   "metadata": {},
   "outputs": [
    {
     "data": {
      "text/plain": [
       "((115367, 30), (34686, 28))"
      ]
     },
     "execution_count": 3,
     "metadata": {},
     "output_type": "execute_result"
    }
   ],
   "source": [
    "path_to_data = \"data\"\n",
    "# path_to_data = \"https://github.com/XelorR/sf_project_6/raw/master/data\"\n",
    "\n",
    "train_raw = pd.read_parquet(f\"{path_to_data}/2022-04-08_train_pre-model.parquet\")\n",
    "test_raw = pd.read_parquet(f\"{path_to_data}/2022-04-08_test_pre-model.parquet\")\n",
    "\n",
    "train_raw.shape, test_raw.shape"
   ]
  },
  {
   "cell_type": "markdown",
   "metadata": {},
   "source": [
    "## functions"
   ]
  },
  {
   "cell_type": "code",
   "execution_count": 4,
   "metadata": {},
   "outputs": [],
   "source": [
    "def train_or_load(clf, X, y, filepath: str = \"model.joblib\", complevel: int = 9):\n",
    "    \"\"\"\n",
    "    Fits and serialize model as .pkl, .pickle or .joblib file.\n",
    "    Loads serialized model if filepath exists.\n",
    "\n",
    "    clf - model to fit\n",
    "    X - dateset\n",
    "    y - lables\n",
    "    filepath - where to save\n",
    "    complevel - compression level (0-9) for joblib, ignored for pickle\n",
    "    \"\"\"\n",
    "    if filepath.endswith(\".joblib\"):\n",
    "        if os.path.exists(filepath):\n",
    "            with open(filepath, \"rb\") as f:\n",
    "                clf = joblib.load(f)\n",
    "        else:\n",
    "            clf.fit(X, y)\n",
    "            with open(filepath, \"wb\") as f:\n",
    "                joblib.dump(clf, f, compress=complevel)\n",
    "        return clf\n",
    "    elif filepath.endswith(\".pkl\") or filepath.endswith(\".pickle\"):\n",
    "        if os.path.exists(filepath):\n",
    "            with open(filepath, \"rb\") as f:\n",
    "                clf = pickle.load(f)\n",
    "        else:\n",
    "            clf.fit(X, y)\n",
    "            with open(filepath, \"wb\") as f:\n",
    "                pickle.dump(clf, f)\n",
    "        return clf\n",
    "\n",
    "\n",
    "def submit(hold_out: pd.DataFrame, model, name=\"submission\"):\n",
    "    preds = model.predict(hold_out)\n",
    "    submission = pd.read_csv(f\"{path_to_data}/sample_submission.csv\")\n",
    "    submission[\"price\"] = preds\n",
    "    submission.to_csv(f\"{name}.csv\", index=False)\n",
    "\n",
    "\n",
    "def submit_log(hold_out: pd.DataFrame, model, name=\"submission\"):\n",
    "    preds = model.predict(hold_out)\n",
    "    submission = pd.read_csv(f\"{path_to_data}/sample_submission.csv\")\n",
    "    submission[\"price\"] = np.exp(preds)\n",
    "    submission.to_csv(f\"{name}.csv\", index=False)"
   ]
  },
  {
   "cell_type": "markdown",
   "metadata": {},
   "source": [
    "## encoding"
   ]
  },
  {
   "cell_type": "code",
   "execution_count": 5,
   "metadata": {},
   "outputs": [],
   "source": [
    "train_raw[\"train/test\"] = \"train\"\n",
    "test_raw[\"train/test\"] = \"test\"\n",
    "\n",
    "data = train_raw.append(test_raw)\n",
    "data[\"ptc\"].fillna(\"Оригинал\", inplace=True)\n",
    "\n",
    "data[data.select_dtypes(\"object\").columns.tolist()] = data[\n",
    "    data.select_dtypes(\"object\").columns.tolist()\n",
    "].astype(str)\n",
    "\n",
    "for col in set(data.select_dtypes(exclude=(\"object\")).columns) - {\"price\"}:\n",
    "    data[col] = (\n",
    "        RobustScaler().fit_transform(data[col].values.reshape(-1, 1)).reshape(-1, 1)\n",
    "    )\n",
    "\n",
    "for col in [\"model_name\"]:\n",
    "    data[col] = LabelEncoder().fit_transform(data[col].astype(\"str\"))\n",
    "\n",
    "data = pd.get_dummies(\n",
    "    data,\n",
    "    columns=[\n",
    "        \"vehicle_transmission\",\n",
    "        \"vendor\",\n",
    "        \"brand\",\n",
    "        \"fuel_type\",\n",
    "        \"body_type\",\n",
    "        \"color\",\n",
    "        \"ptc\",\n",
    "        \"drive\",\n",
    "        \"wheel\",\n",
    "        \"age_cat\",\n",
    "    ],\n",
    ")\n",
    "\n",
    "train = data.loc[data[\"train/test\"] == \"train\"]\n",
    "\n",
    "train_jane = train.loc[train[\"sample\"] == \"jane\"]\n",
    "train_sokolov = train.loc[train[\"sample\"] == \"sokolov\"]\n",
    "train_jane[\"price\"] = train_jane[\"price\"] * 0.86\n",
    "train = train_jane.append(train_sokolov)\n",
    "\n",
    "train.drop(columns=[\"sample\", \"description\", \"train/test\"], inplace=True)\n",
    "test = data.loc[data[\"train/test\"] == \"test\"].drop(\n",
    "    columns=[\"sample\", \"description\", \"train/test\", \"price\"]\n",
    ")"
   ]
  },
  {
   "cell_type": "markdown",
   "metadata": {},
   "source": [
    "## preparing to train models"
   ]
  },
  {
   "cell_type": "code",
   "execution_count": 6,
   "metadata": {},
   "outputs": [],
   "source": [
    "if os.path.exists(\"models\"):\n",
    "    pass\n",
    "else:\n",
    "    os.mkdir(\"models\")"
   ]
  },
  {
   "cell_type": "code",
   "execution_count": 7,
   "metadata": {},
   "outputs": [
    {
     "data": {
      "text/plain": [
       "((86525, 112), (86525,), (28842, 112), (28842,))"
      ]
     },
     "execution_count": 7,
     "metadata": {},
     "output_type": "execute_result"
    }
   ],
   "source": [
    "X_train, X_valid, y_train, y_valid = train_test_split(\n",
    "    train.drop(columns=\"price\"), train[\"price\"], random_state=42, shuffle=True\n",
    ")\n",
    "X_train.shape, y_train.shape, X_valid.shape, y_valid.shape"
   ]
  },
  {
   "cell_type": "markdown",
   "metadata": {},
   "source": [
    "## base models"
   ]
  },
  {
   "cell_type": "markdown",
   "metadata": {},
   "source": [
    "### lightgbm\n",
    "\n",
    "[notebook with related experiments](model_LightGBM_optuna.ipynb)"
   ]
  },
  {
   "cell_type": "markdown",
   "metadata": {},
   "source": [
    "#### lightgbm_v1_optuned, kaggle 17.44099"
   ]
  },
  {
   "cell_type": "code",
   "execution_count": 8,
   "metadata": {},
   "outputs": [],
   "source": [
    "model_name = \"lightgbm_v1_optuned\"\n",
    "\n",
    "lightgbm_v1_optuned = train_or_load(\n",
    "    LGBMRegressor(\n",
    "        **{\n",
    "            \"bagging_fraction\": 0.9079273070338828,\n",
    "            \"bagging_freq\": 4,\n",
    "            \"feature_fraction\": 0.716472706585253,\n",
    "            \"lambda_l1\": 0.0007127314011370048,\n",
    "            \"lambda_l2\": 1.4991431139899208e-08,\n",
    "            \"learning_rate\": 0.24273738931459424,\n",
    "            \"min_child_samples\": 27,\n",
    "            \"num_leaves\": 129,\n",
    "            \"random_state\": 42,\n",
    "            \"silent\": True,\n",
    "        }\n",
    "    ),\n",
    "    X_train,\n",
    "    y_train,\n",
    "    f\"models/{model_name}.joblib\",\n",
    ")"
   ]
  },
  {
   "cell_type": "code",
   "execution_count": 9,
   "metadata": {},
   "outputs": [
    {
     "name": "stdout",
     "output_type": "stream",
     "text": [
      "lightgbm_v1_optuned 0.1562352982059385\n"
     ]
    }
   ],
   "source": [
    "print(\n",
    "    model_name,\n",
    "    mean_absolute_percentage_error(y_valid, lightgbm_v1_optuned.predict(X_valid)),\n",
    ")\n",
    "submit(test, lightgbm_v1_optuned, model_name)"
   ]
  },
  {
   "cell_type": "markdown",
   "metadata": {},
   "source": [
    "#### lightgbm_v2_optuned, kaggle 13.36829"
   ]
  },
  {
   "cell_type": "code",
   "execution_count": 10,
   "metadata": {},
   "outputs": [],
   "source": [
    "model_name = \"lightgbm_v2_optuned\"\n",
    "\n",
    "lightgbm_v2_optuned = train_or_load(\n",
    "    LGBMRegressor(\n",
    "        **{\n",
    "            \"learning_rate\": 0.2200394016092361,\n",
    "            \"lambda_l1\": 3.6405456215002115e-08,\n",
    "            \"lambda_l2\": 3.9256724979441087,\n",
    "            \"num_leaves\": 251,\n",
    "            \"feature_fraction\": 0.7849386830734889,\n",
    "            \"bagging_fraction\": 0.999471799816821,\n",
    "            \"bagging_freq\": 7,\n",
    "            \"min_child_samples\": 5,\n",
    "            \"random_state\": 42,\n",
    "            \"silent\": True,\n",
    "        }\n",
    "    ),\n",
    "    X_train,\n",
    "    np.log(y_train),\n",
    "    f\"models/{model_name}.joblib\",\n",
    ")"
   ]
  },
  {
   "cell_type": "code",
   "execution_count": 11,
   "metadata": {},
   "outputs": [
    {
     "name": "stdout",
     "output_type": "stream",
     "text": [
      "lightgbm_v2_optuned 0.1266083430966481\n"
     ]
    }
   ],
   "source": [
    "print(\n",
    "    model_name,\n",
    "    mean_absolute_percentage_error(\n",
    "        y_valid, np.exp(lightgbm_v2_optuned.predict(X_valid))\n",
    "    ),\n",
    ")\n",
    "submit_log(test, lightgbm_v2_optuned, model_name)"
   ]
  },
  {
   "cell_type": "markdown",
   "metadata": {},
   "source": [
    "#### lightgbm_v3_optuned, kaggle 13.39206"
   ]
  },
  {
   "cell_type": "code",
   "execution_count": 12,
   "metadata": {},
   "outputs": [],
   "source": [
    "model_name = \"lightgbm_v3_optuned\"\n",
    "\n",
    "lightgbm_v3_optuned = train_or_load(\n",
    "    LGBMRegressor(\n",
    "        **{\n",
    "            \"learning_rate\": 0.2034225924278744,\n",
    "            \"lambda_l1\": 1.6905457446408715e-07,\n",
    "            \"lambda_l2\": 3.410817513919556,\n",
    "            \"num_leaves\": 237,\n",
    "            \"feature_fraction\": 0.8139002011435048,\n",
    "            \"bagging_fraction\": 0.9996914517711281,\n",
    "            \"bagging_freq\": 2,\n",
    "            \"min_child_samples\": 5,\n",
    "        }\n",
    "    ),\n",
    "    X_train,\n",
    "    np.log(y_train),\n",
    "    f\"models/{model_name}.joblib\",\n",
    ")"
   ]
  },
  {
   "cell_type": "code",
   "execution_count": 13,
   "metadata": {},
   "outputs": [
    {
     "name": "stdout",
     "output_type": "stream",
     "text": [
      "lightgbm_v3_optuned 0.12681490786747857\n"
     ]
    }
   ],
   "source": [
    "print(\n",
    "    model_name,\n",
    "    mean_absolute_percentage_error(\n",
    "        y_valid, np.exp(lightgbm_v3_optuned.predict(X_valid))\n",
    "    ),\n",
    ")\n",
    "submit_log(test, lightgbm_v3_optuned, model_name)"
   ]
  },
  {
   "cell_type": "markdown",
   "metadata": {},
   "source": [
    "### xgboost\n",
    "\n",
    "[notebook with related experiments](2022-04-12_experiments-sklearn.ipynb)"
   ]
  },
  {
   "cell_type": "markdown",
   "metadata": {},
   "source": [
    "#### xgb_v1_manual, kaggle 11.68799"
   ]
  },
  {
   "cell_type": "code",
   "execution_count": 14,
   "metadata": {},
   "outputs": [],
   "source": [
    "model_name = \"xgb_v1_manual\"\n",
    "\n",
    "xgb_v1_manual = train_or_load(\n",
    "    xgb.XGBRegressor(\n",
    "        objective=\"reg:squarederror\",\n",
    "        colsample_bytree=0.5,\n",
    "        learning_rate=0.05,\n",
    "        max_depth=12,\n",
    "        alpha=1,\n",
    "        n_estimators=1000,\n",
    "        random_state=42,\n",
    "        n_jobs=-1,\n",
    "    ),\n",
    "    X_train,\n",
    "    np.log(y_train),\n",
    "    f\"models/{model_name}.joblib\",\n",
    ")"
   ]
  },
  {
   "cell_type": "code",
   "execution_count": 15,
   "metadata": {},
   "outputs": [
    {
     "name": "stdout",
     "output_type": "stream",
     "text": [
      "xgb_v1_manual 0.1196754335163977\n"
     ]
    }
   ],
   "source": [
    "print(\n",
    "    model_name,\n",
    "    mean_absolute_percentage_error(y_valid, np.exp(xgb_v1_manual.predict(X_valid))),\n",
    ")\n",
    "submit_log(test, xgb_v1_manual, model_name)"
   ]
  },
  {
   "cell_type": "markdown",
   "metadata": {},
   "source": [
    "#### xgb_v2_optuned, kaggle 11.74262"
   ]
  },
  {
   "cell_type": "code",
   "execution_count": 16,
   "metadata": {},
   "outputs": [],
   "source": [
    "model_name = \"xgb_v2_optuned\"\n",
    "\n",
    "xgb_v2_optuned = train_or_load(\n",
    "    xgb.XGBRegressor(\n",
    "        verbosity=0,\n",
    "        tree_method=\"hist\",\n",
    "        random_state=42,\n",
    "        silent=True,\n",
    "        n_jobs=-1,\n",
    "        **{\n",
    "            \"alpha\": 0.044903341303693216,\n",
    "            \"booster\": \"gbtree\",\n",
    "            \"colsample_bytree\": 0.2782856821187278,\n",
    "            \"eta\": 3.4353303842042365e-08,\n",
    "            \"gamma\": 0.00048033429580361897,\n",
    "            \"grow_policy\": \"depthwise\",\n",
    "            \"lambda\": 4.940599898474283e-07,\n",
    "            \"learning_rate\": 0.029621998365714833,\n",
    "            \"max_depth\": 15,\n",
    "            \"min_child_weight\": 6,\n",
    "            \"n_estimators\": 736,\n",
    "            \"objective\": \"reg:squarederror\",\n",
    "            \"subsample\": 0.7203114713416401,\n",
    "        },\n",
    "    ),\n",
    "    X_train,\n",
    "    np.log(y_train),\n",
    "    f\"models/{model_name}.joblib\",\n",
    ")"
   ]
  },
  {
   "cell_type": "code",
   "execution_count": 17,
   "metadata": {},
   "outputs": [
    {
     "name": "stdout",
     "output_type": "stream",
     "text": [
      "xgb_v2_optuned 0.11972912524466967\n"
     ]
    }
   ],
   "source": [
    "print(\n",
    "    model_name,\n",
    "    mean_absolute_percentage_error(y_valid, np.exp(xgb_v2_optuned.predict(X_valid))),\n",
    ")\n",
    "submit_log(test, xgb_v2_optuned, model_name)"
   ]
  },
  {
   "cell_type": "markdown",
   "metadata": {},
   "source": [
    "### extra trees\n",
    "\n",
    "[notebook with related experiments](model_ExtraTrees_optuna.ipynb)"
   ]
  },
  {
   "cell_type": "markdown",
   "metadata": {},
   "source": [
    "#### etr_v1_manual, kaggle 14.41262"
   ]
  },
  {
   "cell_type": "code",
   "execution_count": 18,
   "metadata": {},
   "outputs": [],
   "source": [
    "model_name = \"etr_v1_manual\"\n",
    "\n",
    "etr_v1_manual = train_or_load(\n",
    "    ExtraTreesRegressor(\n",
    "        n_estimators=800,\n",
    "        min_samples_split=2,\n",
    "        min_samples_leaf=1,\n",
    "        max_features=\"auto\",\n",
    "        max_depth=15,\n",
    "        bootstrap=True,\n",
    "        random_state=42,\n",
    "        n_jobs=-1,\n",
    "        verbose=0,\n",
    "    ),\n",
    "    X_train,\n",
    "    np.log(y_train),\n",
    "    f\"models/{model_name}.joblib\",\n",
    ")"
   ]
  },
  {
   "cell_type": "code",
   "execution_count": 19,
   "metadata": {},
   "outputs": [
    {
     "name": "stdout",
     "output_type": "stream",
     "text": [
      "etr_v1_manual 0.1376278076519815\n"
     ]
    }
   ],
   "source": [
    "print(\n",
    "    model_name,\n",
    "    mean_absolute_percentage_error(y_valid, np.exp(etr_v1_manual.predict(X_valid))),\n",
    ")\n",
    "submit_log(test, etr_v1_manual, model_name)"
   ]
  },
  {
   "cell_type": "markdown",
   "metadata": {},
   "source": [
    "#### etr_v2_optuned, kaggle 11.82102"
   ]
  },
  {
   "cell_type": "code",
   "execution_count": 20,
   "metadata": {},
   "outputs": [],
   "source": [
    "model_name = \"etr_v2_optuned\"\n",
    "\n",
    "etr_v2_optuned = train_or_load(\n",
    "    ExtraTreesRegressor(\n",
    "        **{\n",
    "            \"n_estimators\": 936,\n",
    "            \"min_samples_split\": 3,\n",
    "            \"min_samples_leaf\": 1,\n",
    "            \"max_samples\": 0.9894458395539251,\n",
    "            \"max_features\": \"auto\",\n",
    "            \"max_depth\": None,\n",
    "            \"bootstrap\": True,\n",
    "            \"random_state\": 42,\n",
    "            \"n_jobs\": -1,\n",
    "            \"verbose\": 0,\n",
    "        }\n",
    "    ),\n",
    "    X_train,\n",
    "    np.log(y_train),\n",
    "    f\"models/{model_name}.joblib\",\n",
    ")"
   ]
  },
  {
   "cell_type": "code",
   "execution_count": null,
   "metadata": {},
   "outputs": [
    {
     "name": "stdout",
     "output_type": "stream",
     "text": [
      "etr_v2_optuned 0.1243004166689037\n"
     ]
    }
   ],
   "source": [
    "print(\n",
    "    model_name,\n",
    "    mean_absolute_percentage_error(y_valid, np.exp(etr_v2_optuned.predict(X_valid))),\n",
    ")\n",
    "submit_log(test, etr_v2_optuned, model_name)"
   ]
  },
  {
   "cell_type": "markdown",
   "metadata": {},
   "source": [
    "#### etr_v3_default, 11.08465"
   ]
  },
  {
   "cell_type": "code",
   "execution_count": null,
   "metadata": {},
   "outputs": [],
   "source": [
    "model_name = \"etr_v3_default\"\n",
    "\n",
    "etr_v3_default = train_or_load(\n",
    "    ExtraTreesRegressor(), X_train, np.log(y_train), f\"models/{model_name}.joblib\"\n",
    ")"
   ]
  },
  {
   "cell_type": "code",
   "execution_count": null,
   "metadata": {},
   "outputs": [
    {
     "name": "stdout",
     "output_type": "stream",
     "text": [
      "etr_v3_default 0.12964593868253957\n"
     ]
    }
   ],
   "source": [
    "print(\n",
    "    model_name,\n",
    "    mean_absolute_percentage_error(y_valid, np.exp(etr_v3_default.predict(X_valid))),\n",
    ")\n",
    "submit_log(test, etr_v3_default, model_name)"
   ]
  },
  {
   "cell_type": "markdown",
   "metadata": {},
   "source": [
    "### random forest\n",
    "\n",
    "[notebook with relative experiments](model_RandomForest_optuna.ipynb)"
   ]
  },
  {
   "cell_type": "markdown",
   "metadata": {},
   "source": [
    "#### rf_v1_manual, kaggle 12.43493"
   ]
  },
  {
   "cell_type": "code",
   "execution_count": null,
   "metadata": {},
   "outputs": [],
   "source": [
    "model_name = \"rf_v1_manual\"\n",
    "\n",
    "rf_v1_manual = train_or_load(\n",
    "    RandomForestRegressor(\n",
    "        random_state=42,\n",
    "        n_estimators=800,\n",
    "        min_samples_split=2,\n",
    "        min_samples_leaf=1,\n",
    "        max_features=\"log2\",\n",
    "        max_depth=None,\n",
    "        bootstrap=True,\n",
    "    ),\n",
    "    X_train,\n",
    "    np.log(y_train),\n",
    "    f\"models/{model_name}.joblib\",\n",
    ")"
   ]
  },
  {
   "cell_type": "code",
   "execution_count": null,
   "metadata": {},
   "outputs": [
    {
     "name": "stdout",
     "output_type": "stream",
     "text": [
      "rf_v1_manual 0.1315218319297354\n"
     ]
    }
   ],
   "source": [
    "print(\n",
    "    model_name,\n",
    "    mean_absolute_percentage_error(y_valid, np.exp(rf_v1_manual.predict(X_valid))),\n",
    ")\n",
    "submit_log(test, rf_v1_manual, model_name)"
   ]
  },
  {
   "cell_type": "markdown",
   "metadata": {},
   "source": [
    "#### rf_v2_optuned, kaggle 12.18921"
   ]
  },
  {
   "cell_type": "code",
   "execution_count": null,
   "metadata": {},
   "outputs": [],
   "source": [
    "model_name = \"rf_v2_optuned\"\n",
    "\n",
    "rf_v2_optuned = train_or_load(\n",
    "    RandomForestRegressor(\n",
    "        **{\n",
    "            \"n_estimators\": 450,\n",
    "            \"min_samples_split\": 4,\n",
    "            \"min_samples_leaf\": 2,\n",
    "            \"max_samples\": 0.9899165552020569,\n",
    "            \"max_features\": \"auto\",\n",
    "            \"random_state\": 42,\n",
    "            \"max_depth\": None,\n",
    "            \"bootstrap\": True,\n",
    "        }\n",
    "    ),\n",
    "    X_train,\n",
    "    np.log(y_train),\n",
    "    f\"models/{model_name}.joblib\",\n",
    ")"
   ]
  },
  {
   "cell_type": "code",
   "execution_count": null,
   "metadata": {},
   "outputs": [
    {
     "name": "stdout",
     "output_type": "stream",
     "text": [
      "rf_v2_optuned 0.12683767196612786\n"
     ]
    }
   ],
   "source": [
    "print(\n",
    "    model_name,\n",
    "    mean_absolute_percentage_error(y_valid, np.exp(rf_v2_optuned.predict(X_valid))),\n",
    ")\n",
    "submit_log(test, rf_v2_optuned, model_name)"
   ]
  },
  {
   "cell_type": "markdown",
   "metadata": {},
   "source": [
    "#### rf_v3_default, kaggle 11.97721"
   ]
  },
  {
   "cell_type": "code",
   "execution_count": null,
   "metadata": {},
   "outputs": [],
   "source": [
    "model_name = \"rf_v3_default\"\n",
    "\n",
    "rf_v3_default = train_or_load(\n",
    "    RandomForestRegressor(), X_train, np.log(y_train), f\"models/{model_name}.joblib\"\n",
    ")"
   ]
  },
  {
   "cell_type": "code",
   "execution_count": null,
   "metadata": {},
   "outputs": [
    {
     "name": "stdout",
     "output_type": "stream",
     "text": [
      "rf_v3_default 0.12747472477338362\n"
     ]
    }
   ],
   "source": [
    "print(\n",
    "    model_name,\n",
    "    mean_absolute_percentage_error(y_valid, np.exp(rf_v3_default.predict(X_valid))),\n",
    ")\n",
    "submit_log(test, rf_v3_default, model_name)"
   ]
  },
  {
   "cell_type": "markdown",
   "metadata": {},
   "source": [
    "## meta models"
   ]
  },
  {
   "cell_type": "markdown",
   "metadata": {},
   "source": [
    "### blending"
   ]
  },
  {
   "cell_type": "markdown",
   "metadata": {},
   "source": [
    "#### blending_v1 kaggle 11.89414"
   ]
  },
  {
   "cell_type": "code",
   "execution_count": null,
   "metadata": {},
   "outputs": [
    {
     "data": {
      "text/html": [
       "<div>\n",
       "<style scoped>\n",
       "    .dataframe tbody tr th:only-of-type {\n",
       "        vertical-align: middle;\n",
       "    }\n",
       "\n",
       "    .dataframe tbody tr th {\n",
       "        vertical-align: top;\n",
       "    }\n",
       "\n",
       "    .dataframe thead th {\n",
       "        text-align: right;\n",
       "    }\n",
       "</style>\n",
       "<table border=\"1\" class=\"dataframe\">\n",
       "  <thead>\n",
       "    <tr style=\"text-align: right;\">\n",
       "      <th></th>\n",
       "      <th>xgb_v1_manual</th>\n",
       "      <th>etr_v2_optuned</th>\n",
       "      <th>rf_v3_default</th>\n",
       "    </tr>\n",
       "  </thead>\n",
       "  <tbody>\n",
       "    <tr>\n",
       "      <th>5576</th>\n",
       "      <td>12.531177</td>\n",
       "      <td>12.639030</td>\n",
       "      <td>12.606403</td>\n",
       "    </tr>\n",
       "    <tr>\n",
       "      <th>6108</th>\n",
       "      <td>13.544144</td>\n",
       "      <td>13.576177</td>\n",
       "      <td>13.569565</td>\n",
       "    </tr>\n",
       "    <tr>\n",
       "      <th>7934</th>\n",
       "      <td>13.246906</td>\n",
       "      <td>13.215294</td>\n",
       "      <td>13.222257</td>\n",
       "    </tr>\n",
       "  </tbody>\n",
       "</table>\n",
       "</div>"
      ],
      "text/plain": [
       "      xgb_v1_manual  etr_v2_optuned  rf_v3_default\n",
       "5576      12.531177       12.639030      12.606403\n",
       "6108      13.544144       13.576177      13.569565\n",
       "7934      13.246906       13.215294      13.222257"
      ]
     },
     "execution_count": 44,
     "metadata": {},
     "output_type": "execute_result"
    }
   ],
   "source": [
    "models = [xgb_v1_manual, etr_v2_optuned, rf_v3_default]\n",
    "model_names = [\"xgb_v1_manual\", \"etr_v2_optuned\", \"rf_v3_default\"]\n",
    "\n",
    "meta_df = pd.DataFrame()\n",
    "\n",
    "for name, model in zip(model_names, models):\n",
    "    meta_df[name] = model.predict(X_valid)\n",
    "\n",
    "meta_df.sample(3, random_state=42)"
   ]
  },
  {
   "cell_type": "code",
   "execution_count": null,
   "metadata": {},
   "outputs": [
    {
     "data": {
      "text/html": [
       "<div>\n",
       "<style scoped>\n",
       "    .dataframe tbody tr th:only-of-type {\n",
       "        vertical-align: middle;\n",
       "    }\n",
       "\n",
       "    .dataframe tbody tr th {\n",
       "        vertical-align: top;\n",
       "    }\n",
       "\n",
       "    .dataframe thead th {\n",
       "        text-align: right;\n",
       "    }\n",
       "</style>\n",
       "<table border=\"1\" class=\"dataframe\">\n",
       "  <thead>\n",
       "    <tr style=\"text-align: right;\">\n",
       "      <th></th>\n",
       "      <th>xgb_v1_manual</th>\n",
       "      <th>etr_v2_optuned</th>\n",
       "      <th>rf_v3_default</th>\n",
       "      <th>preds</th>\n",
       "    </tr>\n",
       "  </thead>\n",
       "  <tbody>\n",
       "    <tr>\n",
       "      <th>19026</th>\n",
       "      <td>13.114839</td>\n",
       "      <td>13.050964</td>\n",
       "      <td>13.051629</td>\n",
       "      <td>489133.462439</td>\n",
       "    </tr>\n",
       "    <tr>\n",
       "      <th>3337</th>\n",
       "      <td>12.092997</td>\n",
       "      <td>12.021870</td>\n",
       "      <td>12.045096</td>\n",
       "      <td>171220.717123</td>\n",
       "    </tr>\n",
       "    <tr>\n",
       "      <th>11807</th>\n",
       "      <td>13.743210</td>\n",
       "      <td>13.761394</td>\n",
       "      <td>13.721139</td>\n",
       "      <td>935459.984616</td>\n",
       "    </tr>\n",
       "  </tbody>\n",
       "</table>\n",
       "</div>"
      ],
      "text/plain": [
       "       xgb_v1_manual  etr_v2_optuned  rf_v3_default          preds\n",
       "19026      13.114839       13.050964      13.051629  489133.462439\n",
       "3337       12.092997       12.021870      12.045096  171220.717123\n",
       "11807      13.743210       13.761394      13.721139  935459.984616"
      ]
     },
     "execution_count": 45,
     "metadata": {},
     "output_type": "execute_result"
    }
   ],
   "source": [
    "meta_model = CatBoostRegressor(random_state=42, silent=True)\n",
    "meta_model.fit(meta_df, y_valid)\n",
    "\n",
    "meta_for_hold_out = pd.DataFrame()\n",
    "\n",
    "for name, model in zip(model_names, models):\n",
    "    meta_for_hold_out[name] = model.predict(test)\n",
    "\n",
    "meta_for_hold_out[\"preds\"] = meta_model.predict(meta_for_hold_out)\n",
    "meta_for_hold_out.sample(3, random_state=42)"
   ]
  },
  {
   "cell_type": "code",
   "execution_count": null,
   "metadata": {},
   "outputs": [],
   "source": [
    "submit(\n",
    "    meta_for_hold_out.drop(columns=[\"preds\"]), meta_model, \"blending_v1\"\n",
    ")"
   ]
  },
  {
   "cell_type": "markdown",
   "metadata": {},
   "source": [
    "#### blending_v2, kaggle 11.50377"
   ]
  },
  {
   "cell_type": "code",
   "execution_count": null,
   "metadata": {},
   "outputs": [
    {
     "data": {
      "text/html": [
       "<div>\n",
       "<style scoped>\n",
       "    .dataframe tbody tr th:only-of-type {\n",
       "        vertical-align: middle;\n",
       "    }\n",
       "\n",
       "    .dataframe tbody tr th {\n",
       "        vertical-align: top;\n",
       "    }\n",
       "\n",
       "    .dataframe thead th {\n",
       "        text-align: right;\n",
       "    }\n",
       "</style>\n",
       "<table border=\"1\" class=\"dataframe\">\n",
       "  <thead>\n",
       "    <tr style=\"text-align: right;\">\n",
       "      <th></th>\n",
       "      <th>xgb_v1_manual</th>\n",
       "      <th>etr_v2_optuned</th>\n",
       "      <th>rf_v3_default</th>\n",
       "      <th>preds</th>\n",
       "    </tr>\n",
       "  </thead>\n",
       "  <tbody>\n",
       "    <tr>\n",
       "      <th>19026</th>\n",
       "      <td>13.114839</td>\n",
       "      <td>13.050964</td>\n",
       "      <td>13.051629</td>\n",
       "      <td>486516.406756</td>\n",
       "    </tr>\n",
       "    <tr>\n",
       "      <th>3337</th>\n",
       "      <td>12.092997</td>\n",
       "      <td>12.021870</td>\n",
       "      <td>12.045096</td>\n",
       "      <td>171045.145424</td>\n",
       "    </tr>\n",
       "    <tr>\n",
       "      <th>11807</th>\n",
       "      <td>13.743210</td>\n",
       "      <td>13.761394</td>\n",
       "      <td>13.721139</td>\n",
       "      <td>925643.343998</td>\n",
       "    </tr>\n",
       "  </tbody>\n",
       "</table>\n",
       "</div>"
      ],
      "text/plain": [
       "       xgb_v1_manual  etr_v2_optuned  rf_v3_default          preds\n",
       "19026      13.114839       13.050964      13.051629  486516.406756\n",
       "3337       12.092997       12.021870      12.045096  171045.145424\n",
       "11807      13.743210       13.761394      13.721139  925643.343998"
      ]
     },
     "execution_count": 47,
     "metadata": {},
     "output_type": "execute_result"
    }
   ],
   "source": [
    "meta_model = CatBoostRegressor(random_state=42, silent=True)\n",
    "meta_model.fit(meta_df, np.log(y_valid))\n",
    "\n",
    "meta_for_hold_out = pd.DataFrame()\n",
    "\n",
    "for name, model in zip(model_names, models):\n",
    "    meta_for_hold_out[name] = model.predict(test)\n",
    "\n",
    "meta_for_hold_out[\"preds\"] = np.exp(meta_model.predict(meta_for_hold_out))\n",
    "meta_for_hold_out.sample(3, random_state=42)"
   ]
  },
  {
   "cell_type": "code",
   "execution_count": null,
   "metadata": {},
   "outputs": [],
   "source": [
    "submit_log(\n",
    "    meta_for_hold_out.drop(columns=[\"preds\"]), meta_model, \"blending_v2\"\n",
    ")"
   ]
  },
  {
   "cell_type": "markdown",
   "metadata": {},
   "source": [
    "#### blending_v3, kaggle 11.59602"
   ]
  },
  {
   "cell_type": "code",
   "execution_count": null,
   "metadata": {},
   "outputs": [
    {
     "data": {
      "text/html": [
       "<div>\n",
       "<style scoped>\n",
       "    .dataframe tbody tr th:only-of-type {\n",
       "        vertical-align: middle;\n",
       "    }\n",
       "\n",
       "    .dataframe tbody tr th {\n",
       "        vertical-align: top;\n",
       "    }\n",
       "\n",
       "    .dataframe thead th {\n",
       "        text-align: right;\n",
       "    }\n",
       "</style>\n",
       "<table border=\"1\" class=\"dataframe\">\n",
       "  <thead>\n",
       "    <tr style=\"text-align: right;\">\n",
       "      <th></th>\n",
       "      <th>xgb_v1_manual</th>\n",
       "      <th>etr_v2_optuned</th>\n",
       "      <th>rf_v3_default</th>\n",
       "      <th>lr</th>\n",
       "    </tr>\n",
       "  </thead>\n",
       "  <tbody>\n",
       "    <tr>\n",
       "      <th>5576</th>\n",
       "      <td>12.531177</td>\n",
       "      <td>12.639030</td>\n",
       "      <td>12.606403</td>\n",
       "      <td>12.500602</td>\n",
       "    </tr>\n",
       "    <tr>\n",
       "      <th>6108</th>\n",
       "      <td>13.544144</td>\n",
       "      <td>13.576177</td>\n",
       "      <td>13.569565</td>\n",
       "      <td>13.809972</td>\n",
       "    </tr>\n",
       "    <tr>\n",
       "      <th>7934</th>\n",
       "      <td>13.246906</td>\n",
       "      <td>13.215294</td>\n",
       "      <td>13.222257</td>\n",
       "      <td>12.996579</td>\n",
       "    </tr>\n",
       "  </tbody>\n",
       "</table>\n",
       "</div>"
      ],
      "text/plain": [
       "      xgb_v1_manual  etr_v2_optuned  rf_v3_default         lr\n",
       "5576      12.531177       12.639030      12.606403  12.500602\n",
       "6108      13.544144       13.576177      13.569565  13.809972\n",
       "7934      13.246906       13.215294      13.222257  12.996579"
      ]
     },
     "execution_count": 49,
     "metadata": {},
     "output_type": "execute_result"
    }
   ],
   "source": [
    "models = [xgb_v1_manual, etr_v2_optuned, rf_v3_default, LinearRegression().fit(X_train, np.log(y_train))]\n",
    "model_names = [\"xgb_v1_manual\", \"etr_v2_optuned\", \"rf_v3_default\", \"lr\"]\n",
    "\n",
    "meta_df = pd.DataFrame()\n",
    "\n",
    "for name, model in zip(model_names, models):\n",
    "    meta_df[name] = model.predict(X_valid)\n",
    "\n",
    "meta_df.sample(3, random_state=42)"
   ]
  },
  {
   "cell_type": "code",
   "execution_count": null,
   "metadata": {},
   "outputs": [
    {
     "data": {
      "text/html": [
       "<div>\n",
       "<style scoped>\n",
       "    .dataframe tbody tr th:only-of-type {\n",
       "        vertical-align: middle;\n",
       "    }\n",
       "\n",
       "    .dataframe tbody tr th {\n",
       "        vertical-align: top;\n",
       "    }\n",
       "\n",
       "    .dataframe thead th {\n",
       "        text-align: right;\n",
       "    }\n",
       "</style>\n",
       "<table border=\"1\" class=\"dataframe\">\n",
       "  <thead>\n",
       "    <tr style=\"text-align: right;\">\n",
       "      <th></th>\n",
       "      <th>xgb_v1_manual</th>\n",
       "      <th>etr_v2_optuned</th>\n",
       "      <th>rf_v3_default</th>\n",
       "      <th>lr</th>\n",
       "      <th>preds</th>\n",
       "    </tr>\n",
       "  </thead>\n",
       "  <tbody>\n",
       "    <tr>\n",
       "      <th>19026</th>\n",
       "      <td>13.114839</td>\n",
       "      <td>13.050964</td>\n",
       "      <td>13.051629</td>\n",
       "      <td>13.215980</td>\n",
       "      <td>492556.443835</td>\n",
       "    </tr>\n",
       "    <tr>\n",
       "      <th>3337</th>\n",
       "      <td>12.092997</td>\n",
       "      <td>12.021870</td>\n",
       "      <td>12.045096</td>\n",
       "      <td>12.104591</td>\n",
       "      <td>170250.150848</td>\n",
       "    </tr>\n",
       "    <tr>\n",
       "      <th>11807</th>\n",
       "      <td>13.743210</td>\n",
       "      <td>13.761394</td>\n",
       "      <td>13.721139</td>\n",
       "      <td>13.636175</td>\n",
       "      <td>929929.070964</td>\n",
       "    </tr>\n",
       "  </tbody>\n",
       "</table>\n",
       "</div>"
      ],
      "text/plain": [
       "       xgb_v1_manual  etr_v2_optuned  rf_v3_default         lr          preds\n",
       "19026      13.114839       13.050964      13.051629  13.215980  492556.443835\n",
       "3337       12.092997       12.021870      12.045096  12.104591  170250.150848\n",
       "11807      13.743210       13.761394      13.721139  13.636175  929929.070964"
      ]
     },
     "execution_count": 50,
     "metadata": {},
     "output_type": "execute_result"
    }
   ],
   "source": [
    "meta_model = CatBoostRegressor(random_state=42, silent=True)\n",
    "meta_model.fit(meta_df, np.log(y_valid))\n",
    "\n",
    "meta_for_hold_out = pd.DataFrame()\n",
    "\n",
    "for name, model in zip(model_names, models):\n",
    "    meta_for_hold_out[name] = model.predict(test)\n",
    "\n",
    "meta_for_hold_out[\"preds\"] = np.exp(meta_model.predict(meta_for_hold_out))\n",
    "meta_for_hold_out.sample(3, random_state=42)"
   ]
  },
  {
   "cell_type": "code",
   "execution_count": null,
   "metadata": {},
   "outputs": [],
   "source": [
    "submit_log(\n",
    "    meta_for_hold_out.drop(columns=[\"preds\"]), meta_model, \"blending_v3\"\n",
    ")"
   ]
  },
  {
   "cell_type": "markdown",
   "metadata": {},
   "source": [
    "#### blending_v4, kaggle 12.27095"
   ]
  },
  {
   "cell_type": "code",
   "execution_count": null,
   "metadata": {},
   "outputs": [
    {
     "data": {
      "text/html": [
       "<div>\n",
       "<style scoped>\n",
       "    .dataframe tbody tr th:only-of-type {\n",
       "        vertical-align: middle;\n",
       "    }\n",
       "\n",
       "    .dataframe tbody tr th {\n",
       "        vertical-align: top;\n",
       "    }\n",
       "\n",
       "    .dataframe thead th {\n",
       "        text-align: right;\n",
       "    }\n",
       "</style>\n",
       "<table border=\"1\" class=\"dataframe\">\n",
       "  <thead>\n",
       "    <tr style=\"text-align: right;\">\n",
       "      <th></th>\n",
       "      <th>xgb_v1_manual</th>\n",
       "      <th>etr_v2_optuned</th>\n",
       "      <th>rf_v3_default</th>\n",
       "    </tr>\n",
       "  </thead>\n",
       "  <tbody>\n",
       "    <tr>\n",
       "      <th>5576</th>\n",
       "      <td>12.531177</td>\n",
       "      <td>12.639030</td>\n",
       "      <td>12.606403</td>\n",
       "    </tr>\n",
       "    <tr>\n",
       "      <th>6108</th>\n",
       "      <td>13.544144</td>\n",
       "      <td>13.576177</td>\n",
       "      <td>13.569565</td>\n",
       "    </tr>\n",
       "    <tr>\n",
       "      <th>7934</th>\n",
       "      <td>13.246906</td>\n",
       "      <td>13.215294</td>\n",
       "      <td>13.222257</td>\n",
       "    </tr>\n",
       "  </tbody>\n",
       "</table>\n",
       "</div>"
      ],
      "text/plain": [
       "      xgb_v1_manual  etr_v2_optuned  rf_v3_default\n",
       "5576      12.531177       12.639030      12.606403\n",
       "6108      13.544144       13.576177      13.569565\n",
       "7934      13.246906       13.215294      13.222257"
      ]
     },
     "execution_count": 52,
     "metadata": {},
     "output_type": "execute_result"
    }
   ],
   "source": [
    "models = [xgb_v1_manual, etr_v2_optuned, rf_v3_default]\n",
    "model_names = [\"xgb_v1_manual\", \"etr_v2_optuned\", \"rf_v3_default\"]\n",
    "\n",
    "meta_df = pd.DataFrame()\n",
    "\n",
    "for name, model in zip(model_names, models):\n",
    "    meta_df[name] = model.predict(X_valid)\n",
    "\n",
    "meta_df.sample(3, random_state=42)"
   ]
  },
  {
   "cell_type": "code",
   "execution_count": null,
   "metadata": {},
   "outputs": [
    {
     "data": {
      "text/html": [
       "<div>\n",
       "<style scoped>\n",
       "    .dataframe tbody tr th:only-of-type {\n",
       "        vertical-align: middle;\n",
       "    }\n",
       "\n",
       "    .dataframe tbody tr th {\n",
       "        vertical-align: top;\n",
       "    }\n",
       "\n",
       "    .dataframe thead th {\n",
       "        text-align: right;\n",
       "    }\n",
       "</style>\n",
       "<table border=\"1\" class=\"dataframe\">\n",
       "  <thead>\n",
       "    <tr style=\"text-align: right;\">\n",
       "      <th></th>\n",
       "      <th>xgb_v1_manual</th>\n",
       "      <th>etr_v2_optuned</th>\n",
       "      <th>rf_v3_default</th>\n",
       "      <th>preds</th>\n",
       "    </tr>\n",
       "  </thead>\n",
       "  <tbody>\n",
       "    <tr>\n",
       "      <th>19026</th>\n",
       "      <td>13.114839</td>\n",
       "      <td>13.050964</td>\n",
       "      <td>13.051629</td>\n",
       "      <td>487100.304442</td>\n",
       "    </tr>\n",
       "    <tr>\n",
       "      <th>3337</th>\n",
       "      <td>12.092997</td>\n",
       "      <td>12.021870</td>\n",
       "      <td>12.045096</td>\n",
       "      <td>182856.539800</td>\n",
       "    </tr>\n",
       "    <tr>\n",
       "      <th>11807</th>\n",
       "      <td>13.743210</td>\n",
       "      <td>13.761394</td>\n",
       "      <td>13.721139</td>\n",
       "      <td>959368.900737</td>\n",
       "    </tr>\n",
       "  </tbody>\n",
       "</table>\n",
       "</div>"
      ],
      "text/plain": [
       "       xgb_v1_manual  etr_v2_optuned  rf_v3_default          preds\n",
       "19026      13.114839       13.050964      13.051629  487100.304442\n",
       "3337       12.092997       12.021870      12.045096  182856.539800\n",
       "11807      13.743210       13.761394      13.721139  959368.900737"
      ]
     },
     "execution_count": 53,
     "metadata": {},
     "output_type": "execute_result"
    }
   ],
   "source": [
    "meta_model = ExtraTreesRegressor(random_state=42)\n",
    "meta_model.fit(meta_df, np.log(y_valid))\n",
    "\n",
    "meta_for_hold_out = pd.DataFrame()\n",
    "\n",
    "for name, model in zip(model_names, models):\n",
    "    meta_for_hold_out[name] = model.predict(test)\n",
    "\n",
    "meta_for_hold_out[\"preds\"] = np.exp(meta_model.predict(meta_for_hold_out))\n",
    "meta_for_hold_out.sample(3, random_state=42)"
   ]
  },
  {
   "cell_type": "code",
   "execution_count": null,
   "metadata": {},
   "outputs": [],
   "source": [
    "submit_log(\n",
    "    meta_for_hold_out.drop(columns=[\"preds\"]), meta_model, \"blending_v4\"\n",
    ")"
   ]
  },
  {
   "cell_type": "markdown",
   "metadata": {},
   "source": [
    "### stacking"
   ]
  }
 ],
 "metadata": {
  "interpreter": {
   "hash": "fc97230471a50d03a39de2ef2db4cb6697cabc3209032c45f8c922658807cbc7"
  },
  "kernelspec": {
   "display_name": "Python 3.9.1 ('venv': venv)",
   "language": "python",
   "name": "python3"
  },
  "language_info": {
   "codemirror_mode": {
    "name": "ipython",
    "version": 3
   },
   "file_extension": ".py",
   "mimetype": "text/x-python",
   "name": "python",
   "nbconvert_exporter": "python",
   "pygments_lexer": "ipython3",
   "version": "3.10.4"
  },
  "orig_nbformat": 4
 },
 "nbformat": 4,
 "nbformat_minor": 2
}
