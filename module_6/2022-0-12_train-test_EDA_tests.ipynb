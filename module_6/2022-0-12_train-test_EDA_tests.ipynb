{
 "cells": [
  {
   "cell_type": "markdown",
   "metadata": {},
   "source": [
    "# EDA\n",
    "\n",
    "## Importing modules\n",
    "\n",
    "And configuting settings"
   ]
  },
  {
   "cell_type": "code",
   "execution_count": 251,
   "metadata": {},
   "outputs": [],
   "source": [
    "from warnings import filterwarnings\n",
    "import os\n",
    "\n",
    "import matplotlib.pyplot as plt\n",
    "import numpy as np\n",
    "import pandas as pd\n",
    "# import pandas_profiling as pp\n",
    "import seaborn as sns\n",
    "import sweetviz as sv\n",
    "\n",
    "from scipy.stats import yeojohnson, zscore\n",
    "\n",
    "from sklearn.model_selection import train_test_split\n",
    "from sklearn.preprocessing import OneHotEncoder, PowerTransformer\n",
    "from sklearn.linear_model import LinearRegression\n",
    "from sklearn.ensemble import RandomForestRegressor, AdaBoostRegressor\n",
    "from sklearn.tree import DecisionTreeRegressor\n",
    "from catboost import CatBoostRegressor, Pool\n",
    "import xgboost as xgb\n",
    "\n",
    "# import category_encoders as ce\n",
    "\n",
    "from lib.data_viz_functions import *\n",
    "from lib.model_related import *"
   ]
  },
  {
   "cell_type": "code",
   "execution_count": 3,
   "metadata": {},
   "outputs": [],
   "source": [
    "filterwarnings(\"ignore\")\n",
    "sns.set()\n",
    "\n",
    "pd.set_option(\"display.max_rows\", 100)\n",
    "pd.set_option(\"display.max_columns\", 100)\n",
    "\n",
    "%matplotlib inline"
   ]
  },
  {
   "cell_type": "code",
   "execution_count": 642,
   "metadata": {},
   "outputs": [],
   "source": [
    "train = pd.read_pickle(\"data/2022-04-06_train_preprocessed.pkl.zip\", compression=\"zip\")\n",
    "test = pd.read_pickle(\"data/2022-04-06_test_preprocessed.pkl.zip\", compression=\"zip\")"
   ]
  },
  {
   "cell_type": "code",
   "execution_count": 672,
   "metadata": {},
   "outputs": [],
   "source": [
    "currency_dict= {\n",
    "    '2020-10-20': 77.9241,\n",
    "    '2020-10-19': 77.9644,\n",
    "    '2020-10-21': 77.7780,\n",
    "    '2020-10-25': 76.4667,\n",
    "    '2020-10-24': 76.4667,\n",
    "    '2020-10-26': 76.4667,\n",
    "    '2020-09-09': 75.9645,\n",
    "    '2021-09-27': 73.0081,\n",
    "    '2021-09-30': 72.7608,\n",
    "    '2021-09-26': 73.0081,\n",
    "    '2021-09-28': 72.6613,\n",
    "    '2021-09-29': 72.5083,\n",
    "    '2021-10-01': 72.6642\n",
    "}"
   ]
  },
  {
   "cell_type": "code",
   "execution_count": 671,
   "metadata": {},
   "outputs": [
    {
     "data": {
      "text/plain": [
       "2021-09-27    11199\n",
       "2021-09-30     7287\n",
       "2021-09-26     5346\n",
       "2021-09-28     3769\n",
       "2021-09-29     2372\n",
       "2021-10-01        4\n",
       "Name: parsed_date, dtype: int64"
      ]
     },
     "execution_count": 671,
     "metadata": {},
     "output_type": "execute_result"
    }
   ],
   "source": [
    "train[train['sample'] == 'jane']['parsed_date'].value_counts()"
   ]
  },
  {
   "cell_type": "markdown",
   "metadata": {
    "tags": []
   },
   "source": [
    "## Feature description\n",
    "\n",
    "- **body_type** - Type of vehicle body (седан, купе, хэтчбек...)  \n",
    "- **brand** - Manufacture name (bmw, audi...)  \n",
    "- **color** - Main car's body color  \n",
    "- **description** - Seller's car description  \n",
    "- **engine_displacement** - Volume of car's engine (nan if electro)  \n",
    "- **engine_power** - Engine power in horse powers  \n",
    "- **fuel_type** - Fuel type (diesel, gasoline, electro...)  \n",
    "- **km_age** - Vehicle mileage  \n",
    "- **model_year** - Year when model production was started  \n",
    "- **number_of_doors** - Number of doors  \n",
    "- **production_year** - Production year of this car  \n",
    "- **vehicle_transmission** - Transmission type (auto, robot, mech...)  \n",
    "- **vendor** - Origin country of brand (EUROPIAN, CHINEESE...)  \n",
    "- **oweners** - Count of oweners of car  \n",
    "- **owenership_duration** - Owenership duration  \n",
    "- **ptc** - Vehicle Registration Certificate (YES, NO, DUP)  \n",
    "- **drive** - Car drive (4WD, FRONT, REAR)  \n",
    "- **wheel** - Wheel position in car (RIGHT, LEFT)  \n",
    "- **price** - Our target column - Car Price  "
   ]
  },
  {
   "cell_type": "markdown",
   "metadata": {},
   "source": [
    "### Dicts and Lists block"
   ]
  },
  {
   "cell_type": "code",
   "execution_count": 614,
   "metadata": {},
   "outputs": [],
   "source": [
    "valid_columns_dict = {\n",
    "    \"bodyType\": \"body_type\",\n",
    "    \"engineDisplacement\": \"engine_displacement\",\n",
    "    \"enginePower\": \"engine_power\",\n",
    "    \"fuelType\": \"fuel_type\",\n",
    "    \"mileage\": \"km_age\",\n",
    "    \"modelDate\": \"model_year\",\n",
    "    \"numberOfDoors\": \"number_of_doors\",\n",
    "    \"productionDate\": \"production_year\",\n",
    "    \"vehicleTransmission\": \"vehicle_transmission\",\n",
    "    \"Владельцы\": \"owners\",\n",
    "    \"Владение\": \"ownership_duration\",\n",
    "    \"ПТС\": \"ptc\",\n",
    "    \"Привод\": \"drive\",\n",
    "    \"Руль\": \"wheel\",\n",
    "}"
   ]
  },
  {
   "cell_type": "markdown",
   "metadata": {},
   "source": [
    "### Functions"
   ]
  },
  {
   "cell_type": "code",
   "execution_count": 615,
   "metadata": {},
   "outputs": [],
   "source": [
    "def fillna_owners(s):\n",
    "    if not pd.isna(s[0]):\n",
    "        return s[0]\n",
    "    else:\n",
    "        if s[1] < 365:\n",
    "            return 1\n",
    "        elif 365 <= s[1] < 730:\n",
    "            return 2\n",
    "        else:\n",
    "            return 3\n",
    "        \n",
    "\n",
    "def get_nans_in_percents(df):\n",
    "    nans = df.isna().sum() / df.shape[0] * 100\n",
    "    return nans[nans > 0]\n",
    "\n",
    "\n",
    "def plot_nans_heatmap(train, test):\n",
    "    fig, ax = plt.subplots(1, 2, figsize=(14, 4))\n",
    "    sns.heatmap(train.isna(), cmap=\"YlGnBu\", ax=ax[0], cbar=False).set_title(\n",
    "        \"Heatmap for train dataframe\"\n",
    "    )\n",
    "    sns.heatmap(test.isna(), cmap=\"YlGnBu\", ax=ax[1], cbar=False).set_title(\n",
    "        \"Heatmap for test dataframe\"\n",
    "    )\n",
    "    plt.show()"
   ]
  },
  {
   "cell_type": "code",
   "execution_count": 638,
   "metadata": {},
   "outputs": [],
   "source": [
    "def preprocesing(in_df) -> pd.DataFrame:\n",
    "\n",
    "    df = in_df.copy()\n",
    "\n",
    "    enc_list = [\n",
    "        \"body_type\",\n",
    "        \"brand\",\n",
    "        \"color\",\n",
    "        \"fuel_type\",\n",
    "        \"vehicle_transmission\",\n",
    "        \"vendor\",\n",
    "        \"drive\",\n",
    "        \"wheel\",\n",
    "        \"ptc\",\n",
    "        \"age_cat\",\n",
    "    ]\n",
    "\n",
    "    # ohenc = OneHotEncoder()\n",
    "\n",
    "    electro_mask = (df.engine_displacement.isna()) & (df.fuel_type == \"электро\")\n",
    "    df.loc[electro_mask, \"engine_displacement\"] = 0\n",
    "    \n",
    "    df['price_usd_rate'] = df['parsed_date'].map(currency_dict)\n",
    "    \n",
    "    df[\"parsed_date\"] = pd.to_datetime(df[\"parsed_date\"])\n",
    "    df[\"production_year\"] = pd.to_datetime(\n",
    "        df[\"production_year\"].astype(int).astype(str)\n",
    "    )\n",
    "\n",
    "    df[\"diff_data\"] = (df[\"parsed_date\"] - df[\"production_year\"]).astype(\n",
    "        \"timedelta64[D]\"\n",
    "    )\n",
    "    df[\"diff_data_years\"] = df[\"diff_data\"] / 365\n",
    "\n",
    "    age_mask1 = df[\"diff_data_years\"] >= 60\n",
    "    age_mask2 = df[\"diff_data_years\"].between(20, 60, inclusive=\"left\")\n",
    "    age_mask3 = df[\"diff_data_years\"].between(10, 20, inclusive=\"left\")\n",
    "    age_mask4 = df[\"diff_data_years\"].between(5, 10, inclusive=\"left\")\n",
    "    age_mask5 = df[\"diff_data_years\"].between(3, 5, inclusive=\"left\")\n",
    "    age_mask6 = df[\"diff_data_years\"] < 3\n",
    "\n",
    "    df.loc[age_mask1, \"age_cat\"] = \"retro\"\n",
    "    df.loc[age_mask2, \"age_cat\"] = \"old\"\n",
    "    df.loc[age_mask3, \"age_cat\"] = \"med\"\n",
    "    df.loc[age_mask4, \"age_cat\"] = \"not_bad\"\n",
    "    df.loc[age_mask5, \"age_cat\"] = \"may_be_on_garant\"\n",
    "    df.loc[age_mask6, \"age_cat\"] = \"almost_new\"\n",
    "\n",
    "    df[\"retro\"] = (df[\"diff_data_years\"] >= 60).astype(int)\n",
    "    df[\"most_wanted\"] = (df[\"diff_data_years\"] <= 3).astype(int)\n",
    "    df[\"good_cond\"] = (df[\"diff_data_years\"].between(3, 5, inclusive=\"right\")).astype(int)\n",
    "\n",
    "    # vol_mask1 = df['engine_displacement'] <= 1.1\n",
    "    # vol_mask2 = df['engine_displacement'].between(1.1, 1.8, inclusive='right')\n",
    "    # vol_mask3 = df['engine_displacement'].between(1.8, 3.5, inclusive='right')\n",
    "    # vol_mask4 = df['engine_displacement'] > 3.5\n",
    "\n",
    "    # df.loc[vol_mask1, 'vol_cat'] = 'micro'\n",
    "    # df.loc[vol_mask2, 'vol_cat'] = 'mini'\n",
    "    # df.loc[vol_mask3, 'vol_cat'] = 'medium'\n",
    "    # df.loc[vol_mask4, 'vol_cat'] = 'fuel_eater'\n",
    "\n",
    "    df[\"km_per_year\"] = df[\"km_age\"] / df[\"diff_data_years\"]\n",
    "\n",
    "    df[\"production_year\"] = df[\"production_year\"].dt.year\n",
    "\n",
    "    df[\"owners\"] = df[[\"owners\", \"diff_data\"]].apply(fillna_owners, axis=1)\n",
    "\n",
    "    mask_descr = df[\"description\"].isna()\n",
    "    df.loc[mask_descr, \"description\"] = \"No description\"\n",
    "    df[\"desc_count\"] = df[\"description\"].str.split().str.len()\n",
    "\n",
    "    df[\"number_of_doors\"] = df[\"number_of_doors\"].astype(\"int\")\n",
    "    df[\"owners\"] = df[\"owners\"].astype(\"int\")\n",
    "\n",
    "    dealer_words = \"официальный|автосалон|дилер|выкуп|взаимозачет|тест драйв|тест|драйв|автокредит|менеджер|клиент|кредит|страхование|автостраховка|страховка\"\n",
    "    df[\"dealer\"] = df[\"description\"].str.contains(dealer_words).astype(int)\n",
    "\n",
    "    # for col in ['engine_displacement', 'engine_power', 'km_age']:\n",
    "    #     Q1 = data[col].quantile(0.25)\n",
    "    #     Q3 = data[col].quantile(0.75)\n",
    "    #     IQR = Q3 - Q1\n",
    "    #     df[col+'_outliers'] = ((df[col] < (Q1 - 1.5 * IQR)) \n",
    "    #                              | (df[col] > (Q3 + 1.5 * IQR))).astype('int32')\n",
    "        \n",
    "    # df['median_by_brand_by_ep'] = df.groupby('model_name')['engine_power'].transform('median')\n",
    "    \n",
    "    # df['count_by_brand_by_year'] = df.groupby(['brand','model_name'])['production_year'].transform('count')\n",
    "    \n",
    "    # df['mean_km_by_model'] = df.groupby(['brand','model_name'])['km_age'].transform('mean')\n",
    "    # df['mean_km_by_model_by_age'] = df['mean_km_by_model'] / df['diff_data_years']\n",
    "    \n",
    "    # df['median_by_brand_by_ed'] = df.groupby('model_name')['engine_displacement'].transform('median')\n",
    "        \n",
    "    # top_body = df['body_type'].value_counts()[:2].index.tolist()\n",
    "    # df['top_body'] = df['body_type'].isin(top_body).astype(int)\n",
    "\n",
    "    # rare_body = df['body_type'].value_counts()[-4:].index.tolist()\n",
    "    # df['rare_body'] = df['body_type'].isin(rare_body).astype(int)\n",
    "\n",
    "    # top_color = df['color'].value_counts()[:4].index.tolist()\n",
    "    # df['top_color'] = df['color'].isin(top_color).astype(int)\n",
    "\n",
    "    # rare_color = df['color'].value_counts()[-4:].index.tolist()\n",
    "    # df['rare_color'] = df['color'].isin(rare_color).astype(int)\n",
    "\n",
    "    # cenc = ce.BackwardDifferenceEncoder(cols=enc_list)\n",
    "    # df = df.join(cenc.fit_transform(df[enc_list], verbose=1))\n",
    "    # df = df.join(pd.get_dummies(df[enc_list], columns=enc_list))\n",
    "    # df['model_name'] =  df['model_name'].astype('category').cat.codes\n",
    "    # df = df.join(pd.DataFrame(ohenc.fit_transform(df[['vol_cat']]).toarray()).astype(int))\n",
    "\n",
    "    df.drop(['parsed_date'], axis=1, inplace=True)\n",
    "\n",
    "    return df"
   ]
  },
  {
   "cell_type": "markdown",
   "metadata": {},
   "source": [
    "### Changing columns names to english and snake-type (from dict)"
   ]
  },
  {
   "cell_type": "code",
   "execution_count": 643,
   "metadata": {},
   "outputs": [],
   "source": [
    "train.rename(columns=valid_columns_dict, inplace=True)\n",
    "test.rename(columns=valid_columns_dict, inplace=True)"
   ]
  },
  {
   "cell_type": "markdown",
   "metadata": {},
   "source": [
    "### Fix Jane Price"
   ]
  },
  {
   "cell_type": "code",
   "execution_count": 620,
   "metadata": {},
   "outputs": [],
   "source": [
    "# train['price'] = train[['sample', 'price']].apply(lambda x: x[1] * 0.86 if x[0] == 'jane' else x[1], axis=1)"
   ]
  },
  {
   "cell_type": "markdown",
   "metadata": {},
   "source": [
    "## removing cols"
   ]
  },
  {
   "cell_type": "code",
   "execution_count": 644,
   "metadata": {},
   "outputs": [],
   "source": [
    "del train[\"ownership_duration\"]\n",
    "del test[\"ownership_duration\"]"
   ]
  },
  {
   "cell_type": "markdown",
   "metadata": {},
   "source": [
    "## Grouping cols as categorical and numeric"
   ]
  },
  {
   "cell_type": "code",
   "execution_count": 645,
   "metadata": {},
   "outputs": [],
   "source": [
    "cat_cols = [\n",
    "    \"body_type\",\n",
    "    \"brand\",\n",
    "    \"color\",\n",
    "    \"fuel_type\",\n",
    "    \"number_of_doors\",\n",
    "    \"vehicle_transmission\",\n",
    "    \"vendor\",\n",
    "    \"owners\",\n",
    "    \"ptc\",\n",
    "    \"drive\",\n",
    "    \"wheel\",\n",
    "]\n",
    "nums_cols = [\n",
    "    \"engine_displacement\",\n",
    "    \"engine_power\",\n",
    "    \"km_age\",\n",
    "    \"model_year\",\n",
    "    \"production_year\",\n",
    "    # \"ownership_duration\",\n",
    "]"
   ]
  },
  {
   "cell_type": "markdown",
   "metadata": {},
   "source": [
    "## Modeling"
   ]
  },
  {
   "cell_type": "code",
   "execution_count": 11,
   "metadata": {},
   "outputs": [],
   "source": [
    "if os.path.exists(\"models\"):\n",
    "    pass\n",
    "else:\n",
    "    os.mkdir(\"models\")"
   ]
  },
  {
   "cell_type": "markdown",
   "metadata": {},
   "source": [
    "### pre-modelling processing"
   ]
  },
  {
   "cell_type": "code",
   "execution_count": 673,
   "metadata": {},
   "outputs": [],
   "source": [
    "data = preprocesing(train)\n",
    "test_prep = preprocesing(test)"
   ]
  },
  {
   "cell_type": "code",
   "execution_count": 674,
   "metadata": {},
   "outputs": [],
   "source": [
    "test_usd_rate = test_prep['price_usd_rate']"
   ]
  },
  {
   "cell_type": "code",
   "execution_count": 675,
   "metadata": {},
   "outputs": [
    {
     "data": {
      "text/html": [
       "<div>\n",
       "<style scoped>\n",
       "    .dataframe tbody tr th:only-of-type {\n",
       "        vertical-align: middle;\n",
       "    }\n",
       "\n",
       "    .dataframe tbody tr th {\n",
       "        vertical-align: top;\n",
       "    }\n",
       "\n",
       "    .dataframe thead th {\n",
       "        text-align: right;\n",
       "    }\n",
       "</style>\n",
       "<table border=\"1\" class=\"dataframe\">\n",
       "  <thead>\n",
       "    <tr style=\"text-align: right;\">\n",
       "      <th></th>\n",
       "      <th>body_type</th>\n",
       "      <th>brand</th>\n",
       "      <th>color</th>\n",
       "      <th>description</th>\n",
       "      <th>engine_displacement</th>\n",
       "      <th>engine_power</th>\n",
       "      <th>fuel_type</th>\n",
       "      <th>km_age</th>\n",
       "      <th>model_year</th>\n",
       "      <th>model_name</th>\n",
       "      <th>number_of_doors</th>\n",
       "      <th>production_year</th>\n",
       "      <th>vehicle_transmission</th>\n",
       "      <th>vendor</th>\n",
       "      <th>owners</th>\n",
       "      <th>ptc</th>\n",
       "      <th>drive</th>\n",
       "      <th>wheel</th>\n",
       "      <th>price</th>\n",
       "      <th>sample</th>\n",
       "      <th>price_usd_rate</th>\n",
       "      <th>diff_data</th>\n",
       "      <th>diff_data_years</th>\n",
       "      <th>age_cat</th>\n",
       "      <th>retro</th>\n",
       "      <th>most_wanted</th>\n",
       "      <th>good_cond</th>\n",
       "      <th>km_per_year</th>\n",
       "      <th>desc_count</th>\n",
       "      <th>dealer</th>\n",
       "    </tr>\n",
       "  </thead>\n",
       "  <tbody>\n",
       "    <tr>\n",
       "      <th>5997</th>\n",
       "      <td>хэтчбек</td>\n",
       "      <td>HONDA</td>\n",
       "      <td>чёрный</td>\n",
       "      <td>20 000 скидка в кредит 20 000 скидка при обме...</td>\n",
       "      <td>1.3</td>\n",
       "      <td>83.0</td>\n",
       "      <td>бензин</td>\n",
       "      <td>225000.0</td>\n",
       "      <td>2005.0</td>\n",
       "      <td>JAZZ</td>\n",
       "      <td>5</td>\n",
       "      <td>2008</td>\n",
       "      <td>VARIATOR</td>\n",
       "      <td>JAPANESE</td>\n",
       "      <td>3</td>\n",
       "      <td>Оригинал</td>\n",
       "      <td>передний</td>\n",
       "      <td>Левый</td>\n",
       "      <td>420000.0</td>\n",
       "      <td>jane</td>\n",
       "      <td>73.0081</td>\n",
       "      <td>5018.0</td>\n",
       "      <td>13.747945</td>\n",
       "      <td>med</td>\n",
       "      <td>0</td>\n",
       "      <td>0</td>\n",
       "      <td>0</td>\n",
       "      <td>16366.082104</td>\n",
       "      <td>145</td>\n",
       "      <td>1</td>\n",
       "    </tr>\n",
       "    <tr>\n",
       "      <th>14376</th>\n",
       "      <td>внедорожник</td>\n",
       "      <td>NISSAN</td>\n",
       "      <td>чёрный</td>\n",
       "      <td>при покупке автомобиля до 27 сентября возможна...</td>\n",
       "      <td>2.0</td>\n",
       "      <td>150.0</td>\n",
       "      <td>дизель</td>\n",
       "      <td>139904.0</td>\n",
       "      <td>2010.0</td>\n",
       "      <td>X_TRAIL</td>\n",
       "      <td>5</td>\n",
       "      <td>2011</td>\n",
       "      <td>AUTOMATIC</td>\n",
       "      <td>JAPANESE</td>\n",
       "      <td>1</td>\n",
       "      <td>Оригинал</td>\n",
       "      <td>полный</td>\n",
       "      <td>Левый</td>\n",
       "      <td>1127000.0</td>\n",
       "      <td>jane</td>\n",
       "      <td>73.0081</td>\n",
       "      <td>3922.0</td>\n",
       "      <td>10.745205</td>\n",
       "      <td>med</td>\n",
       "      <td>0</td>\n",
       "      <td>0</td>\n",
       "      <td>0</td>\n",
       "      <td>13020.132585</td>\n",
       "      <td>171</td>\n",
       "      <td>1</td>\n",
       "    </tr>\n",
       "    <tr>\n",
       "      <th>53563</th>\n",
       "      <td>хэтчбек</td>\n",
       "      <td>HONDA</td>\n",
       "      <td>красный</td>\n",
       "      <td>No description</td>\n",
       "      <td>1.4</td>\n",
       "      <td>90.0</td>\n",
       "      <td>бензин</td>\n",
       "      <td>322117.0</td>\n",
       "      <td>1991.0</td>\n",
       "      <td>CIVIC</td>\n",
       "      <td>5</td>\n",
       "      <td>1996</td>\n",
       "      <td>MECHANICAL</td>\n",
       "      <td>JAPANESE</td>\n",
       "      <td>3</td>\n",
       "      <td>Оригинал</td>\n",
       "      <td>передний</td>\n",
       "      <td>Левый</td>\n",
       "      <td>200000.0</td>\n",
       "      <td>sokolov</td>\n",
       "      <td>75.9645</td>\n",
       "      <td>9018.0</td>\n",
       "      <td>24.706849</td>\n",
       "      <td>old</td>\n",
       "      <td>0</td>\n",
       "      <td>0</td>\n",
       "      <td>0</td>\n",
       "      <td>13037.558771</td>\n",
       "      <td>2</td>\n",
       "      <td>0</td>\n",
       "    </tr>\n",
       "    <tr>\n",
       "      <th>68005</th>\n",
       "      <td>внедорожник</td>\n",
       "      <td>LEXUS</td>\n",
       "      <td>серый</td>\n",
       "      <td>авто в отличном состоянии регулярное то 10000 ...</td>\n",
       "      <td>3.0</td>\n",
       "      <td>204.0</td>\n",
       "      <td>бензин</td>\n",
       "      <td>221000.0</td>\n",
       "      <td>2003.0</td>\n",
       "      <td>RX</td>\n",
       "      <td>5</td>\n",
       "      <td>2005</td>\n",
       "      <td>AUTOMATIC</td>\n",
       "      <td>JAPANESE</td>\n",
       "      <td>3</td>\n",
       "      <td>Оригинал</td>\n",
       "      <td>полный</td>\n",
       "      <td>Левый</td>\n",
       "      <td>700000.0</td>\n",
       "      <td>sokolov</td>\n",
       "      <td>75.9645</td>\n",
       "      <td>5730.0</td>\n",
       "      <td>15.698630</td>\n",
       "      <td>med</td>\n",
       "      <td>0</td>\n",
       "      <td>0</td>\n",
       "      <td>0</td>\n",
       "      <td>14077.661431</td>\n",
       "      <td>12</td>\n",
       "      <td>0</td>\n",
       "    </tr>\n",
       "    <tr>\n",
       "      <th>87307</th>\n",
       "      <td>универсал</td>\n",
       "      <td>SKODA</td>\n",
       "      <td>коричневый</td>\n",
       "      <td>автомобиль чешской сборки в авариях не был то ...</td>\n",
       "      <td>1.4</td>\n",
       "      <td>86.0</td>\n",
       "      <td>бензин</td>\n",
       "      <td>102300.0</td>\n",
       "      <td>2007.0</td>\n",
       "      <td>FABIA</td>\n",
       "      <td>5</td>\n",
       "      <td>2008</td>\n",
       "      <td>MECHANICAL</td>\n",
       "      <td>EUROPEAN</td>\n",
       "      <td>2</td>\n",
       "      <td>Оригинал</td>\n",
       "      <td>передний</td>\n",
       "      <td>Левый</td>\n",
       "      <td>297000.0</td>\n",
       "      <td>sokolov</td>\n",
       "      <td>75.9645</td>\n",
       "      <td>4635.0</td>\n",
       "      <td>12.698630</td>\n",
       "      <td>med</td>\n",
       "      <td>0</td>\n",
       "      <td>0</td>\n",
       "      <td>0</td>\n",
       "      <td>8055.987055</td>\n",
       "      <td>46</td>\n",
       "      <td>0</td>\n",
       "    </tr>\n",
       "  </tbody>\n",
       "</table>\n",
       "</div>"
      ],
      "text/plain": [
       "         body_type   brand       color  \\\n",
       "5997       хэтчбек   HONDA      чёрный   \n",
       "14376  внедорожник  NISSAN      чёрный   \n",
       "53563      хэтчбек   HONDA     красный   \n",
       "68005  внедорожник   LEXUS       серый   \n",
       "87307    универсал   SKODA  коричневый   \n",
       "\n",
       "                                             description  engine_displacement  \\\n",
       "5997    20 000 скидка в кредит 20 000 скидка при обме...                  1.3   \n",
       "14376  при покупке автомобиля до 27 сентября возможна...                  2.0   \n",
       "53563                                     No description                  1.4   \n",
       "68005  авто в отличном состоянии регулярное то 10000 ...                  3.0   \n",
       "87307  автомобиль чешской сборки в авариях не был то ...                  1.4   \n",
       "\n",
       "       engine_power fuel_type    km_age  model_year model_name  \\\n",
       "5997           83.0    бензин  225000.0      2005.0       JAZZ   \n",
       "14376         150.0    дизель  139904.0      2010.0    X_TRAIL   \n",
       "53563          90.0    бензин  322117.0      1991.0      CIVIC   \n",
       "68005         204.0    бензин  221000.0      2003.0         RX   \n",
       "87307          86.0    бензин  102300.0      2007.0      FABIA   \n",
       "\n",
       "       number_of_doors  production_year vehicle_transmission    vendor  \\\n",
       "5997                 5             2008             VARIATOR  JAPANESE   \n",
       "14376                5             2011            AUTOMATIC  JAPANESE   \n",
       "53563                5             1996           MECHANICAL  JAPANESE   \n",
       "68005                5             2005            AUTOMATIC  JAPANESE   \n",
       "87307                5             2008           MECHANICAL  EUROPEAN   \n",
       "\n",
       "       owners       ptc     drive  wheel      price   sample  price_usd_rate  \\\n",
       "5997        3  Оригинал  передний  Левый   420000.0     jane         73.0081   \n",
       "14376       1  Оригинал    полный  Левый  1127000.0     jane         73.0081   \n",
       "53563       3  Оригинал  передний  Левый   200000.0  sokolov         75.9645   \n",
       "68005       3  Оригинал    полный  Левый   700000.0  sokolov         75.9645   \n",
       "87307       2  Оригинал  передний  Левый   297000.0  sokolov         75.9645   \n",
       "\n",
       "       diff_data  diff_data_years age_cat  retro  most_wanted  good_cond  \\\n",
       "5997      5018.0        13.747945     med      0            0          0   \n",
       "14376     3922.0        10.745205     med      0            0          0   \n",
       "53563     9018.0        24.706849     old      0            0          0   \n",
       "68005     5730.0        15.698630     med      0            0          0   \n",
       "87307     4635.0        12.698630     med      0            0          0   \n",
       "\n",
       "        km_per_year  desc_count  dealer  \n",
       "5997   16366.082104         145       1  \n",
       "14376  13020.132585         171       1  \n",
       "53563  13037.558771           2       0  \n",
       "68005  14077.661431          12       0  \n",
       "87307   8055.987055          46       0  "
      ]
     },
     "execution_count": 675,
     "metadata": {},
     "output_type": "execute_result"
    }
   ],
   "source": [
    "data.sample(5)"
   ]
  },
  {
   "cell_type": "code",
   "execution_count": 626,
   "metadata": {},
   "outputs": [
    {
     "data": {
      "text/html": [
       "<div>\n",
       "<style scoped>\n",
       "    .dataframe tbody tr th:only-of-type {\n",
       "        vertical-align: middle;\n",
       "    }\n",
       "\n",
       "    .dataframe tbody tr th {\n",
       "        vertical-align: top;\n",
       "    }\n",
       "\n",
       "    .dataframe thead th {\n",
       "        text-align: right;\n",
       "    }\n",
       "</style>\n",
       "<table border=\"1\" class=\"dataframe\">\n",
       "  <thead>\n",
       "    <tr style=\"text-align: right;\">\n",
       "      <th></th>\n",
       "      <th>body_type</th>\n",
       "      <th>brand</th>\n",
       "      <th>color</th>\n",
       "      <th>description</th>\n",
       "      <th>engine_displacement</th>\n",
       "      <th>engine_power</th>\n",
       "      <th>fuel_type</th>\n",
       "      <th>km_age</th>\n",
       "      <th>model_year</th>\n",
       "      <th>model_name</th>\n",
       "      <th>number_of_doors</th>\n",
       "      <th>production_year</th>\n",
       "      <th>vehicle_transmission</th>\n",
       "      <th>vendor</th>\n",
       "      <th>owners</th>\n",
       "      <th>ptc</th>\n",
       "      <th>drive</th>\n",
       "      <th>wheel</th>\n",
       "      <th>parsed_date</th>\n",
       "      <th>diff_data</th>\n",
       "      <th>diff_data_years</th>\n",
       "      <th>age_cat</th>\n",
       "      <th>retro</th>\n",
       "      <th>most_wanted</th>\n",
       "      <th>good_cond</th>\n",
       "      <th>km_per_year</th>\n",
       "      <th>desc_count</th>\n",
       "      <th>dealer</th>\n",
       "    </tr>\n",
       "  </thead>\n",
       "  <tbody>\n",
       "    <tr>\n",
       "      <th>19847</th>\n",
       "      <td>седан</td>\n",
       "      <td>TOYOTA</td>\n",
       "      <td>белый</td>\n",
       "      <td>автомобиль в идеальном состоянии</td>\n",
       "      <td>2.5</td>\n",
       "      <td>181.0</td>\n",
       "      <td>бензин</td>\n",
       "      <td>24800.0</td>\n",
       "      <td>2017.0</td>\n",
       "      <td>CAMRY</td>\n",
       "      <td>4</td>\n",
       "      <td>2017</td>\n",
       "      <td>AUTOMATIC</td>\n",
       "      <td>JAPANESE</td>\n",
       "      <td>2</td>\n",
       "      <td>Оригинал</td>\n",
       "      <td>передний</td>\n",
       "      <td>Левый</td>\n",
       "      <td>2020-10-21</td>\n",
       "      <td>1389.0</td>\n",
       "      <td>3.805479</td>\n",
       "      <td>may_be_on_garant</td>\n",
       "      <td>0</td>\n",
       "      <td>0</td>\n",
       "      <td>1</td>\n",
       "      <td>6516.918647</td>\n",
       "      <td>4</td>\n",
       "      <td>0</td>\n",
       "    </tr>\n",
       "    <tr>\n",
       "      <th>28852</th>\n",
       "      <td>пикап</td>\n",
       "      <td>MITSUBISHI</td>\n",
       "      <td>зелёный</td>\n",
       "      <td>автомобиль в хорошем техническом состоянии про...</td>\n",
       "      <td>2.4</td>\n",
       "      <td>132.0</td>\n",
       "      <td>бензин</td>\n",
       "      <td>350000.0</td>\n",
       "      <td>1996.0</td>\n",
       "      <td>L200</td>\n",
       "      <td>4</td>\n",
       "      <td>1999</td>\n",
       "      <td>MECHANICAL</td>\n",
       "      <td>JAPANESE</td>\n",
       "      <td>3</td>\n",
       "      <td>Оригинал</td>\n",
       "      <td>полный</td>\n",
       "      <td>Левый</td>\n",
       "      <td>2020-10-21</td>\n",
       "      <td>7964.0</td>\n",
       "      <td>21.819178</td>\n",
       "      <td>old</td>\n",
       "      <td>0</td>\n",
       "      <td>0</td>\n",
       "      <td>0</td>\n",
       "      <td>16040.934204</td>\n",
       "      <td>32</td>\n",
       "      <td>0</td>\n",
       "    </tr>\n",
       "    <tr>\n",
       "      <th>34028</th>\n",
       "      <td>седан</td>\n",
       "      <td>VOLKSWAGEN</td>\n",
       "      <td>чёрный</td>\n",
       "      <td>машина на ходу коробка в отличном состоянии ес...</td>\n",
       "      <td>1.8</td>\n",
       "      <td>150.0</td>\n",
       "      <td>бензин</td>\n",
       "      <td>350000.0</td>\n",
       "      <td>1996.0</td>\n",
       "      <td>PASSAT</td>\n",
       "      <td>4</td>\n",
       "      <td>1999</td>\n",
       "      <td>MECHANICAL</td>\n",
       "      <td>EUROPEAN</td>\n",
       "      <td>3</td>\n",
       "      <td>Дубликат</td>\n",
       "      <td>передний</td>\n",
       "      <td>Левый</td>\n",
       "      <td>2020-10-26</td>\n",
       "      <td>7969.0</td>\n",
       "      <td>21.832877</td>\n",
       "      <td>old</td>\n",
       "      <td>0</td>\n",
       "      <td>0</td>\n",
       "      <td>0</td>\n",
       "      <td>16030.869620</td>\n",
       "      <td>16</td>\n",
       "      <td>0</td>\n",
       "    </tr>\n",
       "    <tr>\n",
       "      <th>18768</th>\n",
       "      <td>седан</td>\n",
       "      <td>MERCEDES</td>\n",
       "      <td>белый</td>\n",
       "      <td>продаю хороший автомобиль при оплате 500 000 в...</td>\n",
       "      <td>5.0</td>\n",
       "      <td>320.0</td>\n",
       "      <td>бензин</td>\n",
       "      <td>444447.0</td>\n",
       "      <td>1994.0</td>\n",
       "      <td>S_KLASSE</td>\n",
       "      <td>4</td>\n",
       "      <td>1997</td>\n",
       "      <td>AUTOMATIC</td>\n",
       "      <td>EUROPEAN</td>\n",
       "      <td>3</td>\n",
       "      <td>Оригинал</td>\n",
       "      <td>задний</td>\n",
       "      <td>Левый</td>\n",
       "      <td>2020-10-21</td>\n",
       "      <td>8694.0</td>\n",
       "      <td>23.819178</td>\n",
       "      <td>old</td>\n",
       "      <td>0</td>\n",
       "      <td>0</td>\n",
       "      <td>0</td>\n",
       "      <td>18659.208075</td>\n",
       "      <td>15</td>\n",
       "      <td>0</td>\n",
       "    </tr>\n",
       "    <tr>\n",
       "      <th>22834</th>\n",
       "      <td>седан</td>\n",
       "      <td>LEXUS</td>\n",
       "      <td>чёрный</td>\n",
       "      <td>год выпуска 2011 пробег 315 000 км кузов седан...</td>\n",
       "      <td>5.0</td>\n",
       "      <td>394.0</td>\n",
       "      <td>гибрид</td>\n",
       "      <td>315000.0</td>\n",
       "      <td>2006.0</td>\n",
       "      <td>LS</td>\n",
       "      <td>4</td>\n",
       "      <td>2011</td>\n",
       "      <td>VARIATOR</td>\n",
       "      <td>JAPANESE</td>\n",
       "      <td>3</td>\n",
       "      <td>Оригинал</td>\n",
       "      <td>полный</td>\n",
       "      <td>Левый</td>\n",
       "      <td>2020-10-21</td>\n",
       "      <td>3581.0</td>\n",
       "      <td>9.810959</td>\n",
       "      <td>not_bad</td>\n",
       "      <td>0</td>\n",
       "      <td>0</td>\n",
       "      <td>0</td>\n",
       "      <td>32106.953365</td>\n",
       "      <td>45</td>\n",
       "      <td>0</td>\n",
       "    </tr>\n",
       "  </tbody>\n",
       "</table>\n",
       "</div>"
      ],
      "text/plain": [
       "      body_type       brand    color  \\\n",
       "19847     седан      TOYOTA    белый   \n",
       "28852     пикап  MITSUBISHI  зелёный   \n",
       "34028     седан  VOLKSWAGEN   чёрный   \n",
       "18768     седан    MERCEDES    белый   \n",
       "22834     седан       LEXUS   чёрный   \n",
       "\n",
       "                                             description  engine_displacement  \\\n",
       "19847                   автомобиль в идеальном состоянии                  2.5   \n",
       "28852  автомобиль в хорошем техническом состоянии про...                  2.4   \n",
       "34028  машина на ходу коробка в отличном состоянии ес...                  1.8   \n",
       "18768  продаю хороший автомобиль при оплате 500 000 в...                  5.0   \n",
       "22834  год выпуска 2011 пробег 315 000 км кузов седан...                  5.0   \n",
       "\n",
       "       engine_power fuel_type    km_age  model_year model_name  \\\n",
       "19847         181.0    бензин   24800.0      2017.0      CAMRY   \n",
       "28852         132.0    бензин  350000.0      1996.0       L200   \n",
       "34028         150.0    бензин  350000.0      1996.0     PASSAT   \n",
       "18768         320.0    бензин  444447.0      1994.0   S_KLASSE   \n",
       "22834         394.0    гибрид  315000.0      2006.0         LS   \n",
       "\n",
       "       number_of_doors  production_year vehicle_transmission    vendor  \\\n",
       "19847                4             2017            AUTOMATIC  JAPANESE   \n",
       "28852                4             1999           MECHANICAL  JAPANESE   \n",
       "34028                4             1999           MECHANICAL  EUROPEAN   \n",
       "18768                4             1997            AUTOMATIC  EUROPEAN   \n",
       "22834                4             2011             VARIATOR  JAPANESE   \n",
       "\n",
       "       owners       ptc     drive  wheel parsed_date  diff_data  \\\n",
       "19847       2  Оригинал  передний  Левый  2020-10-21     1389.0   \n",
       "28852       3  Оригинал    полный  Левый  2020-10-21     7964.0   \n",
       "34028       3  Дубликат  передний  Левый  2020-10-26     7969.0   \n",
       "18768       3  Оригинал    задний  Левый  2020-10-21     8694.0   \n",
       "22834       3  Оригинал    полный  Левый  2020-10-21     3581.0   \n",
       "\n",
       "       diff_data_years           age_cat  retro  most_wanted  good_cond  \\\n",
       "19847         3.805479  may_be_on_garant      0            0          1   \n",
       "28852        21.819178               old      0            0          0   \n",
       "34028        21.832877               old      0            0          0   \n",
       "18768        23.819178               old      0            0          0   \n",
       "22834         9.810959           not_bad      0            0          0   \n",
       "\n",
       "        km_per_year  desc_count  dealer  \n",
       "19847   6516.918647           4       0  \n",
       "28852  16040.934204          32       0  \n",
       "34028  16030.869620          16       0  \n",
       "18768  18659.208075          15       0  \n",
       "22834  32106.953365          45       0  "
      ]
     },
     "execution_count": 626,
     "metadata": {},
     "output_type": "execute_result"
    }
   ],
   "source": [
    "test_prep.sample(5)"
   ]
  },
  {
   "cell_type": "code",
   "execution_count": 665,
   "metadata": {},
   "outputs": [
    {
     "data": {
      "text/html": [
       "<div>\n",
       "<style scoped>\n",
       "    .dataframe tbody tr th:only-of-type {\n",
       "        vertical-align: middle;\n",
       "    }\n",
       "\n",
       "    .dataframe tbody tr th {\n",
       "        vertical-align: top;\n",
       "    }\n",
       "\n",
       "    .dataframe thead th {\n",
       "        text-align: right;\n",
       "    }\n",
       "</style>\n",
       "<table border=\"1\" class=\"dataframe\">\n",
       "  <thead>\n",
       "    <tr style=\"text-align: right;\">\n",
       "      <th></th>\n",
       "      <th>84022</th>\n",
       "      <th>64128</th>\n",
       "      <th>64226</th>\n",
       "    </tr>\n",
       "  </thead>\n",
       "  <tbody>\n",
       "    <tr>\n",
       "      <th>body_type</th>\n",
       "      <td>внедорожник</td>\n",
       "      <td>седан</td>\n",
       "      <td>седан</td>\n",
       "    </tr>\n",
       "    <tr>\n",
       "      <th>brand</th>\n",
       "      <td>PORSCHE</td>\n",
       "      <td>KIA</td>\n",
       "      <td>KIA</td>\n",
       "    </tr>\n",
       "    <tr>\n",
       "      <th>color</th>\n",
       "      <td>белый</td>\n",
       "      <td>белый</td>\n",
       "      <td>белый</td>\n",
       "    </tr>\n",
       "    <tr>\n",
       "      <th>description</th>\n",
       "      <td>рольф северо запад это первый мегамолл автомоб...</td>\n",
       "      <td>комплект зимних шин в подарок причина продажи ...</td>\n",
       "      <td>куплен новым у о д один хозяин обслуживался у ...</td>\n",
       "    </tr>\n",
       "    <tr>\n",
       "      <th>engine_displacement</th>\n",
       "      <td>1.151972</td>\n",
       "      <td>-1.255618</td>\n",
       "      <td>-1.255618</td>\n",
       "    </tr>\n",
       "    <tr>\n",
       "      <th>engine_power</th>\n",
       "      <td>1.07126</td>\n",
       "      <td>-0.978857</td>\n",
       "      <td>-0.978857</td>\n",
       "    </tr>\n",
       "    <tr>\n",
       "      <th>fuel_type</th>\n",
       "      <td>дизель</td>\n",
       "      <td>бензин</td>\n",
       "      <td>бензин</td>\n",
       "    </tr>\n",
       "    <tr>\n",
       "      <th>km_age</th>\n",
       "      <td>0.09551</td>\n",
       "      <td>-0.616629</td>\n",
       "      <td>-0.424208</td>\n",
       "    </tr>\n",
       "    <tr>\n",
       "      <th>model_year</th>\n",
       "      <td>0.127173</td>\n",
       "      <td>0.934234</td>\n",
       "      <td>0.934234</td>\n",
       "    </tr>\n",
       "    <tr>\n",
       "      <th>model_name</th>\n",
       "      <td>CAYENNE</td>\n",
       "      <td>RIO</td>\n",
       "      <td>RIO</td>\n",
       "    </tr>\n",
       "    <tr>\n",
       "      <th>number_of_doors</th>\n",
       "      <td>5</td>\n",
       "      <td>4</td>\n",
       "      <td>4</td>\n",
       "    </tr>\n",
       "    <tr>\n",
       "      <th>production_year</th>\n",
       "      <td>0.105861</td>\n",
       "      <td>0.771159</td>\n",
       "      <td>0.599143</td>\n",
       "    </tr>\n",
       "    <tr>\n",
       "      <th>vehicle_transmission</th>\n",
       "      <td>AUTOMATIC</td>\n",
       "      <td>MECHANICAL</td>\n",
       "      <td>AUTOMATIC</td>\n",
       "    </tr>\n",
       "    <tr>\n",
       "      <th>vendor</th>\n",
       "      <td>EUROPEAN</td>\n",
       "      <td>KOREAN</td>\n",
       "      <td>KOREAN</td>\n",
       "    </tr>\n",
       "    <tr>\n",
       "      <th>owners</th>\n",
       "      <td>2</td>\n",
       "      <td>1</td>\n",
       "      <td>1</td>\n",
       "    </tr>\n",
       "    <tr>\n",
       "      <th>ptc</th>\n",
       "      <td>Оригинал</td>\n",
       "      <td>Оригинал</td>\n",
       "      <td>Оригинал</td>\n",
       "    </tr>\n",
       "    <tr>\n",
       "      <th>drive</th>\n",
       "      <td>полный</td>\n",
       "      <td>передний</td>\n",
       "      <td>передний</td>\n",
       "    </tr>\n",
       "    <tr>\n",
       "      <th>wheel</th>\n",
       "      <td>Левый</td>\n",
       "      <td>Левый</td>\n",
       "      <td>Левый</td>\n",
       "    </tr>\n",
       "    <tr>\n",
       "      <th>price</th>\n",
       "      <td>2095800.0</td>\n",
       "      <td>489000.0</td>\n",
       "      <td>550000.0</td>\n",
       "    </tr>\n",
       "    <tr>\n",
       "      <th>sample</th>\n",
       "      <td>sokolov</td>\n",
       "      <td>sokolov</td>\n",
       "      <td>sokolov</td>\n",
       "    </tr>\n",
       "    <tr>\n",
       "      <th>price_usd_rate</th>\n",
       "      <td>75.9645</td>\n",
       "      <td>75.9645</td>\n",
       "      <td>75.9645</td>\n",
       "    </tr>\n",
       "    <tr>\n",
       "      <th>diff_data</th>\n",
       "      <td>-0.027045</td>\n",
       "      <td>-0.718605</td>\n",
       "      <td>-0.524599</td>\n",
       "    </tr>\n",
       "    <tr>\n",
       "      <th>diff_data_years</th>\n",
       "      <td>8.69589</td>\n",
       "      <td>4.693151</td>\n",
       "      <td>5.693151</td>\n",
       "    </tr>\n",
       "    <tr>\n",
       "      <th>age_cat</th>\n",
       "      <td>not_bad</td>\n",
       "      <td>may_be_on_garant</td>\n",
       "      <td>not_bad</td>\n",
       "    </tr>\n",
       "    <tr>\n",
       "      <th>retro</th>\n",
       "      <td>0</td>\n",
       "      <td>0</td>\n",
       "      <td>0</td>\n",
       "    </tr>\n",
       "    <tr>\n",
       "      <th>most_wanted</th>\n",
       "      <td>0</td>\n",
       "      <td>0</td>\n",
       "      <td>0</td>\n",
       "    </tr>\n",
       "    <tr>\n",
       "      <th>good_cond</th>\n",
       "      <td>0</td>\n",
       "      <td>1</td>\n",
       "      <td>0</td>\n",
       "    </tr>\n",
       "    <tr>\n",
       "      <th>km_per_year</th>\n",
       "      <td>0.216628</td>\n",
       "      <td>-0.04494</td>\n",
       "      <td>0.027908</td>\n",
       "    </tr>\n",
       "    <tr>\n",
       "      <th>desc_count</th>\n",
       "      <td>0.754399</td>\n",
       "      <td>-0.464202</td>\n",
       "      <td>0.202712</td>\n",
       "    </tr>\n",
       "    <tr>\n",
       "      <th>dealer</th>\n",
       "      <td>1</td>\n",
       "      <td>0</td>\n",
       "      <td>1</td>\n",
       "    </tr>\n",
       "  </tbody>\n",
       "</table>\n",
       "</div>"
      ],
      "text/plain": [
       "                                                                  84022  \\\n",
       "body_type                                                   внедорожник   \n",
       "brand                                                           PORSCHE   \n",
       "color                                                             белый   \n",
       "description           рольф северо запад это первый мегамолл автомоб...   \n",
       "engine_displacement                                            1.151972   \n",
       "engine_power                                                    1.07126   \n",
       "fuel_type                                                        дизель   \n",
       "km_age                                                          0.09551   \n",
       "model_year                                                     0.127173   \n",
       "model_name                                                      CAYENNE   \n",
       "number_of_doors                                                       5   \n",
       "production_year                                                0.105861   \n",
       "vehicle_transmission                                          AUTOMATIC   \n",
       "vendor                                                         EUROPEAN   \n",
       "owners                                                                2   \n",
       "ptc                                                            Оригинал   \n",
       "drive                                                            полный   \n",
       "wheel                                                             Левый   \n",
       "price                                                         2095800.0   \n",
       "sample                                                          sokolov   \n",
       "price_usd_rate                                                  75.9645   \n",
       "diff_data                                                     -0.027045   \n",
       "diff_data_years                                                 8.69589   \n",
       "age_cat                                                         not_bad   \n",
       "retro                                                                 0   \n",
       "most_wanted                                                           0   \n",
       "good_cond                                                             0   \n",
       "km_per_year                                                    0.216628   \n",
       "desc_count                                                     0.754399   \n",
       "dealer                                                                1   \n",
       "\n",
       "                                                                  64128  \\\n",
       "body_type                                                         седан   \n",
       "brand                                                               KIA   \n",
       "color                                                             белый   \n",
       "description           комплект зимних шин в подарок причина продажи ...   \n",
       "engine_displacement                                           -1.255618   \n",
       "engine_power                                                  -0.978857   \n",
       "fuel_type                                                        бензин   \n",
       "km_age                                                        -0.616629   \n",
       "model_year                                                     0.934234   \n",
       "model_name                                                          RIO   \n",
       "number_of_doors                                                       4   \n",
       "production_year                                                0.771159   \n",
       "vehicle_transmission                                         MECHANICAL   \n",
       "vendor                                                           KOREAN   \n",
       "owners                                                                1   \n",
       "ptc                                                            Оригинал   \n",
       "drive                                                          передний   \n",
       "wheel                                                             Левый   \n",
       "price                                                          489000.0   \n",
       "sample                                                          sokolov   \n",
       "price_usd_rate                                                  75.9645   \n",
       "diff_data                                                     -0.718605   \n",
       "diff_data_years                                                4.693151   \n",
       "age_cat                                                may_be_on_garant   \n",
       "retro                                                                 0   \n",
       "most_wanted                                                           0   \n",
       "good_cond                                                             1   \n",
       "km_per_year                                                    -0.04494   \n",
       "desc_count                                                    -0.464202   \n",
       "dealer                                                                0   \n",
       "\n",
       "                                                                  64226  \n",
       "body_type                                                         седан  \n",
       "brand                                                               KIA  \n",
       "color                                                             белый  \n",
       "description           куплен новым у о д один хозяин обслуживался у ...  \n",
       "engine_displacement                                           -1.255618  \n",
       "engine_power                                                  -0.978857  \n",
       "fuel_type                                                        бензин  \n",
       "km_age                                                        -0.424208  \n",
       "model_year                                                     0.934234  \n",
       "model_name                                                          RIO  \n",
       "number_of_doors                                                       4  \n",
       "production_year                                                0.599143  \n",
       "vehicle_transmission                                          AUTOMATIC  \n",
       "vendor                                                           KOREAN  \n",
       "owners                                                                1  \n",
       "ptc                                                            Оригинал  \n",
       "drive                                                          передний  \n",
       "wheel                                                             Левый  \n",
       "price                                                          550000.0  \n",
       "sample                                                          sokolov  \n",
       "price_usd_rate                                                  75.9645  \n",
       "diff_data                                                     -0.524599  \n",
       "diff_data_years                                                5.693151  \n",
       "age_cat                                                         not_bad  \n",
       "retro                                                                 0  \n",
       "most_wanted                                                           0  \n",
       "good_cond                                                             0  \n",
       "km_per_year                                                    0.027908  \n",
       "desc_count                                                     0.202712  \n",
       "dealer                                                                1  "
      ]
     },
     "execution_count": 665,
     "metadata": {},
     "output_type": "execute_result"
    }
   ],
   "source": [
    "data.sample(3, random_state=42).T"
   ]
  },
  {
   "cell_type": "markdown",
   "metadata": {},
   "source": [
    "### Del outliers"
   ]
  },
  {
   "cell_type": "code",
   "execution_count": 400,
   "metadata": {},
   "outputs": [],
   "source": [
    "for col in ['engine_displacement', 'engine_power', 'km_age']:\n",
    "    Q1 = data[col].quantile(0.25)\n",
    "    Q3 = data[col].quantile(0.75)\n",
    "    IQR = Q3 - Q1\n",
    "    mask = ((data[col] < (Q1 - 1.5 * IQR)) \n",
    "                             | (data[col] > (Q3 + 1.5 * IQR)))\n",
    "    data.drop(data[mask].index, inplace=True)"
   ]
  },
  {
   "cell_type": "markdown",
   "metadata": {},
   "source": [
    "### Reduce outliers"
   ]
  },
  {
   "cell_type": "code",
   "execution_count": 676,
   "metadata": {},
   "outputs": [],
   "source": [
    "for col in ['engine_displacement', 'engine_power', 'km_age']:\n",
    "    Q1 = data[col].quantile(0.25)\n",
    "    Q3 = data[col].quantile(0.75)\n",
    "    IQR = Q3 - Q1\n",
    "    l_boader = Q1 - 1.5*IQR\n",
    "    u_boader = Q3 + 1.5*IQR\n",
    "    data[col] = data[col].apply(lambda x: l_boader if x < l_boader else u_boader if x > u_boader else x)"
   ]
  },
  {
   "cell_type": "code",
   "execution_count": 464,
   "metadata": {},
   "outputs": [
    {
     "data": {
      "text/plain": [
       "(85390, 35)"
      ]
     },
     "execution_count": 464,
     "metadata": {},
     "output_type": "execute_result"
    }
   ],
   "source": [
    "data.shape"
   ]
  },
  {
   "cell_type": "markdown",
   "metadata": {
    "tags": []
   },
   "source": [
    "#### Taking a log2 of numeric variables"
   ]
  },
  {
   "cell_type": "code",
   "execution_count": 677,
   "metadata": {},
   "outputs": [],
   "source": [
    "pt = PowerTransformer(method='yeo-johnson')"
   ]
  },
  {
   "cell_type": "code",
   "execution_count": 678,
   "metadata": {},
   "outputs": [],
   "source": [
    "enc_list = ['engine_displacement', 'engine_power', 'km_age', 'model_year', 'production_year', 'diff_data', 'km_per_year', \n",
    "            'desc_count']\n",
    "pt.fit(data[enc_list])\n",
    "data[enc_list] = pt.transform(data[enc_list])\n",
    "\n",
    "pt.fit(test_prep[enc_list])\n",
    "test_prep[enc_list] = pt.transform(test_prep[enc_list])"
   ]
  },
  {
   "cell_type": "code",
   "execution_count": 174,
   "metadata": {},
   "outputs": [],
   "source": [
    "for col in ['engine_displacement', 'engine_power', 'km_age', 'model_year', 'production_year', 'diff_data', 'km_per_year', \n",
    "            'desc_count', 'median_by_brand_by_ep', 'count_by_brand_by_year', 'mean_km_by_model_by_age', 'count_by_brand_by_year',\n",
    "            'median_by_brand_by_ed']:\n",
    "    test_prep[col] = np.log2(data[col] + 1)"
   ]
  },
  {
   "cell_type": "code",
   "execution_count": 679,
   "metadata": {},
   "outputs": [],
   "source": [
    "test_prep = test_prep.drop(['description', 'ptc', 'diff_data_years', 'price_usd_rate'], axis=1)"
   ]
  },
  {
   "cell_type": "code",
   "execution_count": 38,
   "metadata": {},
   "outputs": [
    {
     "data": {
      "text/plain": [
       "(12345, 13.59175607602299, 12345)"
      ]
     },
     "execution_count": 38,
     "metadata": {},
     "output_type": "execute_result"
    }
   ],
   "source": [
    "x = 12345\n",
    "xl = np.log2(x + 1)\n",
    "\n",
    "x, xl, int(np.exp2(xl) - 1)"
   ]
  },
  {
   "cell_type": "markdown",
   "metadata": {},
   "source": [
    "#### Dropping cols and splitting to X and y"
   ]
  },
  {
   "cell_type": "code",
   "execution_count": 680,
   "metadata": {},
   "outputs": [],
   "source": [
    "X = data.drop(['sample', 'price', 'description', 'ptc', 'diff_data_years', 'price_usd_rate'], axis=1)\n",
    "y = data['price'] / data['price_usd_rate']"
   ]
  },
  {
   "cell_type": "markdown",
   "metadata": {},
   "source": [
    "#### Train / Test split"
   ]
  },
  {
   "cell_type": "code",
   "execution_count": 681,
   "metadata": {},
   "outputs": [],
   "source": [
    "X_train, X_test, y_train, y_test = train_test_split(X, y, test_size=0.20, random_state=42, shuffle=True)"
   ]
  },
  {
   "cell_type": "code",
   "execution_count": 682,
   "metadata": {},
   "outputs": [
    {
     "data": {
      "text/plain": [
       "((115367, 24), (34686, 24))"
      ]
     },
     "execution_count": 682,
     "metadata": {},
     "output_type": "execute_result"
    }
   ],
   "source": [
    "X.shape, test_prep.shape"
   ]
  },
  {
   "cell_type": "code",
   "execution_count": 684,
   "metadata": {},
   "outputs": [
    {
     "data": {
      "text/html": [
       "<div>\n",
       "<style scoped>\n",
       "    .dataframe tbody tr th:only-of-type {\n",
       "        vertical-align: middle;\n",
       "    }\n",
       "\n",
       "    .dataframe tbody tr th {\n",
       "        vertical-align: top;\n",
       "    }\n",
       "\n",
       "    .dataframe thead th {\n",
       "        text-align: right;\n",
       "    }\n",
       "</style>\n",
       "<table border=\"1\" class=\"dataframe\">\n",
       "  <thead>\n",
       "    <tr style=\"text-align: right;\">\n",
       "      <th></th>\n",
       "      <th>body_type</th>\n",
       "      <th>brand</th>\n",
       "      <th>color</th>\n",
       "      <th>engine_displacement</th>\n",
       "      <th>engine_power</th>\n",
       "      <th>fuel_type</th>\n",
       "      <th>km_age</th>\n",
       "      <th>model_year</th>\n",
       "      <th>model_name</th>\n",
       "      <th>number_of_doors</th>\n",
       "      <th>production_year</th>\n",
       "      <th>vehicle_transmission</th>\n",
       "      <th>vendor</th>\n",
       "      <th>owners</th>\n",
       "      <th>drive</th>\n",
       "      <th>wheel</th>\n",
       "      <th>diff_data</th>\n",
       "      <th>age_cat</th>\n",
       "      <th>retro</th>\n",
       "      <th>most_wanted</th>\n",
       "      <th>good_cond</th>\n",
       "      <th>km_per_year</th>\n",
       "      <th>desc_count</th>\n",
       "      <th>dealer</th>\n",
       "    </tr>\n",
       "  </thead>\n",
       "  <tbody>\n",
       "    <tr>\n",
       "      <th>107014</th>\n",
       "      <td>внедорожник</td>\n",
       "      <td>LAND_ROVER</td>\n",
       "      <td>красный</td>\n",
       "      <td>-0.098717</td>\n",
       "      <td>1.118738</td>\n",
       "      <td>бензин</td>\n",
       "      <td>-2.250246</td>\n",
       "      <td>1.283538</td>\n",
       "      <td>RANGE_ROVER_VELAR</td>\n",
       "      <td>5</td>\n",
       "      <td>1.499487</td>\n",
       "      <td>AUTOMATIC</td>\n",
       "      <td>EUROPEAN</td>\n",
       "      <td>1</td>\n",
       "      <td>полный</td>\n",
       "      <td>Левый</td>\n",
       "      <td>-1.894637</td>\n",
       "      <td>almost_new</td>\n",
       "      <td>0</td>\n",
       "      <td>1</td>\n",
       "      <td>0</td>\n",
       "      <td>-2.337163</td>\n",
       "      <td>0.417580</td>\n",
       "      <td>1</td>\n",
       "    </tr>\n",
       "    <tr>\n",
       "      <th>16530</th>\n",
       "      <td>внедорожник</td>\n",
       "      <td>NISSAN</td>\n",
       "      <td>синий</td>\n",
       "      <td>1.596392</td>\n",
       "      <td>1.109328</td>\n",
       "      <td>бензин</td>\n",
       "      <td>-0.989839</td>\n",
       "      <td>0.765424</td>\n",
       "      <td>MURANO</td>\n",
       "      <td>5</td>\n",
       "      <td>0.947113</td>\n",
       "      <td>VARIATOR</td>\n",
       "      <td>JAPANESE</td>\n",
       "      <td>1</td>\n",
       "      <td>полный</td>\n",
       "      <td>Левый</td>\n",
       "      <td>-0.709137</td>\n",
       "      <td>may_be_on_garant</td>\n",
       "      <td>0</td>\n",
       "      <td>0</td>\n",
       "      <td>1</td>\n",
       "      <td>-0.685619</td>\n",
       "      <td>-1.219522</td>\n",
       "      <td>0</td>\n",
       "    </tr>\n",
       "    <tr>\n",
       "      <th>83151</th>\n",
       "      <td>универсал</td>\n",
       "      <td>PEUGEOT</td>\n",
       "      <td>синий</td>\n",
       "      <td>-0.819944</td>\n",
       "      <td>-0.682896</td>\n",
       "      <td>бензин</td>\n",
       "      <td>0.647409</td>\n",
       "      <td>-0.314900</td>\n",
       "      <td>308</td>\n",
       "      <td>5</td>\n",
       "      <td>-0.204840</td>\n",
       "      <td>AUTOMATIC</td>\n",
       "      <td>EUROPEAN</td>\n",
       "      <td>2</td>\n",
       "      <td>передний</td>\n",
       "      <td>Левый</td>\n",
       "      <td>0.257478</td>\n",
       "      <td>med</td>\n",
       "      <td>0</td>\n",
       "      <td>0</td>\n",
       "      <td>0</td>\n",
       "      <td>0.625209</td>\n",
       "      <td>-0.071959</td>\n",
       "      <td>0</td>\n",
       "    </tr>\n",
       "    <tr>\n",
       "      <th>22565</th>\n",
       "      <td>внедорожник</td>\n",
       "      <td>TOYOTA</td>\n",
       "      <td>чёрный</td>\n",
       "      <td>-0.098717</td>\n",
       "      <td>-0.134982</td>\n",
       "      <td>бензин</td>\n",
       "      <td>-0.936380</td>\n",
       "      <td>1.464206</td>\n",
       "      <td>RAV_4</td>\n",
       "      <td>5</td>\n",
       "      <td>1.499487</td>\n",
       "      <td>VARIATOR</td>\n",
       "      <td>JAPANESE</td>\n",
       "      <td>2</td>\n",
       "      <td>полный</td>\n",
       "      <td>Левый</td>\n",
       "      <td>-1.463911</td>\n",
       "      <td>almost_new</td>\n",
       "      <td>0</td>\n",
       "      <td>1</td>\n",
       "      <td>0</td>\n",
       "      <td>0.690222</td>\n",
       "      <td>0.867329</td>\n",
       "      <td>1</td>\n",
       "    </tr>\n",
       "    <tr>\n",
       "      <th>91076</th>\n",
       "      <td>внедорожник</td>\n",
       "      <td>SUZUKI</td>\n",
       "      <td>красный</td>\n",
       "      <td>-0.098717</td>\n",
       "      <td>-0.291253</td>\n",
       "      <td>бензин</td>\n",
       "      <td>0.881338</td>\n",
       "      <td>-0.593307</td>\n",
       "      <td>GRAND_VITARA</td>\n",
       "      <td>5</td>\n",
       "      <td>-0.785477</td>\n",
       "      <td>AUTOMATIC</td>\n",
       "      <td>JAPANESE</td>\n",
       "      <td>3</td>\n",
       "      <td>полный</td>\n",
       "      <td>Левый</td>\n",
       "      <td>0.756349</td>\n",
       "      <td>med</td>\n",
       "      <td>0</td>\n",
       "      <td>0</td>\n",
       "      <td>0</td>\n",
       "      <td>0.398984</td>\n",
       "      <td>-0.867018</td>\n",
       "      <td>1</td>\n",
       "    </tr>\n",
       "  </tbody>\n",
       "</table>\n",
       "</div>"
      ],
      "text/plain": [
       "          body_type       brand    color  engine_displacement  engine_power  \\\n",
       "107014  внедорожник  LAND_ROVER  красный            -0.098717      1.118738   \n",
       "16530   внедорожник      NISSAN    синий             1.596392      1.109328   \n",
       "83151     универсал     PEUGEOT    синий            -0.819944     -0.682896   \n",
       "22565   внедорожник      TOYOTA   чёрный            -0.098717     -0.134982   \n",
       "91076   внедорожник      SUZUKI  красный            -0.098717     -0.291253   \n",
       "\n",
       "       fuel_type    km_age  model_year         model_name  number_of_doors  \\\n",
       "107014    бензин -2.250246    1.283538  RANGE_ROVER_VELAR                5   \n",
       "16530     бензин -0.989839    0.765424             MURANO                5   \n",
       "83151     бензин  0.647409   -0.314900                308                5   \n",
       "22565     бензин -0.936380    1.464206              RAV_4                5   \n",
       "91076     бензин  0.881338   -0.593307       GRAND_VITARA                5   \n",
       "\n",
       "        production_year vehicle_transmission    vendor  owners     drive  \\\n",
       "107014         1.499487            AUTOMATIC  EUROPEAN       1    полный   \n",
       "16530          0.947113             VARIATOR  JAPANESE       1    полный   \n",
       "83151         -0.204840            AUTOMATIC  EUROPEAN       2  передний   \n",
       "22565          1.499487             VARIATOR  JAPANESE       2    полный   \n",
       "91076         -0.785477            AUTOMATIC  JAPANESE       3    полный   \n",
       "\n",
       "        wheel  diff_data           age_cat  retro  most_wanted  good_cond  \\\n",
       "107014  Левый  -1.894637        almost_new      0            1          0   \n",
       "16530   Левый  -0.709137  may_be_on_garant      0            0          1   \n",
       "83151   Левый   0.257478               med      0            0          0   \n",
       "22565   Левый  -1.463911        almost_new      0            1          0   \n",
       "91076   Левый   0.756349               med      0            0          0   \n",
       "\n",
       "        km_per_year  desc_count  dealer  \n",
       "107014    -2.337163    0.417580       1  \n",
       "16530     -0.685619   -1.219522       0  \n",
       "83151      0.625209   -0.071959       0  \n",
       "22565      0.690222    0.867329       1  \n",
       "91076      0.398984   -0.867018       1  "
      ]
     },
     "execution_count": 684,
     "metadata": {},
     "output_type": "execute_result"
    }
   ],
   "source": [
    "X.sample(5)"
   ]
  },
  {
   "cell_type": "code",
   "execution_count": 666,
   "metadata": {},
   "outputs": [
    {
     "data": {
      "text/plain": [
       "29977"
      ]
     },
     "execution_count": 666,
     "metadata": {},
     "output_type": "execute_result"
    }
   ],
   "source": [
    "y.isna().sum()"
   ]
  },
  {
   "cell_type": "code",
   "execution_count": 685,
   "metadata": {},
   "outputs": [
    {
     "data": {
      "text/html": [
       "<div>\n",
       "<style scoped>\n",
       "    .dataframe tbody tr th:only-of-type {\n",
       "        vertical-align: middle;\n",
       "    }\n",
       "\n",
       "    .dataframe tbody tr th {\n",
       "        vertical-align: top;\n",
       "    }\n",
       "\n",
       "    .dataframe thead th {\n",
       "        text-align: right;\n",
       "    }\n",
       "</style>\n",
       "<table border=\"1\" class=\"dataframe\">\n",
       "  <thead>\n",
       "    <tr style=\"text-align: right;\">\n",
       "      <th></th>\n",
       "      <th>body_type</th>\n",
       "      <th>brand</th>\n",
       "      <th>color</th>\n",
       "      <th>engine_displacement</th>\n",
       "      <th>engine_power</th>\n",
       "      <th>fuel_type</th>\n",
       "      <th>km_age</th>\n",
       "      <th>model_year</th>\n",
       "      <th>model_name</th>\n",
       "      <th>number_of_doors</th>\n",
       "      <th>production_year</th>\n",
       "      <th>vehicle_transmission</th>\n",
       "      <th>vendor</th>\n",
       "      <th>owners</th>\n",
       "      <th>drive</th>\n",
       "      <th>wheel</th>\n",
       "      <th>diff_data</th>\n",
       "      <th>age_cat</th>\n",
       "      <th>retro</th>\n",
       "      <th>most_wanted</th>\n",
       "      <th>good_cond</th>\n",
       "      <th>km_per_year</th>\n",
       "      <th>desc_count</th>\n",
       "      <th>dealer</th>\n",
       "    </tr>\n",
       "  </thead>\n",
       "  <tbody>\n",
       "    <tr>\n",
       "      <th>33384</th>\n",
       "      <td>минивэн</td>\n",
       "      <td>TOYOTA</td>\n",
       "      <td>чёрный</td>\n",
       "      <td>-0.294548</td>\n",
       "      <td>-0.235428</td>\n",
       "      <td>бензин</td>\n",
       "      <td>-1.288012</td>\n",
       "      <td>1.018247</td>\n",
       "      <td>VOXY</td>\n",
       "      <td>5</td>\n",
       "      <td>0.684748</td>\n",
       "      <td>VARIATOR</td>\n",
       "      <td>JAPANESE</td>\n",
       "      <td>1</td>\n",
       "      <td>передний</td>\n",
       "      <td>Правый</td>\n",
       "      <td>-0.586837</td>\n",
       "      <td>not_bad</td>\n",
       "      <td>0</td>\n",
       "      <td>0</td>\n",
       "      <td>0</td>\n",
       "      <td>-1.242223</td>\n",
       "      <td>0.512485</td>\n",
       "      <td>0</td>\n",
       "    </tr>\n",
       "    <tr>\n",
       "      <th>22467</th>\n",
       "      <td>внедорожник</td>\n",
       "      <td>LEXUS</td>\n",
       "      <td>серый</td>\n",
       "      <td>2.381583</td>\n",
       "      <td>1.700838</td>\n",
       "      <td>бензин</td>\n",
       "      <td>-0.796619</td>\n",
       "      <td>1.192541</td>\n",
       "      <td>LX</td>\n",
       "      <td>5</td>\n",
       "      <td>1.033944</td>\n",
       "      <td>AUTOMATIC</td>\n",
       "      <td>JAPANESE</td>\n",
       "      <td>1</td>\n",
       "      <td>полный</td>\n",
       "      <td>Левый</td>\n",
       "      <td>-1.035560</td>\n",
       "      <td>may_be_on_garant</td>\n",
       "      <td>0</td>\n",
       "      <td>0</td>\n",
       "      <td>1</td>\n",
       "      <td>0.277728</td>\n",
       "      <td>-1.675539</td>\n",
       "      <td>0</td>\n",
       "    </tr>\n",
       "    <tr>\n",
       "      <th>26040</th>\n",
       "      <td>седан</td>\n",
       "      <td>VOLKSWAGEN</td>\n",
       "      <td>чёрный</td>\n",
       "      <td>-1.309356</td>\n",
       "      <td>-0.267830</td>\n",
       "      <td>бензин</td>\n",
       "      <td>-0.769232</td>\n",
       "      <td>1.018247</td>\n",
       "      <td>PASSAT</td>\n",
       "      <td>4</td>\n",
       "      <td>1.033944</td>\n",
       "      <td>ROBOT</td>\n",
       "      <td>EUROPEAN</td>\n",
       "      <td>2</td>\n",
       "      <td>передний</td>\n",
       "      <td>Левый</td>\n",
       "      <td>-1.036248</td>\n",
       "      <td>may_be_on_garant</td>\n",
       "      <td>0</td>\n",
       "      <td>0</td>\n",
       "      <td>1</td>\n",
       "      <td>0.334563</td>\n",
       "      <td>0.818911</td>\n",
       "      <td>1</td>\n",
       "    </tr>\n",
       "    <tr>\n",
       "      <th>30276</th>\n",
       "      <td>внедорожник</td>\n",
       "      <td>AUDI</td>\n",
       "      <td>серый</td>\n",
       "      <td>0.821136</td>\n",
       "      <td>0.755288</td>\n",
       "      <td>дизель</td>\n",
       "      <td>0.842490</td>\n",
       "      <td>-0.384345</td>\n",
       "      <td>Q7</td>\n",
       "      <td>5</td>\n",
       "      <td>-0.563685</td>\n",
       "      <td>AUTOMATIC</td>\n",
       "      <td>EUROPEAN</td>\n",
       "      <td>3</td>\n",
       "      <td>полный</td>\n",
       "      <td>Левый</td>\n",
       "      <td>0.626550</td>\n",
       "      <td>med</td>\n",
       "      <td>0</td>\n",
       "      <td>0</td>\n",
       "      <td>0</td>\n",
       "      <td>0.273696</td>\n",
       "      <td>0.002831</td>\n",
       "      <td>0</td>\n",
       "    </tr>\n",
       "    <tr>\n",
       "      <th>17924</th>\n",
       "      <td>седан</td>\n",
       "      <td>MERCEDES</td>\n",
       "      <td>серебристый</td>\n",
       "      <td>1.223051</td>\n",
       "      <td>0.900214</td>\n",
       "      <td>бензин</td>\n",
       "      <td>-0.896685</td>\n",
       "      <td>0.847863</td>\n",
       "      <td>E_KLASSE</td>\n",
       "      <td>4</td>\n",
       "      <td>0.684748</td>\n",
       "      <td>AUTOMATIC</td>\n",
       "      <td>EUROPEAN</td>\n",
       "      <td>1</td>\n",
       "      <td>полный</td>\n",
       "      <td>Левый</td>\n",
       "      <td>-0.589028</td>\n",
       "      <td>not_bad</td>\n",
       "      <td>0</td>\n",
       "      <td>0</td>\n",
       "      <td>0</td>\n",
       "      <td>-0.583108</td>\n",
       "      <td>-0.014115</td>\n",
       "      <td>0</td>\n",
       "    </tr>\n",
       "  </tbody>\n",
       "</table>\n",
       "</div>"
      ],
      "text/plain": [
       "         body_type       brand        color  engine_displacement  \\\n",
       "33384      минивэн      TOYOTA       чёрный            -0.294548   \n",
       "22467  внедорожник       LEXUS        серый             2.381583   \n",
       "26040        седан  VOLKSWAGEN       чёрный            -1.309356   \n",
       "30276  внедорожник        AUDI        серый             0.821136   \n",
       "17924        седан    MERCEDES  серебристый             1.223051   \n",
       "\n",
       "       engine_power fuel_type    km_age  model_year model_name  \\\n",
       "33384     -0.235428    бензин -1.288012    1.018247       VOXY   \n",
       "22467      1.700838    бензин -0.796619    1.192541         LX   \n",
       "26040     -0.267830    бензин -0.769232    1.018247     PASSAT   \n",
       "30276      0.755288    дизель  0.842490   -0.384345         Q7   \n",
       "17924      0.900214    бензин -0.896685    0.847863   E_KLASSE   \n",
       "\n",
       "       number_of_doors  production_year vehicle_transmission    vendor  \\\n",
       "33384                5         0.684748             VARIATOR  JAPANESE   \n",
       "22467                5         1.033944            AUTOMATIC  JAPANESE   \n",
       "26040                4         1.033944                ROBOT  EUROPEAN   \n",
       "30276                5        -0.563685            AUTOMATIC  EUROPEAN   \n",
       "17924                4         0.684748            AUTOMATIC  EUROPEAN   \n",
       "\n",
       "       owners     drive   wheel  diff_data           age_cat  retro  \\\n",
       "33384       1  передний  Правый  -0.586837           not_bad      0   \n",
       "22467       1    полный   Левый  -1.035560  may_be_on_garant      0   \n",
       "26040       2  передний   Левый  -1.036248  may_be_on_garant      0   \n",
       "30276       3    полный   Левый   0.626550               med      0   \n",
       "17924       1    полный   Левый  -0.589028           not_bad      0   \n",
       "\n",
       "       most_wanted  good_cond  km_per_year  desc_count  dealer  \n",
       "33384            0          0    -1.242223    0.512485       0  \n",
       "22467            0          1     0.277728   -1.675539       0  \n",
       "26040            0          1     0.334563    0.818911       1  \n",
       "30276            0          0     0.273696    0.002831       0  \n",
       "17924            0          0    -0.583108   -0.014115       0  "
      ]
     },
     "execution_count": 685,
     "metadata": {},
     "output_type": "execute_result"
    }
   ],
   "source": [
    "test_prep.sample(5)"
   ]
  },
  {
   "cell_type": "code",
   "execution_count": 662,
   "metadata": {},
   "outputs": [
    {
     "data": {
      "text/plain": [
       "body_type               0\n",
       "brand                   0\n",
       "color                   0\n",
       "engine_displacement     0\n",
       "engine_power            0\n",
       "fuel_type               0\n",
       "km_age                  0\n",
       "model_year              0\n",
       "model_name              0\n",
       "number_of_doors         0\n",
       "production_year         0\n",
       "vehicle_transmission    0\n",
       "vendor                  0\n",
       "owners                  0\n",
       "drive                   0\n",
       "wheel                   0\n",
       "diff_data               0\n",
       "age_cat                 0\n",
       "retro                   0\n",
       "most_wanted             0\n",
       "good_cond               0\n",
       "km_per_year             0\n",
       "desc_count              0\n",
       "dealer                  0\n",
       "dtype: int64"
      ]
     },
     "execution_count": 662,
     "metadata": {},
     "output_type": "execute_result"
    }
   ],
   "source": [
    "test_prep.isna().sum()"
   ]
  },
  {
   "cell_type": "code",
   "execution_count": 663,
   "metadata": {},
   "outputs": [
    {
     "data": {
      "text/plain": [
       "body_type               0\n",
       "brand                   0\n",
       "color                   0\n",
       "engine_displacement     0\n",
       "engine_power            0\n",
       "fuel_type               0\n",
       "km_age                  0\n",
       "model_year              0\n",
       "model_name              0\n",
       "number_of_doors         0\n",
       "production_year         0\n",
       "vehicle_transmission    0\n",
       "vendor                  0\n",
       "owners                  0\n",
       "drive                   0\n",
       "wheel                   0\n",
       "diff_data               0\n",
       "age_cat                 0\n",
       "retro                   0\n",
       "most_wanted             0\n",
       "good_cond               0\n",
       "km_per_year             0\n",
       "desc_count              0\n",
       "dealer                  0\n",
       "dtype: int64"
      ]
     },
     "execution_count": 663,
     "metadata": {},
     "output_type": "execute_result"
    }
   ],
   "source": [
    "X.isna().sum()"
   ]
  },
  {
   "cell_type": "code",
   "execution_count": 236,
   "metadata": {},
   "outputs": [],
   "source": [
    "cat_features_idx = []\n",
    "cat_features_cols = []"
   ]
  },
  {
   "cell_type": "code",
   "execution_count": 237,
   "metadata": {},
   "outputs": [],
   "source": [
    "for idx, col in enumerate(X.columns.tolist()):\n",
    "    if X[col].dtypes == 'object':\n",
    "        cat_features_idx.append(idx)\n",
    "        cat_features_cols.append(col)"
   ]
  },
  {
   "cell_type": "markdown",
   "metadata": {},
   "source": [
    "### CatBoostRegressor"
   ]
  },
  {
   "cell_type": "code",
   "execution_count": 683,
   "metadata": {},
   "outputs": [
    {
     "name": "stderr",
     "output_type": "stream",
     "text": [
      "Custom logger is already specified. Specify more than one logger at same time is not thread safe."
     ]
    },
    {
     "data": {
      "application/vnd.jupyter.widget-view+json": {
       "model_id": "262113bd76eb44cbbde98bc371aeff3d",
       "version_major": 2,
       "version_minor": 0
      },
      "text/plain": [
       "MetricVisualizer(layout=Layout(align_self='stretch', height='500px'))"
      ]
     },
     "metadata": {},
     "output_type": "display_data"
    }
   ],
   "source": [
    "cat_features_idx=[0, 1, 2, 5, 8, 9, 11, 12, 13, 14, 15, 17, 18, 19, 20, 23]\n",
    "# cat_features_idx=[0, 1, 2, 5, 8, 9]\n",
    "if os.path.exists(\"models/2022-04-11_CatBoostRegressor_9.joblib\"):\n",
    "    with open(\"models/2022-04-11_CatBoostRegressor_9.joblib\", \"rb\") as f:\n",
    "        model_cb = joblib.load(f)\n",
    "else:\n",
    "    model_cb = CatBoostRegressor(\n",
    "        iterations=1000,\n",
    "        random_seed=42,\n",
    "        eval_metric=\"MAPE\",\n",
    "        custom_metric=[\"R2\", \"MAE\"],\n",
    "        one_hot_max_size=50,\n",
    "        depth=10,\n",
    "        l2_leaf_reg=3,\n",
    "        learning_rate=0.15,\n",
    "        cat_features=cat_features_idx\n",
    "    )\n",
    "    model_cb.fit(\n",
    "        X_train,\n",
    "        y_train,\n",
    "        eval_set=(X_test, y_test),\n",
    "        verbose_eval=0,\n",
    "        use_best_model=True,\n",
    "        plot=True,\n",
    "    )\n",
    "    with open(\"models/2022-04-08_CatBoostRegressor_9.joblib\", \"wb\") as f:\n",
    "        joblib.dump(model_cb, f, compress=9)"
   ]
  },
  {
   "cell_type": "code",
   "execution_count": 604,
   "metadata": {},
   "outputs": [
    {
     "data": {
      "image/png": "[encoded data removed]",
      "text/plain": [
       "<Figure size 720x576 with 1 Axes>"
      ]
     },
     "metadata": {
      "needs_background": "light"
     },
     "output_type": "display_data"
    }
   ],
   "source": [
    "plot_feature_importance(model_cb.get_feature_importance(), X_train.columns, 'CAT BOOST')"
   ]
  },
  {
   "cell_type": "code",
   "execution_count": 605,
   "metadata": {},
   "outputs": [],
   "source": [
    "y_pred_cb = model_cb.predict(X_test)"
   ]
  },
  {
   "cell_type": "code",
   "execution_count": 606,
   "metadata": {},
   "outputs": [
    {
     "data": {
      "text/plain": [
       "13.853512814437282"
      ]
     },
     "execution_count": 606,
     "metadata": {},
     "output_type": "execute_result"
    }
   ],
   "source": [
    "mape(y_test, y_pred_cb)*100"
   ]
  },
  {
   "cell_type": "code",
   "execution_count": 430,
   "metadata": {},
   "outputs": [],
   "source": [
    "price_cut = 1000"
   ]
  },
  {
   "cell_type": "code",
   "execution_count": 431,
   "metadata": {},
   "outputs": [],
   "source": [
    "y_pred_cb_ed = price_cut * np.round(y_pred_cb / price_cut)"
   ]
  },
  {
   "cell_type": "code",
   "execution_count": 432,
   "metadata": {},
   "outputs": [
    {
     "data": {
      "text/plain": [
       "13.649062233426928"
      ]
     },
     "execution_count": 432,
     "metadata": {},
     "output_type": "execute_result"
    }
   ],
   "source": [
    "mape(y_test, y_pred_cb_ed)*100"
   ]
  },
  {
   "cell_type": "code",
   "execution_count": 607,
   "metadata": {},
   "outputs": [],
   "source": [
    "y_pred_cb_test = model_cb.predict(test_prep)"
   ]
  },
  {
   "cell_type": "code",
   "execution_count": 608,
   "metadata": {},
   "outputs": [],
   "source": [
    "sam = pd.read_csv('data/sample_submission.csv')"
   ]
  },
  {
   "cell_type": "code",
   "execution_count": 609,
   "metadata": {},
   "outputs": [],
   "source": [
    "sam['price'] = y_pred_cb_test"
   ]
  },
  {
   "cell_type": "code",
   "execution_count": 610,
   "metadata": {},
   "outputs": [],
   "source": [
    "sam['price'] = sam['price'] * test_rate"
   ]
  },
  {
   "cell_type": "code",
   "execution_count": 612,
   "metadata": {},
   "outputs": [],
   "source": [
    "sam.to_csv('submission20220412_7.csv', index=False)"
   ]
  },
  {
   "cell_type": "code",
   "execution_count": 611,
   "metadata": {},
   "outputs": [
    {
     "data": {
      "text/html": [
       "<div>\n",
       "<style scoped>\n",
       "    .dataframe tbody tr th:only-of-type {\n",
       "        vertical-align: middle;\n",
       "    }\n",
       "\n",
       "    .dataframe tbody tr th {\n",
       "        vertical-align: top;\n",
       "    }\n",
       "\n",
       "    .dataframe thead th {\n",
       "        text-align: right;\n",
       "    }\n",
       "</style>\n",
       "<table border=\"1\" class=\"dataframe\">\n",
       "  <thead>\n",
       "    <tr style=\"text-align: right;\">\n",
       "      <th></th>\n",
       "      <th>sell_id</th>\n",
       "      <th>price</th>\n",
       "    </tr>\n",
       "  </thead>\n",
       "  <tbody>\n",
       "    <tr>\n",
       "      <th>0</th>\n",
       "      <td>1100575026</td>\n",
       "      <td>7.621732e+05</td>\n",
       "    </tr>\n",
       "    <tr>\n",
       "      <th>1</th>\n",
       "      <td>1100549428</td>\n",
       "      <td>1.139229e+06</td>\n",
       "    </tr>\n",
       "    <tr>\n",
       "      <th>2</th>\n",
       "      <td>1100658222</td>\n",
       "      <td>9.490694e+05</td>\n",
       "    </tr>\n",
       "    <tr>\n",
       "      <th>3</th>\n",
       "      <td>1100937408</td>\n",
       "      <td>8.032237e+05</td>\n",
       "    </tr>\n",
       "    <tr>\n",
       "      <th>4</th>\n",
       "      <td>1101037972</td>\n",
       "      <td>9.741583e+05</td>\n",
       "    </tr>\n",
       "    <tr>\n",
       "      <th>...</th>\n",
       "      <td>...</td>\n",
       "      <td>...</td>\n",
       "    </tr>\n",
       "    <tr>\n",
       "      <th>34681</th>\n",
       "      <td>1101369263</td>\n",
       "      <td>1.108605e+06</td>\n",
       "    </tr>\n",
       "    <tr>\n",
       "      <th>34682</th>\n",
       "      <td>1101369581</td>\n",
       "      <td>2.493720e+06</td>\n",
       "    </tr>\n",
       "    <tr>\n",
       "      <th>34683</th>\n",
       "      <td>1101364889</td>\n",
       "      <td>2.615639e+05</td>\n",
       "    </tr>\n",
       "    <tr>\n",
       "      <th>34684</th>\n",
       "      <td>1101362518</td>\n",
       "      <td>1.456868e+06</td>\n",
       "    </tr>\n",
       "    <tr>\n",
       "      <th>34685</th>\n",
       "      <td>1101256068</td>\n",
       "      <td>9.614876e+05</td>\n",
       "    </tr>\n",
       "  </tbody>\n",
       "</table>\n",
       "<p>34686 rows × 2 columns</p>\n",
       "</div>"
      ],
      "text/plain": [
       "          sell_id         price\n",
       "0      1100575026  7.621732e+05\n",
       "1      1100549428  1.139229e+06\n",
       "2      1100658222  9.490694e+05\n",
       "3      1100937408  8.032237e+05\n",
       "4      1101037972  9.741583e+05\n",
       "...           ...           ...\n",
       "34681  1101369263  1.108605e+06\n",
       "34682  1101369581  2.493720e+06\n",
       "34683  1101364889  2.615639e+05\n",
       "34684  1101362518  1.456868e+06\n",
       "34685  1101256068  9.614876e+05\n",
       "\n",
       "[34686 rows x 2 columns]"
      ]
     },
     "execution_count": 611,
     "metadata": {},
     "output_type": "execute_result"
    }
   ],
   "source": [
    "sam"
   ]
  },
  {
   "cell_type": "markdown",
   "metadata": {},
   "source": [
    "### XGBRegressor"
   ]
  },
  {
   "cell_type": "code",
   "execution_count": 472,
   "metadata": {},
   "outputs": [],
   "source": [
    "XG_data = data.copy()"
   ]
  },
  {
   "cell_type": "markdown",
   "metadata": {},
   "source": [
    "#### Encoding categoricals, dropping cols, train-test split"
   ]
  },
  {
   "cell_type": "code",
   "execution_count": 473,
   "metadata": {},
   "outputs": [],
   "source": [
    "for col in XG_data.select_dtypes('object').columns:\n",
    "    XG_data[col] = XG_data[col].astype('category').cat.codes"
   ]
  },
  {
   "cell_type": "code",
   "execution_count": 474,
   "metadata": {},
   "outputs": [],
   "source": [
    "X_num = XG_data.drop(['sample', 'price', 'parsed_date', 'description', 'diff_data_years'], axis=1) # pts?\n",
    "y_num = XG_data['price']"
   ]
  },
  {
   "cell_type": "code",
   "execution_count": 475,
   "metadata": {},
   "outputs": [],
   "source": [
    "X_train_num, X_test_num, y_train_num, y_test_num = train_test_split(\n",
    "    X_num, y_num, test_size=0.20, random_state=42, shuffle=True\n",
    ")"
   ]
  },
  {
   "cell_type": "markdown",
   "metadata": {},
   "source": [
    "#### training and calculating metric and importancies"
   ]
  },
  {
   "cell_type": "code",
   "execution_count": 476,
   "metadata": {},
   "outputs": [],
   "source": [
    "model_xbr = train_or_load(\n",
    "    xgb.XGBRegressor(\n",
    "        max_depth=20, min_child_weight=1, n_estimators=500, n_jobs=-1, eta=0.11\n",
    "    ),\n",
    "    X_train_num,\n",
    "    y_train_num,\n",
    "    \"models/2022-04-12_XGBRegressor.joblib\",\n",
    ")"
   ]
  },
  {
   "cell_type": "code",
   "execution_count": 477,
   "metadata": {},
   "outputs": [],
   "source": [
    "y_pred_xbr = model_xbr.predict(X_test_num)"
   ]
  },
  {
   "cell_type": "code",
   "execution_count": 478,
   "metadata": {},
   "outputs": [
    {
     "data": {
      "text/plain": [
       "14.343106789753001"
      ]
     },
     "execution_count": 478,
     "metadata": {},
     "output_type": "execute_result"
    }
   ],
   "source": [
    "mape(y_test, y_pred_xbr)*100"
   ]
  },
  {
   "cell_type": "code",
   "execution_count": 479,
   "metadata": {},
   "outputs": [
    {
     "data": {
      "image/png": "[encoded data removed]",
      "text/plain": [
       "<Figure size 720x576 with 1 Axes>"
      ]
     },
     "metadata": {
      "needs_background": "light"
     },
     "output_type": "display_data"
    }
   ],
   "source": [
    "plot_feature_importance(model_xbr.feature_importances_, X_train_num.columns, 'XGBRegressor')"
   ]
  },
  {
   "cell_type": "markdown",
   "metadata": {},
   "source": [
    "### RandomForestRegressor"
   ]
  },
  {
   "cell_type": "code",
   "execution_count": 152,
   "metadata": {},
   "outputs": [
    {
     "name": "stderr",
     "output_type": "stream",
     "text": [
      "[Parallel(n_jobs=-1)]: Using backend ThreadingBackend with 6 concurrent workers.\n",
      "[Parallel(n_jobs=-1)]: Done  38 tasks      | elapsed:    7.0s\n",
      "[Parallel(n_jobs=-1)]: Done 100 out of 100 | elapsed:   17.9s finished\n"
     ]
    }
   ],
   "source": [
    "model_rfr = train_or_load(\n",
    "    RandomForestRegressor(random_state=42, n_jobs=-1, verbose=1),\n",
    "    X_train_num,\n",
    "    y_train_num,\n",
    "    \"models/2022-04-08_RandomForestRegressor_0.joblib\",\n",
    ")"
   ]
  },
  {
   "cell_type": "code",
   "execution_count": 153,
   "metadata": {},
   "outputs": [
    {
     "name": "stderr",
     "output_type": "stream",
     "text": [
      "[Parallel(n_jobs=6)]: Using backend ThreadingBackend with 6 concurrent workers.\n",
      "[Parallel(n_jobs=6)]: Done  38 tasks      | elapsed:    0.0s\n",
      "[Parallel(n_jobs=6)]: Done 100 out of 100 | elapsed:    0.2s finished\n"
     ]
    }
   ],
   "source": [
    "y_pred_rfr = model_rfr.predict(X_test_num)"
   ]
  },
  {
   "cell_type": "code",
   "execution_count": 154,
   "metadata": {},
   "outputs": [
    {
     "data": {
      "text/plain": [
       "13.772104560114046"
      ]
     },
     "execution_count": 154,
     "metadata": {},
     "output_type": "execute_result"
    }
   ],
   "source": [
    "mape(y_test, y_pred_rfr)*100"
   ]
  },
  {
   "cell_type": "code",
   "execution_count": 155,
   "metadata": {},
   "outputs": [
    {
     "data": {
      "image/png": "[encoded data removed]",
      "text/plain": [
       "<Figure size 720x576 with 1 Axes>"
      ]
     },
     "metadata": {
      "needs_background": "light"
     },
     "output_type": "display_data"
    }
   ],
   "source": [
    "plot_feature_importance(model_rfr.feature_importances_, X_train_num.columns, 'Random Forest')"
   ]
  },
  {
   "cell_type": "markdown",
   "metadata": {},
   "source": [
    "### AdaBoostRegressor (dummies)"
   ]
  },
  {
   "cell_type": "code",
   "execution_count": 58,
   "metadata": {},
   "outputs": [],
   "source": [
    "X_train[\"train/test\"] = \"train\"\n",
    "X_test[\"train/test\"] = \"test\"\n",
    "\n",
    "ada_data = X_train.append(X_test)\n",
    "ada_prep = ada_data.drop(columns=[\"train/test\"]).pipe(get_dumb_dummies)\n",
    "\n",
    "ada_train = ada_prep.loc[ada_data[\"train/test\"] == \"train\"]\n",
    "ada_test = ada_prep.loc[ada_data[\"train/test\"] == \"test\"]"
   ]
  },
  {
   "cell_type": "code",
   "execution_count": 59,
   "metadata": {},
   "outputs": [],
   "source": [
    "model_ada = train_or_load(\n",
    "    AdaBoostRegressor(random_state=42),\n",
    "    ada_train,\n",
    "    y_train,\n",
    "    \"models/2022-04-08_AdaBoostRegressor_dummies.joblib\",\n",
    ")"
   ]
  },
  {
   "cell_type": "code",
   "execution_count": 60,
   "metadata": {},
   "outputs": [],
   "source": [
    "y_pred_ada = model_ada.predict(ada_test)"
   ]
  },
  {
   "cell_type": "code",
   "execution_count": 61,
   "metadata": {},
   "outputs": [
    {
     "data": {
      "text/plain": [
       "405.1923288385895"
      ]
     },
     "execution_count": 61,
     "metadata": {},
     "output_type": "execute_result"
    }
   ],
   "source": [
    "mape(y_test, y_pred_ada)*100"
   ]
  },
  {
   "cell_type": "code",
   "execution_count": 62,
   "metadata": {},
   "outputs": [
    {
     "data": {
      "image/png": "[encoded data removed]",
      "text/plain": [
       "<Figure size 1000x800 with 1 Axes>"
      ]
     },
     "metadata": {},
     "output_type": "display_data"
    }
   ],
   "source": [
    "plot_feature_importance(model_ada.feature_importances_ , ada_train.columns, 'ADA BOOST')"
   ]
  },
  {
   "cell_type": "markdown",
   "metadata": {},
   "source": [
    "### AdaBoostRegressor (ordinal)"
   ]
  },
  {
   "cell_type": "code",
   "execution_count": 63,
   "metadata": {},
   "outputs": [],
   "source": [
    "model_ada = train_or_load(\n",
    "    AdaBoostRegressor(random_state=42),\n",
    "    X_train_num,\n",
    "    y_train_num,\n",
    "    \"models/2022-04-08_AdaBoostRegressor_ordinal.joblib\",\n",
    ")"
   ]
  },
  {
   "cell_type": "code",
   "execution_count": 64,
   "metadata": {},
   "outputs": [],
   "source": [
    "y_pred_ada = model_ada.predict(X_test_num)"
   ]
  },
  {
   "cell_type": "code",
   "execution_count": 65,
   "metadata": {},
   "outputs": [
    {
     "data": {
      "text/plain": [
       "562.5419084630358"
      ]
     },
     "execution_count": 65,
     "metadata": {},
     "output_type": "execute_result"
    }
   ],
   "source": [
    "mape(y_test_num, y_pred_ada)*100"
   ]
  },
  {
   "cell_type": "code",
   "execution_count": 66,
   "metadata": {},
   "outputs": [
    {
     "data": {
      "image/png": "[encoded data removed]",
      "text/plain": [
       "<Figure size 1000x800 with 1 Axes>"
      ]
     },
     "metadata": {},
     "output_type": "display_data"
    }
   ],
   "source": [
    "plot_feature_importance(model_ada.feature_importances_ , X_train_num.columns, 'ADA BOOST')"
   ]
  },
  {
   "cell_type": "markdown",
   "metadata": {},
   "source": [
    "## Conclusion\n",
    "\n",
    "1. please use new notebook for experiments, don't change this one. New files, preprocessed here, are:\n",
    "  - [2022-04-08_train_pre-model.parquet](data/2022-04-08_train_pre-model.parquet)\n",
    "  - [2022-04-08_test_pre-model.parquet](data/2022-04-08_test_pre-model.parquet)\n",
    "2. consider keeping the most important fields, discovered by models:\n",
    "  - **catboost** - engine_power, engine_displacement, production_year, brand, model_year, km_age, drive, model_name, body_type, fuel_type, diff_data, vendor\n",
    "  - **xgboost** - production_year, engine_displacement, engine_power, model_year, fuel_type\n",
    "  - **randomforest** - production_year, engine_displacement, engine_power, model_year, model_name, km_age\n",
    "  - **adaboost** - engine_displacement, engine_power, production_year, km_per_year, desc_count, km_age, diff_data, owners, model_year, dealer\n",
    "3. consider dropping adaboost or use it for stacking only\n",
    "4. you can explicitly specify required fields reading parquet files\n",
    "5. do a LOT of experiments:\n",
    "  - try more algorythms\n",
    "  - try to log or not to log **y**\n",
    "  - try to standartize or not to standartize\n",
    "  - try to deal with description\n",
    "  - try automl\n",
    "  - try ordinal vs dummy categorical encoding for different algorythms\n",
    "  - try randomly drop features\n",
    "6. LOG EVERYTHING - use [readme file](README.md) to log experiment results"
   ]
  }
 ],
 "metadata": {
  "interpreter": {
   "hash": "22f5e291d46cc6291753a9807bc7e76c54251e9856493f8a9633816cb79d720a"
  },
  "kernelspec": {
   "display_name": "Python 3 (ipykernel)",
   "language": "python",
   "name": "python3"
  },
  "language_info": {
   "codemirror_mode": {
    "name": "ipython",
    "version": 3
   },
   "file_extension": ".py",
   "mimetype": "text/x-python",
   "name": "python",
   "nbconvert_exporter": "python",
   "pygments_lexer": "ipython3",
   "version": "3.10.4"
  }
 },
 "nbformat": 4,
 "nbformat_minor": 4
}
