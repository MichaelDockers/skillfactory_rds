{
 "cells": [
  {
   "cell_type": "code",
   "execution_count": 1,
   "id": "1cfa597c",
   "metadata": {},
   "outputs": [],
   "source": [
    "from warnings import filterwarnings\n",
    "\n",
    "import pandas as pd\n",
    "import requests\n",
    "from bs4 import BeautifulSoup\n",
    "from selenium import webdriver\n",
    "from selenium.webdriver.common.by import By\n",
    "from selenium.webdriver.chrome.service import Service\n",
    "from webdriver_manager.chrome import ChromeDriverManager\n",
    "from selenium.common.exceptions import NoSuchElementException\n",
    "\n",
    "from tqdm import tqdm\n",
    "\n",
    "import re\n",
    "import time\n",
    "import json\n",
    "\n",
    "filterwarnings(\"ignore\")"
   ]
  },
  {
   "cell_type": "code",
   "execution_count": 2,
   "id": "3e13209a",
   "metadata": {},
   "outputs": [],
   "source": [
    "pd.set_option('display.max_rows', 100)\n",
    "pd.set_option('display.max_columns', 100)"
   ]
  },
  {
   "cell_type": "code",
   "execution_count": 3,
   "id": "d025ce41",
   "metadata": {},
   "outputs": [],
   "source": [
    "test_data = pd.read_pickle(\"data/test.pkl.zip\", compression=\"zip\")"
   ]
  },
  {
   "cell_type": "code",
   "execution_count": 4,
   "id": "dd718aa1",
   "metadata": {},
   "outputs": [
    {
     "data": {
      "text/plain": [
       "'Машина в отличном состоянии!!17.10.2020 было сделано Т.О заменено масло в коробке передач в двигателе,так же заменены все фильтра.Почти максимальная комплектация кроме люка!!! Без ключевой доступ. В ДТП не была не билась.Красился капот и передний бампер так как от времени были сколы.Капот фары туманки затянуты броне пленкой.Делали для себя супруга не ездит вся причина продажи.. Новая летняя резина. Продаю не спеша. '"
      ]
     },
     "execution_count": 4,
     "metadata": {},
     "output_type": "execute_result"
    }
   ],
   "source": [
    "test_data.iloc[12561]['description']"
   ]
  },
  {
   "cell_type": "code",
   "execution_count": 5,
   "id": "7fd15057",
   "metadata": {},
   "outputs": [],
   "source": [
    "valid_data = pd.DataFrame()\n",
    "catalog_data = pd.DataFrame()"
   ]
  },
  {
   "cell_type": "code",
   "execution_count": 6,
   "id": "13727dc1",
   "metadata": {},
   "outputs": [
    {
     "data": {
      "text/plain": [
       "array(['лифтбек', 'внедорожник 5 дв.', 'хэтчбек 5 дв.', 'седан',\n",
       "       'компактвэн', 'универсал 5 дв.', 'пикап одинарная кабина',\n",
       "       'хэтчбек 3 дв.', 'купе', 'кабриолет', 'минивэн',\n",
       "       'пикап двойная кабина', 'внедорожник 3 дв.', 'родстер', 'микровэн',\n",
       "       'седан 2 дв.', 'купе-хардтоп', 'фастбек', 'тарга',\n",
       "       'внедорожник открытый', 'лимузин', 'пикап полуторная кабина',\n",
       "       'седан-хардтоп', 'фургон'], dtype=object)"
      ]
     },
     "execution_count": 6,
     "metadata": {},
     "output_type": "execute_result"
    }
   ],
   "source": [
    "test_data['bodyType'].unique()"
   ]
  },
  {
   "cell_type": "code",
   "execution_count": 7,
   "id": "6e925a45",
   "metadata": {},
   "outputs": [
    {
     "name": "stderr",
     "output_type": "stream",
     "text": [
      "\n",
      "\n",
      "====== WebDriver manager ======\n",
      "Current google-chrome version is 99.0.4844\n",
      "Get LATEST chromedriver version for 99.0.4844 google-chrome\n",
      "Driver [/home/user/.wdm/drivers/chromedriver/linux64/99.0.4844.51/chromedriver] found in cache\n"
     ]
    }
   ],
   "source": [
    "options = webdriver.ChromeOptions()\n",
    "driver = webdriver.Chrome(service=Service(ChromeDriverManager().install()), options=options)\n",
    "# driver = webdriver.Chrome(\"./chromedriver\", options=options)"
   ]
  },
  {
   "cell_type": "code",
   "execution_count": 18,
   "id": "d2221eab",
   "metadata": {},
   "outputs": [],
   "source": [
    "regions = [\n",
    "    \"leningradskaya_oblast\",\n",
    "    # \"moskovskaya_oblast\",\n",
    "]\n",
    "models = [\n",
    "#     \"skoda\",\n",
    "#     \"audi\",\n",
    "#     \"honda\",\n",
    "#     \"volvo\",\n",
    "    # \"bmw\",\n",
    "    # \"nissan\",\n",
    "    # \"infiniti\",\n",
    "    # \"mercedes\",\n",
    "    # \"toyota\",\n",
    "    # \"lexus\",\n",
    "    # \"volkswagen\",\n",
    "    \"mitsubishi\",\n",
    "]\n"
   ]
  },
  {
   "cell_type": "code",
   "execution_count": 19,
   "id": "957cf756",
   "metadata": {},
   "outputs": [],
   "source": [
    "urls_list = []"
   ]
  },
  {
   "cell_type": "code",
   "execution_count": 20,
   "id": "531256b2",
   "metadata": {},
   "outputs": [],
   "source": [
    "def get_urls_for_model_in_region(model, region):\n",
    "    \n",
    "    result_list = []\n",
    "    cnt = True\n",
    "    page_num = 1\n",
    "    \n",
    "    while cnt is True:\n",
    "        try:\n",
    "            driver.get(f'https://auto.ru/{region}/cars/{model}/used/?page={page_num}')\n",
    "            next_page = driver.find_element(By.CLASS_NAME, 'ListingItemTitle__link')\n",
    "            page_links = driver.find_elements(By.CLASS_NAME, 'ListingItemTitle__link')\n",
    "\n",
    "            for item in page_links:\n",
    "                result_list.append(item.get_attribute('href'))\n",
    "            print(f'Parsing {page_num} page for {model} in {region}', end='\\r')\n",
    "            page_num += 1\n",
    "        except NoSuchElementException:\n",
    "            cnt = False\n",
    "            print()\n",
    "            print(f'There are {page_num} pages by {model}')\n",
    "    \n",
    "    return result_list"
   ]
  },
  {
   "cell_type": "code",
   "execution_count": 21,
   "id": "39bf09a1",
   "metadata": {},
   "outputs": [],
   "source": [
    "def get_car_info(url):\n",
    "        \n",
    "    driver.get(url)\n",
    "    \n",
    "    year = int(driver.find_element(By.CLASS_NAME, 'CardInfoRow_year').text.split('\\n')[1])\n",
    "    \n",
    "    car = driver.find_elements(By.CLASS_NAME,'CardBreadcrumbs__itemText')\n",
    "    brand = car[3].text\n",
    "    model = car[4].text\n",
    "    \n",
    "    car_url = url\n",
    "    \n",
    "    bodytype = driver.find_element(By.CLASS_NAME, 'CardInfoRow_bodytype').text.split('\\n')[1]\n",
    "    kmage = int(re.sub('\\D', '', driver.find_element(By.CLASS_NAME, 'CardInfoRow_kmAge').text))\n",
    "    color = driver.find_element(By.CLASS_NAME, 'CardInfoRow_color').text.split('\\n')[1]\n",
    "    \n",
    "    engine = driver.find_element(By.CLASS_NAME, 'CardInfoRow_engine').text.split('/')\n",
    "    engineDisplacement = float(re.findall('(\\d+.\\d+)', engine[0])[0])\n",
    "    enginePower = int(re.findall('\\d+', engine[1])[0])\n",
    "    fuelType = engine[2]\n",
    "    \n",
    "    super_gen = json.loads(driver.find_element(By.ID, 'sale-data-attributes').get_attribute('data-bem'))['sale-data-attributes']\n",
    "    \n",
    "    vehicleTransmission = driver.find_element(By.CLASS_NAME, 'CardInfoRow_transmission').text.split('\\n')[1]\n",
    "    drive = driver.find_element(By.CLASS_NAME, 'CardInfoRow_drive').text.split('\\n')[1]\n",
    "    wheel = driver.find_element(By.CLASS_NAME, 'CardInfoRow_wheel').text.split('\\n')[1]\n",
    "    state = driver.find_element(By.CLASS_NAME, 'CardInfoRow_state').text.split('\\n')[1]\n",
    "    owner = driver.find_element(By.CLASS_NAME, 'CardInfoRow_ownersCount').text.split('\\n')[1]\n",
    "    pts = driver.find_element(By.CLASS_NAME, 'CardInfoRow_pts').text.split('\\n')[1]\n",
    "    customs = driver.find_element(By.CLASS_NAME, 'CardInfoRow_customs').text.split('\\n')[1]\n",
    "    \n",
    "    try:\n",
    "        owningTime = driver.find_element(By.CLASS_NAME, 'CardInfoRow_owningTime').text.split('\\n')[1]\n",
    "    except NoSuchElementException:\n",
    "        owningTime = None\n",
    "    \n",
    "    try:\n",
    "        description = driver.find_element(By.CLASS_NAME, 'CardDescriptionHTML').text\n",
    "    except NoSuchElementException:\n",
    "        description = None\n",
    "    \n",
    "    sell_id = int(re.findall('\\d+', driver.find_element(By.CLASS_NAME, 'CardHead__id').text)[0])\n",
    "    price = int(re.sub('\\D', '', driver.find_element(By.CLASS_NAME, 'OfferPriceCaption__price').text))\n",
    "    \n",
    "    complect_list = []\n",
    "    \n",
    "    complect_data = driver.find_elements(By.CLASS_NAME, 'ComplectationGroupsDesktop__itemList')\n",
    "\n",
    "    for item in complect_data:\n",
    "        complect_list.extend(item.text.replace('\\n', '').split('•')[1:])\n",
    "    \n",
    "    catalog_url = driver.find_element(By.CLASS_NAME, 'CardCatalogLink').get_attribute('href')\n",
    "    \n",
    "    data_dict = {\n",
    "        'brand': brand, 'model': model, 'year': year, 'bodytype': bodytype, 'kmage': kmage,\n",
    "        'color': color, 'engineDisplacement': engineDisplacement, 'enginePower': enginePower, \n",
    "        'fuelType': fuelType, 'super_gen': super_gen, 'vehicleTransmission': vehicleTransmission,\n",
    "        'drive': drive, 'wheel': wheel, 'state': state, 'owner': owner, 'pts': pts, 'customs': customs, \n",
    "        'owningTime': owningTime, 'description': description, 'sell_id': sell_id, 'price': price, \n",
    "        'car_url': car_url, 'catalog_url': catalog_url, 'equipment_dict': complect_list\n",
    "    }\n",
    "    \n",
    "    return data_dict"
   ]
  },
  {
   "cell_type": "code",
   "execution_count": 22,
   "id": "9779b1d2",
   "metadata": {},
   "outputs": [],
   "source": [
    "def get_dicts_from_catalog(url):\n",
    "    \n",
    "    driver.get(url)\n",
    "\n",
    "    car_info_full = driver.find_elements(By.CLASS_NAME, 'list-values')\n",
    "    \n",
    "    car_info_dict_ru = {}\n",
    "    \n",
    "    for item in car_info_full:\n",
    "        el = item.text.split('\\n')\n",
    "        for i in range(0, len(el) - 1, 2):\n",
    "            car_info_dict_ru[el[i]] = el[i + 1]\n",
    "    \n",
    "    engine_type_dict = {'бензин': 'GASOLINE', 'дизель': 'DIESEL', \n",
    "                        'гибрид': 'HYBRID', 'электро': 'ELECTRO', 'газ': 'LPG'}\n",
    "    gear_type_dict = {'передний': 'FORWARD_CONTROL', 'полный': 'ALL_WHEEL_DRIVE', 'задний': 'REAR_DRIVE'}\n",
    "    transmission_dict = {'автомат': 'AUTOMATIC', 'робот': 'ROBOT', \n",
    "                         'механика': 'MECHANICAL', 'вариатор': 'VARIATOR'}\n",
    "\n",
    "    car_info_dict_en = {\n",
    "        'engine_type': engine_type_dict[car_info_dict_ru['Тип двигателя']],\n",
    "        'gear_type': gear_type_dict[car_info_dict_ru['Привод']],\n",
    "        'transmission': transmission_dict[car_info_dict_ru['Коробка']],\n",
    "        'power': int(re.findall('\\d+', car_info_dict_ru['Мощность'])[0]),\n",
    "        'power_kvt': int(re.findall('\\d+', car_info_dict_ru['Максимальная мощность, л.с./кВт при об/мин'])[1]),\n",
    "        'acceleration': car_info_dict_ru.get('Разгон до 100 км/ч, с'),\n",
    "        'clearance_min': min(map(int, re.findall('\\d+', car_info_dict_ru['Клиренс']))),\n",
    "        'fuel_rate': float(car_info_dict_ru['Расход топлива, л город/трасса/смешанный'].split('/')[2])\n",
    "    }\n",
    "    \n",
    "    url2 = url.replace('specifications', 'equipment')\n",
    "    \n",
    "    driver.get(url2)\n",
    "\n",
    "    equipment_list = []\n",
    "\n",
    "    equipment_data = driver.find_elements(By.CLASS_NAME, 'catalog__package-list-i')\n",
    "    for item in equipment_data:\n",
    "        equipment_list.append(item.text)\n",
    "    \n",
    "    car_data = json.loads(driver.find_element(By.CLASS_NAME, 'search-form-v2-mmm').get_attribute('data-bem'))\n",
    "    equip_data = json.loads(driver.find_element(By.CLASS_NAME, 'catalog__section').get_attribute('data-bem'))\n",
    "    attrib_data = json.loads(driver.find_element(By.CLASS_NAME, 'sale-data-attributes').get_attribute('data-bem'))\n",
    "    \n",
    "    return {'super_gen_2': car_info_dict_en, 'super_gen_3': attrib_data, 'complectation_dict': equipment_list}"
   ]
  },
  {
   "cell_type": "markdown",
   "id": "4b741576",
   "metadata": {},
   "source": [
    "## Gathering URLs from MODEL pages in Regions"
   ]
  },
  {
   "cell_type": "code",
   "execution_count": 23,
   "id": "147aa0f2",
   "metadata": {},
   "outputs": [
    {
     "name": "stdout",
     "output_type": "stream",
     "text": [
      "1 Processing mitsubishi from leningradskaya_oblast\n",
      "Parsing 16 page for mitsubishi in leningradskaya_oblast\n",
      "There are 17 pages by mitsubishi\n",
      "CPU times: user 679 ms, sys: 40.6 ms, total: 720 ms\n",
      "Wall time: 1min 25s\n"
     ]
    }
   ],
   "source": [
    "%%time\n",
    "all_urls = []\n",
    "from time import sleep\n",
    "from random import randint\n",
    "\n",
    "i = 0\n",
    "for region in regions:\n",
    "    for model in models:\n",
    "        print(f\"{i+1} Processing {model} from {region}\")\n",
    "        sleep(randint(30, 70)/100.)\n",
    "        model_urls = get_urls_for_model_in_region(model, region)\n",
    "        all_urls.append(model_urls)\n",
    "        i += 1"
   ]
  },
  {
   "cell_type": "markdown",
   "id": "15944bee-76dc-49c4-a211-a29f151ef534",
   "metadata": {},
   "source": [
    "## Getting main car info"
   ]
  },
  {
   "cell_type": "code",
   "execution_count": 24,
   "id": "feafcb99",
   "metadata": {},
   "outputs": [],
   "source": [
    "from itertools import chain\n",
    "all_urls = chain(*all_urls)"
   ]
  },
  {
   "cell_type": "code",
   "execution_count": 25,
   "id": "3c7cd6c3",
   "metadata": {},
   "outputs": [
    {
     "name": "stderr",
     "output_type": "stream",
     "text": [
      "\r",
      "0it [00:00, ?it/s]"
     ]
    },
    {
     "name": "stdout",
     "output_type": "stream",
     "text": [
      "Processing url 1: https://auto.ru/cars/used/sale/mitsubishi/grandis/1103902235-be7f9622/?geo_id=10174\n"
     ]
    },
    {
     "name": "stderr",
     "output_type": "stream",
     "text": [
      "\r",
      "1it [00:04,  4.11s/it]"
     ]
    },
    {
     "name": "stdout",
     "output_type": "stream",
     "text": [
      "Processing url 2: https://auto.ru/cars/used/sale/mitsubishi/pajero/1114824149-9096f1b3/?geo_id=10174\n"
     ]
    },
    {
     "name": "stderr",
     "output_type": "stream",
     "text": [
      "\r",
      "2it [00:08,  3.99s/it]"
     ]
    },
    {
     "name": "stdout",
     "output_type": "stream",
     "text": [
      "Processing url 3: https://auto.ru/cars/used/sale/mitsubishi/asx/1115058505-29497b6d/?geo_id=10174\n"
     ]
    },
    {
     "name": "stderr",
     "output_type": "stream",
     "text": [
      "\r",
      "3it [00:13,  4.70s/it]"
     ]
    },
    {
     "name": "stdout",
     "output_type": "stream",
     "text": [
      "Processing url 4: https://auto.ru/cars/used/sale/mitsubishi/lancer/1115194851-ec9c257c/?geo_id=10174\n"
     ]
    },
    {
     "name": "stderr",
     "output_type": "stream",
     "text": [
      "\r",
      "4it [00:19,  5.02s/it]"
     ]
    },
    {
     "name": "stdout",
     "output_type": "stream",
     "text": [
      "Processing url 5: https://auto.ru/cars/used/sale/mitsubishi/outlander/1115194482-cdd21b80/?geo_id=10174\n"
     ]
    },
    {
     "name": "stderr",
     "output_type": "stream",
     "text": [
      "\r",
      "5it [00:23,  4.79s/it]"
     ]
    },
    {
     "name": "stdout",
     "output_type": "stream",
     "text": [
      "Processing url 6: https://auto.ru/cars/used/sale/mitsubishi/pajero/1115194174-10e381c9/?geo_id=10174\n"
     ]
    },
    {
     "name": "stderr",
     "output_type": "stream",
     "text": [
      "\r",
      "6it [00:27,  4.64s/it]"
     ]
    },
    {
     "name": "stdout",
     "output_type": "stream",
     "text": [
      "Processing url 7: https://auto.ru/cars/used/sale/mitsubishi/outlander/1115189612-a545744d/?geo_id=10174\n"
     ]
    },
    {
     "name": "stderr",
     "output_type": "stream",
     "text": [
      "\r",
      "7it [00:32,  4.54s/it]"
     ]
    },
    {
     "name": "stdout",
     "output_type": "stream",
     "text": [
      "Processing url 8: https://auto.ru/cars/used/sale/mitsubishi/lancer/1114793361-561b0f4e/?geo_id=10174\n"
     ]
    },
    {
     "name": "stderr",
     "output_type": "stream",
     "text": [
      "\r",
      "8it [00:36,  4.56s/it]"
     ]
    },
    {
     "name": "stdout",
     "output_type": "stream",
     "text": [
      "Processing url 9: https://auto.ru/cars/used/sale/mitsubishi/pajero/1115192083-e6149756/?geo_id=10174\n"
     ]
    },
    {
     "name": "stderr",
     "output_type": "stream",
     "text": [
      "\r",
      "9it [00:40,  4.43s/it]"
     ]
    },
    {
     "name": "stdout",
     "output_type": "stream",
     "text": [
      "Processing url 10: https://auto.ru/cars/used/sale/mitsubishi/outlander/1115190287-1e38d4c6/?geo_id=10174\n"
     ]
    },
    {
     "name": "stderr",
     "output_type": "stream",
     "text": [
      "\r",
      "10it [00:44,  4.30s/it]"
     ]
    },
    {
     "name": "stdout",
     "output_type": "stream",
     "text": [
      "Processing url 11: https://auto.ru/cars/used/sale/mitsubishi/galant/1115135623-d36b56be/?geo_id=10174\n"
     ]
    },
    {
     "name": "stderr",
     "output_type": "stream",
     "text": [
      "\r",
      "11it [00:49,  4.35s/it]"
     ]
    },
    {
     "name": "stdout",
     "output_type": "stream",
     "text": [
      "Processing url 12: https://auto.ru/cars/used/sale/mitsubishi/outlander/1114589193-542f4d72/?geo_id=10174\n"
     ]
    },
    {
     "name": "stderr",
     "output_type": "stream",
     "text": [
      "\r",
      "12it [00:53,  4.40s/it]"
     ]
    },
    {
     "name": "stdout",
     "output_type": "stream",
     "text": [
      "Processing url 13: https://auto.ru/cars/used/sale/mitsubishi/pajero_sport/1115101686-c80d199c/?geo_id=10174\n"
     ]
    },
    {
     "name": "stderr",
     "output_type": "stream",
     "text": [
      "\r",
      "13it [00:57,  4.28s/it]"
     ]
    },
    {
     "name": "stdout",
     "output_type": "stream",
     "text": [
      "Processing url 14: https://auto.ru/cars/used/sale/mitsubishi/colt/1115186177-a2e5075b/?geo_id=10174\n"
     ]
    },
    {
     "name": "stderr",
     "output_type": "stream",
     "text": [
      "\r",
      "14it [01:02,  4.42s/it]"
     ]
    },
    {
     "name": "stdout",
     "output_type": "stream",
     "text": [
      "Processing url 15: https://auto.ru/cars/used/sale/mitsubishi/outlander/1106107108-38bee66c/?geo_id=10174\n"
     ]
    },
    {
     "name": "stderr",
     "output_type": "stream",
     "text": [
      "\r",
      "15it [01:06,  4.26s/it]"
     ]
    },
    {
     "name": "stdout",
     "output_type": "stream",
     "text": [
      "Processing url 16: https://auto.ru/cars/used/sale/mitsubishi/outlander/1115194478-89b3ae10/?geo_id=10174\n"
     ]
    },
    {
     "name": "stderr",
     "output_type": "stream",
     "text": [
      "\r",
      "16it [01:10,  4.14s/it]"
     ]
    },
    {
     "name": "stdout",
     "output_type": "stream",
     "text": [
      "Processing url 17: https://auto.ru/cars/used/sale/mitsubishi/asx/1115193410-84aea9cb/?geo_id=10174\n"
     ]
    },
    {
     "name": "stderr",
     "output_type": "stream",
     "text": [
      "\r",
      "17it [01:15,  4.32s/it]"
     ]
    },
    {
     "name": "stdout",
     "output_type": "stream",
     "text": [
      "Processing url 18: https://auto.ru/cars/used/sale/mitsubishi/lancer/1115133254-cbbabf32/?geo_id=10174\n"
     ]
    },
    {
     "name": "stderr",
     "output_type": "stream",
     "text": [
      "\r",
      "18it [01:19,  4.19s/it]"
     ]
    },
    {
     "name": "stdout",
     "output_type": "stream",
     "text": [
      "Processing url 19: https://auto.ru/cars/used/sale/mitsubishi/outlander/1115194479-029b3825/?geo_id=10174\n"
     ]
    },
    {
     "name": "stderr",
     "output_type": "stream",
     "text": [
      "\r",
      "19it [01:22,  4.10s/it]"
     ]
    },
    {
     "name": "stdout",
     "output_type": "stream",
     "text": [
      "Processing url 20: https://auto.ru/cars/used/sale/mitsubishi/pajero_sport/1105810109-71f533fb/?geo_id=10174\n"
     ]
    },
    {
     "name": "stderr",
     "output_type": "stream",
     "text": [
      "\r",
      "20it [01:27,  4.16s/it]"
     ]
    },
    {
     "name": "stdout",
     "output_type": "stream",
     "text": [
      "Processing url 21: https://auto.ru/cars/used/sale/mitsubishi/galant/1115190896-42e5d71b/?geo_id=10174\n"
     ]
    },
    {
     "name": "stderr",
     "output_type": "stream",
     "text": [
      "\r",
      "21it [01:31,  4.28s/it]"
     ]
    },
    {
     "name": "stdout",
     "output_type": "stream",
     "text": [
      "Processing url 22: https://auto.ru/cars/used/sale/mitsubishi/lancer/1115191179-14159613/?geo_id=10174\n"
     ]
    },
    {
     "name": "stderr",
     "output_type": "stream",
     "text": [
      "\r",
      "22it [01:36,  4.31s/it]"
     ]
    },
    {
     "name": "stdout",
     "output_type": "stream",
     "text": [
      "Processing url 23: https://auto.ru/cars/used/sale/mitsubishi/lancer/1115123506-dc960a9c/?geo_id=10174\n"
     ]
    },
    {
     "name": "stderr",
     "output_type": "stream",
     "text": [
      "\r",
      "23it [01:41,  4.52s/it]"
     ]
    },
    {
     "name": "stdout",
     "output_type": "stream",
     "text": [
      "Processing url 24: https://auto.ru/cars/used/sale/mitsubishi/eclipse_cross/1114672667-c4f0d05b/?geo_id=10174\n"
     ]
    },
    {
     "name": "stderr",
     "output_type": "stream",
     "text": [
      "\r",
      "24it [01:45,  4.50s/it]"
     ]
    },
    {
     "name": "stdout",
     "output_type": "stream",
     "text": [
      "Processing url 25: https://auto.ru/cars/used/sale/mitsubishi/outlander/1114997276-e293e048/?geo_id=10174\n"
     ]
    },
    {
     "name": "stderr",
     "output_type": "stream",
     "text": [
      "\r",
      "25it [01:51,  4.78s/it]"
     ]
    },
    {
     "name": "stdout",
     "output_type": "stream",
     "text": [
      "Processing url 26: https://auto.ru/cars/used/sale/mitsubishi/outlander/1114998717-c3b0a6a1/?geo_id=10174\n"
     ]
    },
    {
     "name": "stderr",
     "output_type": "stream",
     "text": [
      "\r",
      "26it [01:55,  4.61s/it]"
     ]
    },
    {
     "name": "stdout",
     "output_type": "stream",
     "text": [
      "Processing url 27: https://auto.ru/cars/used/sale/mitsubishi/asx/1105093299-33d8cd52/?geo_id=10174\n"
     ]
    },
    {
     "name": "stderr",
     "output_type": "stream",
     "text": [
      "\r",
      "27it [01:59,  4.65s/it]"
     ]
    },
    {
     "name": "stdout",
     "output_type": "stream",
     "text": [
      "Processing url 28: https://auto.ru/cars/used/sale/mitsubishi/eclipse_cross/1114582239-b12d8e56/?geo_id=10174\n"
     ]
    },
    {
     "name": "stderr",
     "output_type": "stream",
     "text": [
      "\r",
      "28it [02:04,  4.48s/it]"
     ]
    },
    {
     "name": "stdout",
     "output_type": "stream",
     "text": [
      "Processing url 29: https://auto.ru/cars/used/sale/mitsubishi/lancer/1114685153-a17ef182/?geo_id=10174\n"
     ]
    },
    {
     "name": "stderr",
     "output_type": "stream",
     "text": [
      "\r",
      "29it [02:07,  4.22s/it]"
     ]
    },
    {
     "name": "stdout",
     "output_type": "stream",
     "text": [
      "Processing url 30: https://auto.ru/cars/used/sale/mitsubishi/outlander/1115188719-6062b195/?geo_id=10174\n"
     ]
    },
    {
     "name": "stderr",
     "output_type": "stream",
     "text": [
      "\r",
      "30it [02:12,  4.41s/it]"
     ]
    },
    {
     "name": "stdout",
     "output_type": "stream",
     "text": [
      "Processing url 31: https://auto.ru/cars/used/sale/mitsubishi/outlander/1106593645-dea92723/?geo_id=10174\n"
     ]
    },
    {
     "name": "stderr",
     "output_type": "stream",
     "text": [
      "\r",
      "31it [02:16,  4.42s/it]"
     ]
    },
    {
     "name": "stdout",
     "output_type": "stream",
     "text": [
      "Processing url 32: https://auto.ru/cars/used/sale/mitsubishi/lancer/1115193236-49c1fff1/?geo_id=10174\n"
     ]
    },
    {
     "name": "stderr",
     "output_type": "stream",
     "text": [
      "\r",
      "32it [02:20,  4.29s/it]"
     ]
    },
    {
     "name": "stdout",
     "output_type": "stream",
     "text": [
      "Processing url 33: https://auto.ru/cars/used/sale/mitsubishi/outlander/1115191173-963a5078/?geo_id=10174\n"
     ]
    },
    {
     "name": "stderr",
     "output_type": "stream",
     "text": [
      "\r",
      "33it [02:24,  4.19s/it]"
     ]
    },
    {
     "name": "stdout",
     "output_type": "stream",
     "text": [
      "Processing url 34: https://auto.ru/cars/used/sale/mitsubishi/pajero_sport/1115162725-89e86673/?geo_id=10174\n"
     ]
    },
    {
     "name": "stderr",
     "output_type": "stream",
     "text": [
      "\r",
      "34it [02:29,  4.34s/it]"
     ]
    },
    {
     "name": "stdout",
     "output_type": "stream",
     "text": [
      "Processing url 35: https://auto.ru/cars/used/sale/mitsubishi/lancer/1115191816-d0bbd134/?geo_id=10174\n"
     ]
    },
    {
     "name": "stderr",
     "output_type": "stream",
     "text": [
      "\r",
      "35it [02:34,  4.54s/it]"
     ]
    },
    {
     "name": "stdout",
     "output_type": "stream",
     "text": [
      "Processing url 36: https://auto.ru/cars/used/sale/mitsubishi/lancer/1115188877-7eac54ad/?geo_id=10174\n"
     ]
    },
    {
     "name": "stderr",
     "output_type": "stream",
     "text": [
      "\r",
      "36it [02:39,  4.50s/it]"
     ]
    },
    {
     "name": "stdout",
     "output_type": "stream",
     "text": [
      "Processing url 37: https://auto.ru/cars/used/sale/mitsubishi/asx/1115069596-c4b05cac/?geo_id=10174\n"
     ]
    },
    {
     "name": "stderr",
     "output_type": "stream",
     "text": [
      "\r",
      "37it [02:43,  4.51s/it]"
     ]
    },
    {
     "name": "stdout",
     "output_type": "stream",
     "text": [
      "Processing url 38: https://auto.ru/cars/used/sale/mitsubishi/pajero/1114824152-d3c78cdc/?geo_id=10174\n"
     ]
    },
    {
     "name": "stderr",
     "output_type": "stream",
     "text": [
      "\r",
      "38it [02:48,  4.65s/it]"
     ]
    },
    {
     "name": "stdout",
     "output_type": "stream",
     "text": [
      "Processing url 39: https://auto.ru/cars/used/sale/mitsubishi/outlander/1115188023-b6b61e2a/?geo_id=10174\n"
     ]
    },
    {
     "name": "stderr",
     "output_type": "stream",
     "text": [
      "\r",
      "39it [02:53,  4.83s/it]"
     ]
    },
    {
     "name": "stdout",
     "output_type": "stream",
     "text": [
      "Processing url 40: https://auto.ru/cars/used/sale/mitsubishi/lancer/1115188935-215b54e9/?geo_id=10174\n"
     ]
    },
    {
     "name": "stderr",
     "output_type": "stream",
     "text": [
      "\r",
      "40it [02:58,  4.78s/it]"
     ]
    },
    {
     "name": "stdout",
     "output_type": "stream",
     "text": [
      "Processing url 41: https://auto.ru/cars/used/sale/mitsubishi/outlander/1115105598-0f71a809/?geo_id=10174\n"
     ]
    },
    {
     "name": "stderr",
     "output_type": "stream",
     "text": [
      "\r",
      "41it [03:04,  5.30s/it]"
     ]
    },
    {
     "name": "stdout",
     "output_type": "stream",
     "text": [
      "Processing url 42: https://auto.ru/cars/used/sale/mitsubishi/eclipse_cross/1115156654-90c3668a/?geo_id=10174\n"
     ]
    },
    {
     "name": "stderr",
     "output_type": "stream",
     "text": [
      "\r",
      "42it [03:10,  5.30s/it]"
     ]
    },
    {
     "name": "stdout",
     "output_type": "stream",
     "text": [
      "Processing url 43: https://auto.ru/cars/used/sale/mitsubishi/pajero/1115151514-f978a310/?geo_id=10174\n"
     ]
    },
    {
     "name": "stderr",
     "output_type": "stream",
     "text": [
      "\r",
      "43it [03:14,  5.03s/it]"
     ]
    },
    {
     "name": "stdout",
     "output_type": "stream",
     "text": [
      "Processing url 44: https://auto.ru/cars/used/sale/mitsubishi/outlander/1106564942-d8ab182f/?geo_id=10174\n"
     ]
    },
    {
     "name": "stderr",
     "output_type": "stream",
     "text": [
      "\r",
      "44it [03:18,  4.79s/it]"
     ]
    },
    {
     "name": "stdout",
     "output_type": "stream",
     "text": [
      "Processing url 45: https://auto.ru/cars/used/sale/mitsubishi/lancer/1106684029-2eea6f12/?geo_id=10174\n"
     ]
    },
    {
     "name": "stderr",
     "output_type": "stream",
     "text": [
      "\r",
      "45it [03:23,  4.68s/it]"
     ]
    },
    {
     "name": "stdout",
     "output_type": "stream",
     "text": [
      "Processing url 46: https://auto.ru/cars/used/sale/mitsubishi/pajero/1115017506-0681854e/?geo_id=10174\n"
     ]
    },
    {
     "name": "stderr",
     "output_type": "stream",
     "text": [
      "\r",
      "46it [03:28,  4.78s/it]"
     ]
    },
    {
     "name": "stdout",
     "output_type": "stream",
     "text": [
      "Processing url 47: https://auto.ru/cars/used/sale/mitsubishi/outlander/1115023707-0ac68cff/?geo_id=10174\n"
     ]
    },
    {
     "name": "stderr",
     "output_type": "stream",
     "text": [
      "\r",
      "47it [03:32,  4.56s/it]"
     ]
    },
    {
     "name": "stdout",
     "output_type": "stream",
     "text": [
      "Processing url 48: https://auto.ru/cars/used/sale/mitsubishi/outlander/1115145375-4fbcd512/?geo_id=10174\n"
     ]
    },
    {
     "name": "stderr",
     "output_type": "stream",
     "text": [
      "\r",
      "48it [03:36,  4.44s/it]"
     ]
    },
    {
     "name": "stdout",
     "output_type": "stream",
     "text": [
      "Processing url 49: https://auto.ru/cars/used/sale/mitsubishi/lancer/1115188645-4d1321ed/?geo_id=10174\n"
     ]
    },
    {
     "name": "stderr",
     "output_type": "stream",
     "text": [
      "\r",
      "49it [03:40,  4.22s/it]"
     ]
    },
    {
     "name": "stdout",
     "output_type": "stream",
     "text": [
      "Processing url 50: https://auto.ru/cars/used/sale/mitsubishi/lancer/1115029769-b783917b/?geo_id=10174\n"
     ]
    },
    {
     "name": "stderr",
     "output_type": "stream",
     "text": [
      "\r",
      "50it [03:44,  4.24s/it]"
     ]
    },
    {
     "name": "stdout",
     "output_type": "stream",
     "text": [
      "Processing url 51: https://auto.ru/cars/used/sale/mitsubishi/outlander/1115103316-2fd08855/?geo_id=10174\n"
     ]
    },
    {
     "name": "stderr",
     "output_type": "stream",
     "text": [
      "\r",
      "51it [03:49,  4.34s/it]"
     ]
    },
    {
     "name": "stdout",
     "output_type": "stream",
     "text": [
      "Processing url 52: https://auto.ru/cars/used/sale/mitsubishi/outlander/1115044476-ba8fbe2d/?geo_id=10174\n"
     ]
    },
    {
     "name": "stderr",
     "output_type": "stream",
     "text": [
      "\r",
      "52it [03:54,  4.55s/it]"
     ]
    },
    {
     "name": "stdout",
     "output_type": "stream",
     "text": [
      "Processing url 53: https://auto.ru/cars/used/sale/mitsubishi/outlander/1105689915-bd7ac340/?geo_id=10174\n"
     ]
    },
    {
     "name": "stderr",
     "output_type": "stream",
     "text": [
      "\r",
      "53it [03:58,  4.42s/it]"
     ]
    },
    {
     "name": "stdout",
     "output_type": "stream",
     "text": [
      "Processing url 54: https://auto.ru/cars/used/sale/mitsubishi/outlander/1115169553-f7fb94ac/?geo_id=10174\n"
     ]
    },
    {
     "name": "stderr",
     "output_type": "stream",
     "text": [
      "\r",
      "54it [04:02,  4.29s/it]"
     ]
    },
    {
     "name": "stdout",
     "output_type": "stream",
     "text": [
      "Processing url 55: https://auto.ru/cars/used/sale/mitsubishi/lancer/1115161609-3a27a4dc/?geo_id=10174\n"
     ]
    },
    {
     "name": "stderr",
     "output_type": "stream",
     "text": [
      "\r",
      "55it [04:07,  4.45s/it]"
     ]
    },
    {
     "name": "stdout",
     "output_type": "stream",
     "text": [
      "Processing url 56: https://auto.ru/cars/used/sale/mitsubishi/outlander/1114988192-d5dbb18b/?geo_id=10174\n"
     ]
    },
    {
     "name": "stderr",
     "output_type": "stream",
     "text": [
      "\r",
      "56it [04:11,  4.44s/it]"
     ]
    },
    {
     "name": "stdout",
     "output_type": "stream",
     "text": [
      "Processing url 57: https://auto.ru/cars/used/sale/mitsubishi/asx/1115025530-cef67743/?geo_id=10174\n"
     ]
    },
    {
     "name": "stderr",
     "output_type": "stream",
     "text": [
      "\r",
      "57it [04:15,  4.28s/it]"
     ]
    },
    {
     "name": "stdout",
     "output_type": "stream",
     "text": [
      "Processing url 58: https://auto.ru/cars/used/sale/mitsubishi/outlander/1114984067-57f11d16/?geo_id=10174\n"
     ]
    },
    {
     "name": "stderr",
     "output_type": "stream",
     "text": [
      "\r",
      "58it [04:19,  4.27s/it]"
     ]
    },
    {
     "name": "stdout",
     "output_type": "stream",
     "text": [
      "Processing url 59: https://auto.ru/cars/used/sale/mitsubishi/eclipse_cross/1114995313-f63dc502/?geo_id=10174\n"
     ]
    },
    {
     "name": "stderr",
     "output_type": "stream",
     "text": [
      "\r",
      "59it [04:24,  4.40s/it]"
     ]
    },
    {
     "name": "stdout",
     "output_type": "stream",
     "text": [
      "Processing url 60: https://auto.ru/cars/used/sale/mitsubishi/outlander/1115188261-80d9d95b/?geo_id=10174\n"
     ]
    },
    {
     "name": "stderr",
     "output_type": "stream",
     "text": [
      "\r",
      "60it [04:28,  4.33s/it]"
     ]
    },
    {
     "name": "stdout",
     "output_type": "stream",
     "text": [
      "Processing url 61: https://auto.ru/cars/used/sale/mitsubishi/outlander/1115186939-d53ff2be/?geo_id=10174\n"
     ]
    },
    {
     "name": "stderr",
     "output_type": "stream",
     "text": [
      "\r",
      "61it [04:32,  4.27s/it]"
     ]
    },
    {
     "name": "stdout",
     "output_type": "stream",
     "text": [
      "Processing url 62: https://auto.ru/cars/used/sale/mitsubishi/outlander/1115034574-53c598f2/?geo_id=10174\n"
     ]
    },
    {
     "name": "stderr",
     "output_type": "stream",
     "text": [
      "\r",
      "62it [04:36,  4.18s/it]"
     ]
    },
    {
     "name": "stdout",
     "output_type": "stream",
     "text": [
      "Processing url 63: https://auto.ru/cars/used/sale/mitsubishi/pajero_sport/1114634722-8b2f7999/?geo_id=10174\n"
     ]
    },
    {
     "name": "stderr",
     "output_type": "stream",
     "text": [
      "\r",
      "63it [04:41,  4.27s/it]"
     ]
    },
    {
     "name": "stdout",
     "output_type": "stream",
     "text": [
      "Processing url 64: https://auto.ru/cars/used/sale/mitsubishi/outlander/1114935706-af1a08b1/?geo_id=10174\n"
     ]
    },
    {
     "name": "stderr",
     "output_type": "stream",
     "text": [
      "\r",
      "64it [04:45,  4.24s/it]"
     ]
    },
    {
     "name": "stdout",
     "output_type": "stream",
     "text": [
      "Processing url 65: https://auto.ru/cars/used/sale/mitsubishi/outlander/1114789768-ce5a3aa2/?geo_id=10174\n"
     ]
    },
    {
     "name": "stderr",
     "output_type": "stream",
     "text": [
      "\r",
      "65it [04:49,  4.26s/it]"
     ]
    },
    {
     "name": "stdout",
     "output_type": "stream",
     "text": [
      "Processing url 66: https://auto.ru/cars/used/sale/mitsubishi/asx/1115188022-acb32e05/?geo_id=10174\n"
     ]
    },
    {
     "name": "stderr",
     "output_type": "stream",
     "text": [
      "\r",
      "66it [04:53,  4.11s/it]"
     ]
    },
    {
     "name": "stdout",
     "output_type": "stream",
     "text": [
      "Processing url 67: https://auto.ru/cars/used/sale/mitsubishi/lancer/1115187954-e1608a87/?geo_id=10174\n"
     ]
    },
    {
     "name": "stderr",
     "output_type": "stream",
     "text": [
      "\r",
      "67it [04:57,  4.04s/it]"
     ]
    },
    {
     "name": "stdout",
     "output_type": "stream",
     "text": [
      "Processing url 68: https://auto.ru/cars/used/sale/mitsubishi/lancer/1114914858-4c4263d2/?geo_id=10174\n"
     ]
    },
    {
     "name": "stderr",
     "output_type": "stream",
     "text": [
      "\r",
      "68it [05:02,  4.28s/it]"
     ]
    },
    {
     "name": "stdout",
     "output_type": "stream",
     "text": [
      "Processing url 69: https://auto.ru/cars/used/sale/mitsubishi/pajero_sport/1115170013-b19e6dc6/?geo_id=10174\n"
     ]
    },
    {
     "name": "stderr",
     "output_type": "stream",
     "text": [
      "\r",
      "69it [05:06,  4.24s/it]"
     ]
    },
    {
     "name": "stdout",
     "output_type": "stream",
     "text": [
      "Processing url 70: https://auto.ru/cars/used/sale/mitsubishi/asx/1114963413-df83e75e/?geo_id=10174\n"
     ]
    },
    {
     "name": "stderr",
     "output_type": "stream",
     "text": [
      "\r",
      "70it [05:10,  4.13s/it]"
     ]
    },
    {
     "name": "stdout",
     "output_type": "stream",
     "text": [
      "Processing url 71: https://auto.ru/cars/used/sale/mitsubishi/outlander/1114816078-3c56c61a/?geo_id=10174\n"
     ]
    },
    {
     "name": "stderr",
     "output_type": "stream",
     "text": [
      "\r",
      "71it [05:14,  4.22s/it]"
     ]
    },
    {
     "name": "stdout",
     "output_type": "stream",
     "text": [
      "Processing url 72: https://auto.ru/cars/used/sale/mitsubishi/colt/1114820426-4f62a1e3/?geo_id=10174\n"
     ]
    },
    {
     "name": "stderr",
     "output_type": "stream",
     "text": [
      "\r",
      "72it [05:18,  4.28s/it]"
     ]
    },
    {
     "name": "stdout",
     "output_type": "stream",
     "text": [
      "Processing url 73: https://auto.ru/cars/used/sale/mitsubishi/asx/1115145429-8c33a328/?geo_id=10174\n"
     ]
    },
    {
     "name": "stderr",
     "output_type": "stream",
     "text": [
      "\r",
      "73it [05:23,  4.26s/it]"
     ]
    },
    {
     "name": "stdout",
     "output_type": "stream",
     "text": [
      "Processing url 74: https://auto.ru/cars/used/sale/mitsubishi/outlander/1105868199-5998c8d3/?geo_id=10174\n"
     ]
    },
    {
     "name": "stderr",
     "output_type": "stream",
     "text": [
      "\r",
      "74it [05:28,  4.58s/it]"
     ]
    },
    {
     "name": "stdout",
     "output_type": "stream",
     "text": [
      "Processing url 75: https://auto.ru/cars/used/sale/mitsubishi/l200/1115123538-28962e36/?geo_id=10174\n"
     ]
    },
    {
     "name": "stderr",
     "output_type": "stream",
     "text": [
      "\r",
      "75it [05:32,  4.47s/it]"
     ]
    },
    {
     "name": "stdout",
     "output_type": "stream",
     "text": [
      "Processing url 76: https://auto.ru/cars/used/sale/mitsubishi/pajero_sport/1114634721-875cf867/?geo_id=10174\n"
     ]
    },
    {
     "name": "stderr",
     "output_type": "stream",
     "text": [
      "\r",
      "76it [05:36,  4.40s/it]"
     ]
    },
    {
     "name": "stdout",
     "output_type": "stream",
     "text": [
      "Processing url 77: https://auto.ru/cars/used/sale/mitsubishi/pajero_sport/1115148882-d661916a/?geo_id=10174\n"
     ]
    },
    {
     "name": "stderr",
     "output_type": "stream",
     "text": [
      "\r",
      "77it [05:41,  4.38s/it]"
     ]
    },
    {
     "name": "stdout",
     "output_type": "stream",
     "text": [
      "Processing url 78: https://auto.ru/cars/used/sale/mitsubishi/pajero_sport/1115170012-e28b58b5/?geo_id=10174\n"
     ]
    },
    {
     "name": "stderr",
     "output_type": "stream",
     "text": [
      "\r",
      "78it [05:45,  4.45s/it]"
     ]
    },
    {
     "name": "stdout",
     "output_type": "stream",
     "text": [
      "Processing url 79: https://auto.ru/cars/used/sale/mitsubishi/outlander/1106564166-cf605dbe/?geo_id=10174\n"
     ]
    },
    {
     "name": "stderr",
     "output_type": "stream",
     "text": [
      "\r",
      "79it [05:49,  4.27s/it]"
     ]
    },
    {
     "name": "stdout",
     "output_type": "stream",
     "text": [
      "Processing url 80: https://auto.ru/cars/used/sale/mitsubishi/lancer/1115185880-7186e60f/?geo_id=10174\n"
     ]
    },
    {
     "name": "stderr",
     "output_type": "stream",
     "text": [
      "\r",
      "80it [05:53,  4.16s/it]"
     ]
    },
    {
     "name": "stdout",
     "output_type": "stream",
     "text": [
      "Processing url 81: https://auto.ru/cars/used/sale/mitsubishi/carisma/1115191626-6b1aa83b/?geo_id=10174\n"
     ]
    },
    {
     "name": "stderr",
     "output_type": "stream",
     "text": [
      "\r",
      "81it [05:57,  4.02s/it]"
     ]
    },
    {
     "name": "stdout",
     "output_type": "stream",
     "text": [
      "Processing url 82: https://auto.ru/cars/used/sale/mitsubishi/outlander/1115170017-b1133513/?geo_id=10174\n"
     ]
    },
    {
     "name": "stderr",
     "output_type": "stream",
     "text": [
      "\r",
      "82it [06:02,  4.30s/it]"
     ]
    },
    {
     "name": "stdout",
     "output_type": "stream",
     "text": [
      "Processing url 83: https://auto.ru/cars/used/sale/mitsubishi/carisma/1115189815-b8376d4d/?geo_id=10174\n"
     ]
    },
    {
     "name": "stderr",
     "output_type": "stream",
     "text": [
      "\r",
      "83it [06:06,  4.20s/it]"
     ]
    },
    {
     "name": "stdout",
     "output_type": "stream",
     "text": [
      "Processing url 84: https://auto.ru/cars/used/sale/mitsubishi/pajero/1115125406-3021aea2/?geo_id=10174\n"
     ]
    },
    {
     "name": "stderr",
     "output_type": "stream",
     "text": [
      "\r",
      "84it [06:10,  4.10s/it]"
     ]
    },
    {
     "name": "stdout",
     "output_type": "stream",
     "text": [
      "Processing url 85: https://auto.ru/cars/used/sale/mitsubishi/asx/1115025531-7f2093c0/?geo_id=10174\n"
     ]
    },
    {
     "name": "stderr",
     "output_type": "stream",
     "text": [
      "\r",
      "85it [06:13,  4.01s/it]"
     ]
    },
    {
     "name": "stdout",
     "output_type": "stream",
     "text": [
      "Processing url 86: https://auto.ru/cars/used/sale/mitsubishi/pajero_sport/1115183450-e9c89236/?geo_id=10174\n"
     ]
    },
    {
     "name": "stderr",
     "output_type": "stream",
     "text": [
      "\r",
      "86it [06:18,  4.03s/it]"
     ]
    },
    {
     "name": "stdout",
     "output_type": "stream",
     "text": [
      "Processing url 87: https://auto.ru/cars/used/sale/mitsubishi/galant/1114672995-c749509a/?geo_id=10174\n"
     ]
    },
    {
     "name": "stderr",
     "output_type": "stream",
     "text": [
      "\r",
      "87it [06:22,  4.19s/it]"
     ]
    },
    {
     "name": "stdout",
     "output_type": "stream",
     "text": [
      "Processing url 88: https://auto.ru/cars/used/sale/mitsubishi/lancer/1115164719-ed70c246/?geo_id=10174\n"
     ]
    },
    {
     "name": "stderr",
     "output_type": "stream",
     "text": [
      "\r",
      "88it [06:26,  4.18s/it]"
     ]
    },
    {
     "name": "stdout",
     "output_type": "stream",
     "text": [
      "Processing url 89: https://auto.ru/cars/used/sale/mitsubishi/lancer/1114877516-4d33a3de/?geo_id=10174\n"
     ]
    },
    {
     "name": "stderr",
     "output_type": "stream",
     "text": [
      "\r",
      "89it [06:31,  4.25s/it]"
     ]
    },
    {
     "name": "stdout",
     "output_type": "stream",
     "text": [
      "Processing url 90: https://auto.ru/cars/used/sale/mitsubishi/pajero_sport/1115170020-3b494eb8/?geo_id=10174\n"
     ]
    },
    {
     "name": "stderr",
     "output_type": "stream",
     "text": [
      "\r",
      "90it [06:35,  4.23s/it]"
     ]
    },
    {
     "name": "stdout",
     "output_type": "stream",
     "text": [
      "Processing url 91: https://auto.ru/cars/used/sale/mitsubishi/eclipse_cross/1114798165-346a11db/?geo_id=10174\n"
     ]
    },
    {
     "name": "stderr",
     "output_type": "stream",
     "text": [
      "\r",
      "91it [06:40,  4.52s/it]"
     ]
    },
    {
     "name": "stdout",
     "output_type": "stream",
     "text": [
      "Processing url 92: https://auto.ru/cars/used/sale/mitsubishi/outlander/1115174942-b793b2da/?geo_id=10174\n"
     ]
    },
    {
     "name": "stderr",
     "output_type": "stream",
     "text": [
      "\r",
      "92it [06:44,  4.48s/it]"
     ]
    },
    {
     "name": "stdout",
     "output_type": "stream",
     "text": [
      "Processing url 93: https://auto.ru/cars/used/sale/mitsubishi/galant/1115179071-f364ff5f/?geo_id=10174\n"
     ]
    },
    {
     "name": "stderr",
     "output_type": "stream",
     "text": [
      "\r",
      "93it [06:48,  4.35s/it]"
     ]
    },
    {
     "name": "stdout",
     "output_type": "stream",
     "text": [
      "Processing url 94: https://auto.ru/cars/used/sale/mitsubishi/outlander/1115180667-df864260/?geo_id=10174\n"
     ]
    },
    {
     "name": "stderr",
     "output_type": "stream",
     "text": [
      "\r",
      "94it [06:53,  4.34s/it]"
     ]
    },
    {
     "name": "stdout",
     "output_type": "stream",
     "text": [
      "Processing url 95: https://auto.ru/cars/used/sale/mitsubishi/outlander/1105949701-f9122311/?geo_id=10174\n"
     ]
    },
    {
     "name": "stderr",
     "output_type": "stream",
     "text": [
      "\r",
      "95it [06:57,  4.46s/it]"
     ]
    },
    {
     "name": "stdout",
     "output_type": "stream",
     "text": [
      "Processing url 96: https://auto.ru/cars/used/sale/mitsubishi/asx/1114978451-e45c7985/?geo_id=10174\n"
     ]
    },
    {
     "name": "stderr",
     "output_type": "stream",
     "text": [
      "\r",
      "96it [07:02,  4.33s/it]"
     ]
    },
    {
     "name": "stdout",
     "output_type": "stream",
     "text": [
      "Processing url 97: https://auto.ru/cars/used/sale/mitsubishi/pajero/1115182525-aff66524/?geo_id=10174\n"
     ]
    },
    {
     "name": "stderr",
     "output_type": "stream",
     "text": [
      "\r",
      "97it [07:06,  4.26s/it]"
     ]
    },
    {
     "name": "stdout",
     "output_type": "stream",
     "text": [
      "Processing url 98: https://auto.ru/cars/used/sale/mitsubishi/l200/1115087745-526a5e92/?geo_id=10174\n"
     ]
    },
    {
     "name": "stderr",
     "output_type": "stream",
     "text": [
      "\r",
      "98it [07:09,  4.13s/it]"
     ]
    },
    {
     "name": "stdout",
     "output_type": "stream",
     "text": [
      "Processing url 99: https://auto.ru/cars/used/sale/mitsubishi/asx/1114828342-b3ec9a01/?geo_id=10174\n"
     ]
    },
    {
     "name": "stderr",
     "output_type": "stream",
     "text": [
      "\r",
      "99it [07:14,  4.14s/it]"
     ]
    },
    {
     "name": "stdout",
     "output_type": "stream",
     "text": [
      "Processing url 100: https://auto.ru/cars/used/sale/mitsubishi/lancer/1115061911-d487dfc0/?geo_id=10174\n"
     ]
    },
    {
     "name": "stderr",
     "output_type": "stream",
     "text": [
      "\r",
      "100it [07:18,  4.30s/it]"
     ]
    },
    {
     "name": "stdout",
     "output_type": "stream",
     "text": [
      "Processing url 101: https://auto.ru/cars/used/sale/mitsubishi/eclipse_cross/1114798166-98a9d23c/?geo_id=10174\n"
     ]
    },
    {
     "name": "stderr",
     "output_type": "stream",
     "text": [
      "\r",
      "101it [07:19,  3.27s/it]"
     ]
    },
    {
     "name": "stdout",
     "output_type": "stream",
     "text": [
      "Error 404\r",
      "Processing url 102: https://auto.ru/cars/used/sale/mitsubishi/outlander/1115148855-819ad384/?geo_id=10174\n"
     ]
    },
    {
     "name": "stderr",
     "output_type": "stream",
     "text": [
      "\r",
      "102it [07:23,  3.50s/it]"
     ]
    },
    {
     "name": "stdout",
     "output_type": "stream",
     "text": [
      "Processing url 103: https://auto.ru/cars/used/sale/mitsubishi/outlander/1106678603-fb099bfd/?geo_id=10174\n"
     ]
    },
    {
     "name": "stderr",
     "output_type": "stream",
     "text": [
      "\r",
      "103it [07:28,  3.78s/it]"
     ]
    },
    {
     "name": "stdout",
     "output_type": "stream",
     "text": [
      "Processing url 104: https://auto.ru/cars/used/sale/mitsubishi/asx/1114720694-dd3a2abe/?geo_id=10174\n"
     ]
    },
    {
     "name": "stderr",
     "output_type": "stream",
     "text": [
      "\r",
      "104it [07:32,  3.84s/it]"
     ]
    },
    {
     "name": "stdout",
     "output_type": "stream",
     "text": [
      "Processing url 105: https://auto.ru/cars/used/sale/mitsubishi/pajero/1114901539-07c07568/?geo_id=10174\n"
     ]
    },
    {
     "name": "stderr",
     "output_type": "stream",
     "text": [
      "\r",
      "105it [07:37,  4.22s/it]"
     ]
    },
    {
     "name": "stdout",
     "output_type": "stream",
     "text": [
      "Processing url 106: https://auto.ru/cars/used/sale/mitsubishi/lancer/1115181260-70fcd1b1/?geo_id=10174\n"
     ]
    },
    {
     "name": "stderr",
     "output_type": "stream",
     "text": [
      "\r",
      "106it [07:41,  4.16s/it]"
     ]
    },
    {
     "name": "stdout",
     "output_type": "stream",
     "text": [
      "Processing url 107: https://auto.ru/cars/used/sale/mitsubishi/pajero/1115146708-f93e5e26/?geo_id=10174\n"
     ]
    },
    {
     "name": "stderr",
     "output_type": "stream",
     "text": [
      "\r",
      "107it [07:45,  4.12s/it]"
     ]
    },
    {
     "name": "stdout",
     "output_type": "stream",
     "text": [
      "Processing url 108: https://auto.ru/cars/used/sale/mitsubishi/outlander/1115145371-bcf20973/?geo_id=10174\n"
     ]
    },
    {
     "name": "stderr",
     "output_type": "stream",
     "text": [
      "\r",
      "108it [07:49,  4.15s/it]"
     ]
    },
    {
     "name": "stdout",
     "output_type": "stream",
     "text": [
      "Processing url 109: https://auto.ru/cars/used/sale/mitsubishi/outlander/1115181044-b364d71f/?geo_id=10174\n"
     ]
    },
    {
     "name": "stderr",
     "output_type": "stream",
     "text": [
      "\r",
      "109it [07:53,  4.12s/it]"
     ]
    },
    {
     "name": "stdout",
     "output_type": "stream",
     "text": [
      "Processing url 110: https://auto.ru/cars/used/sale/mitsubishi/lancer/1114971586-d34f4a0f/?geo_id=10174\n"
     ]
    },
    {
     "name": "stderr",
     "output_type": "stream",
     "text": [
      "\r",
      "110it [07:58,  4.40s/it]"
     ]
    },
    {
     "name": "stdout",
     "output_type": "stream",
     "text": [
      "Processing url 111: https://auto.ru/cars/used/sale/mitsubishi/outlander/1106643764-901e8fd8/?geo_id=10174\n"
     ]
    },
    {
     "name": "stderr",
     "output_type": "stream",
     "text": [
      "\r",
      "111it [08:02,  4.31s/it]"
     ]
    },
    {
     "name": "stdout",
     "output_type": "stream",
     "text": [
      "Processing url 112: https://auto.ru/cars/used/sale/mitsubishi/colt/1114964560-058f7dbb/?geo_id=10174\n"
     ]
    },
    {
     "name": "stderr",
     "output_type": "stream",
     "text": [
      "\r",
      "112it [08:07,  4.32s/it]"
     ]
    },
    {
     "name": "stdout",
     "output_type": "stream",
     "text": [
      "Processing url 113: https://auto.ru/cars/used/sale/mitsubishi/outlander/1106531698-2cbef42a/?geo_id=10174\n"
     ]
    },
    {
     "name": "stderr",
     "output_type": "stream",
     "text": [
      "\r",
      "113it [08:11,  4.23s/it]"
     ]
    },
    {
     "name": "stdout",
     "output_type": "stream",
     "text": [
      "Processing url 114: https://auto.ru/cars/used/sale/mitsubishi/outlander/1115089359-b5dcd439/?geo_id=10174\n"
     ]
    },
    {
     "name": "stderr",
     "output_type": "stream",
     "text": [
      "\r",
      "114it [08:15,  4.35s/it]"
     ]
    },
    {
     "name": "stdout",
     "output_type": "stream",
     "text": [
      "Processing url 115: https://auto.ru/cars/used/sale/mitsubishi/outlander/1115179792-ec91f5d2/?geo_id=10174\n"
     ]
    },
    {
     "name": "stderr",
     "output_type": "stream",
     "text": [
      "\r",
      "115it [08:19,  4.31s/it]"
     ]
    },
    {
     "name": "stdout",
     "output_type": "stream",
     "text": [
      "Processing url 116: https://auto.ru/cars/used/sale/mitsubishi/outlander/1115004677-b0f54f06/?geo_id=10174\n"
     ]
    },
    {
     "name": "stderr",
     "output_type": "stream",
     "text": [
      "\r",
      "116it [08:23,  4.20s/it]"
     ]
    },
    {
     "name": "stdout",
     "output_type": "stream",
     "text": [
      "Processing url 117: https://auto.ru/cars/used/sale/mitsubishi/outlander/1106326250-b3ac560d/?geo_id=10174\n"
     ]
    },
    {
     "name": "stderr",
     "output_type": "stream",
     "text": [
      "\r",
      "117it [08:27,  4.19s/it]"
     ]
    },
    {
     "name": "stdout",
     "output_type": "stream",
     "text": [
      "Processing url 118: https://auto.ru/cars/used/sale/mitsubishi/l200/1115128313-3e10071d/?geo_id=10174\n"
     ]
    },
    {
     "name": "stderr",
     "output_type": "stream",
     "text": [
      "\r",
      "118it [08:33,  4.59s/it]"
     ]
    },
    {
     "name": "stdout",
     "output_type": "stream",
     "text": [
      "Processing url 119: https://auto.ru/cars/used/sale/mitsubishi/pajero/1114578289-833b1426/?geo_id=10174\n"
     ]
    },
    {
     "name": "stderr",
     "output_type": "stream",
     "text": [
      "\r",
      "119it [08:38,  4.65s/it]"
     ]
    },
    {
     "name": "stdout",
     "output_type": "stream",
     "text": [
      "Processing url 120: https://auto.ru/cars/used/sale/mitsubishi/lancer/1115118596-7d1caf71/?geo_id=10174\n"
     ]
    },
    {
     "name": "stderr",
     "output_type": "stream",
     "text": [
      "\r",
      "120it [08:42,  4.49s/it]"
     ]
    },
    {
     "name": "stdout",
     "output_type": "stream",
     "text": [
      "Processing url 121: https://auto.ru/cars/used/sale/mitsubishi/outlander/1115145578-6b347e15/?geo_id=10174\n"
     ]
    },
    {
     "name": "stderr",
     "output_type": "stream",
     "text": [
      "\r",
      "121it [08:46,  4.37s/it]"
     ]
    },
    {
     "name": "stdout",
     "output_type": "stream",
     "text": [
      "Processing url 122: https://auto.ru/cars/used/sale/mitsubishi/pajero/1115060306-dbc4b619/?geo_id=10174\n"
     ]
    },
    {
     "name": "stderr",
     "output_type": "stream",
     "text": [
      "\r",
      "122it [08:51,  4.57s/it]"
     ]
    },
    {
     "name": "stdout",
     "output_type": "stream",
     "text": [
      "Processing url 123: https://auto.ru/cars/used/sale/mitsubishi/lancer/1115118597-656776dc/?geo_id=10174\n"
     ]
    },
    {
     "name": "stderr",
     "output_type": "stream",
     "text": [
      "\r",
      "123it [08:52,  3.49s/it]"
     ]
    },
    {
     "name": "stdout",
     "output_type": "stream",
     "text": [
      "Error 404\r",
      "Processing url 124: https://auto.ru/cars/used/sale/mitsubishi/mirage/1114993880-51e3720b/?geo_id=10174\n"
     ]
    },
    {
     "name": "stderr",
     "output_type": "stream",
     "text": [
      "\r",
      "124it [08:56,  3.66s/it]"
     ]
    },
    {
     "name": "stdout",
     "output_type": "stream",
     "text": [
      "Processing url 125: https://auto.ru/cars/used/sale/mitsubishi/outlander/1115176098-1d02b89e/?geo_id=10174\n"
     ]
    },
    {
     "name": "stderr",
     "output_type": "stream",
     "text": [
      "\r",
      "125it [09:00,  3.73s/it]"
     ]
    },
    {
     "name": "stdout",
     "output_type": "stream",
     "text": [
      "Processing url 126: https://auto.ru/cars/used/sale/mitsubishi/outlander/1115170014-7bacc695/?geo_id=10174\n"
     ]
    },
    {
     "name": "stderr",
     "output_type": "stream",
     "text": [
      "\r",
      "126it [09:04,  3.84s/it]"
     ]
    },
    {
     "name": "stdout",
     "output_type": "stream",
     "text": [
      "Processing url 127: https://auto.ru/cars/used/sale/mitsubishi/pajero_sport/1115153697-2bbdb715/?geo_id=10174\n"
     ]
    },
    {
     "name": "stderr",
     "output_type": "stream",
     "text": [
      "\r",
      "127it [09:09,  4.08s/it]"
     ]
    },
    {
     "name": "stdout",
     "output_type": "stream",
     "text": [
      "Processing url 128: https://auto.ru/cars/used/sale/mitsubishi/outlander/1115086543-733c2b2f/?geo_id=10174\n"
     ]
    },
    {
     "name": "stderr",
     "output_type": "stream",
     "text": [
      "\r",
      "128it [09:13,  4.19s/it]"
     ]
    },
    {
     "name": "stdout",
     "output_type": "stream",
     "text": [
      "Processing url 129: https://auto.ru/cars/used/sale/mitsubishi/outlander/1115145494-15386079/?geo_id=10174\n"
     ]
    },
    {
     "name": "stderr",
     "output_type": "stream",
     "text": [
      "\r",
      "129it [09:17,  4.16s/it]"
     ]
    },
    {
     "name": "stdout",
     "output_type": "stream",
     "text": [
      "Processing url 130: https://auto.ru/cars/used/sale/mitsubishi/outlander/1115145446-06ef39e4/?geo_id=10174\n"
     ]
    },
    {
     "name": "stderr",
     "output_type": "stream",
     "text": [
      "\r",
      "130it [09:22,  4.21s/it]"
     ]
    },
    {
     "name": "stdout",
     "output_type": "stream",
     "text": [
      "Processing url 131: https://auto.ru/cars/used/sale/mitsubishi/outlander/1115145538-fb7bed59/?geo_id=10174\n"
     ]
    },
    {
     "name": "stderr",
     "output_type": "stream",
     "text": [
      "\r",
      "131it [09:26,  4.14s/it]"
     ]
    },
    {
     "name": "stdout",
     "output_type": "stream",
     "text": [
      "Processing url 132: https://auto.ru/cars/used/sale/mitsubishi/pajero_sport/1115145668-65c3db49/?geo_id=10174\n"
     ]
    },
    {
     "name": "stderr",
     "output_type": "stream",
     "text": [
      "\r",
      "132it [09:30,  4.25s/it]"
     ]
    },
    {
     "name": "stdout",
     "output_type": "stream",
     "text": [
      "Processing url 133: https://auto.ru/cars/used/sale/mitsubishi/lancer/1115026333-015f3f2a/?geo_id=10174\n"
     ]
    },
    {
     "name": "stderr",
     "output_type": "stream",
     "text": [
      "\r",
      "133it [09:34,  4.22s/it]"
     ]
    },
    {
     "name": "stdout",
     "output_type": "stream",
     "text": [
      "Processing url 134: https://auto.ru/cars/used/sale/mitsubishi/outlander/1114609573-5f9a6a3b/?geo_id=10174\n"
     ]
    },
    {
     "name": "stderr",
     "output_type": "stream",
     "text": [
      "\r",
      "134it [09:39,  4.41s/it]"
     ]
    },
    {
     "name": "stdout",
     "output_type": "stream",
     "text": [
      "Processing url 135: https://auto.ru/cars/used/sale/mitsubishi/carisma/1079378920-486d7eb1/?geo_id=10174\n"
     ]
    },
    {
     "name": "stderr",
     "output_type": "stream",
     "text": [
      "\r",
      "135it [09:43,  4.40s/it]"
     ]
    },
    {
     "name": "stdout",
     "output_type": "stream",
     "text": [
      "Processing url 136: https://auto.ru/cars/used/sale/mitsubishi/lancer/1114795747-90e46110/?geo_id=10174\n"
     ]
    },
    {
     "name": "stderr",
     "output_type": "stream",
     "text": [
      "\r",
      "136it [09:48,  4.48s/it]"
     ]
    },
    {
     "name": "stdout",
     "output_type": "stream",
     "text": [
      "Processing url 137: https://auto.ru/cars/used/sale/mitsubishi/galant/1115069336-a2478aa6/?geo_id=10174\n"
     ]
    },
    {
     "name": "stderr",
     "output_type": "stream",
     "text": [
      "\r",
      "137it [09:52,  4.38s/it]"
     ]
    },
    {
     "name": "stdout",
     "output_type": "stream",
     "text": [
      "Processing url 138: https://auto.ru/cars/used/sale/mitsubishi/outlander/1115145681-8d44b04d/?geo_id=10174\n"
     ]
    },
    {
     "name": "stderr",
     "output_type": "stream",
     "text": [
      "\r",
      "138it [09:57,  4.36s/it]"
     ]
    },
    {
     "name": "stdout",
     "output_type": "stream",
     "text": [
      "Processing url 139: https://auto.ru/cars/used/sale/mitsubishi/outlander/1115145389-118f2b81/?geo_id=10174\n"
     ]
    },
    {
     "name": "stderr",
     "output_type": "stream",
     "text": [
      "\r",
      "139it [10:01,  4.26s/it]"
     ]
    },
    {
     "name": "stdout",
     "output_type": "stream",
     "text": [
      "Processing url 140: https://auto.ru/cars/used/sale/mitsubishi/asx/1115022964-8ea9b846/?geo_id=10174\n"
     ]
    },
    {
     "name": "stderr",
     "output_type": "stream",
     "text": [
      "\r",
      "140it [10:05,  4.33s/it]"
     ]
    },
    {
     "name": "stdout",
     "output_type": "stream",
     "text": [
      "Processing url 141: https://auto.ru/cars/used/sale/mitsubishi/lancer/1115101141-198f4ab6/?geo_id=10174\n"
     ]
    },
    {
     "name": "stderr",
     "output_type": "stream",
     "text": [
      "\r",
      "141it [10:09,  4.27s/it]"
     ]
    },
    {
     "name": "stdout",
     "output_type": "stream",
     "text": [
      "Processing url 142: https://auto.ru/cars/used/sale/mitsubishi/outlander/1115174544-d2d04e3d/?geo_id=10174\n"
     ]
    },
    {
     "name": "stderr",
     "output_type": "stream",
     "text": [
      "\r",
      "142it [10:13,  4.25s/it]"
     ]
    },
    {
     "name": "stdout",
     "output_type": "stream",
     "text": [
      "Processing url 143: https://auto.ru/cars/used/sale/mitsubishi/galant/1114931642-dee46769/?geo_id=10174\n"
     ]
    },
    {
     "name": "stderr",
     "output_type": "stream",
     "text": [
      "\r",
      "143it [10:17,  4.15s/it]"
     ]
    },
    {
     "name": "stdout",
     "output_type": "stream",
     "text": [
      "Processing url 144: https://auto.ru/cars/used/sale/mitsubishi/pajero_sport/1115017397-bd80f081/?geo_id=10174\n"
     ]
    },
    {
     "name": "stderr",
     "output_type": "stream",
     "text": [
      "\r",
      "144it [10:22,  4.20s/it]"
     ]
    },
    {
     "name": "stdout",
     "output_type": "stream",
     "text": [
      "Processing url 145: https://auto.ru/cars/used/sale/mitsubishi/outlander/1115136109-60ea70e7/?geo_id=10174\n"
     ]
    },
    {
     "name": "stderr",
     "output_type": "stream",
     "text": [
      "\r",
      "145it [10:26,  4.18s/it]"
     ]
    },
    {
     "name": "stdout",
     "output_type": "stream",
     "text": [
      "Processing url 146: https://auto.ru/cars/used/sale/mitsubishi/outlander/1115016211-8fd32f37/?geo_id=10174\n"
     ]
    },
    {
     "name": "stderr",
     "output_type": "stream",
     "text": [
      "\r",
      "146it [10:30,  4.15s/it]"
     ]
    },
    {
     "name": "stdout",
     "output_type": "stream",
     "text": [
      "Processing url 147: https://auto.ru/cars/used/sale/mitsubishi/pajero_sport/1115145326-306ffb90/?geo_id=10174\n"
     ]
    },
    {
     "name": "stderr",
     "output_type": "stream",
     "text": [
      "\r",
      "147it [10:34,  4.11s/it]"
     ]
    },
    {
     "name": "stdout",
     "output_type": "stream",
     "text": [
      "Processing url 148: https://auto.ru/cars/used/sale/mitsubishi/outlander/1115145472-3dd2855e/?geo_id=10174\n"
     ]
    },
    {
     "name": "stderr",
     "output_type": "stream",
     "text": [
      "\r",
      "148it [10:39,  4.37s/it]"
     ]
    },
    {
     "name": "stdout",
     "output_type": "stream",
     "text": [
      "Processing url 149: https://auto.ru/cars/used/sale/mitsubishi/lancer/1115166161-b30aaf9c/?geo_id=10174\n"
     ]
    },
    {
     "name": "stderr",
     "output_type": "stream",
     "text": [
      "\r",
      "149it [10:43,  4.36s/it]"
     ]
    },
    {
     "name": "stdout",
     "output_type": "stream",
     "text": [
      "Processing url 150: https://auto.ru/cars/used/sale/mitsubishi/outlander/1115129936-77ee9f9e/?geo_id=10174\n"
     ]
    },
    {
     "name": "stderr",
     "output_type": "stream",
     "text": [
      "\r",
      "150it [10:48,  4.36s/it]"
     ]
    },
    {
     "name": "stdout",
     "output_type": "stream",
     "text": [
      "Processing url 151: https://auto.ru/cars/used/sale/mitsubishi/pajero_sport/1106305019-46c1633d/?geo_id=10174\n"
     ]
    },
    {
     "name": "stderr",
     "output_type": "stream",
     "text": [
      "\r",
      "151it [10:49,  3.36s/it]"
     ]
    },
    {
     "name": "stdout",
     "output_type": "stream",
     "text": [
      "Error 404\r",
      "Processing url 152: https://auto.ru/cars/used/sale/mitsubishi/pajero_sport/1114922421-5bc9a573/?geo_id=10174\n"
     ]
    },
    {
     "name": "stderr",
     "output_type": "stream",
     "text": [
      "\r",
      "152it [10:53,  3.56s/it]"
     ]
    },
    {
     "name": "stdout",
     "output_type": "stream",
     "text": [
      "Processing url 153: https://auto.ru/cars/used/sale/mitsubishi/outlander/1115145359-f95fb527/?geo_id=10174\n"
     ]
    },
    {
     "name": "stderr",
     "output_type": "stream",
     "text": [
      "\r",
      "153it [10:57,  3.89s/it]"
     ]
    },
    {
     "name": "stdout",
     "output_type": "stream",
     "text": [
      "Processing url 154: https://auto.ru/cars/used/sale/mitsubishi/outlander/1115109897-79ffdd56/?geo_id=10174\n"
     ]
    },
    {
     "name": "stderr",
     "output_type": "stream",
     "text": [
      "\r",
      "154it [11:01,  3.98s/it]"
     ]
    },
    {
     "name": "stdout",
     "output_type": "stream",
     "text": [
      "Processing url 155: https://auto.ru/cars/used/sale/mitsubishi/outlander/1115135779-16c187d4/?geo_id=10174\n"
     ]
    },
    {
     "name": "stderr",
     "output_type": "stream",
     "text": [
      "\r",
      "155it [11:05,  4.00s/it]"
     ]
    },
    {
     "name": "stdout",
     "output_type": "stream",
     "text": [
      "Processing url 156: https://auto.ru/cars/used/sale/mitsubishi/outlander/1115145573-69217e02/?geo_id=10174\n"
     ]
    },
    {
     "name": "stderr",
     "output_type": "stream",
     "text": [
      "\r",
      "156it [11:10,  4.10s/it]"
     ]
    },
    {
     "name": "stdout",
     "output_type": "stream",
     "text": [
      "Processing url 157: https://auto.ru/cars/used/sale/mitsubishi/pajero/1115061469-d20bcf56/?geo_id=10174\n"
     ]
    },
    {
     "name": "stderr",
     "output_type": "stream",
     "text": [
      "\r",
      "157it [11:14,  4.11s/it]"
     ]
    },
    {
     "name": "stdout",
     "output_type": "stream",
     "text": [
      "Processing url 158: https://auto.ru/cars/used/sale/mitsubishi/outlander/1115179873-169d9391/?geo_id=10174\n"
     ]
    },
    {
     "name": "stderr",
     "output_type": "stream",
     "text": [
      "\r",
      "158it [11:19,  4.45s/it]"
     ]
    },
    {
     "name": "stdout",
     "output_type": "stream",
     "text": [
      "Processing url 159: https://auto.ru/cars/used/sale/mitsubishi/lancer/1115128158-b7a10684/?geo_id=10174\n"
     ]
    },
    {
     "name": "stderr",
     "output_type": "stream",
     "text": [
      "\r",
      "159it [11:24,  4.52s/it]"
     ]
    },
    {
     "name": "stdout",
     "output_type": "stream",
     "text": [
      "Processing url 160: https://auto.ru/cars/used/sale/mitsubishi/outlander/1115124965-77fad0db/?geo_id=10174\n"
     ]
    },
    {
     "name": "stderr",
     "output_type": "stream",
     "text": [
      "\r",
      "160it [11:28,  4.41s/it]"
     ]
    },
    {
     "name": "stdout",
     "output_type": "stream",
     "text": [
      "Processing url 161: https://auto.ru/cars/used/sale/mitsubishi/lancer_ralliart/1082583938-03ebf/?geo_id=10174\n"
     ]
    },
    {
     "name": "stderr",
     "output_type": "stream",
     "text": [
      "\r",
      "161it [11:32,  4.32s/it]"
     ]
    },
    {
     "name": "stdout",
     "output_type": "stream",
     "text": [
      "Processing url 162: https://auto.ru/cars/used/sale/mitsubishi/outlander/1114847174-d7c1f23d/?geo_id=10174\n"
     ]
    },
    {
     "name": "stderr",
     "output_type": "stream",
     "text": [
      "\r",
      "162it [11:36,  4.13s/it]"
     ]
    },
    {
     "name": "stdout",
     "output_type": "stream",
     "text": [
      "Processing url 163: https://auto.ru/cars/used/sale/mitsubishi/lancer/1115121015-7eca0368/?geo_id=10174\n"
     ]
    },
    {
     "name": "stderr",
     "output_type": "stream",
     "text": [
      "\r",
      "163it [11:40,  4.07s/it]"
     ]
    },
    {
     "name": "stdout",
     "output_type": "stream",
     "text": [
      "Processing url 164: https://auto.ru/cars/used/sale/mitsubishi/outlander/1115151556-6d6083bc/?geo_id=10174\n"
     ]
    },
    {
     "name": "stderr",
     "output_type": "stream",
     "text": [
      "\r",
      "164it [11:45,  4.31s/it]"
     ]
    },
    {
     "name": "stdout",
     "output_type": "stream",
     "text": [
      "Processing url 165: https://auto.ru/cars/used/sale/mitsubishi/asx/1115148842-46a51fb0/?geo_id=10174\n"
     ]
    },
    {
     "name": "stderr",
     "output_type": "stream",
     "text": [
      "\r",
      "165it [11:49,  4.29s/it]"
     ]
    },
    {
     "name": "stdout",
     "output_type": "stream",
     "text": [
      "Processing url 166: https://auto.ru/cars/used/sale/mitsubishi/lancer/1115157476-b9028bcc/?geo_id=10174\n"
     ]
    },
    {
     "name": "stderr",
     "output_type": "stream",
     "text": [
      "\r",
      "166it [11:53,  4.24s/it]"
     ]
    },
    {
     "name": "stdout",
     "output_type": "stream",
     "text": [
      "Processing url 167: https://auto.ru/cars/used/sale/mitsubishi/outlander/1115145440-561bea93/?geo_id=10174\n"
     ]
    },
    {
     "name": "stderr",
     "output_type": "stream",
     "text": [
      "\r",
      "167it [11:57,  4.17s/it]"
     ]
    },
    {
     "name": "stdout",
     "output_type": "stream",
     "text": [
      "Processing url 168: https://auto.ru/cars/used/sale/mitsubishi/outlander/1115145323-c0ee465c/?geo_id=10174\n"
     ]
    },
    {
     "name": "stderr",
     "output_type": "stream",
     "text": [
      "\r",
      "168it [12:01,  4.15s/it]"
     ]
    },
    {
     "name": "stdout",
     "output_type": "stream",
     "text": [
      "Processing url 169: https://auto.ru/cars/used/sale/mitsubishi/pajero_sport/1115145553-f2ba5b27/?geo_id=10174\n"
     ]
    },
    {
     "name": "stderr",
     "output_type": "stream",
     "text": [
      "\r",
      "169it [12:06,  4.40s/it]"
     ]
    },
    {
     "name": "stdout",
     "output_type": "stream",
     "text": [
      "Processing url 170: https://auto.ru/cars/used/sale/mitsubishi/outlander/1115158727-fb4110ee/?geo_id=10174\n"
     ]
    },
    {
     "name": "stderr",
     "output_type": "stream",
     "text": [
      "\r",
      "170it [12:10,  4.38s/it]"
     ]
    },
    {
     "name": "stdout",
     "output_type": "stream",
     "text": [
      "Processing url 171: https://auto.ru/cars/used/sale/mitsubishi/pajero/1114615239-32dbcc5c/?geo_id=10174\n"
     ]
    },
    {
     "name": "stderr",
     "output_type": "stream",
     "text": [
      "\r",
      "171it [12:15,  4.32s/it]"
     ]
    },
    {
     "name": "stdout",
     "output_type": "stream",
     "text": [
      "Processing url 172: https://auto.ru/cars/used/sale/mitsubishi/pajero_sport/1106305018-78dad533/?geo_id=10174\n"
     ]
    },
    {
     "name": "stderr",
     "output_type": "stream",
     "text": [
      "\r",
      "172it [12:19,  4.24s/it]"
     ]
    },
    {
     "name": "stdout",
     "output_type": "stream",
     "text": [
      "Processing url 173: https://auto.ru/cars/used/sale/mitsubishi/asx/1115145411-c3330ace/?geo_id=10174\n"
     ]
    },
    {
     "name": "stderr",
     "output_type": "stream",
     "text": [
      "\r",
      "173it [12:23,  4.13s/it]"
     ]
    },
    {
     "name": "stdout",
     "output_type": "stream",
     "text": [
      "Processing url 174: https://auto.ru/cars/used/sale/mitsubishi/asx/1115142008-f4179fa5/?geo_id=10174\n"
     ]
    },
    {
     "name": "stderr",
     "output_type": "stream",
     "text": [
      "\r",
      "174it [12:27,  4.33s/it]"
     ]
    },
    {
     "name": "stdout",
     "output_type": "stream",
     "text": [
      "Processing url 175: https://auto.ru/cars/used/sale/mitsubishi/galant/1105690445-cd0a8536/?geo_id=10174\n"
     ]
    },
    {
     "name": "stderr",
     "output_type": "stream",
     "text": [
      "\r",
      "175it [12:31,  4.26s/it]"
     ]
    },
    {
     "name": "stdout",
     "output_type": "stream",
     "text": [
      "Processing url 176: https://auto.ru/cars/used/sale/mitsubishi/lancer/1114951594-f1b473fd/?geo_id=10174\n"
     ]
    },
    {
     "name": "stderr",
     "output_type": "stream",
     "text": [
      "\r",
      "176it [12:35,  4.18s/it]"
     ]
    },
    {
     "name": "stdout",
     "output_type": "stream",
     "text": [
      "Processing url 177: https://auto.ru/cars/used/sale/mitsubishi/outlander/1115118506-9fe8adf7/?geo_id=10174\n"
     ]
    },
    {
     "name": "stderr",
     "output_type": "stream",
     "text": [
      "\r",
      "177it [12:40,  4.17s/it]"
     ]
    },
    {
     "name": "stdout",
     "output_type": "stream",
     "text": [
      "Processing url 178: https://auto.ru/cars/used/sale/mitsubishi/carisma/1114949977-2736c12a/?geo_id=10174\n"
     ]
    },
    {
     "name": "stderr",
     "output_type": "stream",
     "text": [
      "\r",
      "178it [12:43,  4.06s/it]"
     ]
    },
    {
     "name": "stdout",
     "output_type": "stream",
     "text": [
      "Processing url 179: https://auto.ru/cars/used/sale/mitsubishi/lancer/1105926448-0ff2fbcb/?geo_id=10174\n"
     ]
    },
    {
     "name": "stderr",
     "output_type": "stream",
     "text": [
      "\r",
      "179it [12:48,  4.23s/it]"
     ]
    },
    {
     "name": "stdout",
     "output_type": "stream",
     "text": [
      "Processing url 180: https://auto.ru/cars/used/sale/mitsubishi/outlander/1114912696-8444a1b8/?geo_id=10174\n"
     ]
    },
    {
     "name": "stderr",
     "output_type": "stream",
     "text": [
      "\r",
      "180it [12:52,  4.18s/it]"
     ]
    },
    {
     "name": "stdout",
     "output_type": "stream",
     "text": [
      "Processing url 181: https://auto.ru/cars/used/sale/mitsubishi/galant/1114831075-b989e31b/?geo_id=10174\n"
     ]
    },
    {
     "name": "stderr",
     "output_type": "stream",
     "text": [
      "\r",
      "181it [12:56,  4.14s/it]"
     ]
    },
    {
     "name": "stdout",
     "output_type": "stream",
     "text": [
      "Processing url 182: https://auto.ru/cars/used/sale/mitsubishi/pajero_sport/1106696092-372a60a4/?geo_id=10174\n"
     ]
    },
    {
     "name": "stderr",
     "output_type": "stream",
     "text": [
      "\r",
      "182it [13:00,  4.03s/it]"
     ]
    },
    {
     "name": "stdout",
     "output_type": "stream",
     "text": [
      "Processing url 183: https://auto.ru/cars/used/sale/mitsubishi/asx/1115145541-6f5bdada/?geo_id=10174\n"
     ]
    },
    {
     "name": "stderr",
     "output_type": "stream",
     "text": [
      "\r",
      "183it [13:05,  4.22s/it]"
     ]
    },
    {
     "name": "stdout",
     "output_type": "stream",
     "text": [
      "Processing url 184: https://auto.ru/cars/used/sale/mitsubishi/outlander/1115010429-41f3d57a/?geo_id=10174\n"
     ]
    },
    {
     "name": "stderr",
     "output_type": "stream",
     "text": [
      "\r",
      "184it [13:09,  4.23s/it]"
     ]
    },
    {
     "name": "stdout",
     "output_type": "stream",
     "text": [
      "Processing url 185: https://auto.ru/cars/used/sale/mitsubishi/pajero_sport/1114868241-654fd0be/?geo_id=10174\n"
     ]
    },
    {
     "name": "stderr",
     "output_type": "stream",
     "text": [
      "\r",
      "185it [13:13,  4.25s/it]"
     ]
    },
    {
     "name": "stdout",
     "output_type": "stream",
     "text": [
      "Processing url 186: https://auto.ru/cars/used/sale/mitsubishi/pajero_sport/1115145337-2aa3a419/?geo_id=10174\n"
     ]
    },
    {
     "name": "stderr",
     "output_type": "stream",
     "text": [
      "\r",
      "186it [13:17,  4.17s/it]"
     ]
    },
    {
     "name": "stdout",
     "output_type": "stream",
     "text": [
      "Processing url 187: https://auto.ru/cars/used/sale/mitsubishi/lancer/1114994176-de7de69c/?geo_id=10174\n"
     ]
    },
    {
     "name": "stderr",
     "output_type": "stream",
     "text": [
      "\r",
      "187it [13:21,  4.17s/it]"
     ]
    },
    {
     "name": "stdout",
     "output_type": "stream",
     "text": [
      "Processing url 188: https://auto.ru/cars/used/sale/mitsubishi/asx/1115145475-65019fcf/?geo_id=10174\n"
     ]
    },
    {
     "name": "stderr",
     "output_type": "stream",
     "text": [
      "\r",
      "188it [13:26,  4.46s/it]"
     ]
    },
    {
     "name": "stdout",
     "output_type": "stream",
     "text": [
      "Processing url 189: https://auto.ru/cars/used/sale/mitsubishi/lancer/1114920360-37033de6/?geo_id=10174\n"
     ]
    },
    {
     "name": "stderr",
     "output_type": "stream",
     "text": [
      "\r",
      "189it [13:31,  4.41s/it]"
     ]
    },
    {
     "name": "stdout",
     "output_type": "stream",
     "text": [
      "Processing url 190: https://auto.ru/cars/used/sale/mitsubishi/outlander/1106703168-95b763a8/?geo_id=10174\n"
     ]
    },
    {
     "name": "stderr",
     "output_type": "stream",
     "text": [
      "\r",
      "190it [13:35,  4.39s/it]"
     ]
    },
    {
     "name": "stdout",
     "output_type": "stream",
     "text": [
      "Processing url 191: https://auto.ru/cars/used/sale/mitsubishi/galant/1114944204-6bc2910f/?geo_id=10174\n"
     ]
    },
    {
     "name": "stderr",
     "output_type": "stream",
     "text": [
      "\r",
      "191it [13:39,  4.35s/it]"
     ]
    },
    {
     "name": "stdout",
     "output_type": "stream",
     "text": [
      "Processing url 192: https://auto.ru/cars/used/sale/mitsubishi/outlander/1114967964-dbbb304d/?geo_id=10174\n"
     ]
    },
    {
     "name": "stderr",
     "output_type": "stream",
     "text": [
      "\r",
      "192it [13:44,  4.34s/it]"
     ]
    },
    {
     "name": "stdout",
     "output_type": "stream",
     "text": [
      "Processing url 193: https://auto.ru/cars/used/sale/mitsubishi/outlander/1115145317-c9609508/?geo_id=10174\n"
     ]
    },
    {
     "name": "stderr",
     "output_type": "stream",
     "text": [
      "\r",
      "193it [13:48,  4.28s/it]"
     ]
    },
    {
     "name": "stdout",
     "output_type": "stream",
     "text": [
      "Processing url 194: https://auto.ru/cars/used/sale/mitsubishi/lancer/1115108688-adf00fae/?geo_id=10174\n"
     ]
    },
    {
     "name": "stderr",
     "output_type": "stream",
     "text": [
      "\r",
      "194it [13:53,  4.43s/it]"
     ]
    },
    {
     "name": "stdout",
     "output_type": "stream",
     "text": [
      "Processing url 195: https://auto.ru/cars/used/sale/mitsubishi/lancer/1114970026-bd9ebed9/?geo_id=10174\n"
     ]
    },
    {
     "name": "stderr",
     "output_type": "stream",
     "text": [
      "\r",
      "195it [13:56,  4.29s/it]"
     ]
    },
    {
     "name": "stdout",
     "output_type": "stream",
     "text": [
      "Processing url 196: https://auto.ru/cars/used/sale/mitsubishi/asx/1115157363-885c5818/?geo_id=10174\n"
     ]
    },
    {
     "name": "stderr",
     "output_type": "stream",
     "text": [
      "\r",
      "196it [14:01,  4.33s/it]"
     ]
    },
    {
     "name": "stdout",
     "output_type": "stream",
     "text": [
      "Processing url 197: https://auto.ru/cars/used/sale/mitsubishi/lancer/1103036408-d382d8f5/?geo_id=10174\n"
     ]
    },
    {
     "name": "stderr",
     "output_type": "stream",
     "text": [
      "\r",
      "197it [14:05,  4.21s/it]"
     ]
    },
    {
     "name": "stdout",
     "output_type": "stream",
     "text": [
      "Processing url 198: https://auto.ru/cars/used/sale/mitsubishi/asx/1106124737-ec95cfa3/?geo_id=10174\n"
     ]
    },
    {
     "name": "stderr",
     "output_type": "stream",
     "text": [
      "\r",
      "198it [14:11,  4.76s/it]"
     ]
    },
    {
     "name": "stdout",
     "output_type": "stream",
     "text": [
      "Processing url 199: https://auto.ru/cars/used/sale/mitsubishi/outlander/1115145549-cd2e4691/?geo_id=10174\n"
     ]
    },
    {
     "name": "stderr",
     "output_type": "stream",
     "text": [
      "\r",
      "199it [14:15,  4.66s/it]"
     ]
    },
    {
     "name": "stdout",
     "output_type": "stream",
     "text": [
      "Processing url 200: https://auto.ru/cars/used/sale/mitsubishi/l200/1106297262-02e21ae5/?geo_id=10174\n"
     ]
    },
    {
     "name": "stderr",
     "output_type": "stream",
     "text": [
      "\r",
      "200it [14:19,  4.41s/it]"
     ]
    },
    {
     "name": "stdout",
     "output_type": "stream",
     "text": [
      "Processing url 201: https://auto.ru/cars/used/sale/mitsubishi/pajero/1115139253-08d31da8/?geo_id=10174\n"
     ]
    },
    {
     "name": "stderr",
     "output_type": "stream",
     "text": [
      "\r",
      "201it [14:23,  4.21s/it]"
     ]
    },
    {
     "name": "stdout",
     "output_type": "stream",
     "text": [
      "Processing url 202: https://auto.ru/cars/used/sale/mitsubishi/asx/1115148850-43240823/?geo_id=10174\n"
     ]
    },
    {
     "name": "stderr",
     "output_type": "stream",
     "text": [
      "\r",
      "202it [14:27,  4.28s/it]"
     ]
    },
    {
     "name": "stdout",
     "output_type": "stream",
     "text": [
      "Processing url 203: https://auto.ru/cars/used/sale/mitsubishi/outlander/1106679761-83b4ab57/?geo_id=10174\n"
     ]
    },
    {
     "name": "stderr",
     "output_type": "stream",
     "text": [
      "\r",
      "203it [14:32,  4.29s/it]"
     ]
    },
    {
     "name": "stdout",
     "output_type": "stream",
     "text": [
      "Processing url 204: https://auto.ru/cars/used/sale/mitsubishi/outlander/1115151553-c5d4290a/?geo_id=10174\n"
     ]
    },
    {
     "name": "stderr",
     "output_type": "stream",
     "text": [
      "\r",
      "204it [14:36,  4.23s/it]"
     ]
    },
    {
     "name": "stdout",
     "output_type": "stream",
     "text": [
      "Processing url 205: https://auto.ru/cars/used/sale/mitsubishi/galant/1114993204-fab143d2/?geo_id=10174\n"
     ]
    },
    {
     "name": "stderr",
     "output_type": "stream",
     "text": [
      "\r",
      "205it [14:40,  4.29s/it]"
     ]
    },
    {
     "name": "stdout",
     "output_type": "stream",
     "text": [
      "Processing url 206: https://auto.ru/cars/used/sale/mitsubishi/eclipse_cross/1115069598-ee0eceaa/?geo_id=10174\n"
     ]
    },
    {
     "name": "stderr",
     "output_type": "stream",
     "text": [
      "\r",
      "206it [14:45,  4.42s/it]"
     ]
    },
    {
     "name": "stdout",
     "output_type": "stream",
     "text": [
      "Processing url 207: https://auto.ru/cars/used/sale/mitsubishi/pajero/1105287755-bcdf9fdd/?geo_id=10174\n"
     ]
    },
    {
     "name": "stderr",
     "output_type": "stream",
     "text": [
      "\r",
      "207it [14:49,  4.42s/it]"
     ]
    },
    {
     "name": "stdout",
     "output_type": "stream",
     "text": [
      "Processing url 208: https://auto.ru/cars/used/sale/mitsubishi/pajero_sport/1114702466-53d36baf/?geo_id=10174\n"
     ]
    },
    {
     "name": "stderr",
     "output_type": "stream",
     "text": [
      "\r",
      "208it [14:53,  4.36s/it]"
     ]
    },
    {
     "name": "stdout",
     "output_type": "stream",
     "text": [
      "Processing url 209: https://auto.ru/cars/used/sale/mitsubishi/pajero_sport/1115051412-8306e4b0/?geo_id=10174\n"
     ]
    },
    {
     "name": "stderr",
     "output_type": "stream",
     "text": [
      "\r",
      "209it [14:58,  4.29s/it]"
     ]
    },
    {
     "name": "stdout",
     "output_type": "stream",
     "text": [
      "Processing url 210: https://auto.ru/cars/used/sale/mitsubishi/asx/1114694283-454e5d1a/?geo_id=10174\n"
     ]
    },
    {
     "name": "stderr",
     "output_type": "stream",
     "text": [
      "\r",
      "210it [15:02,  4.41s/it]"
     ]
    },
    {
     "name": "stdout",
     "output_type": "stream",
     "text": [
      "Processing url 211: https://auto.ru/cars/used/sale/mitsubishi/pajero_sport/1115057485-15b7082e/?geo_id=10174\n"
     ]
    },
    {
     "name": "stderr",
     "output_type": "stream",
     "text": [
      "\r",
      "211it [15:06,  4.29s/it]"
     ]
    },
    {
     "name": "stdout",
     "output_type": "stream",
     "text": [
      "Processing url 212: https://auto.ru/cars/used/sale/mitsubishi/lancer/1114943326-f805bffd/?geo_id=10174\n"
     ]
    },
    {
     "name": "stderr",
     "output_type": "stream",
     "text": [
      "\r",
      "212it [15:10,  4.21s/it]"
     ]
    },
    {
     "name": "stdout",
     "output_type": "stream",
     "text": [
      "Processing url 213: https://auto.ru/cars/used/sale/mitsubishi/asx/1115074987-f4f4a2ee/?geo_id=10174\n"
     ]
    },
    {
     "name": "stderr",
     "output_type": "stream",
     "text": [
      "\r",
      "213it [15:14,  4.18s/it]"
     ]
    },
    {
     "name": "stdout",
     "output_type": "stream",
     "text": [
      "Processing url 214: https://auto.ru/cars/used/sale/mitsubishi/lancer/1115120589-ab4544bf/?geo_id=10174\n"
     ]
    },
    {
     "name": "stderr",
     "output_type": "stream",
     "text": [
      "\r",
      "214it [15:20,  4.61s/it]"
     ]
    },
    {
     "name": "stdout",
     "output_type": "stream",
     "text": [
      "Processing url 215: https://auto.ru/cars/used/sale/mitsubishi/outlander/1115060657-2d64075b/?geo_id=10174\n"
     ]
    },
    {
     "name": "stderr",
     "output_type": "stream",
     "text": [
      "\r",
      "215it [15:25,  4.60s/it]"
     ]
    },
    {
     "name": "stdout",
     "output_type": "stream",
     "text": [
      "Processing url 216: https://auto.ru/cars/used/sale/mitsubishi/asx/1115117157-8c9892c2/?geo_id=10174\n"
     ]
    },
    {
     "name": "stderr",
     "output_type": "stream",
     "text": [
      "\r",
      "216it [15:28,  4.38s/it]"
     ]
    },
    {
     "name": "stdout",
     "output_type": "stream",
     "text": [
      "Processing url 217: https://auto.ru/cars/used/sale/mitsubishi/outlander/1115117600-8dc73443/?geo_id=10174\n"
     ]
    },
    {
     "name": "stderr",
     "output_type": "stream",
     "text": [
      "\r",
      "217it [15:33,  4.28s/it]"
     ]
    },
    {
     "name": "stdout",
     "output_type": "stream",
     "text": [
      "Processing url 218: https://auto.ru/cars/used/sale/mitsubishi/l200/1106333870-48009851/?geo_id=10174\n"
     ]
    },
    {
     "name": "stderr",
     "output_type": "stream",
     "text": [
      "\r",
      "218it [15:38,  4.52s/it]"
     ]
    },
    {
     "name": "stdout",
     "output_type": "stream",
     "text": [
      "Processing url 219: https://auto.ru/cars/used/sale/mitsubishi/outlander/1106159438-075bfd09/?geo_id=10174\n"
     ]
    },
    {
     "name": "stderr",
     "output_type": "stream",
     "text": [
      "\r",
      "219it [15:42,  4.34s/it]"
     ]
    },
    {
     "name": "stdout",
     "output_type": "stream",
     "text": [
      "Processing url 220: https://auto.ru/cars/used/sale/mitsubishi/pajero_sport/1114967957-08fe967d/?geo_id=10174\n"
     ]
    },
    {
     "name": "stderr",
     "output_type": "stream",
     "text": [
      "\r",
      "220it [15:46,  4.32s/it]"
     ]
    },
    {
     "name": "stdout",
     "output_type": "stream",
     "text": [
      "Processing url 221: https://auto.ru/cars/used/sale/mitsubishi/pajero_sport/1106692672-a90c85f9/?geo_id=10174\n"
     ]
    },
    {
     "name": "stderr",
     "output_type": "stream",
     "text": [
      "\r",
      "221it [15:50,  4.20s/it]"
     ]
    },
    {
     "name": "stdout",
     "output_type": "stream",
     "text": [
      "Processing url 222: https://auto.ru/cars/used/sale/mitsubishi/asx/1115046497-5724c963/?geo_id=10174\n"
     ]
    },
    {
     "name": "stderr",
     "output_type": "stream",
     "text": [
      "\r",
      "222it [15:54,  4.31s/it]"
     ]
    },
    {
     "name": "stdout",
     "output_type": "stream",
     "text": [
      "Processing url 223: https://auto.ru/cars/used/sale/mitsubishi/lancer_evolution/1115062252-b9bee50b/?geo_id=10174\n"
     ]
    },
    {
     "name": "stderr",
     "output_type": "stream",
     "text": [
      "\r",
      "223it [15:59,  4.44s/it]"
     ]
    },
    {
     "name": "stdout",
     "output_type": "stream",
     "text": [
      "Processing url 224: https://auto.ru/cars/used/sale/mitsubishi/outlander/1114960496-1199e6b7/?geo_id=10174\n"
     ]
    },
    {
     "name": "stderr",
     "output_type": "stream",
     "text": [
      "\r",
      "224it [16:03,  4.31s/it]"
     ]
    },
    {
     "name": "stdout",
     "output_type": "stream",
     "text": [
      "Processing url 225: https://auto.ru/cars/used/sale/mitsubishi/outlander/1115125722-45d6c979/?geo_id=10174\n"
     ]
    },
    {
     "name": "stderr",
     "output_type": "stream",
     "text": [
      "\r",
      "225it [16:07,  4.23s/it]"
     ]
    },
    {
     "name": "stdout",
     "output_type": "stream",
     "text": [
      "Processing url 226: https://auto.ru/cars/used/sale/mitsubishi/outlander/1115136108-b5cb395a/?geo_id=10174\n"
     ]
    },
    {
     "name": "stderr",
     "output_type": "stream",
     "text": [
      "\r",
      "226it [16:12,  4.29s/it]"
     ]
    },
    {
     "name": "stdout",
     "output_type": "stream",
     "text": [
      "Processing url 227: https://auto.ru/cars/used/sale/mitsubishi/outlander/1115172040-1edb1e23/?geo_id=10174\n"
     ]
    },
    {
     "name": "stderr",
     "output_type": "stream",
     "text": [
      "\r",
      "227it [16:16,  4.23s/it]"
     ]
    },
    {
     "name": "stdout",
     "output_type": "stream",
     "text": [
      "Processing url 228: https://auto.ru/cars/used/sale/mitsubishi/pajero_sport/1106597822-09506647/?geo_id=10174\n"
     ]
    },
    {
     "name": "stderr",
     "output_type": "stream",
     "text": [
      "\r",
      "228it [16:20,  4.23s/it]"
     ]
    },
    {
     "name": "stdout",
     "output_type": "stream",
     "text": [
      "Processing url 229: https://auto.ru/cars/used/sale/mitsubishi/outlander/1114912687-b527ace7/?geo_id=10174\n"
     ]
    },
    {
     "name": "stderr",
     "output_type": "stream",
     "text": [
      "\r",
      "229it [16:24,  4.31s/it]"
     ]
    },
    {
     "name": "stdout",
     "output_type": "stream",
     "text": [
      "Processing url 230: https://auto.ru/cars/used/sale/mitsubishi/lancer/1114995212-9a48462b/?geo_id=10174\n"
     ]
    },
    {
     "name": "stderr",
     "output_type": "stream",
     "text": [
      "\r",
      "230it [16:29,  4.48s/it]"
     ]
    },
    {
     "name": "stdout",
     "output_type": "stream",
     "text": [
      "Processing url 231: https://auto.ru/cars/used/sale/mitsubishi/asx/1114767725-52e40801/?geo_id=10174\n"
     ]
    },
    {
     "name": "stderr",
     "output_type": "stream",
     "text": [
      "\r",
      "231it [16:33,  4.33s/it]"
     ]
    },
    {
     "name": "stdout",
     "output_type": "stream",
     "text": [
      "Processing url 232: https://auto.ru/cars/used/sale/mitsubishi/outlander/1114997275-f062cc87/?geo_id=10174\n"
     ]
    },
    {
     "name": "stderr",
     "output_type": "stream",
     "text": [
      "\r",
      "232it [16:37,  4.21s/it]"
     ]
    },
    {
     "name": "stdout",
     "output_type": "stream",
     "text": [
      "Processing url 233: https://auto.ru/cars/used/sale/mitsubishi/pajero/1106357864-41de86f8/?geo_id=10174\n"
     ]
    },
    {
     "name": "stderr",
     "output_type": "stream",
     "text": [
      "\r",
      "233it [16:42,  4.27s/it]"
     ]
    },
    {
     "name": "stdout",
     "output_type": "stream",
     "text": [
      "Processing url 234: https://auto.ru/cars/used/sale/mitsubishi/lancer_evolution/1106495597-bb70e300/?geo_id=10174\n"
     ]
    },
    {
     "name": "stderr",
     "output_type": "stream",
     "text": [
      "\r",
      "234it [16:46,  4.27s/it]"
     ]
    },
    {
     "name": "stdout",
     "output_type": "stream",
     "text": [
      "Processing url 235: https://auto.ru/cars/used/sale/mitsubishi/outlander/1115052488-54c9f1e8/?geo_id=10174\n"
     ]
    },
    {
     "name": "stderr",
     "output_type": "stream",
     "text": [
      "\r",
      "235it [16:50,  4.22s/it]"
     ]
    },
    {
     "name": "stdout",
     "output_type": "stream",
     "text": [
      "Processing url 236: https://auto.ru/cars/used/sale/mitsubishi/lancer/1106497316-44a6e94f/?geo_id=10174\n"
     ]
    },
    {
     "name": "stderr",
     "output_type": "stream",
     "text": [
      "\r",
      "236it [16:54,  4.19s/it]"
     ]
    },
    {
     "name": "stdout",
     "output_type": "stream",
     "text": [
      "Processing url 237: https://auto.ru/cars/used/sale/mitsubishi/pajero/1114965067-5d98851c/?geo_id=10174\n"
     ]
    },
    {
     "name": "stderr",
     "output_type": "stream",
     "text": [
      "\r",
      "237it [16:58,  4.11s/it]"
     ]
    },
    {
     "name": "stdout",
     "output_type": "stream",
     "text": [
      "Processing url 238: https://auto.ru/cars/used/sale/mitsubishi/outlander/1106689287-a5538da2/?geo_id=10174\n"
     ]
    },
    {
     "name": "stderr",
     "output_type": "stream",
     "text": [
      "\r",
      "238it [17:02,  4.12s/it]"
     ]
    },
    {
     "name": "stdout",
     "output_type": "stream",
     "text": [
      "Processing url 239: https://auto.ru/cars/used/sale/mitsubishi/outlander/1114590539-a9c2e747/?geo_id=10174\n"
     ]
    },
    {
     "name": "stderr",
     "output_type": "stream",
     "text": [
      "\r",
      "239it [17:06,  4.16s/it]"
     ]
    },
    {
     "name": "stdout",
     "output_type": "stream",
     "text": [
      "Processing url 240: https://auto.ru/cars/used/sale/mitsubishi/asx/1114880938-21aa0d5f/?geo_id=10174\n"
     ]
    },
    {
     "name": "stderr",
     "output_type": "stream",
     "text": [
      "\r",
      "240it [17:10,  4.07s/it]"
     ]
    },
    {
     "name": "stdout",
     "output_type": "stream",
     "text": [
      "Processing url 241: https://auto.ru/cars/used/sale/mitsubishi/asx/1114921676-d1b9866e/?geo_id=10174\n"
     ]
    },
    {
     "name": "stderr",
     "output_type": "stream",
     "text": [
      "\r",
      "241it [17:14,  4.13s/it]"
     ]
    },
    {
     "name": "stdout",
     "output_type": "stream",
     "text": [
      "Processing url 242: https://auto.ru/cars/used/sale/mitsubishi/lancer/1114604601-1c9c53c2/?geo_id=10174\n"
     ]
    },
    {
     "name": "stderr",
     "output_type": "stream",
     "text": [
      "\r",
      "242it [17:19,  4.21s/it]"
     ]
    },
    {
     "name": "stdout",
     "output_type": "stream",
     "text": [
      "Processing url 243: https://auto.ru/cars/used/sale/mitsubishi/pajero/1103144126-10e7a4df/?geo_id=10174\n"
     ]
    },
    {
     "name": "stderr",
     "output_type": "stream",
     "text": [
      "\r",
      "243it [17:23,  4.18s/it]"
     ]
    },
    {
     "name": "stdout",
     "output_type": "stream",
     "text": [
      "Processing url 244: https://auto.ru/cars/used/sale/mitsubishi/outlander/1115076125-2d44b2f8/?geo_id=10174\n"
     ]
    },
    {
     "name": "stderr",
     "output_type": "stream",
     "text": [
      "\r",
      "244it [17:28,  4.34s/it]"
     ]
    },
    {
     "name": "stdout",
     "output_type": "stream",
     "text": [
      "Processing url 245: https://auto.ru/cars/used/sale/mitsubishi/asx/1114970070-fd212241/?geo_id=10174\n"
     ]
    },
    {
     "name": "stderr",
     "output_type": "stream",
     "text": [
      "\r",
      "245it [17:32,  4.40s/it]"
     ]
    },
    {
     "name": "stdout",
     "output_type": "stream",
     "text": [
      "Processing url 246: https://auto.ru/cars/used/sale/mitsubishi/lancer/1114646019-197fda77/?geo_id=10174\n"
     ]
    },
    {
     "name": "stderr",
     "output_type": "stream",
     "text": [
      "\r",
      "246it [17:36,  4.34s/it]"
     ]
    },
    {
     "name": "stdout",
     "output_type": "stream",
     "text": [
      "Processing url 247: https://auto.ru/cars/used/sale/mitsubishi/asx/1115125325-34b17afb/?geo_id=10174\n"
     ]
    },
    {
     "name": "stderr",
     "output_type": "stream",
     "text": [
      "\r",
      "247it [17:38,  3.39s/it]"
     ]
    },
    {
     "name": "stdout",
     "output_type": "stream",
     "text": [
      "Error 404\r",
      "Processing url 248: https://auto.ru/cars/used/sale/mitsubishi/asx/1115139934-77d61a62/?geo_id=10174\n"
     ]
    },
    {
     "name": "stderr",
     "output_type": "stream",
     "text": [
      "\r",
      "248it [17:42,  3.55s/it]"
     ]
    },
    {
     "name": "stdout",
     "output_type": "stream",
     "text": [
      "Processing url 249: https://auto.ru/cars/used/sale/mitsubishi/outlander/1106525536-8ab927ab/?geo_id=10174\n"
     ]
    },
    {
     "name": "stderr",
     "output_type": "stream",
     "text": [
      "\r",
      "249it [17:46,  3.78s/it]"
     ]
    },
    {
     "name": "stdout",
     "output_type": "stream",
     "text": [
      "Processing url 250: https://auto.ru/cars/used/sale/mitsubishi/asx/1115038989-2643e458/?geo_id=10174\n"
     ]
    },
    {
     "name": "stderr",
     "output_type": "stream",
     "text": [
      "\r",
      "250it [17:51,  4.10s/it]"
     ]
    },
    {
     "name": "stdout",
     "output_type": "stream",
     "text": [
      "Processing url 251: https://auto.ru/cars/used/sale/mitsubishi/asx/1114672507-143225d1/?geo_id=10174\n"
     ]
    },
    {
     "name": "stderr",
     "output_type": "stream",
     "text": [
      "\r",
      "251it [17:55,  4.12s/it]"
     ]
    },
    {
     "name": "stdout",
     "output_type": "stream",
     "text": [
      "Processing url 252: https://auto.ru/cars/used/sale/mitsubishi/outlander/1115069594-9a04071d/?geo_id=10174\n"
     ]
    },
    {
     "name": "stderr",
     "output_type": "stream",
     "text": [
      "\r",
      "252it [17:59,  4.18s/it]"
     ]
    },
    {
     "name": "stdout",
     "output_type": "stream",
     "text": [
      "Processing url 253: https://auto.ru/cars/used/sale/mitsubishi/lancer/1115076131-2df4c43e/?geo_id=10174\n"
     ]
    },
    {
     "name": "stderr",
     "output_type": "stream",
     "text": [
      "\r",
      "253it [18:04,  4.40s/it]"
     ]
    },
    {
     "name": "stdout",
     "output_type": "stream",
     "text": [
      "Processing url 254: https://auto.ru/cars/used/sale/mitsubishi/colt/1114978690-eb8faede/?geo_id=10174\n"
     ]
    },
    {
     "name": "stderr",
     "output_type": "stream",
     "text": [
      "\r",
      "254it [18:08,  4.36s/it]"
     ]
    },
    {
     "name": "stdout",
     "output_type": "stream",
     "text": [
      "Processing url 255: https://auto.ru/cars/used/sale/mitsubishi/outlander/1115076101-e5da7d61/?geo_id=10174\n"
     ]
    },
    {
     "name": "stderr",
     "output_type": "stream",
     "text": [
      "\r",
      "255it [18:14,  4.73s/it]"
     ]
    },
    {
     "name": "stdout",
     "output_type": "stream",
     "text": [
      "Processing url 256: https://auto.ru/cars/used/sale/mitsubishi/outlander/1115074986-06501208/?geo_id=10174\n"
     ]
    },
    {
     "name": "stderr",
     "output_type": "stream",
     "text": [
      "\r",
      "256it [18:18,  4.57s/it]"
     ]
    },
    {
     "name": "stdout",
     "output_type": "stream",
     "text": [
      "Processing url 257: https://auto.ru/cars/used/sale/mitsubishi/asx/1115089357-4bad9efc/?geo_id=10174\n"
     ]
    },
    {
     "name": "stderr",
     "output_type": "stream",
     "text": [
      "\r",
      "257it [18:22,  4.35s/it]"
     ]
    },
    {
     "name": "stdout",
     "output_type": "stream",
     "text": [
      "Processing url 258: https://auto.ru/cars/used/sale/mitsubishi/asx/1105972692-9c3d9af3/?geo_id=10174\n"
     ]
    },
    {
     "name": "stderr",
     "output_type": "stream",
     "text": [
      "\r",
      "258it [18:26,  4.27s/it]"
     ]
    },
    {
     "name": "stdout",
     "output_type": "stream",
     "text": [
      "Processing url 259: https://auto.ru/cars/used/sale/mitsubishi/asx/1115125324-09ae9eb7/?geo_id=10174\n"
     ]
    },
    {
     "name": "stderr",
     "output_type": "stream",
     "text": [
      "\r",
      "259it [18:30,  4.16s/it]"
     ]
    },
    {
     "name": "stdout",
     "output_type": "stream",
     "text": [
      "Processing url 260: https://auto.ru/cars/used/sale/mitsubishi/lancer/1115065505-cb489701/?geo_id=10174\n"
     ]
    },
    {
     "name": "stderr",
     "output_type": "stream",
     "text": [
      "\r",
      "260it [18:34,  4.21s/it]"
     ]
    },
    {
     "name": "stdout",
     "output_type": "stream",
     "text": [
      "Processing url 261: https://auto.ru/cars/used/sale/mitsubishi/outlander/1114912665-ece28552/?geo_id=10174\n"
     ]
    },
    {
     "name": "stderr",
     "output_type": "stream",
     "text": [
      "\r",
      "261it [18:39,  4.46s/it]"
     ]
    },
    {
     "name": "stdout",
     "output_type": "stream",
     "text": [
      "Processing url 262: https://auto.ru/cars/used/sale/mitsubishi/lancer/1115075599-c808d345/?geo_id=10174\n"
     ]
    },
    {
     "name": "stderr",
     "output_type": "stream",
     "text": [
      "\r",
      "262it [18:44,  4.45s/it]"
     ]
    },
    {
     "name": "stdout",
     "output_type": "stream",
     "text": [
      "Processing url 263: https://auto.ru/cars/used/sale/mitsubishi/lancer/1115171919-2895c820/?geo_id=10174\n"
     ]
    },
    {
     "name": "stderr",
     "output_type": "stream",
     "text": [
      "\r",
      "263it [18:48,  4.31s/it]"
     ]
    },
    {
     "name": "stdout",
     "output_type": "stream",
     "text": [
      "Processing url 264: https://auto.ru/cars/used/sale/mitsubishi/galant/1114772447-d8548704/?geo_id=10174\n"
     ]
    },
    {
     "name": "stderr",
     "output_type": "stream",
     "text": [
      "\r",
      "264it [18:53,  4.52s/it]"
     ]
    },
    {
     "name": "stdout",
     "output_type": "stream",
     "text": [
      "Processing url 265: https://auto.ru/cars/used/sale/mitsubishi/outlander/1114985498-ca8a4f2c/?geo_id=10174\n"
     ]
    },
    {
     "name": "stderr",
     "output_type": "stream",
     "text": [
      "\r",
      "265it [18:58,  4.73s/it]"
     ]
    },
    {
     "name": "stdout",
     "output_type": "stream",
     "text": [
      "Processing url 266: https://auto.ru/cars/used/sale/mitsubishi/lancer/1114969901-86fc0d54/?geo_id=10174\n"
     ]
    },
    {
     "name": "stderr",
     "output_type": "stream",
     "text": [
      "\r",
      "266it [19:03,  4.67s/it]"
     ]
    },
    {
     "name": "stdout",
     "output_type": "stream",
     "text": [
      "Processing url 267: https://auto.ru/cars/used/sale/mitsubishi/outlander/1114985499-6fdeed37/?geo_id=10174\n"
     ]
    },
    {
     "name": "stderr",
     "output_type": "stream",
     "text": [
      "\r",
      "267it [19:03,  3.55s/it]"
     ]
    },
    {
     "name": "stdout",
     "output_type": "stream",
     "text": [
      "Error 404\r",
      "Processing url 268: https://auto.ru/cars/used/sale/mitsubishi/outlander/1114955431-46e8de42/?geo_id=10174\n"
     ]
    },
    {
     "name": "stderr",
     "output_type": "stream",
     "text": [
      "\r",
      "268it [19:07,  3.65s/it]"
     ]
    },
    {
     "name": "stdout",
     "output_type": "stream",
     "text": [
      "Processing url 269: https://auto.ru/cars/used/sale/mitsubishi/outlander/1114955364-8498052b/?geo_id=10174\n"
     ]
    },
    {
     "name": "stderr",
     "output_type": "stream",
     "text": [
      "\r",
      "269it [19:11,  3.78s/it]"
     ]
    },
    {
     "name": "stdout",
     "output_type": "stream",
     "text": [
      "Processing url 270: https://auto.ru/cars/used/sale/mitsubishi/galant/1115143996-13f0ee03/?geo_id=10174\n"
     ]
    },
    {
     "name": "stderr",
     "output_type": "stream",
     "text": [
      "\r",
      "270it [19:15,  3.84s/it]"
     ]
    },
    {
     "name": "stdout",
     "output_type": "stream",
     "text": [
      "Processing url 271: https://auto.ru/cars/used/sale/mitsubishi/pajero_sport/1106667774-3a8ff39f/?geo_id=10174\n"
     ]
    },
    {
     "name": "stderr",
     "output_type": "stream",
     "text": [
      "\r",
      "271it [19:20,  4.07s/it]"
     ]
    },
    {
     "name": "stdout",
     "output_type": "stream",
     "text": [
      "Processing url 272: https://auto.ru/cars/used/sale/mitsubishi/lancer/1115152030-34c7dfd7/?geo_id=10174\n"
     ]
    },
    {
     "name": "stderr",
     "output_type": "stream",
     "text": [
      "\r",
      "272it [19:24,  4.12s/it]"
     ]
    },
    {
     "name": "stdout",
     "output_type": "stream",
     "text": [
      "Processing url 273: https://auto.ru/cars/used/sale/mitsubishi/lancer/1114982151-90cfc212/?geo_id=10174\n"
     ]
    },
    {
     "name": "stderr",
     "output_type": "stream",
     "text": [
      "\r",
      "273it [19:28,  3.97s/it]"
     ]
    },
    {
     "name": "stdout",
     "output_type": "stream",
     "text": [
      "Processing url 274: https://auto.ru/cars/used/sale/mitsubishi/eclipse_cross/1114937670-b9774cb6/?geo_id=10174\n"
     ]
    },
    {
     "name": "stderr",
     "output_type": "stream",
     "text": [
      "\r",
      "274it [19:33,  4.20s/it]"
     ]
    },
    {
     "name": "stdout",
     "output_type": "stream",
     "text": [
      "Processing url 275: https://auto.ru/cars/used/sale/mitsubishi/galant/1114854868-9bbe852a/?geo_id=10174\n"
     ]
    },
    {
     "name": "stderr",
     "output_type": "stream",
     "text": [
      "\r",
      "275it [19:37,  4.37s/it]"
     ]
    },
    {
     "name": "stdout",
     "output_type": "stream",
     "text": [
      "Processing url 276: https://auto.ru/cars/used/sale/mitsubishi/asx/1114966024-b9fb560f/?geo_id=10174\n"
     ]
    },
    {
     "name": "stderr",
     "output_type": "stream",
     "text": [
      "\r",
      "276it [19:41,  4.24s/it]"
     ]
    },
    {
     "name": "stdout",
     "output_type": "stream",
     "text": [
      "Processing url 277: https://auto.ru/cars/used/sale/mitsubishi/outlander/1114588647-886eb062/?geo_id=10174\n"
     ]
    },
    {
     "name": "stderr",
     "output_type": "stream",
     "text": [
      "\r",
      "277it [19:46,  4.31s/it]"
     ]
    },
    {
     "name": "stdout",
     "output_type": "stream",
     "text": [
      "Processing url 278: https://auto.ru/cars/used/sale/mitsubishi/outlander/1114955292-9e0f10b3/?geo_id=10174\n"
     ]
    },
    {
     "name": "stderr",
     "output_type": "stream",
     "text": [
      "\r",
      "278it [19:50,  4.30s/it]"
     ]
    },
    {
     "name": "stdout",
     "output_type": "stream",
     "text": [
      "Processing url 279: https://auto.ru/cars/used/sale/mitsubishi/lancer/1114613614-dc6bb180/?geo_id=10174\n"
     ]
    },
    {
     "name": "stderr",
     "output_type": "stream",
     "text": [
      "\r",
      "279it [19:55,  4.36s/it]"
     ]
    },
    {
     "name": "stdout",
     "output_type": "stream",
     "text": [
      "Processing url 280: https://auto.ru/cars/used/sale/mitsubishi/pajero/1104974338-a6eba541/?geo_id=10174\n"
     ]
    },
    {
     "name": "stderr",
     "output_type": "stream",
     "text": [
      "\r",
      "280it [19:59,  4.31s/it]"
     ]
    },
    {
     "name": "stdout",
     "output_type": "stream",
     "text": [
      "Processing url 281: https://auto.ru/cars/used/sale/mitsubishi/pajero_sport/1103555371-682ce088/?geo_id=10174\n"
     ]
    },
    {
     "name": "stderr",
     "output_type": "stream",
     "text": [
      "\r",
      "281it [20:03,  4.22s/it]"
     ]
    },
    {
     "name": "stdout",
     "output_type": "stream",
     "text": [
      "Processing url 282: https://auto.ru/cars/used/sale/mitsubishi/pajero/1106193817-932cd1ff/?geo_id=10174\n"
     ]
    },
    {
     "name": "stderr",
     "output_type": "stream",
     "text": [
      "\r",
      "282it [20:07,  4.34s/it]"
     ]
    },
    {
     "name": "stdout",
     "output_type": "stream",
     "text": [
      "Processing url 283: https://auto.ru/cars/used/sale/mitsubishi/outlander/1114588633-e83cce2e/?geo_id=10174\n"
     ]
    },
    {
     "name": "stderr",
     "output_type": "stream",
     "text": [
      "\r",
      "283it [20:12,  4.40s/it]"
     ]
    },
    {
     "name": "stdout",
     "output_type": "stream",
     "text": [
      "Processing url 284: https://auto.ru/cars/used/sale/mitsubishi/outlander/1114955338-be963e24/?geo_id=10174\n"
     ]
    },
    {
     "name": "stderr",
     "output_type": "stream",
     "text": [
      "\r",
      "284it [20:16,  4.31s/it]"
     ]
    },
    {
     "name": "stdout",
     "output_type": "stream",
     "text": [
      "Processing url 285: https://auto.ru/cars/used/sale/mitsubishi/outlander/1106630442-2ffc32d5/?geo_id=10174\n"
     ]
    },
    {
     "name": "stderr",
     "output_type": "stream",
     "text": [
      "\r",
      "285it [20:20,  4.21s/it]"
     ]
    },
    {
     "name": "stdout",
     "output_type": "stream",
     "text": [
      "Processing url 286: https://auto.ru/cars/used/sale/mitsubishi/asx/1114938804-972dc8b6/?geo_id=10174\n"
     ]
    },
    {
     "name": "stderr",
     "output_type": "stream",
     "text": [
      "\r",
      "286it [20:24,  4.14s/it]"
     ]
    },
    {
     "name": "stdout",
     "output_type": "stream",
     "text": [
      "Processing url 287: https://auto.ru/cars/used/sale/mitsubishi/asx/1105837080-84e8be6c/?geo_id=10174\n"
     ]
    },
    {
     "name": "stderr",
     "output_type": "stream",
     "text": [
      "\r",
      "287it [20:29,  4.43s/it]"
     ]
    },
    {
     "name": "stdout",
     "output_type": "stream",
     "text": [
      "Processing url 288: https://auto.ru/cars/used/sale/mitsubishi/lancer/1106540749-725c819a/?geo_id=10174\n"
     ]
    },
    {
     "name": "stderr",
     "output_type": "stream",
     "text": [
      "\r",
      "288it [20:33,  4.35s/it]"
     ]
    },
    {
     "name": "stdout",
     "output_type": "stream",
     "text": [
      "Processing url 289: https://auto.ru/cars/used/sale/mitsubishi/outlander/1106328354-f38715f0/?geo_id=10174\n"
     ]
    },
    {
     "name": "stderr",
     "output_type": "stream",
     "text": [
      "\r",
      "289it [20:37,  4.32s/it]"
     ]
    },
    {
     "name": "stdout",
     "output_type": "stream",
     "text": [
      "Processing url 290: https://auto.ru/cars/used/sale/mitsubishi/lancer/1114932090-19aa0a72/?geo_id=10174\n"
     ]
    },
    {
     "name": "stderr",
     "output_type": "stream",
     "text": [
      "\r",
      "290it [20:42,  4.23s/it]"
     ]
    },
    {
     "name": "stdout",
     "output_type": "stream",
     "text": [
      "Processing url 291: https://auto.ru/cars/used/sale/mitsubishi/diamante/1104683614-92282b12/?geo_id=10174\n"
     ]
    },
    {
     "name": "stderr",
     "output_type": "stream",
     "text": [
      "\r",
      "291it [20:46,  4.37s/it]"
     ]
    },
    {
     "name": "stdout",
     "output_type": "stream",
     "text": [
      "Processing url 292: https://auto.ru/cars/used/sale/mitsubishi/outlander/1106630454-a41266e4/?geo_id=10174\n"
     ]
    },
    {
     "name": "stderr",
     "output_type": "stream",
     "text": [
      "\r",
      "292it [20:50,  4.26s/it]"
     ]
    },
    {
     "name": "stdout",
     "output_type": "stream",
     "text": [
      "Processing url 293: https://auto.ru/cars/used/sale/mitsubishi/pajero/1041017357-e9df/?geo_id=10174\n"
     ]
    },
    {
     "name": "stderr",
     "output_type": "stream",
     "text": [
      "\r",
      "293it [20:54,  4.16s/it]"
     ]
    },
    {
     "name": "stdout",
     "output_type": "stream",
     "text": [
      "Processing url 294: https://auto.ru/cars/used/sale/mitsubishi/asx/1114955359-ab8daeba/?geo_id=10174\n"
     ]
    },
    {
     "name": "stderr",
     "output_type": "stream",
     "text": [
      "\r",
      "294it [20:58,  4.20s/it]"
     ]
    },
    {
     "name": "stdout",
     "output_type": "stream",
     "text": [
      "Processing url 295: https://auto.ru/cars/used/sale/mitsubishi/lancer/1114896136-92419e67/?geo_id=10174\n"
     ]
    },
    {
     "name": "stderr",
     "output_type": "stream",
     "text": [
      "\r",
      "295it [21:03,  4.38s/it]"
     ]
    },
    {
     "name": "stdout",
     "output_type": "stream",
     "text": [
      "Processing url 296: https://auto.ru/cars/used/sale/mitsubishi/outlander/1114657516-1e3feffa/?geo_id=10174\n"
     ]
    },
    {
     "name": "stderr",
     "output_type": "stream",
     "text": [
      "\r",
      "296it [21:07,  4.31s/it]"
     ]
    },
    {
     "name": "stdout",
     "output_type": "stream",
     "text": [
      "Processing url 297: https://auto.ru/cars/used/sale/mitsubishi/lancer/1114937501-e1bba740/?geo_id=10174\n"
     ]
    },
    {
     "name": "stderr",
     "output_type": "stream",
     "text": [
      "\r",
      "297it [21:11,  4.18s/it]"
     ]
    },
    {
     "name": "stdout",
     "output_type": "stream",
     "text": [
      "Processing url 298: https://auto.ru/cars/used/sale/mitsubishi/lancer/1114761345-c7570e45/?geo_id=10174\n"
     ]
    },
    {
     "name": "stderr",
     "output_type": "stream",
     "text": [
      "\r",
      "298it [21:15,  4.14s/it]"
     ]
    },
    {
     "name": "stdout",
     "output_type": "stream",
     "text": [
      "Processing url 299: https://auto.ru/cars/used/sale/mitsubishi/lancer/1114955372-d40bc528/?geo_id=10174\n"
     ]
    },
    {
     "name": "stderr",
     "output_type": "stream",
     "text": [
      "\r",
      "299it [21:20,  4.26s/it]"
     ]
    },
    {
     "name": "stdout",
     "output_type": "stream",
     "text": [
      "Processing url 300: https://auto.ru/cars/used/sale/mitsubishi/pajero_sport/1105492783-3b79db8d/?geo_id=10174\n"
     ]
    },
    {
     "name": "stderr",
     "output_type": "stream",
     "text": [
      "\r",
      "300it [21:24,  4.24s/it]"
     ]
    },
    {
     "name": "stdout",
     "output_type": "stream",
     "text": [
      "Processing url 301: https://auto.ru/cars/used/sale/mitsubishi/lancer/1115162470-432dcf36/?geo_id=10174\n"
     ]
    },
    {
     "name": "stderr",
     "output_type": "stream",
     "text": [
      "\r",
      "301it [21:28,  4.15s/it]"
     ]
    },
    {
     "name": "stdout",
     "output_type": "stream",
     "text": [
      "Processing url 302: https://auto.ru/cars/used/sale/mitsubishi/lancer/1114750992-8d3c6210/?geo_id=10174\n"
     ]
    },
    {
     "name": "stderr",
     "output_type": "stream",
     "text": [
      "\r",
      "302it [21:32,  4.10s/it]"
     ]
    },
    {
     "name": "stdout",
     "output_type": "stream",
     "text": [
      "Processing url 303: https://auto.ru/cars/used/sale/mitsubishi/lancer/1114943324-acadf34d/?geo_id=10174\n"
     ]
    },
    {
     "name": "stderr",
     "output_type": "stream",
     "text": [
      "\r",
      "303it [21:37,  4.30s/it]"
     ]
    },
    {
     "name": "stdout",
     "output_type": "stream",
     "text": [
      "Processing url 304: https://auto.ru/cars/used/sale/mitsubishi/asx/1114836573-98d6050f/?geo_id=10174\n"
     ]
    },
    {
     "name": "stderr",
     "output_type": "stream",
     "text": [
      "\r",
      "304it [21:41,  4.26s/it]"
     ]
    },
    {
     "name": "stdout",
     "output_type": "stream",
     "text": [
      "Processing url 305: https://auto.ru/cars/used/sale/mitsubishi/asx/1114657169-c0ffded3/?geo_id=10174\n"
     ]
    },
    {
     "name": "stderr",
     "output_type": "stream",
     "text": [
      "\r",
      "305it [21:45,  4.15s/it]"
     ]
    },
    {
     "name": "stdout",
     "output_type": "stream",
     "text": [
      "Processing url 306: https://auto.ru/cars/used/sale/mitsubishi/lancer/1115097326-38cdc29b/?geo_id=10174\n"
     ]
    },
    {
     "name": "stderr",
     "output_type": "stream",
     "text": [
      "\r",
      "306it [21:49,  4.17s/it]"
     ]
    },
    {
     "name": "stdout",
     "output_type": "stream",
     "text": [
      "Processing url 307: https://auto.ru/cars/used/sale/mitsubishi/lancer/1114665408-8bc2dd2b/?geo_id=10174\n"
     ]
    },
    {
     "name": "stderr",
     "output_type": "stream",
     "text": [
      "\r",
      "307it [21:54,  4.29s/it]"
     ]
    },
    {
     "name": "stdout",
     "output_type": "stream",
     "text": [
      "Processing url 308: https://auto.ru/cars/used/sale/mitsubishi/l200/1106359538-4b54c56b/?geo_id=10174\n"
     ]
    },
    {
     "name": "stderr",
     "output_type": "stream",
     "text": [
      "\r",
      "308it [21:58,  4.20s/it]"
     ]
    },
    {
     "name": "stdout",
     "output_type": "stream",
     "text": [
      "Processing url 309: https://auto.ru/cars/used/sale/mitsubishi/asx/1114997348-781e8892/?geo_id=10174\n"
     ]
    },
    {
     "name": "stderr",
     "output_type": "stream",
     "text": [
      "\r",
      "309it [22:01,  4.09s/it]"
     ]
    },
    {
     "name": "stdout",
     "output_type": "stream",
     "text": [
      "Processing url 310: https://auto.ru/cars/used/sale/mitsubishi/outlander/1114724806-040a044e/?geo_id=10174\n"
     ]
    },
    {
     "name": "stderr",
     "output_type": "stream",
     "text": [
      "\r",
      "310it [22:06,  4.12s/it]"
     ]
    },
    {
     "name": "stdout",
     "output_type": "stream",
     "text": [
      "Processing url 311: https://auto.ru/cars/used/sale/mitsubishi/outlander/1115194482-cdd21b80/?geo_id=10174\n"
     ]
    },
    {
     "name": "stderr",
     "output_type": "stream",
     "text": [
      "\r",
      "311it [22:10,  4.28s/it]"
     ]
    },
    {
     "name": "stdout",
     "output_type": "stream",
     "text": [
      "Processing url 312: https://auto.ru/cars/used/sale/mitsubishi/outlander/1115194479-029b3825/?geo_id=10174\n"
     ]
    },
    {
     "name": "stderr",
     "output_type": "stream",
     "text": [
      "\r",
      "312it [22:14,  4.19s/it]"
     ]
    },
    {
     "name": "stdout",
     "output_type": "stream",
     "text": [
      "Processing url 313: https://auto.ru/cars/used/sale/mitsubishi/outlander/1115194478-89b3ae10/?geo_id=10174\n"
     ]
    },
    {
     "name": "stderr",
     "output_type": "stream",
     "text": [
      "\r",
      "313it [22:18,  4.13s/it]"
     ]
    },
    {
     "name": "stdout",
     "output_type": "stream",
     "text": [
      "Processing url 314: https://auto.ru/cars/used/sale/mitsubishi/lancer/1114914858-4c4263d2/?geo_id=10174\n"
     ]
    },
    {
     "name": "stderr",
     "output_type": "stream",
     "text": [
      "\r",
      "314it [22:22,  4.09s/it]"
     ]
    },
    {
     "name": "stdout",
     "output_type": "stream",
     "text": [
      "Processing url 315: https://auto.ru/cars/used/sale/mitsubishi/outlander/1106050971-83f12dca/?geo_id=10174\n"
     ]
    },
    {
     "name": "stderr",
     "output_type": "stream",
     "text": [
      "\r",
      "315it [22:27,  4.28s/it]"
     ]
    },
    {
     "name": "stdout",
     "output_type": "stream",
     "text": [
      "Processing url 316: https://auto.ru/cars/used/sale/mitsubishi/lancer/1115043974-d31b255b/?geo_id=10174\n"
     ]
    },
    {
     "name": "stderr",
     "output_type": "stream",
     "text": [
      "\r",
      "316it [22:31,  4.20s/it]"
     ]
    },
    {
     "name": "stdout",
     "output_type": "stream",
     "text": [
      "Processing url 317: https://auto.ru/cars/used/sale/mitsubishi/outlander/1115191173-963a5078/?geo_id=10174\n"
     ]
    },
    {
     "name": "stderr",
     "output_type": "stream",
     "text": [
      "\r",
      "317it [22:35,  4.12s/it]"
     ]
    },
    {
     "name": "stdout",
     "output_type": "stream",
     "text": [
      "Processing url 318: https://auto.ru/cars/used/sale/mitsubishi/asx/1105093299-33d8cd52/?geo_id=10174\n"
     ]
    },
    {
     "name": "stderr",
     "output_type": "stream",
     "text": [
      "\r",
      "318it [22:39,  4.09s/it]"
     ]
    },
    {
     "name": "stdout",
     "output_type": "stream",
     "text": [
      "Processing url 319: https://auto.ru/cars/used/sale/mitsubishi/outlander/1114689396-6a47375e/?geo_id=10174\n"
     ]
    },
    {
     "name": "stderr",
     "output_type": "stream",
     "text": [
      "\r",
      "319it [22:43,  4.22s/it]"
     ]
    },
    {
     "name": "stdout",
     "output_type": "stream",
     "text": [
      "Processing url 320: https://auto.ru/cars/used/sale/mitsubishi/lancer/1115191179-14159613/?geo_id=10174\n"
     ]
    },
    {
     "name": "stderr",
     "output_type": "stream",
     "text": [
      "\r",
      "320it [22:47,  4.13s/it]"
     ]
    },
    {
     "name": "stdout",
     "output_type": "stream",
     "text": [
      "Processing url 321: https://auto.ru/cars/used/sale/mitsubishi/lancer/1115164719-ed70c246/?geo_id=10174\n"
     ]
    },
    {
     "name": "stderr",
     "output_type": "stream",
     "text": [
      "\r",
      "321it [22:51,  4.13s/it]"
     ]
    },
    {
     "name": "stdout",
     "output_type": "stream",
     "text": [
      "Processing url 322: https://auto.ru/cars/used/sale/mitsubishi/lancer/1115161609-3a27a4dc/?geo_id=10174\n"
     ]
    },
    {
     "name": "stderr",
     "output_type": "stream",
     "text": [
      "\r",
      "322it [22:56,  4.16s/it]"
     ]
    },
    {
     "name": "stdout",
     "output_type": "stream",
     "text": [
      "Processing url 323: https://auto.ru/cars/used/sale/mitsubishi/colt/1115186177-a2e5075b/?geo_id=10174\n"
     ]
    },
    {
     "name": "stderr",
     "output_type": "stream",
     "text": [
      "\r",
      "323it [23:00,  4.31s/it]"
     ]
    },
    {
     "name": "stdout",
     "output_type": "stream",
     "text": [
      "Processing url 324: https://auto.ru/cars/used/sale/mitsubishi/outlander/1115023707-0ac68cff/?geo_id=10174\n"
     ]
    },
    {
     "name": "stderr",
     "output_type": "stream",
     "text": [
      "\r",
      "324it [23:04,  4.14s/it]"
     ]
    },
    {
     "name": "stdout",
     "output_type": "stream",
     "text": [
      "Processing url 325: https://auto.ru/cars/used/sale/mitsubishi/outlander/1106660911-341c39b9/?geo_id=10174\n"
     ]
    },
    {
     "name": "stderr",
     "output_type": "stream",
     "text": [
      "\r",
      "325it [23:08,  4.13s/it]"
     ]
    },
    {
     "name": "stdout",
     "output_type": "stream",
     "text": [
      "Processing url 326: https://auto.ru/cars/used/sale/mitsubishi/pajero/1105944565-20af1abc/?geo_id=10174\n"
     ]
    },
    {
     "name": "stderr",
     "output_type": "stream",
     "text": [
      "\r",
      "326it [23:12,  4.07s/it]"
     ]
    },
    {
     "name": "stdout",
     "output_type": "stream",
     "text": [
      "Processing url 327: https://auto.ru/cars/used/sale/mitsubishi/pajero_sport/1115018409-1d56cf13/?geo_id=10174\n"
     ]
    },
    {
     "name": "stderr",
     "output_type": "stream",
     "text": [
      "\r",
      "327it [23:16,  4.00s/it]"
     ]
    },
    {
     "name": "stdout",
     "output_type": "stream",
     "text": [
      "Processing url 328: https://auto.ru/cars/used/sale/mitsubishi/asx/1114978451-e45c7985/?geo_id=10174\n"
     ]
    },
    {
     "name": "stderr",
     "output_type": "stream",
     "text": [
      "\r",
      "328it [23:20,  4.14s/it]"
     ]
    },
    {
     "name": "stdout",
     "output_type": "stream",
     "text": [
      "Processing url 329: https://auto.ru/cars/used/sale/mitsubishi/eclipse_cross/1114672667-c4f0d05b/?geo_id=10174\n"
     ]
    },
    {
     "name": "stderr",
     "output_type": "stream",
     "text": [
      "\r",
      "329it [23:24,  4.10s/it]"
     ]
    },
    {
     "name": "stdout",
     "output_type": "stream",
     "text": [
      "Processing url 330: https://auto.ru/cars/used/sale/mitsubishi/pajero_sport/1114634721-875cf867/?geo_id=10174\n"
     ]
    },
    {
     "name": "stderr",
     "output_type": "stream",
     "text": [
      "\r",
      "330it [23:28,  4.06s/it]"
     ]
    },
    {
     "name": "stdout",
     "output_type": "stream",
     "text": [
      "Processing url 331: https://auto.ru/cars/used/sale/mitsubishi/outlander/1114589193-542f4d72/?geo_id=10174\n"
     ]
    },
    {
     "name": "stderr",
     "output_type": "stream",
     "text": [
      "\r",
      "331it [23:32,  4.02s/it]"
     ]
    },
    {
     "name": "stdout",
     "output_type": "stream",
     "text": [
      "Processing url 332: https://auto.ru/cars/used/sale/mitsubishi/outlander/1114998717-c3b0a6a1/?geo_id=10174\n"
     ]
    },
    {
     "name": "stderr",
     "output_type": "stream",
     "text": [
      "\r",
      "332it [23:37,  4.18s/it]"
     ]
    },
    {
     "name": "stdout",
     "output_type": "stream",
     "text": [
      "Processing url 333: https://auto.ru/cars/used/sale/mitsubishi/lancer/1114968930-09891a25/?geo_id=10174\n"
     ]
    },
    {
     "name": "stderr",
     "output_type": "stream",
     "text": [
      "\r",
      "333it [23:41,  4.16s/it]"
     ]
    },
    {
     "name": "stdout",
     "output_type": "stream",
     "text": [
      "Processing url 334: https://auto.ru/cars/used/sale/mitsubishi/outlander/1115145900-f0d7e468/?geo_id=10174\n"
     ]
    },
    {
     "name": "stderr",
     "output_type": "stream",
     "text": [
      "\r",
      "334it [23:45,  4.22s/it]"
     ]
    },
    {
     "name": "stdout",
     "output_type": "stream",
     "text": [
      "Processing url 335: https://auto.ru/cars/used/sale/mitsubishi/galant/1114672995-c749509a/?geo_id=10174\n"
     ]
    },
    {
     "name": "stderr",
     "output_type": "stream",
     "text": [
      "\r",
      "335it [23:49,  4.10s/it]"
     ]
    },
    {
     "name": "stdout",
     "output_type": "stream",
     "text": [
      "Processing url 336: https://auto.ru/cars/used/sale/mitsubishi/lancer/1105693478-a3537474/?geo_id=10174\n"
     ]
    },
    {
     "name": "stderr",
     "output_type": "stream",
     "text": [
      "\r",
      "336it [23:54,  4.22s/it]"
     ]
    },
    {
     "name": "stdout",
     "output_type": "stream",
     "text": [
      "Processing url 337: https://auto.ru/cars/used/sale/mitsubishi/outlander/1114994274-38fd640b/?geo_id=10174\n"
     ]
    },
    {
     "name": "stderr",
     "output_type": "stream",
     "text": [
      "\r",
      "337it [23:58,  4.20s/it]"
     ]
    },
    {
     "name": "stdout",
     "output_type": "stream",
     "text": [
      "Processing url 338: https://auto.ru/cars/used/sale/mitsubishi/outlander/1115044476-ba8fbe2d/?geo_id=10174\n"
     ]
    },
    {
     "name": "stderr",
     "output_type": "stream",
     "text": [
      "\r",
      "338it [24:03,  4.35s/it]"
     ]
    },
    {
     "name": "stdout",
     "output_type": "stream",
     "text": [
      "Processing url 339: https://auto.ru/cars/used/sale/mitsubishi/asx/1114828342-b3ec9a01/?geo_id=10174\n"
     ]
    },
    {
     "name": "stderr",
     "output_type": "stream",
     "text": [
      "\r",
      "339it [24:07,  4.30s/it]"
     ]
    },
    {
     "name": "stdout",
     "output_type": "stream",
     "text": [
      "Processing url 340: https://auto.ru/cars/used/sale/mitsubishi/lancer/1114646019-197fda77/?geo_id=10174\n"
     ]
    },
    {
     "name": "stderr",
     "output_type": "stream",
     "text": [
      "\r",
      "340it [24:11,  4.32s/it]"
     ]
    },
    {
     "name": "stdout",
     "output_type": "stream",
     "text": [
      "Processing url 341: https://auto.ru/cars/used/sale/mitsubishi/lancer/1114793361-561b0f4e/?geo_id=10174\n"
     ]
    },
    {
     "name": "stderr",
     "output_type": "stream",
     "text": [
      "\r",
      "341it [24:15,  4.20s/it]"
     ]
    },
    {
     "name": "stdout",
     "output_type": "stream",
     "text": [
      "Processing url 342: https://auto.ru/cars/used/sale/mitsubishi/outlander/1114789768-ce5a3aa2/?geo_id=10174\n"
     ]
    },
    {
     "name": "stderr",
     "output_type": "stream",
     "text": [
      "\r",
      "342it [24:19,  4.17s/it]"
     ]
    },
    {
     "name": "stdout",
     "output_type": "stream",
     "text": [
      "Processing url 343: https://auto.ru/cars/used/sale/mitsubishi/pajero_sport/1115021691-f9bb2aa0/?geo_id=10174\n"
     ]
    },
    {
     "name": "stderr",
     "output_type": "stream",
     "text": [
      "\r",
      "343it [24:23,  4.20s/it]"
     ]
    },
    {
     "name": "stdout",
     "output_type": "stream",
     "text": [
      "Processing url 344: https://auto.ru/cars/used/sale/mitsubishi/outlander/1115089359-b5dcd439/?geo_id=10174\n"
     ]
    },
    {
     "name": "stderr",
     "output_type": "stream",
     "text": [
      "\r",
      "344it [24:28,  4.33s/it]"
     ]
    },
    {
     "name": "stdout",
     "output_type": "stream",
     "text": [
      "Processing url 345: https://auto.ru/cars/used/sale/mitsubishi/outlander/1114847174-d7c1f23d/?geo_id=10174\n"
     ]
    },
    {
     "name": "stderr",
     "output_type": "stream",
     "text": [
      "\r",
      "345it [24:32,  4.22s/it]"
     ]
    },
    {
     "name": "stdout",
     "output_type": "stream",
     "text": [
      "Processing url 346: https://auto.ru/cars/used/sale/mitsubishi/asx/1114720694-dd3a2abe/?geo_id=10174\n"
     ]
    },
    {
     "name": "stderr",
     "output_type": "stream",
     "text": [
      "\r",
      "346it [24:36,  4.22s/it]"
     ]
    },
    {
     "name": "stdout",
     "output_type": "stream",
     "text": [
      "Processing url 347: https://auto.ru/cars/used/sale/mitsubishi/pajero_sport/1106696092-372a60a4/?geo_id=10174\n"
     ]
    },
    {
     "name": "stderr",
     "output_type": "stream",
     "text": [
      "\r",
      "347it [24:40,  4.17s/it]"
     ]
    },
    {
     "name": "stdout",
     "output_type": "stream",
     "text": [
      "Processing url 348: https://auto.ru/cars/used/sale/mitsubishi/outlander/1106593645-dea92723/?geo_id=10174\n"
     ]
    },
    {
     "name": "stderr",
     "output_type": "stream",
     "text": [
      "\r",
      "348it [24:45,  4.27s/it]"
     ]
    },
    {
     "name": "stdout",
     "output_type": "stream",
     "text": [
      "Processing url 349: https://auto.ru/cars/used/sale/mitsubishi/colt/1114867778-3f911ec4/?geo_id=10174\n"
     ]
    },
    {
     "name": "stderr",
     "output_type": "stream",
     "text": [
      "\r",
      "349it [24:49,  4.15s/it]"
     ]
    },
    {
     "name": "stdout",
     "output_type": "stream",
     "text": [
      "Processing url 350: https://auto.ru/cars/used/sale/mitsubishi/outlander/1115133262-fbeef5fa/?geo_id=10174\n"
     ]
    },
    {
     "name": "stderr",
     "output_type": "stream",
     "text": [
      "\r",
      "350it [24:53,  4.07s/it]"
     ]
    },
    {
     "name": "stdout",
     "output_type": "stream",
     "text": [
      "Processing url 351: https://auto.ru/cars/used/sale/mitsubishi/pajero_sport/1114898563-20a608b7/?geo_id=10174\n"
     ]
    },
    {
     "name": "stderr",
     "output_type": "stream",
     "text": [
      "\r",
      "351it [24:56,  3.98s/it]"
     ]
    },
    {
     "name": "stdout",
     "output_type": "stream",
     "text": [
      "Processing url 352: https://auto.ru/cars/used/sale/mitsubishi/lancer/1115106605-76e748a9/?geo_id=10174\n"
     ]
    },
    {
     "name": "stderr",
     "output_type": "stream",
     "text": [
      "\r",
      "352it [25:01,  4.25s/it]"
     ]
    },
    {
     "name": "stdout",
     "output_type": "stream",
     "text": [
      "Processing url 353: https://auto.ru/cars/used/sale/mitsubishi/outlander/1115065072-331d9902/?geo_id=10174\n"
     ]
    },
    {
     "name": "stderr",
     "output_type": "stream",
     "text": [
      "\r",
      "353it [25:05,  4.27s/it]"
     ]
    },
    {
     "name": "stdout",
     "output_type": "stream",
     "text": [
      "Processing url 354: https://auto.ru/cars/used/sale/mitsubishi/outlander/1105949701-f9122311/?geo_id=10174\n"
     ]
    },
    {
     "name": "stderr",
     "output_type": "stream",
     "text": [
      "\r",
      "354it [25:10,  4.25s/it]"
     ]
    },
    {
     "name": "stdout",
     "output_type": "stream",
     "text": [
      "Processing url 355: https://auto.ru/cars/used/sale/mitsubishi/outlander/1114984067-57f11d16/?geo_id=10174\n"
     ]
    },
    {
     "name": "stderr",
     "output_type": "stream",
     "text": [
      "\r",
      "355it [25:14,  4.31s/it]"
     ]
    },
    {
     "name": "stdout",
     "output_type": "stream",
     "text": [
      "Processing url 356: https://auto.ru/cars/used/sale/mitsubishi/pajero_sport/1114868241-654fd0be/?geo_id=10174\n"
     ]
    },
    {
     "name": "stderr",
     "output_type": "stream",
     "text": [
      "\r",
      "356it [25:19,  4.43s/it]"
     ]
    },
    {
     "name": "stdout",
     "output_type": "stream",
     "text": [
      "Processing url 357: https://auto.ru/cars/used/sale/mitsubishi/pajero/1115146708-f93e5e26/?geo_id=10174\n"
     ]
    },
    {
     "name": "stderr",
     "output_type": "stream",
     "text": [
      "\r",
      "357it [25:23,  4.35s/it]"
     ]
    },
    {
     "name": "stdout",
     "output_type": "stream",
     "text": [
      "Processing url 358: https://auto.ru/cars/used/sale/mitsubishi/asx/1115074987-f4f4a2ee/?geo_id=10174\n"
     ]
    },
    {
     "name": "stderr",
     "output_type": "stream",
     "text": [
      "\r",
      "358it [25:27,  4.25s/it]"
     ]
    },
    {
     "name": "stdout",
     "output_type": "stream",
     "text": [
      "Processing url 359: https://auto.ru/cars/used/sale/mitsubishi/pajero/1115017506-0681854e/?geo_id=10174\n"
     ]
    },
    {
     "name": "stderr",
     "output_type": "stream",
     "text": [
      "\r",
      "359it [25:31,  4.21s/it]"
     ]
    },
    {
     "name": "stdout",
     "output_type": "stream",
     "text": [
      "Processing url 360: https://auto.ru/cars/used/sale/mitsubishi/pajero_sport/1105949825-659f78af/?geo_id=10174\n"
     ]
    },
    {
     "name": "stderr",
     "output_type": "stream",
     "text": [
      "\r",
      "360it [25:32,  3.27s/it]"
     ]
    },
    {
     "name": "stdout",
     "output_type": "stream",
     "text": [
      "Error 404\r",
      "Processing url 361: https://auto.ru/cars/used/sale/mitsubishi/lancer/1115174108-14c076ac/?geo_id=10174\n"
     ]
    },
    {
     "name": "stderr",
     "output_type": "stream",
     "text": [
      "\r",
      "361it [25:36,  3.55s/it]"
     ]
    },
    {
     "name": "stdout",
     "output_type": "stream",
     "text": [
      "Processing url 362: https://auto.ru/cars/used/sale/mitsubishi/pajero_sport/1114971160-09111e01/?geo_id=10174\n"
     ]
    },
    {
     "name": "stderr",
     "output_type": "stream",
     "text": [
      "\r",
      "362it [25:40,  3.69s/it]"
     ]
    },
    {
     "name": "stdout",
     "output_type": "stream",
     "text": [
      "Processing url 363: https://auto.ru/cars/used/sale/mitsubishi/galant/1114995261-76064313/?geo_id=10174\n"
     ]
    },
    {
     "name": "stderr",
     "output_type": "stream",
     "text": [
      "\r",
      "363it [25:45,  3.88s/it]"
     ]
    },
    {
     "name": "stdout",
     "output_type": "stream",
     "text": [
      "Processing url 364: https://auto.ru/cars/used/sale/mitsubishi/asx/1115117157-8c9892c2/?geo_id=10174\n"
     ]
    },
    {
     "name": "stderr",
     "output_type": "stream",
     "text": [
      "\r",
      "364it [25:49,  3.85s/it]"
     ]
    },
    {
     "name": "stdout",
     "output_type": "stream",
     "text": [
      "Processing url 365: https://auto.ru/cars/used/sale/mitsubishi/lancer/1114951594-f1b473fd/?geo_id=10174\n"
     ]
    },
    {
     "name": "stderr",
     "output_type": "stream",
     "text": [
      "\r",
      "365it [25:53,  4.04s/it]"
     ]
    },
    {
     "name": "stdout",
     "output_type": "stream",
     "text": [
      "Processing url 366: https://auto.ru/cars/used/sale/mitsubishi/outlander/1105868199-5998c8d3/?geo_id=10174\n"
     ]
    },
    {
     "name": "stderr",
     "output_type": "stream",
     "text": [
      "\r",
      "366it [25:57,  4.13s/it]"
     ]
    },
    {
     "name": "stdout",
     "output_type": "stream",
     "text": [
      "Processing url 367: https://auto.ru/cars/used/sale/mitsubishi/asx/1114694283-454e5d1a/?geo_id=10174\n"
     ]
    },
    {
     "name": "stderr",
     "output_type": "stream",
     "text": [
      "\r",
      "367it [26:02,  4.16s/it]"
     ]
    },
    {
     "name": "stdout",
     "output_type": "stream",
     "text": [
      "Processing url 368: https://auto.ru/cars/used/sale/mitsubishi/outlander/1106564166-cf605dbe/?geo_id=10174\n"
     ]
    },
    {
     "name": "stderr",
     "output_type": "stream",
     "text": [
      "\r",
      "368it [26:06,  4.30s/it]"
     ]
    },
    {
     "name": "stdout",
     "output_type": "stream",
     "text": [
      "Processing url 369: https://auto.ru/cars/used/sale/mitsubishi/l200/1115128313-3e10071d/?geo_id=10174\n"
     ]
    },
    {
     "name": "stderr",
     "output_type": "stream",
     "text": [
      "\r",
      "369it [26:12,  4.71s/it]"
     ]
    },
    {
     "name": "stdout",
     "output_type": "stream",
     "text": [
      "Processing url 370: https://auto.ru/cars/used/sale/mitsubishi/outlander/1115072886-b65f9777/?geo_id=10174\n"
     ]
    },
    {
     "name": "stderr",
     "output_type": "stream",
     "text": [
      "\r",
      "370it [26:16,  4.54s/it]"
     ]
    },
    {
     "name": "stdout",
     "output_type": "stream",
     "text": [
      "Processing url 371: https://auto.ru/cars/used/sale/mitsubishi/pajero_sport/1105949824-61a81d13/?geo_id=10174\n"
     ]
    },
    {
     "name": "stderr",
     "output_type": "stream",
     "text": [
      "\r",
      "371it [26:20,  4.49s/it]"
     ]
    },
    {
     "name": "stdout",
     "output_type": "stream",
     "text": [
      "Processing url 372: https://auto.ru/cars/used/sale/mitsubishi/galant/1114962377-1d762814/?geo_id=10174\n"
     ]
    },
    {
     "name": "stderr",
     "output_type": "stream",
     "text": [
      "\r",
      "372it [26:24,  4.31s/it]"
     ]
    },
    {
     "name": "stdout",
     "output_type": "stream",
     "text": [
      "Processing url 373: https://auto.ru/cars/used/sale/mitsubishi/pajero/1115125406-3021aea2/?geo_id=10174\n"
     ]
    },
    {
     "name": "stderr",
     "output_type": "stream",
     "text": [
      "\r",
      "373it [26:29,  4.45s/it]"
     ]
    },
    {
     "name": "stdout",
     "output_type": "stream",
     "text": [
      "Processing url 374: https://auto.ru/cars/used/sale/mitsubishi/outlander/1115125722-45d6c979/?geo_id=10174\n"
     ]
    },
    {
     "name": "stderr",
     "output_type": "stream",
     "text": [
      "\r",
      "374it [26:33,  4.42s/it]"
     ]
    },
    {
     "name": "stdout",
     "output_type": "stream",
     "text": [
      "Processing url 375: https://auto.ru/cars/used/sale/mitsubishi/asx/1115125324-09ae9eb7/?geo_id=10174\n"
     ]
    },
    {
     "name": "stderr",
     "output_type": "stream",
     "text": [
      "\r",
      "375it [26:38,  4.38s/it]"
     ]
    },
    {
     "name": "stdout",
     "output_type": "stream",
     "text": [
      "Processing url 376: https://auto.ru/cars/used/sale/mitsubishi/asx/1114970070-fd212241/?geo_id=10174\n"
     ]
    },
    {
     "name": "stderr",
     "output_type": "stream",
     "text": [
      "\r",
      "376it [26:42,  4.24s/it]"
     ]
    },
    {
     "name": "stdout",
     "output_type": "stream",
     "text": [
      "Processing url 377: https://auto.ru/cars/used/sale/mitsubishi/outlander/1114960496-1199e6b7/?geo_id=10174\n"
     ]
    },
    {
     "name": "stderr",
     "output_type": "stream",
     "text": [
      "\r",
      "377it [26:46,  4.27s/it]"
     ]
    },
    {
     "name": "stdout",
     "output_type": "stream",
     "text": [
      "Processing url 378: https://auto.ru/cars/used/sale/mitsubishi/pajero_sport/1106692672-a90c85f9/?geo_id=10174\n"
     ]
    },
    {
     "name": "stderr",
     "output_type": "stream",
     "text": [
      "\r",
      "378it [26:51,  4.51s/it]"
     ]
    },
    {
     "name": "stdout",
     "output_type": "stream",
     "text": [
      "Processing url 379: https://auto.ru/cars/used/sale/mitsubishi/outlander/1106689287-a5538da2/?geo_id=10174\n"
     ]
    },
    {
     "name": "stderr",
     "output_type": "stream",
     "text": [
      "\r",
      "379it [26:55,  4.27s/it]"
     ]
    },
    {
     "name": "stdout",
     "output_type": "stream",
     "text": [
      "Processing url 380: https://auto.ru/cars/used/sale/mitsubishi/pajero_sport/1106544683-2cae0ec0/?geo_id=10174\n"
     ]
    },
    {
     "name": "stderr",
     "output_type": "stream",
     "text": [
      "\r",
      "380it [26:59,  4.17s/it]"
     ]
    },
    {
     "name": "stdout",
     "output_type": "stream",
     "text": [
      "Processing url 381: https://auto.ru/cars/used/sale/mitsubishi/lancer/1114779385-c54c1edd/?geo_id=10174\n"
     ]
    },
    {
     "name": "stderr",
     "output_type": "stream",
     "text": [
      "\r",
      "381it [27:03,  4.13s/it]"
     ]
    },
    {
     "name": "stdout",
     "output_type": "stream",
     "text": [
      "Processing url 382: https://auto.ru/cars/used/sale/mitsubishi/asx/1105487197-c2bb2a25/?geo_id=10174\n"
     ]
    },
    {
     "name": "stderr",
     "output_type": "stream",
     "text": [
      "\r",
      "382it [27:06,  4.00s/it]"
     ]
    },
    {
     "name": "stdout",
     "output_type": "stream",
     "text": [
      "Processing url 383: https://auto.ru/cars/used/sale/mitsubishi/asx/1115038989-2643e458/?geo_id=10174\n"
     ]
    },
    {
     "name": "stderr",
     "output_type": "stream",
     "text": [
      "\r",
      "383it [27:10,  4.02s/it]"
     ]
    },
    {
     "name": "stdout",
     "output_type": "stream",
     "text": [
      "Processing url 384: https://auto.ru/cars/used/sale/mitsubishi/outlander/1106679761-83b4ab57/?geo_id=10174\n"
     ]
    },
    {
     "name": "stderr",
     "output_type": "stream",
     "text": [
      "\r",
      "384it [27:16,  4.39s/it]"
     ]
    },
    {
     "name": "stdout",
     "output_type": "stream",
     "text": [
      "Processing url 385: https://auto.ru/cars/used/sale/mitsubishi/outlander/1106682945-3f5c92e8/?geo_id=10174\n"
     ]
    },
    {
     "name": "stderr",
     "output_type": "stream",
     "text": [
      "\r",
      "385it [27:20,  4.32s/it]"
     ]
    },
    {
     "name": "stdout",
     "output_type": "stream",
     "text": [
      "Processing url 386: https://auto.ru/cars/used/sale/mitsubishi/outlander/1114912696-8444a1b8/?geo_id=10174\n"
     ]
    },
    {
     "name": "stderr",
     "output_type": "stream",
     "text": [
      "\r",
      "386it [27:24,  4.30s/it]"
     ]
    },
    {
     "name": "stdout",
     "output_type": "stream",
     "text": [
      "Processing url 387: https://auto.ru/cars/used/sale/mitsubishi/outlander/1114912687-b527ace7/?geo_id=10174\n"
     ]
    },
    {
     "name": "stderr",
     "output_type": "stream",
     "text": [
      "\r",
      "387it [27:28,  4.15s/it]"
     ]
    },
    {
     "name": "stdout",
     "output_type": "stream",
     "text": [
      "Processing url 388: https://auto.ru/cars/used/sale/mitsubishi/diamante/1105877144-5c037dcb/?geo_id=10174\n"
     ]
    },
    {
     "name": "stderr",
     "output_type": "stream",
     "text": [
      "\r",
      "388it [27:32,  4.07s/it]"
     ]
    },
    {
     "name": "stdout",
     "output_type": "stream",
     "text": [
      "Processing url 389: https://auto.ru/cars/used/sale/mitsubishi/pajero_io/1114769778-2ae070c9/?geo_id=10174\n"
     ]
    },
    {
     "name": "stderr",
     "output_type": "stream",
     "text": [
      "\r",
      "389it [27:36,  4.14s/it]"
     ]
    },
    {
     "name": "stdout",
     "output_type": "stream",
     "text": [
      "Processing url 390: https://auto.ru/cars/used/sale/mitsubishi/lancer/1114845051-3f1a777c/?geo_id=10174\n"
     ]
    },
    {
     "name": "stderr",
     "output_type": "stream",
     "text": [
      "\r",
      "390it [27:40,  4.10s/it]"
     ]
    },
    {
     "name": "stdout",
     "output_type": "stream",
     "text": [
      "Processing url 391: https://auto.ru/cars/used/sale/mitsubishi/outlander/1114912665-ece28552/?geo_id=10174\n"
     ]
    },
    {
     "name": "stderr",
     "output_type": "stream",
     "text": [
      "\r",
      "391it [27:46,  4.49s/it]"
     ]
    },
    {
     "name": "stdout",
     "output_type": "stream",
     "text": [
      "Processing url 392: https://auto.ru/cars/used/sale/mitsubishi/asx/1115089357-4bad9efc/?geo_id=10174\n"
     ]
    },
    {
     "name": "stderr",
     "output_type": "stream",
     "text": [
      "\r",
      "392it [27:50,  4.40s/it]"
     ]
    },
    {
     "name": "stdout",
     "output_type": "stream",
     "text": [
      "Processing url 393: https://auto.ru/cars/used/sale/mitsubishi/outlander/1115158727-fb4110ee/?geo_id=10174\n"
     ]
    },
    {
     "name": "stderr",
     "output_type": "stream",
     "text": [
      "\r",
      "393it [27:54,  4.25s/it]"
     ]
    },
    {
     "name": "stdout",
     "output_type": "stream",
     "text": [
      "Processing url 394: https://auto.ru/cars/used/sale/mitsubishi/outlander/1115074986-06501208/?geo_id=10174\n"
     ]
    },
    {
     "name": "stderr",
     "output_type": "stream",
     "text": [
      "\r",
      "394it [27:58,  4.28s/it]"
     ]
    },
    {
     "name": "stdout",
     "output_type": "stream",
     "text": [
      "Processing url 395: https://auto.ru/cars/used/sale/mitsubishi/outlander/1115086543-733c2b2f/?geo_id=10174\n"
     ]
    },
    {
     "name": "stderr",
     "output_type": "stream",
     "text": [
      "\r",
      "395it [28:02,  4.19s/it]"
     ]
    },
    {
     "name": "stdout",
     "output_type": "stream",
     "text": [
      "Processing url 396: https://auto.ru/cars/used/sale/mitsubishi/lancer/1115065505-cb489701/?geo_id=10174\n"
     ]
    },
    {
     "name": "stderr",
     "output_type": "stream",
     "text": [
      "\r",
      "396it [28:07,  4.47s/it]"
     ]
    },
    {
     "name": "stdout",
     "output_type": "stream",
     "text": [
      "Processing url 397: https://auto.ru/cars/used/sale/mitsubishi/lancer/1114845052-e01b3902/?geo_id=10174\n"
     ]
    },
    {
     "name": "stderr",
     "output_type": "stream",
     "text": [
      "\r",
      "397it [28:08,  3.40s/it]"
     ]
    },
    {
     "name": "stdout",
     "output_type": "stream",
     "text": [
      "Error 404\r",
      "Processing url 398: https://auto.ru/cars/used/sale/mitsubishi/outlander/1106569454-0e1e0cc5/?geo_id=10174\n"
     ]
    },
    {
     "name": "stderr",
     "output_type": "stream",
     "text": [
      "\r",
      "398it [28:12,  3.61s/it]"
     ]
    },
    {
     "name": "stdout",
     "output_type": "stream",
     "text": [
      "Processing url 399: https://auto.ru/cars/used/sale/mitsubishi/asx/1115027506-26b902d9/?geo_id=10174\n"
     ]
    },
    {
     "name": "stderr",
     "output_type": "stream",
     "text": [
      "\r",
      "399it [28:16,  3.74s/it]"
     ]
    },
    {
     "name": "stdout",
     "output_type": "stream",
     "text": [
      "Processing url 400: https://auto.ru/cars/used/sale/mitsubishi/outlander/1115052307-0b761e27/?geo_id=10174\n"
     ]
    },
    {
     "name": "stderr",
     "output_type": "stream",
     "text": [
      "\r",
      "400it [28:20,  3.87s/it]"
     ]
    },
    {
     "name": "stdout",
     "output_type": "stream",
     "text": [
      "Processing url 401: https://auto.ru/cars/used/sale/mitsubishi/lancer/1114944306-62bea74c/?geo_id=10174\n"
     ]
    },
    {
     "name": "stderr",
     "output_type": "stream",
     "text": [
      "\r",
      "401it [28:25,  4.13s/it]"
     ]
    },
    {
     "name": "stdout",
     "output_type": "stream",
     "text": [
      "Processing url 402: https://auto.ru/cars/used/sale/mitsubishi/rvr/1105994710-230a9a19/?geo_id=10174\n"
     ]
    },
    {
     "name": "stderr",
     "output_type": "stream",
     "text": [
      "\r",
      "402it [28:29,  4.14s/it]"
     ]
    },
    {
     "name": "stdout",
     "output_type": "stream",
     "text": [
      "Processing url 403: https://auto.ru/cars/used/sale/mitsubishi/lancer/1114879268-0fb38aef/?geo_id=10174\n"
     ]
    },
    {
     "name": "stderr",
     "output_type": "stream",
     "text": [
      "\r",
      "403it [28:33,  4.05s/it]"
     ]
    },
    {
     "name": "stdout",
     "output_type": "stream",
     "text": [
      "Processing url 404: https://auto.ru/cars/used/sale/mitsubishi/lancer/1114970026-bd9ebed9/?geo_id=10174\n"
     ]
    },
    {
     "name": "stderr",
     "output_type": "stream",
     "text": [
      "\r",
      "404it [28:37,  4.10s/it]"
     ]
    },
    {
     "name": "stdout",
     "output_type": "stream",
     "text": [
      "Processing url 405: https://auto.ru/cars/used/sale/mitsubishi/pajero/1114912671-9399a87b/?geo_id=10174\n"
     ]
    },
    {
     "name": "stderr",
     "output_type": "stream",
     "text": [
      "\r",
      "405it [28:42,  4.24s/it]"
     ]
    },
    {
     "name": "stdout",
     "output_type": "stream",
     "text": [
      "Processing url 406: https://auto.ru/cars/used/sale/mitsubishi/lancer/1115008858-e07f286e/?geo_id=10174\n"
     ]
    },
    {
     "name": "stderr",
     "output_type": "stream",
     "text": [
      "\r",
      "406it [28:46,  4.18s/it]"
     ]
    },
    {
     "name": "stdout",
     "output_type": "stream",
     "text": [
      "Processing url 407: https://auto.ru/cars/used/sale/mitsubishi/lancer/1115100264-8509336b/?geo_id=10174\n"
     ]
    },
    {
     "name": "stderr",
     "output_type": "stream",
     "text": [
      "\r",
      "407it [28:50,  4.18s/it]"
     ]
    },
    {
     "name": "stdout",
     "output_type": "stream",
     "text": [
      "Processing url 408: https://auto.ru/cars/used/sale/mitsubishi/asx/1114688591-8967fac4/?geo_id=10174\n"
     ]
    },
    {
     "name": "stderr",
     "output_type": "stream",
     "text": [
      "\r",
      "408it [28:54,  4.15s/it]"
     ]
    },
    {
     "name": "stdout",
     "output_type": "stream",
     "text": [
      "Processing url 409: https://auto.ru/cars/used/sale/mitsubishi/rvr/1115059008-12a5184f/?geo_id=10174\n"
     ]
    },
    {
     "name": "stderr",
     "output_type": "stream",
     "text": [
      "\r",
      "409it [28:59,  4.30s/it]"
     ]
    },
    {
     "name": "stdout",
     "output_type": "stream",
     "text": [
      "Processing url 410: https://auto.ru/cars/used/sale/mitsubishi/lancer/1114949030-a7464efa/?geo_id=10174\n"
     ]
    },
    {
     "name": "stderr",
     "output_type": "stream",
     "text": [
      "\r",
      "410it [29:03,  4.29s/it]"
     ]
    },
    {
     "name": "stdout",
     "output_type": "stream",
     "text": [
      "Processing url 411: https://auto.ru/cars/used/sale/mitsubishi/pajero_sport/1114945426-94670c61/?geo_id=10174\n"
     ]
    },
    {
     "name": "stderr",
     "output_type": "stream",
     "text": [
      "\r",
      "411it [29:08,  4.43s/it]"
     ]
    },
    {
     "name": "stdout",
     "output_type": "stream",
     "text": [
      "Processing url 412: https://auto.ru/cars/used/sale/mitsubishi/pajero_sport/1106667774-3a8ff39f/?geo_id=10174\n"
     ]
    },
    {
     "name": "stderr",
     "output_type": "stream",
     "text": [
      "\r",
      "412it [29:12,  4.30s/it]"
     ]
    },
    {
     "name": "stdout",
     "output_type": "stream",
     "text": [
      "Processing url 413: https://auto.ru/cars/used/sale/mitsubishi/outlander/1114976114-4fbf6926/?geo_id=10174\n"
     ]
    },
    {
     "name": "stderr",
     "output_type": "stream",
     "text": [
      "\r",
      "413it [29:16,  4.37s/it]"
     ]
    },
    {
     "name": "stdout",
     "output_type": "stream",
     "text": [
      "Processing url 414: https://auto.ru/cars/used/sale/mitsubishi/outlander/1114970065-cd838677/?geo_id=10174\n"
     ]
    },
    {
     "name": "stderr",
     "output_type": "stream",
     "text": [
      "\r",
      "414it [29:20,  4.27s/it]"
     ]
    },
    {
     "name": "stdout",
     "output_type": "stream",
     "text": [
      "Processing url 415: https://auto.ru/cars/used/sale/mitsubishi/outlander/1114970065-cd838677/?geo_id=10174\n"
     ]
    },
    {
     "name": "stderr",
     "output_type": "stream",
     "text": [
      "\r",
      "415it [29:24,  4.12s/it]"
     ]
    },
    {
     "name": "stdout",
     "output_type": "stream",
     "text": [
      "Processing url 416: https://auto.ru/cars/used/sale/mitsubishi/outlander/1114970027-08d87ce8/?geo_id=10174\n"
     ]
    },
    {
     "name": "stderr",
     "output_type": "stream",
     "text": [
      "\r",
      "416it [29:28,  4.12s/it]"
     ]
    },
    {
     "name": "stdout",
     "output_type": "stream",
     "text": [
      "Processing url 417: https://auto.ru/cars/used/sale/mitsubishi/carisma/1115100284-364b2ae3/?geo_id=10174\n"
     ]
    },
    {
     "name": "stderr",
     "output_type": "stream",
     "text": [
      "\r",
      "417it [29:33,  4.21s/it]"
     ]
    },
    {
     "name": "stdout",
     "output_type": "stream",
     "text": [
      "Processing url 418: https://auto.ru/cars/used/sale/mitsubishi/lancer/1114970074-4efb6f65/?geo_id=10174\n"
     ]
    },
    {
     "name": "stderr",
     "output_type": "stream",
     "text": [
      "\r",
      "418it [29:37,  4.13s/it]"
     ]
    },
    {
     "name": "stdout",
     "output_type": "stream",
     "text": [
      "Processing url 419: https://auto.ru/cars/used/sale/mitsubishi/lancer/1115084533-98ce7d62/?geo_id=10174\n"
     ]
    },
    {
     "name": "stderr",
     "output_type": "stream",
     "text": [
      "\r",
      "419it [29:41,  4.06s/it]"
     ]
    },
    {
     "name": "stdout",
     "output_type": "stream",
     "text": [
      "Processing url 420: https://auto.ru/cars/used/sale/mitsubishi/outlander/1115139248-2e37767e/?geo_id=10174\n"
     ]
    },
    {
     "name": "stderr",
     "output_type": "stream",
     "text": [
      "\r",
      "420it [29:45,  4.06s/it]"
     ]
    },
    {
     "name": "stdout",
     "output_type": "stream",
     "text": [
      "Processing url 421: https://auto.ru/cars/used/sale/mitsubishi/asx/1114970052-56e59599/?geo_id=10174\n"
     ]
    },
    {
     "name": "stderr",
     "output_type": "stream",
     "text": [
      "\r",
      "421it [29:49,  4.23s/it]"
     ]
    },
    {
     "name": "stdout",
     "output_type": "stream",
     "text": [
      "Processing url 422: https://auto.ru/cars/used/sale/mitsubishi/lancer/1114927525-b28ab4d9/?geo_id=10174\n"
     ]
    },
    {
     "name": "stderr",
     "output_type": "stream",
     "text": [
      "\r",
      "422it [29:53,  4.15s/it]"
     ]
    },
    {
     "name": "stdout",
     "output_type": "stream",
     "text": [
      "Processing url 423: https://auto.ru/cars/used/sale/mitsubishi/lancer/1114840276-eacf6b1b/?geo_id=10174\n"
     ]
    },
    {
     "name": "stderr",
     "output_type": "stream",
     "text": [
      "\r",
      "423it [29:57,  4.17s/it]"
     ]
    },
    {
     "name": "stdout",
     "output_type": "stream",
     "text": [
      "Processing url 424: https://auto.ru/cars/used/sale/mitsubishi/lancer/1114660761-a01e88ca/?geo_id=10174\n"
     ]
    },
    {
     "name": "stderr",
     "output_type": "stream",
     "text": [
      "\r",
      "424it [30:01,  4.10s/it]"
     ]
    },
    {
     "name": "stdout",
     "output_type": "stream",
     "text": [
      "Processing url 425: https://auto.ru/cars/used/sale/mitsubishi/outlander/1098348462-8f19e273/?geo_id=10174\n"
     ]
    },
    {
     "name": "stderr",
     "output_type": "stream",
     "text": [
      "\r",
      "425it [30:06,  4.36s/it]"
     ]
    },
    {
     "name": "stdout",
     "output_type": "stream",
     "text": [
      "Processing url 426: https://auto.ru/cars/used/sale/mitsubishi/colt/1106644885-29d6adae/?geo_id=10174\n"
     ]
    },
    {
     "name": "stderr",
     "output_type": "stream",
     "text": [
      "\r",
      "426it [30:11,  4.31s/it]"
     ]
    },
    {
     "name": "stdout",
     "output_type": "stream",
     "text": [
      "Processing url 427: https://auto.ru/cars/used/sale/mitsubishi/pajero_sport/1106571973-d6275d32/?geo_id=10174\n"
     ]
    },
    {
     "name": "stderr",
     "output_type": "stream",
     "text": [
      "\r",
      "427it [30:16,  4.72s/it]"
     ]
    },
    {
     "name": "stdout",
     "output_type": "stream",
     "text": [
      "Processing url 428: https://auto.ru/cars/used/sale/mitsubishi/pajero/1106571972-aac555a4/?geo_id=10174\n"
     ]
    },
    {
     "name": "stderr",
     "output_type": "stream",
     "text": [
      "\r",
      "428it [30:22,  5.02s/it]"
     ]
    },
    {
     "name": "stdout",
     "output_type": "stream",
     "text": [
      "Processing url 429: https://auto.ru/cars/used/sale/mitsubishi/pajero/1106554783-b12153da/?geo_id=10174\n"
     ]
    },
    {
     "name": "stderr",
     "output_type": "stream",
     "text": [
      "\r",
      "429it [30:26,  4.84s/it]"
     ]
    },
    {
     "name": "stdout",
     "output_type": "stream",
     "text": [
      "Processing url 430: https://auto.ru/cars/used/sale/mitsubishi/pajero_sport/1106251808-34a5cac5/?geo_id=10174\n"
     ]
    },
    {
     "name": "stderr",
     "output_type": "stream",
     "text": [
      "\r",
      "430it [30:31,  4.91s/it]"
     ]
    },
    {
     "name": "stdout",
     "output_type": "stream",
     "text": [
      "Processing url 431: https://auto.ru/cars/used/sale/mitsubishi/outlander/1106195183-51854a00/?geo_id=10174\n"
     ]
    },
    {
     "name": "stderr",
     "output_type": "stream",
     "text": [
      "\r",
      "431it [30:37,  5.25s/it]"
     ]
    },
    {
     "name": "stdout",
     "output_type": "stream",
     "text": [
      "Processing url 432: https://auto.ru/cars/used/sale/mitsubishi/l200/1104181080-10a9dd70/?geo_id=10174\n"
     ]
    },
    {
     "name": "stderr",
     "output_type": "stream",
     "text": [
      "\r",
      "432it [30:41,  4.87s/it]"
     ]
    },
    {
     "name": "stdout",
     "output_type": "stream",
     "text": [
      "Processing url 433: https://auto.ru/cars/used/sale/mitsubishi/lancer/1115011450-5e5e793a/?geo_id=10174\n"
     ]
    },
    {
     "name": "stderr",
     "output_type": "stream",
     "text": [
      "\r",
      "433it [30:46,  4.66s/it]"
     ]
    },
    {
     "name": "stdout",
     "output_type": "stream",
     "text": [
      "Processing url 434: https://auto.ru/cars/used/sale/mitsubishi/dion/1115157208-31510fe2/?geo_id=10174\n"
     ]
    },
    {
     "name": "stderr",
     "output_type": "stream",
     "text": [
      "\r",
      "434it [30:50,  4.52s/it]"
     ]
    },
    {
     "name": "stdout",
     "output_type": "stream",
     "text": [
      "Processing url 435: https://auto.ru/cars/used/sale/mitsubishi/asx/1115081549-eab50c52/?geo_id=10174\n"
     ]
    },
    {
     "name": "stderr",
     "output_type": "stream",
     "text": [
      "\r",
      "435it [30:54,  4.41s/it]"
     ]
    },
    {
     "name": "stdout",
     "output_type": "stream",
     "text": [
      "Processing url 436: https://auto.ru/cars/used/sale/mitsubishi/asx/1114966024-b9fb560f/?geo_id=10174\n"
     ]
    },
    {
     "name": "stderr",
     "output_type": "stream",
     "text": [
      "\r",
      "436it [30:58,  4.32s/it]"
     ]
    },
    {
     "name": "stdout",
     "output_type": "stream",
     "text": [
      "Processing url 437: https://auto.ru/cars/used/sale/mitsubishi/outlander/1114963695-829ce0ca/?geo_id=10174\n"
     ]
    },
    {
     "name": "stderr",
     "output_type": "stream",
     "text": [
      "\r",
      "437it [31:03,  4.40s/it]"
     ]
    },
    {
     "name": "stdout",
     "output_type": "stream",
     "text": [
      "Processing url 438: https://auto.ru/cars/used/sale/mitsubishi/dion/1115174061-d226241c/?geo_id=10174\n"
     ]
    },
    {
     "name": "stderr",
     "output_type": "stream",
     "text": [
      "\r",
      "438it [31:07,  4.29s/it]"
     ]
    },
    {
     "name": "stdout",
     "output_type": "stream",
     "text": [
      "Processing url 439: https://auto.ru/cars/used/sale/mitsubishi/eclipse_cross/1114959776-c45b0a2b/?geo_id=10174\n"
     ]
    },
    {
     "name": "stderr",
     "output_type": "stream",
     "text": [
      "\r",
      "439it [31:11,  4.22s/it]"
     ]
    },
    {
     "name": "stdout",
     "output_type": "stream",
     "text": [
      "Processing url 440: https://auto.ru/cars/used/sale/mitsubishi/outlander/1114855776-8392e04e/?geo_id=10174\n"
     ]
    },
    {
     "name": "stderr",
     "output_type": "stream",
     "text": [
      "\r",
      "440it [31:15,  4.28s/it]"
     ]
    },
    {
     "name": "stdout",
     "output_type": "stream",
     "text": [
      "Processing url 441: https://auto.ru/cars/used/sale/mitsubishi/asx/1114741710-235e75b7/?geo_id=10174\n"
     ]
    },
    {
     "name": "stderr",
     "output_type": "stream",
     "text": [
      "\r",
      "441it [31:20,  4.31s/it]"
     ]
    },
    {
     "name": "stdout",
     "output_type": "stream",
     "text": [
      "Processing url 442: https://auto.ru/cars/used/sale/mitsubishi/lancer/1114672996-afb1277d/?geo_id=10174\n"
     ]
    },
    {
     "name": "stderr",
     "output_type": "stream",
     "text": [
      "\r",
      "442it [31:24,  4.25s/it]"
     ]
    },
    {
     "name": "stdout",
     "output_type": "stream",
     "text": [
      "Processing url 443: https://auto.ru/cars/used/sale/mitsubishi/outlander/1115010560-754e868d/?geo_id=10174\n"
     ]
    },
    {
     "name": "stderr",
     "output_type": "stream",
     "text": [
      "\r",
      "443it [31:28,  4.33s/it]"
     ]
    },
    {
     "name": "stdout",
     "output_type": "stream",
     "text": [
      "Processing url 444: https://auto.ru/cars/used/sale/mitsubishi/outlander/1114607748-c8bb61ad/?geo_id=10174\n"
     ]
    },
    {
     "name": "stderr",
     "output_type": "stream",
     "text": [
      "\r",
      "444it [31:32,  4.27s/it]"
     ]
    },
    {
     "name": "stdout",
     "output_type": "stream",
     "text": [
      "Processing url 445: https://auto.ru/cars/used/sale/mitsubishi/pajero/1114886638-aaa04a0f/?geo_id=10174\n"
     ]
    },
    {
     "name": "stderr",
     "output_type": "stream",
     "text": [
      "\r",
      "445it [31:36,  4.13s/it]"
     ]
    },
    {
     "name": "stdout",
     "output_type": "stream",
     "text": [
      "Processing url 446: https://auto.ru/cars/used/sale/mitsubishi/outlander/1106629373-86ebd7fe/?geo_id=10174\n"
     ]
    },
    {
     "name": "stderr",
     "output_type": "stream",
     "text": [
      "\r",
      "446it [31:40,  4.16s/it]"
     ]
    },
    {
     "name": "stdout",
     "output_type": "stream",
     "text": [
      "Processing url 447: https://auto.ru/cars/used/sale/mitsubishi/outlander/1106458481-6b09b395/?geo_id=10174\n"
     ]
    },
    {
     "name": "stderr",
     "output_type": "stream",
     "text": [
      "\r",
      "447it [31:45,  4.22s/it]"
     ]
    },
    {
     "name": "stdout",
     "output_type": "stream",
     "text": [
      "Processing url 448: https://auto.ru/cars/used/sale/mitsubishi/outlander/1106673779-271e3f63/?geo_id=10174\n"
     ]
    },
    {
     "name": "stderr",
     "output_type": "stream",
     "text": [
      "\r",
      "448it [31:49,  4.16s/it]"
     ]
    },
    {
     "name": "stdout",
     "output_type": "stream",
     "text": [
      "Processing url 449: https://auto.ru/cars/used/sale/mitsubishi/lancer/1114751423-bce45022/?geo_id=10174\n"
     ]
    },
    {
     "name": "stderr",
     "output_type": "stream",
     "text": [
      "\r",
      "449it [31:53,  4.33s/it]"
     ]
    },
    {
     "name": "stdout",
     "output_type": "stream",
     "text": [
      "Processing url 450: https://auto.ru/cars/used/sale/mitsubishi/lancer/1114912706-d2de67b2/?geo_id=10174\n"
     ]
    },
    {
     "name": "stderr",
     "output_type": "stream",
     "text": [
      "\r",
      "450it [31:57,  4.19s/it]"
     ]
    },
    {
     "name": "stdout",
     "output_type": "stream",
     "text": [
      "Processing url 451: https://auto.ru/cars/used/sale/mitsubishi/pajero_sport/1114858734-32f5d552/?geo_id=10174\n"
     ]
    },
    {
     "name": "stderr",
     "output_type": "stream",
     "text": [
      "\r",
      "451it [32:02,  4.24s/it]"
     ]
    },
    {
     "name": "stdout",
     "output_type": "stream",
     "text": [
      "Processing url 452: https://auto.ru/cars/used/sale/mitsubishi/pajero/1114633626-4201b1fe/?geo_id=10174\n"
     ]
    },
    {
     "name": "stderr",
     "output_type": "stream",
     "text": [
      "\r",
      "452it [32:06,  4.28s/it]"
     ]
    },
    {
     "name": "stdout",
     "output_type": "stream",
     "text": [
      "Processing url 453: https://auto.ru/cars/used/sale/mitsubishi/asx/1115150664-a6340e2c/?geo_id=10174\n"
     ]
    },
    {
     "name": "stderr",
     "output_type": "stream",
     "text": [
      "\r",
      "453it [32:11,  4.38s/it]"
     ]
    },
    {
     "name": "stdout",
     "output_type": "stream",
     "text": [
      "Processing url 454: https://auto.ru/cars/used/sale/mitsubishi/outlander/1114588647-886eb062/?geo_id=10174\n"
     ]
    },
    {
     "name": "stderr",
     "output_type": "stream",
     "text": [
      "\r",
      "454it [32:15,  4.31s/it]"
     ]
    },
    {
     "name": "stdout",
     "output_type": "stream",
     "text": [
      "Processing url 455: https://auto.ru/cars/used/sale/mitsubishi/pajero/1115014005-619f73a3/?geo_id=10174\n"
     ]
    },
    {
     "name": "stderr",
     "output_type": "stream",
     "text": [
      "\r",
      "455it [32:19,  4.34s/it]"
     ]
    },
    {
     "name": "stdout",
     "output_type": "stream",
     "text": [
      "Processing url 456: https://auto.ru/cars/used/sale/mitsubishi/lancer/1114992641-e345c4c1/?geo_id=10174\n"
     ]
    },
    {
     "name": "stderr",
     "output_type": "stream",
     "text": [
      "\r",
      "456it [32:23,  4.32s/it]"
     ]
    },
    {
     "name": "stdout",
     "output_type": "stream",
     "text": [
      "Processing url 457: https://auto.ru/cars/used/sale/mitsubishi/outlander/1114588633-e83cce2e/?geo_id=10174\n"
     ]
    },
    {
     "name": "stderr",
     "output_type": "stream",
     "text": [
      "\r",
      "457it [32:27,  4.19s/it]"
     ]
    },
    {
     "name": "stdout",
     "output_type": "stream",
     "text": [
      "Processing url 458: https://auto.ru/cars/used/sale/mitsubishi/asx/1106636208-9dc9c0a0/?geo_id=10174\n"
     ]
    },
    {
     "name": "stderr",
     "output_type": "stream",
     "text": [
      "\r",
      "458it [32:33,  4.50s/it]"
     ]
    },
    {
     "name": "stdout",
     "output_type": "stream",
     "text": [
      "Processing url 459: https://auto.ru/cars/used/sale/mitsubishi/outlander/1106636205-9f17269a/?geo_id=10174\n"
     ]
    },
    {
     "name": "stderr",
     "output_type": "stream",
     "text": [
      "\r",
      "459it [32:37,  4.46s/it]"
     ]
    },
    {
     "name": "stdout",
     "output_type": "stream",
     "text": [
      "Processing url 460: https://auto.ru/cars/used/sale/mitsubishi/pajero/1106624259-f571fe4e/?geo_id=10174\n"
     ]
    },
    {
     "name": "stderr",
     "output_type": "stream",
     "text": [
      "\r",
      "460it [32:42,  4.51s/it]"
     ]
    },
    {
     "name": "stdout",
     "output_type": "stream",
     "text": [
      "Processing url 461: https://auto.ru/cars/used/sale/mitsubishi/outlander/1106463376-9d5d6285/?geo_id=10174\n"
     ]
    },
    {
     "name": "stderr",
     "output_type": "stream",
     "text": [
      "\r",
      "461it [32:46,  4.45s/it]"
     ]
    },
    {
     "name": "stdout",
     "output_type": "stream",
     "text": [
      "Processing url 462: https://auto.ru/cars/used/sale/mitsubishi/lancer/1106489289-aa1c828c/?geo_id=10174\n"
     ]
    },
    {
     "name": "stderr",
     "output_type": "stream",
     "text": [
      "\r",
      "462it [32:50,  4.43s/it]"
     ]
    },
    {
     "name": "stdout",
     "output_type": "stream",
     "text": [
      "Processing url 463: https://auto.ru/cars/used/sale/mitsubishi/outlander/1106624209-f71562b4/?geo_id=10174\n"
     ]
    },
    {
     "name": "stderr",
     "output_type": "stream",
     "text": [
      "\r",
      "463it [32:54,  4.26s/it]"
     ]
    },
    {
     "name": "stdout",
     "output_type": "stream",
     "text": [
      "Processing url 464: https://auto.ru/cars/used/sale/mitsubishi/lancer/1114898345-cdbe13eb/?geo_id=10174\n"
     ]
    },
    {
     "name": "stderr",
     "output_type": "stream",
     "text": [
      "\r",
      "464it [32:59,  4.57s/it]"
     ]
    },
    {
     "name": "stdout",
     "output_type": "stream",
     "text": [
      "Processing url 465: https://auto.ru/cars/used/sale/mitsubishi/outlander/1106624151-623b5a37/?geo_id=10174\n"
     ]
    },
    {
     "name": "stderr",
     "output_type": "stream",
     "text": [
      "\r",
      "465it [33:04,  4.64s/it]"
     ]
    },
    {
     "name": "stdout",
     "output_type": "stream",
     "text": [
      "Processing url 466: https://auto.ru/cars/used/sale/mitsubishi/pajero_sport/1106624109-cd216cb4/?geo_id=10174\n"
     ]
    },
    {
     "name": "stderr",
     "output_type": "stream",
     "text": [
      "\r",
      "466it [33:09,  4.53s/it]"
     ]
    },
    {
     "name": "stdout",
     "output_type": "stream",
     "text": [
      "Processing url 467: https://auto.ru/cars/used/sale/mitsubishi/pajero_sport/1106624088-b9a87752/?geo_id=10174\n"
     ]
    },
    {
     "name": "stderr",
     "output_type": "stream",
     "text": [
      "\r",
      "467it [33:13,  4.58s/it]"
     ]
    },
    {
     "name": "stdout",
     "output_type": "stream",
     "text": [
      "Processing url 468: https://auto.ru/cars/used/sale/mitsubishi/pajero/1106624072-7a34e298/?geo_id=10174\n"
     ]
    },
    {
     "name": "stderr",
     "output_type": "stream",
     "text": [
      "\r",
      "468it [33:17,  4.46s/it]"
     ]
    },
    {
     "name": "stdout",
     "output_type": "stream",
     "text": [
      "Processing url 469: https://auto.ru/cars/used/sale/mitsubishi/colt/1106281882-2a5177f0/?geo_id=10174\n"
     ]
    },
    {
     "name": "stderr",
     "output_type": "stream",
     "text": [
      "\r",
      "469it [33:22,  4.38s/it]"
     ]
    },
    {
     "name": "stdout",
     "output_type": "stream",
     "text": [
      "Processing url 470: https://auto.ru/cars/used/sale/mitsubishi/asx/1114938804-972dc8b6/?geo_id=10174\n"
     ]
    },
    {
     "name": "stderr",
     "output_type": "stream",
     "text": [
      "\r",
      "470it [33:26,  4.31s/it]"
     ]
    },
    {
     "name": "stdout",
     "output_type": "stream",
     "text": [
      "Processing url 471: https://auto.ru/cars/used/sale/mitsubishi/outlander/1114588660-cb4916a0/?geo_id=10174\n"
     ]
    },
    {
     "name": "stderr",
     "output_type": "stream",
     "text": [
      "\r",
      "471it [33:30,  4.27s/it]"
     ]
    },
    {
     "name": "stdout",
     "output_type": "stream",
     "text": [
      "Processing url 472: https://auto.ru/cars/used/sale/mitsubishi/outlander/1114977364-751f71c3/?geo_id=10174\n"
     ]
    },
    {
     "name": "stderr",
     "output_type": "stream",
     "text": [
      "\r",
      "472it [33:36,  4.88s/it]"
     ]
    },
    {
     "name": "stdout",
     "output_type": "stream",
     "text": [
      "Processing url 473: https://auto.ru/cars/used/sale/mitsubishi/grandis/1105872677-3d9ce148/?geo_id=10174\n"
     ]
    },
    {
     "name": "stderr",
     "output_type": "stream",
     "text": [
      "\r",
      "473it [33:40,  4.66s/it]"
     ]
    },
    {
     "name": "stdout",
     "output_type": "stream",
     "text": [
      "Processing url 474: https://auto.ru/cars/used/sale/mitsubishi/outlander/1106547081-db6a9791/?geo_id=10174\n"
     ]
    },
    {
     "name": "stderr",
     "output_type": "stream",
     "text": [
      "\r",
      "474it [33:44,  4.50s/it]"
     ]
    },
    {
     "name": "stdout",
     "output_type": "stream",
     "text": [
      "Processing url 475: https://auto.ru/cars/used/sale/mitsubishi/outlander/1102473161-9d2034bb/?geo_id=10174\n"
     ]
    },
    {
     "name": "stderr",
     "output_type": "stream",
     "text": [
      "\r",
      "475it [33:49,  4.58s/it]"
     ]
    },
    {
     "name": "stdout",
     "output_type": "stream",
     "text": [
      "Processing url 476: https://auto.ru/cars/used/sale/mitsubishi/asx/1114688400-062bed54/?geo_id=10174\n"
     ]
    },
    {
     "name": "stderr",
     "output_type": "stream",
     "text": [
      "\r",
      "476it [33:53,  4.41s/it]"
     ]
    },
    {
     "name": "stdout",
     "output_type": "stream",
     "text": [
      "Processing url 477: https://auto.ru/cars/used/sale/mitsubishi/outlander/1106696699-bfdb4051/?geo_id=10174\n"
     ]
    },
    {
     "name": "stderr",
     "output_type": "stream",
     "text": [
      "\r",
      "477it [33:57,  4.33s/it]"
     ]
    },
    {
     "name": "stdout",
     "output_type": "stream",
     "text": [
      "Processing url 478: https://auto.ru/cars/used/sale/mitsubishi/pajero/1114962026-f3a7b36d/?geo_id=10174\n"
     ]
    },
    {
     "name": "stderr",
     "output_type": "stream",
     "text": [
      "\r",
      "478it [34:02,  4.30s/it]"
     ]
    },
    {
     "name": "stdout",
     "output_type": "stream",
     "text": [
      "Processing url 479: https://auto.ru/cars/used/sale/mitsubishi/pajero_sport/1105291980-27b07e4c/?geo_id=10174\n"
     ]
    },
    {
     "name": "stderr",
     "output_type": "stream",
     "text": [
      "\r",
      "479it [34:06,  4.43s/it]"
     ]
    },
    {
     "name": "stdout",
     "output_type": "stream",
     "text": [
      "Processing url 480: https://auto.ru/cars/used/sale/mitsubishi/galant/1104008691-d268c235/?geo_id=10174\n"
     ]
    },
    {
     "name": "stderr",
     "output_type": "stream",
     "text": [
      "\r",
      "480it [34:11,  4.38s/it]"
     ]
    },
    {
     "name": "stdout",
     "output_type": "stream",
     "text": [
      "Processing url 481: https://auto.ru/cars/used/sale/mitsubishi/lancer/1105849890-783c01c8/?geo_id=10174\n"
     ]
    },
    {
     "name": "stderr",
     "output_type": "stream",
     "text": [
      "\r",
      "481it [34:15,  4.29s/it]"
     ]
    },
    {
     "name": "stdout",
     "output_type": "stream",
     "text": [
      "Processing url 482: https://auto.ru/cars/used/sale/mitsubishi/grandis/1103902235-be7f9622/?geo_id=10174\n"
     ]
    },
    {
     "name": "stderr",
     "output_type": "stream",
     "text": [
      "\r",
      "482it [34:18,  4.12s/it]"
     ]
    },
    {
     "name": "stdout",
     "output_type": "stream",
     "text": [
      "Processing url 483: https://auto.ru/cars/used/sale/mitsubishi/lancer/1115121131-ec01cef3/?geo_id=10174\n"
     ]
    },
    {
     "name": "stderr",
     "output_type": "stream",
     "text": [
      "\r",
      "483it [34:23,  4.22s/it]"
     ]
    },
    {
     "name": "stdout",
     "output_type": "stream",
     "text": [
      "Processing url 484: https://auto.ru/cars/used/sale/mitsubishi/outlander/1106112919-8d08796a/?geo_id=10174\n"
     ]
    },
    {
     "name": "stderr",
     "output_type": "stream",
     "text": [
      "\r",
      "484it [34:27,  4.26s/it]"
     ]
    },
    {
     "name": "stdout",
     "output_type": "stream",
     "text": [
      "Processing url 485: https://auto.ru/cars/used/sale/mitsubishi/grandis/1114681263-a3812753/?geo_id=10174\n"
     ]
    },
    {
     "name": "stderr",
     "output_type": "stream",
     "text": [
      "\r",
      "485it [34:31,  4.16s/it]"
     ]
    },
    {
     "name": "stdout",
     "output_type": "stream",
     "text": [
      "Processing url 486: https://auto.ru/cars/used/sale/mitsubishi/carisma/1114736704-cde7395a/?geo_id=10174\n"
     ]
    },
    {
     "name": "stderr",
     "output_type": "stream",
     "text": [
      "\r",
      "486it [34:35,  4.05s/it]"
     ]
    },
    {
     "name": "stdout",
     "output_type": "stream",
     "text": [
      "Processing url 487: https://auto.ru/cars/used/sale/mitsubishi/lancer/1114983114-7ae91bd4/?geo_id=10174\n"
     ]
    },
    {
     "name": "stderr",
     "output_type": "stream",
     "text": [
      "\r",
      "487it [34:39,  4.17s/it]"
     ]
    },
    {
     "name": "stdout",
     "output_type": "stream",
     "text": [
      "Processing url 488: https://auto.ru/cars/used/sale/mitsubishi/asx/1114800989-c56fb889/?geo_id=10174\n"
     ]
    },
    {
     "name": "stderr",
     "output_type": "stream",
     "text": [
      "\r",
      "488it [34:44,  4.17s/it]"
     ]
    },
    {
     "name": "stdout",
     "output_type": "stream",
     "text": [
      "Processing url 489: https://auto.ru/cars/used/sale/mitsubishi/lancer/1106615351-9e570e8c/?geo_id=10174\n"
     ]
    },
    {
     "name": "stderr",
     "output_type": "stream",
     "text": [
      "\r",
      "489it [34:48,  4.22s/it]"
     ]
    },
    {
     "name": "stdout",
     "output_type": "stream",
     "text": [
      "Processing url 490: https://auto.ru/cars/used/sale/mitsubishi/colt/1114878771-395deb1a/?geo_id=10174\n"
     ]
    },
    {
     "name": "stderr",
     "output_type": "stream",
     "text": [
      "\r",
      "490it [34:52,  4.18s/it]"
     ]
    },
    {
     "name": "stdout",
     "output_type": "stream",
     "text": [
      "Processing url 491: https://auto.ru/cars/used/sale/mitsubishi/lancer/1115139116-52da04e2/?geo_id=10174\n"
     ]
    },
    {
     "name": "stderr",
     "output_type": "stream",
     "text": [
      "\r",
      "491it [34:56,  4.22s/it]"
     ]
    },
    {
     "name": "stdout",
     "output_type": "stream",
     "text": [
      "Processing url 492: https://auto.ru/cars/used/sale/mitsubishi/lancer/1115022899-db140024/?geo_id=10174\n"
     ]
    },
    {
     "name": "stderr",
     "output_type": "stream",
     "text": [
      "\r",
      "492it [35:01,  4.42s/it]"
     ]
    },
    {
     "name": "stdout",
     "output_type": "stream",
     "text": [
      "Processing url 493: https://auto.ru/cars/used/sale/mitsubishi/outlander/1114742998-c1bacacf/?geo_id=10174\n"
     ]
    },
    {
     "name": "stderr",
     "output_type": "stream",
     "text": [
      "\r",
      "493it [35:06,  4.39s/it]"
     ]
    },
    {
     "name": "stdout",
     "output_type": "stream",
     "text": [
      "Processing url 494: https://auto.ru/cars/used/sale/mitsubishi/pajero/1089196914-0e988110/?geo_id=10174\n"
     ]
    },
    {
     "name": "stderr",
     "output_type": "stream",
     "text": [
      "\r",
      "494it [35:10,  4.30s/it]"
     ]
    },
    {
     "name": "stdout",
     "output_type": "stream",
     "text": [
      "Processing url 495: https://auto.ru/cars/used/sale/mitsubishi/l200/1090625290-6ee22a13/?geo_id=10174\n"
     ]
    },
    {
     "name": "stderr",
     "output_type": "stream",
     "text": [
      "\r",
      "495it [35:14,  4.40s/it]"
     ]
    },
    {
     "name": "stdout",
     "output_type": "stream",
     "text": [
      "Processing url 496: https://auto.ru/cars/used/sale/mitsubishi/outlander/1105551788-b4c0ccfa/?geo_id=10174\n"
     ]
    },
    {
     "name": "stderr",
     "output_type": "stream",
     "text": [
      "\r",
      "496it [35:18,  4.29s/it]"
     ]
    },
    {
     "name": "stdout",
     "output_type": "stream",
     "text": [
      "Processing url 497: https://auto.ru/cars/used/sale/mitsubishi/lancer/1105114047-5d37f2ca/?geo_id=10174\n"
     ]
    },
    {
     "name": "stderr",
     "output_type": "stream",
     "text": [
      "\r",
      "497it [35:22,  4.22s/it]"
     ]
    },
    {
     "name": "stdout",
     "output_type": "stream",
     "text": [
      "Processing url 498: https://auto.ru/cars/used/sale/mitsubishi/lancer/1115037011-b5cec051/?geo_id=10174\n"
     ]
    },
    {
     "name": "stderr",
     "output_type": "stream",
     "text": [
      "\r",
      "498it [35:27,  4.28s/it]"
     ]
    },
    {
     "name": "stdout",
     "output_type": "stream",
     "text": [
      "Processing url 499: https://auto.ru/cars/used/sale/mitsubishi/lancer/1114880633-571d4019/?geo_id=10174\n"
     ]
    },
    {
     "name": "stderr",
     "output_type": "stream",
     "text": [
      "\r",
      "499it [35:31,  4.16s/it]"
     ]
    },
    {
     "name": "stdout",
     "output_type": "stream",
     "text": [
      "Processing url 500: https://auto.ru/cars/used/sale/mitsubishi/lancer/1115117835-5eab2eaf/?geo_id=10174\n"
     ]
    },
    {
     "name": "stderr",
     "output_type": "stream",
     "text": [
      "\r",
      "500it [35:35,  4.10s/it]"
     ]
    },
    {
     "name": "stdout",
     "output_type": "stream",
     "text": [
      "Processing url 501: https://auto.ru/cars/used/sale/mitsubishi/lancer/1105490372-0df34cbf/?geo_id=10174\n"
     ]
    },
    {
     "name": "stderr",
     "output_type": "stream",
     "text": [
      "\r",
      "501it [35:39,  4.25s/it]"
     ]
    },
    {
     "name": "stdout",
     "output_type": "stream",
     "text": [
      "Processing url 502: https://auto.ru/cars/used/sale/mitsubishi/l200/1115145088-7d1bbe6f/?geo_id=10174\n"
     ]
    },
    {
     "name": "stderr",
     "output_type": "stream",
     "text": [
      "\r",
      "502it [35:43,  4.18s/it]"
     ]
    },
    {
     "name": "stdout",
     "output_type": "stream",
     "text": [
      "Processing url 503: https://auto.ru/cars/used/sale/mitsubishi/l200/1106577564-9c342881/?geo_id=10174\n"
     ]
    },
    {
     "name": "stderr",
     "output_type": "stream",
     "text": [
      "\r",
      "503it [35:47,  4.11s/it]"
     ]
    },
    {
     "name": "stdout",
     "output_type": "stream",
     "text": [
      "Processing url 504: https://auto.ru/cars/used/sale/mitsubishi/lancer/1115081573-aff898e3/?geo_id=10174\n"
     ]
    },
    {
     "name": "stderr",
     "output_type": "stream",
     "text": [
      "\r",
      "504it [35:52,  4.23s/it]"
     ]
    },
    {
     "name": "stdout",
     "output_type": "stream",
     "text": [
      "Processing url 505: https://auto.ru/cars/used/sale/mitsubishi/galant/1105076171-1a5edea5/?geo_id=10174\n"
     ]
    },
    {
     "name": "stderr",
     "output_type": "stream",
     "text": [
      "\r",
      "505it [35:55,  4.07s/it]"
     ]
    },
    {
     "name": "stdout",
     "output_type": "stream",
     "text": [
      "Processing url 506: https://auto.ru/cars/used/sale/mitsubishi/space_star/1103321424-33d84b93/?geo_id=10174\n"
     ]
    },
    {
     "name": "stderr",
     "output_type": "stream",
     "text": [
      "\r",
      "506it [35:59,  4.08s/it]"
     ]
    },
    {
     "name": "stdout",
     "output_type": "stream",
     "text": [
      "Processing url 507: https://auto.ru/cars/used/sale/mitsubishi/lancer/1115090524-645836de/?geo_id=10174\n"
     ]
    },
    {
     "name": "stderr",
     "output_type": "stream",
     "text": [
      "\r",
      "507it [36:03,  4.05s/it]"
     ]
    },
    {
     "name": "stdout",
     "output_type": "stream",
     "text": [
      "Processing url 508: https://auto.ru/cars/used/sale/mitsubishi/chariot/1114681269-a8744f58/?geo_id=10174\n"
     ]
    },
    {
     "name": "stderr",
     "output_type": "stream",
     "text": [
      "\r",
      "508it [36:08,  4.21s/it]"
     ]
    },
    {
     "name": "stdout",
     "output_type": "stream",
     "text": [
      "Processing url 509: https://auto.ru/cars/used/sale/mitsubishi/pajero_sport/1114794009-41fb181f/?geo_id=10174\n"
     ]
    },
    {
     "name": "stderr",
     "output_type": "stream",
     "text": [
      "\r",
      "509it [36:12,  4.13s/it]"
     ]
    },
    {
     "name": "stdout",
     "output_type": "stream",
     "text": [
      "Processing url 510: https://auto.ru/cars/used/sale/mitsubishi/lancer/1096315332-eefe5464/?geo_id=10174\n"
     ]
    },
    {
     "name": "stderr",
     "output_type": "stream",
     "text": [
      "\r",
      "510it [36:16,  4.20s/it]"
     ]
    },
    {
     "name": "stdout",
     "output_type": "stream",
     "text": [
      "Processing url 511: https://auto.ru/cars/used/sale/mitsubishi/asx/1105848298-58821fcf/?geo_id=10174\n"
     ]
    },
    {
     "name": "stderr",
     "output_type": "stream",
     "text": [
      "\r",
      "511it [36:20,  4.11s/it]"
     ]
    },
    {
     "name": "stdout",
     "output_type": "stream",
     "text": [
      "Processing url 512: https://auto.ru/cars/used/sale/mitsubishi/lancer/1115139108-c95d53fd/?geo_id=10174\n"
     ]
    },
    {
     "name": "stderr",
     "output_type": "stream",
     "text": [
      "\r",
      "512it [36:24,  4.05s/it]"
     ]
    },
    {
     "name": "stdout",
     "output_type": "stream",
     "text": [
      "Processing url 513: https://auto.ru/cars/used/sale/mitsubishi/outlander/1115012724-3cafc11e/?geo_id=10174\n"
     ]
    },
    {
     "name": "stderr",
     "output_type": "stream",
     "text": [
      "\r",
      "513it [36:28,  4.09s/it]"
     ]
    },
    {
     "name": "stdout",
     "output_type": "stream",
     "text": [
      "Processing url 514: https://auto.ru/cars/used/sale/mitsubishi/pajero/1105578914-71072b94/?geo_id=10174\n"
     ]
    },
    {
     "name": "stderr",
     "output_type": "stream",
     "text": [
      "\r",
      "514it [36:32,  4.02s/it]"
     ]
    },
    {
     "name": "stdout",
     "output_type": "stream",
     "text": [
      "Processing url 515: https://auto.ru/cars/used/sale/mitsubishi/l200/1106433047-7697db86/?geo_id=10174\n"
     ]
    },
    {
     "name": "stderr",
     "output_type": "stream",
     "text": [
      "\r",
      "515it [36:36,  3.95s/it]"
     ]
    },
    {
     "name": "stdout",
     "output_type": "stream",
     "text": [
      "Processing url 516: https://auto.ru/cars/used/sale/mitsubishi/outlander/1104214968-a450b687/?geo_id=10174\n"
     ]
    },
    {
     "name": "stderr",
     "output_type": "stream",
     "text": [
      "\r",
      "516it [36:40,  3.88s/it]"
     ]
    },
    {
     "name": "stdout",
     "output_type": "stream",
     "text": [
      "Processing url 517: https://auto.ru/cars/used/sale/mitsubishi/lancer/1114907996-d3b6b884/?geo_id=10174\n"
     ]
    },
    {
     "name": "stderr",
     "output_type": "stream",
     "text": [
      "\r",
      "517it [36:44,  3.97s/it]"
     ]
    },
    {
     "name": "stdout",
     "output_type": "stream",
     "text": [
      "Processing url 518: https://auto.ru/cars/used/sale/mitsubishi/galant/1106443121-5a81beaa/?geo_id=10174\n"
     ]
    },
    {
     "name": "stderr",
     "output_type": "stream",
     "text": [
      "\r",
      "518it [36:48,  3.97s/it]"
     ]
    },
    {
     "name": "stdout",
     "output_type": "stream",
     "text": [
      "Processing url 519: https://auto.ru/cars/used/sale/mitsubishi/lancer/1114685153-a17ef182/?geo_id=10174\n"
     ]
    },
    {
     "name": "stderr",
     "output_type": "stream",
     "text": [
      "\r",
      "519it [36:52,  3.97s/it]"
     ]
    },
    {
     "name": "stdout",
     "output_type": "stream",
     "text": [
      "Processing url 520: https://auto.ru/cars/used/sale/mitsubishi/pajero/1115194174-10e381c9/?geo_id=10174\n"
     ]
    },
    {
     "name": "stderr",
     "output_type": "stream",
     "text": [
      "\r",
      "520it [36:56,  3.95s/it]"
     ]
    },
    {
     "name": "stdout",
     "output_type": "stream",
     "text": [
      "Processing url 521: https://auto.ru/cars/used/sale/mitsubishi/outlander/1115188719-6062b195/?geo_id=10174\n"
     ]
    },
    {
     "name": "stderr",
     "output_type": "stream",
     "text": [
      "\r",
      "521it [37:01,  4.21s/it]"
     ]
    },
    {
     "name": "stdout",
     "output_type": "stream",
     "text": [
      "Processing url 522: https://auto.ru/cars/used/sale/mitsubishi/galant/1115190896-42e5d71b/?geo_id=10174\n"
     ]
    },
    {
     "name": "stderr",
     "output_type": "stream",
     "text": [
      "\r",
      "522it [37:04,  4.12s/it]"
     ]
    },
    {
     "name": "stdout",
     "output_type": "stream",
     "text": [
      "Processing url 523: https://auto.ru/cars/used/sale/mitsubishi/pajero_sport/1115101686-c80d199c/?geo_id=10174\n"
     ]
    },
    {
     "name": "stderr",
     "output_type": "stream",
     "text": [
      "\r",
      "523it [37:08,  4.07s/it]"
     ]
    },
    {
     "name": "stdout",
     "output_type": "stream",
     "text": [
      "Processing url 524: https://auto.ru/cars/used/sale/mitsubishi/lancer/1115029769-b783917b/?geo_id=10174\n"
     ]
    },
    {
     "name": "stderr",
     "output_type": "stream",
     "text": [
      "\r",
      "524it [37:13,  4.13s/it]"
     ]
    },
    {
     "name": "stdout",
     "output_type": "stream",
     "text": [
      "Processing url 525: https://auto.ru/cars/used/sale/mitsubishi/lancer/1115188645-4d1321ed/?geo_id=10174\n"
     ]
    },
    {
     "name": "stderr",
     "output_type": "stream",
     "text": [
      "\r",
      "525it [37:17,  4.25s/it]"
     ]
    },
    {
     "name": "stdout",
     "output_type": "stream",
     "text": [
      "Processing url 526: https://auto.ru/cars/used/sale/mitsubishi/outlander/1115188261-80d9d95b/?geo_id=10174\n"
     ]
    },
    {
     "name": "stderr",
     "output_type": "stream",
     "text": [
      "\r",
      "526it [37:21,  4.22s/it]"
     ]
    },
    {
     "name": "stdout",
     "output_type": "stream",
     "text": [
      "Processing url 527: https://auto.ru/cars/used/sale/mitsubishi/lancer/1115187954-e1608a87/?geo_id=10174\n"
     ]
    },
    {
     "name": "stderr",
     "output_type": "stream",
     "text": [
      "\r",
      "527it [37:25,  4.17s/it]"
     ]
    },
    {
     "name": "stdout",
     "output_type": "stream",
     "text": [
      "Processing url 528: https://auto.ru/cars/used/sale/mitsubishi/asx/1114963413-df83e75e/?geo_id=10174\n"
     ]
    },
    {
     "name": "stderr",
     "output_type": "stream",
     "text": [
      "\r",
      "528it [37:29,  4.13s/it]"
     ]
    },
    {
     "name": "stdout",
     "output_type": "stream",
     "text": [
      "Processing url 529: https://auto.ru/cars/used/sale/mitsubishi/pajero/1115182525-aff66524/?geo_id=10174\n"
     ]
    },
    {
     "name": "stderr",
     "output_type": "stream",
     "text": [
      "\r",
      "529it [37:34,  4.22s/it]"
     ]
    },
    {
     "name": "stdout",
     "output_type": "stream",
     "text": [
      "Processing url 530: https://auto.ru/cars/used/sale/mitsubishi/l200/1106297262-02e21ae5/?geo_id=10174\n"
     ]
    },
    {
     "name": "stderr",
     "output_type": "stream",
     "text": [
      "\r",
      "530it [37:38,  4.20s/it]"
     ]
    },
    {
     "name": "stdout",
     "output_type": "stream",
     "text": [
      "Processing url 531: https://auto.ru/cars/used/sale/mitsubishi/outlander/1106662656-e2398a78/?geo_id=10174\n"
     ]
    },
    {
     "name": "stderr",
     "output_type": "stream",
     "text": [
      "\r",
      "531it [37:44,  4.66s/it]"
     ]
    },
    {
     "name": "stdout",
     "output_type": "stream",
     "text": [
      "Processing url 532: https://auto.ru/cars/used/sale/mitsubishi/lancer/1115187955-0649980a/?geo_id=10174\n"
     ]
    },
    {
     "name": "stderr",
     "output_type": "stream",
     "text": [
      "\r",
      "532it [37:45,  3.55s/it]"
     ]
    },
    {
     "name": "stdout",
     "output_type": "stream",
     "text": [
      "Error 404\r",
      "Processing url 533: https://auto.ru/cars/used/sale/mitsubishi/carisma/1115191626-6b1aa83b/?geo_id=10174\n"
     ]
    },
    {
     "name": "stderr",
     "output_type": "stream",
     "text": [
      "\r",
      "533it [37:49,  3.67s/it]"
     ]
    },
    {
     "name": "stdout",
     "output_type": "stream",
     "text": [
      "Processing url 534: https://auto.ru/cars/used/sale/mitsubishi/lancer/1114923901-b10dbf62/?geo_id=10174\n"
     ]
    },
    {
     "name": "stderr",
     "output_type": "stream",
     "text": [
      "\r",
      "534it [37:53,  3.93s/it]"
     ]
    },
    {
     "name": "stdout",
     "output_type": "stream",
     "text": [
      "Processing url 535: https://auto.ru/cars/used/sale/mitsubishi/lancer/1114855191-276cb3ef/?geo_id=10174\n"
     ]
    },
    {
     "name": "stderr",
     "output_type": "stream",
     "text": [
      "\r",
      "535it [37:57,  3.93s/it]"
     ]
    },
    {
     "name": "stdout",
     "output_type": "stream",
     "text": [
      "Processing url 536: https://auto.ru/cars/used/sale/mitsubishi/pajero_sport/1114738652-94c50fe9/?geo_id=10174\n"
     ]
    },
    {
     "name": "stderr",
     "output_type": "stream",
     "text": [
      "\r",
      "536it [38:01,  3.89s/it]"
     ]
    },
    {
     "name": "stdout",
     "output_type": "stream",
     "text": [
      "Processing url 537: https://auto.ru/cars/used/sale/mitsubishi/lancer/1106703949-fa60f2af/?geo_id=10174\n"
     ]
    },
    {
     "name": "stderr",
     "output_type": "stream",
     "text": [
      "\r",
      "537it [38:05,  3.91s/it]"
     ]
    },
    {
     "name": "stdout",
     "output_type": "stream",
     "text": [
      "Processing url 538: https://auto.ru/cars/used/sale/mitsubishi/colt/1106132438-36b92090/?geo_id=10174\n"
     ]
    },
    {
     "name": "stderr",
     "output_type": "stream",
     "text": [
      "\r",
      "538it [38:09,  4.04s/it]"
     ]
    },
    {
     "name": "stdout",
     "output_type": "stream",
     "text": [
      "Processing url 539: https://auto.ru/cars/used/sale/mitsubishi/galant/1115143712-23e91422/?geo_id=10174\n"
     ]
    },
    {
     "name": "stderr",
     "output_type": "stream",
     "text": [
      "\r",
      "539it [38:14,  4.26s/it]"
     ]
    },
    {
     "name": "stdout",
     "output_type": "stream",
     "text": [
      "Processing url 540: https://auto.ru/cars/used/sale/mitsubishi/l200/1115125465-c0265e32/?geo_id=10174\n"
     ]
    },
    {
     "name": "stderr",
     "output_type": "stream",
     "text": [
      "\r",
      "540it [38:18,  4.20s/it]"
     ]
    },
    {
     "name": "stdout",
     "output_type": "stream",
     "text": [
      "Processing url 541: https://auto.ru/cars/used/sale/mitsubishi/lancer/1115123142-11f26d2c/?geo_id=10174\n"
     ]
    },
    {
     "name": "stderr",
     "output_type": "stream",
     "text": [
      "\r",
      "541it [38:22,  4.23s/it]"
     ]
    },
    {
     "name": "stdout",
     "output_type": "stream",
     "text": [
      "Processing url 542: https://auto.ru/cars/used/sale/mitsubishi/outlander/1115111024-6beb9f89/?geo_id=10174\n"
     ]
    },
    {
     "name": "stderr",
     "output_type": "stream",
     "text": [
      "\r",
      "542it [38:26,  4.18s/it]"
     ]
    },
    {
     "name": "stdout",
     "output_type": "stream",
     "text": [
      "Processing url 543: https://auto.ru/cars/used/sale/mitsubishi/outlander/1115089805-f3d761a0/?geo_id=10174\n"
     ]
    },
    {
     "name": "stderr",
     "output_type": "stream",
     "text": [
      "\r",
      "543it [38:31,  4.35s/it]"
     ]
    },
    {
     "name": "stdout",
     "output_type": "stream",
     "text": [
      "Processing url 544: https://auto.ru/cars/used/sale/mitsubishi/lancer/1115015004-d32a7ce7/?geo_id=10174\n"
     ]
    },
    {
     "name": "stderr",
     "output_type": "stream",
     "text": [
      "\r",
      "544it [38:35,  4.25s/it]"
     ]
    },
    {
     "name": "stdout",
     "output_type": "stream",
     "text": [
      "Processing url 545: https://auto.ru/cars/used/sale/mitsubishi/galant/1114993204-fab143d2/?geo_id=10174\n"
     ]
    },
    {
     "name": "stderr",
     "output_type": "stream",
     "text": [
      "\r",
      "545it [38:39,  4.26s/it]"
     ]
    },
    {
     "name": "stdout",
     "output_type": "stream",
     "text": [
      "Processing url 546: https://auto.ru/cars/used/sale/mitsubishi/l200/1114936484-81c9caf3/?geo_id=10174\n"
     ]
    },
    {
     "name": "stderr",
     "output_type": "stream",
     "text": [
      "\r",
      "546it [38:44,  4.22s/it]"
     ]
    },
    {
     "name": "stdout",
     "output_type": "stream",
     "text": [
      "Processing url 547: https://auto.ru/cars/used/sale/mitsubishi/pajero/1114768762-de8013b8/?geo_id=10174\n"
     ]
    },
    {
     "name": "stderr",
     "output_type": "stream",
     "text": [
      "\r",
      "547it [38:48,  4.29s/it]"
     ]
    },
    {
     "name": "stdout",
     "output_type": "stream",
     "text": [
      "Processing url 548: https://auto.ru/cars/used/sale/mitsubishi/l200/1114765644-6ed0ef8f/?geo_id=10174\n"
     ]
    },
    {
     "name": "stderr",
     "output_type": "stream",
     "text": [
      "\r",
      "548it [38:52,  4.30s/it]"
     ]
    },
    {
     "name": "stdout",
     "output_type": "stream",
     "text": [
      "Processing url 549: https://auto.ru/cars/used/sale/mitsubishi/l200/1104074681-0676ab0d/?geo_id=10174\n"
     ]
    },
    {
     "name": "stderr",
     "output_type": "stream",
     "text": [
      "\r",
      "549it [38:56,  4.14s/it]"
     ]
    },
    {
     "name": "stdout",
     "output_type": "stream",
     "text": [
      "Processing url 550: https://auto.ru/cars/used/sale/mitsubishi/lancer/1096645824-53b62357/?geo_id=10174\n"
     ]
    },
    {
     "name": "stderr",
     "output_type": "stream",
     "text": [
      "\r",
      "550it [39:01,  4.25s/it]"
     ]
    },
    {
     "name": "stdout",
     "output_type": "stream",
     "text": [
      "Processing url 551: https://auto.ru/cars/used/sale/mitsubishi/outlander/1106159438-075bfd09/?geo_id=10174\n"
     ]
    },
    {
     "name": "stderr",
     "output_type": "stream",
     "text": [
      "\r",
      "551it [39:05,  4.35s/it]"
     ]
    },
    {
     "name": "stdout",
     "output_type": "stream",
     "text": [
      "Processing url 552: https://auto.ru/cars/used/sale/mitsubishi/lancer/1115169979-dc120ca7/?geo_id=10174\n"
     ]
    },
    {
     "name": "stderr",
     "output_type": "stream",
     "text": [
      "\r",
      "552it [39:09,  4.32s/it]"
     ]
    },
    {
     "name": "stdout",
     "output_type": "stream",
     "text": [
      "Processing url 553: https://auto.ru/cars/used/sale/mitsubishi/outlander/1115146534-2d9e265f/?geo_id=10174\n"
     ]
    },
    {
     "name": "stderr",
     "output_type": "stream",
     "text": [
      "\r",
      "553it [39:14,  4.27s/it]"
     ]
    },
    {
     "name": "stdout",
     "output_type": "stream",
     "text": [
      "Processing url 554: https://auto.ru/cars/used/sale/mitsubishi/outlander/1115124965-77fad0db/?geo_id=10174\n"
     ]
    },
    {
     "name": "stderr",
     "output_type": "stream",
     "text": [
      "\r",
      "554it [39:18,  4.23s/it]"
     ]
    },
    {
     "name": "stdout",
     "output_type": "stream",
     "text": [
      "Processing url 555: https://auto.ru/cars/used/sale/mitsubishi/eclipse_cross/1115072116-60dfeabf/?geo_id=10174\n"
     ]
    },
    {
     "name": "stderr",
     "output_type": "stream",
     "text": [
      "\r",
      "555it [39:22,  4.31s/it]"
     ]
    },
    {
     "name": "stdout",
     "output_type": "stream",
     "text": [
      "Processing url 556: https://auto.ru/cars/used/sale/mitsubishi/carisma/1115056605-5153fae5/?geo_id=10174\n"
     ]
    },
    {
     "name": "stderr",
     "output_type": "stream",
     "text": [
      "\r",
      "556it [39:26,  4.26s/it]"
     ]
    },
    {
     "name": "stdout",
     "output_type": "stream",
     "text": [
      "Processing url 557: https://auto.ru/cars/used/sale/mitsubishi/lancer/1114933155-add3ec59/?geo_id=10174\n"
     ]
    },
    {
     "name": "stderr",
     "output_type": "stream",
     "text": [
      "\r",
      "557it [39:31,  4.24s/it]"
     ]
    },
    {
     "name": "stdout",
     "output_type": "stream",
     "text": [
      "Processing url 558: https://auto.ru/cars/used/sale/mitsubishi/asx/1114921676-d1b9866e/?geo_id=10174\n"
     ]
    },
    {
     "name": "stderr",
     "output_type": "stream",
     "text": [
      "\r",
      "558it [39:34,  4.12s/it]"
     ]
    },
    {
     "name": "stdout",
     "output_type": "stream",
     "text": [
      "Processing url 559: https://auto.ru/cars/used/sale/mitsubishi/lancer/1114795747-90e46110/?geo_id=10174\n"
     ]
    },
    {
     "name": "stderr",
     "output_type": "stream",
     "text": [
      "\r",
      "559it [39:39,  4.29s/it]"
     ]
    },
    {
     "name": "stdout",
     "output_type": "stream",
     "text": [
      "Processing url 560: https://auto.ru/cars/used/sale/mitsubishi/pajero_sport/1106123813-8c7bba9b/?geo_id=10174\n"
     ]
    },
    {
     "name": "stderr",
     "output_type": "stream",
     "text": [
      "\r",
      "560it [39:43,  4.31s/it]"
     ]
    },
    {
     "name": "stdout",
     "output_type": "stream",
     "text": [
      "Processing url 561: https://auto.ru/cars/used/sale/mitsubishi/eclipse/1105898590-9e3d9120/?geo_id=10174\n"
     ]
    },
    {
     "name": "stderr",
     "output_type": "stream",
     "text": [
      "\r",
      "561it [39:49,  4.53s/it]"
     ]
    },
    {
     "name": "stdout",
     "output_type": "stream",
     "text": [
      "Processing url 562: https://auto.ru/cars/used/sale/mitsubishi/pajero/1105287755-bcdf9fdd/?geo_id=10174\n"
     ]
    },
    {
     "name": "stderr",
     "output_type": "stream",
     "text": [
      "\r",
      "562it [39:53,  4.39s/it]"
     ]
    },
    {
     "name": "stdout",
     "output_type": "stream",
     "text": [
      "Processing url 563: https://auto.ru/cars/used/sale/mitsubishi/lancer/1105093653-0cc24b40/?geo_id=10174\n"
     ]
    },
    {
     "name": "stderr",
     "output_type": "stream",
     "text": [
      "\r",
      "563it [39:57,  4.46s/it]"
     ]
    },
    {
     "name": "stdout",
     "output_type": "stream",
     "text": [
      "Processing url 564: https://auto.ru/cars/used/sale/mitsubishi/galant/1104683148-4a34d700/?geo_id=10174\n"
     ]
    },
    {
     "name": "stderr",
     "output_type": "stream",
     "text": [
      "\r",
      "564it [40:01,  4.32s/it]"
     ]
    },
    {
     "name": "stdout",
     "output_type": "stream",
     "text": [
      "Processing url 565: https://auto.ru/cars/used/sale/mitsubishi/lancer/1102950963-d522dc96/?geo_id=10174\n"
     ]
    },
    {
     "name": "stderr",
     "output_type": "stream",
     "text": [
      "\r",
      "565it [40:06,  4.44s/it]"
     ]
    },
    {
     "name": "stdout",
     "output_type": "stream",
     "text": [
      "Processing url 566: https://auto.ru/cars/used/sale/mitsubishi/pajero/1102383102-4c77054d/?geo_id=10174\n"
     ]
    },
    {
     "name": "stderr",
     "output_type": "stream",
     "text": [
      "\r",
      "566it [40:10,  4.35s/it]"
     ]
    },
    {
     "name": "stdout",
     "output_type": "stream",
     "text": [
      "Processing url 567: https://auto.ru/cars/used/sale/mitsubishi/lancer_evolution/1098903866-e9b51c33/?geo_id=10174\n"
     ]
    },
    {
     "name": "stderr",
     "output_type": "stream",
     "text": [
      "\r",
      "567it [40:14,  4.34s/it]"
     ]
    },
    {
     "name": "stdout",
     "output_type": "stream",
     "text": [
      "Processing url 568: https://auto.ru/cars/used/sale/mitsubishi/outlander/1097939630-de73fcce/?geo_id=10174\n"
     ]
    },
    {
     "name": "stderr",
     "output_type": "stream",
     "text": [
      "\r",
      "568it [40:19,  4.37s/it]"
     ]
    },
    {
     "name": "stdout",
     "output_type": "stream",
     "text": [
      "Processing url 569: https://auto.ru/cars/used/sale/mitsubishi/outlander/1114948205-1ad84899/?geo_id=10174\n"
     ]
    },
    {
     "name": "stderr",
     "output_type": "stream",
     "text": [
      "\r",
      "569it [40:23,  4.24s/it]"
     ]
    },
    {
     "name": "stdout",
     "output_type": "stream",
     "text": [
      "Processing url 570: https://auto.ru/cars/used/sale/mitsubishi/pajero/1115164322-20d72735/?geo_id=10174\n"
     ]
    },
    {
     "name": "stderr",
     "output_type": "stream",
     "text": [
      "\r",
      "570it [40:27,  4.09s/it]"
     ]
    },
    {
     "name": "stdout",
     "output_type": "stream",
     "text": [
      "Processing url 571: https://auto.ru/cars/used/sale/mitsubishi/outlander/1115161316-fa7dca44/?geo_id=10174\n"
     ]
    },
    {
     "name": "stderr",
     "output_type": "stream",
     "text": [
      "\r",
      "571it [40:31,  4.18s/it]"
     ]
    },
    {
     "name": "stdout",
     "output_type": "stream",
     "text": [
      "Processing url 572: https://auto.ru/cars/used/sale/mitsubishi/lancer/1115141054-cd2c560a/?geo_id=10174\n"
     ]
    },
    {
     "name": "stderr",
     "output_type": "stream",
     "text": [
      "\r",
      "572it [40:35,  4.20s/it]"
     ]
    },
    {
     "name": "stdout",
     "output_type": "stream",
     "text": [
      "Processing url 573: https://auto.ru/cars/used/sale/mitsubishi/lancer/1115137482-c201263f/?geo_id=10174\n"
     ]
    },
    {
     "name": "stderr",
     "output_type": "stream",
     "text": [
      "\r",
      "573it [40:39,  4.24s/it]"
     ]
    },
    {
     "name": "stdout",
     "output_type": "stream",
     "text": [
      "Processing url 574: https://auto.ru/cars/used/sale/mitsubishi/l200/1115127996-2a69c2bd/?geo_id=10174\n"
     ]
    },
    {
     "name": "stderr",
     "output_type": "stream",
     "text": [
      "\r",
      "574it [40:44,  4.18s/it]"
     ]
    },
    {
     "name": "stdout",
     "output_type": "stream",
     "text": [
      "Processing url 575: https://auto.ru/cars/used/sale/mitsubishi/outlander/1115116326-6cf021c0/?geo_id=10174\n"
     ]
    },
    {
     "name": "stderr",
     "output_type": "stream",
     "text": [
      "\r",
      "575it [40:48,  4.27s/it]"
     ]
    },
    {
     "name": "stdout",
     "output_type": "stream",
     "text": [
      "Processing url 576: https://auto.ru/cars/used/sale/mitsubishi/lancer/1115113859-40aa6b0f/?geo_id=10174\n"
     ]
    },
    {
     "name": "stderr",
     "output_type": "stream",
     "text": [
      "\r",
      "576it [40:52,  4.18s/it]"
     ]
    },
    {
     "name": "stdout",
     "output_type": "stream",
     "text": [
      "Processing url 577: https://auto.ru/cars/used/sale/mitsubishi/outlander/1115107629-f7c56191/?geo_id=10174\n"
     ]
    },
    {
     "name": "stderr",
     "output_type": "stream",
     "text": [
      "\r",
      "577it [40:56,  4.14s/it]"
     ]
    },
    {
     "name": "stdout",
     "output_type": "stream",
     "text": [
      "Processing url 578: https://auto.ru/cars/used/sale/mitsubishi/galant/1115075028-71df56f9/?geo_id=10174\n"
     ]
    },
    {
     "name": "stderr",
     "output_type": "stream",
     "text": [
      "\r",
      "578it [41:00,  4.14s/it]"
     ]
    },
    {
     "name": "stdout",
     "output_type": "stream",
     "text": [
      "Processing url 579: https://auto.ru/cars/used/sale/mitsubishi/galant/1115054210-1700719f/?geo_id=10174\n"
     ]
    },
    {
     "name": "stderr",
     "output_type": "stream",
     "text": [
      "\r",
      "579it [41:04,  4.09s/it]"
     ]
    },
    {
     "name": "stdout",
     "output_type": "stream",
     "text": [
      "Processing url 580: https://auto.ru/cars/used/sale/mitsubishi/lancer/1114879475-c26772d6/?geo_id=10174\n"
     ]
    },
    {
     "name": "stderr",
     "output_type": "stream",
     "text": [
      "\r",
      "580it [41:09,  4.20s/it]"
     ]
    },
    {
     "name": "stdout",
     "output_type": "stream",
     "text": [
      "Processing url 581: https://auto.ru/cars/used/sale/mitsubishi/rvr/1114742110-a30ebff0/?geo_id=10174\n"
     ]
    },
    {
     "name": "stderr",
     "output_type": "stream",
     "text": [
      "\r",
      "581it [41:13,  4.12s/it]"
     ]
    },
    {
     "name": "stdout",
     "output_type": "stream",
     "text": [
      "Processing url 582: https://auto.ru/cars/used/sale/mitsubishi/outlander/1114742080-4bbc0f5c/?geo_id=10174\n"
     ]
    },
    {
     "name": "stderr",
     "output_type": "stream",
     "text": [
      "\r",
      "582it [41:17,  4.14s/it]"
     ]
    },
    {
     "name": "stdout",
     "output_type": "stream",
     "text": [
      "Processing url 583: https://auto.ru/cars/used/sale/mitsubishi/colt/1105751855-fd5c1766/?geo_id=10174\n"
     ]
    },
    {
     "name": "stderr",
     "output_type": "stream",
     "text": [
      "\r",
      "583it [41:21,  4.11s/it]"
     ]
    },
    {
     "name": "stdout",
     "output_type": "stream",
     "text": [
      "Processing url 584: https://auto.ru/cars/used/sale/mitsubishi/outlander/1087374722-1d914e4d/?geo_id=10174\n"
     ]
    },
    {
     "name": "stderr",
     "output_type": "stream",
     "text": [
      "\r",
      "584it [41:25,  4.24s/it]"
     ]
    },
    {
     "name": "stdout",
     "output_type": "stream",
     "text": [
      "Processing url 585: https://auto.ru/cars/used/sale/mitsubishi/montero/1091491660-dce943a3/?geo_id=10174\n"
     ]
    },
    {
     "name": "stderr",
     "output_type": "stream",
     "text": [
      "\r",
      "585it [41:29,  4.18s/it]"
     ]
    },
    {
     "name": "stdout",
     "output_type": "stream",
     "text": [
      "Processing url 586: https://auto.ru/cars/used/sale/mitsubishi/outlander/1115059641-1b8e08f0/?geo_id=10174\n"
     ]
    },
    {
     "name": "stderr",
     "output_type": "stream",
     "text": [
      "\r",
      "586it [41:34,  4.18s/it]"
     ]
    },
    {
     "name": "stdout",
     "output_type": "stream",
     "text": [
      "Processing url 587: https://auto.ru/cars/used/sale/mitsubishi/galant/1106093856-80f9a397/?geo_id=10174\n"
     ]
    },
    {
     "name": "stderr",
     "output_type": "stream",
     "text": [
      "\r",
      "587it [41:38,  4.13s/it]"
     ]
    },
    {
     "name": "stdout",
     "output_type": "stream",
     "text": [
      "Processing url 588: https://auto.ru/cars/used/sale/mitsubishi/pajero/1106000569-979eb034/?geo_id=10174\n"
     ]
    },
    {
     "name": "stderr",
     "output_type": "stream",
     "text": [
      "\r",
      "588it [41:42,  4.33s/it]"
     ]
    },
    {
     "name": "stdout",
     "output_type": "stream",
     "text": [
      "Processing url 589: https://auto.ru/cars/used/sale/mitsubishi/pajero/1103144126-10e7a4df/?geo_id=10174\n"
     ]
    },
    {
     "name": "stderr",
     "output_type": "stream",
     "text": [
      "\r",
      "589it [41:46,  4.26s/it]"
     ]
    },
    {
     "name": "stdout",
     "output_type": "stream",
     "text": [
      "Processing url 590: https://auto.ru/cars/used/sale/mitsubishi/carisma/1079378920-486d7eb1/?geo_id=10174\n"
     ]
    },
    {
     "name": "stderr",
     "output_type": "stream",
     "text": [
      "\r",
      "590it [41:50,  4.19s/it]"
     ]
    },
    {
     "name": "stdout",
     "output_type": "stream",
     "text": [
      "Processing url 591: https://auto.ru/cars/used/sale/mitsubishi/pajero/1106679949-3d9d6401/?geo_id=10174\n"
     ]
    },
    {
     "name": "stderr",
     "output_type": "stream",
     "text": [
      "\r",
      "591it [41:55,  4.17s/it]"
     ]
    },
    {
     "name": "stdout",
     "output_type": "stream",
     "text": [
      "Processing url 592: https://auto.ru/cars/used/sale/mitsubishi/pajero/1115113755-d7d72907/?geo_id=10174\n"
     ]
    },
    {
     "name": "stderr",
     "output_type": "stream",
     "text": [
      "\r",
      "592it [41:59,  4.19s/it]"
     ]
    },
    {
     "name": "stdout",
     "output_type": "stream",
     "text": [
      "Processing url 593: https://auto.ru/cars/used/sale/mitsubishi/lancer/1115038444-79deba5d/?geo_id=10174\n"
     ]
    },
    {
     "name": "stderr",
     "output_type": "stream",
     "text": [
      "\r",
      "593it [42:03,  4.22s/it]"
     ]
    },
    {
     "name": "stdout",
     "output_type": "stream",
     "text": [
      "Processing url 594: https://auto.ru/cars/used/sale/mitsubishi/i_miev/1106503838-0c8ef434/?geo_id=10174\n"
     ]
    },
    {
     "name": "stderr",
     "output_type": "stream",
     "text": [
      "593it [42:07,  4.26s/it]\n"
     ]
    },
    {
     "ename": "IndexError",
     "evalue": "list index out of range",
     "output_type": "error",
     "traceback": [
      "\u001b[0;31m---------------------------------------------------------------------------\u001b[0m",
      "\u001b[0;31mIndexError\u001b[0m                                Traceback (most recent call last)",
      "Input \u001b[0;32mIn [25]\u001b[0m, in \u001b[0;36m<cell line: 2>\u001b[0;34m()\u001b[0m\n\u001b[1;32m      5\u001b[0m \u001b[38;5;28;01mtry\u001b[39;00m:\n\u001b[1;32m      6\u001b[0m     sleep(randint(\u001b[38;5;241m30\u001b[39m, \u001b[38;5;241m70\u001b[39m)\u001b[38;5;241m/\u001b[39m\u001b[38;5;241m100.\u001b[39m)\n\u001b[0;32m----> 7\u001b[0m     valid_data \u001b[38;5;241m=\u001b[39m valid_data\u001b[38;5;241m.\u001b[39mappend(\u001b[43mget_car_info\u001b[49m\u001b[43m(\u001b[49m\u001b[43murl\u001b[49m\u001b[43m)\u001b[49m, ignore_index\u001b[38;5;241m=\u001b[39m\u001b[38;5;28;01mTrue\u001b[39;00m)\n\u001b[1;32m      8\u001b[0m \u001b[38;5;28;01mexcept\u001b[39;00m NoSuchElementException:\n\u001b[1;32m      9\u001b[0m     \u001b[38;5;28mprint\u001b[39m(\u001b[38;5;124m'\u001b[39m\u001b[38;5;124mError 404\u001b[39m\u001b[38;5;124m'\u001b[39m, end\u001b[38;5;241m=\u001b[39m\u001b[38;5;124m'\u001b[39m\u001b[38;5;130;01m\\r\u001b[39;00m\u001b[38;5;124m'\u001b[39m)\n",
      "Input \u001b[0;32mIn [21]\u001b[0m, in \u001b[0;36mget_car_info\u001b[0;34m(url)\u001b[0m\n\u001b[1;32m     15\u001b[0m color \u001b[38;5;241m=\u001b[39m driver\u001b[38;5;241m.\u001b[39mfind_element(By\u001b[38;5;241m.\u001b[39mCLASS_NAME, \u001b[38;5;124m'\u001b[39m\u001b[38;5;124mCardInfoRow_color\u001b[39m\u001b[38;5;124m'\u001b[39m)\u001b[38;5;241m.\u001b[39mtext\u001b[38;5;241m.\u001b[39msplit(\u001b[38;5;124m'\u001b[39m\u001b[38;5;130;01m\\n\u001b[39;00m\u001b[38;5;124m'\u001b[39m)[\u001b[38;5;241m1\u001b[39m]\n\u001b[1;32m     17\u001b[0m engine \u001b[38;5;241m=\u001b[39m driver\u001b[38;5;241m.\u001b[39mfind_element(By\u001b[38;5;241m.\u001b[39mCLASS_NAME, \u001b[38;5;124m'\u001b[39m\u001b[38;5;124mCardInfoRow_engine\u001b[39m\u001b[38;5;124m'\u001b[39m)\u001b[38;5;241m.\u001b[39mtext\u001b[38;5;241m.\u001b[39msplit(\u001b[38;5;124m'\u001b[39m\u001b[38;5;124m/\u001b[39m\u001b[38;5;124m'\u001b[39m)\n\u001b[0;32m---> 18\u001b[0m engineDisplacement \u001b[38;5;241m=\u001b[39m \u001b[38;5;28mfloat\u001b[39m(\u001b[43mre\u001b[49m\u001b[38;5;241;43m.\u001b[39;49m\u001b[43mfindall\u001b[49m\u001b[43m(\u001b[49m\u001b[38;5;124;43m'\u001b[39;49m\u001b[38;5;124;43m(\u001b[39;49m\u001b[38;5;124;43m\\\u001b[39;49m\u001b[38;5;124;43md+.\u001b[39;49m\u001b[38;5;124;43m\\\u001b[39;49m\u001b[38;5;124;43md+)\u001b[39;49m\u001b[38;5;124;43m'\u001b[39;49m\u001b[43m,\u001b[49m\u001b[43m \u001b[49m\u001b[43mengine\u001b[49m\u001b[43m[\u001b[49m\u001b[38;5;241;43m0\u001b[39;49m\u001b[43m]\u001b[49m\u001b[43m)\u001b[49m\u001b[43m[\u001b[49m\u001b[38;5;241;43m0\u001b[39;49m\u001b[43m]\u001b[49m)\n\u001b[1;32m     19\u001b[0m enginePower \u001b[38;5;241m=\u001b[39m \u001b[38;5;28mint\u001b[39m(re\u001b[38;5;241m.\u001b[39mfindall(\u001b[38;5;124m'\u001b[39m\u001b[38;5;124m\\\u001b[39m\u001b[38;5;124md+\u001b[39m\u001b[38;5;124m'\u001b[39m, engine[\u001b[38;5;241m1\u001b[39m])[\u001b[38;5;241m0\u001b[39m])\n\u001b[1;32m     20\u001b[0m fuelType \u001b[38;5;241m=\u001b[39m engine[\u001b[38;5;241m2\u001b[39m]\n",
      "\u001b[0;31mIndexError\u001b[0m: list index out of range"
     ]
    }
   ],
   "source": [
    "i = 1\n",
    "for url in tqdm(all_urls):\n",
    "    print(f\"Processing url {i}: {url}\")\n",
    "    i += 1\n",
    "    try:\n",
    "        sleep(randint(30, 70)/100.)\n",
    "        valid_data = valid_data.append(get_car_info(url), ignore_index=True)\n",
    "    except NoSuchElementException:\n",
    "        print('Error 404', end='\\r')"
   ]
  },
  {
   "cell_type": "code",
   "execution_count": 27,
   "id": "fbff7a85",
   "metadata": {},
   "outputs": [],
   "source": [
    "valid_data.to_pickle(\"data/20220327_lo_mitsubishi.pkl.zip\", compression=\"zip\")"
   ]
  },
  {
   "cell_type": "code",
   "execution_count": 26,
   "id": "1b851912",
   "metadata": {},
   "outputs": [
    {
     "data": {
      "text/plain": [
       "['Skoda', 'Audi', 'Honda', 'Volvo', 'Mitsubishi']"
      ]
     },
     "execution_count": 26,
     "metadata": {},
     "output_type": "execute_result"
    }
   ],
   "source": [
    "valid_data.brand.unique().tolist()"
   ]
  },
  {
   "cell_type": "markdown",
   "id": "028ceed8",
   "metadata": {},
   "source": [
    "## Getting additional information from catalog (links from main DF)"
   ]
  },
  {
   "cell_type": "code",
   "execution_count": 17,
   "id": "4e08c0b4",
   "metadata": {},
   "outputs": [
    {
     "name": "stderr",
     "output_type": "stream",
     "text": [
      "  6%|██▌                                       | 53/851 [03:36<54:18,  4.08s/it]\n"
     ]
    },
    {
     "ename": "KeyError",
     "evalue": "'Расход топлива, л город/трасса/смешанный'",
     "output_type": "error",
     "traceback": [
      "\u001b[0;31m---------------------------------------------------------------------------\u001b[0m",
      "\u001b[0;31mKeyError\u001b[0m                                  Traceback (most recent call last)",
      "Input \u001b[0;32mIn [17]\u001b[0m, in \u001b[0;36m<cell line: 1>\u001b[0;34m()\u001b[0m\n\u001b[1;32m      1\u001b[0m \u001b[38;5;28;01mfor\u001b[39;00m car_url \u001b[38;5;129;01min\u001b[39;00m tqdm(valid_data[\u001b[38;5;124m'\u001b[39m\u001b[38;5;124mcatalog_url\u001b[39m\u001b[38;5;124m'\u001b[39m]\u001b[38;5;241m.\u001b[39mvalue_counts()\u001b[38;5;241m.\u001b[39mindex\u001b[38;5;241m.\u001b[39mtolist()):\n\u001b[1;32m      2\u001b[0m     \u001b[38;5;28;01mtry\u001b[39;00m:\n\u001b[0;32m----> 3\u001b[0m         catalog_data \u001b[38;5;241m=\u001b[39m catalog_data\u001b[38;5;241m.\u001b[39mappend(\u001b[43mget_dicts_from_catalog\u001b[49m\u001b[43m(\u001b[49m\u001b[43mcar_url\u001b[49m\u001b[43m)\u001b[49m, ignore_index\u001b[38;5;241m=\u001b[39m\u001b[38;5;28;01mTrue\u001b[39;00m)\n\u001b[1;32m      4\u001b[0m     \u001b[38;5;28;01mexcept\u001b[39;00m NoSuchElementException:\n\u001b[1;32m      5\u001b[0m         \u001b[38;5;28mprint\u001b[39m(\u001b[38;5;124m'\u001b[39m\u001b[38;5;124mError 404\u001b[39m\u001b[38;5;124m'\u001b[39m, end\u001b[38;5;241m=\u001b[39m\u001b[38;5;124m'\u001b[39m\u001b[38;5;130;01m\\r\u001b[39;00m\u001b[38;5;124m'\u001b[39m)\n",
      "Input \u001b[0;32mIn [12]\u001b[0m, in \u001b[0;36mget_dicts_from_catalog\u001b[0;34m(url)\u001b[0m\n\u001b[1;32m     16\u001b[0m gear_type_dict \u001b[38;5;241m=\u001b[39m {\u001b[38;5;124m'\u001b[39m\u001b[38;5;124mпередний\u001b[39m\u001b[38;5;124m'\u001b[39m: \u001b[38;5;124m'\u001b[39m\u001b[38;5;124mFORWARD_CONTROL\u001b[39m\u001b[38;5;124m'\u001b[39m, \u001b[38;5;124m'\u001b[39m\u001b[38;5;124mполный\u001b[39m\u001b[38;5;124m'\u001b[39m: \u001b[38;5;124m'\u001b[39m\u001b[38;5;124mALL_WHEEL_DRIVE\u001b[39m\u001b[38;5;124m'\u001b[39m, \u001b[38;5;124m'\u001b[39m\u001b[38;5;124mзадний\u001b[39m\u001b[38;5;124m'\u001b[39m: \u001b[38;5;124m'\u001b[39m\u001b[38;5;124mREAR_DRIVE\u001b[39m\u001b[38;5;124m'\u001b[39m}\n\u001b[1;32m     17\u001b[0m transmission_dict \u001b[38;5;241m=\u001b[39m {\u001b[38;5;124m'\u001b[39m\u001b[38;5;124mавтомат\u001b[39m\u001b[38;5;124m'\u001b[39m: \u001b[38;5;124m'\u001b[39m\u001b[38;5;124mAUTOMATIC\u001b[39m\u001b[38;5;124m'\u001b[39m, \u001b[38;5;124m'\u001b[39m\u001b[38;5;124mробот\u001b[39m\u001b[38;5;124m'\u001b[39m: \u001b[38;5;124m'\u001b[39m\u001b[38;5;124mROBOT\u001b[39m\u001b[38;5;124m'\u001b[39m, \n\u001b[1;32m     18\u001b[0m                      \u001b[38;5;124m'\u001b[39m\u001b[38;5;124mмеханика\u001b[39m\u001b[38;5;124m'\u001b[39m: \u001b[38;5;124m'\u001b[39m\u001b[38;5;124mMECHANICAL\u001b[39m\u001b[38;5;124m'\u001b[39m, \u001b[38;5;124m'\u001b[39m\u001b[38;5;124mвариатор\u001b[39m\u001b[38;5;124m'\u001b[39m: \u001b[38;5;124m'\u001b[39m\u001b[38;5;124mVARIATOR\u001b[39m\u001b[38;5;124m'\u001b[39m}\n\u001b[1;32m     20\u001b[0m car_info_dict_en \u001b[38;5;241m=\u001b[39m {\n\u001b[1;32m     21\u001b[0m     \u001b[38;5;124m'\u001b[39m\u001b[38;5;124mengine_type\u001b[39m\u001b[38;5;124m'\u001b[39m: engine_type_dict[car_info_dict_ru[\u001b[38;5;124m'\u001b[39m\u001b[38;5;124mТип двигателя\u001b[39m\u001b[38;5;124m'\u001b[39m]],\n\u001b[1;32m     22\u001b[0m     \u001b[38;5;124m'\u001b[39m\u001b[38;5;124mgear_type\u001b[39m\u001b[38;5;124m'\u001b[39m: gear_type_dict[car_info_dict_ru[\u001b[38;5;124m'\u001b[39m\u001b[38;5;124mПривод\u001b[39m\u001b[38;5;124m'\u001b[39m]],\n\u001b[1;32m     23\u001b[0m     \u001b[38;5;124m'\u001b[39m\u001b[38;5;124mtransmission\u001b[39m\u001b[38;5;124m'\u001b[39m: transmission_dict[car_info_dict_ru[\u001b[38;5;124m'\u001b[39m\u001b[38;5;124mКоробка\u001b[39m\u001b[38;5;124m'\u001b[39m]],\n\u001b[1;32m     24\u001b[0m     \u001b[38;5;124m'\u001b[39m\u001b[38;5;124mpower\u001b[39m\u001b[38;5;124m'\u001b[39m: \u001b[38;5;28mint\u001b[39m(re\u001b[38;5;241m.\u001b[39mfindall(\u001b[38;5;124m'\u001b[39m\u001b[38;5;124m\\\u001b[39m\u001b[38;5;124md+\u001b[39m\u001b[38;5;124m'\u001b[39m, car_info_dict_ru[\u001b[38;5;124m'\u001b[39m\u001b[38;5;124mМощность\u001b[39m\u001b[38;5;124m'\u001b[39m])[\u001b[38;5;241m0\u001b[39m]),\n\u001b[1;32m     25\u001b[0m     \u001b[38;5;124m'\u001b[39m\u001b[38;5;124mpower_kvt\u001b[39m\u001b[38;5;124m'\u001b[39m: \u001b[38;5;28mint\u001b[39m(re\u001b[38;5;241m.\u001b[39mfindall(\u001b[38;5;124m'\u001b[39m\u001b[38;5;124m\\\u001b[39m\u001b[38;5;124md+\u001b[39m\u001b[38;5;124m'\u001b[39m, car_info_dict_ru[\u001b[38;5;124m'\u001b[39m\u001b[38;5;124mМаксимальная мощность, л.с./кВт при об/мин\u001b[39m\u001b[38;5;124m'\u001b[39m])[\u001b[38;5;241m1\u001b[39m]),\n\u001b[1;32m     26\u001b[0m     \u001b[38;5;124m'\u001b[39m\u001b[38;5;124macceleration\u001b[39m\u001b[38;5;124m'\u001b[39m: car_info_dict_ru\u001b[38;5;241m.\u001b[39mget(\u001b[38;5;124m'\u001b[39m\u001b[38;5;124mРазгон до 100 км/ч, с\u001b[39m\u001b[38;5;124m'\u001b[39m),\n\u001b[1;32m     27\u001b[0m     \u001b[38;5;124m'\u001b[39m\u001b[38;5;124mclearance_min\u001b[39m\u001b[38;5;124m'\u001b[39m: \u001b[38;5;28mmin\u001b[39m(\u001b[38;5;28mmap\u001b[39m(\u001b[38;5;28mint\u001b[39m, re\u001b[38;5;241m.\u001b[39mfindall(\u001b[38;5;124m'\u001b[39m\u001b[38;5;124m\\\u001b[39m\u001b[38;5;124md+\u001b[39m\u001b[38;5;124m'\u001b[39m, car_info_dict_ru[\u001b[38;5;124m'\u001b[39m\u001b[38;5;124mКлиренс\u001b[39m\u001b[38;5;124m'\u001b[39m]))),\n\u001b[0;32m---> 28\u001b[0m     \u001b[38;5;124m'\u001b[39m\u001b[38;5;124mfuel_rate\u001b[39m\u001b[38;5;124m'\u001b[39m: \u001b[38;5;28mfloat\u001b[39m(\u001b[43mcar_info_dict_ru\u001b[49m\u001b[43m[\u001b[49m\u001b[38;5;124;43m'\u001b[39;49m\u001b[38;5;124;43mРасход топлива, л город/трасса/смешанный\u001b[39;49m\u001b[38;5;124;43m'\u001b[39;49m\u001b[43m]\u001b[49m\u001b[38;5;241m.\u001b[39msplit(\u001b[38;5;124m'\u001b[39m\u001b[38;5;124m/\u001b[39m\u001b[38;5;124m'\u001b[39m)[\u001b[38;5;241m2\u001b[39m])\n\u001b[1;32m     29\u001b[0m }\n\u001b[1;32m     31\u001b[0m url2 \u001b[38;5;241m=\u001b[39m url\u001b[38;5;241m.\u001b[39mreplace(\u001b[38;5;124m'\u001b[39m\u001b[38;5;124mspecifications\u001b[39m\u001b[38;5;124m'\u001b[39m, \u001b[38;5;124m'\u001b[39m\u001b[38;5;124mequipment\u001b[39m\u001b[38;5;124m'\u001b[39m)\n\u001b[1;32m     33\u001b[0m driver\u001b[38;5;241m.\u001b[39mget(url2)\n",
      "\u001b[0;31mKeyError\u001b[0m: 'Расход топлива, л город/трасса/смешанный'"
     ]
    }
   ],
   "source": [
    "for car_url in tqdm(valid_data['catalog_url'].value_counts().index.tolist()):\n",
    "    try:\n",
    "        catalog_data = catalog_data.append(get_dicts_from_catalog(car_url), ignore_index=True)\n",
    "    except NoSuchElementException:\n",
    "        print('Error 404', end='\\r')"
   ]
  },
  {
   "cell_type": "code",
   "execution_count": null,
   "id": "753360d2",
   "metadata": {},
   "outputs": [],
   "source": [
    "# valid_data.to_pickle(\"data/20220326_valid_data.pkl.zip\", compression=\"zip\")\n",
    "catalog_data.to_pickle(\"data/20220327_catalog_lo_shkoda_audi_honda_volvo.pkl.zip\", compression=\"zip\")"
   ]
  },
  {
   "cell_type": "code",
   "execution_count": null,
   "id": "d0fa3095",
   "metadata": {},
   "outputs": [],
   "source": [
    "\n",
    "print(\"super gen 2\", catalog_data[\"super_gen_2\"][5], sep=\"\\n\")\n",
    "print(\"super gen 3\", catalog_data[\"super_gen_3\"][5], sep=\"\\n\")"
   ]
  },
  {
   "cell_type": "markdown",
   "id": "eb13292a",
   "metadata": {},
   "source": [
    "to extract\n",
    "\n",
    "- super gen 2: power_kvt, acceleration, clearance_min, fuel_rate\n",
    "- super gen 3: mark, model, class, year, group\n",
    "\n",
    "join by\n",
    "\n",
    "- model\n",
    "- mark\n",
    "- year"
   ]
  },
  {
   "cell_type": "code",
   "execution_count": null,
   "id": "3435875c",
   "metadata": {},
   "outputs": [],
   "source": []
  }
 ],
 "metadata": {
  "kernelspec": {
   "display_name": "Python 3 (ipykernel)",
   "language": "python",
   "name": "python3"
  },
  "language_info": {
   "codemirror_mode": {
    "name": "ipython",
    "version": 3
   },
   "file_extension": ".py",
   "mimetype": "text/x-python",
   "name": "python",
   "nbconvert_exporter": "python",
   "pygments_lexer": "ipython3",
   "version": "3.9.2"
  }
 },
 "nbformat": 4,
 "nbformat_minor": 5
}
