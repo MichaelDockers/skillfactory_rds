{
 "cells": [
  {
   "cell_type": "markdown",
   "metadata": {},
   "source": [
    "- [previous file - EDA](2022-03-31_train-test_EDA.ipynb)\n",
    "- [previous file - sklearn experiments](2022-04-12_experiments-sklearn.ipynb)\n",
    "- [next file - ensembles](2022-04-15_ensemble.ipynb)\n",
    "\n",
    "## imports"
   ]
  },
  {
   "cell_type": "code",
   "execution_count": 1,
   "metadata": {},
   "outputs": [],
   "source": [
    "# !pip install catboost optuna joblib pyarrow"
   ]
  },
  {
   "cell_type": "code",
   "execution_count": 1,
   "metadata": {},
   "outputs": [],
   "source": [
    "from warnings import filterwarnings\n",
    "import os\n",
    "import pickle\n",
    "\n",
    "import joblib\n",
    "import pandas as pd\n",
    "import numpy as np\n",
    "import seaborn as sns\n",
    "import matplotlib.pyplot as plt\n",
    "from sklearn.preprocessing import RobustScaler, LabelEncoder\n",
    "from catboost import CatBoostRegressor\n",
    "import optuna\n",
    "from sklearn.model_selection import train_test_split, cross_val_score\n",
    "from sklearn.metrics import mean_absolute_percentage_error\n",
    "\n",
    "sns.set()\n",
    "filterwarnings(\"ignore\")"
   ]
  },
  {
   "cell_type": "markdown",
   "metadata": {},
   "source": [
    "## preprocessing"
   ]
  },
  {
   "cell_type": "markdown",
   "metadata": {},
   "source": [
    "### reading data"
   ]
  },
  {
   "cell_type": "code",
   "execution_count": 2,
   "metadata": {},
   "outputs": [
    {
     "data": {
      "text/plain": [
       "((115367, 30), (34686, 28))"
      ]
     },
     "execution_count": 2,
     "metadata": {},
     "output_type": "execute_result"
    }
   ],
   "source": [
    "path_to_data = \"data\"\n",
    "# path_to_data = \"https://github.com/XelorR/sf_project_6/raw/master/data\"\n",
    "\n",
    "train_raw = pd.read_parquet(f\"{path_to_data}/2022-04-08_train_pre-model.parquet\")\n",
    "test_raw = pd.read_parquet(f\"{path_to_data}/2022-04-08_test_pre-model.parquet\")\n",
    "\n",
    "train_raw.shape, test_raw.shape"
   ]
  },
  {
   "cell_type": "markdown",
   "metadata": {},
   "source": [
    "### functions"
   ]
  },
  {
   "cell_type": "code",
   "execution_count": 3,
   "metadata": {},
   "outputs": [],
   "source": [
    "def train_or_load(clf, X, y, filepath: str = \"model.joblib\", complevel: int = 9):\n",
    "    \"\"\"\n",
    "    Fits and serialize model as .pkl, .pickle or .joblib file.\n",
    "    Loads serialized model if filepath exists.\n",
    "\n",
    "    clf - model to fit\n",
    "    X - dateset\n",
    "    y - lables\n",
    "    filepath - where to save\n",
    "    complevel - compression level (0-9) for joblib, ignored for pickle\n",
    "    \"\"\"\n",
    "    if filepath.endswith(\".joblib\"):\n",
    "        if os.path.exists(filepath):\n",
    "            with open(filepath, \"rb\") as f:\n",
    "                clf = joblib.load(f)\n",
    "        else:\n",
    "            clf.fit(X, y)\n",
    "            with open(filepath, \"wb\") as f:\n",
    "                joblib.dump(clf, f, compress=complevel)\n",
    "        return clf\n",
    "    elif filepath.endswith(\".pkl\") or filepath.endswith(\".pickle\"):\n",
    "        if os.path.exists(filepath):\n",
    "            with open(filepath, \"rb\") as f:\n",
    "                clf = pickle.load(f)\n",
    "        else:\n",
    "            clf.fit(X, y)\n",
    "            with open(filepath, \"wb\") as f:\n",
    "                pickle.dump(clf, f)\n",
    "        return clf\n",
    "\n",
    "\n",
    "def submit(hold_out: pd.DataFrame, model, name=\"submission\"):\n",
    "    preds = model.predict(hold_out)\n",
    "    submission = pd.read_csv(f\"{path_to_data}/sample_submission.csv\")\n",
    "    submission[\"price\"] = preds\n",
    "    submission.to_csv(f\"{name}.csv\", index=False)\n",
    "\n",
    "\n",
    "def submit_log(hold_out: pd.DataFrame, model, name=\"submission\"):\n",
    "    preds = model.predict(hold_out)\n",
    "    submission = pd.read_csv(f\"{path_to_data}/sample_submission.csv\")\n",
    "    submission[\"price\"] = np.exp(preds)\n",
    "    submission.to_csv(f\"{name}.csv\", index=False)"
   ]
  },
  {
   "cell_type": "markdown",
   "metadata": {},
   "source": [
    "### encoding"
   ]
  },
  {
   "cell_type": "code",
   "execution_count": 4,
   "metadata": {},
   "outputs": [],
   "source": [
    "train_raw[\"train/test\"] = \"train\"\n",
    "test_raw[\"train/test\"] = \"test\"\n",
    "\n",
    "data = train_raw.append(test_raw)\n",
    "data[\"ptc\"].fillna(\"Оригинал\", inplace=True)\n",
    "\n",
    "data[data.select_dtypes(\"object\").columns.tolist()] = data[\n",
    "    data.select_dtypes(\"object\").columns.tolist()\n",
    "].astype(str)\n",
    "\n",
    "for col in set(data.select_dtypes(exclude=(\"object\")).columns) - {\"price\"}:\n",
    "    data[col] = (\n",
    "        RobustScaler().fit_transform(data[col].values.reshape(-1, 1)).reshape(-1, 1)\n",
    "    )\n",
    "\n",
    "for col in [\"model_name\"]:\n",
    "    data[col] = LabelEncoder().fit_transform(data[col].astype(\"str\"))\n",
    "\n",
    "data = pd.get_dummies(\n",
    "    data,\n",
    "    columns=[\n",
    "        \"vehicle_transmission\",\n",
    "        \"vendor\",\n",
    "        \"brand\",\n",
    "        \"fuel_type\",\n",
    "        \"body_type\",\n",
    "        \"color\",\n",
    "        \"ptc\",\n",
    "        \"drive\",\n",
    "        \"wheel\",\n",
    "        \"age_cat\",\n",
    "    ],\n",
    ")\n",
    "\n",
    "train = data.loc[data[\"train/test\"] == \"train\"]\n",
    "\n",
    "train_jane = train.loc[train[\"sample\"] == \"jane\"]\n",
    "train_sokolov = train.loc[train[\"sample\"] == \"sokolov\"]\n",
    "train_jane[\"price\"] = train_jane[\"price\"] * 0.86\n",
    "train = train_jane.append(train_sokolov)\n",
    "\n",
    "train.drop(columns=[\"sample\", \"description\", \"train/test\"], inplace=True)\n",
    "test = data.loc[data[\"train/test\"] == \"test\"].drop(\n",
    "    columns=[\"sample\", \"description\", \"train/test\", \"price\"]\n",
    ")"
   ]
  },
  {
   "cell_type": "markdown",
   "metadata": {},
   "source": [
    "## preparing but not encoding"
   ]
  },
  {
   "cell_type": "code",
   "execution_count": 5,
   "metadata": {},
   "outputs": [],
   "source": [
    "train_raw[\"train/test\"] = \"train\"\n",
    "test_raw[\"train/test\"] = \"test\"\n",
    "\n",
    "data_no_enc = train_raw.append(test_raw)\n",
    "data_no_enc[\"ptc\"].fillna(\"Оригинал\", inplace=True)\n",
    "\n",
    "data_no_enc[data_no_enc.select_dtypes(\"object\").columns.tolist()] = data_no_enc[\n",
    "    data_no_enc.select_dtypes(\"object\").columns.tolist()\n",
    "].astype(str)\n",
    "\n",
    "for col in [\"number_of_doors\", \"production_year\", \"model_year\", \"owners\"]:\n",
    "    data_no_enc[col] = data_no_enc[col].astype(int)\n",
    "\n",
    "train_no_enc = data_no_enc.loc[data_no_enc[\"train/test\"] == \"train\"]\n",
    "\n",
    "train_no_enc_jane = train_no_enc.loc[train_no_enc[\"sample\"] == \"jane\"]\n",
    "train_no_enc_sokolov = train_no_enc.loc[train_no_enc[\"sample\"] == \"sokolov\"]\n",
    "train_no_enc_jane[\"price\"] = train_no_enc_jane[\"price\"] * 0.86\n",
    "train_no_enc = train_no_enc_jane.append(train_no_enc_sokolov)\n",
    "\n",
    "train_no_enc.drop(columns=[\"sample\", \"description\", \"train/test\"], inplace=True)\n",
    "test_no_enc = data_no_enc.loc[data_no_enc[\"train/test\"] == \"test\"].drop(\n",
    "    columns=[\"sample\", \"description\", \"train/test\", \"price\"]\n",
    ")\n"
   ]
  },
  {
   "cell_type": "code",
   "execution_count": 6,
   "metadata": {},
   "outputs": [
    {
     "data": {
      "text/html": [
       "<div>\n",
       "<style scoped>\n",
       "    .dataframe tbody tr th:only-of-type {\n",
       "        vertical-align: middle;\n",
       "    }\n",
       "\n",
       "    .dataframe tbody tr th {\n",
       "        vertical-align: top;\n",
       "    }\n",
       "\n",
       "    .dataframe thead th {\n",
       "        text-align: right;\n",
       "    }\n",
       "</style>\n",
       "<table border=\"1\" class=\"dataframe\">\n",
       "  <thead>\n",
       "    <tr style=\"text-align: right;\">\n",
       "      <th></th>\n",
       "      <th>index</th>\n",
       "      <th>84022</th>\n",
       "      <th>64128</th>\n",
       "      <th>64226</th>\n",
       "      <th>43487</th>\n",
       "      <th>2657</th>\n",
       "    </tr>\n",
       "  </thead>\n",
       "  <tbody>\n",
       "    <tr>\n",
       "      <th>0</th>\n",
       "      <td>body_type</td>\n",
       "      <td>внедорожник</td>\n",
       "      <td>седан</td>\n",
       "      <td>седан</td>\n",
       "      <td>хэтчбек</td>\n",
       "      <td>хэтчбек</td>\n",
       "    </tr>\n",
       "    <tr>\n",
       "      <th>1</th>\n",
       "      <td>brand</td>\n",
       "      <td>PORSCHE</td>\n",
       "      <td>KIA</td>\n",
       "      <td>KIA</td>\n",
       "      <td>CHEVROLET</td>\n",
       "      <td>SKODA</td>\n",
       "    </tr>\n",
       "    <tr>\n",
       "      <th>2</th>\n",
       "      <td>color</td>\n",
       "      <td>белый</td>\n",
       "      <td>белый</td>\n",
       "      <td>белый</td>\n",
       "      <td>синий</td>\n",
       "      <td>красный</td>\n",
       "    </tr>\n",
       "    <tr>\n",
       "      <th>3</th>\n",
       "      <td>engine_displacement</td>\n",
       "      <td>3.0</td>\n",
       "      <td>1.4</td>\n",
       "      <td>1.4</td>\n",
       "      <td>1.6</td>\n",
       "      <td>1.2</td>\n",
       "    </tr>\n",
       "    <tr>\n",
       "      <th>4</th>\n",
       "      <td>engine_power</td>\n",
       "      <td>245.0</td>\n",
       "      <td>107.0</td>\n",
       "      <td>107.0</td>\n",
       "      <td>109.0</td>\n",
       "      <td>60.0</td>\n",
       "    </tr>\n",
       "    <tr>\n",
       "      <th>5</th>\n",
       "      <td>fuel_type</td>\n",
       "      <td>дизель</td>\n",
       "      <td>бензин</td>\n",
       "      <td>бензин</td>\n",
       "      <td>бензин</td>\n",
       "      <td>бензин</td>\n",
       "    </tr>\n",
       "    <tr>\n",
       "      <th>6</th>\n",
       "      <td>km_age</td>\n",
       "      <td>120676.0</td>\n",
       "      <td>53600.0</td>\n",
       "      <td>68793.0</td>\n",
       "      <td>181000.0</td>\n",
       "      <td>286000.0</td>\n",
       "    </tr>\n",
       "    <tr>\n",
       "      <th>7</th>\n",
       "      <td>model_year</td>\n",
       "      <td>2010</td>\n",
       "      <td>2015</td>\n",
       "      <td>2015</td>\n",
       "      <td>2004</td>\n",
       "      <td>2007</td>\n",
       "    </tr>\n",
       "    <tr>\n",
       "      <th>8</th>\n",
       "      <td>model_name</td>\n",
       "      <td>CAYENNE</td>\n",
       "      <td>RIO</td>\n",
       "      <td>RIO</td>\n",
       "      <td>LACETTI</td>\n",
       "      <td>FABIA</td>\n",
       "    </tr>\n",
       "    <tr>\n",
       "      <th>9</th>\n",
       "      <td>number_of_doors</td>\n",
       "      <td>5</td>\n",
       "      <td>4</td>\n",
       "      <td>4</td>\n",
       "      <td>5</td>\n",
       "      <td>5</td>\n",
       "    </tr>\n",
       "    <tr>\n",
       "      <th>10</th>\n",
       "      <td>production_year</td>\n",
       "      <td>2012</td>\n",
       "      <td>2016</td>\n",
       "      <td>2015</td>\n",
       "      <td>2007</td>\n",
       "      <td>2008</td>\n",
       "    </tr>\n",
       "    <tr>\n",
       "      <th>11</th>\n",
       "      <td>vehicle_transmission</td>\n",
       "      <td>AUTOMATIC</td>\n",
       "      <td>MECHANICAL</td>\n",
       "      <td>AUTOMATIC</td>\n",
       "      <td>AUTOMATIC</td>\n",
       "      <td>MECHANICAL</td>\n",
       "    </tr>\n",
       "    <tr>\n",
       "      <th>12</th>\n",
       "      <td>vendor</td>\n",
       "      <td>EUROPEAN</td>\n",
       "      <td>KOREAN</td>\n",
       "      <td>KOREAN</td>\n",
       "      <td>AMERICAN</td>\n",
       "      <td>EUROPEAN</td>\n",
       "    </tr>\n",
       "    <tr>\n",
       "      <th>13</th>\n",
       "      <td>owners</td>\n",
       "      <td>2</td>\n",
       "      <td>1</td>\n",
       "      <td>1</td>\n",
       "      <td>3</td>\n",
       "      <td>3</td>\n",
       "    </tr>\n",
       "    <tr>\n",
       "      <th>14</th>\n",
       "      <td>ptc</td>\n",
       "      <td>Оригинал</td>\n",
       "      <td>Оригинал</td>\n",
       "      <td>Оригинал</td>\n",
       "      <td>Оригинал</td>\n",
       "      <td>Оригинал</td>\n",
       "    </tr>\n",
       "    <tr>\n",
       "      <th>15</th>\n",
       "      <td>drive</td>\n",
       "      <td>полный</td>\n",
       "      <td>передний</td>\n",
       "      <td>передний</td>\n",
       "      <td>передний</td>\n",
       "      <td>передний</td>\n",
       "    </tr>\n",
       "    <tr>\n",
       "      <th>16</th>\n",
       "      <td>wheel</td>\n",
       "      <td>Левый</td>\n",
       "      <td>Левый</td>\n",
       "      <td>Левый</td>\n",
       "      <td>Левый</td>\n",
       "      <td>Левый</td>\n",
       "    </tr>\n",
       "    <tr>\n",
       "      <th>17</th>\n",
       "      <td>price</td>\n",
       "      <td>2095800.0</td>\n",
       "      <td>489000.0</td>\n",
       "      <td>550000.0</td>\n",
       "      <td>260000.0</td>\n",
       "      <td>240800.0</td>\n",
       "    </tr>\n",
       "    <tr>\n",
       "      <th>18</th>\n",
       "      <td>parsed_date</td>\n",
       "      <td>2020-09-09 00:00:00</td>\n",
       "      <td>2020-09-09 00:00:00</td>\n",
       "      <td>2020-09-09 00:00:00</td>\n",
       "      <td>2020-09-09 00:00:00</td>\n",
       "      <td>2021-09-26 00:00:00</td>\n",
       "    </tr>\n",
       "    <tr>\n",
       "      <th>19</th>\n",
       "      <td>diff_data</td>\n",
       "      <td>3174.0</td>\n",
       "      <td>1713.0</td>\n",
       "      <td>2078.0</td>\n",
       "      <td>5000.0</td>\n",
       "      <td>5017.0</td>\n",
       "    </tr>\n",
       "    <tr>\n",
       "      <th>20</th>\n",
       "      <td>diff_data_years</td>\n",
       "      <td>8.69589</td>\n",
       "      <td>4.693151</td>\n",
       "      <td>5.693151</td>\n",
       "      <td>13.69863</td>\n",
       "      <td>13.745205</td>\n",
       "    </tr>\n",
       "    <tr>\n",
       "      <th>21</th>\n",
       "      <td>age_cat</td>\n",
       "      <td>not_bad</td>\n",
       "      <td>may_be_on_garant</td>\n",
       "      <td>not_bad</td>\n",
       "      <td>med</td>\n",
       "      <td>med</td>\n",
       "    </tr>\n",
       "    <tr>\n",
       "      <th>22</th>\n",
       "      <td>retro</td>\n",
       "      <td>0</td>\n",
       "      <td>0</td>\n",
       "      <td>0</td>\n",
       "      <td>0</td>\n",
       "      <td>0</td>\n",
       "    </tr>\n",
       "    <tr>\n",
       "      <th>23</th>\n",
       "      <td>most_wanted</td>\n",
       "      <td>0</td>\n",
       "      <td>0</td>\n",
       "      <td>0</td>\n",
       "      <td>0</td>\n",
       "      <td>0</td>\n",
       "    </tr>\n",
       "    <tr>\n",
       "      <th>24</th>\n",
       "      <td>good_cond</td>\n",
       "      <td>0</td>\n",
       "      <td>1</td>\n",
       "      <td>0</td>\n",
       "      <td>0</td>\n",
       "      <td>0</td>\n",
       "    </tr>\n",
       "    <tr>\n",
       "      <th>25</th>\n",
       "      <td>km_per_year</td>\n",
       "      <td>13877.359798</td>\n",
       "      <td>11420.899008</td>\n",
       "      <td>12083.467276</td>\n",
       "      <td>13213.0</td>\n",
       "      <td>20807.255332</td>\n",
       "    </tr>\n",
       "    <tr>\n",
       "      <th>26</th>\n",
       "      <td>desc_count</td>\n",
       "      <td>165</td>\n",
       "      <td>34</td>\n",
       "      <td>83</td>\n",
       "      <td>35</td>\n",
       "      <td>13</td>\n",
       "    </tr>\n",
       "    <tr>\n",
       "      <th>27</th>\n",
       "      <td>dealer</td>\n",
       "      <td>1</td>\n",
       "      <td>0</td>\n",
       "      <td>1</td>\n",
       "      <td>0</td>\n",
       "      <td>0</td>\n",
       "    </tr>\n",
       "  </tbody>\n",
       "</table>\n",
       "</div>"
      ],
      "text/plain": [
       "                   index                84022                64128  \\\n",
       "0              body_type          внедорожник                седан   \n",
       "1                  brand              PORSCHE                  KIA   \n",
       "2                  color                белый                белый   \n",
       "3    engine_displacement                  3.0                  1.4   \n",
       "4           engine_power                245.0                107.0   \n",
       "5              fuel_type               дизель               бензин   \n",
       "6                 km_age             120676.0              53600.0   \n",
       "7             model_year                 2010                 2015   \n",
       "8             model_name              CAYENNE                  RIO   \n",
       "9        number_of_doors                    5                    4   \n",
       "10       production_year                 2012                 2016   \n",
       "11  vehicle_transmission            AUTOMATIC           MECHANICAL   \n",
       "12                vendor             EUROPEAN               KOREAN   \n",
       "13                owners                    2                    1   \n",
       "14                   ptc             Оригинал             Оригинал   \n",
       "15                 drive               полный             передний   \n",
       "16                 wheel                Левый                Левый   \n",
       "17                 price            2095800.0             489000.0   \n",
       "18           parsed_date  2020-09-09 00:00:00  2020-09-09 00:00:00   \n",
       "19             diff_data               3174.0               1713.0   \n",
       "20       diff_data_years              8.69589             4.693151   \n",
       "21               age_cat              not_bad     may_be_on_garant   \n",
       "22                 retro                    0                    0   \n",
       "23           most_wanted                    0                    0   \n",
       "24             good_cond                    0                    1   \n",
       "25           km_per_year         13877.359798         11420.899008   \n",
       "26            desc_count                  165                   34   \n",
       "27                dealer                    1                    0   \n",
       "\n",
       "                  64226                43487                 2657  \n",
       "0                 седан              хэтчбек              хэтчбек  \n",
       "1                   KIA            CHEVROLET                SKODA  \n",
       "2                 белый                синий              красный  \n",
       "3                   1.4                  1.6                  1.2  \n",
       "4                 107.0                109.0                 60.0  \n",
       "5                бензин               бензин               бензин  \n",
       "6               68793.0             181000.0             286000.0  \n",
       "7                  2015                 2004                 2007  \n",
       "8                   RIO              LACETTI                FABIA  \n",
       "9                     4                    5                    5  \n",
       "10                 2015                 2007                 2008  \n",
       "11            AUTOMATIC            AUTOMATIC           MECHANICAL  \n",
       "12               KOREAN             AMERICAN             EUROPEAN  \n",
       "13                    1                    3                    3  \n",
       "14             Оригинал             Оригинал             Оригинал  \n",
       "15             передний             передний             передний  \n",
       "16                Левый                Левый                Левый  \n",
       "17             550000.0             260000.0             240800.0  \n",
       "18  2020-09-09 00:00:00  2020-09-09 00:00:00  2021-09-26 00:00:00  \n",
       "19               2078.0               5000.0               5017.0  \n",
       "20             5.693151             13.69863            13.745205  \n",
       "21              not_bad                  med                  med  \n",
       "22                    0                    0                    0  \n",
       "23                    0                    0                    0  \n",
       "24                    0                    0                    0  \n",
       "25         12083.467276              13213.0         20807.255332  \n",
       "26                   83                   35                   13  \n",
       "27                    1                    0                    0  "
      ]
     },
     "execution_count": 6,
     "metadata": {},
     "output_type": "execute_result"
    }
   ],
   "source": [
    "train_no_enc.sample(5, random_state=42).T.reset_index()"
   ]
  },
  {
   "cell_type": "code",
   "execution_count": 7,
   "metadata": {},
   "outputs": [],
   "source": [
    "cat_features = train_no_enc.select_dtypes(\"object\").columns.tolist() + [\"number_of_doors\", \"production_year\", \"model_year\", \"owners\"]"
   ]
  },
  {
   "cell_type": "markdown",
   "metadata": {},
   "source": [
    "### preparing to train models"
   ]
  },
  {
   "cell_type": "code",
   "execution_count": 8,
   "metadata": {},
   "outputs": [],
   "source": [
    "if os.path.exists(\"models\"):\n",
    "    pass\n",
    "else:\n",
    "    os.mkdir(\"models\")"
   ]
  },
  {
   "cell_type": "code",
   "execution_count": 9,
   "metadata": {},
   "outputs": [
    {
     "data": {
      "text/plain": [
       "((86525, 112), (86525,), (28842, 112), (28842,))"
      ]
     },
     "execution_count": 9,
     "metadata": {},
     "output_type": "execute_result"
    }
   ],
   "source": [
    "X_train, X_valid, y_train, y_valid = train_test_split(\n",
    "    train.drop(columns=\"price\"), train[\"price\"], random_state=42, shuffle=True\n",
    ")\n",
    "X_train.shape, y_train.shape, X_valid.shape, y_valid.shape"
   ]
  },
  {
   "cell_type": "code",
   "execution_count": 10,
   "metadata": {},
   "outputs": [
    {
     "data": {
      "text/plain": [
       "((86525, 27), (86525,), (28842, 27), (28842,))"
      ]
     },
     "execution_count": 10,
     "metadata": {},
     "output_type": "execute_result"
    }
   ],
   "source": [
    "X_train_no_enc, X_valid_no_enc, y_train_no_enc, y_valid_no_enc = train_test_split(\n",
    "    train_no_enc.drop(columns=\"price\"), train_no_enc[\"price\"], random_state=42, shuffle=True\n",
    ")\n",
    "X_train_no_enc.shape, y_train_no_enc.shape, X_valid_no_enc.shape, y_valid_no_enc.shape"
   ]
  },
  {
   "cell_type": "markdown",
   "metadata": {},
   "source": [
    "## tuning\n",
    "\n",
    "### is it faster on GPU?\n",
    "\n",
    "![](img/catboost_on_gpu.png)\n",
    "\n",
    "it is **faster on GPU** even using laptop's intergrated Nvidia GTX 970 M."
   ]
  },
  {
   "cell_type": "markdown",
   "metadata": {},
   "source": [
    "### "
   ]
  },
  {
   "cell_type": "markdown",
   "metadata": {},
   "source": [
    "### is it better to do manual cat encoding or keep raw?"
   ]
  },
  {
   "cell_type": "code",
   "execution_count": 13,
   "metadata": {},
   "outputs": [
    {
     "name": "stdout",
     "output_type": "stream",
     "text": [
      "no preproc 0.12735813649094016\n"
     ]
    }
   ],
   "source": [
    "model = CatBoostRegressor(\n",
    "    random_state=42, cat_features=cat_features, silent=True\n",
    ").fit(\n",
    "    X_train_no_enc,\n",
    "    np.log(y_train_no_enc),\n",
    ")\n",
    "\n",
    "print(\n",
    "    \"no preproc\",\n",
    "    mean_absolute_percentage_error(y_valid, np.exp(model.predict(X_valid_no_enc))),\n",
    ")\n",
    "\n",
    "submit_log(test_no_enc, model, \"catboost_no_enc\")\n",
    "# kaggle 13.62435"
   ]
  },
  {
   "cell_type": "code",
   "execution_count": 13,
   "metadata": {},
   "outputs": [
    {
     "name": "stdout",
     "output_type": "stream",
     "text": [
      "with preproc 0.1290266580669888\n"
     ]
    }
   ],
   "source": [
    "model = CatBoostRegressor(random_state=42, silent=True).fit(\n",
    "    X_train, np.log(y_train)\n",
    ")\n",
    "\n",
    "print(\n",
    "    \"with preproc\",\n",
    "    mean_absolute_percentage_error(y_valid, np.exp(model.predict(X_valid))),\n",
    ")"
   ]
  },
  {
   "cell_type": "markdown",
   "metadata": {},
   "source": [
    "yes"
   ]
  },
  {
   "cell_type": "markdown",
   "metadata": {},
   "source": [
    "## experiments"
   ]
  },
  {
   "cell_type": "code",
   "execution_count": 12,
   "metadata": {},
   "outputs": [
    {
     "name": "stderr",
     "output_type": "stream",
     "text": [
      "Custom logger is already specified. Specify more than one logger at same time is not thread safe."
     ]
    },
    {
     "name": "stdout",
     "output_type": "stream",
     "text": [
      "no log 0.15672825646901226\n"
     ]
    }
   ],
   "source": [
    "model = CatBoostRegressor(\n",
    "    random_state=42, cat_features=cat_features, silent=True,\n",
    ").fit(\n",
    "    X_train_no_enc,\n",
    "    y_train_no_enc,\n",
    ")\n",
    "\n",
    "print(\n",
    "    \"no log\",\n",
    "    mean_absolute_percentage_error(y_valid, model.predict(X_valid_no_enc)),\n",
    ")"
   ]
  },
  {
   "cell_type": "code",
   "execution_count": 15,
   "metadata": {},
   "outputs": [
    {
     "name": "stderr",
     "output_type": "stream",
     "text": [
      "\u001b[32m[I 2022-04-18 00:18:05,783]\u001b[0m Using an existing study with name 'CatBoostClassifier' instead of creating a new one.\u001b[0m\n"
     ]
    }
   ],
   "source": [
    "def objective(trial):\n",
    "\n",
    "    param = {\n",
    "        \"silent\": True,\n",
    "        \"random_state\": 42,\n",
    "        \"cat_features\": cat_features,\n",
    "        # \"task_type\": \"GPU\",\n",
    "        # \"devices\": \"0\",\n",
    "        \"objective\": trial.suggest_categorical(\"objective\", [\"MAPE\", \"RMSE\"]),\n",
    "        \"colsample_bylevel\": trial.suggest_float(\"colsample_bylevel\", 0.01, 0.1),\n",
    "        \"depth\": trial.suggest_int(\"depth\", 1, 15),\n",
    "        \"boosting_type\": trial.suggest_categorical(\"boosting_type\", [\"Ordered\", \"Plain\"]),\n",
    "        \"bootstrap_type\": trial.suggest_categorical(\"bootstrap_type\", [\"Bayesian\", \"Bernoulli\", \"MVS\"]),\n",
    "    }\n",
    "\n",
    "    if param[\"bootstrap_type\"] == \"Bayesian\":\n",
    "        param[\"bagging_temperature\"] = trial.suggest_float(\"bagging_temperature\", 0, 10)\n",
    "    elif param[\"bootstrap_type\"] == \"Bernoulli\":\n",
    "        param[\"subsample\"] = trial.suggest_float(\"subsample\", 0.1, 1)\n",
    "\n",
    "    gbm = CatBoostRegressor(**param)\n",
    "    neg_mape_cv = cross_val_score(gbm, X_train_no_enc, np.log(y_train_no_enc), cv=8, scoring=\"neg_mean_absolute_percentage_error\", n_jobs=-1)\n",
    "\n",
    "    return np.mean(neg_mape_cv)\n",
    "\n",
    "\n",
    "study = optuna.create_study(\n",
    "    direction=\"maximize\",\n",
    "    storage=\"sqlite:///CatBoostClassifier_no_cat_preproc.db\",\n",
    "    study_name=\"CatBoostClassifier\",\n",
    "    load_if_exists=True,\n",
    ")\n",
    "study.optimize(objective, timeout=6000000) #, n_trials=1)"
   ]
  },
  {
   "cell_type": "code",
   "execution_count": null,
   "metadata": {},
   "outputs": [
    {
     "name": "stderr",
     "output_type": "stream",
     "text": [
      "\u001b[32m[I 2022-04-18 00:08:01,749]\u001b[0m A new study created in RDB with name: CatBoostClassifier\u001b[0m\n"
     ]
    }
   ],
   "source": [
    "def objective(trial):\n",
    "\n",
    "    param = {\n",
    "        \"silent\": True,\n",
    "        \"random_state\": 42,\n",
    "        # \"task_type\": \"GPU\",\n",
    "        # \"devices\": \"0\",\n",
    "        \"objective\": trial.suggest_categorical(\"objective\", [\"MAPE\", \"RMSE\"]),\n",
    "        \"colsample_bylevel\": trial.suggest_float(\"colsample_bylevel\", 0.01, 0.1),\n",
    "        \"depth\": trial.suggest_int(\"depth\", 1, 15),\n",
    "        \"boosting_type\": trial.suggest_categorical(\"boosting_type\", [\"Ordered\", \"Plain\"]),\n",
    "        \"bootstrap_type\": trial.suggest_categorical(\"bootstrap_type\", [\"Bayesian\", \"Bernoulli\", \"MVS\"]),\n",
    "    }\n",
    "\n",
    "    if param[\"bootstrap_type\"] == \"Bayesian\":\n",
    "        param[\"bagging_temperature\"] = trial.suggest_float(\"bagging_temperature\", 0, 10)\n",
    "    elif param[\"bootstrap_type\"] == \"Bernoulli\":\n",
    "        param[\"subsample\"] = trial.suggest_float(\"subsample\", 0.1, 1)\n",
    "\n",
    "    gbm = CatBoostRegressor(**param)\n",
    "    neg_mape_cv = cross_val_score(gbm, X_train, np.log(y_train), cv=8, scoring=\"neg_mean_absolute_percentage_error\", n_jobs=-1)\n",
    "\n",
    "    return np.mean(neg_mape_cv)\n",
    "\n",
    "\n",
    "study = optuna.create_study(\n",
    "    direction=\"maximize\",\n",
    "    storage=\"sqlite:///CatBoostClassifier.db\",\n",
    "    study_name=\"CatBoostClassifier\",\n",
    "    load_if_exists=True,\n",
    ")\n",
    "study.optimize(objective, timeout=600, n_trials=3)"
   ]
  }
 ],
 "metadata": {
  "interpreter": {
   "hash": "326a131e1315163df5847284d7bac20ddee532ca1eaccb72a712d33a5c79e104"
  },
  "kernelspec": {
   "display_name": "Python 3.7.13 ('env_ml': venv)",
   "language": "python",
   "name": "python3"
  },
  "language_info": {
   "codemirror_mode": {
    "name": "ipython",
    "version": 3
   },
   "file_extension": ".py",
   "mimetype": "text/x-python",
   "name": "python",
   "nbconvert_exporter": "python",
   "pygments_lexer": "ipython3",
   "version": "3.10.4"
  },
  "orig_nbformat": 4
 },
 "nbformat": 4,
 "nbformat_minor": 2
}
